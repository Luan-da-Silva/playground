{
 "cells": [
  {
   "cell_type": "code",
   "execution_count": 3,
   "id": "94724ae8-c4f2-42e2-98a8-11b4aba811be",
   "metadata": {},
   "outputs": [],
   "source": [
    "from IPython.display import Image\n",
    "from IPython.core.display import HTML"
   ]
  },
  {
   "cell_type": "markdown",
   "id": "188416fb-6a3f-4b23-a7f0-21e203d7daff",
   "metadata": {},
   "source": [
    "# Connecting to the database"
   ]
  },
  {
   "cell_type": "code",
   "execution_count": 1,
   "id": "1bfc74ed-d9ef-4314-b722-69b91a16aebe",
   "metadata": {},
   "outputs": [],
   "source": [
    "from db_tools.setup import setup"
   ]
  },
  {
   "cell_type": "markdown",
   "id": "8656d6cc-9434-458f-a20c-be09fb4f279a",
   "metadata": {},
   "source": [
    "# Getting a spark session"
   ]
  },
  {
   "cell_type": "code",
   "execution_count": 2,
   "id": "1f7b9e7a-6625-4ea5-8fdb-6a9c5ba0af03",
   "metadata": {},
   "outputs": [
    {
     "name": "stderr",
     "output_type": "stream",
     "text": [
      "23/10/25 20:34:27 WARN Utils: Your hostname, luan-Dell-G15-5520 resolves to a loopback address: 127.0.1.1; using 192.168.1.12 instead (on interface wlp0s20f3)\n",
      "23/10/25 20:34:27 WARN Utils: Set SPARK_LOCAL_IP if you need to bind to another address\n",
      "23/10/25 20:34:27 WARN NativeCodeLoader: Unable to load native-hadoop library for your platform... using builtin-java classes where applicable\n",
      "Setting default log level to \"WARN\".\n",
      "To adjust logging level use sc.setLogLevel(newLevel). For SparkR, use setLogLevel(newLevel).\n"
     ]
    },
    {
     "name": "stdout",
     "output_type": "stream",
     "text": [
      "SparkSession available as \"spark\"\n"
     ]
    }
   ],
   "source": [
    "spark = setup()"
   ]
  },
  {
   "cell_type": "code",
   "execution_count": 5,
   "id": "066bdea3-6285-44ae-b0bd-0f014563713b",
   "metadata": {},
   "outputs": [],
   "source": [
    "def show_query(query,SparkSession = spark,n = 20):\n",
    "    return SparkSession.sql(query).show()"
   ]
  },
  {
   "cell_type": "markdown",
   "id": "ac214ae3-e328-4edf-9518-48147f04dcf6",
   "metadata": {},
   "source": [
    "# Reminder: SQL execution order"
   ]
  },
  {
   "cell_type": "markdown",
   "id": "b4c8b4d7-c4ee-41be-ba3e-954671f6d7b2",
   "metadata": {},
   "source": [
    "<center><img width=750 src=\"https://miro.medium.com/v2/resize:fit:749/1*DN0iewN5WFWgrXs5s5cLjQ.jpeg\"/></center>"
   ]
  },
  {
   "cell_type": "markdown",
   "id": "4920062d-dc2f-4221-9ff9-da758d4fe140",
   "metadata": {},
   "source": [
    "# Example 1: GROUP BY without any function aggregate function - works as a SELECT DISTINCT"
   ]
  },
  {
   "cell_type": "code",
   "execution_count": 6,
   "id": "6926d759-4208-4313-a7c6-ea5bbb06abca",
   "metadata": {},
   "outputs": [],
   "source": [
    "query = \"\"\"\n",
    "SELECT\n",
    "   customer_id\n",
    "FROM\n",
    "   payment\n",
    "GROUP BY\n",
    "   customer_id;\n",
    "\"\"\""
   ]
  },
  {
   "cell_type": "code",
   "execution_count": 7,
   "id": "1b088a29-4662-4300-8ddf-3e5894497589",
   "metadata": {},
   "outputs": [
    {
     "name": "stdout",
     "output_type": "stream",
     "text": [
      "+-----------+\n",
      "|customer_id|\n",
      "+-----------+\n",
      "|        463|\n",
      "|        471|\n",
      "|        496|\n",
      "|        148|\n",
      "|        392|\n",
      "|        540|\n",
      "|        243|\n",
      "|        516|\n",
      "|         31|\n",
      "|        451|\n",
      "|        580|\n",
      "|         85|\n",
      "|        137|\n",
      "|        251|\n",
      "|        458|\n",
      "|         65|\n",
      "|        481|\n",
      "|        588|\n",
      "|         53|\n",
      "|        255|\n",
      "+-----------+\n",
      "only showing top 20 rows\n",
      "\n"
     ]
    }
   ],
   "source": [
    "show_query(query)"
   ]
  },
  {
   "cell_type": "markdown",
   "id": "2f070ede-466a-465f-bb79-eb6bd027b8c1",
   "metadata": {},
   "source": [
    "### Comparison between the above query with and without groupby"
   ]
  },
  {
   "cell_type": "code",
   "execution_count": 13,
   "id": "91baf6cb-5687-4d96-a4de-277105e09f00",
   "metadata": {},
   "outputs": [
    {
     "name": "stdout",
     "output_type": "stream",
     "text": [
      "+------------------+\n",
      "|count(customer_id)|\n",
      "+------------------+\n",
      "|               599|\n",
      "+------------------+\n",
      "\n"
     ]
    }
   ],
   "source": [
    "query_with = \"\"\"\n",
    "SELECT COUNT(customer_id)\n",
    "FROM (\n",
    "SELECT\n",
    "   customer_id\n",
    "FROM\n",
    "   payment\n",
    "GROUP BY\n",
    "   customer_id)\n",
    "\"\"\"\n",
    "show_query(query_with)"
   ]
  },
  {
   "cell_type": "code",
   "execution_count": 15,
   "id": "22290245-46cd-4fa9-8b2b-5b4c125d9b86",
   "metadata": {},
   "outputs": [
    {
     "name": "stdout",
     "output_type": "stream",
     "text": [
      "+---------------------------+\n",
      "|count(DISTINCT customer_id)|\n",
      "+---------------------------+\n",
      "|                        599|\n",
      "+---------------------------+\n",
      "\n"
     ]
    }
   ],
   "source": [
    "query_equivalent = \"\"\"\n",
    "SELECT COUNT (DISTINCT customer_id) FROM payment;\n",
    "\"\"\"\n",
    "show_query(query_equivalent)"
   ]
  },
  {
   "cell_type": "code",
   "execution_count": 14,
   "id": "3eb7447e-d572-4f55-90cb-5d74cd67b985",
   "metadata": {},
   "outputs": [
    {
     "name": "stdout",
     "output_type": "stream",
     "text": [
      "+------------------+\n",
      "|count(customer_id)|\n",
      "+------------------+\n",
      "|             14596|\n",
      "+------------------+\n",
      "\n"
     ]
    }
   ],
   "source": [
    "query_without = \"\"\"\n",
    "SELECT COUNT(customer_id)\n",
    "FROM payment\n",
    "\"\"\"\n",
    "show_query(query_without)"
   ]
  },
  {
   "cell_type": "markdown",
   "id": "0b93a68d-2c83-443f-af1d-0fc4ff3051e4",
   "metadata": {},
   "source": [
    "# Example 2: Applying Aggregate functions"
   ]
  },
  {
   "cell_type": "code",
   "execution_count": 20,
   "id": "2dbda1b7-4637-4593-8d92-b59b0285ab5c",
   "metadata": {},
   "outputs": [
    {
     "name": "stdout",
     "output_type": "stream",
     "text": [
      "+-----------+------+\n",
      "|customer_id| total|\n",
      "+-----------+------+\n",
      "|        148|211.55|\n",
      "|        526|208.58|\n",
      "|        178|194.61|\n",
      "|        137|191.62|\n",
      "|        144|189.60|\n",
      "|        459|183.63|\n",
      "|        181|167.67|\n",
      "|        410|167.62|\n",
      "|        236|166.61|\n",
      "|        403|162.67|\n",
      "|        522|161.68|\n",
      "|        469|158.65|\n",
      "|        470|157.69|\n",
      "|        373|156.66|\n",
      "|        259|154.70|\n",
      "|        468|154.66|\n",
      "|        462|152.69|\n",
      "|        372|152.68|\n",
      "|        187|151.73|\n",
      "|        550|151.69|\n",
      "+-----------+------+\n",
      "only showing top 20 rows\n",
      "\n"
     ]
    }
   ],
   "source": [
    "query = \"\"\"\n",
    "SELECT\n",
    "\tcustomer_id,\n",
    "\tSUM(amount) AS total\n",
    "FROM\n",
    "\tpayment\n",
    "GROUP BY\n",
    "\tcustomer_id\n",
    "ORDER BY total DESC\n",
    "\"\"\"\n",
    "show_query(query)"
   ]
  },
  {
   "cell_type": "code",
   "execution_count": 21,
   "id": "97e343db-90aa-428b-b36b-15d43ad60238",
   "metadata": {},
   "outputs": [
    {
     "name": "stdout",
     "output_type": "stream",
     "text": [
      "+---------------+------+\n",
      "|      full_name|amount|\n",
      "+---------------+------+\n",
      "|   Eleanor Hunt|211.55|\n",
      "|      Karl Seal|208.58|\n",
      "|  Marion Snyder|194.61|\n",
      "| Rhonda Kennedy|191.62|\n",
      "|     Clara Shaw|189.60|\n",
      "|  Tommy Collazo|183.63|\n",
      "|    Ana Bradley|167.67|\n",
      "|    Curtis Irby|167.62|\n",
      "|    Marcia Dean|166.61|\n",
      "|       Mike Way|162.67|\n",
      "|  Arnold Havens|161.68|\n",
      "|    Wesley Bull|158.65|\n",
      "|  Gordon Allard|157.69|\n",
      "|    Louis Leone|156.66|\n",
      "|    Lena Jensen|154.70|\n",
      "|       Tim Cary|154.66|\n",
      "| Warren Sherrod|152.69|\n",
      "|Steve Mackenzie|152.68|\n",
      "| Brittany Riley|151.73|\n",
      "|   Guy Brownlee|151.69|\n",
      "+---------------+------+\n",
      "only showing top 20 rows\n",
      "\n"
     ]
    }
   ],
   "source": [
    "query = \"\"\"\n",
    "SELECT\n",
    "\tfirst_name || ' ' || last_name full_name,\n",
    "\tSUM (amount) amount\n",
    "FROM\n",
    "\tpayment\n",
    "INNER JOIN customer USING (customer_id)    \t\n",
    "GROUP BY\n",
    "\tfull_name\n",
    "ORDER BY amount DESC;\n",
    "\"\"\"\n",
    "show_query(query)"
   ]
  },
  {
   "cell_type": "code",
   "execution_count": 23,
   "id": "a20221fe-7bde-44c2-9900-70840f247ced",
   "metadata": {},
   "outputs": [
    {
     "name": "stdout",
     "output_type": "stream",
     "text": [
      "+--------+-----------------+\n",
      "|staff_id|count(payment_id)|\n",
      "+--------+-----------------+\n",
      "|       1|             7292|\n",
      "|       2|             7304|\n",
      "+--------+-----------------+\n",
      "\n"
     ]
    }
   ],
   "source": [
    "query = \"\"\"\n",
    "SELECT\n",
    "\tstaff_id,\n",
    "\tCOUNT (payment_id)\n",
    "FROM\n",
    "\tpayment\n",
    "GROUP BY\n",
    "\tstaff_id;\n",
    "\"\"\"\n",
    "show_query(query)"
   ]
  },
  {
   "cell_type": "code",
   "execution_count": 24,
   "id": "77ccc281-98c0-4783-8ba0-96475cec3bc1",
   "metadata": {},
   "outputs": [
    {
     "name": "stdout",
     "output_type": "stream",
     "text": [
      "+-----------+--------+-----------+\n",
      "|customer_id|staff_id|sum(amount)|\n",
      "+-----------+--------+-----------+\n",
      "|          1|       1|      60.85|\n",
      "|          1|       2|      53.85|\n",
      "|          2|       2|      67.88|\n",
      "|          2|       1|      55.86|\n",
      "|          3|       2|      70.88|\n",
      "|          3|       1|      59.88|\n",
      "|          4|       1|      49.88|\n",
      "|          4|       2|      31.90|\n",
      "|          5|       2|      70.79|\n",
      "|          5|       1|      63.86|\n",
      "|          6|       1|      53.85|\n",
      "|          6|       2|      30.90|\n",
      "|          7|       1|      69.84|\n",
      "|          7|       2|      60.88|\n",
      "|          8|       1|      57.86|\n",
      "|          8|       2|      27.91|\n",
      "|          9|       1|      39.88|\n",
      "|          9|       2|      38.92|\n",
      "|         10|       2|      53.88|\n",
      "|         10|       1|      40.88|\n",
      "+-----------+--------+-----------+\n",
      "only showing top 20 rows\n",
      "\n"
     ]
    }
   ],
   "source": [
    "query = \"\"\"\n",
    "SELECT \n",
    "\tcustomer_id, \n",
    "\tstaff_id, \n",
    "\tSUM(amount) \n",
    "FROM \n",
    "\tpayment\n",
    "GROUP BY \n",
    "\tstaff_id, \n",
    "\tcustomer_id\n",
    "ORDER BY \n",
    "    customer_id;\n",
    "\"\"\"\n",
    "show_query(query)"
   ]
  },
  {
   "cell_type": "markdown",
   "id": "0455b07e-1963-47cc-bb39-fa7e3c24d2c5",
   "metadata": {},
   "source": [
    "### Applying GROUP BY with DATE"
   ]
  },
  {
   "cell_type": "code",
   "execution_count": 26,
   "id": "a4e5a07d-3547-44af-9f60-71d8e112ae3a",
   "metadata": {},
   "outputs": [
    {
     "name": "stdout",
     "output_type": "stream",
     "text": [
      "+----------+-------+\n",
      "| paid_date|    sum|\n",
      "+----------+-------+\n",
      "|2007-03-22|2586.79|\n",
      "|2007-03-17|2442.16|\n",
      "|2007-04-27|2673.57|\n",
      "|2007-03-02|2550.05|\n",
      "|2007-04-30|5723.89|\n",
      "|2007-04-26| 347.21|\n",
      "|2007-04-12|1930.48|\n",
      "|2007-02-18|1275.98|\n",
      "|2007-02-14| 116.73|\n",
      "|2007-03-19|2617.69|\n",
      "|2007-02-20|1219.09|\n",
      "|2007-02-19|1290.90|\n",
      "|2007-04-11|1940.32|\n",
      "|2007-04-07|1984.28|\n",
      "|2007-02-17|1188.17|\n",
      "|2007-04-29|2717.60|\n",
      "|2007-03-18|2701.76|\n",
      "|2007-05-14| 514.18|\n",
      "|2007-03-16| 299.28|\n",
      "|2007-04-28|2622.73|\n",
      "+----------+-------+\n",
      "only showing top 20 rows\n",
      "\n"
     ]
    }
   ],
   "source": [
    "query = \"\"\"\n",
    "SELECT \n",
    "\tDATE(payment_date) paid_date, \n",
    "\tSUM(amount) sum\n",
    "FROM \n",
    "\tpayment\n",
    "GROUP BY\n",
    "\tDATE(payment_date);\n",
    "\"\"\"\n",
    "show_query(query)"
   ]
  },
  {
   "cell_type": "markdown",
   "id": "1c5bf222-5cfa-450d-aeb4-397cc9fadb98",
   "metadata": {},
   "source": [
    "# Example 3: Filters with GROUP BY? Use the HAVING clause"
   ]
  },
  {
   "cell_type": "code",
   "execution_count": 28,
   "id": "a8df2322-8683-4934-9752-6ad02f8de509",
   "metadata": {},
   "outputs": [
    {
     "name": "stdout",
     "output_type": "stream",
     "text": [
      "+-----------+-----------+\n",
      "|customer_id|sum(amount)|\n",
      "+-----------+-----------+\n",
      "|        148|     211.55|\n",
      "|        526|     208.58|\n",
      "+-----------+-----------+\n",
      "\n"
     ]
    }
   ],
   "source": [
    "query = \"\"\"\n",
    "SELECT\n",
    "\tcustomer_id,\n",
    "\tSUM (amount)\n",
    "FROM\n",
    "\tpayment\n",
    "GROUP BY\n",
    "\tcustomer_id\n",
    "HAVING\n",
    "\tSUM (amount) > 200;\n",
    "\"\"\"\n",
    "show_query(query)"
   ]
  },
  {
   "cell_type": "code",
   "execution_count": 29,
   "id": "a8c20ffb-88a6-4fa0-9f13-a8079b58ba52",
   "metadata": {},
   "outputs": [
    {
     "name": "stdout",
     "output_type": "stream",
     "text": [
      "+--------+------------------+\n",
      "|store_id|count(customer_id)|\n",
      "+--------+------------------+\n",
      "|       1|               326|\n",
      "+--------+------------------+\n",
      "\n"
     ]
    }
   ],
   "source": [
    "query = \"\"\"SELECT\n",
    "\tstore_id,\n",
    "\tCOUNT (customer_id)\n",
    "FROM\n",
    "\tcustomer\n",
    "GROUP BY\n",
    "\tstore_id\n",
    "HAVING\n",
    "\tCOUNT (customer_id) > 300;\"\"\"\n",
    "show_query(query)"
   ]
  },
  {
   "cell_type": "markdown",
   "id": "549d13f7-712a-404a-be9a-a9d4c1c29f49",
   "metadata": {},
   "source": [
    "# Exercise: redo all the above with Pyspark API"
   ]
  },
  {
   "cell_type": "code",
   "execution_count": null,
   "id": "62111ffb-14f7-4df8-984a-a76551c63016",
   "metadata": {},
   "outputs": [],
   "source": []
  }
 ],
 "metadata": {
  "kernelspec": {
   "display_name": "Python 3 (ipykernel)",
   "language": "python",
   "name": "python3"
  },
  "language_info": {
   "codemirror_mode": {
    "name": "ipython",
    "version": 3
   },
   "file_extension": ".py",
   "mimetype": "text/x-python",
   "name": "python",
   "nbconvert_exporter": "python",
   "pygments_lexer": "ipython3",
   "version": "3.11.6"
  }
 },
 "nbformat": 4,
 "nbformat_minor": 5
}
