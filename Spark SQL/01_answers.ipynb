{
 "cells": [
  {
   "cell_type": "code",
   "execution_count": 1,
   "id": "a0ca6b91-79db-4ff5-b727-6966a79fca87",
   "metadata": {},
   "outputs": [],
   "source": [
    "from db_tools.setup import setup"
   ]
  },
  {
   "cell_type": "code",
   "execution_count": 2,
   "id": "9dc45b37-7890-4093-9d09-d0cd483306e2",
   "metadata": {},
   "outputs": [
    {
     "name": "stderr",
     "output_type": "stream",
     "text": [
      "23/10/21 20:36:16 WARN Utils: Your hostname, luan-Dell-G15-5520 resolves to a loopback address: 127.0.1.1; using 192.168.1.10 instead (on interface wlp0s20f3)\n",
      "23/10/21 20:36:16 WARN Utils: Set SPARK_LOCAL_IP if you need to bind to another address\n",
      "23/10/21 20:36:17 WARN NativeCodeLoader: Unable to load native-hadoop library for your platform... using builtin-java classes where applicable\n",
      "Setting default log level to \"WARN\".\n",
      "To adjust logging level use sc.setLogLevel(newLevel). For SparkR, use setLogLevel(newLevel).\n",
      "23/10/21 20:36:18 WARN Utils: Service 'SparkUI' could not bind on port 4040. Attempting port 4041.\n",
      "23/10/21 20:36:18 WARN Utils: Service 'SparkUI' could not bind on port 4041. Attempting port 4042.\n"
     ]
    },
    {
     "name": "stdout",
     "output_type": "stream",
     "text": [
      "SparkSession available as \"spark\"\n"
     ]
    }
   ],
   "source": [
    "spark = setup()"
   ]
  },
  {
   "cell_type": "code",
   "execution_count": 3,
   "id": "0cf97860-acc1-44c5-bcc5-d0ca1efb6daf",
   "metadata": {},
   "outputs": [],
   "source": [
    "def show_query(query,SparkSession = spark,n = 20):\n",
    "    return SparkSession.sql(query).show()"
   ]
  },
  {
   "cell_type": "markdown",
   "id": "2e9187d7-c32d-4fdf-ad68-afedab84faf7",
   "metadata": {},
   "source": [
    "## 1) "
   ]
  },
  {
   "cell_type": "code",
   "execution_count": 17,
   "id": "14b808a8-ed16-406b-9b67-86d80aa744ad",
   "metadata": {},
   "outputs": [],
   "source": [
    "query1 = \"\"\"SELECT last_name,\n",
    "               LEN(last_name) AS len_last_name\n",
    "            FROM customer\n",
    "            ORDER BY len_last_name DESC\n",
    "           ;\"\"\""
   ]
  },
  {
   "cell_type": "code",
   "execution_count": 18,
   "id": "ec31f2ad-5cdb-497e-b40e-311ac8b784a4",
   "metadata": {},
   "outputs": [
    {
     "name": "stdout",
     "output_type": "stream",
     "text": [
      "+------------+-------------+\n",
      "|   last_name|len_last_name|\n",
      "+------------+-------------+\n",
      "|Westmoreland|           12|\n",
      "| Satterfield|           11|\n",
      "| Billingsley|           11|\n",
      "| Quintanilla|           11|\n",
      "| Scarborough|           11|\n",
      "| Butterfield|           11|\n",
      "| Christenson|           11|\n",
      "|  Richardson|           10|\n",
      "|  Washington|           10|\n",
      "|  Williamson|           10|\n",
      "|  Cunningham|           10|\n",
      "|  Montgomery|           10|\n",
      "|  Farnsworth|           10|\n",
      "|  Bustamante|           10|\n",
      "|  Betancourt|           10|\n",
      "|  Poindexter|           10|\n",
      "|   Morrissey|            9|\n",
      "|   Mcwhorter|            9|\n",
      "|   Fernandez|            9|\n",
      "|   Rodriguez|            9|\n",
      "+------------+-------------+\n",
      "only showing top 20 rows\n",
      "\n"
     ]
    }
   ],
   "source": [
    "show_query(query1)"
   ]
  },
  {
   "cell_type": "markdown",
   "id": "f52c7b1b-6446-4b6c-9217-47575ea30aaa",
   "metadata": {},
   "source": [
    "# 2)"
   ]
  },
  {
   "cell_type": "code",
   "execution_count": 19,
   "id": "a998e9e3-0198-4127-b527-1e882983c9f6",
   "metadata": {},
   "outputs": [],
   "source": [
    "query2 = \"\"\"SELECT\n",
    "               first_name ||' '|| last_name AS full_name,\n",
    "               LEN(full_name) AS full_name_length\n",
    "            FROM customer\n",
    "            ORDER BY full_name_length DESC\n",
    "           ;\"\"\""
   ]
  },
  {
   "cell_type": "code",
   "execution_count": 20,
   "id": "2c067554-1fa6-4cf3-89b4-50a234f46d82",
   "metadata": {},
   "outputs": [
    {
     "name": "stdout",
     "output_type": "stream",
     "text": [
      "+--------------------+----------------+\n",
      "|           full_name|full_name_length|\n",
      "+--------------------+----------------+\n",
      "|Mitchell Westmore...|              21|\n",
      "|Jonathan Scarborough|              20|\n",
      "| William Satterfield|              19|\n",
      "|  Stephanie Mitchell|              18|\n",
      "|  Catherine Campbell|              18|\n",
      "|  Francisco Skidmore|              18|\n",
      "|  Fernando Churchill|              18|\n",
      "|  Nelson Christenson|              18|\n",
      "|  Terrence Gunderson|              18|\n",
      "|   Kristina Chambers|              17|\n",
      "|   Christina Ramirez|              17|\n",
      "|   Michael Silverman|              17|\n",
      "|   Geraldine Perkins|              17|\n",
      "|   Christine Roberts|              17|\n",
      "|   Melanie Armstrong|              17|\n",
      "|   Christopher Greco|              17|\n",
      "|   Leonard Schofield|              17|\n",
      "|   Raymond Mcwhorter|              17|\n",
      "|   Stacey Montgomery|              17|\n",
      "|   Henry Billingsley|              17|\n",
      "+--------------------+----------------+\n",
      "only showing top 20 rows\n",
      "\n"
     ]
    }
   ],
   "source": [
    "show_query(query2)"
   ]
  },
  {
   "cell_type": "markdown",
   "id": "fc108fd1-cf3e-4e5a-905a-d0b4eab54c32",
   "metadata": {},
   "source": [
    "## 3)"
   ]
  },
  {
   "cell_type": "code",
   "execution_count": 88,
   "id": "5751daa4-b8ce-457b-ba4d-6ea47e786baf",
   "metadata": {},
   "outputs": [],
   "source": [
    "query3 = \"\"\"SELECT first_name,last_name,SUBSTRING(email,POSITION('@',email)+1,LEN(email)) AS domain FROM customer\"\"\""
   ]
  },
  {
   "cell_type": "code",
   "execution_count": 89,
   "id": "debcbd74-07fb-447e-81ff-e9d00b3371f2",
   "metadata": {},
   "outputs": [
    {
     "name": "stdout",
     "output_type": "stream",
     "text": [
      "+----------+---------+------------------+\n",
      "|first_name|last_name|            domain|\n",
      "+----------+---------+------------------+\n",
      "|     Jared|      Ely|sakilacustomer.org|\n",
      "|      Mary|    Smith|sakilacustomer.org|\n",
      "|  Patricia|  Johnson|sakilacustomer.org|\n",
      "|     Linda| Williams|sakilacustomer.org|\n",
      "|   Barbara|    Jones|sakilacustomer.org|\n",
      "| Elizabeth|    Brown|sakilacustomer.org|\n",
      "|  Jennifer|    Davis|sakilacustomer.org|\n",
      "|     Maria|   Miller|sakilacustomer.org|\n",
      "|     Susan|   Wilson|sakilacustomer.org|\n",
      "|  Margaret|    Moore|sakilacustomer.org|\n",
      "|   Dorothy|   Taylor|sakilacustomer.org|\n",
      "|      Lisa| Anderson|sakilacustomer.org|\n",
      "|     Nancy|   Thomas|sakilacustomer.org|\n",
      "|     Karen|  Jackson|sakilacustomer.org|\n",
      "|     Betty|    White|sakilacustomer.org|\n",
      "|     Helen|   Harris|sakilacustomer.org|\n",
      "|    Sandra|   Martin|sakilacustomer.org|\n",
      "|     Donna| Thompson|sakilacustomer.org|\n",
      "|     Carol|   Garcia|sakilacustomer.org|\n",
      "|      Ruth| Martinez|sakilacustomer.org|\n",
      "+----------+---------+------------------+\n",
      "only showing top 20 rows\n",
      "\n"
     ]
    }
   ],
   "source": [
    "show_query(query3)"
   ]
  },
  {
   "cell_type": "code",
   "execution_count": 40,
   "id": "4e7c3edd-5843-48b4-9b9f-66d91bc81a7c",
   "metadata": {},
   "outputs": [
    {
     "name": "stdout",
     "output_type": "stream",
     "text": [
      "+----------+---------+--------------------+----------------+------------------+\n",
      "|first_name|last_name|               email|    user_address|            domain|\n",
      "+----------+---------+--------------------+----------------+------------------+\n",
      "|     Jared|      Ely|jared.ely@sakilac...|       jared.ely|sakilacustomer.org|\n",
      "|      Mary|    Smith|mary.smith@sakila...|      mary.smith|sakilacustomer.org|\n",
      "|  Patricia|  Johnson|patricia.johnson@...|patricia.johnson|sakilacustomer.org|\n",
      "|     Linda| Williams|linda.williams@sa...|  linda.williams|sakilacustomer.org|\n",
      "|   Barbara|    Jones|barbara.jones@sak...|   barbara.jones|sakilacustomer.org|\n",
      "| Elizabeth|    Brown|elizabeth.brown@s...| elizabeth.brown|sakilacustomer.org|\n",
      "|  Jennifer|    Davis|jennifer.davis@sa...|  jennifer.davis|sakilacustomer.org|\n",
      "|     Maria|   Miller|maria.miller@saki...|    maria.miller|sakilacustomer.org|\n",
      "|     Susan|   Wilson|susan.wilson@saki...|    susan.wilson|sakilacustomer.org|\n",
      "|  Margaret|    Moore|margaret.moore@sa...|  margaret.moore|sakilacustomer.org|\n",
      "|   Dorothy|   Taylor|dorothy.taylor@sa...|  dorothy.taylor|sakilacustomer.org|\n",
      "|      Lisa| Anderson|lisa.anderson@sak...|   lisa.anderson|sakilacustomer.org|\n",
      "|     Nancy|   Thomas|nancy.thomas@saki...|    nancy.thomas|sakilacustomer.org|\n",
      "|     Karen|  Jackson|karen.jackson@sak...|   karen.jackson|sakilacustomer.org|\n",
      "|     Betty|    White|betty.white@sakil...|     betty.white|sakilacustomer.org|\n",
      "|     Helen|   Harris|helen.harris@saki...|    helen.harris|sakilacustomer.org|\n",
      "|    Sandra|   Martin|sandra.martin@sak...|   sandra.martin|sakilacustomer.org|\n",
      "|     Donna| Thompson|donna.thompson@sa...|  donna.thompson|sakilacustomer.org|\n",
      "|     Carol|   Garcia|carol.garcia@saki...|    carol.garcia|sakilacustomer.org|\n",
      "|      Ruth| Martinez|ruth.martinez@sak...|   ruth.martinez|sakilacustomer.org|\n",
      "+----------+---------+--------------------+----------------+------------------+\n",
      "only showing top 20 rows\n",
      "\n"
     ]
    }
   ],
   "source": [
    "show_query(\"\"\"SELECT first_name,\n",
    "                    last_name,\n",
    "                    email,\n",
    "                    SUBSTRING(email,1,POSITION('@',email)-1) AS user_address,\n",
    "                    SUBSTRING(email,POSITION('@',email)+1,LEN(email)) AS domain\n",
    "                    FROM customer\"\"\")"
   ]
  },
  {
   "cell_type": "markdown",
   "id": "ea77df96-f266-467c-a0a7-7b537768082a",
   "metadata": {},
   "source": [
    "## Redoing all the above with Pyspark SQL API"
   ]
  },
  {
   "cell_type": "markdown",
   "id": "0b9b7c53-a8e6-4ae0-b924-668d28d3a01f",
   "metadata": {},
   "source": [
    "#### Getting the data (The unique SQL code here)"
   ]
  },
  {
   "cell_type": "code",
   "execution_count": 45,
   "id": "d8de8d32-369f-4242-81cb-40c06a4e9759",
   "metadata": {},
   "outputs": [],
   "source": [
    "from pyspark.sql import functions as F"
   ]
  },
  {
   "cell_type": "code",
   "execution_count": 42,
   "id": "21ba365e-7ae9-4cd1-93b8-4e22d32a6486",
   "metadata": {},
   "outputs": [],
   "source": [
    "df = spark.sql(\"SELECT * FROM customer\")"
   ]
  },
  {
   "cell_type": "markdown",
   "id": "3c12fcd2-8b28-4fe8-9fe9-f2c61eb3cfd5",
   "metadata": {},
   "source": [
    "### Selecting fields"
   ]
  },
  {
   "cell_type": "code",
   "execution_count": 43,
   "id": "d183b3c8-0210-4190-8a54-100cb37fe680",
   "metadata": {},
   "outputs": [
    {
     "name": "stdout",
     "output_type": "stream",
     "text": [
      "+----------+---------+--------------------+\n",
      "|first_name|last_name|               email|\n",
      "+----------+---------+--------------------+\n",
      "|     Jared|      Ely|jared.ely@sakilac...|\n",
      "|      Mary|    Smith|mary.smith@sakila...|\n",
      "|  Patricia|  Johnson|patricia.johnson@...|\n",
      "|     Linda| Williams|linda.williams@sa...|\n",
      "|   Barbara|    Jones|barbara.jones@sak...|\n",
      "| Elizabeth|    Brown|elizabeth.brown@s...|\n",
      "|  Jennifer|    Davis|jennifer.davis@sa...|\n",
      "|     Maria|   Miller|maria.miller@saki...|\n",
      "|     Susan|   Wilson|susan.wilson@saki...|\n",
      "|  Margaret|    Moore|margaret.moore@sa...|\n",
      "|   Dorothy|   Taylor|dorothy.taylor@sa...|\n",
      "|      Lisa| Anderson|lisa.anderson@sak...|\n",
      "|     Nancy|   Thomas|nancy.thomas@saki...|\n",
      "|     Karen|  Jackson|karen.jackson@sak...|\n",
      "|     Betty|    White|betty.white@sakil...|\n",
      "|     Helen|   Harris|helen.harris@saki...|\n",
      "|    Sandra|   Martin|sandra.martin@sak...|\n",
      "|     Donna| Thompson|donna.thompson@sa...|\n",
      "|     Carol|   Garcia|carol.garcia@saki...|\n",
      "|      Ruth| Martinez|ruth.martinez@sak...|\n",
      "+----------+---------+--------------------+\n",
      "only showing top 20 rows\n",
      "\n"
     ]
    }
   ],
   "source": [
    "df.select(*['first_name','last_name','email']).show()"
   ]
  },
  {
   "cell_type": "markdown",
   "id": "0227df0d-a071-4c8f-a1c9-9af975398beb",
   "metadata": {},
   "source": [
    "### Merging two fields"
   ]
  },
  {
   "cell_type": "markdown",
   "id": "150bd21d-f8ad-43c5-9370-ed4f034061c7",
   "metadata": {},
   "source": [
    "#### Without an alias"
   ]
  },
  {
   "cell_type": "code",
   "execution_count": 93,
   "id": "3220f7e5-a8b2-46ae-9839-66b77a11f5e1",
   "metadata": {},
   "outputs": [
    {
     "name": "stdout",
     "output_type": "stream",
     "text": [
      "+-----------------------------------+--------------------+\n",
      "|concat_ws( , first_name, last_name)|               email|\n",
      "+-----------------------------------+--------------------+\n",
      "|                          Jared Ely|jared.ely@sakilac...|\n",
      "|                         Mary Smith|mary.smith@sakila...|\n",
      "|                   Patricia Johnson|patricia.johnson@...|\n",
      "|                     Linda Williams|linda.williams@sa...|\n",
      "|                      Barbara Jones|barbara.jones@sak...|\n",
      "|                    Elizabeth Brown|elizabeth.brown@s...|\n",
      "|                     Jennifer Davis|jennifer.davis@sa...|\n",
      "|                       Maria Miller|maria.miller@saki...|\n",
      "|                       Susan Wilson|susan.wilson@saki...|\n",
      "|                     Margaret Moore|margaret.moore@sa...|\n",
      "|                     Dorothy Taylor|dorothy.taylor@sa...|\n",
      "|                      Lisa Anderson|lisa.anderson@sak...|\n",
      "|                       Nancy Thomas|nancy.thomas@saki...|\n",
      "|                      Karen Jackson|karen.jackson@sak...|\n",
      "|                        Betty White|betty.white@sakil...|\n",
      "|                       Helen Harris|helen.harris@saki...|\n",
      "|                      Sandra Martin|sandra.martin@sak...|\n",
      "|                     Donna Thompson|donna.thompson@sa...|\n",
      "|                       Carol Garcia|carol.garcia@saki...|\n",
      "|                      Ruth Martinez|ruth.martinez@sak...|\n",
      "+-----------------------------------+--------------------+\n",
      "only showing top 20 rows\n",
      "\n"
     ]
    }
   ],
   "source": [
    "df.select(F.concat_ws(' ', df['first_name'], df['last_name']),'email').show()"
   ]
  },
  {
   "cell_type": "markdown",
   "id": "427b72cd-2f7a-47ea-afef-da55c8b5ebe6",
   "metadata": {},
   "source": [
    "#### With an alias"
   ]
  },
  {
   "cell_type": "code",
   "execution_count": 51,
   "id": "1b7fac48-a73a-4b95-9266-33506c097a9f",
   "metadata": {},
   "outputs": [
    {
     "name": "stdout",
     "output_type": "stream",
     "text": [
      "+-----------------------------------+--------------------+\n",
      "|concat_ws( , first_name, last_name)|               email|\n",
      "+-----------------------------------+--------------------+\n",
      "|                          Jared Ely|jared.ely@sakilac...|\n",
      "|                         Mary Smith|mary.smith@sakila...|\n",
      "|                   Patricia Johnson|patricia.johnson@...|\n",
      "|                     Linda Williams|linda.williams@sa...|\n",
      "|                      Barbara Jones|barbara.jones@sak...|\n",
      "|                    Elizabeth Brown|elizabeth.brown@s...|\n",
      "|                     Jennifer Davis|jennifer.davis@sa...|\n",
      "|                       Maria Miller|maria.miller@saki...|\n",
      "|                       Susan Wilson|susan.wilson@saki...|\n",
      "|                     Margaret Moore|margaret.moore@sa...|\n",
      "|                     Dorothy Taylor|dorothy.taylor@sa...|\n",
      "|                      Lisa Anderson|lisa.anderson@sak...|\n",
      "|                       Nancy Thomas|nancy.thomas@saki...|\n",
      "|                      Karen Jackson|karen.jackson@sak...|\n",
      "|                        Betty White|betty.white@sakil...|\n",
      "|                       Helen Harris|helen.harris@saki...|\n",
      "|                      Sandra Martin|sandra.martin@sak...|\n",
      "|                     Donna Thompson|donna.thompson@sa...|\n",
      "|                       Carol Garcia|carol.garcia@saki...|\n",
      "|                      Ruth Martinez|ruth.martinez@sak...|\n",
      "+-----------------------------------+--------------------+\n",
      "only showing top 20 rows\n",
      "\n"
     ]
    }
   ],
   "source": [
    "df.select(F.concat_ws(' ', df['first_name'], df['last_name']),'email').show()"
   ]
  },
  {
   "cell_type": "markdown",
   "id": "f236fd0b-e999-4f1d-8b9d-b8ad37163a30",
   "metadata": {},
   "source": [
    "### Calculator"
   ]
  },
  {
   "cell_type": "code",
   "execution_count": 62,
   "id": "873d2529-33f9-4e61-96de-3437e1be5431",
   "metadata": {},
   "outputs": [
    {
     "data": {
      "text/plain": [
       "Column<'100 AS RESULT'>"
      ]
     },
     "execution_count": 62,
     "metadata": {},
     "output_type": "execute_result"
    }
   ],
   "source": [
    "F.lit(10*10).alias('RESULT')"
   ]
  },
  {
   "cell_type": "markdown",
   "id": "66292c75-c579-4bee-908e-e9c8bc18ea7f",
   "metadata": {},
   "source": [
    "### Order BY"
   ]
  },
  {
   "cell_type": "code",
   "execution_count": 65,
   "id": "b1e40f3c-0ef2-46c6-b07c-3b6d010b073d",
   "metadata": {},
   "outputs": [
    {
     "name": "stdout",
     "output_type": "stream",
     "text": [
      "+----------+-----------+\n",
      "|first_name|  last_name|\n",
      "+----------+-----------+\n",
      "|     Aaron|      Selby|\n",
      "|      Adam|      Gooch|\n",
      "|    Adrian|      Clary|\n",
      "|     Agnes|     Bishop|\n",
      "|      Alan|       Kahn|\n",
      "|    Albert|     Crouse|\n",
      "|   Alberto|    Henning|\n",
      "|      Alex|    Gresham|\n",
      "| Alexander|    Fennell|\n",
      "|    Alfred|   Casillas|\n",
      "|   Alfredo|    Mcadams|\n",
      "|     Alice|    Stewart|\n",
      "|    Alicia|      Mills|\n",
      "|     Allan|    Cornish|\n",
      "|     Allen|Butterfield|\n",
      "|   Allison|    Stanley|\n",
      "|      Alma|     Austin|\n",
      "|     Alvin|    Deloach|\n",
      "|    Amanda|     Carter|\n",
      "|     Amber|      Dixon|\n",
      "+----------+-----------+\n",
      "only showing top 20 rows\n",
      "\n"
     ]
    }
   ],
   "source": [
    "df.select(*['first_name','last_name']).orderBy(df['first_name'].asc()).show()"
   ]
  },
  {
   "cell_type": "code",
   "execution_count": 67,
   "id": "664245a5-ee43-4f27-93df-fb24ae297bb4",
   "metadata": {},
   "outputs": [
    {
     "name": "stdout",
     "output_type": "stream",
     "text": [
      "+----------+------------+\n",
      "|first_name|   last_name|\n",
      "+----------+------------+\n",
      "|   Cynthia|       Young|\n",
      "|    Marvin|         Yee|\n",
      "|      Luis|       Yanez|\n",
      "|     Brian|       Wyman|\n",
      "|    Brenda|      Wright|\n",
      "|     Tyler|        Wren|\n",
      "|  Florence|       Woods|\n",
      "|      Lori|        Wood|\n",
      "|    Virgil|     Wofford|\n",
      "|    Darren|     Windham|\n",
      "|     Susan|      Wilson|\n",
      "|   Bernice|      Willis|\n",
      "|      Gina|  Williamson|\n",
      "|     Linda|    Williams|\n",
      "|       Jon|       Wiles|\n",
      "|       Roy|     Whiting|\n",
      "|     Betty|       White|\n",
      "|      Lucy|     Wheeler|\n",
      "|      Fred|       Wheat|\n",
      "|  Mitchell|Westmoreland|\n",
      "+----------+------------+\n",
      "only showing top 20 rows\n",
      "\n"
     ]
    }
   ],
   "source": [
    "df.select(*['first_name','last_name']).orderBy(df['last_name'].desc()).show()"
   ]
  },
  {
   "cell_type": "code",
   "execution_count": 69,
   "id": "79eb39a9-ae5f-44e4-8558-f57d5df59619",
   "metadata": {},
   "outputs": [
    {
     "name": "stdout",
     "output_type": "stream",
     "text": [
      "+----------+-----------+\n",
      "|first_name|  last_name|\n",
      "+----------+-----------+\n",
      "|     Aaron|      Selby|\n",
      "|      Adam|      Gooch|\n",
      "|    Adrian|      Clary|\n",
      "|     Agnes|     Bishop|\n",
      "|      Alan|       Kahn|\n",
      "|    Albert|     Crouse|\n",
      "|   Alberto|    Henning|\n",
      "|      Alex|    Gresham|\n",
      "| Alexander|    Fennell|\n",
      "|    Alfred|   Casillas|\n",
      "|   Alfredo|    Mcadams|\n",
      "|     Alice|    Stewart|\n",
      "|    Alicia|      Mills|\n",
      "|     Allan|    Cornish|\n",
      "|     Allen|Butterfield|\n",
      "|   Allison|    Stanley|\n",
      "|      Alma|     Austin|\n",
      "|     Alvin|    Deloach|\n",
      "|    Amanda|     Carter|\n",
      "|     Amber|      Dixon|\n",
      "+----------+-----------+\n",
      "only showing top 20 rows\n",
      "\n"
     ]
    }
   ],
   "source": [
    "df.select(*['first_name','last_name']).orderBy([\"first_name\", \"last_name\"], ascending=[True, False]).show()"
   ]
  },
  {
   "cell_type": "markdown",
   "id": "669b80c9-7458-41c9-96e5-3f57685fb92a",
   "metadata": {},
   "source": [
    "### Ordering names by its length"
   ]
  },
  {
   "cell_type": "code",
   "execution_count": 72,
   "id": "a3d5c7dd-ca69-4980-8079-64ea5d255848",
   "metadata": {},
   "outputs": [
    {
     "name": "stdout",
     "output_type": "stream",
     "text": [
      "+-----------+---------+--------------+\n",
      "| first_name|last_name|first_name_len|\n",
      "+-----------+---------+--------------+\n",
      "|Christopher|    Greco|            11|\n",
      "| Jacqueline|     Long|            10|\n",
      "|  Charlotte|   Hunter|             9|\n",
      "|  Stephanie| Mitchell|             9|\n",
      "|  Christine|  Roberts|             9|\n",
      "|  Catherine| Campbell|             9|\n",
      "|  Katherine|   Rivera|             9|\n",
      "|  Christina|  Ramirez|             9|\n",
      "|  Elizabeth|    Brown|             9|\n",
      "|  Josephine|    Gomez|             9|\n",
      "|  Geraldine|  Perkins|             9|\n",
      "|  Constance|     Reid|             9|\n",
      "|  Gwendolyn|      May|             9|\n",
      "|  Cassandra|  Walters|             9|\n",
      "|  Priscilla|     Lowe|             9|\n",
      "|  Frederick|   Isbell|             9|\n",
      "|  Alexander|  Fennell|             9|\n",
      "|  Francisco| Skidmore|             9|\n",
      "|  Nathaniel|     Adam|             9|\n",
      "|  Christian|     Jung|             9|\n",
      "+-----------+---------+--------------+\n",
      "only showing top 20 rows\n",
      "\n"
     ]
    }
   ],
   "source": [
    "df.select(*['first_name','last_name'],F.length(df['first_name']).alias('first_name_len')).orderBy([\"first_name_len\"], ascending=[False]).show()"
   ]
  },
  {
   "cell_type": "markdown",
   "id": "0171a20f-a701-42c2-9ef0-2550a723d0ff",
   "metadata": {},
   "source": [
    "### Select DISTINCT"
   ]
  },
  {
   "cell_type": "code",
   "execution_count": 73,
   "id": "70fcd51e-f5d8-4da5-aaed-480cab7d3b80",
   "metadata": {},
   "outputs": [
    {
     "name": "stdout",
     "output_type": "stream",
     "text": [
      "+-----------+\n",
      "|  last_name|\n",
      "+-----------+\n",
      "|     Easter|\n",
      "|    Wofford|\n",
      "|    Currier|\n",
      "|   Harrison|\n",
      "|     Porter|\n",
      "|     Wilson|\n",
      "|      Scott|\n",
      "|  Robertson|\n",
      "|     Fraley|\n",
      "|      Slone|\n",
      "|    Malcolm|\n",
      "|    Griffin|\n",
      "|     Castro|\n",
      "|      Lucas|\n",
      "|       Pena|\n",
      "|     Gruber|\n",
      "|     Isbell|\n",
      "|      Lyman|\n",
      "|      Abney|\n",
      "|Christenson|\n",
      "+-----------+\n",
      "only showing top 20 rows\n",
      "\n"
     ]
    }
   ],
   "source": [
    "df.select('last_name').distinct().show()"
   ]
  },
  {
   "cell_type": "markdown",
   "id": "43c0e970-cfde-4ff6-ab5e-89d126bdbabb",
   "metadata": {},
   "source": [
    "### Spark functions in sql queries"
   ]
  },
  {
   "cell_type": "code",
   "execution_count": 74,
   "id": "afdefe10-3e78-4223-b450-2467a8080992",
   "metadata": {},
   "outputs": [
    {
     "name": "stdout",
     "output_type": "stream",
     "text": [
      "+----------+---------+----------------+\n",
      "|first_name|last_name|       user_name|\n",
      "+----------+---------+----------------+\n",
      "|     Jared|      Ely|       jared.ely|\n",
      "|      Mary|    Smith|      mary.smith|\n",
      "|  Patricia|  Johnson|patricia.johnson|\n",
      "|     Linda| Williams|  linda.williams|\n",
      "|   Barbara|    Jones|   barbara.jones|\n",
      "| Elizabeth|    Brown| elizabeth.brown|\n",
      "|  Jennifer|    Davis|  jennifer.davis|\n",
      "|     Maria|   Miller|    maria.miller|\n",
      "|     Susan|   Wilson|    susan.wilson|\n",
      "|  Margaret|    Moore|  margaret.moore|\n",
      "|   Dorothy|   Taylor|  dorothy.taylor|\n",
      "|      Lisa| Anderson|   lisa.anderson|\n",
      "|     Nancy|   Thomas|    nancy.thomas|\n",
      "|     Karen|  Jackson|   karen.jackson|\n",
      "|     Betty|    White|     betty.white|\n",
      "|     Helen|   Harris|    helen.harris|\n",
      "|    Sandra|   Martin|   sandra.martin|\n",
      "|     Donna| Thompson|  donna.thompson|\n",
      "|     Carol|   Garcia|    carol.garcia|\n",
      "|      Ruth| Martinez|   ruth.martinez|\n",
      "+----------+---------+----------------+\n",
      "only showing top 20 rows\n",
      "\n"
     ]
    }
   ],
   "source": [
    "df.select('first_name','last_name',F.regexp_extract(df['email'],r'.*(?=@)',0).alias('user_name')).show()"
   ]
  },
  {
   "cell_type": "code",
   "execution_count": 79,
   "id": "efd5bee8-b6c0-4dde-b3e8-0a4c7c0370fb",
   "metadata": {},
   "outputs": [
    {
     "name": "stdout",
     "output_type": "stream",
     "text": [
      "+----------+---------+------------------+\n",
      "|first_name|last_name|         user_name|\n",
      "+----------+---------+------------------+\n",
      "|     Jared|      Ely|sakilacustomer.org|\n",
      "|      Mary|    Smith|sakilacustomer.org|\n",
      "|  Patricia|  Johnson|sakilacustomer.org|\n",
      "|     Linda| Williams|sakilacustomer.org|\n",
      "|   Barbara|    Jones|sakilacustomer.org|\n",
      "| Elizabeth|    Brown|sakilacustomer.org|\n",
      "|  Jennifer|    Davis|sakilacustomer.org|\n",
      "|     Maria|   Miller|sakilacustomer.org|\n",
      "|     Susan|   Wilson|sakilacustomer.org|\n",
      "|  Margaret|    Moore|sakilacustomer.org|\n",
      "|   Dorothy|   Taylor|sakilacustomer.org|\n",
      "|      Lisa| Anderson|sakilacustomer.org|\n",
      "|     Nancy|   Thomas|sakilacustomer.org|\n",
      "|     Karen|  Jackson|sakilacustomer.org|\n",
      "|     Betty|    White|sakilacustomer.org|\n",
      "|     Helen|   Harris|sakilacustomer.org|\n",
      "|    Sandra|   Martin|sakilacustomer.org|\n",
      "|     Donna| Thompson|sakilacustomer.org|\n",
      "|     Carol|   Garcia|sakilacustomer.org|\n",
      "|      Ruth| Martinez|sakilacustomer.org|\n",
      "+----------+---------+------------------+\n",
      "only showing top 20 rows\n",
      "\n"
     ]
    }
   ],
   "source": [
    "df.select('first_name','last_name',F.regexp_extract(df['email'],r'(?<=@).*',0).alias('user_name')).show()"
   ]
  },
  {
   "cell_type": "markdown",
   "id": "d6599274-5b97-40c3-851a-24cc98656866",
   "metadata": {},
   "source": [
    "## Exercises"
   ]
  },
  {
   "cell_type": "markdown",
   "id": "32106100-ce08-4968-864c-aba065c4ea90",
   "metadata": {},
   "source": [
    "### 1"
   ]
  },
  {
   "cell_type": "code",
   "execution_count": 80,
   "id": "c7ddd091-458b-4d19-8bd9-425de5a8a425",
   "metadata": {},
   "outputs": [],
   "source": [
    "# Before\n",
    "query1 = \"\"\"SELECT last_name,\n",
    "               LEN(last_name) AS len_last_name\n",
    "            FROM customer\n",
    "            ORDER BY len_last_name DESC\n",
    "           ;\"\"\""
   ]
  },
  {
   "cell_type": "code",
   "execution_count": 81,
   "id": "5f9a7ee2-4325-406f-a575-007170e453c3",
   "metadata": {},
   "outputs": [
    {
     "name": "stdout",
     "output_type": "stream",
     "text": [
      "+------------+-------------+\n",
      "|   last_name|len_last_name|\n",
      "+------------+-------------+\n",
      "|Westmoreland|           12|\n",
      "| Satterfield|           11|\n",
      "| Billingsley|           11|\n",
      "| Quintanilla|           11|\n",
      "| Scarborough|           11|\n",
      "| Butterfield|           11|\n",
      "| Christenson|           11|\n",
      "|  Richardson|           10|\n",
      "|  Washington|           10|\n",
      "|  Williamson|           10|\n",
      "|  Cunningham|           10|\n",
      "|  Montgomery|           10|\n",
      "|  Farnsworth|           10|\n",
      "|  Bustamante|           10|\n",
      "|  Betancourt|           10|\n",
      "|  Poindexter|           10|\n",
      "|   Morrissey|            9|\n",
      "|   Mcwhorter|            9|\n",
      "|   Fernandez|            9|\n",
      "|   Rodriguez|            9|\n",
      "+------------+-------------+\n",
      "only showing top 20 rows\n",
      "\n"
     ]
    }
   ],
   "source": [
    "df.select('last_name',F.length(df['last_name']).alias('len_last_name')).orderBy(['len_last_name'], ascending=[False]).show()"
   ]
  },
  {
   "cell_type": "markdown",
   "id": "dc60a46d-927d-4a64-ac7a-a2990e7ece5b",
   "metadata": {},
   "source": [
    "## 2"
   ]
  },
  {
   "cell_type": "code",
   "execution_count": 82,
   "id": "68782663-de1d-4f28-a023-58cffc424c5e",
   "metadata": {},
   "outputs": [],
   "source": [
    "query2 = \"\"\"SELECT\n",
    "               first_name ||' '|| last_name AS full_name,\n",
    "               LEN(full_name) AS full_name_length\n",
    "            FROM customer\n",
    "            ORDER BY full_name_length DESC\n",
    "           ;\"\"\""
   ]
  },
  {
   "cell_type": "code",
   "execution_count": 87,
   "id": "7cf5f066-fd7e-4933-bb31-2ba6a74cf41d",
   "metadata": {},
   "outputs": [
    {
     "name": "stdout",
     "output_type": "stream",
     "text": [
      "+--------------------+----------------+\n",
      "|           full_name|full_name_length|\n",
      "+--------------------+----------------+\n",
      "|Mitchell Westmore...|              21|\n",
      "|Jonathan Scarborough|              20|\n",
      "| William Satterfield|              19|\n",
      "|  Stephanie Mitchell|              18|\n",
      "|  Catherine Campbell|              18|\n",
      "|  Francisco Skidmore|              18|\n",
      "|  Fernando Churchill|              18|\n",
      "|  Nelson Christenson|              18|\n",
      "|  Terrence Gunderson|              18|\n",
      "|   Kristina Chambers|              17|\n",
      "|   Christina Ramirez|              17|\n",
      "|   Michael Silverman|              17|\n",
      "|   Geraldine Perkins|              17|\n",
      "|   Christine Roberts|              17|\n",
      "|   Melanie Armstrong|              17|\n",
      "|   Christopher Greco|              17|\n",
      "|   Leonard Schofield|              17|\n",
      "|   Raymond Mcwhorter|              17|\n",
      "|   Stacey Montgomery|              17|\n",
      "|   Henry Billingsley|              17|\n",
      "+--------------------+----------------+\n",
      "only showing top 20 rows\n",
      "\n"
     ]
    }
   ],
   "source": [
    "df.select(F.concat_ws(' ', df['first_name'], df['last_name']).alias('full_name'),F.length('full_name').alias('full_name_length')).orderBy(['full_name_length'], ascending=[False]).show()"
   ]
  },
  {
   "cell_type": "markdown",
   "id": "cdb475d7-449b-4a2a-afb5-cb2a604be034",
   "metadata": {},
   "source": [
    "## 3) There is no point in doing in Spark SQL API an exercise that ask for pure SQL!"
   ]
  },
  {
   "cell_type": "code",
   "execution_count": 91,
   "id": "e101a2ca-b685-4a71-bb88-9c320dfca8df",
   "metadata": {},
   "outputs": [
    {
     "name": "stdout",
     "output_type": "stream",
     "text": [
      "+----------+---------+------------------+\n",
      "|first_name|last_name|         user_name|\n",
      "+----------+---------+------------------+\n",
      "|     Jared|      Ely|sakilacustomer.org|\n",
      "|      Mary|    Smith|sakilacustomer.org|\n",
      "|  Patricia|  Johnson|sakilacustomer.org|\n",
      "|     Linda| Williams|sakilacustomer.org|\n",
      "|   Barbara|    Jones|sakilacustomer.org|\n",
      "| Elizabeth|    Brown|sakilacustomer.org|\n",
      "|  Jennifer|    Davis|sakilacustomer.org|\n",
      "|     Maria|   Miller|sakilacustomer.org|\n",
      "|     Susan|   Wilson|sakilacustomer.org|\n",
      "|  Margaret|    Moore|sakilacustomer.org|\n",
      "|   Dorothy|   Taylor|sakilacustomer.org|\n",
      "|      Lisa| Anderson|sakilacustomer.org|\n",
      "|     Nancy|   Thomas|sakilacustomer.org|\n",
      "|     Karen|  Jackson|sakilacustomer.org|\n",
      "|     Betty|    White|sakilacustomer.org|\n",
      "|     Helen|   Harris|sakilacustomer.org|\n",
      "|    Sandra|   Martin|sakilacustomer.org|\n",
      "|     Donna| Thompson|sakilacustomer.org|\n",
      "|     Carol|   Garcia|sakilacustomer.org|\n",
      "|      Ruth| Martinez|sakilacustomer.org|\n",
      "+----------+---------+------------------+\n",
      "only showing top 20 rows\n",
      "\n"
     ]
    }
   ],
   "source": [
    "# right result, but wrong answer\n",
    "df.select('first_name','last_name',F.regexp_extract(df['email'],r'(?<=@).*',0).alias('user_name')).show()"
   ]
  },
  {
   "cell_type": "code",
   "execution_count": null,
   "id": "ccf2e605-bd39-4ca2-990f-a63786b10a71",
   "metadata": {},
   "outputs": [],
   "source": []
  }
 ],
 "metadata": {
  "kernelspec": {
   "display_name": "Python 3 (ipykernel)",
   "language": "python",
   "name": "python3"
  },
  "language_info": {
   "codemirror_mode": {
    "name": "ipython",
    "version": 3
   },
   "file_extension": ".py",
   "mimetype": "text/x-python",
   "name": "python",
   "nbconvert_exporter": "python",
   "pygments_lexer": "ipython3",
   "version": "3.11.6"
  }
 },
 "nbformat": 4,
 "nbformat_minor": 5
}
