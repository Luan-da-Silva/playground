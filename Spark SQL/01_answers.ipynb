{
 "cells": [
  {
   "cell_type": "code",
   "execution_count": 1,
   "id": "a0ca6b91-79db-4ff5-b727-6966a79fca87",
   "metadata": {},
   "outputs": [],
   "source": [
    "from db_tools.setup import setup"
   ]
  },
  {
   "cell_type": "code",
   "execution_count": 2,
   "id": "9dc45b37-7890-4093-9d09-d0cd483306e2",
   "metadata": {},
   "outputs": [
    {
     "name": "stderr",
     "output_type": "stream",
     "text": [
      "23/10/21 20:36:16 WARN Utils: Your hostname, luan-Dell-G15-5520 resolves to a loopback address: 127.0.1.1; using 192.168.1.10 instead (on interface wlp0s20f3)\n",
      "23/10/21 20:36:16 WARN Utils: Set SPARK_LOCAL_IP if you need to bind to another address\n",
      "23/10/21 20:36:17 WARN NativeCodeLoader: Unable to load native-hadoop library for your platform... using builtin-java classes where applicable\n",
      "Setting default log level to \"WARN\".\n",
      "To adjust logging level use sc.setLogLevel(newLevel). For SparkR, use setLogLevel(newLevel).\n",
      "23/10/21 20:36:18 WARN Utils: Service 'SparkUI' could not bind on port 4040. Attempting port 4041.\n",
      "23/10/21 20:36:18 WARN Utils: Service 'SparkUI' could not bind on port 4041. Attempting port 4042.\n"
     ]
    },
    {
     "name": "stdout",
     "output_type": "stream",
     "text": [
      "SparkSession available as \"spark\"\n"
     ]
    }
   ],
   "source": [
    "spark = setup()"
   ]
  },
  {
   "cell_type": "code",
   "execution_count": 3,
   "id": "0cf97860-acc1-44c5-bcc5-d0ca1efb6daf",
   "metadata": {},
   "outputs": [],
   "source": [
    "def show_query(query,SparkSession = spark,n = 20):\n",
    "    return SparkSession.sql(query).show()"
   ]
  },
  {
   "cell_type": "markdown",
   "id": "2e9187d7-c32d-4fdf-ad68-afedab84faf7",
   "metadata": {},
   "source": [
    "## 1) "
   ]
  },
  {
   "cell_type": "code",
   "execution_count": 17,
   "id": "14b808a8-ed16-406b-9b67-86d80aa744ad",
   "metadata": {},
   "outputs": [],
   "source": [
    "query1 = \"\"\"SELECT last_name,\n",
    "               LEN(last_name) AS len_last_name\n",
    "            FROM customer\n",
    "            ORDER BY len_last_name DESC\n",
    "           ;\"\"\""
   ]
  },
  {
   "cell_type": "code",
   "execution_count": 18,
   "id": "ec31f2ad-5cdb-497e-b40e-311ac8b784a4",
   "metadata": {},
   "outputs": [
    {
     "name": "stdout",
     "output_type": "stream",
     "text": [
      "+------------+-------------+\n",
      "|   last_name|len_last_name|\n",
      "+------------+-------------+\n",
      "|Westmoreland|           12|\n",
      "| Satterfield|           11|\n",
      "| Billingsley|           11|\n",
      "| Quintanilla|           11|\n",
      "| Scarborough|           11|\n",
      "| Butterfield|           11|\n",
      "| Christenson|           11|\n",
      "|  Richardson|           10|\n",
      "|  Washington|           10|\n",
      "|  Williamson|           10|\n",
      "|  Cunningham|           10|\n",
      "|  Montgomery|           10|\n",
      "|  Farnsworth|           10|\n",
      "|  Bustamante|           10|\n",
      "|  Betancourt|           10|\n",
      "|  Poindexter|           10|\n",
      "|   Morrissey|            9|\n",
      "|   Mcwhorter|            9|\n",
      "|   Fernandez|            9|\n",
      "|   Rodriguez|            9|\n",
      "+------------+-------------+\n",
      "only showing top 20 rows\n",
      "\n"
     ]
    }
   ],
   "source": [
    "show_query(query1)"
   ]
  },
  {
   "cell_type": "markdown",
   "id": "f52c7b1b-6446-4b6c-9217-47575ea30aaa",
   "metadata": {},
   "source": [
    "# 2)"
   ]
  },
  {
   "cell_type": "code",
   "execution_count": 19,
   "id": "a998e9e3-0198-4127-b527-1e882983c9f6",
   "metadata": {},
   "outputs": [],
   "source": [
    "query2 = \"\"\"SELECT\n",
    "               first_name ||' '|| last_name AS full_name,\n",
    "               LEN(full_name) AS full_name_length\n",
    "            FROM customer\n",
    "            ORDER BY full_name_length DESC\n",
    "           ;\"\"\""
   ]
  },
  {
   "cell_type": "code",
   "execution_count": 20,
   "id": "2c067554-1fa6-4cf3-89b4-50a234f46d82",
   "metadata": {},
   "outputs": [
    {
     "name": "stdout",
     "output_type": "stream",
     "text": [
      "+--------------------+----------------+\n",
      "|           full_name|full_name_length|\n",
      "+--------------------+----------------+\n",
      "|Mitchell Westmore...|              21|\n",
      "|Jonathan Scarborough|              20|\n",
      "| William Satterfield|              19|\n",
      "|  Stephanie Mitchell|              18|\n",
      "|  Catherine Campbell|              18|\n",
      "|  Francisco Skidmore|              18|\n",
      "|  Fernando Churchill|              18|\n",
      "|  Nelson Christenson|              18|\n",
      "|  Terrence Gunderson|              18|\n",
      "|   Kristina Chambers|              17|\n",
      "|   Christina Ramirez|              17|\n",
      "|   Michael Silverman|              17|\n",
      "|   Geraldine Perkins|              17|\n",
      "|   Christine Roberts|              17|\n",
      "|   Melanie Armstrong|              17|\n",
      "|   Christopher Greco|              17|\n",
      "|   Leonard Schofield|              17|\n",
      "|   Raymond Mcwhorter|              17|\n",
      "|   Stacey Montgomery|              17|\n",
      "|   Henry Billingsley|              17|\n",
      "+--------------------+----------------+\n",
      "only showing top 20 rows\n",
      "\n"
     ]
    }
   ],
   "source": [
    "show_query(query2)"
   ]
  },
  {
   "cell_type": "markdown",
   "id": "fc108fd1-cf3e-4e5a-905a-d0b4eab54c32",
   "metadata": {},
   "source": [
    "## 3)"
   ]
  },
  {
   "cell_type": "code",
   "execution_count": 37,
   "id": "5751daa4-b8ce-457b-ba4d-6ea47e786baf",
   "metadata": {},
   "outputs": [],
   "source": [
    "query3 = \"\"\"SELECT first_name,last_name,(SUBSTRING_INDEX(SUBSTR(email, INSTR(email, '@') + 1),'.',1)) AS domain FROM customer\"\"\""
   ]
  },
  {
   "cell_type": "code",
   "execution_count": 38,
   "id": "debcbd74-07fb-447e-81ff-e9d00b3371f2",
   "metadata": {},
   "outputs": [
    {
     "name": "stdout",
     "output_type": "stream",
     "text": [
      "+----------+---------+--------------+\n",
      "|first_name|last_name|        domain|\n",
      "+----------+---------+--------------+\n",
      "|     Jared|      Ely|sakilacustomer|\n",
      "|      Mary|    Smith|sakilacustomer|\n",
      "|  Patricia|  Johnson|sakilacustomer|\n",
      "|     Linda| Williams|sakilacustomer|\n",
      "|   Barbara|    Jones|sakilacustomer|\n",
      "| Elizabeth|    Brown|sakilacustomer|\n",
      "|  Jennifer|    Davis|sakilacustomer|\n",
      "|     Maria|   Miller|sakilacustomer|\n",
      "|     Susan|   Wilson|sakilacustomer|\n",
      "|  Margaret|    Moore|sakilacustomer|\n",
      "|   Dorothy|   Taylor|sakilacustomer|\n",
      "|      Lisa| Anderson|sakilacustomer|\n",
      "|     Nancy|   Thomas|sakilacustomer|\n",
      "|     Karen|  Jackson|sakilacustomer|\n",
      "|     Betty|    White|sakilacustomer|\n",
      "|     Helen|   Harris|sakilacustomer|\n",
      "|    Sandra|   Martin|sakilacustomer|\n",
      "|     Donna| Thompson|sakilacustomer|\n",
      "|     Carol|   Garcia|sakilacustomer|\n",
      "|      Ruth| Martinez|sakilacustomer|\n",
      "+----------+---------+--------------+\n",
      "only showing top 20 rows\n",
      "\n"
     ]
    }
   ],
   "source": [
    "show_query(query3)"
   ]
  },
  {
   "cell_type": "code",
   "execution_count": 40,
   "id": "4e7c3edd-5843-48b4-9b9f-66d91bc81a7c",
   "metadata": {},
   "outputs": [
    {
     "name": "stdout",
     "output_type": "stream",
     "text": [
      "+----------+---------+--------------------+----------------+------------------+\n",
      "|first_name|last_name|               email|    user_address|            domain|\n",
      "+----------+---------+--------------------+----------------+------------------+\n",
      "|     Jared|      Ely|jared.ely@sakilac...|       jared.ely|sakilacustomer.org|\n",
      "|      Mary|    Smith|mary.smith@sakila...|      mary.smith|sakilacustomer.org|\n",
      "|  Patricia|  Johnson|patricia.johnson@...|patricia.johnson|sakilacustomer.org|\n",
      "|     Linda| Williams|linda.williams@sa...|  linda.williams|sakilacustomer.org|\n",
      "|   Barbara|    Jones|barbara.jones@sak...|   barbara.jones|sakilacustomer.org|\n",
      "| Elizabeth|    Brown|elizabeth.brown@s...| elizabeth.brown|sakilacustomer.org|\n",
      "|  Jennifer|    Davis|jennifer.davis@sa...|  jennifer.davis|sakilacustomer.org|\n",
      "|     Maria|   Miller|maria.miller@saki...|    maria.miller|sakilacustomer.org|\n",
      "|     Susan|   Wilson|susan.wilson@saki...|    susan.wilson|sakilacustomer.org|\n",
      "|  Margaret|    Moore|margaret.moore@sa...|  margaret.moore|sakilacustomer.org|\n",
      "|   Dorothy|   Taylor|dorothy.taylor@sa...|  dorothy.taylor|sakilacustomer.org|\n",
      "|      Lisa| Anderson|lisa.anderson@sak...|   lisa.anderson|sakilacustomer.org|\n",
      "|     Nancy|   Thomas|nancy.thomas@saki...|    nancy.thomas|sakilacustomer.org|\n",
      "|     Karen|  Jackson|karen.jackson@sak...|   karen.jackson|sakilacustomer.org|\n",
      "|     Betty|    White|betty.white@sakil...|     betty.white|sakilacustomer.org|\n",
      "|     Helen|   Harris|helen.harris@saki...|    helen.harris|sakilacustomer.org|\n",
      "|    Sandra|   Martin|sandra.martin@sak...|   sandra.martin|sakilacustomer.org|\n",
      "|     Donna| Thompson|donna.thompson@sa...|  donna.thompson|sakilacustomer.org|\n",
      "|     Carol|   Garcia|carol.garcia@saki...|    carol.garcia|sakilacustomer.org|\n",
      "|      Ruth| Martinez|ruth.martinez@sak...|   ruth.martinez|sakilacustomer.org|\n",
      "+----------+---------+--------------------+----------------+------------------+\n",
      "only showing top 20 rows\n",
      "\n"
     ]
    }
   ],
   "source": [
    "show_query(\"\"\"SELECT first_name,\n",
    "                    last_name,\n",
    "                    email,\n",
    "                    SUBSTRING(email,1,POSITION('@',email)-1) AS user_address,\n",
    "                    SUBSTRING(email,POSITION('@',email)+1,LEN(email)) AS domain\n",
    "                    FROM customer\"\"\")"
   ]
  },
  {
   "cell_type": "code",
   "execution_count": null,
   "id": "b8113bdf-dfb9-4d96-8fbd-037ac50bfe88",
   "metadata": {},
   "outputs": [],
   "source": []
  }
 ],
 "metadata": {
  "kernelspec": {
   "display_name": "Python 3 (ipykernel)",
   "language": "python",
   "name": "python3"
  },
  "language_info": {
   "codemirror_mode": {
    "name": "ipython",
    "version": 3
   },
   "file_extension": ".py",
   "mimetype": "text/x-python",
   "name": "python",
   "nbconvert_exporter": "python",
   "pygments_lexer": "ipython3",
   "version": "3.11.6"
  }
 },
 "nbformat": 4,
 "nbformat_minor": 5
}
