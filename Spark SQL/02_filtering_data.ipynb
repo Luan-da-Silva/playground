{
 "cells": [
  {
   "cell_type": "markdown",
   "id": "0e1af8ce-6270-4b45-953c-dc533bbb8086",
   "metadata": {},
   "source": [
    "# Connecting to the database"
   ]
  },
  {
   "cell_type": "code",
   "execution_count": 147,
   "id": "743d0ccc-6320-4fa6-a6e0-ea849fd58add",
   "metadata": {},
   "outputs": [],
   "source": [
    "from db_tools.setup import setup"
   ]
  },
  {
   "cell_type": "markdown",
   "id": "5dd1877b-6e52-4e97-bbef-ff16bde8d4c9",
   "metadata": {},
   "source": [
    "# Getting a SparkSession"
   ]
  },
  {
   "cell_type": "code",
   "execution_count": 3,
   "id": "02e3acab-cc7b-460f-808b-1b3dbee6c2d6",
   "metadata": {},
   "outputs": [
    {
     "name": "stderr",
     "output_type": "stream",
     "text": [
      "23/10/22 13:13:09 WARN Utils: Your hostname, luan-Dell-G15-5520 resolves to a loopback address: 127.0.1.1; using 192.168.1.12 instead (on interface wlp0s20f3)\n",
      "23/10/22 13:13:09 WARN Utils: Set SPARK_LOCAL_IP if you need to bind to another address\n",
      "23/10/22 13:13:09 WARN NativeCodeLoader: Unable to load native-hadoop library for your platform... using builtin-java classes where applicable\n",
      "Setting default log level to \"WARN\".\n",
      "To adjust logging level use sc.setLogLevel(newLevel). For SparkR, use setLogLevel(newLevel).\n"
     ]
    },
    {
     "name": "stdout",
     "output_type": "stream",
     "text": [
      "SparkSession available as \"spark\"\n"
     ]
    }
   ],
   "source": [
    "spark = setup()"
   ]
  },
  {
   "cell_type": "code",
   "execution_count": 4,
   "id": "99410ced-bf70-4d0c-8432-006c35818ed8",
   "metadata": {},
   "outputs": [],
   "source": [
    "def show_query(query,SparkSession = spark,n = 20):\n",
    "    return SparkSession.sql(query).show()"
   ]
  },
  {
   "cell_type": "markdown",
   "id": "3a5825a6-f3ef-4bf9-9675-f37996eab3d1",
   "metadata": {},
   "source": [
    "# Example 1: Filtering names from the Database"
   ]
  },
  {
   "cell_type": "code",
   "execution_count": 5,
   "id": "004d1a68-8a23-40df-a491-7e2621f88443",
   "metadata": {},
   "outputs": [],
   "source": [
    "query1 = \"\"\"SELECT\n",
    "            \tlast_name,\n",
    "            \tfirst_name\n",
    "            FROM\n",
    "            \tcustomer\n",
    "            WHERE\n",
    "            \tfirst_name = 'Jamie';\"\"\""
   ]
  },
  {
   "cell_type": "code",
   "execution_count": 6,
   "id": "405b1fa7-c326-4aa6-b537-7957bc6a0f98",
   "metadata": {},
   "outputs": [
    {
     "name": "stdout",
     "output_type": "stream",
     "text": [
      "+---------+----------+\n",
      "|last_name|first_name|\n",
      "+---------+----------+\n",
      "|     Rice|     Jamie|\n",
      "|    Waugh|     Jamie|\n",
      "+---------+----------+\n",
      "\n"
     ]
    }
   ],
   "source": [
    "show_query(query1)"
   ]
  },
  {
   "cell_type": "markdown",
   "id": "5149804e-eda0-4db7-b819-d9eb83fc697c",
   "metadata": {},
   "source": [
    "# Example 2: Filtering names from the Database with logical operators"
   ]
  },
  {
   "cell_type": "code",
   "execution_count": 7,
   "id": "6d61c265-bfde-4090-96c0-3894bac4416b",
   "metadata": {},
   "outputs": [],
   "source": [
    "query2 = \"\"\"SELECT\n",
    "                last_name,\n",
    "            \tfirst_name\n",
    "            FROM customer\n",
    "            WHERE first_name = 'Jamie' AND \n",
    "            last_name = 'Rice';\"\"\""
   ]
  },
  {
   "cell_type": "code",
   "execution_count": 8,
   "id": "07b2e81f-5601-41dc-8648-e3b759656405",
   "metadata": {},
   "outputs": [
    {
     "name": "stdout",
     "output_type": "stream",
     "text": [
      "+---------+----------+\n",
      "|last_name|first_name|\n",
      "+---------+----------+\n",
      "|     Rice|     Jamie|\n",
      "+---------+----------+\n",
      "\n"
     ]
    }
   ],
   "source": [
    "show_query(query2)"
   ]
  },
  {
   "cell_type": "code",
   "execution_count": 9,
   "id": "620a1a4d-41eb-4563-ad62-fa62d11e133d",
   "metadata": {},
   "outputs": [],
   "source": [
    "query3 = \"\"\"SELECT\n",
    "            \tfirst_name,\n",
    "            \tlast_name\n",
    "            FROM\n",
    "            \tcustomer\n",
    "            WHERE\n",
    "            \tlast_name = 'Rodriguez' OR \n",
    "            \tfirst_name = 'Adam';\"\"\""
   ]
  },
  {
   "cell_type": "code",
   "execution_count": 10,
   "id": "b20abad8-03c3-4bca-8112-1fdfe28c84c4",
   "metadata": {},
   "outputs": [
    {
     "name": "stdout",
     "output_type": "stream",
     "text": [
      "+----------+---------+\n",
      "|first_name|last_name|\n",
      "+----------+---------+\n",
      "|     Laura|Rodriguez|\n",
      "|      Adam|    Gooch|\n",
      "+----------+---------+\n",
      "\n"
     ]
    }
   ],
   "source": [
    "show_query(query3)"
   ]
  },
  {
   "cell_type": "markdown",
   "id": "b209d6f7-60ed-4be7-8275-26d1cc3a2297",
   "metadata": {},
   "source": [
    "# Example 3: Filtering names from the Database with the IN operator"
   ]
  },
  {
   "cell_type": "code",
   "execution_count": 11,
   "id": "46aa5bdc-17f5-406a-a06b-4bab3bc38d45",
   "metadata": {},
   "outputs": [],
   "source": [
    "query4 = \"\"\"SELECT\n",
    "\tfirst_name,\n",
    "\tlast_name\n",
    "FROM\n",
    "\tcustomer\n",
    "WHERE \n",
    "\tfirst_name IN ('Ann','Anne','Annie');\"\"\""
   ]
  },
  {
   "cell_type": "code",
   "execution_count": 12,
   "id": "d4f78baf-9f5b-401c-9886-e58f6aa85dcd",
   "metadata": {},
   "outputs": [
    {
     "name": "stdout",
     "output_type": "stream",
     "text": [
      "+----------+---------+\n",
      "|first_name|last_name|\n",
      "+----------+---------+\n",
      "|       Ann|    Evans|\n",
      "|      Anne|   Powell|\n",
      "|     Annie|  Russell|\n",
      "+----------+---------+\n",
      "\n"
     ]
    }
   ],
   "source": [
    "show_query(query4)"
   ]
  },
  {
   "cell_type": "code",
   "execution_count": 13,
   "id": "8cad10d6-da74-4d3c-b3da-94172d9018e3",
   "metadata": {},
   "outputs": [],
   "source": [
    "query5 = \"\"\"SELECT\n",
    "\tfirst_name,\n",
    "\tlast_name\n",
    "FROM\n",
    "\tcustomer\n",
    "WHERE \n",
    "\tfirst_name LIKE 'Ann%'\"\"\""
   ]
  },
  {
   "cell_type": "code",
   "execution_count": 14,
   "id": "3f50ee38-e536-4569-8e52-9732395af8c4",
   "metadata": {},
   "outputs": [
    {
     "name": "stdout",
     "output_type": "stream",
     "text": [
      "+----------+---------+\n",
      "|first_name|last_name|\n",
      "+----------+---------+\n",
      "|      Anna|     Hill|\n",
      "|       Ann|    Evans|\n",
      "|      Anne|   Powell|\n",
      "|     Annie|  Russell|\n",
      "|   Annette|    Olson|\n",
      "+----------+---------+\n",
      "\n"
     ]
    }
   ],
   "source": [
    "show_query(query5)"
   ]
  },
  {
   "cell_type": "markdown",
   "id": "5b12d54a-ca8d-468d-b6df-4468685b7d87",
   "metadata": {},
   "source": [
    "# Example 4: combining wildcards, string functions and BETWEEN clause"
   ]
  },
  {
   "cell_type": "code",
   "execution_count": 15,
   "id": "be59bf74-129a-40f8-90c8-ebdce6ee21fd",
   "metadata": {},
   "outputs": [
    {
     "name": "stdout",
     "output_type": "stream",
     "text": [
      "+----------+-----------+\n",
      "|first_name|name_length|\n",
      "+----------+-----------+\n",
      "|       Amy|          3|\n",
      "|       Ann|          3|\n",
      "|       Ana|          3|\n",
      "|      Anna|          4|\n",
      "|      Anne|          4|\n",
      "|      Alma|          4|\n",
      "|      Adam|          4|\n",
      "|      Alan|          4|\n",
      "|      Alex|          4|\n",
      "|      Andy|          4|\n",
      "|     Alice|          5|\n",
      "|     Annie|          5|\n",
      "|     Anita|          5|\n",
      "|     Amber|          5|\n",
      "|     April|          5|\n",
      "|     Agnes|          5|\n",
      "|     Aaron|          5|\n",
      "|     Allen|          5|\n",
      "|     Alvin|          5|\n",
      "|     Angel|          5|\n",
      "+----------+-----------+\n",
      "only showing top 20 rows\n",
      "\n"
     ]
    }
   ],
   "source": [
    "query6 = \"\"\"SELECT\n",
    "            \tfirst_name,\n",
    "            \tLENGTH(first_name) name_length\n",
    "            FROM\n",
    "            \tcustomer\n",
    "            WHERE \n",
    "            \tfirst_name LIKE 'A%' AND\n",
    "            \tLENGTH(first_name) BETWEEN 3 AND 5\n",
    "            ORDER BY\n",
    "            \tname_length;\n",
    "            \"\"\"\n",
    "show_query(query6)"
   ]
  },
  {
   "cell_type": "markdown",
   "id": "4ef7d19b-fb3b-47f3-bbec-497498a49e02",
   "metadata": {},
   "source": [
    "# Example 5: searching with the <> operator"
   ]
  },
  {
   "cell_type": "code",
   "execution_count": 18,
   "id": "0f579645-b7cf-41cf-b77e-fd38e76aee73",
   "metadata": {},
   "outputs": [],
   "source": [
    "query7a = \"\"\"SELECT \n",
    "                  first_name, \n",
    "                  last_name\n",
    "            FROM customer \n",
    "            WHERE first_name LIKE 'Bra%' AND \n",
    "        \tlast_name <> 'Motley';\n",
    "         \"\"\""
   ]
  },
  {
   "cell_type": "code",
   "execution_count": 19,
   "id": "0e55e616-f37e-46f6-bae2-ac682b9f167a",
   "metadata": {},
   "outputs": [
    {
     "name": "stdout",
     "output_type": "stream",
     "text": [
      "+----------+---------+\n",
      "|first_name|last_name|\n",
      "+----------+---------+\n",
      "|    Brandy|   Graves|\n",
      "|   Brandon|     Huey|\n",
      "|      Brad|  Mccurdy|\n",
      "+----------+---------+\n",
      "\n"
     ]
    }
   ],
   "source": [
    "show_query(query7a)"
   ]
  },
  {
   "cell_type": "markdown",
   "id": "196a32b5-ddd7-479a-a464-de6859426457",
   "metadata": {},
   "source": [
    "## != is also accepted"
   ]
  },
  {
   "cell_type": "code",
   "execution_count": 21,
   "id": "0482524e-2d34-4793-8bc9-a961a05cccbf",
   "metadata": {},
   "outputs": [],
   "source": [
    "query7b = \"\"\"SELECT \n",
    "                  first_name, \n",
    "                  last_name\n",
    "            FROM customer \n",
    "            WHERE first_name LIKE 'Bra%' AND \n",
    "        \tlast_name != 'Motley';\n",
    "         \"\"\""
   ]
  },
  {
   "cell_type": "code",
   "execution_count": 22,
   "id": "4ad2f4d6-77eb-4415-b287-8caa3271425c",
   "metadata": {},
   "outputs": [
    {
     "name": "stdout",
     "output_type": "stream",
     "text": [
      "+----------+---------+\n",
      "|first_name|last_name|\n",
      "+----------+---------+\n",
      "|    Brandy|   Graves|\n",
      "|   Brandon|     Huey|\n",
      "|      Brad|  Mccurdy|\n",
      "+----------+---------+\n",
      "\n"
     ]
    }
   ],
   "source": [
    "show_query(query7b)"
   ]
  },
  {
   "cell_type": "markdown",
   "id": "dd66d535-f804-44cb-b630-9c8938bae43e",
   "metadata": {},
   "source": [
    "# Example 6: Using LIMIT to constraint the number of results"
   ]
  },
  {
   "cell_type": "code",
   "execution_count": 23,
   "id": "6bc0c9e9-985b-49d9-a705-679917d4364b",
   "metadata": {},
   "outputs": [
    {
     "name": "stdout",
     "output_type": "stream",
     "text": [
      "+-------+----------------+------------+\n",
      "|film_id|           title|release_year|\n",
      "+-------+----------------+------------+\n",
      "|      1|Academy Dinosaur|        2006|\n",
      "|      2|  Ace Goldfinger|        2006|\n",
      "|      3|Adaptation Holes|        2006|\n",
      "|      4|Affair Prejudice|        2006|\n",
      "|      5|     African Egg|        2006|\n",
      "+-------+----------------+------------+\n",
      "\n"
     ]
    }
   ],
   "source": [
    "query8 = \"\"\"SELECT\n",
    "                \tfilm_id,\n",
    "                \ttitle,\n",
    "                \trelease_year\n",
    "            FROM film\n",
    "            ORDER BY film_id\n",
    "            LIMIT 5;\n",
    "        \"\"\"\n",
    "show_query(query8)"
   ]
  },
  {
   "cell_type": "markdown",
   "id": "13d5a478-7cf4-415c-ac4b-cf4e2839cb04",
   "metadata": {},
   "source": [
    "# Example 7: Using LIMIT and Offset to constraint and retrieve results from a specific position"
   ]
  },
  {
   "cell_type": "code",
   "execution_count": 24,
   "id": "33c98452-2945-491b-91fb-b9fe29c38102",
   "metadata": {},
   "outputs": [
    {
     "name": "stdout",
     "output_type": "stream",
     "text": [
      "+-------+----------------+------------+\n",
      "|film_id|           title|release_year|\n",
      "+-------+----------------+------------+\n",
      "|      4|Affair Prejudice|        2006|\n",
      "|      5|     African Egg|        2006|\n",
      "|      6|    Agent Truman|        2006|\n",
      "|      7| Airplane Sierra|        2006|\n",
      "+-------+----------------+------------+\n",
      "\n"
     ]
    }
   ],
   "source": [
    "query8 = \"\"\"SELECT\n",
    "            \tfilm_id,\n",
    "            \ttitle,\n",
    "            \trelease_year\n",
    "            FROM\n",
    "            \tfilm\n",
    "            ORDER BY\n",
    "            \tfilm_id\n",
    "            LIMIT 4\n",
    "            OFFSET 3;\n",
    "                    \"\"\"\n",
    "show_query(query8)"
   ]
  },
  {
   "cell_type": "markdown",
   "id": "5d1133f8-04d4-427d-b44c-eecd45da34ad",
   "metadata": {},
   "source": [
    "# Example 8: Using Limit to get the table tail"
   ]
  },
  {
   "cell_type": "code",
   "execution_count": 30,
   "id": "de4c0b8b-12b0-4a85-8661-c227b2d1b3a3",
   "metadata": {},
   "outputs": [
    {
     "name": "stdout",
     "output_type": "stream",
     "text": [
      "+-------+-------------------+-----------+\n",
      "|film_id|              title|rental_rate|\n",
      "+-------+-------------------+-----------+\n",
      "|      7|    Airplane Sierra|       4.99|\n",
      "|    384|   Grosse Wonderful|       4.99|\n",
      "|      8|    Airport Pollock|       4.99|\n",
      "|     98|  Bright Encounters|       4.99|\n",
      "|      2|     Ace Goldfinger|       4.99|\n",
      "|    133|    Chamber Italian|       4.99|\n",
      "|     10|   Aladdin Calendar|       4.99|\n",
      "|     13|        Ali Forever|       4.99|\n",
      "|     20|Amelie Hellfighters|       4.99|\n",
      "|     21|    American Circus|       4.99|\n",
      "+-------+-------------------+-----------+\n",
      "\n"
     ]
    }
   ],
   "source": [
    "query9 = \"\"\"SELECT\n",
    "                film_id,\n",
    "                title,\n",
    "                rental_rate\n",
    "            FROM film\n",
    "            ORDER BY rental_rate DESC\n",
    "            LIMIT 10;\"\"\"\n",
    "show_query(query9)"
   ]
  },
  {
   "cell_type": "markdown",
   "id": "0286b993-ac64-4c39-84e5-44efbc384235",
   "metadata": {},
   "source": [
    "# More IN operator examples"
   ]
  },
  {
   "cell_type": "markdown",
   "id": "965fe789-c53a-4899-befd-b2776f74955a",
   "metadata": {},
   "source": [
    "### Most common case"
   ]
  },
  {
   "cell_type": "code",
   "execution_count": 32,
   "id": "76f27344-b0d4-46d2-8ab5-99325a0d1b32",
   "metadata": {},
   "outputs": [],
   "source": [
    "query10 = \"\"\"SELECT customer_id,\n",
    "                \trental_id,\n",
    "                \treturn_date\n",
    "                FROM\n",
    "                \trental\n",
    "                WHERE\n",
    "                \tcustomer_id IN (1, 2)\n",
    "                ORDER BY\n",
    "                \treturn_date DESC;\n",
    "                 \"\"\""
   ]
  },
  {
   "cell_type": "code",
   "execution_count": 33,
   "id": "51416e7d-a5fd-45f6-864c-03014d7452d3",
   "metadata": {},
   "outputs": [
    {
     "name": "stdout",
     "output_type": "stream",
     "text": [
      "+-----------+---------+-------------------+\n",
      "|customer_id|rental_id|        return_date|\n",
      "+-----------+---------+-------------------+\n",
      "|          2|    15145|2005-08-31 15:51:04|\n",
      "|          1|    15315|2005-08-30 01:51:46|\n",
      "|          2|    14743|2005-08-29 00:18:56|\n",
      "|          1|    15298|2005-08-28 22:49:37|\n",
      "|          2|    14475|2005-08-27 08:59:32|\n",
      "|          1|    14825|2005-08-27 07:01:57|\n",
      "|          2|    15907|2005-08-25 23:23:35|\n",
      "|          2|    12963|2005-08-23 11:37:04|\n",
      "|          1|    13176|2005-08-23 08:50:54|\n",
      "|          1|    14762|2005-08-23 01:30:57|\n",
      "|          1|    12250|2005-08-22 23:05:29|\n",
      "|          1|    13068|2005-08-20 14:44:16|\n",
      "|          2|    11614|2005-08-20 07:04:18|\n",
      "|          1|    11824|2005-08-19 10:11:54|\n",
      "|          1|    11299|2005-08-10 16:40:52|\n",
      "|          1|    10437|2005-08-10 12:12:04|\n",
      "|          2|    11177|2005-08-10 10:55:48|\n",
      "|          2|    11087|2005-08-10 10:37:41|\n",
      "|          2|     9236|2005-08-08 18:52:43|\n",
      "|          2|     9296|2005-08-08 11:57:13|\n",
      "+-----------+---------+-------------------+\n",
      "only showing top 20 rows\n",
      "\n"
     ]
    }
   ],
   "source": [
    "show_query(query10)"
   ]
  },
  {
   "cell_type": "markdown",
   "id": "bf9120e9-e214-4cc0-8d2f-d48b7e88c830",
   "metadata": {},
   "source": [
    "### What IN does in the background"
   ]
  },
  {
   "cell_type": "code",
   "execution_count": 36,
   "id": "f5f817a4-0e32-494c-b831-311f61201831",
   "metadata": {},
   "outputs": [],
   "source": [
    "query11 = \"\"\"SELECT\n",
    "                \trental_id,\n",
    "                \tcustomer_id,\n",
    "                \treturn_date\n",
    "              FROM\n",
    "                \trental\n",
    "              WHERE\n",
    "                \tcustomer_id = 1 OR customer_id = 2\n",
    "              ORDER BY\n",
    "                \treturn_date DESC;\"\"\""
   ]
  },
  {
   "cell_type": "code",
   "execution_count": 37,
   "id": "1212c2f4-a773-4237-bea7-2a314330a783",
   "metadata": {},
   "outputs": [
    {
     "name": "stdout",
     "output_type": "stream",
     "text": [
      "+---------+-----------+-------------------+\n",
      "|rental_id|customer_id|        return_date|\n",
      "+---------+-----------+-------------------+\n",
      "|    15145|          2|2005-08-31 15:51:04|\n",
      "|    15315|          1|2005-08-30 01:51:46|\n",
      "|    14743|          2|2005-08-29 00:18:56|\n",
      "|    15298|          1|2005-08-28 22:49:37|\n",
      "|    14475|          2|2005-08-27 08:59:32|\n",
      "|    14825|          1|2005-08-27 07:01:57|\n",
      "|    15907|          2|2005-08-25 23:23:35|\n",
      "|    12963|          2|2005-08-23 11:37:04|\n",
      "|    13176|          1|2005-08-23 08:50:54|\n",
      "|    14762|          1|2005-08-23 01:30:57|\n",
      "|    12250|          1|2005-08-22 23:05:29|\n",
      "|    13068|          1|2005-08-20 14:44:16|\n",
      "|    11614|          2|2005-08-20 07:04:18|\n",
      "|    11824|          1|2005-08-19 10:11:54|\n",
      "|    11299|          1|2005-08-10 16:40:52|\n",
      "|    10437|          1|2005-08-10 12:12:04|\n",
      "|    11177|          2|2005-08-10 10:55:48|\n",
      "|    11087|          2|2005-08-10 10:37:41|\n",
      "|     9236|          2|2005-08-08 18:52:43|\n",
      "|     9296|          2|2005-08-08 11:57:13|\n",
      "+---------+-----------+-------------------+\n",
      "only showing top 20 rows\n",
      "\n"
     ]
    }
   ],
   "source": [
    "show_query(query11)"
   ]
  },
  {
   "cell_type": "markdown",
   "id": "91c10447-da38-470d-9e11-67aa3668aab5",
   "metadata": {},
   "source": [
    "### IN is compatible with NOT"
   ]
  },
  {
   "cell_type": "code",
   "execution_count": 38,
   "id": "d3d7d54d-011e-4bca-bc6a-c003df855bb5",
   "metadata": {},
   "outputs": [
    {
     "name": "stdout",
     "output_type": "stream",
     "text": [
      "+-----------+---------+-------------------+\n",
      "|customer_id|rental_id|        return_date|\n",
      "+-----------+---------+-------------------+\n",
      "|        459|        2|2005-05-28 19:40:33|\n",
      "|        408|        3|2005-06-01 22:12:39|\n",
      "|        333|        4|2005-06-03 01:43:41|\n",
      "|        222|        5|2005-06-02 04:33:21|\n",
      "|        549|        6|2005-05-27 01:32:07|\n",
      "|        269|        7|2005-05-29 20:34:53|\n",
      "|        239|        8|2005-05-27 23:33:46|\n",
      "|        126|        9|2005-05-28 00:22:40|\n",
      "|        399|       10|2005-05-31 22:44:21|\n",
      "|        142|       11|2005-06-02 20:56:02|\n",
      "|        261|       12|2005-05-30 05:44:27|\n",
      "|        334|       13|2005-05-30 04:28:55|\n",
      "|        446|       14|2005-05-26 02:56:15|\n",
      "|        319|       15|2005-06-03 03:30:22|\n",
      "|        316|       16|2005-05-26 04:42:11|\n",
      "|        575|       17|2005-05-27 00:43:36|\n",
      "|         19|       18|2005-05-31 06:35:47|\n",
      "|        456|       19|2005-05-31 06:00:24|\n",
      "|        185|       20|2005-05-27 02:20:41|\n",
      "|        388|       21|2005-05-26 01:01:46|\n",
      "+-----------+---------+-------------------+\n",
      "only showing top 20 rows\n",
      "\n"
     ]
    }
   ],
   "source": [
    "query12 =  \"\"\"SELECT\n",
    "                \tcustomer_id,\n",
    "                \trental_id,\n",
    "                \treturn_date\n",
    "              FROM\n",
    "                \trental\n",
    "              WHERE\n",
    "                \tcustomer_id NOT IN (1, 2);\n",
    "\"\"\"\n",
    "show_query(query12)"
   ]
  },
  {
   "cell_type": "markdown",
   "id": "77f1f162-5f2a-470f-9b7f-f5236d334a6b",
   "metadata": {},
   "source": [
    "### NOT IN equivalent. Scales poorly"
   ]
  },
  {
   "cell_type": "code",
   "execution_count": 39,
   "id": "48268a8c-080c-4dd7-bef1-5acd91541b0a",
   "metadata": {},
   "outputs": [
    {
     "name": "stdout",
     "output_type": "stream",
     "text": [
      "+-----------+---------+-------------------+\n",
      "|customer_id|rental_id|        return_date|\n",
      "+-----------+---------+-------------------+\n",
      "|        459|        2|2005-05-28 19:40:33|\n",
      "|        408|        3|2005-06-01 22:12:39|\n",
      "|        333|        4|2005-06-03 01:43:41|\n",
      "|        222|        5|2005-06-02 04:33:21|\n",
      "|        549|        6|2005-05-27 01:32:07|\n",
      "|        269|        7|2005-05-29 20:34:53|\n",
      "|        239|        8|2005-05-27 23:33:46|\n",
      "|        126|        9|2005-05-28 00:22:40|\n",
      "|        399|       10|2005-05-31 22:44:21|\n",
      "|        142|       11|2005-06-02 20:56:02|\n",
      "|        261|       12|2005-05-30 05:44:27|\n",
      "|        334|       13|2005-05-30 04:28:55|\n",
      "|        446|       14|2005-05-26 02:56:15|\n",
      "|        319|       15|2005-06-03 03:30:22|\n",
      "|        316|       16|2005-05-26 04:42:11|\n",
      "|        575|       17|2005-05-27 00:43:36|\n",
      "|         19|       18|2005-05-31 06:35:47|\n",
      "|        456|       19|2005-05-31 06:00:24|\n",
      "|        185|       20|2005-05-27 02:20:41|\n",
      "|        388|       21|2005-05-26 01:01:46|\n",
      "+-----------+---------+-------------------+\n",
      "only showing top 20 rows\n",
      "\n"
     ]
    }
   ],
   "source": [
    "query13 = \"\"\"SELECT\n",
    "            \tcustomer_id,\n",
    "            \trental_id,\n",
    "            \treturn_date\n",
    "            FROM\n",
    "            \trental\n",
    "            WHERE\n",
    "            \tcustomer_id <> 1\n",
    "            AND customer_id <> 2;\"\"\"\n",
    "show_query(query13)"
   ]
  },
  {
   "cell_type": "markdown",
   "id": "39b5ff36-8d86-44be-a92c-802d169eaaec",
   "metadata": {},
   "source": [
    "### Extra: using IN with a subquery"
   ]
  },
  {
   "cell_type": "code",
   "execution_count": 41,
   "id": "f9e1d23c-152a-409a-a24a-ff36c28b7f8b",
   "metadata": {},
   "outputs": [
    {
     "name": "stdout",
     "output_type": "stream",
     "text": [
      "+-----------+----------+----------+\n",
      "|customer_id|first_name| last_name|\n",
      "+-----------+----------+----------+\n",
      "|         37|    Pamela|     Baker|\n",
      "|         47|   Frances|    Parker|\n",
      "|         48|       Ann|     Evans|\n",
      "|         65|      Rose|    Howard|\n",
      "|         73|   Beverly|    Brooks|\n",
      "|         75|     Tammy|   Sanders|\n",
      "|         93|   Phyllis|    Foster|\n",
      "|        114|     Grace|     Ellis|\n",
      "|        119|    Sherry|  Marshall|\n",
      "|        131|    Monica|     Hicks|\n",
      "|        158|  Veronica|     Stone|\n",
      "|        167|     Sally|    Pierce|\n",
      "|        182|     Renee|      Lane|\n",
      "|        184|    Vivian|      Ruiz|\n",
      "|        185|   Roberta|    Harper|\n",
      "|        211|    Stacey|Montgomery|\n",
      "|        239|    Minnie|    Romero|\n",
      "|        247|    Stella|    Moreno|\n",
      "|        251|    Vickie|    Brewer|\n",
      "|        256|     Mabel|   Holland|\n",
      "+-----------+----------+----------+\n",
      "only showing top 20 rows\n",
      "\n"
     ]
    }
   ],
   "source": [
    "query14 = \"\"\"SELECT\n",
    "                \tcustomer_id,\n",
    "                \tfirst_name,\n",
    "                \tlast_name\n",
    "             FROM\n",
    "                \tcustomer\n",
    "             WHERE\n",
    "                \tcustomer_id IN (\n",
    "                \t\tSELECT customer_id\n",
    "                \t\tFROM rental\n",
    "                \t\tWHERE CAST (return_date AS DATE) = '2005-05-27'\n",
    "                \t)\n",
    "             ORDER BY customer_id;\"\"\"\n",
    "show_query(query14)"
   ]
  },
  {
   "cell_type": "markdown",
   "id": "0586ebee-1107-4156-a249-77142ccd0ec2",
   "metadata": {},
   "source": [
    "# More BETWEEN operator examples"
   ]
  },
  {
   "cell_type": "markdown",
   "id": "8a1fd415-434a-453c-971e-8b1c23cba522",
   "metadata": {},
   "source": [
    "### Classic use"
   ]
  },
  {
   "cell_type": "code",
   "execution_count": 42,
   "id": "565caf93-d8b5-4f14-b648-205c54a08fb6",
   "metadata": {},
   "outputs": [
    {
     "name": "stdout",
     "output_type": "stream",
     "text": [
      "+-----------+----------+------+\n",
      "|customer_id|payment_id|amount|\n",
      "+-----------+----------+------+\n",
      "|        343|     17517|  8.99|\n",
      "|        347|     17529|  8.99|\n",
      "|        347|     17532|  8.99|\n",
      "|        348|     17535|  8.99|\n",
      "|        349|     17540|  8.99|\n",
      "|        379|     17648|  8.99|\n",
      "|        403|     17747|  8.99|\n",
      "|        409|     17775|  8.99|\n",
      "|        423|     17817|  8.99|\n",
      "|        431|     17853|  8.99|\n",
      "|        442|     17886|  8.99|\n",
      "|        465|     17990|  8.99|\n",
      "|        466|     17993|  8.99|\n",
      "|        467|     17997|  8.99|\n",
      "|        468|     18002|  8.99|\n",
      "|        474|     18027|  8.99|\n",
      "|        478|     18040|  8.99|\n",
      "|        483|     18059|  8.99|\n",
      "|        485|     18065|  8.99|\n",
      "|        497|     18099|  8.99|\n",
      "+-----------+----------+------+\n",
      "only showing top 20 rows\n",
      "\n"
     ]
    }
   ],
   "source": [
    "query15 = \"\"\"SELECT\n",
    "                \tcustomer_id,\n",
    "                \tpayment_id,\n",
    "                \tamount\n",
    "             FROM\n",
    "                \tpayment\n",
    "             WHERE\n",
    "                \tamount BETWEEN 8 AND 9;\"\"\"\n",
    "show_query(query15)"
   ]
  },
  {
   "cell_type": "markdown",
   "id": "91fe6076-a049-4a96-aacf-71e1cbd83c95",
   "metadata": {},
   "source": [
    "### BETWEEN is also compatible with NOT"
   ]
  },
  {
   "cell_type": "code",
   "execution_count": 43,
   "id": "abdddc5d-f458-4e38-aa8a-5956f55e4319",
   "metadata": {},
   "outputs": [
    {
     "name": "stdout",
     "output_type": "stream",
     "text": [
      "+-----------+----------+------+\n",
      "|customer_id|payment_id|amount|\n",
      "+-----------+----------+------+\n",
      "|        341|     17503|  7.99|\n",
      "|        341|     17504|  1.99|\n",
      "|        341|     17505|  7.99|\n",
      "|        341|     17506|  2.99|\n",
      "|        341|     17507|  7.99|\n",
      "|        341|     17508|  5.99|\n",
      "|        342|     17509|  5.99|\n",
      "|        342|     17510|  5.99|\n",
      "|        342|     17511|  2.99|\n",
      "|        343|     17512|  4.99|\n",
      "|        343|     17513|  6.99|\n",
      "|        343|     17514|  0.99|\n",
      "|        343|     17515|  0.99|\n",
      "|        343|     17516|  6.99|\n",
      "|        343|     17518|  0.99|\n",
      "|        344|     17519|  3.99|\n",
      "|        344|     17520|  4.99|\n",
      "|        344|     17521|  0.99|\n",
      "|        345|     17522|  0.99|\n",
      "|        345|     17523|  4.99|\n",
      "+-----------+----------+------+\n",
      "only showing top 20 rows\n",
      "\n"
     ]
    }
   ],
   "source": [
    "query15 = \"\"\"SELECT\n",
    "                \tcustomer_id,\n",
    "                \tpayment_id,\n",
    "                \tamount\n",
    "             FROM\n",
    "                \tpayment\n",
    "             WHERE\n",
    "                \tamount NOT BETWEEN 8 AND 9;\"\"\"\n",
    "show_query(query15)"
   ]
  },
  {
   "cell_type": "markdown",
   "id": "c79e8662-7b03-4af0-9998-f71299f6f663",
   "metadata": {},
   "source": [
    "### Using BETWEEN to query dates. You must follow the ISO 8601 format i.e., YYYY-MM-DD."
   ]
  },
  {
   "cell_type": "code",
   "execution_count": 44,
   "id": "7b646d0f-bea3-4f32-8b91-119c8afefd88",
   "metadata": {},
   "outputs": [
    {
     "name": "stdout",
     "output_type": "stream",
     "text": [
      "+-----------+----------+------+--------------------+\n",
      "|customer_id|payment_id|amount|        payment_date|\n",
      "+-----------+----------+------+--------------------+\n",
      "|        368|     17610|  0.99|2007-02-14 23:25:...|\n",
      "|        370|     17617|  6.99|2007-02-14 23:33:...|\n",
      "|        402|     17743|  4.99|2007-02-14 23:53:...|\n",
      "|        416|     17793|  2.99|2007-02-14 21:21:...|\n",
      "|        432|     17854|  5.99|2007-02-14 23:07:...|\n",
      "|        481|     18051|  2.99|2007-02-14 22:03:...|\n",
      "|        512|     18155|  6.99|2007-02-14 22:57:...|\n",
      "|        516|     18173|  4.99|2007-02-14 21:23:...|\n",
      "|        546|     18276|  1.99|2007-02-14 23:10:...|\n",
      "|        561|     18322|  2.99|2007-02-14 23:52:...|\n",
      "|        592|     18441|  6.99|2007-02-14 21:41:...|\n",
      "|        595|     18456|  2.99|2007-02-14 22:16:...|\n",
      "|          1|     18495|  5.99|2007-02-14 23:22:...|\n",
      "|         46|     18686|  4.99|2007-02-14 21:45:...|\n",
      "|         49|     18698|  0.99|2007-02-14 21:44:...|\n",
      "|         95|     18870|  2.99|2007-02-14 22:41:...|\n",
      "|        119|     18963|  7.99|2007-02-14 23:05:...|\n",
      "|        139|     19036|  2.99|2007-02-14 22:11:...|\n",
      "|        173|     19159|  2.99|2007-02-14 23:32:...|\n",
      "|        186|     19212|  4.99|2007-02-14 23:47:...|\n",
      "+-----------+----------+------+--------------------+\n",
      "only showing top 20 rows\n",
      "\n"
     ]
    }
   ],
   "source": [
    "query16 =  \"\"\"SELECT\n",
    "                \tcustomer_id,\n",
    "                \tpayment_id,\n",
    "                \tamount,\n",
    "                    payment_date\n",
    "              FROM payment\n",
    "              WHERE payment_date BETWEEN '2007-02-07' AND '2007-02-15';\n",
    "              \"\"\"\n",
    "show_query(query16)"
   ]
  },
  {
   "cell_type": "markdown",
   "id": "e8141816-8f6c-4d2b-9e7c-d2337cabd04c",
   "metadata": {},
   "source": [
    "# More LIKE examples"
   ]
  },
  {
   "cell_type": "markdown",
   "id": "38a74099-cccc-4816-9950-297d4baf3bf8",
   "metadata": {},
   "source": [
    "### Like wildcards"
   ]
  },
  {
   "cell_type": "markdown",
   "id": "f962150b-f6e6-4031-9548-6e3b1e840a40",
   "metadata": {},
   "source": [
    "```\n",
    "SELECT\n",
    "\t'foo' LIKE 'foo', -- true\n",
    "\t'foo' LIKE 'f%', -- true\n",
    "\t'foo' LIKE '_o_', -- true\n",
    "\t'bar' LIKE 'b_'; -- false\n",
    "```"
   ]
  },
  {
   "cell_type": "code",
   "execution_count": 45,
   "id": "18b93a92-7daf-4111-bb9d-217d4d37d18f",
   "metadata": {},
   "outputs": [
    {
     "name": "stdout",
     "output_type": "stream",
     "text": [
      "+-----------+---------+\n",
      "| first_name|last_name|\n",
      "+-----------+---------+\n",
      "|     Albert|   Crouse|\n",
      "|    Alberto|  Henning|\n",
      "|  Alexander|  Fennell|\n",
      "|      Amber|    Dixon|\n",
      "|    Bernard|    Colby|\n",
      "|    Bernice|   Willis|\n",
      "|     Bertha| Ferguson|\n",
      "|    Beverly|   Brooks|\n",
      "|  Catherine| Campbell|\n",
      "|     Cheryl|   Murphy|\n",
      "|    Chester|   Benner|\n",
      "|Christopher|    Greco|\n",
      "|      Derek|  Blakely|\n",
      "|    Derrick|  Bourque|\n",
      "|      Elmer|      Noe|\n",
      "|     Esther| Crawford|\n",
      "|    Everett|    Banda|\n",
      "|   Fernando|Churchill|\n",
      "|  Frederick|   Isbell|\n",
      "|     Gerald|    Fultz|\n",
      "+-----------+---------+\n",
      "only showing top 20 rows\n",
      "\n"
     ]
    }
   ],
   "source": [
    "query17 =  \"\"\"SELECT\n",
    "                \tfirst_name,\n",
    "                    last_name\n",
    "              FROM\n",
    "                \tcustomer\n",
    "              WHERE\n",
    "                \tfirst_name LIKE '%er%'\n",
    "              ORDER BY \n",
    "                    first_name;\n",
    "              \"\"\"\n",
    "show_query(query17)"
   ]
  },
  {
   "cell_type": "markdown",
   "id": "34d6d470-949c-4a33-a0b6-6b2d812d8f72",
   "metadata": {},
   "source": [
    "### Valid use cases"
   ]
  },
  {
   "cell_type": "code",
   "execution_count": 46,
   "id": "e67667c6-acfb-490f-83e6-1b19f135e14e",
   "metadata": {},
   "outputs": [
    {
     "name": "stdout",
     "output_type": "stream",
     "text": [
      "+-----------+---------+\n",
      "| first_name|last_name|\n",
      "+-----------+---------+\n",
      "|     Albert|   Crouse|\n",
      "|    Alberto|  Henning|\n",
      "|  Alexander|  Fennell|\n",
      "|      Amber|    Dixon|\n",
      "|    Bernard|    Colby|\n",
      "|    Bernice|   Willis|\n",
      "|     Bertha| Ferguson|\n",
      "|    Beverly|   Brooks|\n",
      "|  Catherine| Campbell|\n",
      "|     Cheryl|   Murphy|\n",
      "|    Chester|   Benner|\n",
      "|Christopher|    Greco|\n",
      "|      Derek|  Blakely|\n",
      "|    Derrick|  Bourque|\n",
      "|      Elmer|      Noe|\n",
      "|     Esther| Crawford|\n",
      "|    Everett|    Banda|\n",
      "|   Fernando|Churchill|\n",
      "|  Frederick|   Isbell|\n",
      "|     Gerald|    Fultz|\n",
      "+-----------+---------+\n",
      "only showing top 20 rows\n",
      "\n"
     ]
    }
   ],
   "source": [
    "query18 =  \"\"\"SELECT\n",
    "                \tfirst_name,\n",
    "                    last_name\n",
    "              FROM\n",
    "                \tcustomer\n",
    "              WHERE\n",
    "                \tfirst_name LIKE '%er%'\n",
    "              ORDER BY \n",
    "                    first_name;\n",
    "              \"\"\"\n",
    "show_query(query18)"
   ]
  },
  {
   "cell_type": "code",
   "execution_count": 47,
   "id": "8d154335-fefa-40c6-9889-ac88d189786b",
   "metadata": {},
   "outputs": [
    {
     "name": "stdout",
     "output_type": "stream",
     "text": [
      "+----------+---------+\n",
      "|first_name|last_name|\n",
      "+----------+---------+\n",
      "|    Cheryl|   Murphy|\n",
      "|    Sherri|   Rhodes|\n",
      "|    Sherry| Marshall|\n",
      "|   Theresa|   Watson|\n",
      "+----------+---------+\n",
      "\n"
     ]
    }
   ],
   "source": [
    "query19 =  \"\"\"SELECT\n",
    "            \tfirst_name,\n",
    "            \tlast_name\n",
    "              FROM\n",
    "            \tcustomer\n",
    "              WHERE\n",
    "            \tfirst_name LIKE '_her%'\n",
    "              ORDER BY \n",
    "                first_name;\n",
    "              \"\"\"\n",
    "show_query(query19)"
   ]
  },
  {
   "cell_type": "markdown",
   "id": "70f8fb67-48d2-4f6e-837c-980d003b8a62",
   "metadata": {},
   "source": [
    "### ILIKE: case Insensitive LIKE"
   ]
  },
  {
   "cell_type": "code",
   "execution_count": 48,
   "id": "061b4c88-ccc2-4809-a165-91cb4933b926",
   "metadata": {},
   "outputs": [
    {
     "name": "stdout",
     "output_type": "stream",
     "text": [
      "+----------+---------+\n",
      "|first_name|last_name|\n",
      "+----------+---------+\n",
      "|   Barbara|    Jones|\n",
      "|     Barry| Lovelace|\n",
      "+----------+---------+\n",
      "\n"
     ]
    }
   ],
   "source": [
    "query20 =  \"\"\"SELECT\n",
    "\t                first_name,\n",
    "\t                last_name\n",
    "              FROM customer\n",
    "              WHERE first_name\n",
    "              ILIKE 'BAR%';\n",
    "           \"\"\"\n",
    "show_query(query20)"
   ]
  },
  {
   "cell_type": "markdown",
   "id": "23629914-373c-47e9-be83-96ac2118ff6e",
   "metadata": {},
   "source": [
    "# Example 9: IS NULL"
   ]
  },
  {
   "cell_type": "markdown",
   "id": "a901897f-a537-4043-ad03-bc8ad502283a",
   "metadata": {},
   "source": [
    "### Why to use IS NULL? Because NULL is NOT equal to NULL!!!!!"
   ]
  },
  {
   "cell_type": "markdown",
   "id": "347a1bcc-f863-41b1-9ce7-43202a82aeb6",
   "metadata": {},
   "source": [
    "#### Creating mock data"
   ]
  },
  {
   "cell_type": "code",
   "execution_count": 110,
   "id": "7511a00d-6416-4bcf-8e6d-a61b0ef94188",
   "metadata": {},
   "outputs": [],
   "source": [
    "from pyspark.sql.types import StructType,StructField, StringType, IntegerType"
   ]
  },
  {
   "cell_type": "code",
   "execution_count": 115,
   "id": "53954e4c-109f-42e9-a696-6cb053e970a0",
   "metadata": {},
   "outputs": [],
   "source": [
    "schema = StructType([ \\\n",
    "    StructField(\"id\",IntegerType(),True), \\\n",
    "    StructField(\"first_name\",StringType(),True), \\\n",
    "    StructField(\"last_name\",StringType(),True), \\\n",
    "    StructField(\"email\", StringType(), True), \\\n",
    "    StructField(\"phone\", StringType(), True), \\\n",
    "  ])\n",
    "contacts = [(1,\"John\",\"Doe\",'john.doe@example.com',None),\n",
    "            (2,\"Lily\",\"Bush\",'lily.bush@example.com','(408-234-2764)')]\n",
    "columns = ['id','first_name','last_name','email','phone']\n",
    "rdd = spark.sparkContext.parallelize(contacts)"
   ]
  },
  {
   "cell_type": "code",
   "execution_count": 116,
   "id": "917a61e8-e1f3-430c-8a6d-e9fe781dbf51",
   "metadata": {},
   "outputs": [],
   "source": [
    "df_spark = spark.createDataFrame(rdd, schema = schema)"
   ]
  },
  {
   "cell_type": "code",
   "execution_count": 117,
   "id": "be49ccdb-38c0-4735-814e-da1de901a98f",
   "metadata": {},
   "outputs": [],
   "source": [
    "df_spark.createOrReplaceTempView('contacts')"
   ]
  },
  {
   "cell_type": "markdown",
   "id": "c7a4cd75-19fc-4de5-bce6-f9a6d5beb8dc",
   "metadata": {},
   "source": [
    "### Checking if NULL equals NULL"
   ]
  },
  {
   "cell_type": "code",
   "execution_count": 119,
   "id": "e1f8ae66-312a-4657-85e2-17ca8cbbe028",
   "metadata": {},
   "outputs": [],
   "source": [
    "query21 = \"\"\"SELECT\n",
    "    id,\n",
    "    first_name,\n",
    "    last_name,\n",
    "    email,\n",
    "    phone\n",
    "FROM\n",
    "    contacts\n",
    "WHERE\n",
    "    phone = NULL;\n",
    "\"\"\""
   ]
  },
  {
   "cell_type": "code",
   "execution_count": 120,
   "id": "be09d97a-e67b-4f9d-9909-f8bd0842cf5f",
   "metadata": {},
   "outputs": [
    {
     "name": "stdout",
     "output_type": "stream",
     "text": [
      "+---+----------+---------+-----+-----+\n",
      "| id|first_name|last_name|email|phone|\n",
      "+---+----------+---------+-----+-----+\n",
      "+---+----------+---------+-----+-----+\n",
      "\n"
     ]
    }
   ],
   "source": [
    "show_query(query21)"
   ]
  },
  {
   "cell_type": "markdown",
   "id": "db830f56-ffbd-4fff-9a61-8dca49dfa00d",
   "metadata": {},
   "source": [
    "### Using IS NULL"
   ]
  },
  {
   "cell_type": "code",
   "execution_count": 121,
   "id": "a1bd696d-235b-47af-ab4a-fc4de1878609",
   "metadata": {},
   "outputs": [],
   "source": [
    "query22 = \"\"\"SELECT\n",
    "    id,\n",
    "    first_name,\n",
    "    last_name,\n",
    "    email,\n",
    "    phone\n",
    "FROM\n",
    "    contacts\n",
    "WHERE\n",
    "    phone IS NULL;\n",
    "\"\"\""
   ]
  },
  {
   "cell_type": "code",
   "execution_count": 122,
   "id": "d9e79a57-952a-4a21-aeae-6fc7e571f1fb",
   "metadata": {},
   "outputs": [
    {
     "name": "stdout",
     "output_type": "stream",
     "text": [
      "+---+----------+---------+--------------------+-----+\n",
      "| id|first_name|last_name|               email|phone|\n",
      "+---+----------+---------+--------------------+-----+\n",
      "|  1|      John|      Doe|john.doe@example.com| null|\n",
      "+---+----------+---------+--------------------+-----+\n",
      "\n"
     ]
    }
   ],
   "source": [
    "show_query(query22)"
   ]
  },
  {
   "cell_type": "code",
   "execution_count": 125,
   "id": "f1f8287c-c09c-4766-8a60-12a8960c5182",
   "metadata": {},
   "outputs": [],
   "source": [
    "query23 = \"\"\"SELECT\n",
    "                    id,\n",
    "                    first_name,\n",
    "                    last_name,\n",
    "                    email,\n",
    "                    phone\n",
    "              FROM\n",
    "                    contacts\n",
    "              WHERE\n",
    "                    phone IS NOT NULL;\"\"\""
   ]
  },
  {
   "cell_type": "code",
   "execution_count": 126,
   "id": "e297202f-0815-44b6-a5cc-0a8aacbd2f8d",
   "metadata": {},
   "outputs": [
    {
     "name": "stdout",
     "output_type": "stream",
     "text": [
      "+---+----------+---------+--------------------+--------------+\n",
      "| id|first_name|last_name|               email|         phone|\n",
      "+---+----------+---------+--------------------+--------------+\n",
      "|  2|      Lily|     Bush|lily.bush@example...|(408-234-2764)|\n",
      "+---+----------+---------+--------------------+--------------+\n",
      "\n"
     ]
    }
   ],
   "source": [
    "show_query(query23)"
   ]
  },
  {
   "cell_type": "markdown",
   "id": "9ab2c5a1-a3a3-4f4e-be00-67515288d71d",
   "metadata": {},
   "source": [
    "## Exercises"
   ]
  },
  {
   "cell_type": "markdown",
   "id": "aff57e2d-3cd5-4f81-80a9-ac3dec4a28c1",
   "metadata": {},
   "source": [
    "1) Lord Zedd hired you to find his enemies in this universe. He knows that the target keeps from the other universe either the first or the last name intact, changing the other. In his Earth, their names were:\n",
    " - Jason Lee Scott\n",
    " - Zack Taylor\n",
    " - Trini Kwan\n",
    " - Kimberly Hart\n",
    " - Billy Cranston\n",
    " - Tommy Oliver\n",
    "   \n",
    "Give to Lord Zedd a list with the potential targets. Is there a deceased one?"
   ]
  },
  {
   "cell_type": "markdown",
   "id": "d66b7fd3-ba1c-48b9-b2f1-8bc5dd04fba9",
   "metadata": {},
   "source": [
    "2) Do ALL the above, including the exercises with the Spark SQL API: https://spark.apache.org/docs/latest/api/python/reference/pyspark.sql/index.html"
   ]
  }
 ],
 "metadata": {
  "kernelspec": {
   "display_name": "Python 3 (ipykernel)",
   "language": "python",
   "name": "python3"
  },
  "language_info": {
   "codemirror_mode": {
    "name": "ipython",
    "version": 3
   },
   "file_extension": ".py",
   "mimetype": "text/x-python",
   "name": "python",
   "nbconvert_exporter": "python",
   "pygments_lexer": "ipython3",
   "version": "3.11.6"
  }
 },
 "nbformat": 4,
 "nbformat_minor": 5
}
