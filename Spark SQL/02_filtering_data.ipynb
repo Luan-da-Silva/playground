{
 "cells": [
  {
   "cell_type": "markdown",
   "id": "0e1af8ce-6270-4b45-953c-dc533bbb8086",
   "metadata": {},
   "source": [
    "# Connecting to the database"
   ]
  },
  {
   "cell_type": "code",
   "execution_count": 1,
   "id": "743d0ccc-6320-4fa6-a6e0-ea849fd58add",
   "metadata": {},
   "outputs": [],
   "source": [
    "from db_tools.setup import setup"
   ]
  },
  {
   "cell_type": "markdown",
   "id": "5dd1877b-6e52-4e97-bbef-ff16bde8d4c9",
   "metadata": {},
   "source": [
    "## Getting a SparkSession"
   ]
  },
  {
   "cell_type": "code",
   "execution_count": 2,
   "id": "02e3acab-cc7b-460f-808b-1b3dbee6c2d6",
   "metadata": {},
   "outputs": [
    {
     "name": "stderr",
     "output_type": "stream",
     "text": [
      "23/10/21 19:26:58 WARN Utils: Your hostname, luan-Dell-G15-5520 resolves to a loopback address: 127.0.1.1; using 192.168.1.10 instead (on interface wlp0s20f3)\n",
      "23/10/21 19:26:58 WARN Utils: Set SPARK_LOCAL_IP if you need to bind to another address\n",
      "23/10/21 19:26:59 WARN NativeCodeLoader: Unable to load native-hadoop library for your platform... using builtin-java classes where applicable\n",
      "Setting default log level to \"WARN\".\n",
      "To adjust logging level use sc.setLogLevel(newLevel). For SparkR, use setLogLevel(newLevel).\n",
      "23/10/21 19:27:00 WARN Utils: Service 'SparkUI' could not bind on port 4040. Attempting port 4041.\n"
     ]
    },
    {
     "name": "stdout",
     "output_type": "stream",
     "text": [
      "SparkSession available as \"spark\"\n"
     ]
    }
   ],
   "source": [
    "spark = setup()"
   ]
  },
  {
   "cell_type": "code",
   "execution_count": 3,
   "id": "99410ced-bf70-4d0c-8432-006c35818ed8",
   "metadata": {},
   "outputs": [],
   "source": [
    "def show_query(query,SparkSession = spark,n = 20):\n",
    "    return SparkSession.sql(query).show()"
   ]
  },
  {
   "cell_type": "markdown",
   "id": "3a5825a6-f3ef-4bf9-9675-f37996eab3d1",
   "metadata": {},
   "source": [
    "## Example 1: Filtering names from the Database"
   ]
  },
  {
   "cell_type": "code",
   "execution_count": 4,
   "id": "004d1a68-8a23-40df-a491-7e2621f88443",
   "metadata": {},
   "outputs": [],
   "source": [
    "query1 = \"\"\"SELECT\n",
    "            \tlast_name,\n",
    "            \tfirst_name\n",
    "            FROM\n",
    "            \tcustomer\n",
    "            WHERE\n",
    "            \tfirst_name = 'Jamie';\"\"\""
   ]
  },
  {
   "cell_type": "code",
   "execution_count": 5,
   "id": "405b1fa7-c326-4aa6-b537-7957bc6a0f98",
   "metadata": {},
   "outputs": [
    {
     "name": "stdout",
     "output_type": "stream",
     "text": [
      "+---------+----------+\n",
      "|last_name|first_name|\n",
      "+---------+----------+\n",
      "|     Rice|     Jamie|\n",
      "|    Waugh|     Jamie|\n",
      "+---------+----------+\n",
      "\n"
     ]
    }
   ],
   "source": [
    "show_query(query1)"
   ]
  },
  {
   "cell_type": "markdown",
   "id": "5149804e-eda0-4db7-b819-d9eb83fc697c",
   "metadata": {},
   "source": [
    "## Example 2: Filtering names from the Database with logical operators"
   ]
  },
  {
   "cell_type": "code",
   "execution_count": 10,
   "id": "6d61c265-bfde-4090-96c0-3894bac4416b",
   "metadata": {},
   "outputs": [],
   "source": [
    "query2 = \"\"\"SELECT\n",
    "                last_name,\n",
    "            \tfirst_name\n",
    "            FROM customer\n",
    "            WHERE first_name = 'Jamie' AND \n",
    "            last_name = 'Rice';\"\"\""
   ]
  },
  {
   "cell_type": "code",
   "execution_count": 11,
   "id": "07b2e81f-5601-41dc-8648-e3b759656405",
   "metadata": {},
   "outputs": [
    {
     "name": "stdout",
     "output_type": "stream",
     "text": [
      "+---------+----------+\n",
      "|last_name|first_name|\n",
      "+---------+----------+\n",
      "|     Rice|     Jamie|\n",
      "+---------+----------+\n",
      "\n"
     ]
    }
   ],
   "source": [
    "show_query(query2)"
   ]
  },
  {
   "cell_type": "code",
   "execution_count": 12,
   "id": "620a1a4d-41eb-4563-ad62-fa62d11e133d",
   "metadata": {},
   "outputs": [],
   "source": [
    "query3 = \"\"\"SELECT\n",
    "            \tfirst_name,\n",
    "            \tlast_name\n",
    "            FROM\n",
    "            \tcustomer\n",
    "            WHERE\n",
    "            \tlast_name = 'Rodriguez' OR \n",
    "            \tfirst_name = 'Adam';\"\"\""
   ]
  },
  {
   "cell_type": "code",
   "execution_count": 13,
   "id": "b20abad8-03c3-4bca-8112-1fdfe28c84c4",
   "metadata": {},
   "outputs": [
    {
     "name": "stdout",
     "output_type": "stream",
     "text": [
      "+----------+---------+\n",
      "|first_name|last_name|\n",
      "+----------+---------+\n",
      "|     Laura|Rodriguez|\n",
      "|      Adam|    Gooch|\n",
      "+----------+---------+\n",
      "\n"
     ]
    }
   ],
   "source": [
    "show_query(query3)"
   ]
  },
  {
   "cell_type": "markdown",
   "id": "b209d6f7-60ed-4be7-8275-26d1cc3a2297",
   "metadata": {},
   "source": [
    "## Example 3: Filtering names from the Database with the IN operator"
   ]
  },
  {
   "cell_type": "code",
   "execution_count": 14,
   "id": "46aa5bdc-17f5-406a-a06b-4bab3bc38d45",
   "metadata": {},
   "outputs": [],
   "source": [
    "query4 = \"\"\"SELECT\n",
    "\tfirst_name,\n",
    "\tlast_name\n",
    "FROM\n",
    "\tcustomer\n",
    "WHERE \n",
    "\tfirst_name IN ('Ann','Anne','Annie');\"\"\""
   ]
  },
  {
   "cell_type": "code",
   "execution_count": 17,
   "id": "d4f78baf-9f5b-401c-9886-e58f6aa85dcd",
   "metadata": {},
   "outputs": [
    {
     "name": "stdout",
     "output_type": "stream",
     "text": [
      "+----------+---------+\n",
      "|first_name|last_name|\n",
      "+----------+---------+\n",
      "|       Ann|    Evans|\n",
      "|      Anne|   Powell|\n",
      "|     Annie|  Russell|\n",
      "+----------+---------+\n",
      "\n"
     ]
    }
   ],
   "source": [
    "show_query(query4)"
   ]
  },
  {
   "cell_type": "code",
   "execution_count": 18,
   "id": "8cad10d6-da74-4d3c-b3da-94172d9018e3",
   "metadata": {},
   "outputs": [],
   "source": [
    "query5 = \"\"\"SELECT\n",
    "\tfirst_name,\n",
    "\tlast_name\n",
    "FROM\n",
    "\tcustomer\n",
    "WHERE \n",
    "\tfirst_name LIKE 'Ann%'\"\"\""
   ]
  },
  {
   "cell_type": "code",
   "execution_count": 19,
   "id": "3f50ee38-e536-4569-8e52-9732395af8c4",
   "metadata": {},
   "outputs": [
    {
     "name": "stdout",
     "output_type": "stream",
     "text": [
      "+----------+---------+\n",
      "|first_name|last_name|\n",
      "+----------+---------+\n",
      "|      Anna|     Hill|\n",
      "|       Ann|    Evans|\n",
      "|      Anne|   Powell|\n",
      "|     Annie|  Russell|\n",
      "|   Annette|    Olson|\n",
      "+----------+---------+\n",
      "\n"
     ]
    }
   ],
   "source": [
    "show_query(query5)"
   ]
  },
  {
   "cell_type": "code",
   "execution_count": null,
   "id": "8577d74c-144d-4960-86bf-3cdb10efa5a5",
   "metadata": {},
   "outputs": [],
   "source": []
  }
 ],
 "metadata": {
  "kernelspec": {
   "display_name": "Python 3 (ipykernel)",
   "language": "python",
   "name": "python3"
  },
  "language_info": {
   "codemirror_mode": {
    "name": "ipython",
    "version": 3
   },
   "file_extension": ".py",
   "mimetype": "text/x-python",
   "name": "python",
   "nbconvert_exporter": "python",
   "pygments_lexer": "ipython3",
   "version": "3.11.6"
  }
 },
 "nbformat": 4,
 "nbformat_minor": 5
}
