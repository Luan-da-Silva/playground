{
 "cells": [
  {
   "cell_type": "code",
   "execution_count": 45,
   "id": "d328e3cc-1acb-4497-af4d-4897fa6e383e",
   "metadata": {},
   "outputs": [],
   "source": [
    "from db_tools.setup import setup\n",
    "from pyspark.sql import functions as F\n",
    "from pyspark.sql.types import StructType,StructField, StringType, IntegerType,FloatType,DecimalType\n",
    "import pandas as pd"
   ]
  },
  {
   "cell_type": "code",
   "execution_count": 4,
   "id": "46dc3a53-9803-4258-acc6-e7eab15e6914",
   "metadata": {},
   "outputs": [
    {
     "name": "stderr",
     "output_type": "stream",
     "text": [
      "23/12/27 19:17:51 WARN Utils: Your hostname, luan-Dell-G15-5520 resolves to a loopback address: 127.0.1.1; using 192.168.1.12 instead (on interface wlp0s20f3)\n",
      "23/12/27 19:17:51 WARN Utils: Set SPARK_LOCAL_IP if you need to bind to another address\n",
      "23/12/27 19:17:52 WARN NativeCodeLoader: Unable to load native-hadoop library for your platform... using builtin-java classes where applicable\n",
      "Setting default log level to \"WARN\".\n",
      "To adjust logging level use sc.setLogLevel(newLevel). For SparkR, use setLogLevel(newLevel).\n"
     ]
    },
    {
     "name": "stdout",
     "output_type": "stream",
     "text": [
      "SparkSession available as \"spark\"\n"
     ]
    }
   ],
   "source": [
    "spark = setup()"
   ]
  },
  {
   "cell_type": "code",
   "execution_count": 5,
   "id": "7ea7aecf-a9fa-485b-bbb8-44465b62f5cc",
   "metadata": {},
   "outputs": [],
   "source": [
    "def show_query(query,SparkSession = spark,n = 20):\n",
    "    return SparkSession.sql(query).show()"
   ]
  },
  {
   "cell_type": "markdown",
   "id": "cb26a035-f2d5-4ed5-93cf-2a59dc59e221",
   "metadata": {},
   "source": [
    "## Creating the table example"
   ]
  },
  {
   "cell_type": "code",
   "execution_count": 6,
   "id": "37612a12-2a59-4ea6-baf8-1168072baa5f",
   "metadata": {},
   "outputs": [],
   "source": [
    "product_group_schema = StructType([ \\\n",
    "    StructField(\"group_id\",IntegerType(),True), \\\n",
    "    StructField(\"group_name\",StringType(),True)\n",
    "  ])\n",
    "\n",
    "product_schema = StructType([ \\\n",
    "    StructField(\"product_id\",IntegerType(),True), \\\n",
    "    StructField(\"product_name\",StringType(),True),\\\n",
    "    StructField(\"group_id\",IntegerType(),True),\\\n",
    "    StructField(\"price\",FloatType(),True), \\\n",
    "  ])\n",
    "\n",
    "product_groups =   [(1,'Smartphone'),\n",
    "                    (2,'Laptop'),\n",
    "                    (3,'Tablet')]\n",
    "products = [(1,'Microsoft Lumia', 1, 200.00),\n",
    "            (2,'HTC One', 1, 400.00),\n",
    "        \t(3,'Nexus', 1, 500.00),\n",
    "        \t(4,'iPhone', 1, 900.00),\n",
    "        \t(5,'HP Elite', 2, 1200.00),\n",
    "        \t(6,'Lenovo Thinkpad', 2, 700.00),\n",
    "        \t(7,'Sony VAIO', 2, 700.00),\n",
    "        \t(8,'Dell Vostro', 2, 800.00),\n",
    "        \t(9,'iPad', 3, 700.00),\n",
    "        \t(10,'Kindle Fire', 3, 150.00),\n",
    "        \t(11,'Samsung Galaxy Tab', 3, 200.00)]\n",
    "rdd = spark.sparkContext.parallelize(product_groups)\n",
    "spark.createDataFrame(rdd, schema = product_group_schema).createOrReplaceTempView('product_groups')\n",
    "rdd = spark.sparkContext.parallelize(products)\n",
    "spark.createDataFrame(rdd, schema = product_schema).createOrReplaceTempView('products')"
   ]
  },
  {
   "cell_type": "markdown",
   "id": "6cc960f0-7512-4263-822e-daa3ae4975fd",
   "metadata": {},
   "source": [
    "## Aggregate functions review"
   ]
  },
  {
   "cell_type": "code",
   "execution_count": 7,
   "id": "1b0b91e9-2cce-4fb3-b0a5-99b34c8502b2",
   "metadata": {},
   "outputs": [
    {
     "name": "stderr",
     "output_type": "stream",
     "text": [
      "[Stage 1:==========================================>              (12 + 4) / 16]\r"
     ]
    },
    {
     "name": "stdout",
     "output_type": "stream",
     "text": [
      "+-----------------+\n",
      "|       avg(price)|\n",
      "+-----------------+\n",
      "|586.3636363636364|\n",
      "+-----------------+\n",
      "\n"
     ]
    },
    {
     "name": "stderr",
     "output_type": "stream",
     "text": [
      "                                                                                \r"
     ]
    }
   ],
   "source": [
    "query = \"\"\"SELECT\n",
    "\tAVG (price)\n",
    "FROM\n",
    "\tproducts;\n",
    "\"\"\"\n",
    "show_query(query)"
   ]
  },
  {
   "cell_type": "code",
   "execution_count": 8,
   "id": "8d9e1c96-3469-4ef4-9c63-c1f57a118553",
   "metadata": {},
   "outputs": [
    {
     "name": "stderr",
     "output_type": "stream",
     "text": [
      "[Stage 4:===============> (15 + 1) / 16][Stage 5:>                (0 + 16) / 16]\r"
     ]
    },
    {
     "name": "stdout",
     "output_type": "stream",
     "text": [
      "+----------+----------+\n",
      "|group_name|avg(price)|\n",
      "+----------+----------+\n",
      "|    Laptop|     850.0|\n",
      "|    Tablet|     350.0|\n",
      "|Smartphone|     500.0|\n",
      "+----------+----------+\n",
      "\n"
     ]
    },
    {
     "name": "stderr",
     "output_type": "stream",
     "text": [
      "                                                                                \r"
     ]
    }
   ],
   "source": [
    "query = \"\"\"\n",
    "SELECT\n",
    "\tgroup_name,\n",
    "\tAVG (price)\n",
    "FROM\n",
    "\tproducts\n",
    "INNER JOIN product_groups USING (group_id)\n",
    "GROUP BY\n",
    "\tgroup_name;\"\"\"\n",
    "show_query(query)"
   ]
  },
  {
   "cell_type": "markdown",
   "id": "0e21751d-f1ee-499f-932a-77725e23c90c",
   "metadata": {},
   "source": [
    "## Basic window example: mean"
   ]
  },
  {
   "cell_type": "code",
   "execution_count": 9,
   "id": "87d60908-6077-4d0b-a2b9-fbda544782c8",
   "metadata": {},
   "outputs": [
    {
     "name": "stderr",
     "output_type": "stream",
     "text": [
      "[Stage 14:==========================================>             (12 + 4) / 16]\r"
     ]
    },
    {
     "name": "stdout",
     "output_type": "stream",
     "text": [
      "+------------------+------+----------+---------+\n",
      "|      product_name| price|group_name|avg_price|\n",
      "+------------------+------+----------+---------+\n",
      "|          HP Elite|1200.0|    Laptop|    850.0|\n",
      "|   Lenovo Thinkpad| 700.0|    Laptop|    850.0|\n",
      "|         Sony VAIO| 700.0|    Laptop|    850.0|\n",
      "|       Dell Vostro| 800.0|    Laptop|    850.0|\n",
      "|   Microsoft Lumia| 200.0|Smartphone|    500.0|\n",
      "|           HTC One| 400.0|Smartphone|    500.0|\n",
      "|             Nexus| 500.0|Smartphone|    500.0|\n",
      "|            iPhone| 900.0|Smartphone|    500.0|\n",
      "|              iPad| 700.0|    Tablet|    350.0|\n",
      "|       Kindle Fire| 150.0|    Tablet|    350.0|\n",
      "|Samsung Galaxy Tab| 200.0|    Tablet|    350.0|\n",
      "+------------------+------+----------+---------+\n",
      "\n"
     ]
    },
    {
     "name": "stderr",
     "output_type": "stream",
     "text": [
      "                                                                                \r"
     ]
    }
   ],
   "source": [
    "query = \"\"\"\n",
    "SELECT\n",
    "\tproduct_name,\n",
    "\tprice,\n",
    "\tgroup_name,\n",
    "\tAVG (price) OVER (\n",
    "\t   PARTITION BY group_name\n",
    "\t) AS avg_price\n",
    "FROM\n",
    "\tproducts\n",
    "\tINNER JOIN \n",
    "\t\tproduct_groups USING (group_id);\n",
    "\"\"\"\n",
    "show_query(query)"
   ]
  },
  {
   "cell_type": "markdown",
   "id": "cb5aa0bc-6609-4fae-ab4b-8a6e4e556be3",
   "metadata": {},
   "source": [
    "## Window functions: ROW_NUMBER"
   ]
  },
  {
   "cell_type": "code",
   "execution_count": 10,
   "id": "24269f05-6e9e-4025-91d1-f7f6897e81dc",
   "metadata": {},
   "outputs": [
    {
     "name": "stdout",
     "output_type": "stream",
     "text": [
      "+------------------+----------+------+---------------------------------------------------------------------------------------------------------------------------+\n",
      "|      product_name|group_name| price|row_number() OVER (PARTITION BY group_name ORDER BY price ASC NULLS FIRST ROWS BETWEEN UNBOUNDED PRECEDING AND CURRENT ROW)|\n",
      "+------------------+----------+------+---------------------------------------------------------------------------------------------------------------------------+\n",
      "|   Lenovo Thinkpad|    Laptop| 700.0|                                                                                                                          1|\n",
      "|         Sony VAIO|    Laptop| 700.0|                                                                                                                          2|\n",
      "|       Dell Vostro|    Laptop| 800.0|                                                                                                                          3|\n",
      "|          HP Elite|    Laptop|1200.0|                                                                                                                          4|\n",
      "|   Microsoft Lumia|Smartphone| 200.0|                                                                                                                          1|\n",
      "|           HTC One|Smartphone| 400.0|                                                                                                                          2|\n",
      "|             Nexus|Smartphone| 500.0|                                                                                                                          3|\n",
      "|            iPhone|Smartphone| 900.0|                                                                                                                          4|\n",
      "|       Kindle Fire|    Tablet| 150.0|                                                                                                                          1|\n",
      "|Samsung Galaxy Tab|    Tablet| 200.0|                                                                                                                          2|\n",
      "|              iPad|    Tablet| 700.0|                                                                                                                          3|\n",
      "+------------------+----------+------+---------------------------------------------------------------------------------------------------------------------------+\n",
      "\n"
     ]
    }
   ],
   "source": [
    "query = \"\"\"\n",
    "SELECT\n",
    "\tproduct_name,\n",
    "\tgroup_name,\n",
    "\tprice,\n",
    "\tROW_NUMBER () OVER (\n",
    "\t\tPARTITION BY group_name\n",
    "\t\tORDER BY\n",
    "\t\t\tprice\n",
    "\t)\n",
    "FROM\n",
    "\tproducts\n",
    "INNER JOIN product_groups USING (group_id);\n",
    "\"\"\"\n",
    "show_query(query)"
   ]
  },
  {
   "cell_type": "markdown",
   "id": "98eb03cb-f184-4500-a520-b06decf36b95",
   "metadata": {},
   "source": [
    "## Window functions: RANK"
   ]
  },
  {
   "cell_type": "code",
   "execution_count": 11,
   "id": "2fc03adc-8851-48cc-8259-cbb604600d80",
   "metadata": {},
   "outputs": [
    {
     "name": "stdout",
     "output_type": "stream",
     "text": [
      "+------------------+----------+------+----------+\n",
      "|      product_name|group_name| price|price_rank|\n",
      "+------------------+----------+------+----------+\n",
      "|          HP Elite|    Laptop|1200.0|         4|\n",
      "|            iPhone|Smartphone| 900.0|         4|\n",
      "|       Dell Vostro|    Laptop| 800.0|         3|\n",
      "|             Nexus|Smartphone| 500.0|         3|\n",
      "|              iPad|    Tablet| 700.0|         3|\n",
      "|           HTC One|Smartphone| 400.0|         2|\n",
      "|Samsung Galaxy Tab|    Tablet| 200.0|         2|\n",
      "|   Lenovo Thinkpad|    Laptop| 700.0|         1|\n",
      "|         Sony VAIO|    Laptop| 700.0|         1|\n",
      "|   Microsoft Lumia|Smartphone| 200.0|         1|\n",
      "|       Kindle Fire|    Tablet| 150.0|         1|\n",
      "+------------------+----------+------+----------+\n",
      "\n"
     ]
    }
   ],
   "source": [
    "query = '''\n",
    "SELECT\n",
    "\tproduct_name,\n",
    "\tgroup_name,\n",
    "  price,\n",
    "\tRANK () OVER (\n",
    "\t\tPARTITION BY group_name\n",
    "\t\tORDER BY\n",
    "\t\t\tprice\n",
    "\t) AS price_rank\n",
    "FROM\n",
    "\tproducts\n",
    "INNER JOIN product_groups USING (group_id)\n",
    "ORDER BY price_rank DESC;\n",
    "'''\n",
    "show_query(query)\n"
   ]
  },
  {
   "cell_type": "markdown",
   "id": "079e785b-5030-4d0e-8aa1-c35e775918eb",
   "metadata": {},
   "source": [
    "## Window functions:DENSE_RANK"
   ]
  },
  {
   "cell_type": "code",
   "execution_count": 12,
   "id": "0c44d980-4a48-464f-883f-8fb51c86a395",
   "metadata": {},
   "outputs": [
    {
     "name": "stdout",
     "output_type": "stream",
     "text": [
      "+------------------+----------+------+----------+\n",
      "|      product_name|group_name| price|price_rank|\n",
      "+------------------+----------+------+----------+\n",
      "|   Lenovo Thinkpad|    Laptop| 700.0|         1|\n",
      "|         Sony VAIO|    Laptop| 700.0|         1|\n",
      "|       Dell Vostro|    Laptop| 800.0|         2|\n",
      "|          HP Elite|    Laptop|1200.0|         3|\n",
      "|   Microsoft Lumia|Smartphone| 200.0|         1|\n",
      "|           HTC One|Smartphone| 400.0|         2|\n",
      "|             Nexus|Smartphone| 500.0|         3|\n",
      "|            iPhone|Smartphone| 900.0|         4|\n",
      "|       Kindle Fire|    Tablet| 150.0|         1|\n",
      "|Samsung Galaxy Tab|    Tablet| 200.0|         2|\n",
      "|              iPad|    Tablet| 700.0|         3|\n",
      "+------------------+----------+------+----------+\n",
      "\n"
     ]
    }
   ],
   "source": [
    "query = '''\n",
    "SELECT\n",
    "\tproduct_name,\n",
    "\tgroup_name,\n",
    "  price,\n",
    "\tDENSE_RANK () OVER (\n",
    "\t\tPARTITION BY group_name\n",
    "\t\tORDER BY\n",
    "\t\t\tprice\n",
    "\t) AS price_rank\n",
    "FROM\n",
    "\tproducts\n",
    "INNER JOIN product_groups USING (group_id)\n",
    "'''\n",
    "show_query(query)\n"
   ]
  },
  {
   "cell_type": "markdown",
   "id": "ca90490c-a283-44e3-853f-93a5f21d73f1",
   "metadata": {},
   "source": [
    "## Window functions: FIRST_VALUE"
   ]
  },
  {
   "cell_type": "code",
   "execution_count": 13,
   "id": "78b64cd6-9dcc-4194-86f7-0b7a59cf97de",
   "metadata": {},
   "outputs": [
    {
     "name": "stdout",
     "output_type": "stream",
     "text": [
      "+------------------+----------+------+----------------------+\n",
      "|      product_name|group_name| price|lowest_price_per_group|\n",
      "+------------------+----------+------+----------------------+\n",
      "|   Lenovo Thinkpad|    Laptop| 700.0|                 700.0|\n",
      "|         Sony VAIO|    Laptop| 700.0|                 700.0|\n",
      "|       Dell Vostro|    Laptop| 800.0|                 700.0|\n",
      "|          HP Elite|    Laptop|1200.0|                 700.0|\n",
      "|   Microsoft Lumia|Smartphone| 200.0|                 200.0|\n",
      "|           HTC One|Smartphone| 400.0|                 200.0|\n",
      "|             Nexus|Smartphone| 500.0|                 200.0|\n",
      "|            iPhone|Smartphone| 900.0|                 200.0|\n",
      "|       Kindle Fire|    Tablet| 150.0|                 150.0|\n",
      "|Samsung Galaxy Tab|    Tablet| 200.0|                 150.0|\n",
      "|              iPad|    Tablet| 700.0|                 150.0|\n",
      "+------------------+----------+------+----------------------+\n",
      "\n"
     ]
    }
   ],
   "source": [
    "query = '''\n",
    "SELECT\n",
    "\tproduct_name,\n",
    "\tgroup_name,\n",
    "\tprice,\n",
    "\tFIRST_VALUE (price) OVER (\n",
    "\t\tPARTITION BY group_name\n",
    "\t\tORDER BY\n",
    "\t\t\tprice\n",
    "\t) AS lowest_price_per_group\n",
    "FROM\n",
    "\tproducts\n",
    "INNER JOIN product_groups USING (group_id);\n",
    "'''\n",
    "show_query(query)"
   ]
  },
  {
   "cell_type": "markdown",
   "id": "0ee7b0c1-e04e-4da6-9db5-6e5dcb66602b",
   "metadata": {},
   "source": [
    "## Window functions: LAST_VALUE"
   ]
  },
  {
   "cell_type": "code",
   "execution_count": 14,
   "id": "6d7a3ba6-4852-4e76-ba76-95f20dbe91b8",
   "metadata": {},
   "outputs": [
    {
     "name": "stdout",
     "output_type": "stream",
     "text": [
      "+------------------+----------+------+----------------------+\n",
      "|      product_name|group_name| price|lowest_price_per_group|\n",
      "+------------------+----------+------+----------------------+\n",
      "|   Lenovo Thinkpad|    Laptop| 700.0|                 700.0|\n",
      "|         Sony VAIO|    Laptop| 700.0|                 700.0|\n",
      "|       Dell Vostro|    Laptop| 800.0|                 800.0|\n",
      "|          HP Elite|    Laptop|1200.0|                1200.0|\n",
      "|   Microsoft Lumia|Smartphone| 200.0|                 200.0|\n",
      "|           HTC One|Smartphone| 400.0|                 400.0|\n",
      "|             Nexus|Smartphone| 500.0|                 500.0|\n",
      "|            iPhone|Smartphone| 900.0|                 900.0|\n",
      "|       Kindle Fire|    Tablet| 150.0|                 150.0|\n",
      "|Samsung Galaxy Tab|    Tablet| 200.0|                 200.0|\n",
      "|              iPad|    Tablet| 700.0|                 700.0|\n",
      "+------------------+----------+------+----------------------+\n",
      "\n"
     ]
    }
   ],
   "source": [
    "query = '''\n",
    "SELECT\n",
    "\tproduct_name,\n",
    "\tgroup_name,\n",
    "\tprice,\n",
    "\tLAST_VALUE (price) OVER (\n",
    "\t\tPARTITION BY group_name\n",
    "\t\tORDER BY\n",
    "\t\t\tprice\n",
    "\t) AS lowest_price_per_group\n",
    "FROM\n",
    "\tproducts\n",
    "INNER JOIN product_groups USING (group_id);\n",
    "'''\n",
    "show_query(query)"
   ]
  },
  {
   "cell_type": "markdown",
   "id": "addea9aa-b3fe-45fd-a7d4-277370fbaa51",
   "metadata": {},
   "source": [
    "## Window functions: LAG"
   ]
  },
  {
   "cell_type": "code",
   "execution_count": 15,
   "id": "21679491-428c-43b3-872b-d43d7bb8a002",
   "metadata": {},
   "outputs": [
    {
     "name": "stdout",
     "output_type": "stream",
     "text": [
      "+------------------+----------+------+----------+-------------+\n",
      "|      product_name|group_name| price|prev_price|cur_prev_diff|\n",
      "+------------------+----------+------+----------+-------------+\n",
      "|   Lenovo Thinkpad|    Laptop| 700.0|      null|         null|\n",
      "|         Sony VAIO|    Laptop| 700.0|     700.0|          0.0|\n",
      "|       Dell Vostro|    Laptop| 800.0|     700.0|        100.0|\n",
      "|          HP Elite|    Laptop|1200.0|     800.0|        400.0|\n",
      "|   Microsoft Lumia|Smartphone| 200.0|      null|         null|\n",
      "|           HTC One|Smartphone| 400.0|     200.0|        200.0|\n",
      "|             Nexus|Smartphone| 500.0|     400.0|        100.0|\n",
      "|            iPhone|Smartphone| 900.0|     500.0|        400.0|\n",
      "|       Kindle Fire|    Tablet| 150.0|      null|         null|\n",
      "|Samsung Galaxy Tab|    Tablet| 200.0|     150.0|         50.0|\n",
      "|              iPad|    Tablet| 700.0|     200.0|        500.0|\n",
      "+------------------+----------+------+----------+-------------+\n",
      "\n"
     ]
    }
   ],
   "source": [
    "query = '''\n",
    "SELECT\n",
    "\tproduct_name,\n",
    "\tgroup_name,\n",
    "\tprice,\n",
    "\tLAG (price, 1) OVER (\n",
    "\t\tPARTITION BY group_name\n",
    "\t\tORDER BY\n",
    "\t\t\tprice\n",
    "\t) AS prev_price,\n",
    "\tprice - LAG (price, 1) OVER (\n",
    "\t\tPARTITION BY group_name\n",
    "\t\tORDER BY\n",
    "\t\t\tprice\n",
    "\t) AS cur_prev_diff\n",
    "FROM\n",
    "\tproducts\n",
    "INNER JOIN product_groups USING (group_id);\n",
    "'''\n",
    "show_query(query)"
   ]
  },
  {
   "cell_type": "markdown",
   "id": "a4eb210f-1f73-482c-8834-06d35e6a7659",
   "metadata": {},
   "source": [
    "## Window functions: LAG + Filling NULLs with COALESCE"
   ]
  },
  {
   "cell_type": "code",
   "execution_count": 16,
   "id": "4bceb561-bad1-42e9-8153-a1e117fc52bf",
   "metadata": {},
   "outputs": [
    {
     "name": "stdout",
     "output_type": "stream",
     "text": [
      "+------------------+----------+------+----------+-------------+\n",
      "|      product_name|group_name| price|prev_price|cur_prev_diff|\n",
      "+------------------+----------+------+----------+-------------+\n",
      "|   Lenovo Thinkpad|    Laptop| 700.0|       0.0|        700.0|\n",
      "|         Sony VAIO|    Laptop| 700.0|     700.0|          0.0|\n",
      "|       Dell Vostro|    Laptop| 800.0|     700.0|        100.0|\n",
      "|          HP Elite|    Laptop|1200.0|     800.0|        400.0|\n",
      "|   Microsoft Lumia|Smartphone| 200.0|       0.0|        200.0|\n",
      "|           HTC One|Smartphone| 400.0|     200.0|        200.0|\n",
      "|             Nexus|Smartphone| 500.0|     400.0|        100.0|\n",
      "|            iPhone|Smartphone| 900.0|     500.0|        400.0|\n",
      "|       Kindle Fire|    Tablet| 150.0|       0.0|        150.0|\n",
      "|Samsung Galaxy Tab|    Tablet| 200.0|     150.0|         50.0|\n",
      "|              iPad|    Tablet| 700.0|     200.0|        500.0|\n",
      "+------------------+----------+------+----------+-------------+\n",
      "\n"
     ]
    },
    {
     "name": "stderr",
     "output_type": "stream",
     "text": [
      "                                                                                \r"
     ]
    }
   ],
   "source": [
    "query = '''\n",
    "SELECT\n",
    "\tproduct_name,\n",
    "\tgroup_name,\n",
    "\tprice,\n",
    "\tCOALESCE( LAG (price, 1) OVER (\n",
    "\t\tPARTITION BY group_name\n",
    "\t\tORDER BY\n",
    "\t\t\tprice\n",
    "\t),0) AS prev_price,\n",
    "\tprice - COALESCE(\n",
    "                     (LAG (price, 1) OVER (\n",
    "                     PARTITION BY group_name\n",
    "            \t\tORDER BY price)),0\n",
    "\t)  AS cur_prev_diff\n",
    "FROM\n",
    "\tproducts\n",
    "INNER JOIN product_groups USING (group_id);\n",
    "'''\n",
    "show_query(query)"
   ]
  },
  {
   "cell_type": "markdown",
   "id": "d48acab3-88de-44f5-9b27-d8cc8ce0f526",
   "metadata": {},
   "source": [
    "## Window functions: LEAD"
   ]
  },
  {
   "cell_type": "code",
   "execution_count": 17,
   "id": "a31986c9-03e6-43de-b945-64ad4d0be59c",
   "metadata": {},
   "outputs": [
    {
     "name": "stdout",
     "output_type": "stream",
     "text": [
      "+------------------+----------+------+----------+-------------+\n",
      "|      product_name|group_name| price|prev_price|cur_prev_diff|\n",
      "+------------------+----------+------+----------+-------------+\n",
      "|   Lenovo Thinkpad|    Laptop| 700.0|      null|          0.0|\n",
      "|         Sony VAIO|    Laptop| 700.0|     700.0|       -100.0|\n",
      "|       Dell Vostro|    Laptop| 800.0|     700.0|       -400.0|\n",
      "|          HP Elite|    Laptop|1200.0|     800.0|         null|\n",
      "|   Microsoft Lumia|Smartphone| 200.0|      null|       -200.0|\n",
      "|           HTC One|Smartphone| 400.0|     200.0|       -100.0|\n",
      "|             Nexus|Smartphone| 500.0|     400.0|       -400.0|\n",
      "|            iPhone|Smartphone| 900.0|     500.0|         null|\n",
      "|       Kindle Fire|    Tablet| 150.0|      null|        -50.0|\n",
      "|Samsung Galaxy Tab|    Tablet| 200.0|     150.0|       -500.0|\n",
      "|              iPad|    Tablet| 700.0|     200.0|         null|\n",
      "+------------------+----------+------+----------+-------------+\n",
      "\n"
     ]
    }
   ],
   "source": [
    "query = '''\n",
    "SELECT\n",
    "\tproduct_name,\n",
    "\tgroup_name,\n",
    "\tprice,\n",
    "\tLAG (price, 1) OVER (\n",
    "\t\tPARTITION BY group_name\n",
    "\t\tORDER BY\n",
    "\t\t\tprice\n",
    "\t) AS prev_price,\n",
    "\tprice - LEAD (price, 1) OVER (\n",
    "\t\tPARTITION BY group_name\n",
    "\t\tORDER BY\n",
    "\t\t\tprice\n",
    "\t) AS cur_prev_diff\n",
    "FROM\n",
    "\tproducts\n",
    "INNER JOIN product_groups USING (group_id);\n",
    "'''\n",
    "show_query(query)"
   ]
  },
  {
   "cell_type": "markdown",
   "id": "b0401066-7e60-4735-ab44-9f61abf815ae",
   "metadata": {},
   "source": [
    "## Window functions: LEAD + Filling NULLs with COALESCE"
   ]
  },
  {
   "cell_type": "code",
   "execution_count": 18,
   "id": "370d1baf-b9e6-4569-a458-08af11d4aada",
   "metadata": {},
   "outputs": [
    {
     "name": "stdout",
     "output_type": "stream",
     "text": [
      "+------------------+----------+------+----------+-------------+\n",
      "|      product_name|group_name| price|prev_price|cur_prev_diff|\n",
      "+------------------+----------+------+----------+-------------+\n",
      "|   Lenovo Thinkpad|    Laptop| 700.0|     700.0|          0.0|\n",
      "|         Sony VAIO|    Laptop| 700.0|     800.0|       -100.0|\n",
      "|       Dell Vostro|    Laptop| 800.0|    1200.0|       -400.0|\n",
      "|          HP Elite|    Laptop|1200.0|       0.0|       1200.0|\n",
      "|   Microsoft Lumia|Smartphone| 200.0|     400.0|       -200.0|\n",
      "|           HTC One|Smartphone| 400.0|     500.0|       -100.0|\n",
      "|             Nexus|Smartphone| 500.0|     900.0|       -400.0|\n",
      "|            iPhone|Smartphone| 900.0|       0.0|        900.0|\n",
      "|       Kindle Fire|    Tablet| 150.0|     200.0|        -50.0|\n",
      "|Samsung Galaxy Tab|    Tablet| 200.0|     700.0|       -500.0|\n",
      "|              iPad|    Tablet| 700.0|       0.0|        700.0|\n",
      "+------------------+----------+------+----------+-------------+\n",
      "\n"
     ]
    }
   ],
   "source": [
    "query = '''\n",
    "SELECT\n",
    "\tproduct_name,\n",
    "\tgroup_name,\n",
    "\tprice,\n",
    "\tCOALESCE( LEAD (price, 1) OVER (\n",
    "\t\tPARTITION BY group_name\n",
    "\t\tORDER BY\n",
    "\t\t\tprice\n",
    "\t),0) AS prev_price,\n",
    "\tprice - COALESCE(\n",
    "                     (LEAD (price, 1) OVER (\n",
    "                     PARTITION BY group_name\n",
    "            \t\tORDER BY price)),0\n",
    "\t)  AS cur_prev_diff\n",
    "FROM\n",
    "\tproducts\n",
    "INNER JOIN product_groups USING (group_id);\n",
    "'''\n",
    "show_query(query)"
   ]
  },
  {
   "cell_type": "markdown",
   "id": "bde29127-a5fc-4e94-afbd-01b23d15f6c0",
   "metadata": {},
   "source": [
    "# CUME_DIST: works basically like an ECDF"
   ]
  },
  {
   "cell_type": "markdown",
   "id": "1470b583-b431-4bc8-a3a1-27639a9fb50e",
   "metadata": {},
   "source": [
    "## Creating the example"
   ]
  },
  {
   "cell_type": "code",
   "execution_count": 24,
   "id": "53e463f3-db69-44f3-a8f2-f7cc189869c6",
   "metadata": {},
   "outputs": [],
   "source": [
    "sale_stats_schema = StructType([ \\\n",
    "    StructField(\"name\",StringType(),True), \\\n",
    "    StructField(\"year\",IntegerType(),True),\\\n",
    "    StructField(\"amount\",IntegerType(),True),\\\n",
    "  ])\n",
    "\n",
    "sale_stats_data =   [('John Doe',2018,120000),\n",
    "                    ('Jane Doe',2018,110000),\n",
    "                    ('Jack Daniel',2018,150000),\n",
    "                    ('Yin Yang',2018,30000),\n",
    "                    ('Stephane Heady',2018,200000),\n",
    "                    ('John Doe',2019,150000),\n",
    "                    ('Jane Doe',2019,130000),\n",
    "                    ('Jack Daniel',2019,180000),\n",
    "                    ('Yin Yang',2019,25000),\n",
    "                    ('Stephane Heady',2019,270000)]\n",
    "\n",
    "rdd = spark.sparkContext.parallelize(sale_stats_data)\n",
    "spark.createDataFrame(rdd, schema = sale_stats_schema).createOrReplaceTempView('sales_stats')"
   ]
  },
  {
   "cell_type": "markdown",
   "id": "f4df7cdc-7bad-4c15-9ae0-ceba98782ab4",
   "metadata": {},
   "source": [
    "## Without partition"
   ]
  },
  {
   "cell_type": "code",
   "execution_count": 26,
   "id": "de6792e6-3042-465b-ab8a-352dc971ca79",
   "metadata": {},
   "outputs": [
    {
     "name": "stderr",
     "output_type": "stream",
     "text": [
      "23/12/27 19:23:51 WARN WindowExec: No Partition Defined for Window operation! Moving all data to a single partition, this can cause serious performance degradation.\n",
      "23/12/27 19:23:51 WARN WindowExec: No Partition Defined for Window operation! Moving all data to a single partition, this can cause serious performance degradation.\n",
      "23/12/27 19:23:51 WARN WindowExec: No Partition Defined for Window operation! Moving all data to a single partition, this can cause serious performance degradation.\n"
     ]
    },
    {
     "name": "stdout",
     "output_type": "stream",
     "text": [
      "+--------------+----+------+----+\n",
      "|          name|year|amount|ECDF|\n",
      "+--------------+----+------+----+\n",
      "|      Yin Yang|2018| 30000| 0.2|\n",
      "|      Jane Doe|2018|110000| 0.4|\n",
      "|      John Doe|2018|120000| 0.6|\n",
      "|   Jack Daniel|2018|150000| 0.8|\n",
      "|Stephane Heady|2018|200000| 1.0|\n",
      "+--------------+----+------+----+\n",
      "\n"
     ]
    },
    {
     "name": "stderr",
     "output_type": "stream",
     "text": [
      "23/12/27 19:23:52 WARN WindowExec: No Partition Defined for Window operation! Moving all data to a single partition, this can cause serious performance degradation.\n",
      "23/12/27 19:23:52 WARN WindowExec: No Partition Defined for Window operation! Moving all data to a single partition, this can cause serious performance degradation.\n"
     ]
    }
   ],
   "source": [
    "query = \"\"\"SELECT \n",
    "    name,\n",
    "    year, \n",
    "    amount,\n",
    "    CUME_DIST() OVER (\n",
    "        ORDER BY amount\n",
    "    ) AS ECDF\n",
    "FROM \n",
    "    sales_stats\n",
    "WHERE \n",
    "    year = 2018;\n",
    "\"\"\"\n",
    "show_query(query)"
   ]
  },
  {
   "cell_type": "markdown",
   "id": "a7107131-c933-4af8-a331-24fe6e180b5d",
   "metadata": {},
   "source": [
    "## With partition"
   ]
  },
  {
   "cell_type": "code",
   "execution_count": 31,
   "id": "04c4ae22-20e4-4fed-b075-8992a1da2e40",
   "metadata": {},
   "outputs": [
    {
     "name": "stdout",
     "output_type": "stream",
     "text": [
      "+--------------+----+------+----+\n",
      "|          name|year|amount|ECDF|\n",
      "+--------------+----+------+----+\n",
      "|      Yin Yang|2018| 30000| 0.2|\n",
      "|      Jane Doe|2018|110000| 0.4|\n",
      "|      John Doe|2018|120000| 0.6|\n",
      "|   Jack Daniel|2018|150000| 0.8|\n",
      "|Stephane Heady|2018|200000| 1.0|\n",
      "|      Yin Yang|2019| 25000| 0.2|\n",
      "|      Jane Doe|2019|130000| 0.4|\n",
      "|      John Doe|2019|150000| 0.6|\n",
      "|   Jack Daniel|2019|180000| 0.8|\n",
      "|Stephane Heady|2019|270000| 1.0|\n",
      "+--------------+----+------+----+\n",
      "\n"
     ]
    }
   ],
   "source": [
    "query = \"\"\" SELECT \n",
    "    name,\n",
    "\tyear,\n",
    "\tamount,\n",
    "    CUME_DIST() OVER (\n",
    "\t\tPARTITION BY year\n",
    "        ORDER BY amount\n",
    "    ) AS ECDF\n",
    "FROM \n",
    "    sales_stats\n",
    "\"\"\"\n",
    "show_query(query)"
   ]
  },
  {
   "cell_type": "markdown",
   "id": "5f26251b-60c9-4900-b82a-ae9e2dfb9fe1",
   "metadata": {},
   "source": [
    "## NTILE: works like qcut"
   ]
  },
  {
   "cell_type": "code",
   "execution_count": 33,
   "id": "3aaacb0e-a4a9-43c5-b899-525714ab3dd5",
   "metadata": {},
   "outputs": [
    {
     "name": "stderr",
     "output_type": "stream",
     "text": [
      "23/12/27 19:31:44 WARN WindowExec: No Partition Defined for Window operation! Moving all data to a single partition, this can cause serious performance degradation.\n",
      "23/12/27 19:31:44 WARN WindowExec: No Partition Defined for Window operation! Moving all data to a single partition, this can cause serious performance degradation.\n",
      "23/12/27 19:31:44 WARN WindowExec: No Partition Defined for Window operation! Moving all data to a single partition, this can cause serious performance degradation.\n"
     ]
    },
    {
     "name": "stdout",
     "output_type": "stream",
     "text": [
      "+--------------+------+------+\n",
      "|          name|amount|n_tile|\n",
      "+--------------+------+------+\n",
      "|      Yin Yang| 25000|     1|\n",
      "|      Jane Doe|130000|     1|\n",
      "|      John Doe|150000|     2|\n",
      "|   Jack Daniel|180000|     2|\n",
      "|Stephane Heady|270000|     3|\n",
      "+--------------+------+------+\n",
      "\n"
     ]
    },
    {
     "name": "stderr",
     "output_type": "stream",
     "text": [
      "23/12/27 19:31:44 WARN WindowExec: No Partition Defined for Window operation! Moving all data to a single partition, this can cause serious performance degradation.\n",
      "23/12/27 19:31:44 WARN WindowExec: No Partition Defined for Window operation! Moving all data to a single partition, this can cause serious performance degradation.\n"
     ]
    }
   ],
   "source": [
    "query = '''\n",
    "SELECT \n",
    "\tname,\n",
    "\tamount,\n",
    "\tNTILE(3) OVER(\n",
    "\t\tORDER BY amount\n",
    "\t) n_tile\n",
    "FROM\n",
    "\tsales_stats\n",
    "WHERE\n",
    "\tyear = 2019\n",
    " '''\n",
    "show_query(query)"
   ]
  },
  {
   "cell_type": "markdown",
   "id": "368a66db-dbd1-40be-88db-3c2d7e2830a7",
   "metadata": {},
   "source": [
    "# Pandas Comparison"
   ]
  },
  {
   "cell_type": "code",
   "execution_count": 42,
   "id": "e3fd2c4e-bfd1-45d6-832a-ccef43d367cf",
   "metadata": {},
   "outputs": [],
   "source": [
    "df = spark.sql('SELECT name,amount FROM sales_stats WHERE year = 2019').toPandas()"
   ]
  },
  {
   "cell_type": "code",
   "execution_count": 54,
   "id": "38ad7311-203f-43d3-8cd5-3ca5ca935a79",
   "metadata": {},
   "outputs": [
    {
     "data": {
      "text/html": [
       "<div>\n",
       "<style scoped>\n",
       "    .dataframe tbody tr th:only-of-type {\n",
       "        vertical-align: middle;\n",
       "    }\n",
       "\n",
       "    .dataframe tbody tr th {\n",
       "        vertical-align: top;\n",
       "    }\n",
       "\n",
       "    .dataframe thead th {\n",
       "        text-align: right;\n",
       "    }\n",
       "</style>\n",
       "<table border=\"1\" class=\"dataframe\">\n",
       "  <thead>\n",
       "    <tr style=\"text-align: right;\">\n",
       "      <th></th>\n",
       "      <th>name</th>\n",
       "      <th>amount</th>\n",
       "      <th>ntile</th>\n",
       "    </tr>\n",
       "  </thead>\n",
       "  <tbody>\n",
       "    <tr>\n",
       "      <th>3</th>\n",
       "      <td>Yin Yang</td>\n",
       "      <td>25000</td>\n",
       "      <td>1</td>\n",
       "    </tr>\n",
       "    <tr>\n",
       "      <th>1</th>\n",
       "      <td>Jane Doe</td>\n",
       "      <td>130000</td>\n",
       "      <td>1</td>\n",
       "    </tr>\n",
       "    <tr>\n",
       "      <th>0</th>\n",
       "      <td>John Doe</td>\n",
       "      <td>150000</td>\n",
       "      <td>2</td>\n",
       "    </tr>\n",
       "    <tr>\n",
       "      <th>2</th>\n",
       "      <td>Jack Daniel</td>\n",
       "      <td>180000</td>\n",
       "      <td>3</td>\n",
       "    </tr>\n",
       "    <tr>\n",
       "      <th>4</th>\n",
       "      <td>Stephane Heady</td>\n",
       "      <td>270000</td>\n",
       "      <td>3</td>\n",
       "    </tr>\n",
       "  </tbody>\n",
       "</table>\n",
       "</div>"
      ],
      "text/plain": [
       "             name  amount ntile\n",
       "3        Yin Yang   25000     1\n",
       "1        Jane Doe  130000     1\n",
       "0        John Doe  150000     2\n",
       "2     Jack Daniel  180000     3\n",
       "4  Stephane Heady  270000     3"
      ]
     },
     "execution_count": 54,
     "metadata": {},
     "output_type": "execute_result"
    }
   ],
   "source": [
    "df['ntile'] = pd.qcut(df['amount'],q = 3,labels = range(1,4))\n",
    "df.sort_values(by = ['amount','ntile'])"
   ]
  },
  {
   "cell_type": "markdown",
   "id": "7bcdba53-8dd4-4ffd-9e6f-661d1c1e47cb",
   "metadata": {},
   "source": [
    "# NTH_VALUE"
   ]
  },
  {
   "cell_type": "markdown",
   "id": "7e61edc1-6367-4942-9bfc-3378d30e2319",
   "metadata": {},
   "source": [
    "## Without partition (BAD PRACTICE!)"
   ]
  },
  {
   "cell_type": "code",
   "execution_count": 56,
   "id": "6572f826-3174-40cf-9ad3-7548bde1e29f",
   "metadata": {},
   "outputs": [
    {
     "name": "stderr",
     "output_type": "stream",
     "text": [
      "23/12/27 19:41:34 WARN WindowExec: No Partition Defined for Window operation! Moving all data to a single partition, this can cause serious performance degradation.\n",
      "23/12/27 19:41:34 WARN WindowExec: No Partition Defined for Window operation! Moving all data to a single partition, this can cause serious performance degradation.\n",
      "23/12/27 19:41:34 WARN WindowExec: No Partition Defined for Window operation! Moving all data to a single partition, this can cause serious performance degradation.\n"
     ]
    },
    {
     "name": "stdout",
     "output_type": "stream",
     "text": [
      "+----------+------------------+------+--------------+\n",
      "|product_id|      product_name| price|nth_value_call|\n",
      "+----------+------------------+------+--------------+\n",
      "|         5|          HP Elite|1200.0|        iPhone|\n",
      "|         4|            iPhone| 900.0|        iPhone|\n",
      "|         8|       Dell Vostro| 800.0|        iPhone|\n",
      "|         6|   Lenovo Thinkpad| 700.0|        iPhone|\n",
      "|         7|         Sony VAIO| 700.0|        iPhone|\n",
      "|         9|              iPad| 700.0|        iPhone|\n",
      "|         3|             Nexus| 500.0|        iPhone|\n",
      "|         2|           HTC One| 400.0|        iPhone|\n",
      "|         1|   Microsoft Lumia| 200.0|        iPhone|\n",
      "|        11|Samsung Galaxy Tab| 200.0|        iPhone|\n",
      "|        10|       Kindle Fire| 150.0|        iPhone|\n",
      "+----------+------------------+------+--------------+\n",
      "\n"
     ]
    },
    {
     "name": "stderr",
     "output_type": "stream",
     "text": [
      "23/12/27 19:41:35 WARN WindowExec: No Partition Defined for Window operation! Moving all data to a single partition, this can cause serious performance degradation.\n",
      "23/12/27 19:41:35 WARN WindowExec: No Partition Defined for Window operation! Moving all data to a single partition, this can cause serious performance degradation.\n"
     ]
    }
   ],
   "source": [
    "query = \"\"\"\n",
    "SELECT \n",
    "    product_id,\n",
    "    product_name,\n",
    "    price,\n",
    "    NTH_VALUE(product_name, 2) \n",
    "    OVER(\n",
    "        ORDER BY price DESC\n",
    "        RANGE BETWEEN \n",
    "            UNBOUNDED PRECEDING AND \n",
    "            UNBOUNDED FOLLOWING\n",
    "    ) AS nth_value_call\n",
    "FROM \n",
    "    products;\n",
    "\"\"\"\n",
    "show_query(query)"
   ]
  },
  {
   "cell_type": "markdown",
   "id": "01ec5e86-165c-4aba-a239-d226b737b938",
   "metadata": {},
   "source": [
    "## With partition"
   ]
  },
  {
   "cell_type": "code",
   "execution_count": 60,
   "id": "dceb9cca-c3be-4ede-85a1-35730f95c19e",
   "metadata": {},
   "outputs": [
    {
     "name": "stdout",
     "output_type": "stream",
     "text": [
      "+----------+------------------+------+--------+------------------+\n",
      "|product_id|      product_name| price|group_id|    nth_value_call|\n",
      "+----------+------------------+------+--------+------------------+\n",
      "|         4|            iPhone| 900.0|       1|             Nexus|\n",
      "|         3|             Nexus| 500.0|       1|             Nexus|\n",
      "|         2|           HTC One| 400.0|       1|             Nexus|\n",
      "|         1|   Microsoft Lumia| 200.0|       1|             Nexus|\n",
      "|         5|          HP Elite|1200.0|       2|       Dell Vostro|\n",
      "|         8|       Dell Vostro| 800.0|       2|       Dell Vostro|\n",
      "|         6|   Lenovo Thinkpad| 700.0|       2|       Dell Vostro|\n",
      "|         7|         Sony VAIO| 700.0|       2|       Dell Vostro|\n",
      "|         9|              iPad| 700.0|       3|Samsung Galaxy Tab|\n",
      "|        11|Samsung Galaxy Tab| 200.0|       3|Samsung Galaxy Tab|\n",
      "|        10|       Kindle Fire| 150.0|       3|Samsung Galaxy Tab|\n",
      "+----------+------------------+------+--------+------------------+\n",
      "\n"
     ]
    }
   ],
   "source": [
    "query = \"\"\"\n",
    "SELECT \n",
    "    product_id,\n",
    "    product_name,\n",
    "    price,\n",
    "    group_id,\n",
    "    NTH_VALUE(product_name, 2) \n",
    "    OVER(\n",
    "        PARTITION BY group_id\n",
    "        ORDER BY price DESC\n",
    "        RANGE BETWEEN \n",
    "            UNBOUNDED PRECEDING AND \n",
    "            UNBOUNDED FOLLOWING\n",
    "    ) AS nth_value_call\n",
    "FROM \n",
    "    products;\n",
    "\"\"\"\n",
    "show_query(query)"
   ]
  },
  {
   "cell_type": "markdown",
   "id": "a429b4db-a346-4aee-9002-4c206ed071d0",
   "metadata": {},
   "source": [
    "## If NTH_VALUE parameter greater than the number of occurencies, null appears"
   ]
  },
  {
   "cell_type": "code",
   "execution_count": 61,
   "id": "38c84e44-bbfe-4216-b690-58fa062a8a2d",
   "metadata": {},
   "outputs": [
    {
     "name": "stdout",
     "output_type": "stream",
     "text": [
      "+----------+------------------+------+--------+---------------+\n",
      "|product_id|      product_name| price|group_id| nth_value_call|\n",
      "+----------+------------------+------+--------+---------------+\n",
      "|         4|            iPhone| 900.0|       1|Microsoft Lumia|\n",
      "|         3|             Nexus| 500.0|       1|Microsoft Lumia|\n",
      "|         2|           HTC One| 400.0|       1|Microsoft Lumia|\n",
      "|         1|   Microsoft Lumia| 200.0|       1|Microsoft Lumia|\n",
      "|         5|          HP Elite|1200.0|       2|      Sony VAIO|\n",
      "|         8|       Dell Vostro| 800.0|       2|      Sony VAIO|\n",
      "|         6|   Lenovo Thinkpad| 700.0|       2|      Sony VAIO|\n",
      "|         7|         Sony VAIO| 700.0|       2|      Sony VAIO|\n",
      "|         9|              iPad| 700.0|       3|           null|\n",
      "|        11|Samsung Galaxy Tab| 200.0|       3|           null|\n",
      "|        10|       Kindle Fire| 150.0|       3|           null|\n",
      "+----------+------------------+------+--------+---------------+\n",
      "\n"
     ]
    }
   ],
   "source": [
    "query = \"\"\"\n",
    "SELECT \n",
    "    product_id,\n",
    "    product_name,\n",
    "    price,\n",
    "    group_id,\n",
    "    NTH_VALUE(product_name, 4) \n",
    "    OVER(\n",
    "        PARTITION BY group_id\n",
    "        ORDER BY price DESC\n",
    "        RANGE BETWEEN \n",
    "            UNBOUNDED PRECEDING AND \n",
    "            UNBOUNDED FOLLOWING\n",
    "    ) AS nth_value_call\n",
    "FROM \n",
    "    products;\n",
    "\"\"\"\n",
    "show_query(query)"
   ]
  },
  {
   "cell_type": "markdown",
   "id": "5bd5821b-03f4-4c85-bd43-099a78d32019",
   "metadata": {},
   "source": [
    "# PERCENT_RANK"
   ]
  },
  {
   "cell_type": "code",
   "execution_count": 63,
   "id": "de51c333-82c0-4f5c-a86f-c578a0b8bf53",
   "metadata": {},
   "outputs": [
    {
     "name": "stdout",
     "output_type": "stream",
     "text": [
      "+--------------+------+-----------------+\n",
      "|          name|amount|percent_rank_call|\n",
      "+--------------+------+-----------------+\n",
      "|      Yin Yang| 30000|              0.0|\n",
      "|      Jane Doe|110000|             0.25|\n",
      "|      John Doe|120000|              0.5|\n",
      "|   Jack Daniel|150000|             0.75|\n",
      "|Stephane Heady|200000|              1.0|\n",
      "|      Yin Yang| 25000|              0.0|\n",
      "|      Jane Doe|130000|             0.25|\n",
      "|      John Doe|150000|              0.5|\n",
      "|   Jack Daniel|180000|             0.75|\n",
      "|Stephane Heady|270000|              1.0|\n",
      "+--------------+------+-----------------+\n",
      "\n"
     ]
    }
   ],
   "source": [
    "query = \"\"\"\n",
    "SELECT \n",
    "    name,\n",
    "\tamount,\n",
    "    PERCENT_RANK() OVER (\n",
    "\t\tPARTITION BY year\n",
    "        ORDER BY amount\n",
    "    ) AS percent_rank_call\n",
    "FROM \n",
    "    sales_stats;\"\"\"\n",
    "show_query(query)"
   ]
  },
  {
   "cell_type": "markdown",
   "id": "180e693d-d6eb-49c1-9c62-90f1a712e084",
   "metadata": {},
   "source": [
    "# ROW NUMBER"
   ]
  },
  {
   "cell_type": "markdown",
   "id": "035e01a4-7c23-4042-b106-229635d14f59",
   "metadata": {},
   "source": [
    "## Basic Usages"
   ]
  },
  {
   "cell_type": "code",
   "execution_count": 66,
   "id": "277fea57-b6cf-4dd0-8f27-d52fbe3b455c",
   "metadata": {},
   "outputs": [
    {
     "name": "stderr",
     "output_type": "stream",
     "text": [
      "23/12/27 20:05:19 WARN WindowExec: No Partition Defined for Window operation! Moving all data to a single partition, this can cause serious performance degradation.\n",
      "23/12/27 20:05:19 WARN WindowExec: No Partition Defined for Window operation! Moving all data to a single partition, this can cause serious performance degradation.\n",
      "23/12/27 20:05:19 WARN WindowExec: No Partition Defined for Window operation! Moving all data to a single partition, this can cause serious performance degradation.\n"
     ]
    },
    {
     "name": "stdout",
     "output_type": "stream",
     "text": [
      "+----------+------------------+--------+---------------+\n",
      "|product_id|      product_name|group_id|row_number_call|\n",
      "+----------+------------------+--------+---------------+\n",
      "|         1|   Microsoft Lumia|       1|              1|\n",
      "|         2|           HTC One|       1|              2|\n",
      "|         3|             Nexus|       1|              3|\n",
      "|         4|            iPhone|       1|              4|\n",
      "|         5|          HP Elite|       2|              5|\n",
      "|         6|   Lenovo Thinkpad|       2|              6|\n",
      "|         7|         Sony VAIO|       2|              7|\n",
      "|         8|       Dell Vostro|       2|              8|\n",
      "|         9|              iPad|       3|              9|\n",
      "|        10|       Kindle Fire|       3|             10|\n",
      "|        11|Samsung Galaxy Tab|       3|             11|\n",
      "+----------+------------------+--------+---------------+\n",
      "\n"
     ]
    }
   ],
   "source": [
    "query = \"\"\"\n",
    "SELECT\n",
    "\tproduct_id,\n",
    "\tproduct_name,\n",
    "\tgroup_id,\n",
    "\tROW_NUMBER () OVER (ORDER BY product_id) AS row_number_call\n",
    "FROM\n",
    "\tproducts;\n",
    "\"\"\"\n",
    "show_query(query)"
   ]
  },
  {
   "cell_type": "code",
   "execution_count": 69,
   "id": "19f2ba62-622c-46eb-a27d-07521389a369",
   "metadata": {},
   "outputs": [
    {
     "name": "stderr",
     "output_type": "stream",
     "text": [
      "23/12/27 20:06:20 WARN WindowExec: No Partition Defined for Window operation! Moving all data to a single partition, this can cause serious performance degradation.\n",
      "23/12/27 20:06:20 WARN WindowExec: No Partition Defined for Window operation! Moving all data to a single partition, this can cause serious performance degradation.\n",
      "23/12/27 20:06:20 WARN WindowExec: No Partition Defined for Window operation! Moving all data to a single partition, this can cause serious performance degradation.\n"
     ]
    },
    {
     "name": "stdout",
     "output_type": "stream",
     "text": [
      "+----------+------------------+--------+---------------+\n",
      "|product_id|      product_name|group_id|row_number_call|\n",
      "+----------+------------------+--------+---------------+\n",
      "|         8|       Dell Vostro|       2|              1|\n",
      "|         5|          HP Elite|       2|              2|\n",
      "|         2|           HTC One|       1|              3|\n",
      "|        10|       Kindle Fire|       3|              4|\n",
      "|         6|   Lenovo Thinkpad|       2|              5|\n",
      "|         1|   Microsoft Lumia|       1|              6|\n",
      "|         3|             Nexus|       1|              7|\n",
      "|        11|Samsung Galaxy Tab|       3|              8|\n",
      "|         7|         Sony VAIO|       2|              9|\n",
      "|         9|              iPad|       3|             10|\n",
      "|         4|            iPhone|       1|             11|\n",
      "+----------+------------------+--------+---------------+\n",
      "\n"
     ]
    }
   ],
   "source": [
    "query = \"\"\"\n",
    "SELECT\n",
    "\tproduct_id,\n",
    "\tproduct_name,\n",
    "\tgroup_id,\n",
    "\tROW_NUMBER () OVER (\n",
    "           ORDER BY product_name\n",
    "        ) AS row_number_call\n",
    "FROM\n",
    "\tproducts;\n",
    "\"\"\"\n",
    "show_query(query)"
   ]
  },
  {
   "cell_type": "markdown",
   "id": "98509f56-f958-482d-87e6-1526871ff73c",
   "metadata": {},
   "source": [
    "## With partition (Good Practice)"
   ]
  },
  {
   "cell_type": "code",
   "execution_count": 71,
   "id": "ea87677d-5d00-4201-a38d-425091a0e640",
   "metadata": {},
   "outputs": [
    {
     "name": "stdout",
     "output_type": "stream",
     "text": [
      "+----------+------------------+--------+---------------+\n",
      "|product_id|      product_name|group_id|row_number_call|\n",
      "+----------+------------------+--------+---------------+\n",
      "|         2|           HTC One|       1|              1|\n",
      "|         1|   Microsoft Lumia|       1|              2|\n",
      "|         3|             Nexus|       1|              3|\n",
      "|         4|            iPhone|       1|              4|\n",
      "|         8|       Dell Vostro|       2|              1|\n",
      "|         5|          HP Elite|       2|              2|\n",
      "|         6|   Lenovo Thinkpad|       2|              3|\n",
      "|         7|         Sony VAIO|       2|              4|\n",
      "|        10|       Kindle Fire|       3|              1|\n",
      "|        11|Samsung Galaxy Tab|       3|              2|\n",
      "|         9|              iPad|       3|              3|\n",
      "+----------+------------------+--------+---------------+\n",
      "\n"
     ]
    }
   ],
   "source": [
    "query = \"\"\"\n",
    "SELECT\n",
    "\tproduct_id,\n",
    "\tproduct_name,\n",
    "\tgroup_id,\n",
    "\tROW_NUMBER () OVER (\n",
    "\t\tPARTITION BY group_id\n",
    "\t\tORDER BY\n",
    "\t\t\tproduct_name\n",
    "\t) AS row_number_call\n",
    "FROM\n",
    "\tproducts;\n",
    "\"\"\"\n",
    "show_query(query)"
   ]
  },
  {
   "cell_type": "markdown",
   "id": "117a4497-c773-42f8-8846-90f9efc7ad13",
   "metadata": {},
   "source": [
    "## ROW_NUMBER and DISTINCT"
   ]
  },
  {
   "cell_type": "code",
   "execution_count": 73,
   "id": "62f26e9f-f81f-44cd-9441-c5881d3e576e",
   "metadata": {},
   "outputs": [
    {
     "name": "stderr",
     "output_type": "stream",
     "text": [
      "23/12/27 20:08:20 WARN WindowExec: No Partition Defined for Window operation! Moving all data to a single partition, this can cause serious performance degradation.\n",
      "23/12/27 20:08:20 WARN WindowExec: No Partition Defined for Window operation! Moving all data to a single partition, this can cause serious performance degradation.\n"
     ]
    },
    {
     "name": "stdout",
     "output_type": "stream",
     "text": [
      "+------+---------------+\n",
      "| price|row_number_call|\n",
      "+------+---------------+\n",
      "| 150.0|              1|\n",
      "| 200.0|              2|\n",
      "| 200.0|              3|\n",
      "| 400.0|              4|\n",
      "| 500.0|              5|\n",
      "| 700.0|              6|\n",
      "| 700.0|              7|\n",
      "| 700.0|              8|\n",
      "| 800.0|              9|\n",
      "| 900.0|             10|\n",
      "|1200.0|             11|\n",
      "+------+---------------+\n",
      "\n"
     ]
    },
    {
     "name": "stderr",
     "output_type": "stream",
     "text": [
      "23/12/27 20:08:20 WARN WindowExec: No Partition Defined for Window operation! Moving all data to a single partition, this can cause serious performance degradation.\n",
      "23/12/27 20:08:20 WARN WindowExec: No Partition Defined for Window operation! Moving all data to a single partition, this can cause serious performance degradation.\n"
     ]
    }
   ],
   "source": [
    "query = \"\"\"SELECT DISTINCT\n",
    "\tprice,\n",
    "\tROW_NUMBER () OVER (ORDER BY price) AS row_number_call\n",
    "FROM\n",
    "\tproducts\n",
    "ORDER BY\n",
    "\tprice;\"\"\"\n",
    "show_query(query)"
   ]
  },
  {
   "cell_type": "markdown",
   "id": "01938024-a0d8-4e81-a81f-eebb762f1c5c",
   "metadata": {},
   "source": [
    "## Removing duplicate price with a CTE"
   ]
  },
  {
   "cell_type": "code",
   "execution_count": 75,
   "id": "41e65760-12c0-431a-8e68-c09e112f0d13",
   "metadata": {},
   "outputs": [
    {
     "name": "stderr",
     "output_type": "stream",
     "text": [
      "23/12/27 20:09:19 WARN WindowExec: No Partition Defined for Window operation! Moving all data to a single partition, this can cause serious performance degradation.\n",
      "23/12/27 20:09:19 WARN WindowExec: No Partition Defined for Window operation! Moving all data to a single partition, this can cause serious performance degradation.\n",
      "23/12/27 20:09:19 WARN WindowExec: No Partition Defined for Window operation! Moving all data to a single partition, this can cause serious performance degradation.\n"
     ]
    },
    {
     "name": "stdout",
     "output_type": "stream",
     "text": [
      "+------+---------------+\n",
      "| price|row_number_call|\n",
      "+------+---------------+\n",
      "| 150.0|              1|\n",
      "| 200.0|              2|\n",
      "| 400.0|              3|\n",
      "| 500.0|              4|\n",
      "| 700.0|              5|\n",
      "| 800.0|              6|\n",
      "| 900.0|              7|\n",
      "|1200.0|              8|\n",
      "+------+---------------+\n",
      "\n"
     ]
    },
    {
     "name": "stderr",
     "output_type": "stream",
     "text": [
      "23/12/27 20:09:19 WARN WindowExec: No Partition Defined for Window operation! Moving all data to a single partition, this can cause serious performance degradation.\n",
      "23/12/27 20:09:19 WARN WindowExec: No Partition Defined for Window operation! Moving all data to a single partition, this can cause serious performance degradation.\n",
      "23/12/27 20:09:19 WARN WindowExec: No Partition Defined for Window operation! Moving all data to a single partition, this can cause serious performance degradation.\n"
     ]
    }
   ],
   "source": [
    "query = \"\"\"WITH prices AS (\n",
    "\tSELECT DISTINCT\n",
    "\t\tprice\n",
    "\tFROM\n",
    "\t\tproducts\n",
    ") SELECT\n",
    "\tprice,\n",
    "\tROW_NUMBER () OVER (ORDER BY price) AS row_number_call\n",
    "FROM\n",
    "\tprices;\"\"\"\n",
    "show_query(query)"
   ]
  },
  {
   "cell_type": "markdown",
   "id": "7fa823f4-5007-48d2-be39-cabcf9e35d21",
   "metadata": {},
   "source": [
    "## Subquery alternative"
   ]
  },
  {
   "cell_type": "code",
   "execution_count": 77,
   "id": "0c1cf0af-5e2a-4b79-999e-7e8a8f85048d",
   "metadata": {},
   "outputs": [
    {
     "name": "stderr",
     "output_type": "stream",
     "text": [
      "23/12/27 20:10:08 WARN WindowExec: No Partition Defined for Window operation! Moving all data to a single partition, this can cause serious performance degradation.\n",
      "23/12/27 20:10:08 WARN WindowExec: No Partition Defined for Window operation! Moving all data to a single partition, this can cause serious performance degradation.\n",
      "23/12/27 20:10:08 WARN WindowExec: No Partition Defined for Window operation! Moving all data to a single partition, this can cause serious performance degradation.\n"
     ]
    },
    {
     "name": "stdout",
     "output_type": "stream",
     "text": [
      "+------+---------------+\n",
      "| price|row_number_call|\n",
      "+------+---------------+\n",
      "| 150.0|              1|\n",
      "| 200.0|              2|\n",
      "| 400.0|              3|\n",
      "| 500.0|              4|\n",
      "| 700.0|              5|\n",
      "| 800.0|              6|\n",
      "| 900.0|              7|\n",
      "|1200.0|              8|\n",
      "+------+---------------+\n",
      "\n"
     ]
    },
    {
     "name": "stderr",
     "output_type": "stream",
     "text": [
      "23/12/27 20:10:09 WARN WindowExec: No Partition Defined for Window operation! Moving all data to a single partition, this can cause serious performance degradation.\n",
      "23/12/27 20:10:09 WARN WindowExec: No Partition Defined for Window operation! Moving all data to a single partition, this can cause serious performance degradation.\n",
      "23/12/27 20:10:09 WARN WindowExec: No Partition Defined for Window operation! Moving all data to a single partition, this can cause serious performance degradation.\n"
     ]
    }
   ],
   "source": [
    "query = \"\"\"\n",
    "SELECT\n",
    "\tprice,\n",
    "\tROW_NUMBER () OVER (ORDER BY price) AS row_number_call\n",
    "FROM\n",
    "\t(\n",
    "\t\tSELECT DISTINCT\n",
    "\t\t\tprice\n",
    "\t\tFROM\n",
    "\t\t\tproducts\n",
    "\t) prices;\n",
    "\"\"\"\n",
    "show_query(query)"
   ]
  },
  {
   "cell_type": "markdown",
   "id": "1b9fa36f-5479-4c93-b412-c55beafce991",
   "metadata": {},
   "source": [
    "# ROW_NUMBER as a Pagination"
   ]
  },
  {
   "cell_type": "code",
   "execution_count": 84,
   "id": "a040035a-3fd9-4d2b-874e-25bf3db9d518",
   "metadata": {},
   "outputs": [
    {
     "name": "stderr",
     "output_type": "stream",
     "text": [
      "23/12/27 20:13:38 WARN WindowExec: No Partition Defined for Window operation! Moving all data to a single partition, this can cause serious performance degradation.\n",
      "23/12/27 20:13:38 WARN WindowExec: No Partition Defined for Window operation! Moving all data to a single partition, this can cause serious performance degradation.\n",
      "23/12/27 20:13:38 WARN WindowExec: No Partition Defined for Window operation! Moving all data to a single partition, this can cause serious performance degradation.\n"
     ]
    },
    {
     "name": "stdout",
     "output_type": "stream",
     "text": [
      "+----------+------------------+-----+----------+\n",
      "|product_id|      product_name|price|ROW_NUMBER|\n",
      "+----------+------------------+-----+----------+\n",
      "|         1|   Microsoft Lumia|200.0|         6|\n",
      "|         3|             Nexus|500.0|         7|\n",
      "|        11|Samsung Galaxy Tab|200.0|         8|\n",
      "|         7|         Sony VAIO|700.0|         9|\n",
      "|         9|              iPad|700.0|        10|\n",
      "+----------+------------------+-----+----------+\n",
      "\n"
     ]
    },
    {
     "name": "stderr",
     "output_type": "stream",
     "text": [
      "23/12/27 20:13:39 WARN WindowExec: No Partition Defined for Window operation! Moving all data to a single partition, this can cause serious performance degradation.\n",
      "23/12/27 20:13:39 WARN WindowExec: No Partition Defined for Window operation! Moving all data to a single partition, this can cause serious performance degradation.\n"
     ]
    }
   ],
   "source": [
    "query = \"\"\"\n",
    "SELECT\n",
    "\t*\n",
    "FROM\n",
    "\t(\n",
    "\t\tSELECT\n",
    "\t\t\tproduct_id,\n",
    "\t\t\tproduct_name,\n",
    "\t\t\tprice,\n",
    "\t\t\tROW_NUMBER () OVER (ORDER BY product_name) AS ROW_NUMBER\n",
    "\t\tFROM\n",
    "\t\t\tproducts\n",
    "\t)\n",
    " WHERE\n",
    "\tROW_NUMBER BETWEEN 6 AND 10;;\"\"\"\n",
    "show_query(query)"
   ]
  },
  {
   "cell_type": "code",
   "execution_count": 85,
   "id": "56c876e3-cf07-4c95-a2c7-5356c7c9e803",
   "metadata": {},
   "outputs": [
    {
     "name": "stderr",
     "output_type": "stream",
     "text": [
      "23/12/27 20:14:25 WARN WindowExec: No Partition Defined for Window operation! Moving all data to a single partition, this can cause serious performance degradation.\n",
      "23/12/27 20:14:25 WARN WindowExec: No Partition Defined for Window operation! Moving all data to a single partition, this can cause serious performance degradation.\n",
      "23/12/27 20:14:25 WARN WindowExec: No Partition Defined for Window operation! Moving all data to a single partition, this can cause serious performance degradation.\n",
      "23/12/27 20:14:25 WARN WindowExec: No Partition Defined for Window operation! Moving all data to a single partition, this can cause serious performance degradation.\n",
      "23/12/27 20:14:25 WARN WindowExec: No Partition Defined for Window operation! Moving all data to a single partition, this can cause serious performance degradation.\n",
      "23/12/27 20:14:25 WARN WindowExec: No Partition Defined for Window operation! Moving all data to a single partition, this can cause serious performance degradation.\n"
     ]
    },
    {
     "name": "stdout",
     "output_type": "stream",
     "text": [
      "+----------+------------+--------+-----+\n",
      "|product_id|product_name|group_id|price|\n",
      "+----------+------------+--------+-----+\n",
      "|         8| Dell Vostro|       2|800.0|\n",
      "+----------+------------+--------+-----+\n",
      "\n"
     ]
    }
   ],
   "source": [
    "query = \"\"\"\n",
    "SELECT\n",
    "\t*\n",
    "FROM\n",
    "\tproducts\n",
    "WHERE\n",
    "\tprice = (\n",
    "\t\tSELECT\n",
    "\t\t\tprice\n",
    "\t\tFROM\n",
    "\t\t\t(\n",
    "\t\t\t\tSELECT\n",
    "\t\t\t\t\tprice,\n",
    "\t\t\t\t\tROW_NUMBER () OVER (\n",
    "\t\t\t\t\t\tORDER BY price DESC\n",
    "\t\t\t\t\t) nth\n",
    "\t\t\t\tFROM\n",
    "\t\t\t\t\t(\n",
    "\t\t\t\t\t\tSELECT DISTINCT\n",
    "\t\t\t\t\t\t\t(price)\n",
    "\t\t\t\t\t\tFROM\n",
    "\t\t\t\t\t\t\tproducts\n",
    "\t\t\t\t\t) prices\n",
    "\t\t\t) sorted_prices\n",
    "\t\tWHERE\n",
    "\t\t\tnth = 3\n",
    "\t);\n",
    "\"\"\"\n",
    "show_query(query)"
   ]
  },
  {
   "cell_type": "markdown",
   "id": "fc705c54-c545-4eb2-9a56-42b2d794cb40",
   "metadata": {},
   "source": [
    "#  Exercise: redo all the above using pyspark when appliable"
   ]
  }
 ],
 "metadata": {
  "kernelspec": {
   "display_name": "Python 3 (ipykernel)",
   "language": "python",
   "name": "python3"
  },
  "language_info": {
   "codemirror_mode": {
    "name": "ipython",
    "version": 3
   },
   "file_extension": ".py",
   "mimetype": "text/x-python",
   "name": "python",
   "nbconvert_exporter": "python",
   "pygments_lexer": "ipython3",
   "version": "3.11.6"
  }
 },
 "nbformat": 4,
 "nbformat_minor": 5
}
