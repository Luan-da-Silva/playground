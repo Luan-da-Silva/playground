{
 "cells": [
  {
   "cell_type": "markdown",
   "id": "b1beed6c-146f-40b5-9bd7-53ff5e86b384",
   "metadata": {},
   "source": [
    "# Connecting to the database"
   ]
  },
  {
   "cell_type": "code",
   "execution_count": 41,
   "id": "8fcebbe5-0388-4a3f-a9fb-384550e4b871",
   "metadata": {},
   "outputs": [],
   "source": [
    "import pandas as pd"
   ]
  },
  {
   "cell_type": "code",
   "execution_count": 1,
   "id": "79066c68-0748-457d-87bf-a2c2bb4398cd",
   "metadata": {},
   "outputs": [],
   "source": [
    "from db_tools.setup import setup\n",
    "from pyspark.sql.types import StructType,StructField, StringType, IntegerType"
   ]
  },
  {
   "cell_type": "markdown",
   "id": "edc31d58-3bdf-45fc-b863-f6dab8dd7b58",
   "metadata": {},
   "source": [
    "# Getting a SparkSession"
   ]
  },
  {
   "cell_type": "code",
   "execution_count": 2,
   "id": "04978c3b-6463-4e78-872b-73b60a18fb6f",
   "metadata": {},
   "outputs": [
    {
     "name": "stderr",
     "output_type": "stream",
     "text": [
      "23/10/28 19:42:16 WARN Utils: Your hostname, luan-Dell-G15-5520 resolves to a loopback address: 127.0.1.1; using 192.168.1.12 instead (on interface wlp0s20f3)\n",
      "23/10/28 19:42:16 WARN Utils: Set SPARK_LOCAL_IP if you need to bind to another address\n",
      "23/10/28 19:42:17 WARN NativeCodeLoader: Unable to load native-hadoop library for your platform... using builtin-java classes where applicable\n",
      "Setting default log level to \"WARN\".\n",
      "To adjust logging level use sc.setLogLevel(newLevel). For SparkR, use setLogLevel(newLevel).\n"
     ]
    },
    {
     "name": "stdout",
     "output_type": "stream",
     "text": [
      "SparkSession available as \"spark\"\n"
     ]
    }
   ],
   "source": [
    "spark = setup()"
   ]
  },
  {
   "cell_type": "code",
   "execution_count": 3,
   "id": "9f175c25-b700-4f3f-9eaa-36b988a406b1",
   "metadata": {},
   "outputs": [],
   "source": [
    "def show_query(query,SparkSession = spark,n = 20):\n",
    "    return SparkSession.sql(query).show()"
   ]
  },
  {
   "cell_type": "markdown",
   "id": "f750932b-d0be-4d86-9f54-9d74eed2857e",
   "metadata": {},
   "source": [
    "# Base query - basic average"
   ]
  },
  {
   "cell_type": "code",
   "execution_count": 4,
   "id": "0c25bc30-4a62-4f64-9f3e-159bcc2597e8",
   "metadata": {},
   "outputs": [
    {
     "name": "stdout",
     "output_type": "stream",
     "text": [
      "+----------------+\n",
      "|avg(rental_rate)|\n",
      "+----------------+\n",
      "|        2.980000|\n",
      "+----------------+\n",
      "\n"
     ]
    }
   ],
   "source": [
    "query = \"\"\"\n",
    "\t\tSELECT\n",
    "\t\t\tAVG (rental_rate)\n",
    "\t\tFROM\n",
    "\t\t\tfilm\n",
    "\"\"\"\n",
    "show_query(query)"
   ]
  },
  {
   "cell_type": "markdown",
   "id": "a6504aa4-7675-4fef-abfa-8628aa4fa9a0",
   "metadata": {},
   "source": [
    "# Subquery example"
   ]
  },
  {
   "cell_type": "code",
   "execution_count": 5,
   "id": "eaf0aa1c-65c3-4ec8-b21b-aa6873408bdd",
   "metadata": {},
   "outputs": [
    {
     "name": "stdout",
     "output_type": "stream",
     "text": [
      "+-------+-------------------+-----------+\n",
      "|film_id|              title|rental_rate|\n",
      "+-------+-------------------+-----------+\n",
      "|    133|    Chamber Italian|       4.99|\n",
      "|    384|   Grosse Wonderful|       4.99|\n",
      "|      8|    Airport Pollock|       4.99|\n",
      "|     98|  Bright Encounters|       4.99|\n",
      "|      2|     Ace Goldfinger|       4.99|\n",
      "|      3|   Adaptation Holes|       2.99|\n",
      "|      4|   Affair Prejudice|       2.99|\n",
      "|      5|        African Egg|       2.99|\n",
      "|      6|       Agent Truman|       2.99|\n",
      "|      7|    Airplane Sierra|       4.99|\n",
      "|      9|      Alabama Devil|       2.99|\n",
      "|     10|   Aladdin Calendar|       4.99|\n",
      "|     13|        Ali Forever|       4.99|\n",
      "|     15|       Alien Center|       2.99|\n",
      "|     16|    Alley Evolution|       2.99|\n",
      "|     20|Amelie Hellfighters|       4.99|\n",
      "|     21|    American Circus|       4.99|\n",
      "|     22|  Amistad Midsummer|       2.99|\n",
      "|     24|   Analyze Hoosiers|       2.99|\n",
      "|     25|        Angels Life|       2.99|\n",
      "+-------+-------------------+-----------+\n",
      "only showing top 20 rows\n",
      "\n"
     ]
    }
   ],
   "source": [
    "query = \"\"\"\n",
    "SELECT\n",
    "\tfilm_id,\n",
    "\ttitle,\n",
    "\trental_rate\n",
    "FROM\n",
    "\tfilm\n",
    "WHERE\n",
    "\trental_rate > (\n",
    "\t\tSELECT\n",
    "\t\t\tAVG (rental_rate)\n",
    "\t\tFROM\n",
    "\t\t\tfilm\n",
    "\t);\n",
    "\"\"\"\n",
    "show_query(query)"
   ]
  },
  {
   "cell_type": "markdown",
   "id": "c1d6dc7d-61c6-4901-9a8f-e27408acff93",
   "metadata": {},
   "source": [
    "# Checking movies returned between '2005-05-29' and '2005-05-30'"
   ]
  },
  {
   "cell_type": "code",
   "execution_count": 6,
   "id": "6fe9fd71-98fc-44e3-86dc-a81f07aaa9d0",
   "metadata": {},
   "outputs": [
    {
     "name": "stdout",
     "output_type": "stream",
     "text": [
      "+-------+--------------------+\n",
      "|film_id|               title|\n",
      "+-------+--------------------+\n",
      "|    471|     Island Exorcist|\n",
      "|    858|       Submarine Bed|\n",
      "|    255|      Driving Polish|\n",
      "|    898|     Tourist Pelican|\n",
      "|    772|          Sea Virgin|\n",
      "|    300|       Falcon Volume|\n",
      "|    914|        Trouble Date|\n",
      "|    103|  Bucket Brotherhood|\n",
      "|    973|           Wife Turn|\n",
      "|    388|       Gunfight Moon|\n",
      "|    875|   Talented Homicide|\n",
      "|    233|     Disciple Mother|\n",
      "|    694|  Prejudice Oleander|\n",
      "|     52|Ballroom Mockingbird|\n",
      "|    715|    Range Moonwalker|\n",
      "|    348|         Gandhi Kwai|\n",
      "|    164|       Coast Rainbow|\n",
      "|    139|       Chasing Fight|\n",
      "|    295| Expendable Stallion|\n",
      "|    868|       Superfly Trip|\n",
      "+-------+--------------------+\n",
      "only showing top 20 rows\n",
      "\n"
     ]
    }
   ],
   "source": [
    "query = \"\"\"SELECT\n",
    "\tfilm_id,\n",
    "\ttitle\n",
    "FROM\n",
    "\tfilm\n",
    "WHERE\n",
    "\tfilm_id IN (\n",
    "\t\tSELECT\n",
    "\t\t\tinventory.film_id\n",
    "\t\tFROM\n",
    "\t\t\trental\n",
    "\t\tINNER JOIN inventory ON inventory.inventory_id = rental.inventory_id\n",
    "\t\tWHERE\n",
    "\t\t\treturn_date BETWEEN '2005-05-29'\n",
    "\t\tAND '2005-05-30'\n",
    "\t);\n",
    " \"\"\"\n",
    "show_query(query)"
   ]
  },
  {
   "cell_type": "markdown",
   "id": "dd28d525-e3ca-464a-a619-46219917404a",
   "metadata": {},
   "source": [
    "# EXISTS clause: checking clients who paid"
   ]
  },
  {
   "cell_type": "code",
   "execution_count": 7,
   "id": "336656f2-ab76-409d-957b-30b55c59496f",
   "metadata": {},
   "outputs": [
    {
     "name": "stdout",
     "output_type": "stream",
     "text": [
      "+----------+---------+\n",
      "|first_name|last_name|\n",
      "+----------+---------+\n",
      "|   Eleanor|     Hunt|\n",
      "|   Darrell|    Power|\n",
      "|      Dean|    Sauer|\n",
      "|     Tyler|     Wren|\n",
      "|     Lydia|    Burke|\n",
      "|      Sean| Douglass|\n",
      "|    Tyrone|    Asher|\n",
      "|    Brenda|   Wright|\n",
      "|     Elmer|      Noe|\n",
      "|      Anne|   Powell|\n",
      "|    Rhonda|  Kennedy|\n",
      "|    Vickie|   Brewer|\n",
      "|       Jim|      Rea|\n",
      "|      Ross|     Grey|\n",
      "|      Rose|   Howard|\n",
      "|     Lloyd|     Dowd|\n",
      "|   Heather|   Morris|\n",
      "|      Irma|  Pearson|\n",
      "|    Herman|   Devore|\n",
      "|    Marion|   Ocampo|\n",
      "+----------+---------+\n",
      "only showing top 20 rows\n",
      "\n"
     ]
    }
   ],
   "source": [
    "query = \"\"\"\n",
    "SELECT\n",
    "\tfirst_name,\n",
    "\tlast_name\n",
    "FROM\n",
    "\tcustomer\n",
    "WHERE\n",
    "\tEXISTS (\n",
    "\t\tSELECT\n",
    "\t\t\t1\n",
    "\t\tFROM\n",
    "\t\t\tpayment\n",
    "\t\tWHERE\n",
    "\t\t\tpayment.customer_id = customer.customer_id\n",
    "\t);\n",
    "\n",
    "\"\"\"\n",
    "show_query(query)"
   ]
  },
  {
   "cell_type": "markdown",
   "id": "638b9549-3682-445e-bfeb-7919d814c2ce",
   "metadata": {},
   "source": [
    "# ANY clause"
   ]
  },
  {
   "cell_type": "markdown",
   "id": "db887689-1b33-428c-8f4f-cb14385b96fe",
   "metadata": {},
   "source": [
    "## Spark documentation - is different from SQL queries"
   ]
  },
  {
   "cell_type": "code",
   "execution_count": 105,
   "id": "72ccc439-9558-4254-9378-7cf5e433e57c",
   "metadata": {},
   "outputs": [
    {
     "name": "stdout",
     "output_type": "stream",
     "text": [
      "+--------+\n",
      "|any(col)|\n",
      "+--------+\n",
      "|    true|\n",
      "+--------+\n",
      "\n"
     ]
    }
   ],
   "source": [
    "query = \"SELECT ANY(col) FROM VALUES (true), (false), (false) AS tab(col);\"\n",
    "show_query(query)"
   ]
  },
  {
   "cell_type": "markdown",
   "id": "e4f6497d-3eb4-494c-89b2-cda89a2be2b4",
   "metadata": {},
   "source": [
    "## Basic query - find the maximum duration for each genre"
   ]
  },
  {
   "cell_type": "code",
   "execution_count": 8,
   "id": "b3d30ed2-1228-4708-9db5-ce86acef9639",
   "metadata": {},
   "outputs": [
    {
     "name": "stdout",
     "output_type": "stream",
     "text": [
      "+-----------+----------------+\n",
      "|       name|maximum_duration|\n",
      "+-----------+----------------+\n",
      "|      Games|             185|\n",
      "|      Music|             185|\n",
      "|     Sci-Fi|             185|\n",
      "|     Comedy|             185|\n",
      "|     Action|             185|\n",
      "|     Travel|             185|\n",
      "|     Action|             185|\n",
      "|  Animation|             185|\n",
      "|     Travel|             185|\n",
      "|  Animation|             185|\n",
      "|      Games|             184|\n",
      "|     Sports|             184|\n",
      "|  Animation|             184|\n",
      "|  Animation|             184|\n",
      "|     Family|             184|\n",
      "|    Foreign|             184|\n",
      "|    Foreign|             184|\n",
      "|   Classics|             184|\n",
      "|        New|             183|\n",
      "|Documentary|             183|\n",
      "+-----------+----------------+\n",
      "only showing top 20 rows\n",
      "\n"
     ]
    }
   ],
   "source": [
    "base_query = \"\"\"\n",
    "SELECT \n",
    "    category.name,\n",
    "    MAX( length ) AS maximum_duration\n",
    "FROM\n",
    "    film\n",
    "INNER JOIN film_category\n",
    "        USING(film_id)\n",
    "INNER JOIN category USING(category_id)\n",
    "GROUP BY\n",
    "    film.title,\n",
    "    category.name,\n",
    "    category_id\n",
    "ORDER BY maximum_duration DESC\n",
    "\"\"\"\n",
    "show_query(base_query)"
   ]
  },
  {
   "cell_type": "markdown",
   "id": "4026a94f-70d1-4167-a290-e905879339c3",
   "metadata": {},
   "source": [
    "# Using the essential as a subquery"
   ]
  },
  {
   "cell_type": "code",
   "execution_count": 103,
   "id": "6ba2b97d-8ba0-44c6-a175-560c2dc5dcec",
   "metadata": {},
   "outputs": [
    {
     "ename": "AnalysisException",
     "evalue": "[DATATYPE_MISMATCH.UNEXPECTED_INPUT_TYPE] Cannot resolve \"any(scalarsubquery())\" due to data type mismatch: Parameter 1 requires the \"BOOLEAN\" type, however \"scalarsubquery()\" has the type \"SMALLINT\".; line 3 pos 22;\n'Project ['title]\n+- 'Filter (length#262 > any(scalar-subquery#1050 []))\n   :  +- Aggregate [category_id#188], [max(length#1060) AS max(length)#1052]\n   :     +- Project [film_id#1053, title#1054, description#1055, release_year#1056, language_id#1057, rental_duration#1058, rental_rate#1059, length#1060, replacement_cost#1061, rating#1062, last_update#1063, special_features#1064, fulltext#1065, category_id#188, last_update#189]\n   :        +- Join Inner, (film_id#1053 = cast(film_id#187 as int))\n   :           :- SubqueryAlias film\n   :           :  +- View (`film`, [film_id#1053,title#1054,description#1055,release_year#1056,language_id#1057,rental_duration#1058,rental_rate#1059,length#1060,replacement_cost#1061,rating#1062,last_update#1063,special_features#1064,fulltext#1065])\n   :           :     +- Relation [film_id#1053,title#1054,description#1055,release_year#1056,language_id#1057,rental_duration#1058,rental_rate#1059,length#1060,replacement_cost#1061,rating#1062,last_update#1063,special_features#1064,fulltext#1065] JDBCRelation(film) [numPartitions=1]\n   :           +- SubqueryAlias film_category\n   :              +- View (`film_category`, [film_id#187,category_id#188,last_update#189])\n   :                 +- Relation [film_id#187,category_id#188,last_update#189] JDBCRelation(film_category) [numPartitions=1]\n   +- SubqueryAlias film\n      +- View (`film`, [film_id#255,title#256,description#257,release_year#258,language_id#259,rental_duration#260,rental_rate#261,length#262,replacement_cost#263,rating#264,last_update#265,special_features#266,fulltext#267])\n         +- Relation [film_id#255,title#256,description#257,release_year#258,language_id#259,rental_duration#260,rental_rate#261,length#262,replacement_cost#263,rating#264,last_update#265,special_features#266,fulltext#267] JDBCRelation(film) [numPartitions=1]\n",
     "output_type": "error",
     "traceback": [
      "\u001b[0;31m---------------------------------------------------------------------------\u001b[0m",
      "\u001b[0;31mAnalysisException\u001b[0m                         Traceback (most recent call last)",
      "Cell \u001b[0;32mIn[103], line 10\u001b[0m\n\u001b[1;32m      1\u001b[0m query \u001b[38;5;241m=\u001b[39m \u001b[38;5;124m\"\"\"\u001b[39m\u001b[38;5;124mSELECT title\u001b[39m\n\u001b[1;32m      2\u001b[0m \u001b[38;5;124m        FROM film\u001b[39m\n\u001b[1;32m      3\u001b[0m \u001b[38;5;124m        WHERE length> ANY(\u001b[39m\n\u001b[0;32m   (...)\u001b[0m\n\u001b[1;32m      8\u001b[0m \u001b[38;5;124m        GROUP BY  category_id)\u001b[39m\n\u001b[1;32m      9\u001b[0m \u001b[38;5;124m        )\u001b[39m\u001b[38;5;124m\"\"\"\u001b[39m\n\u001b[0;32m---> 10\u001b[0m \u001b[43mshow_query\u001b[49m\u001b[43m(\u001b[49m\u001b[43mquery\u001b[49m\u001b[43m)\u001b[49m\n",
      "Cell \u001b[0;32mIn[3], line 2\u001b[0m, in \u001b[0;36mshow_query\u001b[0;34m(query, SparkSession, n)\u001b[0m\n\u001b[1;32m      1\u001b[0m \u001b[38;5;28;01mdef\u001b[39;00m \u001b[38;5;21mshow_query\u001b[39m(query,SparkSession \u001b[38;5;241m=\u001b[39m spark,n \u001b[38;5;241m=\u001b[39m \u001b[38;5;241m20\u001b[39m):\n\u001b[0;32m----> 2\u001b[0m     \u001b[38;5;28;01mreturn\u001b[39;00m \u001b[43mSparkSession\u001b[49m\u001b[38;5;241;43m.\u001b[39;49m\u001b[43msql\u001b[49m\u001b[43m(\u001b[49m\u001b[43mquery\u001b[49m\u001b[43m)\u001b[49m\u001b[38;5;241m.\u001b[39mshow()\n",
      "File \u001b[0;32m/usr/local/spark/python/pyspark/sql/session.py:1440\u001b[0m, in \u001b[0;36mSparkSession.sql\u001b[0;34m(self, sqlQuery, args, **kwargs)\u001b[0m\n\u001b[1;32m   1438\u001b[0m \u001b[38;5;28;01mtry\u001b[39;00m:\n\u001b[1;32m   1439\u001b[0m     litArgs \u001b[38;5;241m=\u001b[39m {k: _to_java_column(lit(v)) \u001b[38;5;28;01mfor\u001b[39;00m k, v \u001b[38;5;129;01min\u001b[39;00m (args \u001b[38;5;129;01mor\u001b[39;00m {})\u001b[38;5;241m.\u001b[39mitems()}\n\u001b[0;32m-> 1440\u001b[0m     \u001b[38;5;28;01mreturn\u001b[39;00m DataFrame(\u001b[38;5;28;43mself\u001b[39;49m\u001b[38;5;241;43m.\u001b[39;49m\u001b[43m_jsparkSession\u001b[49m\u001b[38;5;241;43m.\u001b[39;49m\u001b[43msql\u001b[49m\u001b[43m(\u001b[49m\u001b[43msqlQuery\u001b[49m\u001b[43m,\u001b[49m\u001b[43m \u001b[49m\u001b[43mlitArgs\u001b[49m\u001b[43m)\u001b[49m, \u001b[38;5;28mself\u001b[39m)\n\u001b[1;32m   1441\u001b[0m \u001b[38;5;28;01mfinally\u001b[39;00m:\n\u001b[1;32m   1442\u001b[0m     \u001b[38;5;28;01mif\u001b[39;00m \u001b[38;5;28mlen\u001b[39m(kwargs) \u001b[38;5;241m>\u001b[39m \u001b[38;5;241m0\u001b[39m:\n",
      "File \u001b[0;32m/usr/local/spark/python/lib/py4j-0.10.9.7-src.zip/py4j/java_gateway.py:1322\u001b[0m, in \u001b[0;36mJavaMember.__call__\u001b[0;34m(self, *args)\u001b[0m\n\u001b[1;32m   1316\u001b[0m command \u001b[38;5;241m=\u001b[39m proto\u001b[38;5;241m.\u001b[39mCALL_COMMAND_NAME \u001b[38;5;241m+\u001b[39m\\\n\u001b[1;32m   1317\u001b[0m     \u001b[38;5;28mself\u001b[39m\u001b[38;5;241m.\u001b[39mcommand_header \u001b[38;5;241m+\u001b[39m\\\n\u001b[1;32m   1318\u001b[0m     args_command \u001b[38;5;241m+\u001b[39m\\\n\u001b[1;32m   1319\u001b[0m     proto\u001b[38;5;241m.\u001b[39mEND_COMMAND_PART\n\u001b[1;32m   1321\u001b[0m answer \u001b[38;5;241m=\u001b[39m \u001b[38;5;28mself\u001b[39m\u001b[38;5;241m.\u001b[39mgateway_client\u001b[38;5;241m.\u001b[39msend_command(command)\n\u001b[0;32m-> 1322\u001b[0m return_value \u001b[38;5;241m=\u001b[39m \u001b[43mget_return_value\u001b[49m\u001b[43m(\u001b[49m\n\u001b[1;32m   1323\u001b[0m \u001b[43m    \u001b[49m\u001b[43manswer\u001b[49m\u001b[43m,\u001b[49m\u001b[43m \u001b[49m\u001b[38;5;28;43mself\u001b[39;49m\u001b[38;5;241;43m.\u001b[39;49m\u001b[43mgateway_client\u001b[49m\u001b[43m,\u001b[49m\u001b[43m \u001b[49m\u001b[38;5;28;43mself\u001b[39;49m\u001b[38;5;241;43m.\u001b[39;49m\u001b[43mtarget_id\u001b[49m\u001b[43m,\u001b[49m\u001b[43m \u001b[49m\u001b[38;5;28;43mself\u001b[39;49m\u001b[38;5;241;43m.\u001b[39;49m\u001b[43mname\u001b[49m\u001b[43m)\u001b[49m\n\u001b[1;32m   1325\u001b[0m \u001b[38;5;28;01mfor\u001b[39;00m temp_arg \u001b[38;5;129;01min\u001b[39;00m temp_args:\n\u001b[1;32m   1326\u001b[0m     \u001b[38;5;28;01mif\u001b[39;00m \u001b[38;5;28mhasattr\u001b[39m(temp_arg, \u001b[38;5;124m\"\u001b[39m\u001b[38;5;124m_detach\u001b[39m\u001b[38;5;124m\"\u001b[39m):\n",
      "File \u001b[0;32m/usr/local/spark/python/pyspark/errors/exceptions/captured.py:175\u001b[0m, in \u001b[0;36mcapture_sql_exception.<locals>.deco\u001b[0;34m(*a, **kw)\u001b[0m\n\u001b[1;32m    171\u001b[0m converted \u001b[38;5;241m=\u001b[39m convert_exception(e\u001b[38;5;241m.\u001b[39mjava_exception)\n\u001b[1;32m    172\u001b[0m \u001b[38;5;28;01mif\u001b[39;00m \u001b[38;5;129;01mnot\u001b[39;00m \u001b[38;5;28misinstance\u001b[39m(converted, UnknownException):\n\u001b[1;32m    173\u001b[0m     \u001b[38;5;66;03m# Hide where the exception came from that shows a non-Pythonic\u001b[39;00m\n\u001b[1;32m    174\u001b[0m     \u001b[38;5;66;03m# JVM exception message.\u001b[39;00m\n\u001b[0;32m--> 175\u001b[0m     \u001b[38;5;28;01mraise\u001b[39;00m converted \u001b[38;5;28;01mfrom\u001b[39;00m \u001b[38;5;28;01mNone\u001b[39;00m\n\u001b[1;32m    176\u001b[0m \u001b[38;5;28;01melse\u001b[39;00m:\n\u001b[1;32m    177\u001b[0m     \u001b[38;5;28;01mraise\u001b[39;00m\n",
      "\u001b[0;31mAnalysisException\u001b[0m: [DATATYPE_MISMATCH.UNEXPECTED_INPUT_TYPE] Cannot resolve \"any(scalarsubquery())\" due to data type mismatch: Parameter 1 requires the \"BOOLEAN\" type, however \"scalarsubquery()\" has the type \"SMALLINT\".; line 3 pos 22;\n'Project ['title]\n+- 'Filter (length#262 > any(scalar-subquery#1050 []))\n   :  +- Aggregate [category_id#188], [max(length#1060) AS max(length)#1052]\n   :     +- Project [film_id#1053, title#1054, description#1055, release_year#1056, language_id#1057, rental_duration#1058, rental_rate#1059, length#1060, replacement_cost#1061, rating#1062, last_update#1063, special_features#1064, fulltext#1065, category_id#188, last_update#189]\n   :        +- Join Inner, (film_id#1053 = cast(film_id#187 as int))\n   :           :- SubqueryAlias film\n   :           :  +- View (`film`, [film_id#1053,title#1054,description#1055,release_year#1056,language_id#1057,rental_duration#1058,rental_rate#1059,length#1060,replacement_cost#1061,rating#1062,last_update#1063,special_features#1064,fulltext#1065])\n   :           :     +- Relation [film_id#1053,title#1054,description#1055,release_year#1056,language_id#1057,rental_duration#1058,rental_rate#1059,length#1060,replacement_cost#1061,rating#1062,last_update#1063,special_features#1064,fulltext#1065] JDBCRelation(film) [numPartitions=1]\n   :           +- SubqueryAlias film_category\n   :              +- View (`film_category`, [film_id#187,category_id#188,last_update#189])\n   :                 +- Relation [film_id#187,category_id#188,last_update#189] JDBCRelation(film_category) [numPartitions=1]\n   +- SubqueryAlias film\n      +- View (`film`, [film_id#255,title#256,description#257,release_year#258,language_id#259,rental_duration#260,rental_rate#261,length#262,replacement_cost#263,rating#264,last_update#265,special_features#266,fulltext#267])\n         +- Relation [film_id#255,title#256,description#257,release_year#258,language_id#259,rental_duration#260,rental_rate#261,length#262,replacement_cost#263,rating#264,last_update#265,special_features#266,fulltext#267] JDBCRelation(film) [numPartitions=1]\n"
     ]
    }
   ],
   "source": [
    "query = \"\"\"SELECT title\n",
    "        FROM film\n",
    "        WHERE length> ANY(\n",
    "        (\n",
    "        SELECT MAX( length )\n",
    "        FROM film\n",
    "        INNER JOIN film_category USING(film_id)\n",
    "        GROUP BY  category_id)\n",
    "        )\"\"\"\n",
    "show_query(query)"
   ]
  },
  {
   "cell_type": "code",
   "execution_count": 76,
   "id": "99228110-e12b-45ab-95ec-1a7e2bd2915d",
   "metadata": {},
   "outputs": [
    {
     "ename": "AnalysisException",
     "evalue": "[DATATYPE_MISMATCH.UNEXPECTED_INPUT_TYPE] Cannot resolve \"any(scalarsubquery())\" due to data type mismatch: Parameter 1 requires the \"BOOLEAN\" type, however \"scalarsubquery()\" has the type \"SMALLINT\".; line 4 pos 16;\n'Project ['title]\n+- 'Filter (length#262 >= any(scalar-subquery#757 []))\n   :  +- Aggregate [category_id#188], [max(length#767) AS max(length)#759]\n   :     +- Project [film_id#760, title#761, description#762, release_year#763, language_id#764, rental_duration#765, rental_rate#766, length#767, replacement_cost#768, rating#769, last_update#770, special_features#771, fulltext#772, category_id#188, last_update#189]\n   :        +- Join Inner, (film_id#760 = cast(film_id#187 as int))\n   :           :- SubqueryAlias film\n   :           :  +- View (`film`, [film_id#760,title#761,description#762,release_year#763,language_id#764,rental_duration#765,rental_rate#766,length#767,replacement_cost#768,rating#769,last_update#770,special_features#771,fulltext#772])\n   :           :     +- Relation [film_id#760,title#761,description#762,release_year#763,language_id#764,rental_duration#765,rental_rate#766,length#767,replacement_cost#768,rating#769,last_update#770,special_features#771,fulltext#772] JDBCRelation(film) [numPartitions=1]\n   :           +- SubqueryAlias film_category\n   :              +- View (`film_category`, [film_id#187,category_id#188,last_update#189])\n   :                 +- Relation [film_id#187,category_id#188,last_update#189] JDBCRelation(film_category) [numPartitions=1]\n   +- SubqueryAlias film\n      +- View (`film`, [film_id#255,title#256,description#257,release_year#258,language_id#259,rental_duration#260,rental_rate#261,length#262,replacement_cost#263,rating#264,last_update#265,special_features#266,fulltext#267])\n         +- Relation [film_id#255,title#256,description#257,release_year#258,language_id#259,rental_duration#260,rental_rate#261,length#262,replacement_cost#263,rating#264,last_update#265,special_features#266,fulltext#267] JDBCRelation(film) [numPartitions=1]\n",
     "output_type": "error",
     "traceback": [
      "\u001b[0;31m---------------------------------------------------------------------------\u001b[0m",
      "\u001b[0;31mAnalysisException\u001b[0m                         Traceback (most recent call last)",
      "Cell \u001b[0;32mIn[76], line 14\u001b[0m\n\u001b[1;32m      1\u001b[0m query \u001b[38;5;241m=\u001b[39m \u001b[38;5;124m\"\"\"\u001b[39m\n\u001b[1;32m      2\u001b[0m \u001b[38;5;124mSELECT title\u001b[39m\n\u001b[1;32m      3\u001b[0m \u001b[38;5;124mFROM film\u001b[39m\n\u001b[0;32m   (...)\u001b[0m\n\u001b[1;32m     12\u001b[0m \n\u001b[1;32m     13\u001b[0m \u001b[38;5;124m\"\"\"\u001b[39m\n\u001b[0;32m---> 14\u001b[0m \u001b[43mshow_query\u001b[49m\u001b[43m(\u001b[49m\u001b[43mquery\u001b[49m\u001b[43m)\u001b[49m\n",
      "Cell \u001b[0;32mIn[3], line 2\u001b[0m, in \u001b[0;36mshow_query\u001b[0;34m(query, SparkSession, n)\u001b[0m\n\u001b[1;32m      1\u001b[0m \u001b[38;5;28;01mdef\u001b[39;00m \u001b[38;5;21mshow_query\u001b[39m(query,SparkSession \u001b[38;5;241m=\u001b[39m spark,n \u001b[38;5;241m=\u001b[39m \u001b[38;5;241m20\u001b[39m):\n\u001b[0;32m----> 2\u001b[0m     \u001b[38;5;28;01mreturn\u001b[39;00m \u001b[43mSparkSession\u001b[49m\u001b[38;5;241;43m.\u001b[39;49m\u001b[43msql\u001b[49m\u001b[43m(\u001b[49m\u001b[43mquery\u001b[49m\u001b[43m)\u001b[49m\u001b[38;5;241m.\u001b[39mshow()\n",
      "File \u001b[0;32m/usr/local/spark/python/pyspark/sql/session.py:1440\u001b[0m, in \u001b[0;36mSparkSession.sql\u001b[0;34m(self, sqlQuery, args, **kwargs)\u001b[0m\n\u001b[1;32m   1438\u001b[0m \u001b[38;5;28;01mtry\u001b[39;00m:\n\u001b[1;32m   1439\u001b[0m     litArgs \u001b[38;5;241m=\u001b[39m {k: _to_java_column(lit(v)) \u001b[38;5;28;01mfor\u001b[39;00m k, v \u001b[38;5;129;01min\u001b[39;00m (args \u001b[38;5;129;01mor\u001b[39;00m {})\u001b[38;5;241m.\u001b[39mitems()}\n\u001b[0;32m-> 1440\u001b[0m     \u001b[38;5;28;01mreturn\u001b[39;00m DataFrame(\u001b[38;5;28;43mself\u001b[39;49m\u001b[38;5;241;43m.\u001b[39;49m\u001b[43m_jsparkSession\u001b[49m\u001b[38;5;241;43m.\u001b[39;49m\u001b[43msql\u001b[49m\u001b[43m(\u001b[49m\u001b[43msqlQuery\u001b[49m\u001b[43m,\u001b[49m\u001b[43m \u001b[49m\u001b[43mlitArgs\u001b[49m\u001b[43m)\u001b[49m, \u001b[38;5;28mself\u001b[39m)\n\u001b[1;32m   1441\u001b[0m \u001b[38;5;28;01mfinally\u001b[39;00m:\n\u001b[1;32m   1442\u001b[0m     \u001b[38;5;28;01mif\u001b[39;00m \u001b[38;5;28mlen\u001b[39m(kwargs) \u001b[38;5;241m>\u001b[39m \u001b[38;5;241m0\u001b[39m:\n",
      "File \u001b[0;32m/usr/local/spark/python/lib/py4j-0.10.9.7-src.zip/py4j/java_gateway.py:1322\u001b[0m, in \u001b[0;36mJavaMember.__call__\u001b[0;34m(self, *args)\u001b[0m\n\u001b[1;32m   1316\u001b[0m command \u001b[38;5;241m=\u001b[39m proto\u001b[38;5;241m.\u001b[39mCALL_COMMAND_NAME \u001b[38;5;241m+\u001b[39m\\\n\u001b[1;32m   1317\u001b[0m     \u001b[38;5;28mself\u001b[39m\u001b[38;5;241m.\u001b[39mcommand_header \u001b[38;5;241m+\u001b[39m\\\n\u001b[1;32m   1318\u001b[0m     args_command \u001b[38;5;241m+\u001b[39m\\\n\u001b[1;32m   1319\u001b[0m     proto\u001b[38;5;241m.\u001b[39mEND_COMMAND_PART\n\u001b[1;32m   1321\u001b[0m answer \u001b[38;5;241m=\u001b[39m \u001b[38;5;28mself\u001b[39m\u001b[38;5;241m.\u001b[39mgateway_client\u001b[38;5;241m.\u001b[39msend_command(command)\n\u001b[0;32m-> 1322\u001b[0m return_value \u001b[38;5;241m=\u001b[39m \u001b[43mget_return_value\u001b[49m\u001b[43m(\u001b[49m\n\u001b[1;32m   1323\u001b[0m \u001b[43m    \u001b[49m\u001b[43manswer\u001b[49m\u001b[43m,\u001b[49m\u001b[43m \u001b[49m\u001b[38;5;28;43mself\u001b[39;49m\u001b[38;5;241;43m.\u001b[39;49m\u001b[43mgateway_client\u001b[49m\u001b[43m,\u001b[49m\u001b[43m \u001b[49m\u001b[38;5;28;43mself\u001b[39;49m\u001b[38;5;241;43m.\u001b[39;49m\u001b[43mtarget_id\u001b[49m\u001b[43m,\u001b[49m\u001b[43m \u001b[49m\u001b[38;5;28;43mself\u001b[39;49m\u001b[38;5;241;43m.\u001b[39;49m\u001b[43mname\u001b[49m\u001b[43m)\u001b[49m\n\u001b[1;32m   1325\u001b[0m \u001b[38;5;28;01mfor\u001b[39;00m temp_arg \u001b[38;5;129;01min\u001b[39;00m temp_args:\n\u001b[1;32m   1326\u001b[0m     \u001b[38;5;28;01mif\u001b[39;00m \u001b[38;5;28mhasattr\u001b[39m(temp_arg, \u001b[38;5;124m\"\u001b[39m\u001b[38;5;124m_detach\u001b[39m\u001b[38;5;124m\"\u001b[39m):\n",
      "File \u001b[0;32m/usr/local/spark/python/pyspark/errors/exceptions/captured.py:175\u001b[0m, in \u001b[0;36mcapture_sql_exception.<locals>.deco\u001b[0;34m(*a, **kw)\u001b[0m\n\u001b[1;32m    171\u001b[0m converted \u001b[38;5;241m=\u001b[39m convert_exception(e\u001b[38;5;241m.\u001b[39mjava_exception)\n\u001b[1;32m    172\u001b[0m \u001b[38;5;28;01mif\u001b[39;00m \u001b[38;5;129;01mnot\u001b[39;00m \u001b[38;5;28misinstance\u001b[39m(converted, UnknownException):\n\u001b[1;32m    173\u001b[0m     \u001b[38;5;66;03m# Hide where the exception came from that shows a non-Pythonic\u001b[39;00m\n\u001b[1;32m    174\u001b[0m     \u001b[38;5;66;03m# JVM exception message.\u001b[39;00m\n\u001b[0;32m--> 175\u001b[0m     \u001b[38;5;28;01mraise\u001b[39;00m converted \u001b[38;5;28;01mfrom\u001b[39;00m \u001b[38;5;28;01mNone\u001b[39;00m\n\u001b[1;32m    176\u001b[0m \u001b[38;5;28;01melse\u001b[39;00m:\n\u001b[1;32m    177\u001b[0m     \u001b[38;5;28;01mraise\u001b[39;00m\n",
      "\u001b[0;31mAnalysisException\u001b[0m: [DATATYPE_MISMATCH.UNEXPECTED_INPUT_TYPE] Cannot resolve \"any(scalarsubquery())\" due to data type mismatch: Parameter 1 requires the \"BOOLEAN\" type, however \"scalarsubquery()\" has the type \"SMALLINT\".; line 4 pos 16;\n'Project ['title]\n+- 'Filter (length#262 >= any(scalar-subquery#757 []))\n   :  +- Aggregate [category_id#188], [max(length#767) AS max(length)#759]\n   :     +- Project [film_id#760, title#761, description#762, release_year#763, language_id#764, rental_duration#765, rental_rate#766, length#767, replacement_cost#768, rating#769, last_update#770, special_features#771, fulltext#772, category_id#188, last_update#189]\n   :        +- Join Inner, (film_id#760 = cast(film_id#187 as int))\n   :           :- SubqueryAlias film\n   :           :  +- View (`film`, [film_id#760,title#761,description#762,release_year#763,language_id#764,rental_duration#765,rental_rate#766,length#767,replacement_cost#768,rating#769,last_update#770,special_features#771,fulltext#772])\n   :           :     +- Relation [film_id#760,title#761,description#762,release_year#763,language_id#764,rental_duration#765,rental_rate#766,length#767,replacement_cost#768,rating#769,last_update#770,special_features#771,fulltext#772] JDBCRelation(film) [numPartitions=1]\n   :           +- SubqueryAlias film_category\n   :              +- View (`film_category`, [film_id#187,category_id#188,last_update#189])\n   :                 +- Relation [film_id#187,category_id#188,last_update#189] JDBCRelation(film_category) [numPartitions=1]\n   +- SubqueryAlias film\n      +- View (`film`, [film_id#255,title#256,description#257,release_year#258,language_id#259,rental_duration#260,rental_rate#261,length#262,replacement_cost#263,rating#264,last_update#265,special_features#266,fulltext#267])\n         +- Relation [film_id#255,title#256,description#257,release_year#258,language_id#259,rental_duration#260,rental_rate#261,length#262,replacement_cost#263,rating#264,last_update#265,special_features#266,fulltext#267] JDBCRelation(film) [numPartitions=1]\n"
     ]
    }
   ],
   "source": [
    "query = \"\"\"\n",
    "SELECT title\n",
    "FROM film\n",
    "WHERE length >= ANY(\n",
    "        (\n",
    "        SELECT MAX( length )\n",
    "        FROM film\n",
    "        INNER JOIN film_category USING(film_id)\n",
    "        GROUP BY  category_id \n",
    "        )\n",
    "    );\n",
    "\n",
    "\"\"\"\n",
    "show_query(query)"
   ]
  },
  {
   "cell_type": "markdown",
   "id": "a7a8b862-3c12-490a-a1ac-7663e4c55d4f",
   "metadata": {},
   "source": [
    "## Other example"
   ]
  },
  {
   "cell_type": "code",
   "execution_count": 64,
   "id": "640fc7a1-e9d4-4f84-a575-d953aca080c5",
   "metadata": {},
   "outputs": [
    {
     "ename": "AnalysisException",
     "evalue": "[DATATYPE_MISMATCH.UNEXPECTED_INPUT_TYPE] Cannot resolve \"any(scalarsubquery())\" due to data type mismatch: Parameter 1 requires the \"BOOLEAN\" type, however \"scalarsubquery()\" has the type \"INT\".; line 10 pos 18;\n'Project ['title, 'category_id]\n+- 'Filter (category_id#188 = any(scalar-subquery#620 []))\n   :  +- Project [category_id#141]\n   :     +- Filter ((NAME#142 = Action) OR (NAME#142 = Drama))\n   :        +- SubqueryAlias category\n   :           +- View (`category`, [category_id#141,name#142,last_update#143])\n   :              +- Relation [category_id#141,name#142,last_update#143] JDBCRelation(category) [numPartitions=1]\n   +- Project [film_id#255, title#256, description#257, release_year#258, language_id#259, rental_duration#260, rental_rate#261, length#262, replacement_cost#263, rating#264, last_update#265, special_features#266, fulltext#267, category_id#188, last_update#189]\n      +- Join Inner, (film_id#255 = cast(film_id#187 as int))\n         :- SubqueryAlias film\n         :  +- View (`film`, [film_id#255,title#256,description#257,release_year#258,language_id#259,rental_duration#260,rental_rate#261,length#262,replacement_cost#263,rating#264,last_update#265,special_features#266,fulltext#267])\n         :     +- Relation [film_id#255,title#256,description#257,release_year#258,language_id#259,rental_duration#260,rental_rate#261,length#262,replacement_cost#263,rating#264,last_update#265,special_features#266,fulltext#267] JDBCRelation(film) [numPartitions=1]\n         +- SubqueryAlias film_category\n            +- View (`film_category`, [film_id#187,category_id#188,last_update#189])\n               +- Relation [film_id#187,category_id#188,last_update#189] JDBCRelation(film_category) [numPartitions=1]\n",
     "output_type": "error",
     "traceback": [
      "\u001b[0;31m---------------------------------------------------------------------------\u001b[0m",
      "\u001b[0;31mAnalysisException\u001b[0m                         Traceback (most recent call last)",
      "Cell \u001b[0;32mIn[64], line 21\u001b[0m\n\u001b[1;32m      1\u001b[0m query \u001b[38;5;241m=\u001b[39m \u001b[38;5;124m\"\"\"\u001b[39m\n\u001b[1;32m      2\u001b[0m \u001b[38;5;124mSELECT\u001b[39m\n\u001b[1;32m      3\u001b[0m \u001b[38;5;124m    title,\u001b[39m\n\u001b[0;32m   (...)\u001b[0m\n\u001b[1;32m     19\u001b[0m \n\u001b[1;32m     20\u001b[0m \u001b[38;5;124m\"\"\"\u001b[39m\n\u001b[0;32m---> 21\u001b[0m \u001b[43mshow_query\u001b[49m\u001b[43m(\u001b[49m\u001b[43mquery\u001b[49m\u001b[43m)\u001b[49m\n",
      "Cell \u001b[0;32mIn[3], line 2\u001b[0m, in \u001b[0;36mshow_query\u001b[0;34m(query, SparkSession, n)\u001b[0m\n\u001b[1;32m      1\u001b[0m \u001b[38;5;28;01mdef\u001b[39;00m \u001b[38;5;21mshow_query\u001b[39m(query,SparkSession \u001b[38;5;241m=\u001b[39m spark,n \u001b[38;5;241m=\u001b[39m \u001b[38;5;241m20\u001b[39m):\n\u001b[0;32m----> 2\u001b[0m     \u001b[38;5;28;01mreturn\u001b[39;00m \u001b[43mSparkSession\u001b[49m\u001b[38;5;241;43m.\u001b[39;49m\u001b[43msql\u001b[49m\u001b[43m(\u001b[49m\u001b[43mquery\u001b[49m\u001b[43m)\u001b[49m\u001b[38;5;241m.\u001b[39mshow()\n",
      "File \u001b[0;32m/usr/local/spark/python/pyspark/sql/session.py:1440\u001b[0m, in \u001b[0;36mSparkSession.sql\u001b[0;34m(self, sqlQuery, args, **kwargs)\u001b[0m\n\u001b[1;32m   1438\u001b[0m \u001b[38;5;28;01mtry\u001b[39;00m:\n\u001b[1;32m   1439\u001b[0m     litArgs \u001b[38;5;241m=\u001b[39m {k: _to_java_column(lit(v)) \u001b[38;5;28;01mfor\u001b[39;00m k, v \u001b[38;5;129;01min\u001b[39;00m (args \u001b[38;5;129;01mor\u001b[39;00m {})\u001b[38;5;241m.\u001b[39mitems()}\n\u001b[0;32m-> 1440\u001b[0m     \u001b[38;5;28;01mreturn\u001b[39;00m DataFrame(\u001b[38;5;28;43mself\u001b[39;49m\u001b[38;5;241;43m.\u001b[39;49m\u001b[43m_jsparkSession\u001b[49m\u001b[38;5;241;43m.\u001b[39;49m\u001b[43msql\u001b[49m\u001b[43m(\u001b[49m\u001b[43msqlQuery\u001b[49m\u001b[43m,\u001b[49m\u001b[43m \u001b[49m\u001b[43mlitArgs\u001b[49m\u001b[43m)\u001b[49m, \u001b[38;5;28mself\u001b[39m)\n\u001b[1;32m   1441\u001b[0m \u001b[38;5;28;01mfinally\u001b[39;00m:\n\u001b[1;32m   1442\u001b[0m     \u001b[38;5;28;01mif\u001b[39;00m \u001b[38;5;28mlen\u001b[39m(kwargs) \u001b[38;5;241m>\u001b[39m \u001b[38;5;241m0\u001b[39m:\n",
      "File \u001b[0;32m/usr/local/spark/python/lib/py4j-0.10.9.7-src.zip/py4j/java_gateway.py:1322\u001b[0m, in \u001b[0;36mJavaMember.__call__\u001b[0;34m(self, *args)\u001b[0m\n\u001b[1;32m   1316\u001b[0m command \u001b[38;5;241m=\u001b[39m proto\u001b[38;5;241m.\u001b[39mCALL_COMMAND_NAME \u001b[38;5;241m+\u001b[39m\\\n\u001b[1;32m   1317\u001b[0m     \u001b[38;5;28mself\u001b[39m\u001b[38;5;241m.\u001b[39mcommand_header \u001b[38;5;241m+\u001b[39m\\\n\u001b[1;32m   1318\u001b[0m     args_command \u001b[38;5;241m+\u001b[39m\\\n\u001b[1;32m   1319\u001b[0m     proto\u001b[38;5;241m.\u001b[39mEND_COMMAND_PART\n\u001b[1;32m   1321\u001b[0m answer \u001b[38;5;241m=\u001b[39m \u001b[38;5;28mself\u001b[39m\u001b[38;5;241m.\u001b[39mgateway_client\u001b[38;5;241m.\u001b[39msend_command(command)\n\u001b[0;32m-> 1322\u001b[0m return_value \u001b[38;5;241m=\u001b[39m \u001b[43mget_return_value\u001b[49m\u001b[43m(\u001b[49m\n\u001b[1;32m   1323\u001b[0m \u001b[43m    \u001b[49m\u001b[43manswer\u001b[49m\u001b[43m,\u001b[49m\u001b[43m \u001b[49m\u001b[38;5;28;43mself\u001b[39;49m\u001b[38;5;241;43m.\u001b[39;49m\u001b[43mgateway_client\u001b[49m\u001b[43m,\u001b[49m\u001b[43m \u001b[49m\u001b[38;5;28;43mself\u001b[39;49m\u001b[38;5;241;43m.\u001b[39;49m\u001b[43mtarget_id\u001b[49m\u001b[43m,\u001b[49m\u001b[43m \u001b[49m\u001b[38;5;28;43mself\u001b[39;49m\u001b[38;5;241;43m.\u001b[39;49m\u001b[43mname\u001b[49m\u001b[43m)\u001b[49m\n\u001b[1;32m   1325\u001b[0m \u001b[38;5;28;01mfor\u001b[39;00m temp_arg \u001b[38;5;129;01min\u001b[39;00m temp_args:\n\u001b[1;32m   1326\u001b[0m     \u001b[38;5;28;01mif\u001b[39;00m \u001b[38;5;28mhasattr\u001b[39m(temp_arg, \u001b[38;5;124m\"\u001b[39m\u001b[38;5;124m_detach\u001b[39m\u001b[38;5;124m\"\u001b[39m):\n",
      "File \u001b[0;32m/usr/local/spark/python/pyspark/errors/exceptions/captured.py:175\u001b[0m, in \u001b[0;36mcapture_sql_exception.<locals>.deco\u001b[0;34m(*a, **kw)\u001b[0m\n\u001b[1;32m    171\u001b[0m converted \u001b[38;5;241m=\u001b[39m convert_exception(e\u001b[38;5;241m.\u001b[39mjava_exception)\n\u001b[1;32m    172\u001b[0m \u001b[38;5;28;01mif\u001b[39;00m \u001b[38;5;129;01mnot\u001b[39;00m \u001b[38;5;28misinstance\u001b[39m(converted, UnknownException):\n\u001b[1;32m    173\u001b[0m     \u001b[38;5;66;03m# Hide where the exception came from that shows a non-Pythonic\u001b[39;00m\n\u001b[1;32m    174\u001b[0m     \u001b[38;5;66;03m# JVM exception message.\u001b[39;00m\n\u001b[0;32m--> 175\u001b[0m     \u001b[38;5;28;01mraise\u001b[39;00m converted \u001b[38;5;28;01mfrom\u001b[39;00m \u001b[38;5;28;01mNone\u001b[39;00m\n\u001b[1;32m    176\u001b[0m \u001b[38;5;28;01melse\u001b[39;00m:\n\u001b[1;32m    177\u001b[0m     \u001b[38;5;28;01mraise\u001b[39;00m\n",
      "\u001b[0;31mAnalysisException\u001b[0m: [DATATYPE_MISMATCH.UNEXPECTED_INPUT_TYPE] Cannot resolve \"any(scalarsubquery())\" due to data type mismatch: Parameter 1 requires the \"BOOLEAN\" type, however \"scalarsubquery()\" has the type \"INT\".; line 10 pos 18;\n'Project ['title, 'category_id]\n+- 'Filter (category_id#188 = any(scalar-subquery#620 []))\n   :  +- Project [category_id#141]\n   :     +- Filter ((NAME#142 = Action) OR (NAME#142 = Drama))\n   :        +- SubqueryAlias category\n   :           +- View (`category`, [category_id#141,name#142,last_update#143])\n   :              +- Relation [category_id#141,name#142,last_update#143] JDBCRelation(category) [numPartitions=1]\n   +- Project [film_id#255, title#256, description#257, release_year#258, language_id#259, rental_duration#260, rental_rate#261, length#262, replacement_cost#263, rating#264, last_update#265, special_features#266, fulltext#267, category_id#188, last_update#189]\n      +- Join Inner, (film_id#255 = cast(film_id#187 as int))\n         :- SubqueryAlias film\n         :  +- View (`film`, [film_id#255,title#256,description#257,release_year#258,language_id#259,rental_duration#260,rental_rate#261,length#262,replacement_cost#263,rating#264,last_update#265,special_features#266,fulltext#267])\n         :     +- Relation [film_id#255,title#256,description#257,release_year#258,language_id#259,rental_duration#260,rental_rate#261,length#262,replacement_cost#263,rating#264,last_update#265,special_features#266,fulltext#267] JDBCRelation(film) [numPartitions=1]\n         +- SubqueryAlias film_category\n            +- View (`film_category`, [film_id#187,category_id#188,last_update#189])\n               +- Relation [film_id#187,category_id#188,last_update#189] JDBCRelation(film_category) [numPartitions=1]\n"
     ]
    }
   ],
   "source": [
    "query = \"\"\"\n",
    "SELECT\n",
    "    title,\n",
    "    category_id\n",
    "FROM\n",
    "    film\n",
    "INNER JOIN film_category\n",
    "        USING(film_id)\n",
    "WHERE\n",
    "    category_id = ANY((\n",
    "        SELECT\n",
    "            category_id\n",
    "        FROM\n",
    "            category\n",
    "        WHERE\n",
    "            NAME = 'Action'\n",
    "            OR NAME = 'Drama'\n",
    "    ));\n",
    "\n",
    "\"\"\"\n",
    "show_query(query)"
   ]
  },
  {
   "cell_type": "markdown",
   "id": "c43434ed-e27c-491a-a363-5eb2227496b3",
   "metadata": {},
   "source": [
    "# ALL"
   ]
  },
  {
   "cell_type": "markdown",
   "id": "be9db0d4-13b5-4ad3-a527-4354d78ef649",
   "metadata": {},
   "source": [
    "## Spark documentation"
   ]
  },
  {
   "cell_type": "code",
   "execution_count": 88,
   "id": "fd8893ac-a14f-45f1-a7f1-d2813da1c669",
   "metadata": {},
   "outputs": [
    {
     "name": "stdout",
     "output_type": "stream",
     "text": [
      "+--------+\n",
      "|any(col)|\n",
      "+--------+\n",
      "|    true|\n",
      "+--------+\n",
      "\n"
     ]
    }
   ],
   "source": [
    "query = \"SELECT ANY(col) FROM VALUES (true), (true), (true) AS tab(col);\"\n",
    "show_query(query)"
   ]
  },
  {
   "cell_type": "markdown",
   "id": "cca3502c-fabf-438a-b27a-7117224b90f0",
   "metadata": {},
   "source": [
    "## ALL works differently on Spark"
   ]
  },
  {
   "cell_type": "code",
   "execution_count": 95,
   "id": "d14824c9-6e06-46ec-af84-100c57439041",
   "metadata": {},
   "outputs": [
    {
     "ename": "AnalysisException",
     "evalue": "[DATATYPE_MISMATCH.UNEXPECTED_INPUT_TYPE] Cannot resolve \"any(scalarsubquery())\" due to data type mismatch: Parameter 1 requires the \"BOOLEAN\" type, however \"scalarsubquery()\" has the type \"INT\".; line 10 pos 18;\n'Project ['title, 'category_id]\n+- 'Filter (category_id#188 = any(scalar-subquery#976 []))\n   :  +- Project [category_id#141]\n   :     +- Filter ((NAME#142 = Action) OR (NAME#142 = Drama))\n   :        +- SubqueryAlias category\n   :           +- View (`category`, [category_id#141,name#142,last_update#143])\n   :              +- Relation [category_id#141,name#142,last_update#143] JDBCRelation(category) [numPartitions=1]\n   +- Project [film_id#255, title#256, description#257, release_year#258, language_id#259, rental_duration#260, rental_rate#261, length#262, replacement_cost#263, rating#264, last_update#265, special_features#266, fulltext#267, category_id#188, last_update#189]\n      +- Join Inner, (film_id#255 = cast(film_id#187 as int))\n         :- SubqueryAlias film\n         :  +- View (`film`, [film_id#255,title#256,description#257,release_year#258,language_id#259,rental_duration#260,rental_rate#261,length#262,replacement_cost#263,rating#264,last_update#265,special_features#266,fulltext#267])\n         :     +- Relation [film_id#255,title#256,description#257,release_year#258,language_id#259,rental_duration#260,rental_rate#261,length#262,replacement_cost#263,rating#264,last_update#265,special_features#266,fulltext#267] JDBCRelation(film) [numPartitions=1]\n         +- SubqueryAlias film_category\n            +- View (`film_category`, [film_id#187,category_id#188,last_update#189])\n               +- Relation [film_id#187,category_id#188,last_update#189] JDBCRelation(film_category) [numPartitions=1]\n",
     "output_type": "error",
     "traceback": [
      "\u001b[0;31m---------------------------------------------------------------------------\u001b[0m",
      "\u001b[0;31mAnalysisException\u001b[0m                         Traceback (most recent call last)",
      "Cell \u001b[0;32mIn[95], line 23\u001b[0m\n\u001b[1;32m      1\u001b[0m query \u001b[38;5;241m=\u001b[39m \u001b[38;5;124m\"\"\"\u001b[39m\n\u001b[1;32m      2\u001b[0m \u001b[38;5;124mSELECT\u001b[39m\n\u001b[1;32m      3\u001b[0m \u001b[38;5;124m    title,\u001b[39m\n\u001b[0;32m   (...)\u001b[0m\n\u001b[1;32m     21\u001b[0m \n\u001b[1;32m     22\u001b[0m \u001b[38;5;124m\"\"\"\u001b[39m\n\u001b[0;32m---> 23\u001b[0m \u001b[43mshow_query\u001b[49m\u001b[43m(\u001b[49m\u001b[43mquery\u001b[49m\u001b[43m)\u001b[49m\n",
      "Cell \u001b[0;32mIn[3], line 2\u001b[0m, in \u001b[0;36mshow_query\u001b[0;34m(query, SparkSession, n)\u001b[0m\n\u001b[1;32m      1\u001b[0m \u001b[38;5;28;01mdef\u001b[39;00m \u001b[38;5;21mshow_query\u001b[39m(query,SparkSession \u001b[38;5;241m=\u001b[39m spark,n \u001b[38;5;241m=\u001b[39m \u001b[38;5;241m20\u001b[39m):\n\u001b[0;32m----> 2\u001b[0m     \u001b[38;5;28;01mreturn\u001b[39;00m \u001b[43mSparkSession\u001b[49m\u001b[38;5;241;43m.\u001b[39;49m\u001b[43msql\u001b[49m\u001b[43m(\u001b[49m\u001b[43mquery\u001b[49m\u001b[43m)\u001b[49m\u001b[38;5;241m.\u001b[39mshow()\n",
      "File \u001b[0;32m/usr/local/spark/python/pyspark/sql/session.py:1440\u001b[0m, in \u001b[0;36mSparkSession.sql\u001b[0;34m(self, sqlQuery, args, **kwargs)\u001b[0m\n\u001b[1;32m   1438\u001b[0m \u001b[38;5;28;01mtry\u001b[39;00m:\n\u001b[1;32m   1439\u001b[0m     litArgs \u001b[38;5;241m=\u001b[39m {k: _to_java_column(lit(v)) \u001b[38;5;28;01mfor\u001b[39;00m k, v \u001b[38;5;129;01min\u001b[39;00m (args \u001b[38;5;129;01mor\u001b[39;00m {})\u001b[38;5;241m.\u001b[39mitems()}\n\u001b[0;32m-> 1440\u001b[0m     \u001b[38;5;28;01mreturn\u001b[39;00m DataFrame(\u001b[38;5;28;43mself\u001b[39;49m\u001b[38;5;241;43m.\u001b[39;49m\u001b[43m_jsparkSession\u001b[49m\u001b[38;5;241;43m.\u001b[39;49m\u001b[43msql\u001b[49m\u001b[43m(\u001b[49m\u001b[43msqlQuery\u001b[49m\u001b[43m,\u001b[49m\u001b[43m \u001b[49m\u001b[43mlitArgs\u001b[49m\u001b[43m)\u001b[49m, \u001b[38;5;28mself\u001b[39m)\n\u001b[1;32m   1441\u001b[0m \u001b[38;5;28;01mfinally\u001b[39;00m:\n\u001b[1;32m   1442\u001b[0m     \u001b[38;5;28;01mif\u001b[39;00m \u001b[38;5;28mlen\u001b[39m(kwargs) \u001b[38;5;241m>\u001b[39m \u001b[38;5;241m0\u001b[39m:\n",
      "File \u001b[0;32m/usr/local/spark/python/lib/py4j-0.10.9.7-src.zip/py4j/java_gateway.py:1322\u001b[0m, in \u001b[0;36mJavaMember.__call__\u001b[0;34m(self, *args)\u001b[0m\n\u001b[1;32m   1316\u001b[0m command \u001b[38;5;241m=\u001b[39m proto\u001b[38;5;241m.\u001b[39mCALL_COMMAND_NAME \u001b[38;5;241m+\u001b[39m\\\n\u001b[1;32m   1317\u001b[0m     \u001b[38;5;28mself\u001b[39m\u001b[38;5;241m.\u001b[39mcommand_header \u001b[38;5;241m+\u001b[39m\\\n\u001b[1;32m   1318\u001b[0m     args_command \u001b[38;5;241m+\u001b[39m\\\n\u001b[1;32m   1319\u001b[0m     proto\u001b[38;5;241m.\u001b[39mEND_COMMAND_PART\n\u001b[1;32m   1321\u001b[0m answer \u001b[38;5;241m=\u001b[39m \u001b[38;5;28mself\u001b[39m\u001b[38;5;241m.\u001b[39mgateway_client\u001b[38;5;241m.\u001b[39msend_command(command)\n\u001b[0;32m-> 1322\u001b[0m return_value \u001b[38;5;241m=\u001b[39m \u001b[43mget_return_value\u001b[49m\u001b[43m(\u001b[49m\n\u001b[1;32m   1323\u001b[0m \u001b[43m    \u001b[49m\u001b[43manswer\u001b[49m\u001b[43m,\u001b[49m\u001b[43m \u001b[49m\u001b[38;5;28;43mself\u001b[39;49m\u001b[38;5;241;43m.\u001b[39;49m\u001b[43mgateway_client\u001b[49m\u001b[43m,\u001b[49m\u001b[43m \u001b[49m\u001b[38;5;28;43mself\u001b[39;49m\u001b[38;5;241;43m.\u001b[39;49m\u001b[43mtarget_id\u001b[49m\u001b[43m,\u001b[49m\u001b[43m \u001b[49m\u001b[38;5;28;43mself\u001b[39;49m\u001b[38;5;241;43m.\u001b[39;49m\u001b[43mname\u001b[49m\u001b[43m)\u001b[49m\n\u001b[1;32m   1325\u001b[0m \u001b[38;5;28;01mfor\u001b[39;00m temp_arg \u001b[38;5;129;01min\u001b[39;00m temp_args:\n\u001b[1;32m   1326\u001b[0m     \u001b[38;5;28;01mif\u001b[39;00m \u001b[38;5;28mhasattr\u001b[39m(temp_arg, \u001b[38;5;124m\"\u001b[39m\u001b[38;5;124m_detach\u001b[39m\u001b[38;5;124m\"\u001b[39m):\n",
      "File \u001b[0;32m/usr/local/spark/python/pyspark/errors/exceptions/captured.py:175\u001b[0m, in \u001b[0;36mcapture_sql_exception.<locals>.deco\u001b[0;34m(*a, **kw)\u001b[0m\n\u001b[1;32m    171\u001b[0m converted \u001b[38;5;241m=\u001b[39m convert_exception(e\u001b[38;5;241m.\u001b[39mjava_exception)\n\u001b[1;32m    172\u001b[0m \u001b[38;5;28;01mif\u001b[39;00m \u001b[38;5;129;01mnot\u001b[39;00m \u001b[38;5;28misinstance\u001b[39m(converted, UnknownException):\n\u001b[1;32m    173\u001b[0m     \u001b[38;5;66;03m# Hide where the exception came from that shows a non-Pythonic\u001b[39;00m\n\u001b[1;32m    174\u001b[0m     \u001b[38;5;66;03m# JVM exception message.\u001b[39;00m\n\u001b[0;32m--> 175\u001b[0m     \u001b[38;5;28;01mraise\u001b[39;00m converted \u001b[38;5;28;01mfrom\u001b[39;00m \u001b[38;5;28;01mNone\u001b[39;00m\n\u001b[1;32m    176\u001b[0m \u001b[38;5;28;01melse\u001b[39;00m:\n\u001b[1;32m    177\u001b[0m     \u001b[38;5;28;01mraise\u001b[39;00m\n",
      "\u001b[0;31mAnalysisException\u001b[0m: [DATATYPE_MISMATCH.UNEXPECTED_INPUT_TYPE] Cannot resolve \"any(scalarsubquery())\" due to data type mismatch: Parameter 1 requires the \"BOOLEAN\" type, however \"scalarsubquery()\" has the type \"INT\".; line 10 pos 18;\n'Project ['title, 'category_id]\n+- 'Filter (category_id#188 = any(scalar-subquery#976 []))\n   :  +- Project [category_id#141]\n   :     +- Filter ((NAME#142 = Action) OR (NAME#142 = Drama))\n   :        +- SubqueryAlias category\n   :           +- View (`category`, [category_id#141,name#142,last_update#143])\n   :              +- Relation [category_id#141,name#142,last_update#143] JDBCRelation(category) [numPartitions=1]\n   +- Project [film_id#255, title#256, description#257, release_year#258, language_id#259, rental_duration#260, rental_rate#261, length#262, replacement_cost#263, rating#264, last_update#265, special_features#266, fulltext#267, category_id#188, last_update#189]\n      +- Join Inner, (film_id#255 = cast(film_id#187 as int))\n         :- SubqueryAlias film\n         :  +- View (`film`, [film_id#255,title#256,description#257,release_year#258,language_id#259,rental_duration#260,rental_rate#261,length#262,replacement_cost#263,rating#264,last_update#265,special_features#266,fulltext#267])\n         :     +- Relation [film_id#255,title#256,description#257,release_year#258,language_id#259,rental_duration#260,rental_rate#261,length#262,replacement_cost#263,rating#264,last_update#265,special_features#266,fulltext#267] JDBCRelation(film) [numPartitions=1]\n         +- SubqueryAlias film_category\n            +- View (`film_category`, [film_id#187,category_id#188,last_update#189])\n               +- Relation [film_id#187,category_id#188,last_update#189] JDBCRelation(film_category) [numPartitions=1]\n"
     ]
    }
   ],
   "source": [
    "query = \"\"\"\n",
    "SELECT\n",
    "    title,\n",
    "    category_id\n",
    "FROM\n",
    "    film\n",
    "INNER JOIN film_category\n",
    "        USING(film_id)\n",
    "WHERE\n",
    "    category_id = ANY(\n",
    "        (\n",
    "        SELECT\n",
    "            category_id\n",
    "        FROM\n",
    "            category\n",
    "        WHERE\n",
    "            NAME = 'Action'\n",
    "            OR NAME = 'Drama'\n",
    "        )\n",
    "    );\n",
    "\n",
    "\"\"\"\n",
    "show_query(query)"
   ]
  },
  {
   "cell_type": "markdown",
   "id": "e73eb876-140e-44c6-a0f0-279e14eba5d2",
   "metadata": {},
   "source": [
    "# EXISTS"
   ]
  },
  {
   "cell_type": "code",
   "execution_count": 26,
   "id": "4500b2ff-5f7a-42a3-8c86-193a360ed716",
   "metadata": {},
   "outputs": [
    {
     "name": "stdout",
     "output_type": "stream",
     "text": [
      "+----------+---------+\n",
      "|first_name|last_name|\n",
      "+----------+---------+\n",
      "|     Karen|  Jackson|\n",
      "|      Kent|Arsenault|\n",
      "|  Nicholas| Barfield|\n",
      "|  Rosemary|  Schmidt|\n",
      "|     Tanya|  Gilbert|\n",
      "|  Terrance|    Roush|\n",
      "|   Vanessa|     Sims|\n",
      "|  Victoria|   Gibson|\n",
      "+----------+---------+\n",
      "\n"
     ]
    }
   ],
   "source": [
    "query = \"\"\"\n",
    "SELECT first_name,\n",
    "       last_name\n",
    "FROM customer c\n",
    "WHERE EXISTS\n",
    "    (SELECT 1\n",
    "     FROM payment p\n",
    "     WHERE p.customer_id = c.customer_id\n",
    "       AND amount > 11 )\n",
    "ORDER BY first_name,\n",
    "         last_name;\n",
    "\n",
    "\"\"\"\n",
    "show_query(query)"
   ]
  },
  {
   "cell_type": "markdown",
   "id": "1412189d-adff-4c00-92a3-73159a56cdfc",
   "metadata": {},
   "source": [
    "# NOT EXISTS"
   ]
  },
  {
   "cell_type": "code",
   "execution_count": 27,
   "id": "5af321d0-aea5-4efd-ab4f-593de06d5116",
   "metadata": {},
   "outputs": [
    {
     "name": "stdout",
     "output_type": "stream",
     "text": [
      "+----------+-----------+\n",
      "|first_name|  last_name|\n",
      "+----------+-----------+\n",
      "|     Aaron|      Selby|\n",
      "|      Adam|      Gooch|\n",
      "|    Adrian|      Clary|\n",
      "|     Agnes|     Bishop|\n",
      "|      Alan|       Kahn|\n",
      "|    Albert|     Crouse|\n",
      "|   Alberto|    Henning|\n",
      "|      Alex|    Gresham|\n",
      "| Alexander|    Fennell|\n",
      "|    Alfred|   Casillas|\n",
      "|   Alfredo|    Mcadams|\n",
      "|     Alice|    Stewart|\n",
      "|    Alicia|      Mills|\n",
      "|     Allan|    Cornish|\n",
      "|     Allen|Butterfield|\n",
      "|   Allison|    Stanley|\n",
      "|      Alma|     Austin|\n",
      "|     Alvin|    Deloach|\n",
      "|    Amanda|     Carter|\n",
      "|     Amber|      Dixon|\n",
      "+----------+-----------+\n",
      "only showing top 20 rows\n",
      "\n"
     ]
    }
   ],
   "source": [
    "query = \"\"\"\n",
    "SELECT first_name,\n",
    "       last_name\n",
    "FROM customer c\n",
    "WHERE NOT EXISTS\n",
    "    (SELECT 1\n",
    "     FROM payment p\n",
    "     WHERE p.customer_id = c.customer_id\n",
    "       AND amount > 11 )\n",
    "ORDER BY first_name,\n",
    "         last_name;\n",
    "\"\"\"\n",
    "show_query(query)"
   ]
  },
  {
   "cell_type": "markdown",
   "id": "c1a34687-26a7-4911-97e0-deb0c98d0858",
   "metadata": {},
   "source": [
    "# Double checking the errors with pure PostgresSQL"
   ]
  },
  {
   "cell_type": "markdown",
   "id": "64057b17-c7b0-41eb-a7fb-95f6ceebbf06",
   "metadata": {},
   "source": [
    "## Installing psycopg2-binary"
   ]
  },
  {
   "cell_type": "code",
   "execution_count": 35,
   "id": "a9cba791-7f4c-4bb4-970a-d12d404951ef",
   "metadata": {},
   "outputs": [
    {
     "name": "stdout",
     "output_type": "stream",
     "text": [
      "Collecting psycopg2-binary\n",
      "  Obtaining dependency information for psycopg2-binary from https://files.pythonhosted.org/packages/ce/85/62825cabc6aad53104b7b6d12eb2ad74737d268630032d07b74d4444cb72/psycopg2_binary-2.9.9-cp311-cp311-manylinux_2_17_x86_64.manylinux2014_x86_64.whl.metadata\n",
      "  Downloading psycopg2_binary-2.9.9-cp311-cp311-manylinux_2_17_x86_64.manylinux2014_x86_64.whl.metadata (4.4 kB)\n",
      "Downloading psycopg2_binary-2.9.9-cp311-cp311-manylinux_2_17_x86_64.manylinux2014_x86_64.whl (3.0 MB)\n",
      "\u001b[2K   \u001b[90m━━━━━━━━━━━━━━━━━━━━━━━━━━━━━━━━━━━━━━━━\u001b[0m \u001b[32m3.0/3.0 MB\u001b[0m \u001b[31m8.9 MB/s\u001b[0m eta \u001b[36m0:00:00\u001b[0m00:01\u001b[0m00:01\u001b[0m\n",
      "\u001b[?25hInstalling collected packages: psycopg2-binary\n",
      "Successfully installed psycopg2-binary-2.9.9\n"
     ]
    }
   ],
   "source": [
    "#!pip install psycopg2-binary"
   ]
  },
  {
   "cell_type": "code",
   "execution_count": 36,
   "id": "1e50044a-2cf4-453e-bbfc-71772e2d290f",
   "metadata": {},
   "outputs": [],
   "source": [
    "from sqlalchemy import create_engine\n",
    "from sqlalchemy.engine import URL\n",
    "from sqlalchemy.orm import Session"
   ]
  },
  {
   "cell_type": "code",
   "execution_count": 47,
   "id": "55cc20cc-4ad7-4a54-96ad-470cd5b5e774",
   "metadata": {},
   "outputs": [],
   "source": [
    "def show_postgres_query(query,con):\n",
    "    return pd.read_sql_query(query,con = con)"
   ]
  },
  {
   "cell_type": "code",
   "execution_count": 38,
   "id": "b414184c-ab9a-41c3-892a-60261c7ea516",
   "metadata": {},
   "outputs": [],
   "source": [
    "url = URL.create(\n",
    "                drivername=\"postgresql+psycopg2\",\n",
    "                username=\"postgres\",\n",
    "                password=\"1234\",\n",
    "                host=\"localhost\",\n",
    "                port=\"5432\",\n",
    "                database=\"dvdrental\",\n",
    "            )"
   ]
  },
  {
   "cell_type": "code",
   "execution_count": 40,
   "id": "e4ef7441-8425-4224-9ef0-24e50b45bb24",
   "metadata": {},
   "outputs": [],
   "source": [
    "db_engine = create_engine(url=url)"
   ]
  },
  {
   "cell_type": "markdown",
   "id": "f02bffe2-aeff-413a-99df-0ac2f75f4bd5",
   "metadata": {},
   "source": [
    "## ANY examples"
   ]
  },
  {
   "cell_type": "code",
   "execution_count": 106,
   "id": "bf23fa8d-028a-45ca-a70c-d8bace7c012e",
   "metadata": {},
   "outputs": [
    {
     "data": {
      "text/html": [
       "<div>\n",
       "<style scoped>\n",
       "    .dataframe tbody tr th:only-of-type {\n",
       "        vertical-align: middle;\n",
       "    }\n",
       "\n",
       "    .dataframe tbody tr th {\n",
       "        vertical-align: top;\n",
       "    }\n",
       "\n",
       "    .dataframe thead th {\n",
       "        text-align: right;\n",
       "    }\n",
       "</style>\n",
       "<table border=\"1\" class=\"dataframe\">\n",
       "  <thead>\n",
       "    <tr style=\"text-align: right;\">\n",
       "      <th></th>\n",
       "      <th>title</th>\n",
       "    </tr>\n",
       "  </thead>\n",
       "  <tbody>\n",
       "    <tr>\n",
       "      <th>0</th>\n",
       "      <td>Alley Evolution</td>\n",
       "    </tr>\n",
       "    <tr>\n",
       "      <th>1</th>\n",
       "      <td>Analyze Hoosiers</td>\n",
       "    </tr>\n",
       "    <tr>\n",
       "      <th>2</th>\n",
       "      <td>Anonymous Human</td>\n",
       "    </tr>\n",
       "    <tr>\n",
       "      <th>3</th>\n",
       "      <td>Baked Cleopatra</td>\n",
       "    </tr>\n",
       "    <tr>\n",
       "      <th>4</th>\n",
       "      <td>Casualties Encino</td>\n",
       "    </tr>\n",
       "  </tbody>\n",
       "</table>\n",
       "</div>"
      ],
      "text/plain": [
       "               title\n",
       "0    Alley Evolution\n",
       "1   Analyze Hoosiers\n",
       "2    Anonymous Human\n",
       "3    Baked Cleopatra\n",
       "4  Casualties Encino"
      ]
     },
     "execution_count": 106,
     "metadata": {},
     "output_type": "execute_result"
    }
   ],
   "source": [
    "query = \"\"\"SELECT title\n",
    "FROM film\n",
    "WHERE length >= ANY(\n",
    "    SELECT MAX( length )\n",
    "    FROM film\n",
    "    INNER JOIN film_category USING(film_id)\n",
    "    GROUP BY  category_id );\"\"\"\n",
    "show_postgres_query(query,con = db_engine).head()"
   ]
  },
  {
   "cell_type": "code",
   "execution_count": 104,
   "id": "36be8374-10b7-4315-a00c-434c3a247324",
   "metadata": {},
   "outputs": [
    {
     "data": {
      "text/html": [
       "<div>\n",
       "<style scoped>\n",
       "    .dataframe tbody tr th:only-of-type {\n",
       "        vertical-align: middle;\n",
       "    }\n",
       "\n",
       "    .dataframe tbody tr th {\n",
       "        vertical-align: top;\n",
       "    }\n",
       "\n",
       "    .dataframe thead th {\n",
       "        text-align: right;\n",
       "    }\n",
       "</style>\n",
       "<table border=\"1\" class=\"dataframe\">\n",
       "  <thead>\n",
       "    <tr style=\"text-align: right;\">\n",
       "      <th></th>\n",
       "      <th>title</th>\n",
       "      <th>category_id</th>\n",
       "    </tr>\n",
       "  </thead>\n",
       "  <tbody>\n",
       "    <tr>\n",
       "      <th>0</th>\n",
       "      <td>Amadeus Holy</td>\n",
       "      <td>1</td>\n",
       "    </tr>\n",
       "    <tr>\n",
       "      <th>1</th>\n",
       "      <td>American Circus</td>\n",
       "      <td>1</td>\n",
       "    </tr>\n",
       "    <tr>\n",
       "      <th>2</th>\n",
       "      <td>Antitrust Tomatoes</td>\n",
       "      <td>1</td>\n",
       "    </tr>\n",
       "    <tr>\n",
       "      <th>3</th>\n",
       "      <td>Apollo Teen</td>\n",
       "      <td>7</td>\n",
       "    </tr>\n",
       "    <tr>\n",
       "      <th>4</th>\n",
       "      <td>Ark Ridgemont</td>\n",
       "      <td>1</td>\n",
       "    </tr>\n",
       "  </tbody>\n",
       "</table>\n",
       "</div>"
      ],
      "text/plain": [
       "                title  category_id\n",
       "0        Amadeus Holy            1\n",
       "1     American Circus            1\n",
       "2  Antitrust Tomatoes            1\n",
       "3         Apollo Teen            7\n",
       "4       Ark Ridgemont            1"
      ]
     },
     "execution_count": 104,
     "metadata": {},
     "output_type": "execute_result"
    }
   ],
   "source": [
    "query = \"\"\"\n",
    "SELECT\n",
    "    title,\n",
    "    category_id\n",
    "FROM\n",
    "    film\n",
    "INNER JOIN film_category\n",
    "        USING(film_id)\n",
    "WHERE\n",
    "    category_id = ANY(\n",
    "       (\n",
    "        SELECT\n",
    "            category_id\n",
    "        FROM\n",
    "            category\n",
    "        WHERE\n",
    "            NAME = 'Action'\n",
    "            OR NAME = 'Drama')\n",
    "    );\n",
    "\n",
    "\"\"\"\n",
    "show_postgres_query(query,con = db_engine).head()"
   ]
  },
  {
   "cell_type": "markdown",
   "id": "d1c88f66-bf4b-480f-b7f4-534e8aba6a3a",
   "metadata": {},
   "source": [
    "## ALL example"
   ]
  },
  {
   "cell_type": "code",
   "execution_count": 52,
   "id": "16a0c100-8412-41c4-abbc-0e2683a1b8eb",
   "metadata": {},
   "outputs": [
    {
     "data": {
      "text/html": [
       "<div>\n",
       "<style scoped>\n",
       "    .dataframe tbody tr th:only-of-type {\n",
       "        vertical-align: middle;\n",
       "    }\n",
       "\n",
       "    .dataframe tbody tr th {\n",
       "        vertical-align: top;\n",
       "    }\n",
       "\n",
       "    .dataframe thead th {\n",
       "        text-align: right;\n",
       "    }\n",
       "</style>\n",
       "<table border=\"1\" class=\"dataframe\">\n",
       "  <thead>\n",
       "    <tr style=\"text-align: right;\">\n",
       "      <th></th>\n",
       "      <th>film_id</th>\n",
       "      <th>title</th>\n",
       "      <th>length</th>\n",
       "    </tr>\n",
       "  </thead>\n",
       "  <tbody>\n",
       "    <tr>\n",
       "      <th>0</th>\n",
       "      <td>207</td>\n",
       "      <td>Dangerous Uptown</td>\n",
       "      <td>121</td>\n",
       "    </tr>\n",
       "    <tr>\n",
       "      <th>1</th>\n",
       "      <td>86</td>\n",
       "      <td>Boogie Amelie</td>\n",
       "      <td>121</td>\n",
       "    </tr>\n",
       "    <tr>\n",
       "      <th>2</th>\n",
       "      <td>403</td>\n",
       "      <td>Harry Idaho</td>\n",
       "      <td>121</td>\n",
       "    </tr>\n",
       "    <tr>\n",
       "      <th>3</th>\n",
       "      <td>93</td>\n",
       "      <td>Brannigan Sunrise</td>\n",
       "      <td>121</td>\n",
       "    </tr>\n",
       "    <tr>\n",
       "      <th>4</th>\n",
       "      <td>704</td>\n",
       "      <td>Pure Runner</td>\n",
       "      <td>121</td>\n",
       "    </tr>\n",
       "  </tbody>\n",
       "</table>\n",
       "</div>"
      ],
      "text/plain": [
       "   film_id              title  length\n",
       "0      207   Dangerous Uptown     121\n",
       "1       86      Boogie Amelie     121\n",
       "2      403        Harry Idaho     121\n",
       "3       93  Brannigan Sunrise     121\n",
       "4      704        Pure Runner     121"
      ]
     },
     "execution_count": 52,
     "metadata": {},
     "output_type": "execute_result"
    }
   ],
   "source": [
    "query = \"\"\"\n",
    "SELECT\n",
    "    film_id,\n",
    "    title,\n",
    "    length\n",
    "FROM\n",
    "    film\n",
    "WHERE\n",
    "    length > ALL(SELECT ROUND(AVG (length),2) FROM film GROUP BY rating)\n",
    "ORDER BY\n",
    "    length;\n",
    "\n",
    "\"\"\"\n",
    "show_postgres_query(query,con = db_engine).head()"
   ]
  },
  {
   "cell_type": "markdown",
   "id": "bff3201c-1854-4422-a63c-ebf8e3285a80",
   "metadata": {},
   "source": [
    "# Exercise: redo all the above using Pyspark API and investigate the ANY and ALL Spark SQL cases"
   ]
  },
  {
   "cell_type": "markdown",
   "id": "78475813-abdc-4c7e-8108-43c9e6954442",
   "metadata": {},
   "source": [
    "## Tip 1: https://www.w3schools.com/sql/sql_any_all.asp"
   ]
  },
  {
   "cell_type": "markdown",
   "id": "3c4b70c9-74c2-4f0b-9f64-5e3989a02452",
   "metadata": {},
   "source": [
    "## Tip 2: https://spark.apache.org/docs/latest/api/sql/index.html#any"
   ]
  },
  {
   "cell_type": "code",
   "execution_count": null,
   "id": "e47505d8-a2e9-40fc-887a-4d94ddd5e1c0",
   "metadata": {},
   "outputs": [],
   "source": []
  }
 ],
 "metadata": {
  "kernelspec": {
   "display_name": "Python 3 (ipykernel)",
   "language": "python",
   "name": "python3"
  },
  "language_info": {
   "codemirror_mode": {
    "name": "ipython",
    "version": 3
   },
   "file_extension": ".py",
   "mimetype": "text/x-python",
   "name": "python",
   "nbconvert_exporter": "python",
   "pygments_lexer": "ipython3",
   "version": "3.11.6"
  }
 },
 "nbformat": 4,
 "nbformat_minor": 5
}
