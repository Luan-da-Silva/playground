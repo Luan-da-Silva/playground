{
 "cells": [
  {
   "cell_type": "markdown",
   "metadata": {},
   "source": [
    "## Notebooks\n",
    "1. [Querying data](01_00_querying_data.ipynb)\n",
    "2. [Querying data - answers](01_01_answers.ipynb)\n",
    "3. [Filtering Data](02_00_filtering_data.ipynb)\n",
    "4. [Filtering Data - answers](02_01_answers_data.ipynb)\n",
    "5. [Joining Data](03_00_joining_data.ipynb)\n",
    "6. [Joining Data - answers](03_01_answers.ipynb)\n",
    "7. [Grouping Data](04_00_grouping_data.ipynb)\n",
    "8. [Grouping Data - answers](04_01_answers.ipynb)\n",
    "9. [Set operations](05_00_set_operations.ipynb)\n",
    "10. [Set operations -answers](05_01_answer.ipynb)\n",
    "11. [Subqueries](06_00_subqueries.ipynb)\n",
    "12. [Common Table Expressions (CTE)](07_00_CTE.ipynb)\n",
    "13. [Conditional expressions and operators](08_00_conditional_expressions_and_operators.ipynb)\n",
    "14. [Conditional expressions and operators - answers](08_01_answers.ipynb)\n"
   ]
  }
 ],
 "metadata": {
  "language_info": {
   "name": "python"
  }
 },
 "nbformat": 4,
 "nbformat_minor": 2
}
