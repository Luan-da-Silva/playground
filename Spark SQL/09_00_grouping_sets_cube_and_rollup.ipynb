{
 "cells": [
  {
   "cell_type": "code",
   "execution_count": 1,
   "id": "03be9328-951c-451a-bded-068255668cb3",
   "metadata": {},
   "outputs": [],
   "source": [
    "from db_tools.setup import setup"
   ]
  },
  {
   "cell_type": "code",
   "execution_count": 5,
   "id": "a214715c-1465-4548-b64f-c7695100d119",
   "metadata": {},
   "outputs": [],
   "source": [
    "from pyspark.sql import functions as F\n",
    "from pyspark.sql.types import StructType,StructField, StringType, IntegerType"
   ]
  },
  {
   "cell_type": "code",
   "execution_count": 3,
   "id": "8c8c724b-4f3d-49c1-867f-6901fab1a45c",
   "metadata": {},
   "outputs": [
    {
     "name": "stderr",
     "output_type": "stream",
     "text": [
      "23/12/20 18:38:01 WARN Utils: Your hostname, luan-Dell-G15-5520 resolves to a loopback address: 127.0.1.1; using 192.168.1.12 instead (on interface wlp0s20f3)\n",
      "23/12/20 18:38:01 WARN Utils: Set SPARK_LOCAL_IP if you need to bind to another address\n",
      "23/12/20 18:38:01 WARN NativeCodeLoader: Unable to load native-hadoop library for your platform... using builtin-java classes where applicable\n",
      "Setting default log level to \"WARN\".\n",
      "To adjust logging level use sc.setLogLevel(newLevel). For SparkR, use setLogLevel(newLevel).\n"
     ]
    },
    {
     "name": "stdout",
     "output_type": "stream",
     "text": [
      "SparkSession available as \"spark\"\n"
     ]
    }
   ],
   "source": [
    "spark = setup()"
   ]
  },
  {
   "cell_type": "code",
   "execution_count": 4,
   "id": "8fb477a7-2ca1-4e6e-aece-ff8610eb0ee9",
   "metadata": {},
   "outputs": [],
   "source": [
    "def show_query(query,SparkSession = spark,n = 20):\n",
    "    return SparkSession.sql(query).show()"
   ]
  },
  {
   "cell_type": "markdown",
   "id": "69bbdb20-411f-445b-92cd-b1ad24586955",
   "metadata": {},
   "source": [
    "# GROUPING SETS"
   ]
  },
  {
   "cell_type": "markdown",
   "id": "432200b0-ace6-4482-8169-12f2e6e25954",
   "metadata": {},
   "source": [
    "## Creating the example table"
   ]
  },
  {
   "cell_type": "code",
   "execution_count": 10,
   "id": "c2e8c78c-1a02-4a1c-9063-bde0baeac876",
   "metadata": {},
   "outputs": [],
   "source": [
    "brand_schema = StructType([ \\\n",
    "    StructField(\"brand\",StringType(),True), \\\n",
    "    StructField(\"segment\",StringType(),True), \\\n",
    "    StructField(\"quantity\",StringType(),True)\n",
    "  ])\n",
    "brands =   [('ABC','Premium',100),\n",
    "            ('ABC','Basic',200),\n",
    "            ('XYZ','Premium',100),\n",
    "            ('XYZ','Basic',300)]\n",
    "columns = ['brand','segment','quantity']\n",
    "rdd = spark.sparkContext.parallelize(brands)\n",
    "spark.createDataFrame(rdd, schema = brand_schema).createOrReplaceTempView('sales')"
   ]
  },
  {
   "cell_type": "markdown",
   "id": "509b83d5-bbf2-4f21-bf3f-c6c35b35df18",
   "metadata": {},
   "source": [
    "## GROUP BY recap"
   ]
  },
  {
   "cell_type": "code",
   "execution_count": 11,
   "id": "41b2c79e-c25d-4ec4-8970-6eed68132d99",
   "metadata": {},
   "outputs": [
    {
     "name": "stdout",
     "output_type": "stream",
     "text": [
      "+-----+-------+-------------+\n",
      "|brand|segment|sum(quantity)|\n",
      "+-----+-------+-------------+\n",
      "|  ABC|Premium|        100.0|\n",
      "|  ABC|  Basic|        200.0|\n",
      "|  XYZ|Premium|        100.0|\n",
      "|  XYZ|  Basic|        300.0|\n",
      "+-----+-------+-------------+\n",
      "\n"
     ]
    }
   ],
   "source": [
    "query = '''SELECT\n",
    "    brand,\n",
    "    segment,\n",
    "    SUM (quantity)\n",
    "FROM\n",
    "    sales\n",
    "GROUP BY\n",
    "    brand,\n",
    "    segment;'''\n",
    "show_query(query)"
   ]
  },
  {
   "cell_type": "code",
   "execution_count": 12,
   "id": "08545dbd-89e3-4fb7-b9ea-63ffc53c1291",
   "metadata": {},
   "outputs": [
    {
     "name": "stdout",
     "output_type": "stream",
     "text": [
      "+-----+-------------+\n",
      "|brand|sum(quantity)|\n",
      "+-----+-------------+\n",
      "|  ABC|        300.0|\n",
      "|  XYZ|        400.0|\n",
      "+-----+-------------+\n",
      "\n"
     ]
    }
   ],
   "source": [
    "query = '''SELECT\n",
    "    brand,\n",
    "    SUM (quantity)\n",
    "FROM\n",
    "    sales\n",
    "GROUP BY\n",
    "    brand;'''\n",
    "show_query(query)"
   ]
  },
  {
   "cell_type": "markdown",
   "id": "d5a23753-9e01-4902-b9f5-789a161eb16d",
   "metadata": {},
   "source": [
    "## Getting the totals"
   ]
  },
  {
   "cell_type": "code",
   "execution_count": 13,
   "id": "317aa7d5-dcad-45db-8cf4-c310b9dfb3c3",
   "metadata": {},
   "outputs": [
    {
     "name": "stdout",
     "output_type": "stream",
     "text": [
      "+-------------+\n",
      "|sum(quantity)|\n",
      "+-------------+\n",
      "|        700.0|\n",
      "+-------------+\n",
      "\n"
     ]
    }
   ],
   "source": [
    "show_query('SELECT SUM (quantity) FROM sales;')"
   ]
  },
  {
   "cell_type": "markdown",
   "id": "351279a6-289c-431c-9063-20f06ade4a66",
   "metadata": {},
   "source": [
    "## Grouping Sets motivation"
   ]
  },
  {
   "cell_type": "code",
   "execution_count": 14,
   "id": "bd11cab1-edcc-40f6-b01a-f5be46456ef3",
   "metadata": {},
   "outputs": [
    {
     "name": "stdout",
     "output_type": "stream",
     "text": [
      "+-----+-------+-------------+\n",
      "|brand|segment|sum(quantity)|\n",
      "+-----+-------+-------------+\n",
      "|  ABC|Premium|        100.0|\n",
      "|  ABC|  Basic|        200.0|\n",
      "|  XYZ|Premium|        100.0|\n",
      "|  XYZ|  Basic|        300.0|\n",
      "|  ABC|   null|        300.0|\n",
      "|  XYZ|   null|        400.0|\n",
      "| null|Premium|        200.0|\n",
      "| null|  Basic|        500.0|\n",
      "| null|   null|        700.0|\n",
      "+-----+-------+-------------+\n",
      "\n"
     ]
    }
   ],
   "source": [
    "query = \"\"\"SELECT\n",
    "    brand,\n",
    "    segment,\n",
    "    SUM (quantity)\n",
    "FROM\n",
    "    sales\n",
    "GROUP BY\n",
    "    brand,\n",
    "    segment\n",
    "\n",
    "UNION ALL\n",
    "\n",
    "SELECT\n",
    "    brand,\n",
    "    NULL,\n",
    "    SUM (quantity)\n",
    "FROM\n",
    "    sales\n",
    "GROUP BY\n",
    "    brand\n",
    "\n",
    "UNION ALL\n",
    "\n",
    "SELECT\n",
    "    NULL,\n",
    "    segment,\n",
    "    SUM (quantity)\n",
    "FROM\n",
    "    sales\n",
    "GROUP BY\n",
    "    segment\n",
    "\n",
    "UNION ALL\n",
    "\n",
    "SELECT\n",
    "    NULL,\n",
    "    NULL,\n",
    "    SUM (quantity)\n",
    "FROM\n",
    "    sales;\"\"\"\n",
    "show_query(query)"
   ]
  },
  {
   "cell_type": "markdown",
   "id": "21f3677d-c89b-4bc9-b8fd-f263f021a4d6",
   "metadata": {},
   "source": [
    "## Grouping Sets syntax"
   ]
  },
  {
   "cell_type": "markdown",
   "id": "cb06e6a1-ed8d-4880-8408-a229dcf6178f",
   "metadata": {},
   "source": [
    "```\n",
    "SELECT\n",
    "    c1,\n",
    "    c2,\n",
    "    aggregate_function(c3)\n",
    "FROM\n",
    "    table_name\n",
    "GROUP BY\n",
    "    GROUPING SETS (\n",
    "        (c1, c2),\n",
    "        (c1),\n",
    "        (c2),\n",
    "        ()\n",
    ");\n",
    "```"
   ]
  },
  {
   "cell_type": "markdown",
   "id": "ffc93d99-7666-4c62-87ff-32e2c9fe0203",
   "metadata": {},
   "source": [
    "## Grouping Sets example"
   ]
  },
  {
   "cell_type": "code",
   "execution_count": 18,
   "id": "815acd46-fcb4-4a9c-a101-c73a54d051a3",
   "metadata": {},
   "outputs": [
    {
     "name": "stdout",
     "output_type": "stream",
     "text": [
      "+-----+-------+-------------+\n",
      "|brand|segment|sum(quantity)|\n",
      "+-----+-------+-------------+\n",
      "| null|Premium|        200.0|\n",
      "|  ABC|Premium|        100.0|\n",
      "| null|   null|        700.0|\n",
      "|  ABC|   null|        300.0|\n",
      "| null|  Basic|        500.0|\n",
      "|  ABC|  Basic|        200.0|\n",
      "|  XYZ|Premium|        100.0|\n",
      "|  XYZ|   null|        400.0|\n",
      "|  XYZ|  Basic|        300.0|\n",
      "+-----+-------+-------------+\n",
      "\n"
     ]
    }
   ],
   "source": [
    "query = \"\"\"\n",
    "SELECT\n",
    "    brand,\n",
    "    segment,\n",
    "    SUM (quantity)\n",
    "FROM\n",
    "    sales\n",
    "GROUP BY\n",
    "    GROUPING SETS (\n",
    "        (brand, segment),\n",
    "        (brand),\n",
    "        (segment),\n",
    "        ()\n",
    "    );\n",
    "\"\"\"\n",
    "show_query(query)"
   ]
  },
  {
   "cell_type": "markdown",
   "id": "d7fa2f6a-910b-43c5-9aec-3a3921c17569",
   "metadata": {},
   "source": [
    "## Grouping function"
   ]
  },
  {
   "cell_type": "code",
   "execution_count": 19,
   "id": "0bb75f60-7c0a-449f-8263-0d6d4bb3a63c",
   "metadata": {},
   "outputs": [
    {
     "name": "stdout",
     "output_type": "stream",
     "text": [
      "+--------------+----------------+-----+-------+-------------+\n",
      "|grouping_brand|grouping_segment|brand|segment|sum(quantity)|\n",
      "+--------------+----------------+-----+-------+-------------+\n",
      "|             1|               1| null|   null|        700.0|\n",
      "|             1|               0| null|  Basic|        500.0|\n",
      "|             1|               0| null|Premium|        200.0|\n",
      "|             0|               1|  ABC|   null|        300.0|\n",
      "|             0|               1|  XYZ|   null|        400.0|\n",
      "+--------------+----------------+-----+-------+-------------+\n",
      "\n"
     ]
    }
   ],
   "source": [
    "query = \"\"\"\n",
    "SELECT\n",
    "\tGROUPING(brand) grouping_brand,\n",
    "\tGROUPING(segment) grouping_segment,\n",
    "\tbrand,\n",
    "\tsegment,\n",
    "\tSUM (quantity)\n",
    "FROM\n",
    "\tsales\n",
    "GROUP BY\n",
    "\tGROUPING SETS (\n",
    "\t\t(brand),\n",
    "\t\t(segment),\n",
    "\t\t()\n",
    "\t)\n",
    "ORDER BY\n",
    "\tbrand,\n",
    "\tsegment;\n",
    "\n",
    "\"\"\"\n",
    "\n",
    "show_query(query)"
   ]
  },
  {
   "cell_type": "markdown",
   "id": "60b5313b-614d-4afe-aa9f-20dfdad87189",
   "metadata": {},
   "source": [
    "## Finding subtotals: HAVING GROUPING"
   ]
  },
  {
   "cell_type": "code",
   "execution_count": 20,
   "id": "1b1bc28f-bee4-4821-8014-f50c8df4e4e8",
   "metadata": {},
   "outputs": [
    {
     "name": "stdout",
     "output_type": "stream",
     "text": [
      "+--------------+----------------+-----+-------+-------------+\n",
      "|grouping_brand|grouping_segment|brand|segment|sum(quantity)|\n",
      "+--------------+----------------+-----+-------+-------------+\n",
      "|             0|               1|  ABC|   null|        300.0|\n",
      "|             0|               1|  XYZ|   null|        400.0|\n",
      "+--------------+----------------+-----+-------+-------------+\n",
      "\n"
     ]
    }
   ],
   "source": [
    "query = \"\"\"\n",
    "SELECT\n",
    "\tGROUPING(brand) grouping_brand,\n",
    "\tGROUPING(segment) grouping_segment,\n",
    "\tbrand,\n",
    "\tsegment,\n",
    "\tSUM (quantity)\n",
    "FROM\n",
    "\tsales\n",
    "GROUP BY\n",
    "\tGROUPING SETS (\n",
    "\t\t(brand),\n",
    "\t\t(segment),\n",
    "\t\t()\n",
    "\t)\n",
    "HAVING GROUPING(brand) = 0\t\n",
    "ORDER BY\n",
    "\tbrand,\n",
    "\tsegment;\n",
    "\"\"\"\n",
    "\n",
    "show_query(query)"
   ]
  },
  {
   "cell_type": "markdown",
   "id": "41934125-c1ba-4ffc-907e-174eb7952709",
   "metadata": {},
   "source": [
    "# ROLLUP"
   ]
  },
  {
   "cell_type": "markdown",
   "id": "a8d3cbb4-7af6-41ac-8544-ae3b70ed3de2",
   "metadata": {},
   "source": [
    "## Syntax A"
   ]
  },
  {
   "cell_type": "markdown",
   "id": "c38374c8-3612-40aa-ac4f-05198111893d",
   "metadata": {},
   "source": [
    "```\n",
    "SELECT\n",
    "    c1,\n",
    "    c2,\n",
    "    c3,\n",
    "    aggregate(c4)\n",
    "FROM\n",
    "    table_name\n",
    "GROUP BY\n",
    "    ROLLUP (c1, c2, c3);\n",
    "```"
   ]
  },
  {
   "cell_type": "markdown",
   "id": "9eed4bab-3083-4e1f-b863-10084d7db31c",
   "metadata": {},
   "source": [
    "## Syntax B"
   ]
  },
  {
   "cell_type": "markdown",
   "id": "42cbd3a5-8e82-424a-9289-49a33e45520d",
   "metadata": {},
   "source": [
    "```\n",
    "SELECT\n",
    "    c1,\n",
    "    c2,\n",
    "    c3,\n",
    "    aggregate(c4)\n",
    "FROM\n",
    "    table_name\n",
    "GROUP BY\n",
    "    c1, \n",
    "    ROLLUP (c2, c3);\n",
    "```"
   ]
  },
  {
   "cell_type": "markdown",
   "id": "f1e64410-a941-4bb1-9c63-4352f3085cd8",
   "metadata": {},
   "source": [
    "## Examples"
   ]
  },
  {
   "cell_type": "code",
   "execution_count": 23,
   "id": "c451f86e-c788-4358-ad61-4e27635176f9",
   "metadata": {},
   "outputs": [
    {
     "name": "stdout",
     "output_type": "stream",
     "text": [
      "+-----+-------+-------------+\n",
      "|brand|segment|sum(quantity)|\n",
      "+-----+-------+-------------+\n",
      "| null|   null|        700.0|\n",
      "|  ABC|   null|        300.0|\n",
      "|  ABC|  Basic|        200.0|\n",
      "|  ABC|Premium|        100.0|\n",
      "|  XYZ|   null|        400.0|\n",
      "|  XYZ|  Basic|        300.0|\n",
      "|  XYZ|Premium|        100.0|\n",
      "+-----+-------+-------------+\n",
      "\n"
     ]
    }
   ],
   "source": [
    "query = '''\n",
    "SELECT\n",
    "    brand,\n",
    "    segment,\n",
    "    SUM (quantity)\n",
    "FROM\n",
    "    sales\n",
    "GROUP BY\n",
    "    ROLLUP (brand, segment)\n",
    "ORDER BY\n",
    "    brand,\n",
    "    segment;\n",
    "'''\n",
    "show_query(query)"
   ]
  },
  {
   "cell_type": "code",
   "execution_count": 24,
   "id": "326dd528-3e81-4472-8df0-588606298f9b",
   "metadata": {},
   "outputs": [
    {
     "name": "stdout",
     "output_type": "stream",
     "text": [
      "+-------+-----+-------------+\n",
      "|segment|brand|sum(quantity)|\n",
      "+-------+-----+-------------+\n",
      "|   null| null|        700.0|\n",
      "|  Basic| null|        500.0|\n",
      "|  Basic|  ABC|        200.0|\n",
      "|  Basic|  XYZ|        300.0|\n",
      "|Premium| null|        200.0|\n",
      "|Premium|  ABC|        100.0|\n",
      "|Premium|  XYZ|        100.0|\n",
      "+-------+-----+-------------+\n",
      "\n"
     ]
    }
   ],
   "source": [
    "query = '''\n",
    "SELECT\n",
    "    segment,\n",
    "    brand,\n",
    "    SUM (quantity)\n",
    "FROM\n",
    "    sales\n",
    "GROUP BY\n",
    "    ROLLUP (segment, brand)\n",
    "ORDER BY\n",
    "    segment,\n",
    "    brand;\n",
    "\n",
    "'''\n",
    "show_query(query)"
   ]
  },
  {
   "cell_type": "markdown",
   "id": "3f9f29d2-93e2-4726-9ced-3e230addd676",
   "metadata": {},
   "source": [
    "## Partial Rollup"
   ]
  },
  {
   "cell_type": "code",
   "execution_count": 25,
   "id": "71136bef-5849-40b7-8b5c-e1a94b334412",
   "metadata": {},
   "outputs": [
    {
     "name": "stdout",
     "output_type": "stream",
     "text": [
      "+-------+-----+-------------+\n",
      "|segment|brand|sum(quantity)|\n",
      "+-------+-----+-------------+\n",
      "|  Basic| null|        500.0|\n",
      "|  Basic|  ABC|        200.0|\n",
      "|  Basic|  XYZ|        300.0|\n",
      "|Premium| null|        200.0|\n",
      "|Premium|  ABC|        100.0|\n",
      "|Premium|  XYZ|        100.0|\n",
      "+-------+-----+-------------+\n",
      "\n"
     ]
    }
   ],
   "source": [
    "query = '''\n",
    "SELECT\n",
    "    segment,\n",
    "    brand,\n",
    "    SUM (quantity)\n",
    "FROM\n",
    "    sales\n",
    "GROUP BY\n",
    "    segment,\n",
    "    ROLLUP (brand)\n",
    "ORDER BY\n",
    "    segment,\n",
    "    brand;\n",
    "\n",
    "'''\n",
    "show_query(query)"
   ]
  },
  {
   "cell_type": "markdown",
   "id": "0740d8a3-5976-435e-af66-bb99bb066534",
   "metadata": {},
   "source": [
    "# Example with dvdrental database"
   ]
  },
  {
   "cell_type": "code",
   "execution_count": 30,
   "id": "eef91b2d-edd6-4297-bbe4-815d81d69ff6",
   "metadata": {},
   "outputs": [
    {
     "name": "stdout",
     "output_type": "stream",
     "text": [
      "+----+----+----+----------------+\n",
      "|   y|   M|   d|count(rental_id)|\n",
      "+----+----+----+----------------+\n",
      "|2005|   7|  27|             649|\n",
      "|2005|   5|  26|             174|\n",
      "|2005|   8|  22|             626|\n",
      "|2005|   7|   9|             513|\n",
      "|null|null|null|           16044|\n",
      "|2005|   5|  24|               8|\n",
      "|2005|   7|   6|             504|\n",
      "|2005|   5|  28|             196|\n",
      "|2005|   8|  20|             624|\n",
      "|2005|   8|  17|             593|\n",
      "|2006|   2|  14|             182|\n",
      "|2005|   7|  26|              33|\n",
      "|2005|   6|  14|              16|\n",
      "|2005|   8|  23|             598|\n",
      "|2005|   5|  25|             137|\n",
      "|2005|   7|  10|             480|\n",
      "|2005|   8|null|            5686|\n",
      "|2005|   5|  29|             154|\n",
      "|2005|   6|null|            2311|\n",
      "|2005|   8|   1|             671|\n",
      "+----+----+----+----------------+\n",
      "only showing top 20 rows\n",
      "\n"
     ]
    }
   ],
   "source": [
    "query = '''\n",
    "SELECT\n",
    "    EXTRACT (YEAR FROM rental_date) AS y,\n",
    "    EXTRACT (MONTH FROM rental_date) AS M,\n",
    "    EXTRACT (DAY FROM rental_date) AS d,\n",
    "    COUNT (rental_id)\n",
    "FROM\n",
    "    rental\n",
    "GROUP BY\n",
    "    ROLLUP (\n",
    "        EXTRACT (YEAR FROM rental_date),\n",
    "        EXTRACT (MONTH FROM rental_date),\n",
    "        EXTRACT (DAY FROM rental_date)\n",
    "    );\n",
    "\n",
    "'''\n",
    "show_query(query)"
   ]
  },
  {
   "cell_type": "markdown",
   "id": "a638d183-e988-4f60-ae59-5ae39a001252",
   "metadata": {},
   "source": [
    "# CUBE"
   ]
  },
  {
   "cell_type": "markdown",
   "id": "1b7ab7f1-13be-42ce-9790-1195a48d432a",
   "metadata": {},
   "source": [
    "## Syntax"
   ]
  },
  {
   "cell_type": "markdown",
   "id": "5263d0c0-90e1-4588-8050-f7585476fd12",
   "metadata": {},
   "source": [
    "```\n",
    "SELECT\n",
    "    c1,\n",
    "    c2,\n",
    "    c3,\n",
    "    aggregate (c4)\n",
    "FROM\n",
    "    table_name\n",
    "GROUP BY\n",
    "    CUBE (c1, c2, c3);\n",
    "```"
   ]
  },
  {
   "cell_type": "markdown",
   "id": "870139ae-c422-4483-92e4-e795613cbc00",
   "metadata": {},
   "source": [
    "## Equivalence"
   ]
  },
  {
   "cell_type": "markdown",
   "id": "761361b3-0c10-458b-831e-003a978db088",
   "metadata": {},
   "source": [
    "```\n",
    "CUBE(c1,c2,c3) \n",
    "\n",
    "GROUPING SETS (\n",
    "    (c1,c2,c3), \n",
    "    (c1,c2),\n",
    "    (c1,c3),\n",
    "    (c2,c3),\n",
    "    (c1),\n",
    "    (c2),\n",
    "    (c3), \n",
    "    ()\n",
    " ) \n",
    "\n",
    "```"
   ]
  },
  {
   "cell_type": "markdown",
   "id": "8da8e6be-913c-4372-9cbb-44fb2b3e6096",
   "metadata": {},
   "source": [
    "## Example 1"
   ]
  },
  {
   "cell_type": "code",
   "execution_count": 34,
   "id": "18b1eab0-114f-4fd9-a0b5-1ad608e3fc87",
   "metadata": {},
   "outputs": [
    {
     "name": "stdout",
     "output_type": "stream",
     "text": [
      "+-----+-------+-------------+\n",
      "|brand|segment|sum(quantity)|\n",
      "+-----+-------+-------------+\n",
      "| null|   null|        700.0|\n",
      "| null|  Basic|        500.0|\n",
      "| null|Premium|        200.0|\n",
      "|  ABC|   null|        300.0|\n",
      "|  ABC|  Basic|        200.0|\n",
      "|  ABC|Premium|        100.0|\n",
      "|  XYZ|   null|        400.0|\n",
      "|  XYZ|  Basic|        300.0|\n",
      "|  XYZ|Premium|        100.0|\n",
      "+-----+-------+-------------+\n",
      "\n"
     ]
    }
   ],
   "source": [
    "query = '''\n",
    "SELECT\n",
    "    brand,\n",
    "    segment,\n",
    "    SUM (quantity)\n",
    "FROM\n",
    "    sales\n",
    "GROUP BY\n",
    "    CUBE (brand, segment)\n",
    "ORDER BY\n",
    "    brand,\n",
    "    segment;\n",
    "'''\n",
    "show_query(query)"
   ]
  },
  {
   "cell_type": "markdown",
   "id": "9d84d4c1-6d81-43e0-9493-3ba3bb59fb01",
   "metadata": {},
   "source": [
    "## Example 2"
   ]
  },
  {
   "cell_type": "code",
   "execution_count": 35,
   "id": "c37b15b9-c71b-40b6-9ed1-e1a4ed75ccd8",
   "metadata": {},
   "outputs": [
    {
     "name": "stdout",
     "output_type": "stream",
     "text": [
      "+-----+-------+-------------+\n",
      "|brand|segment|sum(quantity)|\n",
      "+-----+-------+-------------+\n",
      "|  ABC|   null|        300.0|\n",
      "|  ABC|  Basic|        200.0|\n",
      "|  ABC|Premium|        100.0|\n",
      "|  XYZ|   null|        400.0|\n",
      "|  XYZ|  Basic|        300.0|\n",
      "|  XYZ|Premium|        100.0|\n",
      "+-----+-------+-------------+\n",
      "\n"
     ]
    }
   ],
   "source": [
    "query = \"\"\"\n",
    "SELECT\n",
    "    brand,\n",
    "    segment,\n",
    "    SUM (quantity)\n",
    "FROM\n",
    "    sales\n",
    "GROUP BY\n",
    "    brand,\n",
    "    CUBE (segment)\n",
    "ORDER BY\n",
    "    brand,\n",
    "    segment;\n",
    "\"\"\"\n",
    "show_query(query)"
   ]
  },
  {
   "cell_type": "markdown",
   "id": "aa3adee8-3266-4577-a240-05b11db06541",
   "metadata": {},
   "source": [
    "# Exercise: repeat all the above using the pyspark API"
   ]
  },
  {
   "cell_type": "markdown",
   "id": "3459592a",
   "metadata": {},
   "source": []
  }
 ],
 "metadata": {
  "kernelspec": {
   "display_name": "Python 3 (ipykernel)",
   "language": "python",
   "name": "python3"
  },
  "language_info": {
   "codemirror_mode": {
    "name": "ipython",
    "version": 3
   },
   "file_extension": ".py",
   "mimetype": "text/x-python",
   "name": "python",
   "nbconvert_exporter": "python",
   "pygments_lexer": "ipython3",
   "version": "3.11.6"
  }
 },
 "nbformat": 4,
 "nbformat_minor": 5
}
