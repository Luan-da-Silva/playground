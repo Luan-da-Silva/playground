{
 "cells": [
  {
   "cell_type": "code",
   "execution_count": 7,
   "id": "59ed3a17-1177-43d5-9a4e-5c87af6c9c10",
   "metadata": {},
   "outputs": [],
   "source": [
    "from db_tools.setup import setup\n",
    "from pyspark.sql import functions as F\n",
    "from pyspark.sql.window import Window\n",
    "from pyspark.sql.types import StructType,StructField, StringType, IntegerType,FloatType,DecimalType"
   ]
  },
  {
   "cell_type": "code",
   "execution_count": 3,
   "id": "202d8b42-72ab-4778-bdc2-affb2dcdf39b",
   "metadata": {},
   "outputs": [
    {
     "name": "stderr",
     "output_type": "stream",
     "text": [
      "23/12/30 12:42:16 WARN Utils: Your hostname, luan-Dell-G15-5520 resolves to a loopback address: 127.0.1.1; using 192.168.1.12 instead (on interface wlp0s20f3)\n",
      "23/12/30 12:42:16 WARN Utils: Set SPARK_LOCAL_IP if you need to bind to another address\n",
      "23/12/30 12:42:16 WARN NativeCodeLoader: Unable to load native-hadoop library for your platform... using builtin-java classes where applicable\n",
      "Setting default log level to \"WARN\".\n",
      "To adjust logging level use sc.setLogLevel(newLevel). For SparkR, use setLogLevel(newLevel).\n"
     ]
    },
    {
     "name": "stdout",
     "output_type": "stream",
     "text": [
      "SparkSession available as \"spark\"\n"
     ]
    }
   ],
   "source": [
    "spark = setup()"
   ]
  },
  {
   "cell_type": "code",
   "execution_count": 4,
   "id": "08380e27-071a-4de2-863a-7a97f1231dc1",
   "metadata": {},
   "outputs": [],
   "source": [
    "def show_query(query,SparkSession = spark,n = 20):\n",
    "    return SparkSession.sql(query).show()"
   ]
  },
  {
   "cell_type": "code",
   "execution_count": 5,
   "id": "6d906b08-979c-4be3-9c54-4ea689fb2cc8",
   "metadata": {},
   "outputs": [],
   "source": [
    "product_group_schema = StructType([ \\\n",
    "    StructField(\"group_id\",IntegerType(),True), \\\n",
    "    StructField(\"group_name\",StringType(),True)\n",
    "  ])\n",
    "\n",
    "product_schema = StructType([ \\\n",
    "    StructField(\"product_id\",IntegerType(),True), \\\n",
    "    StructField(\"product_name\",StringType(),True),\\\n",
    "    StructField(\"group_id\",IntegerType(),True),\\\n",
    "    StructField(\"price\",FloatType(),True), \\\n",
    "  ])\n",
    "\n",
    "product_groups =   [(1,'Smartphone'),\n",
    "                    (2,'Laptop'),\n",
    "                    (3,'Tablet')]\n",
    "products = [(1,'Microsoft Lumia', 1, 200.00),\n",
    "            (2,'HTC One', 1, 400.00),\n",
    "        \t(3,'Nexus', 1, 500.00),\n",
    "        \t(4,'iPhone', 1, 900.00),\n",
    "        \t(5,'HP Elite', 2, 1200.00),\n",
    "        \t(6,'Lenovo Thinkpad', 2, 700.00),\n",
    "        \t(7,'Sony VAIO', 2, 700.00),\n",
    "        \t(8,'Dell Vostro', 2, 800.00),\n",
    "        \t(9,'iPad', 3, 700.00),\n",
    "        \t(10,'Kindle Fire', 3, 150.00),\n",
    "        \t(11,'Samsung Galaxy Tab', 3, 200.00)]\n",
    "rdd = spark.sparkContext.parallelize(product_groups)\n",
    "spark.createDataFrame(rdd, schema = product_group_schema).createOrReplaceTempView('product_groups')\n",
    "rdd = spark.sparkContext.parallelize(products)\n",
    "spark.createDataFrame(rdd, schema = product_schema).createOrReplaceTempView('products')"
   ]
  },
  {
   "cell_type": "markdown",
   "id": "4a53c56b-580e-466a-9170-f67a301c34ce",
   "metadata": {},
   "source": [
    "```\n",
    "SELECT\n",
    "\tproduct_name,\n",
    "\tprice,\n",
    "\tgroup_name,\n",
    "\tAVG (price) OVER (\n",
    "\t   PARTITION BY group_name\n",
    "\t) AS avg_price\n",
    "FROM\n",
    "\tproducts\n",
    "\tINNER JOIN \n",
    "\t\tproduct_groups USING (group_id);\n",
    "```"
   ]
  },
  {
   "cell_type": "code",
   "execution_count": 11,
   "id": "2479a475-7d50-44a7-82af-eb54b6c88a97",
   "metadata": {},
   "outputs": [],
   "source": [
    "df1 = spark.sql('SELECT * FROM products')\n",
    "df2 = spark.sql('SELECT * FROM product_groups')"
   ]
  },
  {
   "cell_type": "markdown",
   "id": "dd7195b6-7756-453f-ad46-0388cbbd6880",
   "metadata": {},
   "source": [
    "# First Example: fixed window"
   ]
  },
  {
   "cell_type": "code",
   "execution_count": 35,
   "id": "7556ab65-bf9c-4ba5-b6f3-7a258cc6592a",
   "metadata": {},
   "outputs": [],
   "source": [
    "windowSpec = Window\\\n",
    ".partitionBy(\"group_name\")\n",
    "avg_price = F.avg(F.col('price')).over(windowSpec)#.alias('avg_price')"
   ]
  },
  {
   "cell_type": "code",
   "execution_count": 36,
   "id": "c7d88634-a107-4941-8e21-14e50a63a426",
   "metadata": {},
   "outputs": [
    {
     "name": "stdout",
     "output_type": "stream",
     "text": [
      "+------------------+------+----------+--------------------------------------------------------------------------------------------------+\n",
      "|      product_name| price|group_name|avg(price) OVER (PARTITION BY group_name ROWS BETWEEN UNBOUNDED PRECEDING AND UNBOUNDED FOLLOWING)|\n",
      "+------------------+------+----------+--------------------------------------------------------------------------------------------------+\n",
      "|          HP Elite|1200.0|    Laptop|                                                                                             850.0|\n",
      "|   Lenovo Thinkpad| 700.0|    Laptop|                                                                                             850.0|\n",
      "|         Sony VAIO| 700.0|    Laptop|                                                                                             850.0|\n",
      "|       Dell Vostro| 800.0|    Laptop|                                                                                             850.0|\n",
      "|   Microsoft Lumia| 200.0|Smartphone|                                                                                             500.0|\n",
      "|           HTC One| 400.0|Smartphone|                                                                                             500.0|\n",
      "|             Nexus| 500.0|Smartphone|                                                                                             500.0|\n",
      "|            iPhone| 900.0|Smartphone|                                                                                             500.0|\n",
      "|              iPad| 700.0|    Tablet|                                                                                             350.0|\n",
      "|       Kindle Fire| 150.0|    Tablet|                                                                                             350.0|\n",
      "|Samsung Galaxy Tab| 200.0|    Tablet|                                                                                             350.0|\n",
      "+------------------+------+----------+--------------------------------------------------------------------------------------------------+\n",
      "\n"
     ]
    },
    {
     "name": "stderr",
     "output_type": "stream",
     "text": [
      "                                                                                \r"
     ]
    }
   ],
   "source": [
    "df1.join(df2,how = 'inner',on = 'group_id').select('product_name','price','group_name',avg_price).show()"
   ]
  },
  {
   "cell_type": "markdown",
   "id": "dc8d3ef3-4099-454c-80c4-354a1f827f87",
   "metadata": {},
   "source": [
    "Note that for this example the window is defined by the number of elements in a group_name. So, for laptop the mean is\n",
    "(1200+700+700+800)/4 = 850.00"
   ]
  },
  {
   "cell_type": "markdown",
   "id": "98879ee1-13b2-4051-9636-c7ad07272f91",
   "metadata": {},
   "source": [
    "## Be Careful when specifying the window"
   ]
  },
  {
   "cell_type": "code",
   "execution_count": 29,
   "id": "cd4047af-ebcc-4b9b-a693-f34b24488463",
   "metadata": {},
   "outputs": [],
   "source": [
    "windowSpec = Window\\\n",
    ".partitionBy(\"group_name\")\\\n",
    ".rowsBetween(Window.unboundedPreceding, Window.currentRow)\n",
    "avg_price = F.avg(F.col('price')).over(windowSpec).alias('avg_price')"
   ]
  },
  {
   "cell_type": "code",
   "execution_count": 30,
   "id": "ab994308-7e16-46d6-9a6c-07ad7d1bedf5",
   "metadata": {},
   "outputs": [
    {
     "name": "stdout",
     "output_type": "stream",
     "text": [
      "+------------------+------+----------+-----------------+\n",
      "|      product_name| price|group_name|        avg_price|\n",
      "+------------------+------+----------+-----------------+\n",
      "|          HP Elite|1200.0|    Laptop|           1200.0|\n",
      "|   Lenovo Thinkpad| 700.0|    Laptop|            950.0|\n",
      "|         Sony VAIO| 700.0|    Laptop|866.6666666666666|\n",
      "|       Dell Vostro| 800.0|    Laptop|            850.0|\n",
      "|   Microsoft Lumia| 200.0|Smartphone|            200.0|\n",
      "|           HTC One| 400.0|Smartphone|            300.0|\n",
      "|             Nexus| 500.0|Smartphone|366.6666666666667|\n",
      "|            iPhone| 900.0|Smartphone|            500.0|\n",
      "|              iPad| 700.0|    Tablet|            700.0|\n",
      "|       Kindle Fire| 150.0|    Tablet|            425.0|\n",
      "|Samsung Galaxy Tab| 200.0|    Tablet|            350.0|\n",
      "+------------------+------+----------+-----------------+\n",
      "\n"
     ]
    }
   ],
   "source": [
    "df1.join(df2,how = 'inner',on = 'group_id').select('product_name','price','group_name',avg_price).show()"
   ]
  },
  {
   "cell_type": "markdown",
   "id": "7f1c1f2f-f35c-4c98-a170-c766ecdb00a4",
   "metadata": {},
   "source": [
    "For the second example, note that the window is expanding from the first group_name found until the last.\n",
    "Because of that, the first avg_price is 1200, since there is only one product in the window at this time. Then, it\n",
    "becomes 950.00, since only Lenovo Thinkpad joins the window. At last, note that the mean becomes 850.00, the answer for\n",
    "all the average prices in the answer above, because only at the end all the products join the window"
   ]
  },
  {
   "cell_type": "markdown",
   "id": "d29f587e-2582-4c24-8e96-dc9ce0209481",
   "metadata": {},
   "source": [
    "## Other possibility: contracting window"
   ]
  },
  {
   "cell_type": "code",
   "execution_count": 39,
   "id": "419c3708-259e-42ce-a5a5-67e991f8cc57",
   "metadata": {},
   "outputs": [
    {
     "name": "stdout",
     "output_type": "stream",
     "text": [
      "+------------------+------+----------+-----------------+\n",
      "|      product_name| price|group_name|        avg_price|\n",
      "+------------------+------+----------+-----------------+\n",
      "|          HP Elite|1200.0|    Laptop|            850.0|\n",
      "|   Lenovo Thinkpad| 700.0|    Laptop|733.3333333333334|\n",
      "|         Sony VAIO| 700.0|    Laptop|            750.0|\n",
      "|       Dell Vostro| 800.0|    Laptop|            800.0|\n",
      "|   Microsoft Lumia| 200.0|Smartphone|            500.0|\n",
      "|           HTC One| 400.0|Smartphone|            600.0|\n",
      "|             Nexus| 500.0|Smartphone|            700.0|\n",
      "|            iPhone| 900.0|Smartphone|            900.0|\n",
      "|              iPad| 700.0|    Tablet|            350.0|\n",
      "|       Kindle Fire| 150.0|    Tablet|            175.0|\n",
      "|Samsung Galaxy Tab| 200.0|    Tablet|            200.0|\n",
      "+------------------+------+----------+-----------------+\n",
      "\n"
     ]
    }
   ],
   "source": [
    "windowSpec = Window\\\n",
    ".partitionBy(\"group_name\")\\\n",
    ".rowsBetween(Window.currentRow, Window.unboundedFollowing)\n",
    "avg_price = F.avg(F.col('price')).over(windowSpec).alias('avg_price')\n",
    "df1.join(df2,how = 'inner',on = 'group_id').select('product_name','price','group_name',avg_price).show()"
   ]
  },
  {
   "cell_type": "markdown",
   "id": "6aa06bf2-6eb2-4842-8e39-34d0c182cc2c",
   "metadata": {},
   "source": [
    "For the third example, note that the window is contracting, since it starts with 850.00, the average for all items for the laptop group, \n",
    "going to 733.33, 750 and finally 800, the are respectively the averages by removing the first, second and third item. "
   ]
  },
  {
   "cell_type": "markdown",
   "id": "66607c0d-69cd-4343-8e9c-66b9de04e027",
   "metadata": {},
   "source": [
    "# Expliciting the Example 1 effect in rows between"
   ]
  },
  {
   "cell_type": "code",
   "execution_count": 37,
   "id": "e2df20ef-ca22-4c8c-8267-256b198b9c07",
   "metadata": {},
   "outputs": [
    {
     "name": "stdout",
     "output_type": "stream",
     "text": [
      "+------------------+------+----------+---------+\n",
      "|      product_name| price|group_name|avg_price|\n",
      "+------------------+------+----------+---------+\n",
      "|          HP Elite|1200.0|    Laptop|    850.0|\n",
      "|   Lenovo Thinkpad| 700.0|    Laptop|    850.0|\n",
      "|         Sony VAIO| 700.0|    Laptop|    850.0|\n",
      "|       Dell Vostro| 800.0|    Laptop|    850.0|\n",
      "|   Microsoft Lumia| 200.0|Smartphone|    500.0|\n",
      "|           HTC One| 400.0|Smartphone|    500.0|\n",
      "|             Nexus| 500.0|Smartphone|    500.0|\n",
      "|            iPhone| 900.0|Smartphone|    500.0|\n",
      "|              iPad| 700.0|    Tablet|    350.0|\n",
      "|       Kindle Fire| 150.0|    Tablet|    350.0|\n",
      "|Samsung Galaxy Tab| 200.0|    Tablet|    350.0|\n",
      "+------------------+------+----------+---------+\n",
      "\n"
     ]
    }
   ],
   "source": [
    "windowSpec = Window\\\n",
    ".partitionBy(\"group_name\")\\\n",
    ".rowsBetween(Window.unboundedPreceding, Window.unboundedFollowing)\n",
    "avg_price = F.avg(F.col('price')).over(windowSpec).alias('avg_price')\n",
    "df1.join(df2,how = 'inner',on = 'group_id').select('product_name','price','group_name',avg_price).show()"
   ]
  },
  {
   "cell_type": "markdown",
   "id": "fafb33fa-a34b-4b52-a835-ae4941a32bf7",
   "metadata": {},
   "source": [
    "# Example 2"
   ]
  },
  {
   "cell_type": "code",
   "execution_count": 49,
   "id": "e241d729-c515-4f45-b531-a087c79e4b53",
   "metadata": {},
   "outputs": [
    {
     "name": "stdout",
     "output_type": "stream",
     "text": [
      "+------------------+------+----------+---------------+\n",
      "|      product_name| price|group_name|row_number_call|\n",
      "+------------------+------+----------+---------------+\n",
      "|   Lenovo Thinkpad| 700.0|    Laptop|              1|\n",
      "|         Sony VAIO| 700.0|    Laptop|              2|\n",
      "|       Dell Vostro| 800.0|    Laptop|              3|\n",
      "|          HP Elite|1200.0|    Laptop|              4|\n",
      "|   Microsoft Lumia| 200.0|Smartphone|              1|\n",
      "|           HTC One| 400.0|Smartphone|              2|\n",
      "|             Nexus| 500.0|Smartphone|              3|\n",
      "|            iPhone| 900.0|Smartphone|              4|\n",
      "|       Kindle Fire| 150.0|    Tablet|              1|\n",
      "|Samsung Galaxy Tab| 200.0|    Tablet|              2|\n",
      "|              iPad| 700.0|    Tablet|              3|\n",
      "+------------------+------+----------+---------------+\n",
      "\n"
     ]
    }
   ],
   "source": [
    "windowSpec = Window\\\n",
    ".partitionBy(\"group_name\").orderBy('price')\n",
    "row_number = F.row_number().over(windowSpec).alias('row_number_call')\n",
    "df1.join(df2,how = 'inner',on = 'group_id').select('product_name','price','group_name',row_number).show()"
   ]
  },
  {
   "cell_type": "markdown",
   "id": "24edde6f-2cbd-40b5-9ce7-5f5c8ba95d64",
   "metadata": {},
   "source": [
    "## Expliciting the rows between relation"
   ]
  },
  {
   "cell_type": "code",
   "execution_count": 51,
   "id": "83d76bce-9480-4d0b-ad3c-6832fcd2ddd7",
   "metadata": {},
   "outputs": [
    {
     "name": "stdout",
     "output_type": "stream",
     "text": [
      "+------------------+------+----------+---------------+\n",
      "|      product_name| price|group_name|row_number_call|\n",
      "+------------------+------+----------+---------------+\n",
      "|   Lenovo Thinkpad| 700.0|    Laptop|              1|\n",
      "|         Sony VAIO| 700.0|    Laptop|              2|\n",
      "|       Dell Vostro| 800.0|    Laptop|              3|\n",
      "|          HP Elite|1200.0|    Laptop|              4|\n",
      "|   Microsoft Lumia| 200.0|Smartphone|              1|\n",
      "|           HTC One| 400.0|Smartphone|              2|\n",
      "|             Nexus| 500.0|Smartphone|              3|\n",
      "|            iPhone| 900.0|Smartphone|              4|\n",
      "|       Kindle Fire| 150.0|    Tablet|              1|\n",
      "|Samsung Galaxy Tab| 200.0|    Tablet|              2|\n",
      "|              iPad| 700.0|    Tablet|              3|\n",
      "+------------------+------+----------+---------------+\n",
      "\n"
     ]
    }
   ],
   "source": [
    "windowSpec = Window\\\n",
    ".partitionBy(\"group_name\").rowsBetween(Window.unboundedPreceding, Window.currentRow).orderBy('price')\n",
    "row_number = F.row_number().over(windowSpec).alias('row_number_call')\n",
    "df1.join(df2,how = 'inner',on = 'group_id').select('product_name','price','group_name',row_number).show()"
   ]
  },
  {
   "cell_type": "markdown",
   "id": "3116f2c5-5268-4c4b-b0fe-e19bf39c2296",
   "metadata": {},
   "source": [
    "# RANK"
   ]
  },
  {
   "cell_type": "code",
   "execution_count": 54,
   "id": "eb87797f-56df-489b-8bb7-c796f669e110",
   "metadata": {},
   "outputs": [
    {
     "name": "stdout",
     "output_type": "stream",
     "text": [
      "+------------------+------+----------+----------+\n",
      "|      product_name| price|group_name|price_rank|\n",
      "+------------------+------+----------+----------+\n",
      "|          HP Elite|1200.0|    Laptop|         4|\n",
      "|            iPhone| 900.0|Smartphone|         4|\n",
      "|       Dell Vostro| 800.0|    Laptop|         3|\n",
      "|             Nexus| 500.0|Smartphone|         3|\n",
      "|              iPad| 700.0|    Tablet|         3|\n",
      "|           HTC One| 400.0|Smartphone|         2|\n",
      "|Samsung Galaxy Tab| 200.0|    Tablet|         2|\n",
      "|   Lenovo Thinkpad| 700.0|    Laptop|         1|\n",
      "|         Sony VAIO| 700.0|    Laptop|         1|\n",
      "|   Microsoft Lumia| 200.0|Smartphone|         1|\n",
      "|       Kindle Fire| 150.0|    Tablet|         1|\n",
      "+------------------+------+----------+----------+\n",
      "\n"
     ]
    }
   ],
   "source": [
    "windowSpec = Window\\\n",
    ".partitionBy(\"group_name\").orderBy('price')\n",
    "rank = F.rank().over(windowSpec).alias('price_rank')\n",
    "df1.join(df2,how = 'inner',on = 'group_id').select('product_name','price','group_name',rank).orderBy('price_rank',ascending = False).show()"
   ]
  },
  {
   "cell_type": "markdown",
   "id": "6b69c0f7-8dba-48db-a688-63c4bb76a99d",
   "metadata": {},
   "source": [
    "# DENSE_RANK"
   ]
  },
  {
   "cell_type": "code",
   "execution_count": 58,
   "id": "2146e6bd-a6c1-4807-877b-f881ca3362ba",
   "metadata": {},
   "outputs": [
    {
     "name": "stdout",
     "output_type": "stream",
     "text": [
      "+------------------+------+----------+----------+\n",
      "|      product_name| price|group_name|price_rank|\n",
      "+------------------+------+----------+----------+\n",
      "|   Lenovo Thinkpad| 700.0|    Laptop|         1|\n",
      "|         Sony VAIO| 700.0|    Laptop|         1|\n",
      "|       Dell Vostro| 800.0|    Laptop|         2|\n",
      "|          HP Elite|1200.0|    Laptop|         3|\n",
      "|   Microsoft Lumia| 200.0|Smartphone|         1|\n",
      "|           HTC One| 400.0|Smartphone|         2|\n",
      "|             Nexus| 500.0|Smartphone|         3|\n",
      "|            iPhone| 900.0|Smartphone|         4|\n",
      "|       Kindle Fire| 150.0|    Tablet|         1|\n",
      "|Samsung Galaxy Tab| 200.0|    Tablet|         2|\n",
      "|              iPad| 700.0|    Tablet|         3|\n",
      "+------------------+------+----------+----------+\n",
      "\n"
     ]
    }
   ],
   "source": [
    "windowSpec = Window\\\n",
    ".partitionBy(\"group_name\").orderBy('price')\n",
    "rank = F.dense_rank().over(windowSpec).alias('price_rank')\n",
    "df1.join(df2,how = 'inner',on = 'group_id').select('product_name','price','group_name',rank).show()"
   ]
  },
  {
   "cell_type": "markdown",
   "id": "98f95baa-a67b-4054-bd0d-eeda87b64f9b",
   "metadata": {},
   "source": [
    "# FIRST_VALUE and LAST_VALUE - Not implemented on pyspark 3.4.1 API, only in 3.5.0  - [reference](https://spark.apache.org/docs/latest/api/python/reference/pyspark.sql/api/pyspark.sql.functions.first_value.html)"
   ]
  },
  {
   "cell_type": "code",
   "execution_count": 59,
   "id": "40817bb0-2a93-4b77-a3a2-32daea145cf9",
   "metadata": {},
   "outputs": [
    {
     "ename": "AttributeError",
     "evalue": "module 'pyspark.sql.functions' has no attribute 'first_value'",
     "output_type": "error",
     "traceback": [
      "\u001b[0;31m---------------------------------------------------------------------------\u001b[0m",
      "\u001b[0;31mAttributeError\u001b[0m                            Traceback (most recent call last)",
      "Cell \u001b[0;32mIn[59], line 3\u001b[0m\n\u001b[1;32m      1\u001b[0m windowSpec \u001b[38;5;241m=\u001b[39m Window\\\n\u001b[1;32m      2\u001b[0m \u001b[38;5;241m.\u001b[39mpartitionBy(\u001b[38;5;124m\"\u001b[39m\u001b[38;5;124mgroup_name\u001b[39m\u001b[38;5;124m\"\u001b[39m)\u001b[38;5;241m.\u001b[39morderBy(\u001b[38;5;124m'\u001b[39m\u001b[38;5;124mprice\u001b[39m\u001b[38;5;124m'\u001b[39m)\n\u001b[0;32m----> 3\u001b[0m first_value \u001b[38;5;241m=\u001b[39m \u001b[43mF\u001b[49m\u001b[38;5;241;43m.\u001b[39;49m\u001b[43mfirst_value\u001b[49m()\u001b[38;5;241m.\u001b[39mover(windowSpec)\u001b[38;5;241m.\u001b[39malias(\u001b[38;5;124m'\u001b[39m\u001b[38;5;124mlowest_price_per_group\u001b[39m\u001b[38;5;124m'\u001b[39m)\n\u001b[1;32m      4\u001b[0m df1\u001b[38;5;241m.\u001b[39mjoin(df2,how \u001b[38;5;241m=\u001b[39m \u001b[38;5;124m'\u001b[39m\u001b[38;5;124minner\u001b[39m\u001b[38;5;124m'\u001b[39m,on \u001b[38;5;241m=\u001b[39m \u001b[38;5;124m'\u001b[39m\u001b[38;5;124mgroup_id\u001b[39m\u001b[38;5;124m'\u001b[39m)\u001b[38;5;241m.\u001b[39mselect(\u001b[38;5;124m'\u001b[39m\u001b[38;5;124mproduct_name\u001b[39m\u001b[38;5;124m'\u001b[39m,\u001b[38;5;124m'\u001b[39m\u001b[38;5;124mprice\u001b[39m\u001b[38;5;124m'\u001b[39m,\u001b[38;5;124m'\u001b[39m\u001b[38;5;124mgroup_name\u001b[39m\u001b[38;5;124m'\u001b[39m,first_value)\u001b[38;5;241m.\u001b[39mshow()\n",
      "\u001b[0;31mAttributeError\u001b[0m: module 'pyspark.sql.functions' has no attribute 'first_value'"
     ]
    }
   ],
   "source": [
    "windowSpec = Window\\\n",
    ".partitionBy(\"group_name\").orderBy('price')\n",
    "first_value = F.first_value().over(windowSpec).alias('lowest_price_per_group')\n",
    "df1.join(df2,how = 'inner',on = 'group_id').select('product_name','price','group_name',first_value).show()"
   ]
  },
  {
   "cell_type": "markdown",
   "id": "c45ada79-2e9a-49a0-a3b4-b82834f3450c",
   "metadata": {},
   "source": [
    "# LAG"
   ]
  },
  {
   "cell_type": "code",
   "execution_count": 64,
   "id": "6690e7a3-e1b6-4e8c-a72a-ea3996976918",
   "metadata": {},
   "outputs": [
    {
     "name": "stdout",
     "output_type": "stream",
     "text": [
      "+------------------+------+----------+----------+----------------+\n",
      "|      product_name| price|group_name|prev_price|price_difference|\n",
      "+------------------+------+----------+----------+----------------+\n",
      "|   Lenovo Thinkpad| 700.0|    Laptop|      null|            null|\n",
      "|         Sony VAIO| 700.0|    Laptop|     700.0|             0.0|\n",
      "|       Dell Vostro| 800.0|    Laptop|     700.0|           100.0|\n",
      "|          HP Elite|1200.0|    Laptop|     800.0|           400.0|\n",
      "|   Microsoft Lumia| 200.0|Smartphone|      null|            null|\n",
      "|           HTC One| 400.0|Smartphone|     200.0|           200.0|\n",
      "|             Nexus| 500.0|Smartphone|     400.0|           100.0|\n",
      "|            iPhone| 900.0|Smartphone|     500.0|           400.0|\n",
      "|       Kindle Fire| 150.0|    Tablet|      null|            null|\n",
      "|Samsung Galaxy Tab| 200.0|    Tablet|     150.0|            50.0|\n",
      "|              iPad| 700.0|    Tablet|     200.0|           500.0|\n",
      "+------------------+------+----------+----------+----------------+\n",
      "\n"
     ]
    }
   ],
   "source": [
    "windowSpec = Window\\\n",
    ".partitionBy(\"group_name\").orderBy('price')\n",
    "lag = F.lag('price',1).over(windowSpec).alias('prev_price')\n",
    "df1.join(df2,how = 'inner',on = 'group_id').select('product_name','price','group_name',lag,(F.col('price')-F.col('prev_price')).alias('price_difference')).show()"
   ]
  },
  {
   "cell_type": "markdown",
   "id": "04e7e5f2-659e-4b56-9940-88597ece15be",
   "metadata": {},
   "source": [
    "# LAG with coalesce"
   ]
  },
  {
   "cell_type": "code",
   "execution_count": 67,
   "id": "3c1d6099-4e8d-4732-8bb0-cf6662609e8e",
   "metadata": {},
   "outputs": [
    {
     "name": "stdout",
     "output_type": "stream",
     "text": [
      "+------------------+------+----------+----------+----------------+\n",
      "|      product_name| price|group_name|prev_price|price_difference|\n",
      "+------------------+------+----------+----------+----------------+\n",
      "|   Lenovo Thinkpad| 700.0|    Laptop|       0.0|           700.0|\n",
      "|         Sony VAIO| 700.0|    Laptop|     700.0|             0.0|\n",
      "|       Dell Vostro| 800.0|    Laptop|     700.0|           100.0|\n",
      "|          HP Elite|1200.0|    Laptop|     800.0|           400.0|\n",
      "|   Microsoft Lumia| 200.0|Smartphone|       0.0|           200.0|\n",
      "|           HTC One| 400.0|Smartphone|     200.0|           200.0|\n",
      "|             Nexus| 500.0|Smartphone|     400.0|           100.0|\n",
      "|            iPhone| 900.0|Smartphone|     500.0|           400.0|\n",
      "|       Kindle Fire| 150.0|    Tablet|       0.0|           150.0|\n",
      "|Samsung Galaxy Tab| 200.0|    Tablet|     150.0|            50.0|\n",
      "|              iPad| 700.0|    Tablet|     200.0|           500.0|\n",
      "+------------------+------+----------+----------+----------------+\n",
      "\n"
     ]
    }
   ],
   "source": [
    "windowSpec = Window\\\n",
    ".partitionBy(\"group_name\").orderBy('price')\n",
    "lag = F.lag('price',1).over(windowSpec).alias('prev_price')\n",
    "df1.join(df2,how = 'inner',on = 'group_id').select('product_name','price','group_name',F.coalesce(lag,F.lit(0.0)).alias('prev_price'),F.coalesce(F.col('price')-F.col('prev_price'),F.lit(0.0)).alias('price_difference')).show()"
   ]
  },
  {
   "cell_type": "markdown",
   "id": "7bd21ee6-0394-4b0a-a7ff-3989f3f861b9",
   "metadata": {},
   "source": [
    "# LEAD"
   ]
  },
  {
   "cell_type": "code",
   "execution_count": 68,
   "id": "82987c45-930a-4bbc-b4fb-616e8790d7b5",
   "metadata": {},
   "outputs": [
    {
     "name": "stdout",
     "output_type": "stream",
     "text": [
      "+------------------+------+----------+----------+----------------+\n",
      "|      product_name| price|group_name|prev_price|price_difference|\n",
      "+------------------+------+----------+----------+----------------+\n",
      "|   Lenovo Thinkpad| 700.0|    Laptop|     700.0|             0.0|\n",
      "|         Sony VAIO| 700.0|    Laptop|     800.0|          -100.0|\n",
      "|       Dell Vostro| 800.0|    Laptop|    1200.0|          -400.0|\n",
      "|          HP Elite|1200.0|    Laptop|      null|            null|\n",
      "|   Microsoft Lumia| 200.0|Smartphone|     400.0|          -200.0|\n",
      "|           HTC One| 400.0|Smartphone|     500.0|          -100.0|\n",
      "|             Nexus| 500.0|Smartphone|     900.0|          -400.0|\n",
      "|            iPhone| 900.0|Smartphone|      null|            null|\n",
      "|       Kindle Fire| 150.0|    Tablet|     200.0|           -50.0|\n",
      "|Samsung Galaxy Tab| 200.0|    Tablet|     700.0|          -500.0|\n",
      "|              iPad| 700.0|    Tablet|      null|            null|\n",
      "+------------------+------+----------+----------+----------------+\n",
      "\n"
     ]
    }
   ],
   "source": [
    "windowSpec = Window\\\n",
    ".partitionBy(\"group_name\").orderBy('price')\n",
    "lead = F.lead('price',1).over(windowSpec).alias('prev_price')\n",
    "df1.join(df2,how = 'inner',on = 'group_id').select('product_name','price','group_name',lead,(F.col('price')-F.col('prev_price')).alias('price_difference')).show()"
   ]
  },
  {
   "cell_type": "markdown",
   "id": "e7cf9483-eff4-4b5e-872a-899cb58eacd6",
   "metadata": {},
   "source": [
    "# LEAD with COALESCE"
   ]
  },
  {
   "cell_type": "code",
   "execution_count": 69,
   "id": "ad3adde8-46e3-41e7-a39c-1787e7421751",
   "metadata": {},
   "outputs": [
    {
     "name": "stdout",
     "output_type": "stream",
     "text": [
      "+------------------+------+----------+----------+----------------+\n",
      "|      product_name| price|group_name|prev_price|price_difference|\n",
      "+------------------+------+----------+----------+----------------+\n",
      "|   Lenovo Thinkpad| 700.0|    Laptop|     700.0|             0.0|\n",
      "|         Sony VAIO| 700.0|    Laptop|     800.0|          -100.0|\n",
      "|       Dell Vostro| 800.0|    Laptop|    1200.0|          -400.0|\n",
      "|          HP Elite|1200.0|    Laptop|       0.0|          1200.0|\n",
      "|   Microsoft Lumia| 200.0|Smartphone|     400.0|          -200.0|\n",
      "|           HTC One| 400.0|Smartphone|     500.0|          -100.0|\n",
      "|             Nexus| 500.0|Smartphone|     900.0|          -400.0|\n",
      "|            iPhone| 900.0|Smartphone|       0.0|           900.0|\n",
      "|       Kindle Fire| 150.0|    Tablet|     200.0|           -50.0|\n",
      "|Samsung Galaxy Tab| 200.0|    Tablet|     700.0|          -500.0|\n",
      "|              iPad| 700.0|    Tablet|       0.0|           700.0|\n",
      "+------------------+------+----------+----------+----------------+\n",
      "\n"
     ]
    }
   ],
   "source": [
    "windowSpec = Window\\\n",
    ".partitionBy(\"group_name\").orderBy('price')\n",
    "lead = F.lead('price',1).over(windowSpec).alias('prev_price')\n",
    "df1.join(df2,how = 'inner',on = 'group_id').select('product_name','price','group_name',F.coalesce(lead,F.lit(0.0)).alias('prev_price'),F.coalesce(F.col('price')-F.col('prev_price'),F.lit(0.0)).alias('price_difference')).show()"
   ]
  },
  {
   "cell_type": "markdown",
   "id": "3445191e-94b9-4dc5-bbc5-a9cc0b7e8673",
   "metadata": {},
   "source": [
    "# CUME_DIST"
   ]
  },
  {
   "cell_type": "code",
   "execution_count": 70,
   "id": "5a5040d0-6693-48e4-980c-1f2f242eefc5",
   "metadata": {},
   "outputs": [],
   "source": [
    "sale_stats_schema = StructType([ \\\n",
    "    StructField(\"name\",StringType(),True), \\\n",
    "    StructField(\"year\",IntegerType(),True),\\\n",
    "    StructField(\"amount\",IntegerType(),True),\\\n",
    "  ])\n",
    "\n",
    "sale_stats_data =   [('John Doe',2018,120000),\n",
    "                    ('Jane Doe',2018,110000),\n",
    "                    ('Jack Daniel',2018,150000),\n",
    "                    ('Yin Yang',2018,30000),\n",
    "                    ('Stephane Heady',2018,200000),\n",
    "                    ('John Doe',2019,150000),\n",
    "                    ('Jane Doe',2019,130000),\n",
    "                    ('Jack Daniel',2019,180000),\n",
    "                    ('Yin Yang',2019,25000),\n",
    "                    ('Stephane Heady',2019,270000)]\n",
    "\n",
    "rdd = spark.sparkContext.parallelize(sale_stats_data)\n",
    "spark.createDataFrame(rdd, schema = sale_stats_schema).createOrReplaceTempView('sales_stats')"
   ]
  },
  {
   "cell_type": "code",
   "execution_count": 71,
   "id": "d6a418f3-c046-488f-8187-88b66a1d3482",
   "metadata": {},
   "outputs": [],
   "source": [
    "df = spark.sql('SELECT * FROM sales_stats')"
   ]
  },
  {
   "cell_type": "markdown",
   "id": "efc97712-45ad-43d3-82fa-879a7a9d3f64",
   "metadata": {},
   "source": [
    "## Without partition (BAD PRACTICE!)"
   ]
  },
  {
   "cell_type": "markdown",
   "id": "7ae2425e-4382-42b3-91a2-68818b583f52",
   "metadata": {},
   "source": [
    "## Order matters when applying a filter and windowing"
   ]
  },
  {
   "cell_type": "markdown",
   "id": "26982ca7-80e0-4d30-98c7-3d897e21c224",
   "metadata": {},
   "source": [
    "## Always bear in mind the following"
   ]
  },
  {
   "cell_type": "markdown",
   "id": "f2f3fa44-0d12-4b71-92e5-c891a1b0b809",
   "metadata": {},
   "source": [
    "<center><img width=250 src=\"https://global.discourse-cdn.com/codecademy/original/5X/8/4/f/1/84f173795dc109601315a9ebe158a9c102f88337.png\"/></center>"
   ]
  },
  {
   "cell_type": "code",
   "execution_count": 129,
   "id": "558c8c4b-4f21-4a7f-9149-fabd19d39682",
   "metadata": {},
   "outputs": [
    {
     "name": "stderr",
     "output_type": "stream",
     "text": [
      "23/12/30 14:51:56 WARN WindowExec: No Partition Defined for Window operation! Moving all data to a single partition, this can cause serious performance degradation.\n",
      "23/12/30 14:51:56 WARN WindowExec: No Partition Defined for Window operation! Moving all data to a single partition, this can cause serious performance degradation.\n",
      "23/12/30 14:51:56 WARN WindowExec: No Partition Defined for Window operation! Moving all data to a single partition, this can cause serious performance degradation.\n"
     ]
    },
    {
     "name": "stdout",
     "output_type": "stream",
     "text": [
      "+--------------+----+------+----+\n",
      "|          name|year|amount|ECDF|\n",
      "+--------------+----+------+----+\n",
      "|      Yin Yang|2018| 30000| 0.2|\n",
      "|      Jane Doe|2018|110000| 0.3|\n",
      "|      John Doe|2018|120000| 0.4|\n",
      "|   Jack Daniel|2018|150000| 0.7|\n",
      "|Stephane Heady|2018|200000| 0.9|\n",
      "+--------------+----+------+----+\n",
      "\n"
     ]
    },
    {
     "name": "stderr",
     "output_type": "stream",
     "text": [
      "23/12/30 14:51:57 WARN WindowExec: No Partition Defined for Window operation! Moving all data to a single partition, this can cause serious performance degradation.\n",
      "23/12/30 14:51:57 WARN WindowExec: No Partition Defined for Window operation! Moving all data to a single partition, this can cause serious performance degradation.\n"
     ]
    }
   ],
   "source": [
    "windowSpec =  Window.orderBy('amount')\n",
    "cume_dist = F.cume_dist().over(windowSpec).alias('ECDF')\n",
    "df.select('name','year','amount',cume_dist).filter(F.col('year') == 2018).show()"
   ]
  },
  {
   "cell_type": "code",
   "execution_count": 127,
   "id": "dde5a3cb-7341-4af4-9b6b-686ab17eb357",
   "metadata": {},
   "outputs": [
    {
     "name": "stderr",
     "output_type": "stream",
     "text": [
      "23/12/30 14:50:19 WARN WindowExec: No Partition Defined for Window operation! Moving all data to a single partition, this can cause serious performance degradation.\n",
      "23/12/30 14:50:19 WARN WindowExec: No Partition Defined for Window operation! Moving all data to a single partition, this can cause serious performance degradation.\n",
      "23/12/30 14:50:19 WARN WindowExec: No Partition Defined for Window operation! Moving all data to a single partition, this can cause serious performance degradation.\n"
     ]
    },
    {
     "name": "stdout",
     "output_type": "stream",
     "text": [
      "+--------------+----+------+----+\n",
      "|          name|year|amount|ECDF|\n",
      "+--------------+----+------+----+\n",
      "|      Yin Yang|2018| 30000| 0.2|\n",
      "|      Jane Doe|2018|110000| 0.4|\n",
      "|      John Doe|2018|120000| 0.6|\n",
      "|   Jack Daniel|2018|150000| 0.8|\n",
      "|Stephane Heady|2018|200000| 1.0|\n",
      "+--------------+----+------+----+\n",
      "\n"
     ]
    },
    {
     "name": "stderr",
     "output_type": "stream",
     "text": [
      "23/12/30 14:50:20 WARN WindowExec: No Partition Defined for Window operation! Moving all data to a single partition, this can cause serious performance degradation.\n",
      "23/12/30 14:50:20 WARN WindowExec: No Partition Defined for Window operation! Moving all data to a single partition, this can cause serious performance degradation.\n"
     ]
    }
   ],
   "source": [
    "query = \"\"\"SELECT \n",
    "    name,\n",
    "    year, \n",
    "    amount,\n",
    "    CUME_DIST() OVER (\n",
    "        ORDER BY amount\n",
    "    ) AS ECDF\n",
    "FROM \n",
    "    sales_stats\n",
    "WHERE \n",
    "    year = 2018;\n",
    "\"\"\"\n",
    "spark.sql(query).show()#.explain()"
   ]
  },
  {
   "cell_type": "markdown",
   "id": "f52c1cd0-ce96-45be-97a6-445f187151b7",
   "metadata": {},
   "source": [
    "### Let us see what went wrong here..."
   ]
  },
  {
   "cell_type": "code",
   "execution_count": 128,
   "id": "956063fb-49e7-4eff-a476-773d409a0645",
   "metadata": {},
   "outputs": [
    {
     "name": "stdout",
     "output_type": "stream",
     "text": [
      "== Physical Plan ==\n",
      "AdaptiveSparkPlan isFinalPlan=false\n",
      "+- Window [cume_dist() windowspecdefinition(amount#1309 ASC NULLS FIRST, specifiedwindowframe(RangeFrame, unboundedpreceding$(), currentrow$())) AS ECDF#1817], [amount#1309 ASC NULLS FIRST]\n",
      "   +- Sort [amount#1309 ASC NULLS FIRST], false, 0\n",
      "      +- Exchange SinglePartition, ENSURE_REQUIREMENTS, [plan_id=7970]\n",
      "         +- Filter (isnotnull(year#1308) AND (year#1308 = 2018))\n",
      "            +- Scan ExistingRDD[name#1307,year#1308,amount#1309]\n",
      "\n",
      "\n"
     ]
    },
    {
     "name": "stderr",
     "output_type": "stream",
     "text": [
      "23/12/30 14:51:34 WARN WindowExec: No Partition Defined for Window operation! Moving all data to a single partition, this can cause serious performance degradation.\n",
      "23/12/30 14:51:34 WARN WindowExec: No Partition Defined for Window operation! Moving all data to a single partition, this can cause serious performance degradation.\n",
      "23/12/30 14:51:34 WARN WindowExec: No Partition Defined for Window operation! Moving all data to a single partition, this can cause serious performance degradation.\n"
     ]
    }
   ],
   "source": [
    "query = \"\"\"SELECT \n",
    "    name,\n",
    "    year, \n",
    "    amount,\n",
    "    CUME_DIST() OVER (\n",
    "        ORDER BY amount\n",
    "    ) AS ECDF\n",
    "FROM \n",
    "    sales_stats\n",
    "WHERE \n",
    "    year = 2018;\n",
    "\"\"\"\n",
    "spark.sql(query).explain()"
   ]
  },
  {
   "cell_type": "code",
   "execution_count": 130,
   "id": "ee9a58a4-3644-4a71-b2a2-864c8b15e835",
   "metadata": {},
   "outputs": [
    {
     "name": "stdout",
     "output_type": "stream",
     "text": [
      "== Physical Plan ==\n",
      "AdaptiveSparkPlan isFinalPlan=false\n",
      "+- Filter (isnotnull(year#1308) AND (year#1308 = 2018))\n",
      "   +- Window [cume_dist() windowspecdefinition(amount#1309 ASC NULLS FIRST, specifiedwindowframe(RangeFrame, unboundedpreceding$(), currentrow$())) AS ECDF#1847], [amount#1309 ASC NULLS FIRST]\n",
      "      +- Sort [amount#1309 ASC NULLS FIRST], false, 0\n",
      "         +- Exchange SinglePartition, ENSURE_REQUIREMENTS, [plan_id=8044]\n",
      "            +- Scan ExistingRDD[name#1307,year#1308,amount#1309]\n",
      "\n",
      "\n"
     ]
    },
    {
     "name": "stderr",
     "output_type": "stream",
     "text": [
      "23/12/30 14:52:15 WARN WindowExec: No Partition Defined for Window operation! Moving all data to a single partition, this can cause serious performance degradation.\n",
      "23/12/30 14:52:15 WARN WindowExec: No Partition Defined for Window operation! Moving all data to a single partition, this can cause serious performance degradation.\n",
      "23/12/30 14:52:15 WARN WindowExec: No Partition Defined for Window operation! Moving all data to a single partition, this can cause serious performance degradation.\n"
     ]
    }
   ],
   "source": [
    "windowSpec =  Window.orderBy('amount')\n",
    "cume_dist = F.cume_dist().over(windowSpec).alias('ECDF')\n",
    "df.select('name','year','amount',cume_dist).filter(F.col('year') == 2018).explain()"
   ]
  },
  {
   "cell_type": "markdown",
   "id": "0a644e4d-9bfe-427a-8f80-5db6b22de381",
   "metadata": {},
   "source": [
    "The order is different from the query! Let's use the filter first and check what happens!"
   ]
  },
  {
   "cell_type": "code",
   "execution_count": 131,
   "id": "c844fb6f-aa52-4b95-8b26-423d8be94885",
   "metadata": {},
   "outputs": [
    {
     "name": "stdout",
     "output_type": "stream",
     "text": [
      "== Physical Plan ==\n",
      "AdaptiveSparkPlan isFinalPlan=false\n",
      "+- Window [cume_dist() windowspecdefinition(amount#1309 ASC NULLS FIRST, specifiedwindowframe(RangeFrame, unboundedpreceding$(), currentrow$())) AS ECDF#1847], [amount#1309 ASC NULLS FIRST]\n",
      "   +- Sort [amount#1309 ASC NULLS FIRST], false, 0\n",
      "      +- Exchange SinglePartition, ENSURE_REQUIREMENTS, [plan_id=8060]\n",
      "         +- Filter (isnotnull(year#1308) AND (year#1308 = 2018))\n",
      "            +- Scan ExistingRDD[name#1307,year#1308,amount#1309]\n",
      "\n",
      "\n"
     ]
    },
    {
     "name": "stderr",
     "output_type": "stream",
     "text": [
      "23/12/30 14:53:34 WARN WindowExec: No Partition Defined for Window operation! Moving all data to a single partition, this can cause serious performance degradation.\n",
      "23/12/30 14:53:34 WARN WindowExec: No Partition Defined for Window operation! Moving all data to a single partition, this can cause serious performance degradation.\n",
      "23/12/30 14:53:34 WARN WindowExec: No Partition Defined for Window operation! Moving all data to a single partition, this can cause serious performance degradation.\n"
     ]
    }
   ],
   "source": [
    "df.filter(F.col('year') == 2018).select('name','year','amount',cume_dist).explain()"
   ]
  },
  {
   "cell_type": "markdown",
   "id": "29b74196-eb11-4081-8542-1a6e57bdba46",
   "metadata": {},
   "source": [
    "Now the Plan its equal to the SQL method. Let's do a final check"
   ]
  },
  {
   "cell_type": "code",
   "execution_count": 132,
   "id": "116fb0a1-6bc8-468b-b8e7-910d8bf5b55e",
   "metadata": {},
   "outputs": [
    {
     "name": "stderr",
     "output_type": "stream",
     "text": [
      "23/12/30 14:54:36 WARN WindowExec: No Partition Defined for Window operation! Moving all data to a single partition, this can cause serious performance degradation.\n",
      "23/12/30 14:54:36 WARN WindowExec: No Partition Defined for Window operation! Moving all data to a single partition, this can cause serious performance degradation.\n",
      "23/12/30 14:54:36 WARN WindowExec: No Partition Defined for Window operation! Moving all data to a single partition, this can cause serious performance degradation.\n"
     ]
    },
    {
     "name": "stdout",
     "output_type": "stream",
     "text": [
      "+--------------+----+------+----+\n",
      "|          name|year|amount|ECDF|\n",
      "+--------------+----+------+----+\n",
      "|      Yin Yang|2018| 30000| 0.2|\n",
      "|      Jane Doe|2018|110000| 0.4|\n",
      "|      John Doe|2018|120000| 0.6|\n",
      "|   Jack Daniel|2018|150000| 0.8|\n",
      "|Stephane Heady|2018|200000| 1.0|\n",
      "+--------------+----+------+----+\n",
      "\n"
     ]
    },
    {
     "name": "stderr",
     "output_type": "stream",
     "text": [
      "23/12/30 14:54:37 WARN WindowExec: No Partition Defined for Window operation! Moving all data to a single partition, this can cause serious performance degradation.\n",
      "23/12/30 14:54:37 WARN WindowExec: No Partition Defined for Window operation! Moving all data to a single partition, this can cause serious performance degradation.\n"
     ]
    }
   ],
   "source": [
    "df.filter(F.col('year') == 2018).select('name','year','amount',cume_dist).show()"
   ]
  },
  {
   "cell_type": "markdown",
   "id": "4e0fc012-f14d-4ff6-afe2-1722c7690c76",
   "metadata": {},
   "source": [
    "## With partition"
   ]
  },
  {
   "cell_type": "code",
   "execution_count": 110,
   "id": "534316dc-2907-4782-b12e-720c2ab09e5f",
   "metadata": {},
   "outputs": [
    {
     "name": "stdout",
     "output_type": "stream",
     "text": [
      "+--------------+----+------+----+\n",
      "|          name|year|amount|ECDF|\n",
      "+--------------+----+------+----+\n",
      "|      Yin Yang|2018| 30000| 0.2|\n",
      "|      Jane Doe|2018|110000| 0.4|\n",
      "|      John Doe|2018|120000| 0.6|\n",
      "|   Jack Daniel|2018|150000| 0.8|\n",
      "|Stephane Heady|2018|200000| 1.0|\n",
      "|      Yin Yang|2019| 25000| 0.2|\n",
      "|      Jane Doe|2019|130000| 0.4|\n",
      "|      John Doe|2019|150000| 0.6|\n",
      "|   Jack Daniel|2019|180000| 0.8|\n",
      "|Stephane Heady|2019|270000| 1.0|\n",
      "+--------------+----+------+----+\n",
      "\n"
     ]
    }
   ],
   "source": [
    "windowSpec =  Window.partitionBy('year').orderBy('amount')#.rangeBetween(Window.unboundedPreceding, Window.currentRow)\n",
    "cume_dist = F.cume_dist().over(windowSpec).alias('ECDF')\n",
    "df.select('name','year','amount',cume_dist).show()"
   ]
  },
  {
   "cell_type": "markdown",
   "id": "ec0e780a-bb4b-4f35-9067-922478817a9b",
   "metadata": {},
   "source": [
    "# NTH_VALUE"
   ]
  },
  {
   "cell_type": "markdown",
   "id": "e1f10895-191e-4a57-8248-83a14207ea5f",
   "metadata": {},
   "source": [
    "## Without partition (BAD PRACTICE, without a good reason, of course)"
   ]
  },
  {
   "cell_type": "code",
   "execution_count": 144,
   "id": "02b2d485-3b48-4396-8301-98e40abf2203",
   "metadata": {},
   "outputs": [
    {
     "name": "stderr",
     "output_type": "stream",
     "text": [
      "23/12/30 17:28:16 WARN WindowExec: No Partition Defined for Window operation! Moving all data to a single partition, this can cause serious performance degradation.\n",
      "23/12/30 17:28:16 WARN WindowExec: No Partition Defined for Window operation! Moving all data to a single partition, this can cause serious performance degradation.\n",
      "23/12/30 17:28:16 WARN WindowExec: No Partition Defined for Window operation! Moving all data to a single partition, this can cause serious performance degradation.\n"
     ]
    },
    {
     "name": "stdout",
     "output_type": "stream",
     "text": [
      "+----------+------------------+------+--------------+\n",
      "|product_id|      product_name| price|nth_value_call|\n",
      "+----------+------------------+------+--------------+\n",
      "|         5|          HP Elite|1200.0|        iPhone|\n",
      "|         4|            iPhone| 900.0|        iPhone|\n",
      "|         8|       Dell Vostro| 800.0|        iPhone|\n",
      "|         6|   Lenovo Thinkpad| 700.0|        iPhone|\n",
      "|         7|         Sony VAIO| 700.0|        iPhone|\n",
      "|         9|              iPad| 700.0|        iPhone|\n",
      "|         3|             Nexus| 500.0|        iPhone|\n",
      "|         2|           HTC One| 400.0|        iPhone|\n",
      "|         1|   Microsoft Lumia| 200.0|        iPhone|\n",
      "|        11|Samsung Galaxy Tab| 200.0|        iPhone|\n",
      "|        10|       Kindle Fire| 150.0|        iPhone|\n",
      "+----------+------------------+------+--------------+\n",
      "\n"
     ]
    },
    {
     "name": "stderr",
     "output_type": "stream",
     "text": [
      "23/12/30 17:28:16 WARN WindowExec: No Partition Defined for Window operation! Moving all data to a single partition, this can cause serious performance degradation.\n",
      "23/12/30 17:28:16 WARN WindowExec: No Partition Defined for Window operation! Moving all data to a single partition, this can cause serious performance degradation.\n"
     ]
    }
   ],
   "source": [
    "windowSpec =  Window.orderBy(F.desc('price')).rangeBetween(Window.unboundedPreceding,Window.unboundedFollowing)\n",
    "nth_value = F.nth_value('product_name',2).over(windowSpec).alias('nth_value_call')\n",
    "df1.select('product_id',\n",
    "           'product_name',\n",
    "           'price',\n",
    "            nth_value).show()"
   ]
  },
  {
   "cell_type": "code",
   "execution_count": 147,
   "id": "74cd0d59-681e-4dd3-9ffa-996d63be9d9c",
   "metadata": {},
   "outputs": [
    {
     "name": "stdout",
     "output_type": "stream",
     "text": [
      "+----------+------------------+--------+------+------------------+\n",
      "|product_id|      product_name|group_id| price|    nth_value_call|\n",
      "+----------+------------------+--------+------+------------------+\n",
      "|         4|            iPhone|       1| 900.0|             Nexus|\n",
      "|         3|             Nexus|       1| 500.0|             Nexus|\n",
      "|         2|           HTC One|       1| 400.0|             Nexus|\n",
      "|         1|   Microsoft Lumia|       1| 200.0|             Nexus|\n",
      "|         5|          HP Elite|       2|1200.0|       Dell Vostro|\n",
      "|         8|       Dell Vostro|       2| 800.0|       Dell Vostro|\n",
      "|         6|   Lenovo Thinkpad|       2| 700.0|       Dell Vostro|\n",
      "|         7|         Sony VAIO|       2| 700.0|       Dell Vostro|\n",
      "|         9|              iPad|       3| 700.0|Samsung Galaxy Tab|\n",
      "|        11|Samsung Galaxy Tab|       3| 200.0|Samsung Galaxy Tab|\n",
      "|        10|       Kindle Fire|       3| 150.0|Samsung Galaxy Tab|\n",
      "+----------+------------------+--------+------+------------------+\n",
      "\n"
     ]
    }
   ],
   "source": [
    "windowSpec =  Window.partitionBy('group_id').orderBy(F.desc('price')).rangeBetween(Window.unboundedPreceding,Window.unboundedFollowing)\n",
    "nth_value = F.nth_value('product_name',2).over(windowSpec).alias('nth_value_call')\n",
    "df1.select('product_id',\n",
    "           'product_name',\n",
    "           'group_id',\n",
    "           'price',\n",
    "            nth_value).show()"
   ]
  },
  {
   "cell_type": "code",
   "execution_count": 149,
   "id": "a7d8c8f6-b188-42a3-9916-36bfc309d8d9",
   "metadata": {},
   "outputs": [
    {
     "name": "stdout",
     "output_type": "stream",
     "text": [
      "+--------------+------+--------------+\n",
      "|          name|amount|perc_rank_call|\n",
      "+--------------+------+--------------+\n",
      "|      Yin Yang| 30000|           0.0|\n",
      "|      Jane Doe|110000|          0.25|\n",
      "|      John Doe|120000|           0.5|\n",
      "|   Jack Daniel|150000|          0.75|\n",
      "|Stephane Heady|200000|           1.0|\n",
      "|      Yin Yang| 25000|           0.0|\n",
      "|      Jane Doe|130000|          0.25|\n",
      "|      John Doe|150000|           0.5|\n",
      "|   Jack Daniel|180000|          0.75|\n",
      "|Stephane Heady|270000|           1.0|\n",
      "+--------------+------+--------------+\n",
      "\n"
     ]
    }
   ],
   "source": [
    "windowSpec = Window.partitionBy('year').orderBy('amount')\n",
    "perc_rank = F.percent_rank().over(windowSpec).alias('perc_rank_call')\n",
    "df.select('name','amount',perc_rank).show()"
   ]
  },
  {
   "cell_type": "markdown",
   "id": "02a8480e-7799-4c4d-a4f9-6e6be27a092b",
   "metadata": {},
   "source": [
    "# ROW_NUMBER"
   ]
  },
  {
   "cell_type": "markdown",
   "id": "c9f8eb32-727d-499d-9f8e-8d3af3fb57d5",
   "metadata": {},
   "source": [
    "## without partition"
   ]
  },
  {
   "cell_type": "code",
   "execution_count": 152,
   "id": "2f344f99-c57a-4842-b026-c52de42a6c03",
   "metadata": {},
   "outputs": [
    {
     "name": "stderr",
     "output_type": "stream",
     "text": [
      "23/12/30 17:42:25 WARN WindowExec: No Partition Defined for Window operation! Moving all data to a single partition, this can cause serious performance degradation.\n",
      "23/12/30 17:42:25 WARN WindowExec: No Partition Defined for Window operation! Moving all data to a single partition, this can cause serious performance degradation.\n",
      "23/12/30 17:42:25 WARN WindowExec: No Partition Defined for Window operation! Moving all data to a single partition, this can cause serious performance degradation.\n"
     ]
    },
    {
     "name": "stdout",
     "output_type": "stream",
     "text": [
      "+----------+------------------+--------+---------------+\n",
      "|product_id|      product_name|group_id|row_number_call|\n",
      "+----------+------------------+--------+---------------+\n",
      "|         1|   Microsoft Lumia|       1|              1|\n",
      "|         2|           HTC One|       1|              2|\n",
      "|         3|             Nexus|       1|              3|\n",
      "|         4|            iPhone|       1|              4|\n",
      "|         5|          HP Elite|       2|              5|\n",
      "|         6|   Lenovo Thinkpad|       2|              6|\n",
      "|         7|         Sony VAIO|       2|              7|\n",
      "|         8|       Dell Vostro|       2|              8|\n",
      "|         9|              iPad|       3|              9|\n",
      "|        10|       Kindle Fire|       3|             10|\n",
      "|        11|Samsung Galaxy Tab|       3|             11|\n",
      "+----------+------------------+--------+---------------+\n",
      "\n"
     ]
    }
   ],
   "source": [
    "windowSpec = Window.orderBy('product_id')\n",
    "row_number = F.row_number().over(windowSpec).alias('row_number_call')\n",
    "df1.select('product_id','product_name','group_id',row_number).show()"
   ]
  },
  {
   "cell_type": "code",
   "execution_count": 153,
   "id": "4be16557-7ffe-4cc2-903b-e1b34644ec82",
   "metadata": {},
   "outputs": [
    {
     "name": "stderr",
     "output_type": "stream",
     "text": [
      "23/12/30 17:44:30 WARN WindowExec: No Partition Defined for Window operation! Moving all data to a single partition, this can cause serious performance degradation.\n",
      "23/12/30 17:44:30 WARN WindowExec: No Partition Defined for Window operation! Moving all data to a single partition, this can cause serious performance degradation.\n",
      "23/12/30 17:44:30 WARN WindowExec: No Partition Defined for Window operation! Moving all data to a single partition, this can cause serious performance degradation.\n"
     ]
    },
    {
     "name": "stdout",
     "output_type": "stream",
     "text": [
      "+----------+------------------+--------+---------------+\n",
      "|product_id|      product_name|group_id|row_number_call|\n",
      "+----------+------------------+--------+---------------+\n",
      "|         8|       Dell Vostro|       2|              1|\n",
      "|         5|          HP Elite|       2|              2|\n",
      "|         2|           HTC One|       1|              3|\n",
      "|        10|       Kindle Fire|       3|              4|\n",
      "|         6|   Lenovo Thinkpad|       2|              5|\n",
      "|         1|   Microsoft Lumia|       1|              6|\n",
      "|         3|             Nexus|       1|              7|\n",
      "|        11|Samsung Galaxy Tab|       3|              8|\n",
      "|         7|         Sony VAIO|       2|              9|\n",
      "|         9|              iPad|       3|             10|\n",
      "|         4|            iPhone|       1|             11|\n",
      "+----------+------------------+--------+---------------+\n",
      "\n"
     ]
    }
   ],
   "source": [
    "windowSpec = Window.orderBy('product_name')\n",
    "row_number = F.row_number().over(windowSpec).alias('row_number_call')\n",
    "df1.select('product_id','product_name','group_id',row_number).show()"
   ]
  },
  {
   "cell_type": "markdown",
   "id": "e4491390-5564-46e7-a8b7-3f18e4609730",
   "metadata": {},
   "source": [
    "## with partition"
   ]
  },
  {
   "cell_type": "code",
   "execution_count": 157,
   "id": "dc36e99c-f950-4d51-b577-66276561ba67",
   "metadata": {},
   "outputs": [
    {
     "name": "stdout",
     "output_type": "stream",
     "text": [
      "+----------+------------------+--------+---------------+\n",
      "|product_id|      product_name|group_id|row_number_call|\n",
      "+----------+------------------+--------+---------------+\n",
      "|         1|   Microsoft Lumia|       1|              1|\n",
      "|         2|           HTC One|       1|              2|\n",
      "|         3|             Nexus|       1|              3|\n",
      "|         4|            iPhone|       1|              4|\n",
      "|         5|          HP Elite|       2|              1|\n",
      "|         6|   Lenovo Thinkpad|       2|              2|\n",
      "|         7|         Sony VAIO|       2|              3|\n",
      "|         8|       Dell Vostro|       2|              4|\n",
      "|         9|              iPad|       3|              1|\n",
      "|        10|       Kindle Fire|       3|              2|\n",
      "|        11|Samsung Galaxy Tab|       3|              3|\n",
      "+----------+------------------+--------+---------------+\n",
      "\n"
     ]
    }
   ],
   "source": [
    "windowSpec = Window.partitionBy('group_id').orderBy('product_id')\n",
    "row_number = F.row_number().over(windowSpec).alias('row_number_call')\n",
    "df1.select('product_id','product_name','group_id',row_number).show()"
   ]
  },
  {
   "cell_type": "markdown",
   "id": "82d99d8a-6e42-4476-9f5d-58597fdc3cc6",
   "metadata": {},
   "source": [
    "## Row number and distinct"
   ]
  },
  {
   "cell_type": "code",
   "execution_count": 158,
   "id": "8c1ef251-3241-4fae-ab2b-d454b6147a7c",
   "metadata": {},
   "outputs": [
    {
     "name": "stderr",
     "output_type": "stream",
     "text": [
      "23/12/30 18:35:49 WARN WindowExec: No Partition Defined for Window operation! Moving all data to a single partition, this can cause serious performance degradation.\n",
      "23/12/30 18:35:49 WARN WindowExec: No Partition Defined for Window operation! Moving all data to a single partition, this can cause serious performance degradation.\n",
      "23/12/30 18:35:49 WARN WindowExec: No Partition Defined for Window operation! Moving all data to a single partition, this can cause serious performance degradation.\n"
     ]
    },
    {
     "name": "stdout",
     "output_type": "stream",
     "text": [
      "+------+---------------+\n",
      "| price|row_number_call|\n",
      "+------+---------------+\n",
      "| 150.0|              1|\n",
      "| 200.0|              2|\n",
      "| 200.0|              3|\n",
      "| 400.0|              4|\n",
      "| 500.0|              5|\n",
      "| 700.0|              6|\n",
      "| 700.0|              7|\n",
      "| 700.0|              8|\n",
      "| 800.0|              9|\n",
      "| 900.0|             10|\n",
      "|1200.0|             11|\n",
      "+------+---------------+\n",
      "\n"
     ]
    },
    {
     "name": "stderr",
     "output_type": "stream",
     "text": [
      "23/12/30 18:35:50 WARN WindowExec: No Partition Defined for Window operation! Moving all data to a single partition, this can cause serious performance degradation.\n",
      "23/12/30 18:35:50 WARN WindowExec: No Partition Defined for Window operation! Moving all data to a single partition, this can cause serious performance degradation.\n",
      "23/12/30 18:35:50 WARN WindowExec: No Partition Defined for Window operation! Moving all data to a single partition, this can cause serious performance degradation.\n"
     ]
    }
   ],
   "source": [
    "windowSpec = Window.orderBy('price')\n",
    "row_number = F.row_number().over(windowSpec).alias('row_number_call')\n",
    "df1.distinct().select('price',row_number).show()"
   ]
  },
  {
   "cell_type": "markdown",
   "id": "6c3a321b-3db6-4eb6-89c6-5a57c0ff132a",
   "metadata": {},
   "source": [
    "## Removing duplicates"
   ]
  },
  {
   "cell_type": "code",
   "execution_count": 160,
   "id": "74e0d753-91ee-4ef1-84e9-16d30a683b17",
   "metadata": {},
   "outputs": [
    {
     "name": "stderr",
     "output_type": "stream",
     "text": [
      "23/12/30 18:38:34 WARN WindowExec: No Partition Defined for Window operation! Moving all data to a single partition, this can cause serious performance degradation.\n",
      "23/12/30 18:38:34 WARN WindowExec: No Partition Defined for Window operation! Moving all data to a single partition, this can cause serious performance degradation.\n",
      "23/12/30 18:38:34 WARN WindowExec: No Partition Defined for Window operation! Moving all data to a single partition, this can cause serious performance degradation.\n"
     ]
    },
    {
     "name": "stdout",
     "output_type": "stream",
     "text": [
      "+------+---------------+\n",
      "| price|row_number_call|\n",
      "+------+---------------+\n",
      "| 150.0|              1|\n",
      "| 200.0|              2|\n",
      "| 400.0|              3|\n",
      "| 500.0|              4|\n",
      "| 700.0|              5|\n",
      "| 800.0|              6|\n",
      "| 900.0|              7|\n",
      "|1200.0|              8|\n",
      "+------+---------------+\n",
      "\n"
     ]
    },
    {
     "name": "stderr",
     "output_type": "stream",
     "text": [
      "23/12/30 18:38:34 WARN WindowExec: No Partition Defined for Window operation! Moving all data to a single partition, this can cause serious performance degradation.\n",
      "23/12/30 18:38:34 WARN WindowExec: No Partition Defined for Window operation! Moving all data to a single partition, this can cause serious performance degradation.\n",
      "23/12/30 18:38:34 WARN WindowExec: No Partition Defined for Window operation! Moving all data to a single partition, this can cause serious performance degradation.\n"
     ]
    }
   ],
   "source": [
    "df_aux = df1.distinct().select('price')\n",
    "row_number = F.row_number().over(windowSpec).alias('row_number_call')\n",
    "df_aux.distinct().select('price',row_number).show()"
   ]
  },
  {
   "cell_type": "markdown",
   "id": "4b0f783e-3279-49a3-91fd-803bdd5ec30a",
   "metadata": {},
   "source": [
    "# ROW_NUMBER as pagination"
   ]
  },
  {
   "cell_type": "code",
   "execution_count": 166,
   "id": "e8c82e8b-ce39-4d53-9eb1-1f86bfbba871",
   "metadata": {},
   "outputs": [
    {
     "name": "stderr",
     "output_type": "stream",
     "text": [
      "23/12/30 18:50:40 WARN WindowExec: No Partition Defined for Window operation! Moving all data to a single partition, this can cause serious performance degradation.\n",
      "23/12/30 18:50:40 WARN WindowExec: No Partition Defined for Window operation! Moving all data to a single partition, this can cause serious performance degradation.\n",
      "23/12/30 18:50:40 WARN WindowExec: No Partition Defined for Window operation! Moving all data to a single partition, this can cause serious performance degradation.\n"
     ]
    },
    {
     "name": "stdout",
     "output_type": "stream",
     "text": [
      "+----------+------------------+-----+----------+\n",
      "|product_id|      product_name|price|row_number|\n",
      "+----------+------------------+-----+----------+\n",
      "|         1|   Microsoft Lumia|200.0|         6|\n",
      "|         3|             Nexus|500.0|         7|\n",
      "|        11|Samsung Galaxy Tab|200.0|         8|\n",
      "|         7|         Sony VAIO|700.0|         9|\n",
      "|         9|              iPad|700.0|        10|\n",
      "+----------+------------------+-----+----------+\n",
      "\n"
     ]
    },
    {
     "name": "stderr",
     "output_type": "stream",
     "text": [
      "23/12/30 18:50:40 WARN WindowExec: No Partition Defined for Window operation! Moving all data to a single partition, this can cause serious performance degradation.\n",
      "23/12/30 18:50:40 WARN WindowExec: No Partition Defined for Window operation! Moving all data to a single partition, this can cause serious performance degradation.\n"
     ]
    }
   ],
   "source": [
    "windowSpec = Window.orderBy('product_name')\n",
    "row_number = F.row_number().over(windowSpec).alias('row_number')\n",
    "df_sub = df1.select('product_id',\n",
    "        \t\t\t'product_name',\n",
    "        \t\t\t'price',\n",
    "                     row_number)\n",
    "df_final = df_sub.filter(F.col('row_number').between(6,10))\n",
    "df_final.show()"
   ]
  },
  {
   "cell_type": "code",
   "execution_count": 193,
   "id": "8189cf45-f7cb-49ef-bf61-4c5e41710b8f",
   "metadata": {},
   "outputs": [
    {
     "name": "stderr",
     "output_type": "stream",
     "text": [
      "23/12/30 19:02:59 WARN WindowExec: No Partition Defined for Window operation! Moving all data to a single partition, this can cause serious performance degradation.\n",
      "23/12/30 19:02:59 WARN WindowExec: No Partition Defined for Window operation! Moving all data to a single partition, this can cause serious performance degradation.\n",
      "23/12/30 19:02:59 WARN WindowExec: No Partition Defined for Window operation! Moving all data to a single partition, this can cause serious performance degradation.\n",
      "23/12/30 19:02:59 WARN WindowExec: No Partition Defined for Window operation! Moving all data to a single partition, this can cause serious performance degradation.\n",
      "23/12/30 19:02:59 WARN WindowExec: No Partition Defined for Window operation! Moving all data to a single partition, this can cause serious performance degradation.\n",
      "23/12/30 19:02:59 WARN WindowExec: No Partition Defined for Window operation! Moving all data to a single partition, this can cause serious performance degradation.\n",
      "23/12/30 19:02:59 WARN WindowExec: No Partition Defined for Window operation! Moving all data to a single partition, this can cause serious performance degradation.\n"
     ]
    },
    {
     "name": "stdout",
     "output_type": "stream",
     "text": [
      "+----------+------------+--------+-----+\n",
      "|product_id|product_name|group_id|price|\n",
      "+----------+------------+--------+-----+\n",
      "|         8| Dell Vostro|       2|800.0|\n",
      "+----------+------------+--------+-----+\n",
      "\n"
     ]
    }
   ],
   "source": [
    "windowSpec = Window.orderBy(F.col('price').desc())\n",
    "row_number = F.row_number().over(windowSpec).alias('nth')\n",
    "df_sub1 = df1.distinct().select('price')\n",
    "df_sub2 = df_sub1.select('price',row_number).filter(F.col('nth') == 3)\n",
    "df_sub3 = df_sub2.select('price')\n",
    "df_sub4 = df1.filter(F.col('price') == F.lit(df_sub3.collect()[0][0]))\n",
    "df_sub4.show()"
   ]
  },
  {
   "cell_type": "code",
   "execution_count": 189,
   "id": "62a1052e-2864-4a45-9d03-920eae1205b9",
   "metadata": {},
   "outputs": [
    {
     "data": {
      "text/plain": [
       "200.0"
      ]
     },
     "execution_count": 189,
     "metadata": {},
     "output_type": "execute_result"
    }
   ],
   "source": []
  },
  {
   "cell_type": "code",
   "execution_count": null,
   "id": "1b102fdb-a7ad-479a-b164-df26eaeece9d",
   "metadata": {},
   "outputs": [],
   "source": []
  }
 ],
 "metadata": {
  "kernelspec": {
   "display_name": "Python 3 (ipykernel)",
   "language": "python",
   "name": "python3"
  },
  "language_info": {
   "codemirror_mode": {
    "name": "ipython",
    "version": 3
   },
   "file_extension": ".py",
   "mimetype": "text/x-python",
   "name": "python",
   "nbconvert_exporter": "python",
   "pygments_lexer": "ipython3",
   "version": "3.11.6"
  }
 },
 "nbformat": 4,
 "nbformat_minor": 5
}
