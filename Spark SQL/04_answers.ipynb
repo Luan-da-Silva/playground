{
 "cells": [
  {
   "cell_type": "code",
   "execution_count": 1,
   "id": "573cd5ec-1345-4c54-a9ce-e43e522cad60",
   "metadata": {},
   "outputs": [],
   "source": [
    "from db_tools.setup import setup\n",
    "from pyspark.sql.types import StructType,StructField, StringType, IntegerType"
   ]
  },
  {
   "cell_type": "code",
   "execution_count": 2,
   "id": "b4c5cb5d-15a1-4be1-86f2-524f093d7979",
   "metadata": {},
   "outputs": [],
   "source": [
    "from functools import reduce,partial\n",
    "from pyspark.sql import functions as F"
   ]
  },
  {
   "cell_type": "code",
   "execution_count": 3,
   "id": "d8ccd9df-81c1-41be-8c94-2e00f387d568",
   "metadata": {},
   "outputs": [
    {
     "name": "stderr",
     "output_type": "stream",
     "text": [
      "23/10/29 16:16:17 WARN Utils: Your hostname, luan-Dell-G15-5520 resolves to a loopback address: 127.0.1.1; using 192.168.1.12 instead (on interface wlp0s20f3)\n",
      "23/10/29 16:16:17 WARN Utils: Set SPARK_LOCAL_IP if you need to bind to another address\n",
      "23/10/29 16:16:17 WARN NativeCodeLoader: Unable to load native-hadoop library for your platform... using builtin-java classes where applicable\n",
      "Setting default log level to \"WARN\".\n",
      "To adjust logging level use sc.setLogLevel(newLevel). For SparkR, use setLogLevel(newLevel).\n",
      "23/10/29 16:16:18 WARN Utils: Service 'SparkUI' could not bind on port 4040. Attempting port 4041.\n",
      "23/10/29 16:16:18 WARN Utils: Service 'SparkUI' could not bind on port 4041. Attempting port 4042.\n"
     ]
    },
    {
     "name": "stdout",
     "output_type": "stream",
     "text": [
      "SparkSession available as \"spark\"\n"
     ]
    }
   ],
   "source": [
    "spark = setup()"
   ]
  },
  {
   "cell_type": "markdown",
   "id": "643a81d8-7bde-4ede-b748-d01ee61c7499",
   "metadata": {},
   "source": [
    "# OBS: All exercises not present here are basically a copycat of what is found here"
   ]
  },
  {
   "cell_type": "markdown",
   "id": "d3d74c67-6bd9-43f2-ac11-99764a60a5f2",
   "metadata": {},
   "source": [
    "# GROUP BY with agregate functions"
   ]
  },
  {
   "cell_type": "code",
   "execution_count": 4,
   "id": "b9becc9c-865a-4080-9a4a-07f66d676c88",
   "metadata": {},
   "outputs": [],
   "source": [
    "df1 = spark.sql(\"\"\"SELECT * FROM payment\"\"\")"
   ]
  },
  {
   "cell_type": "code",
   "execution_count": 13,
   "id": "27c0533e-baac-4504-baf1-0606d1e98d0b",
   "metadata": {},
   "outputs": [
    {
     "name": "stdout",
     "output_type": "stream",
     "text": [
      "+-----------+------+\n",
      "|customer_id| total|\n",
      "+-----------+------+\n",
      "|        148|211.55|\n",
      "|        526|208.58|\n",
      "|        178|194.61|\n",
      "|        137|191.62|\n",
      "|        144|189.60|\n",
      "|        459|183.63|\n",
      "|        181|167.67|\n",
      "|        410|167.62|\n",
      "|        236|166.61|\n",
      "|        403|162.67|\n",
      "|        522|161.68|\n",
      "|        469|158.65|\n",
      "|        470|157.69|\n",
      "|        373|156.66|\n",
      "|        259|154.70|\n",
      "|        468|154.66|\n",
      "|        462|152.69|\n",
      "|        372|152.68|\n",
      "|        187|151.73|\n",
      "|        550|151.69|\n",
      "+-----------+------+\n",
      "only showing top 20 rows\n",
      "\n"
     ]
    }
   ],
   "source": [
    "df1.select(*['customer_id','amount'])\\\n",
    "   .groupBy('customer_id')\\\n",
    "   .agg(F.sum('amount')\\\n",
    "   .alias('total')).orderBy('total',ascending = False).show()"
   ]
  },
  {
   "cell_type": "markdown",
   "id": "ba857126-83ec-4870-b9e1-e084c7caef66",
   "metadata": {},
   "source": [
    "# GROUP BY with JOIN"
   ]
  },
  {
   "cell_type": "code",
   "execution_count": 17,
   "id": "abe3b4c5-a0dd-4b27-a8fe-fff9f31d17ef",
   "metadata": {},
   "outputs": [],
   "source": [
    "df1 = spark.sql(\"\"\"SELECT customer_id,\n",
    "                    \tfirst_name || ' ' || last_name AS full_name\n",
    "                        FROM customer\"\"\")\n",
    "df2 = spark.sql(\"SELECT customer_id,amount FROM payment\")\n",
    "df_join = df1.join(df2,on = ['customer_id'],how = 'inner')\\\n",
    "             .groupBy('full_name')\\\n",
    "             .agg(F.sum('amount').alias('total'))\\\n",
    "             .orderBy('total',ascending = False)"
   ]
  },
  {
   "cell_type": "code",
   "execution_count": 18,
   "id": "9a1ecf25-b611-441c-bacd-bc5a15085976",
   "metadata": {},
   "outputs": [
    {
     "name": "stdout",
     "output_type": "stream",
     "text": [
      "+---------------+------+\n",
      "|      full_name| total|\n",
      "+---------------+------+\n",
      "|   Eleanor Hunt|211.55|\n",
      "|      Karl Seal|208.58|\n",
      "|  Marion Snyder|194.61|\n",
      "| Rhonda Kennedy|191.62|\n",
      "|     Clara Shaw|189.60|\n",
      "|  Tommy Collazo|183.63|\n",
      "|    Ana Bradley|167.67|\n",
      "|    Curtis Irby|167.62|\n",
      "|    Marcia Dean|166.61|\n",
      "|       Mike Way|162.67|\n",
      "|  Arnold Havens|161.68|\n",
      "|    Wesley Bull|158.65|\n",
      "|  Gordon Allard|157.69|\n",
      "|    Louis Leone|156.66|\n",
      "|    Lena Jensen|154.70|\n",
      "|       Tim Cary|154.66|\n",
      "| Warren Sherrod|152.69|\n",
      "|Steve Mackenzie|152.68|\n",
      "| Brittany Riley|151.73|\n",
      "|   Guy Brownlee|151.69|\n",
      "+---------------+------+\n",
      "only showing top 20 rows\n",
      "\n"
     ]
    }
   ],
   "source": [
    "df_join.show()"
   ]
  },
  {
   "cell_type": "markdown",
   "id": "dbd77fc1-7556-4419-8c37-1e708b6a3bf3",
   "metadata": {},
   "source": [
    "# GROUP BY with other aggregate functions'"
   ]
  },
  {
   "cell_type": "code",
   "execution_count": 19,
   "id": "ef809b43-5f90-4796-aabc-59479e37abf5",
   "metadata": {},
   "outputs": [
    {
     "name": "stdout",
     "output_type": "stream",
     "text": [
      "+--------+----------+\n",
      "|staff_id|payment_no|\n",
      "+--------+----------+\n",
      "|       1|      7292|\n",
      "|       2|      7304|\n",
      "+--------+----------+\n",
      "\n"
     ]
    }
   ],
   "source": [
    "df = spark.sql(\"SELECT * FROM payment\")\n",
    "df_group_by = df.select('staff_id','payment_id')\\\n",
    "                .groupBy('staff_id')\\\n",
    "                .agg(F.count('payment_id')\\\n",
    "                .alias('payment_no'))\n",
    "df_group_by.show()"
   ]
  },
  {
   "cell_type": "markdown",
   "id": "cfad03eb-0416-4380-8a20-db725c612ad4",
   "metadata": {},
   "source": [
    "# GROUP BY with multiple fields"
   ]
  },
  {
   "cell_type": "code",
   "execution_count": 22,
   "id": "0c3b8779-0900-425b-9cb3-7b82dc3edf72",
   "metadata": {},
   "outputs": [
    {
     "name": "stdout",
     "output_type": "stream",
     "text": [
      "+--------+-----------+-----+\n",
      "|staff_id|customer_id|total|\n",
      "+--------+-----------+-----+\n",
      "|       1|          1|60.85|\n",
      "|       2|          1|53.85|\n",
      "|       2|          2|67.88|\n",
      "|       1|          2|55.86|\n",
      "|       2|          3|70.88|\n",
      "|       1|          3|59.88|\n",
      "|       1|          4|49.88|\n",
      "|       2|          4|31.90|\n",
      "|       2|          5|70.79|\n",
      "|       1|          5|63.86|\n",
      "|       1|          6|53.85|\n",
      "|       2|          6|30.90|\n",
      "|       1|          7|69.84|\n",
      "|       2|          7|60.88|\n",
      "|       1|          8|57.86|\n",
      "|       2|          8|27.91|\n",
      "|       1|          9|39.88|\n",
      "|       2|          9|38.92|\n",
      "|       2|         10|53.88|\n",
      "|       1|         10|40.88|\n",
      "+--------+-----------+-----+\n",
      "only showing top 20 rows\n",
      "\n"
     ]
    }
   ],
   "source": [
    "df.groupBy(['staff_id','customer_id'])\\\n",
    "  .agg(F.sum('amount')\\\n",
    "  .alias('total'))\\\n",
    "  .orderBy('customer_id').show()"
   ]
  },
  {
   "cell_type": "markdown",
   "id": "9f0dc60e-0c2c-47e4-9aac-22cc9f4199bd",
   "metadata": {},
   "source": [
    "# GROUP BY with DATE"
   ]
  },
  {
   "cell_type": "code",
   "execution_count": 26,
   "id": "139bba21-155c-4d30-81c0-d28230b41c5c",
   "metadata": {},
   "outputs": [
    {
     "name": "stdout",
     "output_type": "stream",
     "text": [
      "+----------+-------+\n",
      "| paid_date|  total|\n",
      "+----------+-------+\n",
      "|2007-03-22|2586.79|\n",
      "|2007-03-17|2442.16|\n",
      "|2007-04-27|2673.57|\n",
      "|2007-03-02|2550.05|\n",
      "|2007-04-30|5723.89|\n",
      "|2007-04-26| 347.21|\n",
      "|2007-04-12|1930.48|\n",
      "|2007-02-18|1275.98|\n",
      "|2007-02-14| 116.73|\n",
      "|2007-03-19|2617.69|\n",
      "|2007-02-20|1219.09|\n",
      "|2007-02-19|1290.90|\n",
      "|2007-04-11|1940.32|\n",
      "|2007-04-07|1984.28|\n",
      "|2007-02-17|1188.17|\n",
      "|2007-04-29|2717.60|\n",
      "|2007-03-18|2701.76|\n",
      "|2007-05-14| 514.18|\n",
      "|2007-03-16| 299.28|\n",
      "|2007-04-28|2622.73|\n",
      "+----------+-------+\n",
      "only showing top 20 rows\n",
      "\n"
     ]
    }
   ],
   "source": [
    "df.select(*[\n",
    "            'amount',\n",
    "             F.to_date('payment_date')\\\n",
    "              .alias('paid_date')\n",
    "        ])\\\n",
    "  .groupBy('paid_date')\\\n",
    "  .agg(F.sum('amount')\\\n",
    "  .alias('total')).show()"
   ]
  },
  {
   "cell_type": "code",
   "execution_count": 28,
   "id": "97d27a44-06b0-4774-950e-abf2ae97b86b",
   "metadata": {},
   "outputs": [
    {
     "name": "stdout",
     "output_type": "stream",
     "text": [
      "+-----------+------+\n",
      "|customer_id| total|\n",
      "+-----------+------+\n",
      "|        148|211.55|\n",
      "|        526|208.58|\n",
      "+-----------+------+\n",
      "\n"
     ]
    }
   ],
   "source": [
    "df.select('customer_id','amount')\\\n",
    "  .groupBy('customer_id')\\\n",
    "  .agg(F.sum('amount')\\\n",
    "  .alias('total'))\\\n",
    "  .filter(F.col('total')>200).show()"
   ]
  },
  {
   "cell_type": "code",
   "execution_count": null,
   "id": "1ddd89e7-5aef-48fc-bb71-7c867011a978",
   "metadata": {},
   "outputs": [],
   "source": []
  }
 ],
 "metadata": {
  "kernelspec": {
   "display_name": "Python 3 (ipykernel)",
   "language": "python",
   "name": "python3"
  },
  "language_info": {
   "codemirror_mode": {
    "name": "ipython",
    "version": 3
   },
   "file_extension": ".py",
   "mimetype": "text/x-python",
   "name": "python",
   "nbconvert_exporter": "python",
   "pygments_lexer": "ipython3",
   "version": "3.11.6"
  }
 },
 "nbformat": 4,
 "nbformat_minor": 5
}
