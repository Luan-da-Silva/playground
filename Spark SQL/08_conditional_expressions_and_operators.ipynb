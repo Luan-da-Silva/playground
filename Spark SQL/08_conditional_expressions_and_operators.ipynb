{
 "cells": [
  {
   "cell_type": "code",
   "execution_count": 2,
   "id": "5f36cf21-005e-4003-b6e3-7cae404ca83b",
   "metadata": {},
   "outputs": [],
   "source": [
    "from db_tools.setup import setup\n",
    "from pyspark.sql.types import StructType,StructField, StringType, IntegerType"
   ]
  },
  {
   "cell_type": "code",
   "execution_count": 3,
   "id": "a5db1c92-1db6-406a-8c94-6f844bb655e1",
   "metadata": {},
   "outputs": [
    {
     "name": "stderr",
     "output_type": "stream",
     "text": [
      "23/10/29 12:49:14 WARN Utils: Your hostname, luan-Dell-G15-5520 resolves to a loopback address: 127.0.1.1; using 192.168.1.12 instead (on interface wlp0s20f3)\n",
      "23/10/29 12:49:14 WARN Utils: Set SPARK_LOCAL_IP if you need to bind to another address\n",
      "23/10/29 12:49:14 WARN NativeCodeLoader: Unable to load native-hadoop library for your platform... using builtin-java classes where applicable\n",
      "Setting default log level to \"WARN\".\n",
      "To adjust logging level use sc.setLogLevel(newLevel). For SparkR, use setLogLevel(newLevel).\n"
     ]
    },
    {
     "name": "stdout",
     "output_type": "stream",
     "text": [
      "SparkSession available as \"spark\"\n"
     ]
    }
   ],
   "source": [
    "spark = setup()"
   ]
  },
  {
   "cell_type": "code",
   "execution_count": 4,
   "id": "b28e15a8-b019-4a4b-8933-ed644fce50d8",
   "metadata": {},
   "outputs": [],
   "source": [
    "def show_query(query,SparkSession = spark,n = 20):\n",
    "    return SparkSession.sql(query).show()"
   ]
  },
  {
   "cell_type": "markdown",
   "id": "b99a56e6-fc81-432a-a543-adb2c2c5e9d1",
   "metadata": {},
   "source": [
    "# CASE"
   ]
  },
  {
   "cell_type": "markdown",
   "id": "c51c612e-e76c-49ca-9f02-5103f0f339e1",
   "metadata": {},
   "source": [
    "## General example"
   ]
  },
  {
   "cell_type": "code",
   "execution_count": 5,
   "id": "ab4db068-192c-41d2-a421-d0de7ac99b47",
   "metadata": {},
   "outputs": [
    {
     "name": "stdout",
     "output_type": "stream",
     "text": [
      "+-------------------+------+--------+\n",
      "|              title|length|duration|\n",
      "+-------------------+------+--------+\n",
      "|   Academy Dinosaur|    86|  Medium|\n",
      "|     Ace Goldfinger|    48|   Short|\n",
      "|   Adaptation Holes|    50|   Short|\n",
      "|   Affair Prejudice|   117|  Medium|\n",
      "|        African Egg|   130|    Long|\n",
      "|       Agent Truman|   169|    Long|\n",
      "|    Airplane Sierra|    62|  Medium|\n",
      "|    Airport Pollock|    54|  Medium|\n",
      "|      Alabama Devil|   114|  Medium|\n",
      "|   Aladdin Calendar|    63|  Medium|\n",
      "|    Alamo Videotape|   126|    Long|\n",
      "|     Alaska Phantom|   136|    Long|\n",
      "|        Ali Forever|   150|    Long|\n",
      "|     Alice Fantasia|    94|  Medium|\n",
      "|       Alien Center|    46|   Short|\n",
      "|    Alley Evolution|   180|    Long|\n",
      "|         Alone Trip|    82|  Medium|\n",
      "|      Alter Victory|    57|  Medium|\n",
      "|       Amadeus Holy|   113|  Medium|\n",
      "|Amelie Hellfighters|    79|  Medium|\n",
      "+-------------------+------+--------+\n",
      "only showing top 20 rows\n",
      "\n"
     ]
    }
   ],
   "source": [
    "query = \"\"\"\n",
    "SELECT title,\n",
    "       length,\n",
    "       CASE\n",
    "           WHEN length> 0\n",
    "                AND length <= 50 THEN 'Short'\n",
    "           WHEN length > 50\n",
    "                AND length <= 120 THEN 'Medium'\n",
    "           WHEN length> 120 THEN 'Long'\n",
    "       END duration\n",
    "FROM film\n",
    "ORDER BY title;\n",
    "\"\"\"\n",
    "show_query(query)"
   ]
  },
  {
   "cell_type": "markdown",
   "id": "b2e22a40-b888-4f9d-b064-8d1ded1301d7",
   "metadata": {},
   "source": [
    "## CASE WHEN with aggregates"
   ]
  },
  {
   "cell_type": "code",
   "execution_count": 13,
   "id": "2bdb1dd3-03d5-472a-b502-db82b0b3ff4e",
   "metadata": {},
   "outputs": [
    {
     "name": "stdout",
     "output_type": "stream",
     "text": [
      "+-------+----+-------+\n",
      "|Economy|Mass|Premium|\n",
      "+-------+----+-------+\n",
      "|    341| 323|    336|\n",
      "+-------+----+-------+\n",
      "\n"
     ]
    }
   ],
   "source": [
    "query = \"\"\"SELECT\n",
    "\tSUM (CASE \n",
    "         WHEN rental_rate = 0.99 THEN 1 \n",
    "         ELSE 0\n",
    "         END\n",
    "         ) AS Economy,\n",
    "\tSUM (\n",
    "\t\tCASE\n",
    "\t\tWHEN rental_rate = 2.99 THEN 1\n",
    "\t\tELSE 0\n",
    "\t\tEND\n",
    "\t) AS Mass,\n",
    "\tSUM (\n",
    "\t\tCASE\n",
    "\t\tWHEN rental_rate = 4.99 THEN 1\n",
    "\t\tELSE 0\n",
    "\t\tEND\n",
    "\t) AS Premium\n",
    "FROM\n",
    "\tfilm;\"\"\"\n",
    "show_query(query)"
   ]
  },
  {
   "cell_type": "markdown",
   "id": "567577c4-0f73-4255-837c-68ecf55ffbb2",
   "metadata": {},
   "source": [
    "## More examples"
   ]
  },
  {
   "cell_type": "code",
   "execution_count": 14,
   "id": "7a6ba513-c234-4a5f-94e8-d2e9943466c0",
   "metadata": {},
   "outputs": [
    {
     "name": "stdout",
     "output_type": "stream",
     "text": [
      "+-------------------+------+--------------------+\n",
      "|              title|rating|  rating_description|\n",
      "+-------------------+------+--------------------+\n",
      "|   Academy Dinosaur|    PG|Parental Guidance...|\n",
      "|     Ace Goldfinger|     G|   General Audiences|\n",
      "|   Adaptation Holes| NC-17|         Adults Only|\n",
      "|   Affair Prejudice|     G|   General Audiences|\n",
      "|        African Egg|     G|   General Audiences|\n",
      "|       Agent Truman|    PG|Parental Guidance...|\n",
      "|    Airplane Sierra| PG-13|Parents Strongly ...|\n",
      "|    Airport Pollock|     R|          Restricted|\n",
      "|      Alabama Devil| PG-13|Parents Strongly ...|\n",
      "|   Aladdin Calendar| NC-17|         Adults Only|\n",
      "|    Alamo Videotape|     G|   General Audiences|\n",
      "|     Alaska Phantom|    PG|Parental Guidance...|\n",
      "|        Ali Forever|    PG|Parental Guidance...|\n",
      "|     Alice Fantasia| NC-17|         Adults Only|\n",
      "|       Alien Center| NC-17|         Adults Only|\n",
      "|    Alley Evolution| NC-17|         Adults Only|\n",
      "|         Alone Trip|     R|          Restricted|\n",
      "|      Alter Victory| PG-13|Parents Strongly ...|\n",
      "|       Amadeus Holy|    PG|Parental Guidance...|\n",
      "|Amelie Hellfighters|     R|          Restricted|\n",
      "+-------------------+------+--------------------+\n",
      "only showing top 20 rows\n",
      "\n"
     ]
    }
   ],
   "source": [
    "query = \"\"\"\n",
    "SELECT title,\n",
    "       rating,\n",
    "       CASE rating\n",
    "           WHEN 'G' THEN 'General Audiences'\n",
    "           WHEN 'PG' THEN 'Parental Guidance Suggested'\n",
    "           WHEN 'PG-13' THEN 'Parents Strongly Cautioned'\n",
    "           WHEN 'R' THEN 'Restricted'\n",
    "           WHEN 'NC-17' THEN 'Adults Only'\n",
    "       END rating_description\n",
    "FROM film\n",
    "ORDER BY title;\n",
    "\"\"\"\n",
    "show_query(query)"
   ]
  },
  {
   "cell_type": "code",
   "execution_count": 19,
   "id": "8435518a-1a76-4044-bfb6-d288b1fc5e85",
   "metadata": {},
   "outputs": [
    {
     "name": "stdout",
     "output_type": "stream",
     "text": [
      "+-----------------+---------------------------+--------------------------+----------+-----------+\n",
      "|General_Audiences|Parental_Guidance_Suggested|Parents_Strongly_Cautioned|Restricted|Adults_Only|\n",
      "+-----------------+---------------------------+--------------------------+----------+-----------+\n",
      "|              178|                        194|                       223|       195|        210|\n",
      "+-----------------+---------------------------+--------------------------+----------+-----------+\n",
      "\n"
     ]
    }
   ],
   "source": [
    "query = \"\"\"\n",
    "SELECT\n",
    "       SUM(CASE rating\n",
    "             WHEN 'G' THEN 1 \n",
    "\t\t     ELSE 0 \n",
    "\t\t   END) AS General_Audiences,\n",
    "       SUM(CASE rating\n",
    "             WHEN 'PG' THEN 1 \n",
    "\t\t     ELSE 0 \n",
    "\t\t   END) AS Parental_Guidance_Suggested,\n",
    "       SUM(CASE rating\n",
    "             WHEN 'PG-13' THEN 1 \n",
    "\t\t     ELSE 0 \n",
    "\t\t   END) AS Parents_Strongly_Cautioned,\n",
    "       SUM(CASE rating\n",
    "             WHEN 'R' THEN 1 \n",
    "\t\t     ELSE 0 \n",
    "\t\t   END) AS Restricted,\n",
    "       SUM(CASE rating\n",
    "             WHEN 'NC-17' THEN 1 \n",
    "\t\t     ELSE 0 \n",
    "\t\t   END) AS Adults_Only\n",
    "FROM film;\n",
    "\"\"\"\n",
    "show_query(query)"
   ]
  },
  {
   "cell_type": "markdown",
   "id": "5b6a36b1-21a8-4852-a7ac-c555479406f6",
   "metadata": {},
   "source": [
    "# COALESCE"
   ]
  },
  {
   "cell_type": "code",
   "execution_count": 20,
   "id": "2a38907b-148b-45ea-bf7f-24ab16bed888",
   "metadata": {},
   "outputs": [
    {
     "name": "stdout",
     "output_type": "stream",
     "text": [
      "+--------------+\n",
      "|coalesce(1, 2)|\n",
      "+--------------+\n",
      "|             1|\n",
      "+--------------+\n",
      "\n"
     ]
    }
   ],
   "source": [
    "query = \"\"\"SELECT\n",
    "\tCOALESCE (1, 2);\"\"\"\n",
    "show_query(query)"
   ]
  },
  {
   "cell_type": "code",
   "execution_count": 21,
   "id": "bd1f0f60-307c-47bf-bfbb-e69e1908a06a",
   "metadata": {},
   "outputs": [
    {
     "name": "stdout",
     "output_type": "stream",
     "text": [
      "+--------------------+\n",
      "|coalesce(NULL, 2, 1)|\n",
      "+--------------------+\n",
      "|                   2|\n",
      "+--------------------+\n",
      "\n"
     ]
    }
   ],
   "source": [
    "query = \"\"\"SELECT\n",
    "\tCOALESCE (NULL, 2 , 1);\"\"\"\n",
    "show_query(query)"
   ]
  },
  {
   "cell_type": "markdown",
   "id": "77d0e4a0-a42e-4b86-ac8a-f653730aa94d",
   "metadata": {},
   "source": [
    "# IFNULL"
   ]
  },
  {
   "cell_type": "code",
   "execution_count": 26,
   "id": "44ac2ae0-9d37-4eca-b431-e71d0547b9d8",
   "metadata": {},
   "outputs": [
    {
     "name": "stdout",
     "output_type": "stream",
     "text": [
      "+----------------------+\n",
      "|ifnull(NULL, array(2))|\n",
      "+----------------------+\n",
      "|                   [2]|\n",
      "+----------------------+\n",
      "\n"
     ]
    }
   ],
   "source": [
    "query = \"\"\"SELECT IFNULL(NULL, array('2'));\"\"\"\n",
    "show_query(query)"
   ]
  },
  {
   "cell_type": "code",
   "execution_count": 34,
   "id": "5ed9b203-fe78-4470-beb8-76d77f7b713c",
   "metadata": {},
   "outputs": [
    {
     "name": "stdout",
     "output_type": "stream",
     "text": [
      "+------------+\n",
      "|ifnull(1, 2)|\n",
      "+------------+\n",
      "|           1|\n",
      "+------------+\n",
      "\n"
     ]
    }
   ],
   "source": [
    "query = \"\"\"SELECT IFNULL(1, 2);\"\"\"\n",
    "show_query(query)"
   ]
  },
  {
   "cell_type": "markdown",
   "id": "b518e8bc-6e9d-4513-94b6-52058bfc345f",
   "metadata": {},
   "source": [
    "# NULLIF"
   ]
  },
  {
   "cell_type": "code",
   "execution_count": 32,
   "id": "577f4db7-f8e9-4cc0-9c75-0b3e80d27d2a",
   "metadata": {},
   "outputs": [
    {
     "name": "stdout",
     "output_type": "stream",
     "text": [
      "+------------+\n",
      "|nullif(2, 2)|\n",
      "+------------+\n",
      "|        null|\n",
      "+------------+\n",
      "\n"
     ]
    }
   ],
   "source": [
    "query = \"\"\"SELECT nullif(2, 2);\"\"\"\n",
    "show_query(query)"
   ]
  },
  {
   "cell_type": "code",
   "execution_count": 35,
   "id": "21be39e4-47c4-4bdc-add8-f2755c265c36",
   "metadata": {},
   "outputs": [
    {
     "name": "stdout",
     "output_type": "stream",
     "text": [
      "+------------+\n",
      "|nullif(3, 2)|\n",
      "+------------+\n",
      "|           3|\n",
      "+------------+\n",
      "\n"
     ]
    }
   ],
   "source": [
    "query = \"\"\"SELECT nullif(3, 2);\"\"\"\n",
    "show_query(query)"
   ]
  },
  {
   "cell_type": "markdown",
   "id": "2d421d0e-c50b-40fe-b555-844eb8dbbeda",
   "metadata": {},
   "source": [
    "# CAST"
   ]
  },
  {
   "cell_type": "code",
   "execution_count": 29,
   "id": "b4d904f4-ba41-498a-b95c-d49fecc0d543",
   "metadata": {},
   "outputs": [
    {
     "name": "stdout",
     "output_type": "stream",
     "text": [
      "+---------+-------------------+------------------------+\n",
      "|rental_id|rental_date_as_date|rental_date_as_timestamp|\n",
      "+---------+-------------------+------------------------+\n",
      "|        2|         2005-05-24|     2005-05-24 22:54:33|\n",
      "|        3|         2005-05-24|     2005-05-24 23:03:39|\n",
      "|        4|         2005-05-24|     2005-05-24 23:04:41|\n",
      "|        5|         2005-05-24|     2005-05-24 23:05:21|\n",
      "|        6|         2005-05-24|     2005-05-24 23:08:07|\n",
      "|        7|         2005-05-24|     2005-05-24 23:11:53|\n",
      "|        8|         2005-05-24|     2005-05-24 23:31:46|\n",
      "|        9|         2005-05-25|     2005-05-25 00:00:40|\n",
      "|       10|         2005-05-25|     2005-05-25 00:02:21|\n",
      "|       11|         2005-05-25|     2005-05-25 00:09:02|\n",
      "|       12|         2005-05-25|     2005-05-25 00:19:27|\n",
      "|       13|         2005-05-25|     2005-05-25 00:22:55|\n",
      "|       14|         2005-05-25|     2005-05-25 00:31:15|\n",
      "|       15|         2005-05-25|     2005-05-25 00:39:22|\n",
      "|       16|         2005-05-25|     2005-05-25 00:43:11|\n",
      "|       17|         2005-05-25|     2005-05-25 01:06:36|\n",
      "|       18|         2005-05-25|     2005-05-25 01:10:47|\n",
      "|       19|         2005-05-25|     2005-05-25 01:17:24|\n",
      "|       20|         2005-05-25|     2005-05-25 01:48:41|\n",
      "|       21|         2005-05-25|     2005-05-25 01:59:46|\n",
      "+---------+-------------------+------------------------+\n",
      "only showing top 20 rows\n",
      "\n"
     ]
    }
   ],
   "source": [
    "query = \"\"\"SELECT rental_id,\n",
    "                  CAST(rental_date AS DATE) AS rental_date_as_date,\n",
    "                  CAST(rental_date AS TIMESTAMP) AS rental_date_as_timestamp\n",
    "                  FROM rental\"\"\"\n",
    "show_query(query)"
   ]
  },
  {
   "cell_type": "markdown",
   "id": "94ba9092-44ec-41e2-b708-134ccb7c11ad",
   "metadata": {},
   "source": [
    "# Exercise: redo all the above with PysparkSQL API"
   ]
  },
  {
   "cell_type": "code",
   "execution_count": null,
   "id": "e5cc67a9-bde5-46f5-98f0-3f139629e550",
   "metadata": {},
   "outputs": [],
   "source": []
  }
 ],
 "metadata": {
  "kernelspec": {
   "display_name": "Python 3 (ipykernel)",
   "language": "python",
   "name": "python3"
  },
  "language_info": {
   "codemirror_mode": {
    "name": "ipython",
    "version": 3
   },
   "file_extension": ".py",
   "mimetype": "text/x-python",
   "name": "python",
   "nbconvert_exporter": "python",
   "pygments_lexer": "ipython3",
   "version": "3.11.6"
  }
 },
 "nbformat": 4,
 "nbformat_minor": 5
}
