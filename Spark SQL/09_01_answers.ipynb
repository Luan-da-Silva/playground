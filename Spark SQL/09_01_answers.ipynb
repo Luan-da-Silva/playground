{
 "cells": [
  {
   "cell_type": "code",
   "execution_count": 1,
   "id": "43c5459c-b251-4bca-80d7-57da8f507abc",
   "metadata": {},
   "outputs": [],
   "source": [
    "from db_tools.setup import setup"
   ]
  },
  {
   "cell_type": "code",
   "execution_count": 2,
   "id": "b7403558-0795-4010-a493-41df75c31457",
   "metadata": {},
   "outputs": [],
   "source": [
    "from pyspark.sql import functions as F\n",
    "from pyspark.sql.types import StructType,StructField, StringType, IntegerType"
   ]
  },
  {
   "cell_type": "code",
   "execution_count": 3,
   "id": "3735b431-3ff1-4e20-a053-da8536f5449c",
   "metadata": {},
   "outputs": [
    {
     "name": "stderr",
     "output_type": "stream",
     "text": [
      "23/12/30 00:12:00 WARN Utils: Your hostname, luan-Dell-G15-5520 resolves to a loopback address: 127.0.1.1; using 192.168.1.12 instead (on interface wlp0s20f3)\n",
      "23/12/30 00:12:00 WARN Utils: Set SPARK_LOCAL_IP if you need to bind to another address\n",
      "23/12/30 00:12:01 WARN NativeCodeLoader: Unable to load native-hadoop library for your platform... using builtin-java classes where applicable\n",
      "Setting default log level to \"WARN\".\n",
      "To adjust logging level use sc.setLogLevel(newLevel). For SparkR, use setLogLevel(newLevel).\n"
     ]
    },
    {
     "name": "stdout",
     "output_type": "stream",
     "text": [
      "SparkSession available as \"spark\"\n"
     ]
    }
   ],
   "source": [
    "spark = setup()"
   ]
  },
  {
   "cell_type": "code",
   "execution_count": 4,
   "id": "29bc4924-4f9c-44ba-902b-a3c5b365f06a",
   "metadata": {},
   "outputs": [],
   "source": [
    "def show_query(query,SparkSession = spark,n = 20):\n",
    "    return SparkSession.sql(query).show()"
   ]
  },
  {
   "cell_type": "code",
   "execution_count": 15,
   "id": "25adfd1d-8760-4b5f-bfb3-177a606585d6",
   "metadata": {},
   "outputs": [],
   "source": [
    "brand_schema = StructType([ \\\n",
    "    StructField(\"brand\",StringType(),True), \\\n",
    "    StructField(\"segment\",StringType(),True), \\\n",
    "    StructField(\"quantity\",StringType(),True)\n",
    "  ])\n",
    "brands =   [('ABC','Premium',100),\n",
    "            ('ABC','Basic',200),\n",
    "            ('XYZ','Premium',100),\n",
    "            ('XYZ','Basic',300)]\n",
    "columns = ['brand','segment','quantity']\n",
    "rdd = spark.sparkContext.parallelize(brands)\n",
    "spark.createDataFrame(rdd, schema = brand_schema).createOrReplaceTempView('sales')"
   ]
  },
  {
   "cell_type": "code",
   "execution_count": 17,
   "id": "a4124f50-7bcc-44f9-8728-8066c8f51e14",
   "metadata": {},
   "outputs": [
    {
     "name": "stdout",
     "output_type": "stream",
     "text": [
      "+-----+-------+--------+\n",
      "|brand|segment|quantity|\n",
      "+-----+-------+--------+\n",
      "|  ABC|Premium|     100|\n",
      "|  ABC|  Basic|     200|\n",
      "|  XYZ|Premium|     100|\n",
      "|  XYZ|  Basic|     300|\n",
      "+-----+-------+--------+\n",
      "\n"
     ]
    }
   ],
   "source": [
    "df = spark.sql(\"SELECT * FROM sales;\")\n",
    "df.show()"
   ]
  },
  {
   "cell_type": "markdown",
   "id": "ab1de243-f549-490c-abef-73415c4278e7",
   "metadata": {},
   "source": [
    "# ROLLUP with pyspark API"
   ]
  },
  {
   "cell_type": "code",
   "execution_count": 18,
   "id": "4378a1e8-b9dc-4cd5-b409-3d180db1b1a3",
   "metadata": {},
   "outputs": [
    {
     "name": "stdout",
     "output_type": "stream",
     "text": [
      "+-----+-------+-------------+\n",
      "|brand|segment|sum(quantity)|\n",
      "+-----+-------+-------------+\n",
      "| null|   null|        700.0|\n",
      "|  ABC|   null|        300.0|\n",
      "|  ABC|  Basic|        200.0|\n",
      "|  ABC|Premium|        100.0|\n",
      "|  XYZ|   null|        400.0|\n",
      "|  XYZ|  Basic|        300.0|\n",
      "|  XYZ|Premium|        100.0|\n",
      "+-----+-------+-------------+\n",
      "\n"
     ]
    }
   ],
   "source": [
    "df.select(['brand','segment','quantity']).\\\n",
    "rollup(['brand','segment']).\\\n",
    "agg({'quantity':'sum'}).\\\n",
    "orderBy(['brand','segment']).show()"
   ]
  },
  {
   "cell_type": "code",
   "execution_count": 19,
   "id": "30cd8d5c-37e0-45b6-a9ef-75bab039279f",
   "metadata": {},
   "outputs": [
    {
     "name": "stdout",
     "output_type": "stream",
     "text": [
      "+-------+-----+-------------+\n",
      "|segment|brand|sum(quantity)|\n",
      "+-------+-----+-------------+\n",
      "|   null| null|        700.0|\n",
      "|  Basic| null|        500.0|\n",
      "|Premium| null|        200.0|\n",
      "|  Basic|  ABC|        200.0|\n",
      "|Premium|  ABC|        100.0|\n",
      "|  Basic|  XYZ|        300.0|\n",
      "|Premium|  XYZ|        100.0|\n",
      "+-------+-----+-------------+\n",
      "\n"
     ]
    }
   ],
   "source": [
    "df.select(['brand','segment','quantity']).\\\n",
    "rollup(['segment','brand']).\\\n",
    "agg({'quantity':'sum'}).\\\n",
    "orderBy(['brand','segment']).show()"
   ]
  },
  {
   "cell_type": "code",
   "execution_count": 41,
   "id": "d0974f56-3a05-40db-857f-540cb696a72a",
   "metadata": {},
   "outputs": [
    {
     "name": "stdout",
     "output_type": "stream",
     "text": [
      "+-------+-----+-------------+\n",
      "|segment|brand|sum(quantity)|\n",
      "+-------+-----+-------------+\n",
      "|  Basic| null|        500.0|\n",
      "|Premium| null|        200.0|\n",
      "|  Basic|  ABC|        200.0|\n",
      "|Premium|  ABC|        100.0|\n",
      "|  Basic|  XYZ|        300.0|\n",
      "|Premium|  XYZ|        100.0|\n",
      "+-------+-----+-------------+\n",
      "\n"
     ]
    }
   ],
   "source": [
    "df.select(['brand','segment','quantity']).\\\n",
    "rollup(['segment','brand']).\\\n",
    "agg({'quantity':'sum'}).\\\n",
    "dropna(subset = 'segment').orderBy(['brand','segment']).show()"
   ]
  },
  {
   "cell_type": "code",
   "execution_count": 23,
   "id": "4474f444-738d-4b49-8ea5-853c23e9fc37",
   "metadata": {},
   "outputs": [
    {
     "data": {
      "text/plain": [
       "['brand', 'segment', 'quantity']"
      ]
     },
     "execution_count": 23,
     "metadata": {},
     "output_type": "execute_result"
    }
   ],
   "source": [
    "query = '''\n",
    "SELECT\n",
    "    EXTRACT (YEAR FROM rental_date) AS y,\n",
    "    EXTRACT (MONTH FROM rental_date) AS M,\n",
    "    EXTRACT (DAY FROM rental_date) AS d,\n",
    "    COUNT (rental_id)\n",
    "FROM\n",
    "    rental\n",
    "GROUP BY\n",
    "    ROLLUP (\n",
    "        EXTRACT (YEAR FROM rental_date),\n",
    "        EXTRACT (MONTH FROM rental_date),\n",
    "        EXTRACT (DAY FROM rental_date)\n",
    "    );\n",
    "\n",
    "'''\n",
    "show_query(query)"
   ]
  },
  {
   "cell_type": "code",
   "execution_count": 33,
   "id": "6c8ab580-c93b-4c53-89ac-480c1afc3113",
   "metadata": {},
   "outputs": [
    {
     "name": "stdout",
     "output_type": "stream",
     "text": [
      "+----+----+----+----------------+\n",
      "|   y|   M|   d|count(rental_id)|\n",
      "+----+----+----+----------------+\n",
      "|2005|   5| 148|             196|\n",
      "|null|null|null|           16044|\n",
      "|2005|   6| 169|             344|\n",
      "|2005|   7| 193|             495|\n",
      "|2005|   8| 231|             628|\n",
      "|2005|   5| 147|             166|\n",
      "|2005|   6| 167|             324|\n",
      "|2005|   7| 186|              27|\n",
      "|2005|   6| 172|             275|\n",
      "|2005|   8| 233|             659|\n",
      "|2005|   7| 190|             513|\n",
      "|2005|   7| 188|             461|\n",
      "|2005|   7| 192|             461|\n",
      "|2005|   7| 210|             641|\n",
      "|2005|   7| 207|              33|\n",
      "|2005|   7| 208|             649|\n",
      "|2005|   8| 214|             643|\n",
      "|2005|   8| 228|              23|\n",
      "|2005|   7| 212|             679|\n",
      "|2005|   8|null|            5686|\n",
      "+----+----+----+----------------+\n",
      "only showing top 20 rows\n",
      "\n"
     ]
    }
   ],
   "source": [
    "spark.sql('SELECT * FROM rental').select(\n",
    "          F.year(F.col('rental_date')).alias('y'),\n",
    "          F.month(F.col('rental_date')).alias('M'),\n",
    "          F.dayofyear(F.col('rental_date')).alias('d'),\n",
    "          F.col('rental_id')\n",
    "        ).rollup(['y','M','d']).agg({'rental_id':'count'}).show()\n"
   ]
  },
  {
   "cell_type": "markdown",
   "id": "d1abbc37-3caf-41c1-9286-fbbb5ebdb65a",
   "metadata": {},
   "source": [
    "# CUBE"
   ]
  },
  {
   "cell_type": "code",
   "execution_count": 37,
   "id": "6e874cf5-1a56-4c86-be19-0071d4067332",
   "metadata": {},
   "outputs": [
    {
     "name": "stdout",
     "output_type": "stream",
     "text": [
      "+-----+-------+-------------+\n",
      "|brand|segment|sum(quantity)|\n",
      "+-----+-------+-------------+\n",
      "| null|   null|        700.0|\n",
      "| null|  Basic|        500.0|\n",
      "| null|Premium|        200.0|\n",
      "|  ABC|   null|        300.0|\n",
      "|  ABC|  Basic|        200.0|\n",
      "|  ABC|Premium|        100.0|\n",
      "|  XYZ|   null|        400.0|\n",
      "|  XYZ|  Basic|        300.0|\n",
      "|  XYZ|Premium|        100.0|\n",
      "+-----+-------+-------------+\n",
      "\n"
     ]
    }
   ],
   "source": [
    "df.select(*['brand','segment','quantity'])\\\n",
    ".cube(['brand','segment'])\\\n",
    ".agg({'quantity':'sum'})\\\n",
    ".orderBy(['brand','segment']).show()"
   ]
  },
  {
   "cell_type": "markdown",
   "id": "b6874142-4aad-4131-9f6a-4be056556d0d",
   "metadata": {},
   "source": [
    "# Partial cube"
   ]
  },
  {
   "cell_type": "code",
   "execution_count": 42,
   "id": "26e1b876-67f7-4a53-b941-b1abb16202fa",
   "metadata": {},
   "outputs": [
    {
     "name": "stdout",
     "output_type": "stream",
     "text": [
      "+-----+-------+-------------+\n",
      "|brand|segment|sum(quantity)|\n",
      "+-----+-------+-------------+\n",
      "|  ABC|   null|        300.0|\n",
      "|  ABC|  Basic|        200.0|\n",
      "|  ABC|Premium|        100.0|\n",
      "|  XYZ|   null|        400.0|\n",
      "|  XYZ|  Basic|        300.0|\n",
      "|  XYZ|Premium|        100.0|\n",
      "+-----+-------+-------------+\n",
      "\n"
     ]
    }
   ],
   "source": [
    "df.select(*['brand','segment','quantity'])\\\n",
    ".cube(['brand','segment'])\\\n",
    ".agg({'quantity':'sum'})\\\n",
    ".dropna(subset = 'brand').orderBy(['brand','segment']).show()"
   ]
  }
 ],
 "metadata": {
  "kernelspec": {
   "display_name": "Python 3 (ipykernel)",
   "language": "python",
   "name": "python3"
  },
  "language_info": {
   "codemirror_mode": {
    "name": "ipython",
    "version": 3
   },
   "file_extension": ".py",
   "mimetype": "text/x-python",
   "name": "python",
   "nbconvert_exporter": "python",
   "pygments_lexer": "ipython3",
   "version": "3.11.6"
  }
 },
 "nbformat": 4,
 "nbformat_minor": 5
}
