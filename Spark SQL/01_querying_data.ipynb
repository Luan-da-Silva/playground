{
 "cells": [
  {
   "cell_type": "markdown",
   "metadata": {},
   "source": [
    "# Connecting to the database"
   ]
  },
  {
   "cell_type": "markdown",
   "metadata": {},
   "source": [
    "### OBS: you must have the container with dvdrental available and connected via network or equivalent"
   ]
  },
  {
   "cell_type": "code",
   "execution_count": 1,
   "metadata": {},
   "outputs": [],
   "source": [
    "from db_tools.setup import setup"
   ]
  },
  {
   "cell_type": "markdown",
   "metadata": {},
   "source": [
    "### Getting a SparkSession "
   ]
  },
  {
   "cell_type": "code",
   "execution_count": 2,
   "metadata": {},
   "outputs": [
    {
     "name": "stderr",
     "output_type": "stream",
     "text": [
      "23/10/21 15:04:33 WARN Utils: Your hostname, luan-Dell-G15-5520 resolves to a loopback address: 127.0.1.1; using 192.168.1.10 instead (on interface wlp0s20f3)\n",
      "23/10/21 15:04:33 WARN Utils: Set SPARK_LOCAL_IP if you need to bind to another address\n",
      "23/10/21 15:04:33 WARN NativeCodeLoader: Unable to load native-hadoop library for your platform... using builtin-java classes where applicable\n",
      "Setting default log level to \"WARN\".\n",
      "To adjust logging level use sc.setLogLevel(newLevel). For SparkR, use setLogLevel(newLevel).\n"
     ]
    },
    {
     "name": "stdout",
     "output_type": "stream",
     "text": [
      "SparkSession available as \"spark\"\n"
     ]
    }
   ],
   "source": [
    "spark = setup()"
   ]
  },
  {
   "cell_type": "code",
   "execution_count": 9,
   "metadata": {},
   "outputs": [],
   "source": [
    "def show_query(query,SparkSession = spark,n = 20):\n",
    "    return SparkSession.sql(query).show()"
   ]
  },
  {
   "cell_type": "markdown",
   "metadata": {},
   "source": [
    "# Section 1. Querying Data.\n",
    "### To check the ERD of DVD rental database, please check the support_material folder"
   ]
  },
  {
   "cell_type": "markdown",
   "metadata": {},
   "source": [
    "## Example 1: getting customer first name, last name and email from the database"
   ]
  },
  {
   "cell_type": "code",
   "execution_count": 13,
   "metadata": {},
   "outputs": [],
   "source": [
    "query1 = \"\"\"SELECT\n",
    "               first_name,\n",
    "               last_name,\n",
    "               email\n",
    "            FROM\n",
    "           customer;\"\"\""
   ]
  },
  {
   "cell_type": "code",
   "execution_count": 14,
   "metadata": {},
   "outputs": [
    {
     "name": "stdout",
     "output_type": "stream",
     "text": [
      "+----------+---------+--------------------+\n",
      "|first_name|last_name|               email|\n",
      "+----------+---------+--------------------+\n",
      "|     Jared|      Ely|jared.ely@sakilac...|\n",
      "|      Mary|    Smith|mary.smith@sakila...|\n",
      "|  Patricia|  Johnson|patricia.johnson@...|\n",
      "|     Linda| Williams|linda.williams@sa...|\n",
      "|   Barbara|    Jones|barbara.jones@sak...|\n",
      "| Elizabeth|    Brown|elizabeth.brown@s...|\n",
      "|  Jennifer|    Davis|jennifer.davis@sa...|\n",
      "|     Maria|   Miller|maria.miller@saki...|\n",
      "|     Susan|   Wilson|susan.wilson@saki...|\n",
      "|  Margaret|    Moore|margaret.moore@sa...|\n",
      "|   Dorothy|   Taylor|dorothy.taylor@sa...|\n",
      "|      Lisa| Anderson|lisa.anderson@sak...|\n",
      "|     Nancy|   Thomas|nancy.thomas@saki...|\n",
      "|     Karen|  Jackson|karen.jackson@sak...|\n",
      "|     Betty|    White|betty.white@sakil...|\n",
      "|     Helen|   Harris|helen.harris@saki...|\n",
      "|    Sandra|   Martin|sandra.martin@sak...|\n",
      "|     Donna| Thompson|donna.thompson@sa...|\n",
      "|     Carol|   Garcia|carol.garcia@saki...|\n",
      "|      Ruth| Martinez|ruth.martinez@sak...|\n",
      "+----------+---------+--------------------+\n",
      "only showing top 20 rows\n",
      "\n"
     ]
    }
   ],
   "source": [
    "show_query(query1)"
   ]
  },
  {
   "cell_type": "markdown",
   "metadata": {},
   "source": [
    "## Example 2: getting customer full name and email from the database. Note the columns!"
   ]
  },
  {
   "cell_type": "code",
   "execution_count": 17,
   "metadata": {},
   "outputs": [],
   "source": [
    "query2 = \"\"\"SELECT\n",
    "               first_name ||' '|| last_name,\n",
    "               email\n",
    "            FROM\n",
    "           customer;\"\"\""
   ]
  },
  {
   "cell_type": "code",
   "execution_count": 16,
   "metadata": {},
   "outputs": [
    {
     "name": "stdout",
     "output_type": "stream",
     "text": [
      "+----------------------------------------+--------------------+\n",
      "|concat(concat(first_name,  ), last_name)|               email|\n",
      "+----------------------------------------+--------------------+\n",
      "|                               Jared Ely|jared.ely@sakilac...|\n",
      "|                              Mary Smith|mary.smith@sakila...|\n",
      "|                        Patricia Johnson|patricia.johnson@...|\n",
      "|                          Linda Williams|linda.williams@sa...|\n",
      "|                           Barbara Jones|barbara.jones@sak...|\n",
      "|                         Elizabeth Brown|elizabeth.brown@s...|\n",
      "|                          Jennifer Davis|jennifer.davis@sa...|\n",
      "|                            Maria Miller|maria.miller@saki...|\n",
      "|                            Susan Wilson|susan.wilson@saki...|\n",
      "|                          Margaret Moore|margaret.moore@sa...|\n",
      "|                          Dorothy Taylor|dorothy.taylor@sa...|\n",
      "|                           Lisa Anderson|lisa.anderson@sak...|\n",
      "|                            Nancy Thomas|nancy.thomas@saki...|\n",
      "|                           Karen Jackson|karen.jackson@sak...|\n",
      "|                             Betty White|betty.white@sakil...|\n",
      "|                            Helen Harris|helen.harris@saki...|\n",
      "|                           Sandra Martin|sandra.martin@sak...|\n",
      "|                          Donna Thompson|donna.thompson@sa...|\n",
      "|                            Carol Garcia|carol.garcia@saki...|\n",
      "|                           Ruth Martinez|ruth.martinez@sak...|\n",
      "+----------------------------------------+--------------------+\n",
      "only showing top 20 rows\n",
      "\n"
     ]
    }
   ],
   "source": [
    "show_query(query2)"
   ]
  },
  {
   "cell_type": "markdown",
   "metadata": {},
   "source": [
    "# Example 3: using an alias (AS)"
   ]
  },
  {
   "cell_type": "code",
   "execution_count": 22,
   "metadata": {},
   "outputs": [],
   "source": [
    "query3 = \"\"\"SELECT\n",
    "               first_name ||' '|| last_name AS last_name,\n",
    "               email\n",
    "            FROM\n",
    "           customer;\"\"\""
   ]
  },
  {
   "cell_type": "code",
   "execution_count": 23,
   "metadata": {},
   "outputs": [
    {
     "name": "stdout",
     "output_type": "stream",
     "text": [
      "+----------------+--------------------+\n",
      "|       last_name|               email|\n",
      "+----------------+--------------------+\n",
      "|       Jared Ely|jared.ely@sakilac...|\n",
      "|      Mary Smith|mary.smith@sakila...|\n",
      "|Patricia Johnson|patricia.johnson@...|\n",
      "|  Linda Williams|linda.williams@sa...|\n",
      "|   Barbara Jones|barbara.jones@sak...|\n",
      "| Elizabeth Brown|elizabeth.brown@s...|\n",
      "|  Jennifer Davis|jennifer.davis@sa...|\n",
      "|    Maria Miller|maria.miller@saki...|\n",
      "|    Susan Wilson|susan.wilson@saki...|\n",
      "|  Margaret Moore|margaret.moore@sa...|\n",
      "|  Dorothy Taylor|dorothy.taylor@sa...|\n",
      "|   Lisa Anderson|lisa.anderson@sak...|\n",
      "|    Nancy Thomas|nancy.thomas@saki...|\n",
      "|   Karen Jackson|karen.jackson@sak...|\n",
      "|     Betty White|betty.white@sakil...|\n",
      "|    Helen Harris|helen.harris@saki...|\n",
      "|   Sandra Martin|sandra.martin@sak...|\n",
      "|  Donna Thompson|donna.thompson@sa...|\n",
      "|    Carol Garcia|carol.garcia@saki...|\n",
      "|   Ruth Martinez|ruth.martinez@sak...|\n",
      "+----------------+--------------------+\n",
      "only showing top 20 rows\n",
      "\n"
     ]
    }
   ],
   "source": [
    "show_query(query3)"
   ]
  },
  {
   "cell_type": "markdown",
   "metadata": {},
   "source": [
    "## Extra: SQL works as a calculator"
   ]
  },
  {
   "cell_type": "code",
   "execution_count": 26,
   "metadata": {},
   "outputs": [],
   "source": [
    "query4 = \"\"\"SELECT 10*10 AS RESULT\"\"\""
   ]
  },
  {
   "cell_type": "code",
   "execution_count": 27,
   "metadata": {},
   "outputs": [
    {
     "name": "stdout",
     "output_type": "stream",
     "text": [
      "+------+\n",
      "|RESULT|\n",
      "+------+\n",
      "|   100|\n",
      "+------+\n",
      "\n"
     ]
    }
   ],
   "source": [
    "show_query(query4)"
   ]
  },
  {
   "cell_type": "markdown",
   "metadata": {},
   "source": [
    "## Example 4: ORDERing columns with ORDER BY"
   ]
  },
  {
   "cell_type": "code",
   "execution_count": 47,
   "metadata": {},
   "outputs": [
    {
     "name": "stdout",
     "output_type": "stream",
     "text": [
      "+----------+-----------+\n",
      "|first_name|  last_name|\n",
      "+----------+-----------+\n",
      "|     Aaron|      Selby|\n",
      "|      Adam|      Gooch|\n",
      "|    Adrian|      Clary|\n",
      "|     Agnes|     Bishop|\n",
      "|      Alan|       Kahn|\n",
      "|    Albert|     Crouse|\n",
      "|   Alberto|    Henning|\n",
      "|      Alex|    Gresham|\n",
      "| Alexander|    Fennell|\n",
      "|    Alfred|   Casillas|\n",
      "|   Alfredo|    Mcadams|\n",
      "|     Alice|    Stewart|\n",
      "|    Alicia|      Mills|\n",
      "|     Allan|    Cornish|\n",
      "|     Allen|Butterfield|\n",
      "|   Allison|    Stanley|\n",
      "|      Alma|     Austin|\n",
      "|     Alvin|    Deloach|\n",
      "|    Amanda|     Carter|\n",
      "|     Amber|      Dixon|\n",
      "+----------+-----------+\n",
      "only showing top 20 rows\n",
      "\n"
     ]
    }
   ],
   "source": [
    "show_query(\"\"\"SELECT\n",
    "            \tfirst_name,\n",
    "            \tlast_name\n",
    "              FROM customer\n",
    "              ORDER BY\n",
    "\t          first_name ASC;\"\"\")"
   ]
  },
  {
   "cell_type": "markdown",
   "metadata": {},
   "source": [
    "## Example 5: Ordering the last name descending"
   ]
  },
  {
   "cell_type": "code",
   "execution_count": 50,
   "metadata": {},
   "outputs": [],
   "source": [
    "query5 = '''SELECT first_name,\n",
    "                  last_name\n",
    "           FROM customer\n",
    "           ORDER BY last_name DESC;'''"
   ]
  },
  {
   "cell_type": "code",
   "execution_count": 51,
   "metadata": {},
   "outputs": [
    {
     "name": "stdout",
     "output_type": "stream",
     "text": [
      "+----------+------------+\n",
      "|first_name|   last_name|\n",
      "+----------+------------+\n",
      "|   Cynthia|       Young|\n",
      "|    Marvin|         Yee|\n",
      "|      Luis|       Yanez|\n",
      "|     Brian|       Wyman|\n",
      "|    Brenda|      Wright|\n",
      "|     Tyler|        Wren|\n",
      "|  Florence|       Woods|\n",
      "|      Lori|        Wood|\n",
      "|    Virgil|     Wofford|\n",
      "|    Darren|     Windham|\n",
      "|     Susan|      Wilson|\n",
      "|   Bernice|      Willis|\n",
      "|      Gina|  Williamson|\n",
      "|     Linda|    Williams|\n",
      "|       Jon|       Wiles|\n",
      "|       Roy|     Whiting|\n",
      "|     Betty|       White|\n",
      "|      Lucy|     Wheeler|\n",
      "|      Fred|       Wheat|\n",
      "|  Mitchell|Westmoreland|\n",
      "+----------+------------+\n",
      "only showing top 20 rows\n",
      "\n"
     ]
    }
   ],
   "source": [
    "show_query(query5)"
   ]
  },
  {
   "cell_type": "markdown",
   "metadata": {},
   "source": [
    "# Example 6: Multiple ORDER BY"
   ]
  },
  {
   "cell_type": "code",
   "execution_count": 56,
   "metadata": {},
   "outputs": [],
   "source": [
    "query6= \"\"\"SELECT\n",
    "            \tfirst_name,\n",
    "            \tlast_name\n",
    "           FROM customer\n",
    "           ORDER BY\n",
    "           first_name ASC,\n",
    "           last_name DESC;\n",
    "        \"\"\""
   ]
  },
  {
   "cell_type": "code",
   "execution_count": 57,
   "metadata": {},
   "outputs": [
    {
     "name": "stdout",
     "output_type": "stream",
     "text": [
      "+----------+-----------+\n",
      "|first_name|  last_name|\n",
      "+----------+-----------+\n",
      "|     Aaron|      Selby|\n",
      "|      Adam|      Gooch|\n",
      "|    Adrian|      Clary|\n",
      "|     Agnes|     Bishop|\n",
      "|      Alan|       Kahn|\n",
      "|    Albert|     Crouse|\n",
      "|   Alberto|    Henning|\n",
      "|      Alex|    Gresham|\n",
      "| Alexander|    Fennell|\n",
      "|    Alfred|   Casillas|\n",
      "|   Alfredo|    Mcadams|\n",
      "|     Alice|    Stewart|\n",
      "|    Alicia|      Mills|\n",
      "|     Allan|    Cornish|\n",
      "|     Allen|Butterfield|\n",
      "|   Allison|    Stanley|\n",
      "|      Alma|     Austin|\n",
      "|     Alvin|    Deloach|\n",
      "|    Amanda|     Carter|\n",
      "|     Amber|      Dixon|\n",
      "+----------+-----------+\n",
      "only showing top 20 rows\n",
      "\n"
     ]
    }
   ],
   "source": [
    "show_query(query6)"
   ]
  },
  {
   "cell_type": "markdown",
   "metadata": {},
   "source": [
    "## Example 7: Ordering Names by its length"
   ]
  },
  {
   "cell_type": "code",
   "execution_count": 64,
   "metadata": {},
   "outputs": [
    {
     "name": "stdout",
     "output_type": "stream",
     "text": [
      "+-----------+---------+--------------+\n",
      "| first_name|last_name|first_name_len|\n",
      "+-----------+---------+--------------+\n",
      "|Christopher|    Greco|            11|\n",
      "| Jacqueline|     Long|            10|\n",
      "|  Charlotte|   Hunter|             9|\n",
      "|  Stephanie| Mitchell|             9|\n",
      "|  Christine|  Roberts|             9|\n",
      "|  Catherine| Campbell|             9|\n",
      "|  Katherine|   Rivera|             9|\n",
      "|  Christina|  Ramirez|             9|\n",
      "|  Elizabeth|    Brown|             9|\n",
      "|  Josephine|    Gomez|             9|\n",
      "|  Geraldine|  Perkins|             9|\n",
      "|  Constance|     Reid|             9|\n",
      "|  Gwendolyn|      May|             9|\n",
      "|  Cassandra|  Walters|             9|\n",
      "|  Priscilla|     Lowe|             9|\n",
      "|  Frederick|   Isbell|             9|\n",
      "|  Alexander|  Fennell|             9|\n",
      "|  Francisco| Skidmore|             9|\n",
      "|  Nathaniel|     Adam|             9|\n",
      "|  Christian|     Jung|             9|\n",
      "+-----------+---------+--------------+\n",
      "only showing top 20 rows\n",
      "\n"
     ]
    }
   ],
   "source": [
    "query7 = \"\"\"SELECT \n",
    "                \tfirst_name,\n",
    "                    last_name,\n",
    "                \tLENGTH(first_name) AS first_name_len\n",
    "            FROM customer\n",
    "            ORDER BY first_name_len DESC;\"\"\"\n",
    "show_query(query7)"
   ]
  },
  {
   "cell_type": "markdown",
   "metadata": {},
   "source": [
    "## Obs: according with your needs, you can select the nulls order of appearance by using NULLS LAST or NULLS FIRST"
   ]
  },
  {
   "cell_type": "markdown",
   "metadata": {},
   "source": [
    "## Example 8: Select Distinct"
   ]
  },
  {
   "cell_type": "code",
   "execution_count": 67,
   "metadata": {},
   "outputs": [],
   "source": [
    "query8 = \"\"\"SELECT DISTINCT last_name FROM customer\"\"\""
   ]
  },
  {
   "cell_type": "code",
   "execution_count": 68,
   "metadata": {},
   "outputs": [
    {
     "name": "stdout",
     "output_type": "stream",
     "text": [
      "+-----------+\n",
      "|  last_name|\n",
      "+-----------+\n",
      "|     Easter|\n",
      "|    Wofford|\n",
      "|    Currier|\n",
      "|   Harrison|\n",
      "|     Porter|\n",
      "|     Wilson|\n",
      "|      Scott|\n",
      "|  Robertson|\n",
      "|     Fraley|\n",
      "|      Slone|\n",
      "|    Malcolm|\n",
      "|    Griffin|\n",
      "|     Castro|\n",
      "|      Lucas|\n",
      "|       Pena|\n",
      "|     Gruber|\n",
      "|     Isbell|\n",
      "|      Lyman|\n",
      "|      Abney|\n",
      "|Christenson|\n",
      "+-----------+\n",
      "only showing top 20 rows\n",
      "\n"
     ]
    }
   ],
   "source": [
    "show_query(query8)"
   ]
  },
  {
   "cell_type": "code",
   "execution_count": null,
   "metadata": {},
   "outputs": [],
   "source": [
    "query9 = \"\"\"SELECT first_name,last_name,regexp_extract(email,r'.*(?=@)',0) AS user_name FROM customer\"\"\""
   ]
  },
  {
   "cell_type": "code",
   "execution_count": null,
   "metadata": {},
   "outputs": [],
   "source": [
    "show_query(query9)"
   ]
  },
  {
   "cell_type": "code",
   "execution_count": null,
   "metadata": {},
   "outputs": [],
   "source": [
    "query10 = \"\"\"SELECT first_name,last_name,regexp_extract(email,r'(?<=@).*',0) AS domain FROM customer\"\"\""
   ]
  },
  {
   "cell_type": "code",
   "execution_count": null,
   "metadata": {},
   "outputs": [],
   "source": [
    "show_query(query10)"
   ]
  },
  {
   "cell_type": "markdown",
   "metadata": {},
   "source": [
    "## Exercises"
   ]
  },
  {
   "cell_type": "markdown",
   "metadata": {},
   "source": [
    "## 1) What is the customer with the greatest last name?"
   ]
  },
  {
   "cell_type": "markdown",
   "metadata": {},
   "source": [
    "## 2) What is the customer with greatest full name?"
   ]
  },
  {
   "cell_type": "markdown",
   "metadata": {},
   "source": [
    "## Challenge: extract the user name, e.g (name.last_name) from the e-mail using _pure_ SQL"
   ]
  },
  {
   "cell_type": "code",
   "execution_count": null,
   "metadata": {},
   "outputs": [],
   "source": []
  }
 ],
 "metadata": {
  "kernelspec": {
   "display_name": "Python 3 (ipykernel)",
   "language": "python",
   "name": "python3"
  },
  "language_info": {
   "codemirror_mode": {
    "name": "ipython",
    "version": 3
   },
   "file_extension": ".py",
   "mimetype": "text/x-python",
   "name": "python",
   "nbconvert_exporter": "python",
   "pygments_lexer": "ipython3",
   "version": "3.11.6"
  }
 },
 "nbformat": 4,
 "nbformat_minor": 4
}
