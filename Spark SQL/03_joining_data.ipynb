{
 "cells": [
  {
   "cell_type": "code",
   "execution_count": 2,
   "id": "5a5ccb84-f418-4bf1-877f-193b4ccc0c18",
   "metadata": {},
   "outputs": [],
   "source": [
    "from IPython.display import Image\n",
    "from IPython.core.display import HTML"
   ]
  },
  {
   "cell_type": "markdown",
   "id": "b8aacf6b-bb43-4cdf-81e6-78b9b1542797",
   "metadata": {},
   "source": [
    "# Connecting to the database"
   ]
  },
  {
   "cell_type": "code",
   "execution_count": 3,
   "id": "c70ba8e6-0428-4d1b-a052-8d88ca841274",
   "metadata": {},
   "outputs": [],
   "source": [
    "from db_tools.setup import setup\n",
    "from pyspark.sql.types import StructType,StructField, StringType, IntegerType"
   ]
  },
  {
   "cell_type": "code",
   "execution_count": 4,
   "id": "e597c1e9-bf56-4a54-abd8-3035b0a7f32d",
   "metadata": {},
   "outputs": [
    {
     "name": "stderr",
     "output_type": "stream",
     "text": [
      "23/10/24 23:23:29 WARN Utils: Your hostname, luan-Dell-G15-5520 resolves to a loopback address: 127.0.1.1; using 192.168.1.12 instead (on interface wlp0s20f3)\n",
      "23/10/24 23:23:29 WARN Utils: Set SPARK_LOCAL_IP if you need to bind to another address\n",
      "23/10/24 23:23:30 WARN NativeCodeLoader: Unable to load native-hadoop library for your platform... using builtin-java classes where applicable\n",
      "Setting default log level to \"WARN\".\n",
      "To adjust logging level use sc.setLogLevel(newLevel). For SparkR, use setLogLevel(newLevel).\n"
     ]
    },
    {
     "name": "stdout",
     "output_type": "stream",
     "text": [
      "SparkSession available as \"spark\"\n"
     ]
    }
   ],
   "source": [
    "spark = setup()"
   ]
  },
  {
   "cell_type": "code",
   "execution_count": 5,
   "id": "e0b15597-2c72-4453-988e-1fcca1d92cc1",
   "metadata": {},
   "outputs": [],
   "source": [
    "def show_query(query,SparkSession = spark,n = 20):\n",
    "    return SparkSession.sql(query).show()"
   ]
  },
  {
   "cell_type": "markdown",
   "id": "afa425ae-87e6-44ed-8e7e-4195dbf360f1",
   "metadata": {},
   "source": [
    "# Tip 1: Alias is your friends (AS is Good practice)"
   ]
  },
  {
   "cell_type": "code",
   "execution_count": 6,
   "id": "894383b9-deeb-4f6f-9a72-6216ecec16bf",
   "metadata": {},
   "outputs": [],
   "source": [
    "query = \"\"\"SELECT\n",
    "\tc.customer_id,\n",
    "\tfirst_name,\n",
    "\tamount,\n",
    "\tpayment_date\n",
    "FROM\n",
    "\tcustomer AS c\n",
    "INNER JOIN payment AS p \n",
    "    ON p.customer_id = c.customer_id\n",
    "ORDER BY\n",
    "    payment_date DESC;\"\"\""
   ]
  },
  {
   "cell_type": "code",
   "execution_count": 7,
   "id": "49620bde-3d50-4dca-adc6-8b73c0f27cea",
   "metadata": {},
   "outputs": [
    {
     "name": "stdout",
     "output_type": "stream",
     "text": [
      "+-----------+----------+------+--------------------+\n",
      "|customer_id|first_name|amount|        payment_date|\n",
      "+-----------+----------+------+--------------------+\n",
      "|         28|   Cynthia|  2.99|2007-05-14 13:44:...|\n",
      "|        111|    Carmen|  2.99|2007-05-14 13:44:...|\n",
      "|        497|   Gilbert|  4.99|2007-05-14 13:44:...|\n",
      "|        496|     Tyler|  2.99|2007-05-14 13:44:...|\n",
      "|        596|   Enrique|  0.99|2007-05-14 13:44:...|\n",
      "|        516|     Elmer|  0.00|2007-05-14 13:44:...|\n",
      "|        300|      John|  4.99|2007-05-14 13:44:...|\n",
      "|         53|   Heather|  7.98|2007-05-14 13:44:...|\n",
      "|        412|     Allen|  0.99|2007-05-14 13:44:...|\n",
      "|        296|    Ramona|  2.99|2007-05-14 13:44:...|\n",
      "|        587|    Sergio|  0.99|2007-05-14 13:44:...|\n",
      "|        115|     Wendy|  2.99|2007-05-14 13:44:...|\n",
      "|         44|     Marie|  4.99|2007-05-14 13:44:...|\n",
      "|        597|   Freddie|  4.99|2007-05-14 13:44:...|\n",
      "|        192|    Laurie|  4.99|2007-05-14 13:44:...|\n",
      "|        155|      Gail|  7.98|2007-05-14 13:44:...|\n",
      "|        236|    Marcia|  0.99|2007-05-14 13:44:...|\n",
      "|        530|    Darryl|  2.99|2007-05-14 13:44:...|\n",
      "|        336|    Joshua|  0.99|2007-05-14 13:44:...|\n",
      "|        211|    Stacey|  4.99|2007-05-14 13:44:...|\n",
      "+-----------+----------+------+--------------------+\n",
      "only showing top 20 rows\n",
      "\n"
     ]
    }
   ],
   "source": [
    "show_query(query)"
   ]
  },
  {
   "cell_type": "markdown",
   "id": "90b729c2-2b2b-4406-8214-2e7ac970fe1b",
   "metadata": {},
   "source": [
    "# Alias in SELF join are mandatory"
   ]
  },
  {
   "cell_type": "markdown",
   "id": "ca706204-8348-41aa-ab12-2dfd795bea36",
   "metadata": {},
   "source": [
    "```\n",
    "SELECT\n",
    "    e.first_name employee,\n",
    "    m .first_name manager\n",
    "FROM\n",
    "    employee e\n",
    "INNER JOIN employee m \n",
    "    ON m.employee_id = e.manager_id\n",
    "ORDER BY manager;\n",
    "```"
   ]
  },
  {
   "cell_type": "markdown",
   "id": "5b4981ea-95c5-4cbe-b8a8-5c2e0edb5c5b",
   "metadata": {},
   "source": [
    "# JOINS - Overview"
   ]
  },
  {
   "cell_type": "markdown",
   "id": "3ec54c88-fbb7-4b80-bed8-86023b0a84ec",
   "metadata": {},
   "source": [
    "<center><img width=750 src=\"https://gorilla.bi/wp-content/uploads/2022/10/Join-Types-Cheat-Sheet.png\"/></center>"
   ]
  },
  {
   "cell_type": "markdown",
   "id": "c359d0b5-341d-4a0f-b5b9-19ecc2627513",
   "metadata": {},
   "source": [
    "# Classical JOINs"
   ]
  },
  {
   "cell_type": "markdown",
   "id": "b709ed72-52fc-4c65-a123-43d42a7e0b61",
   "metadata": {},
   "source": [
    "<center><img width=750 src=\"https://archive.is/vagHZ/8a2b050a9297734156662434347f3148285e421c.png\"/></center>"
   ]
  },
  {
   "cell_type": "markdown",
   "id": "00126add-ec81-432a-8d9c-5312b0aa341c",
   "metadata": {},
   "source": [
    "# Other types of join"
   ]
  },
  {
   "cell_type": "markdown",
   "id": "1e87a60d-f9a1-48c0-930d-0b7a4a3f0adb",
   "metadata": {},
   "source": [
    "<center><img width=750 src=\"https://archive.is/vagHZ/88409728af608e2ade8d094abd9b15ac8d40e026.png\"/></center>"
   ]
  },
  {
   "cell_type": "markdown",
   "id": "248426e5-5573-421e-8802-87313cbca800",
   "metadata": {},
   "source": [
    "# INNER JOIN examples"
   ]
  },
  {
   "cell_type": "markdown",
   "id": "415c8a35-0db8-4bd2-ac6f-62e6abc10df0",
   "metadata": {},
   "source": [
    "## without an ALIAS"
   ]
  },
  {
   "cell_type": "code",
   "execution_count": 8,
   "id": "14458a71-1ce9-49f0-948f-8e1baa24b491",
   "metadata": {},
   "outputs": [],
   "source": [
    "query = \"\"\"\n",
    "SELECT\n",
    "\tcustomer.customer_id,\n",
    "\tfirst_name,\n",
    "\tlast_name,\n",
    "\tamount,\n",
    "\tpayment_date\n",
    "FROM\n",
    "\tcustomer\n",
    "INNER JOIN payment \n",
    "    ON payment.customer_id = customer.customer_id\n",
    "ORDER BY payment_date;\n",
    "\"\"\""
   ]
  },
  {
   "cell_type": "code",
   "execution_count": 9,
   "id": "7f0a0939-8ff6-4127-88fe-c2ffe0a73ac8",
   "metadata": {},
   "outputs": [
    {
     "name": "stdout",
     "output_type": "stream",
     "text": [
      "+-----------+----------+---------+------+--------------------+\n",
      "|customer_id|first_name|last_name|amount|        payment_date|\n",
      "+-----------+----------+---------+------+--------------------+\n",
      "|        416|   Jeffery|   Pinson|  2.99|2007-02-14 21:21:...|\n",
      "|        516|     Elmer|      Noe|  4.99|2007-02-14 21:23:...|\n",
      "|        239|    Minnie|   Romero|  4.99|2007-02-14 21:29:...|\n",
      "|        592|  Terrance|    Roush|  6.99|2007-02-14 21:41:...|\n",
      "|         49|     Joyce|  Edwards|  0.99|2007-02-14 21:44:...|\n",
      "|        264| Gwendolyn|      May|  3.99|2007-02-14 21:44:...|\n",
      "|         46| Catherine| Campbell|  4.99|2007-02-14 21:45:...|\n",
      "|        481|    Herman|   Devore|  2.99|2007-02-14 22:03:...|\n",
      "|        139|     Amber|    Dixon|  2.99|2007-02-14 22:11:...|\n",
      "|        595|  Terrence|Gunderson|  2.99|2007-02-14 22:16:...|\n",
      "|        191|  Jeanette|   Greene|  2.99|2007-02-14 22:23:...|\n",
      "|         95|     Paula|   Bryant|  2.99|2007-02-14 22:41:...|\n",
      "|        197|       Sue|   Peters|  2.99|2007-02-14 22:43:...|\n",
      "|        512|     Cecil|    Vines|  6.99|2007-02-14 22:57:...|\n",
      "|        210|      Ella|   Oliver|  2.99|2007-02-14 23:01:...|\n",
      "|        119|    Sherry| Marshall|  7.99|2007-02-14 23:05:...|\n",
      "|        432|     Edwin|     Burk|  5.99|2007-02-14 23:07:...|\n",
      "|        546|     Kelly|    Knott|  1.99|2007-02-14 23:10:...|\n",
      "|        196|      Alma|   Austin|  5.99|2007-02-14 23:13:...|\n",
      "|          1|      Mary|    Smith|  5.99|2007-02-14 23:22:...|\n",
      "+-----------+----------+---------+------+--------------------+\n",
      "only showing top 20 rows\n",
      "\n"
     ]
    }
   ],
   "source": [
    "show_query(query)"
   ]
  },
  {
   "cell_type": "markdown",
   "id": "6959b47d-b5fe-4867-bdc5-64d5cda555c6",
   "metadata": {},
   "source": [
    "## with alias"
   ]
  },
  {
   "cell_type": "code",
   "execution_count": 10,
   "id": "0a324d1e-1748-4cfb-afb4-e1c25df6f6cc",
   "metadata": {},
   "outputs": [],
   "source": [
    "query = \"\"\"\n",
    "SELECT\n",
    "\tc.customer_id,\n",
    "\tc.first_name customer_first_name,\n",
    "\tc.last_name customer_last_name,\n",
    "\ts.first_name staff_first_name,\n",
    "\ts.last_name staff_last_name,\n",
    "\tamount,\n",
    "\tpayment_date\n",
    "FROM\n",
    "\tcustomer c\n",
    "INNER JOIN payment p \n",
    "    ON p.customer_id = c.customer_id\n",
    "INNER JOIN staff s \n",
    "    ON p.staff_id = s.staff_id\n",
    "ORDER BY payment_date;\n",
    "\"\"\""
   ]
  },
  {
   "cell_type": "code",
   "execution_count": 11,
   "id": "e20d1549-d859-44be-9a24-c70c4aa034da",
   "metadata": {},
   "outputs": [
    {
     "name": "stdout",
     "output_type": "stream",
     "text": [
      "+-----------+-------------------+------------------+----------------+---------------+------+--------------------+\n",
      "|customer_id|customer_first_name|customer_last_name|staff_first_name|staff_last_name|amount|        payment_date|\n",
      "+-----------+-------------------+------------------+----------------+---------------+------+--------------------+\n",
      "|        416|            Jeffery|            Pinson|             Jon|       Stephens|  2.99|2007-02-14 21:21:...|\n",
      "|        516|              Elmer|               Noe|             Jon|       Stephens|  4.99|2007-02-14 21:23:...|\n",
      "|        239|             Minnie|            Romero|            Mike|        Hillyer|  4.99|2007-02-14 21:29:...|\n",
      "|        592|           Terrance|             Roush|             Jon|       Stephens|  6.99|2007-02-14 21:41:...|\n",
      "|         49|              Joyce|           Edwards|            Mike|        Hillyer|  0.99|2007-02-14 21:44:...|\n",
      "|        264|          Gwendolyn|               May|             Jon|       Stephens|  3.99|2007-02-14 21:44:...|\n",
      "|         46|          Catherine|          Campbell|            Mike|        Hillyer|  4.99|2007-02-14 21:45:...|\n",
      "|        481|             Herman|            Devore|             Jon|       Stephens|  2.99|2007-02-14 22:03:...|\n",
      "|        139|              Amber|             Dixon|             Jon|       Stephens|  2.99|2007-02-14 22:11:...|\n",
      "|        595|           Terrence|         Gunderson|             Jon|       Stephens|  2.99|2007-02-14 22:16:...|\n",
      "|        191|           Jeanette|            Greene|             Jon|       Stephens|  2.99|2007-02-14 22:23:...|\n",
      "|         95|              Paula|            Bryant|             Jon|       Stephens|  2.99|2007-02-14 22:41:...|\n",
      "|        197|                Sue|            Peters|             Jon|       Stephens|  2.99|2007-02-14 22:43:...|\n",
      "|        512|              Cecil|             Vines|            Mike|        Hillyer|  6.99|2007-02-14 22:57:...|\n",
      "|        210|               Ella|            Oliver|             Jon|       Stephens|  2.99|2007-02-14 23:01:...|\n",
      "|        119|             Sherry|          Marshall|            Mike|        Hillyer|  7.99|2007-02-14 23:05:...|\n",
      "|        432|              Edwin|              Burk|             Jon|       Stephens|  5.99|2007-02-14 23:07:...|\n",
      "|        546|              Kelly|             Knott|            Mike|        Hillyer|  1.99|2007-02-14 23:10:...|\n",
      "|        196|               Alma|            Austin|            Mike|        Hillyer|  5.99|2007-02-14 23:13:...|\n",
      "|          1|               Mary|             Smith|            Mike|        Hillyer|  5.99|2007-02-14 23:22:...|\n",
      "+-----------+-------------------+------------------+----------------+---------------+------+--------------------+\n",
      "only showing top 20 rows\n",
      "\n"
     ]
    }
   ],
   "source": [
    "show_query(query)"
   ]
  },
  {
   "cell_type": "markdown",
   "id": "266dbc2d-e515-4f28-b544-756e8bc88fb2",
   "metadata": {},
   "source": [
    "## USING clause"
   ]
  },
  {
   "cell_type": "code",
   "execution_count": 12,
   "id": "043ed1d6-6154-45b0-8f66-6c305d9bfb01",
   "metadata": {},
   "outputs": [
    {
     "name": "stdout",
     "output_type": "stream",
     "text": [
      "+-----------+----------+---------+------+--------------------+\n",
      "|customer_id|first_name|last_name|amount|        payment_date|\n",
      "+-----------+----------+---------+------+--------------------+\n",
      "|        416|   Jeffery|   Pinson|  2.99|2007-02-14 21:21:...|\n",
      "|        516|     Elmer|      Noe|  4.99|2007-02-14 21:23:...|\n",
      "|        239|    Minnie|   Romero|  4.99|2007-02-14 21:29:...|\n",
      "|        592|  Terrance|    Roush|  6.99|2007-02-14 21:41:...|\n",
      "|         49|     Joyce|  Edwards|  0.99|2007-02-14 21:44:...|\n",
      "|        264| Gwendolyn|      May|  3.99|2007-02-14 21:44:...|\n",
      "|         46| Catherine| Campbell|  4.99|2007-02-14 21:45:...|\n",
      "|        481|    Herman|   Devore|  2.99|2007-02-14 22:03:...|\n",
      "|        139|     Amber|    Dixon|  2.99|2007-02-14 22:11:...|\n",
      "|        595|  Terrence|Gunderson|  2.99|2007-02-14 22:16:...|\n",
      "|        191|  Jeanette|   Greene|  2.99|2007-02-14 22:23:...|\n",
      "|         95|     Paula|   Bryant|  2.99|2007-02-14 22:41:...|\n",
      "|        197|       Sue|   Peters|  2.99|2007-02-14 22:43:...|\n",
      "|        512|     Cecil|    Vines|  6.99|2007-02-14 22:57:...|\n",
      "|        210|      Ella|   Oliver|  2.99|2007-02-14 23:01:...|\n",
      "|        119|    Sherry| Marshall|  7.99|2007-02-14 23:05:...|\n",
      "|        432|     Edwin|     Burk|  5.99|2007-02-14 23:07:...|\n",
      "|        546|     Kelly|    Knott|  1.99|2007-02-14 23:10:...|\n",
      "|        196|      Alma|   Austin|  5.99|2007-02-14 23:13:...|\n",
      "|          1|      Mary|    Smith|  5.99|2007-02-14 23:22:...|\n",
      "+-----------+----------+---------+------+--------------------+\n",
      "only showing top 20 rows\n",
      "\n"
     ]
    }
   ],
   "source": [
    "query = \"\"\"SELECT\n",
    "\tcustomer_id,\n",
    "\tfirst_name,\n",
    "\tlast_name,\n",
    "\tamount,\n",
    "\tpayment_date\n",
    "FROM\n",
    "\tcustomer\n",
    "INNER JOIN payment USING(customer_id)\n",
    "ORDER BY payment_date;\t\"\"\"\n",
    "show_query(query)"
   ]
  },
  {
   "cell_type": "markdown",
   "id": "76875cdf-98b4-491f-ada7-662e8417b8b9",
   "metadata": {},
   "source": [
    "# LEFT JOIN"
   ]
  },
  {
   "cell_type": "markdown",
   "id": "408b37aa-9de3-42c0-a77c-7810a98cf565",
   "metadata": {},
   "source": [
    "## Basic usage"
   ]
  },
  {
   "cell_type": "code",
   "execution_count": 13,
   "id": "cde8ef08-6420-447a-abdb-2fd4d963bf16",
   "metadata": {},
   "outputs": [],
   "source": [
    "query = \"\"\"\n",
    "SELECT\n",
    "\tf.film_id,\n",
    "\ttitle,\n",
    "\tinventory_id\n",
    "FROM\n",
    "\tfilm AS f\n",
    "LEFT JOIN inventory AS i\n",
    "    ON i.film_id = f.film_id\n",
    "ORDER BY title;\n",
    "\"\"\""
   ]
  },
  {
   "cell_type": "code",
   "execution_count": 14,
   "id": "ead2df14-0215-43d1-8c95-b9383c1bc530",
   "metadata": {},
   "outputs": [
    {
     "name": "stdout",
     "output_type": "stream",
     "text": [
      "+-------+----------------+------------+\n",
      "|film_id|           title|inventory_id|\n",
      "+-------+----------------+------------+\n",
      "|      1|Academy Dinosaur|           1|\n",
      "|      1|Academy Dinosaur|           8|\n",
      "|      1|Academy Dinosaur|           7|\n",
      "|      1|Academy Dinosaur|           6|\n",
      "|      1|Academy Dinosaur|           5|\n",
      "|      1|Academy Dinosaur|           4|\n",
      "|      1|Academy Dinosaur|           3|\n",
      "|      1|Academy Dinosaur|           2|\n",
      "|      2|  Ace Goldfinger|          11|\n",
      "|      2|  Ace Goldfinger|          10|\n",
      "|      2|  Ace Goldfinger|           9|\n",
      "|      3|Adaptation Holes|          13|\n",
      "|      3|Adaptation Holes|          12|\n",
      "|      3|Adaptation Holes|          15|\n",
      "|      3|Adaptation Holes|          14|\n",
      "|      4|Affair Prejudice|          22|\n",
      "|      4|Affair Prejudice|          21|\n",
      "|      4|Affair Prejudice|          20|\n",
      "|      4|Affair Prejudice|          19|\n",
      "|      4|Affair Prejudice|          18|\n",
      "+-------+----------------+------------+\n",
      "only showing top 20 rows\n",
      "\n"
     ]
    }
   ],
   "source": [
    "show_query(query)"
   ]
  },
  {
   "cell_type": "markdown",
   "id": "0841f13b-34e3-458f-bc4b-d6e739d7aab4",
   "metadata": {},
   "source": [
    "## Other uses"
   ]
  },
  {
   "cell_type": "code",
   "execution_count": 15,
   "id": "2d47fd66-d45c-4333-8b58-5734cc5dafa5",
   "metadata": {},
   "outputs": [],
   "source": [
    "query = \"\"\"\n",
    "SELECT\n",
    "\tfilm.film_id,\n",
    "\tfilm.title,\n",
    "\tinventory_id\n",
    "FROM\n",
    "\tfilm\n",
    "LEFT JOIN inventory \n",
    "   ON inventory.film_id = film.film_id\n",
    "WHERE inventory.film_id IS NULL\n",
    "ORDER BY title;\n",
    "\"\"\""
   ]
  },
  {
   "cell_type": "code",
   "execution_count": 16,
   "id": "0daeb336-5ba1-43e1-9d8f-3f6ee6ddd49d",
   "metadata": {},
   "outputs": [
    {
     "name": "stdout",
     "output_type": "stream",
     "text": [
      "+-------+--------------------+------------+\n",
      "|film_id|               title|inventory_id|\n",
      "+-------+--------------------+------------+\n",
      "|     14|      Alice Fantasia|        null|\n",
      "|     33|         Apollo Teen|        null|\n",
      "|     36|      Argonauts Town|        null|\n",
      "|     38|       Ark Ridgemont|        null|\n",
      "|     41|Arsenic Independence|        null|\n",
      "|     87|   Boondock Ballroom|        null|\n",
      "|    108|       Butch Panther|        null|\n",
      "|    128|       Catch Amistad|        null|\n",
      "|    144| Chinatown Gladiator|        null|\n",
      "|    148|      Chocolate Duck|        null|\n",
      "|    171|Commandments Express|        null|\n",
      "|    192|    Crossing Divorce|        null|\n",
      "|    195|     Crowds Telemark|        null|\n",
      "|    198|    Crystal Breaking|        null|\n",
      "|    217|          Dazed Punk|        null|\n",
      "|    221|Deliverance Mulho...|        null|\n",
      "|    318|   Firehouse Vietnam|        null|\n",
      "|    325|       Floats Garden|        null|\n",
      "|    332|Frankenstein Stra...|        null|\n",
      "|    359|  Gladiator Westward|        null|\n",
      "+-------+--------------------+------------+\n",
      "only showing top 20 rows\n",
      "\n"
     ]
    }
   ],
   "source": [
    "show_query(query)"
   ]
  },
  {
   "cell_type": "markdown",
   "id": "5a8a3ae8-65ce-4f99-9de3-f1328f3bc786",
   "metadata": {},
   "source": [
    "## Don't forget: use ALIAS!"
   ]
  },
  {
   "cell_type": "code",
   "execution_count": 17,
   "id": "005344f3-e4bd-447c-9bcb-123acad3eaad",
   "metadata": {},
   "outputs": [],
   "source": [
    "query = \"\"\"SELECT\n",
    "\tf.film_id,\n",
    "\ttitle,\n",
    "\tinventory_id\n",
    "FROM\n",
    "\tfilm AS f\n",
    "LEFT JOIN inventory AS i\n",
    "   ON i.film_id = f.film_id\n",
    "WHERE i.film_id IS NULL\n",
    "ORDER BY title;\"\"\""
   ]
  },
  {
   "cell_type": "code",
   "execution_count": 18,
   "id": "c56ba25e-c09a-4f86-b458-d6d88bf017f5",
   "metadata": {},
   "outputs": [
    {
     "name": "stdout",
     "output_type": "stream",
     "text": [
      "+-------+--------------------+------------+\n",
      "|film_id|               title|inventory_id|\n",
      "+-------+--------------------+------------+\n",
      "|     14|      Alice Fantasia|        null|\n",
      "|     33|         Apollo Teen|        null|\n",
      "|     36|      Argonauts Town|        null|\n",
      "|     38|       Ark Ridgemont|        null|\n",
      "|     41|Arsenic Independence|        null|\n",
      "|     87|   Boondock Ballroom|        null|\n",
      "|    108|       Butch Panther|        null|\n",
      "|    128|       Catch Amistad|        null|\n",
      "|    144| Chinatown Gladiator|        null|\n",
      "|    148|      Chocolate Duck|        null|\n",
      "|    171|Commandments Express|        null|\n",
      "|    192|    Crossing Divorce|        null|\n",
      "|    195|     Crowds Telemark|        null|\n",
      "|    198|    Crystal Breaking|        null|\n",
      "|    217|          Dazed Punk|        null|\n",
      "|    221|Deliverance Mulho...|        null|\n",
      "|    318|   Firehouse Vietnam|        null|\n",
      "|    325|       Floats Garden|        null|\n",
      "|    332|Frankenstein Stra...|        null|\n",
      "|    359|  Gladiator Westward|        null|\n",
      "+-------+--------------------+------------+\n",
      "only showing top 20 rows\n",
      "\n"
     ]
    }
   ],
   "source": [
    "show_query(query)"
   ]
  },
  {
   "cell_type": "markdown",
   "id": "cf455ad5-3ac7-44fb-b9d6-a2d428b4aaa5",
   "metadata": {},
   "source": [
    "# RIGHT JOIN"
   ]
  },
  {
   "cell_type": "markdown",
   "id": "f43ce1ac-aebe-4724-ba78-c81b0d145712",
   "metadata": {},
   "source": [
    "## Creating mock data"
   ]
  },
  {
   "cell_type": "code",
   "execution_count": 19,
   "id": "180a98ae-0a6c-4fab-9e7d-83ef52c45efc",
   "metadata": {},
   "outputs": [],
   "source": [
    "film_schema = StructType([ \\\n",
    "    StructField(\"film_id\",IntegerType(),True), \\\n",
    "    StructField(\"title\",StringType(),True)\n",
    "  ])\n",
    "films = [(1,'Joker'),\n",
    "            (2,'Avengers'),\n",
    "            (3,'Parasite')]\n",
    "columns = ['film_id','title']\n",
    "rdd = spark.sparkContext.parallelize(films)\n",
    "spark.createDataFrame(rdd, schema = film_schema).createOrReplaceTempView('films')"
   ]
  },
  {
   "cell_type": "code",
   "execution_count": 20,
   "id": "eee7c307-1352-4a5f-be22-c3d9c56e4176",
   "metadata": {},
   "outputs": [],
   "source": [
    "ratings_schema = StructType([ \\\n",
    "    StructField(\"review_id\",IntegerType(),True),\n",
    "    StructField(\"film_id\",IntegerType(),True),\n",
    "    StructField(\"review\",StringType(),True),\n",
    "  ])\n",
    "ratings = [(1,1,'Excellent'),\n",
    "         (2,1,'Awesome'),\n",
    "         (3,2,'Cool'),\n",
    "         (4,None,'Beautiful')]\n",
    "columns = ['review_id','film_id','review']\n",
    "rdd = spark.sparkContext.parallelize(ratings)\n",
    "spark.createDataFrame(rdd, schema = ratings_schema).createOrReplaceTempView('film_reviews')"
   ]
  },
  {
   "cell_type": "markdown",
   "id": "210f2918-5169-42ee-94ac-0e83dbb56232",
   "metadata": {},
   "source": [
    "## Common use"
   ]
  },
  {
   "cell_type": "code",
   "execution_count": 21,
   "id": "d09066b7-c9c7-4a15-b69c-a6ca0e2a9092",
   "metadata": {},
   "outputs": [],
   "source": [
    "query = \"\"\"\n",
    "SELECT \n",
    "   review, \n",
    "   title\n",
    "FROM \n",
    "   films\n",
    "RIGHT JOIN film_reviews \n",
    "   ON film_reviews.film_id = films.film_id;\n",
    "\"\"\""
   ]
  },
  {
   "cell_type": "code",
   "execution_count": 22,
   "id": "d0080c04-f647-4ba1-91ae-71b1e3688a4a",
   "metadata": {},
   "outputs": [
    {
     "name": "stderr",
     "output_type": "stream",
     "text": [
      "[Stage 48:======>         (6 + 10) / 16][Stage 49:>               (0 + 15) / 16]\r"
     ]
    },
    {
     "name": "stdout",
     "output_type": "stream",
     "text": [
      "+---------+--------+\n",
      "|   review|   title|\n",
      "+---------+--------+\n",
      "|Excellent|   Joker|\n",
      "|  Awesome|   Joker|\n",
      "|     Cool|Avengers|\n",
      "|Beautiful|    null|\n",
      "+---------+--------+\n",
      "\n"
     ]
    },
    {
     "name": "stderr",
     "output_type": "stream",
     "text": [
      "                                                                                \r"
     ]
    }
   ],
   "source": [
    "show_query(query)"
   ]
  },
  {
   "cell_type": "markdown",
   "id": "0d8d6381-7771-42c8-b3f9-4f5d39160203",
   "metadata": {},
   "source": [
    "## USING clause"
   ]
  },
  {
   "cell_type": "code",
   "execution_count": 23,
   "id": "6abb82ec-b0a2-4e24-b797-75d653a644e7",
   "metadata": {},
   "outputs": [],
   "source": [
    "query =  \"\"\"\n",
    "            SELECT review, title\n",
    "            FROM films\n",
    "            RIGHT JOIN film_reviews USING (film_id);\n",
    "\"\"\""
   ]
  },
  {
   "cell_type": "code",
   "execution_count": 24,
   "id": "5143669d-503f-4afc-a7a3-5f80353f74c0",
   "metadata": {},
   "outputs": [
    {
     "name": "stderr",
     "output_type": "stream",
     "text": [
      "                                                                                \r"
     ]
    },
    {
     "name": "stdout",
     "output_type": "stream",
     "text": [
      "+---------+--------+\n",
      "|   review|   title|\n",
      "+---------+--------+\n",
      "|Excellent|   Joker|\n",
      "|  Awesome|   Joker|\n",
      "|     Cool|Avengers|\n",
      "|Beautiful|    null|\n",
      "+---------+--------+\n",
      "\n"
     ]
    }
   ],
   "source": [
    "show_query(query)"
   ]
  },
  {
   "cell_type": "markdown",
   "id": "81dbf69f-c778-4688-8c65-1ca1264690c5",
   "metadata": {},
   "source": [
    "## RIGHT JOIN with WHERE"
   ]
  },
  {
   "cell_type": "code",
   "execution_count": 25,
   "id": "9772c574-0c6c-4d25-bb7a-31ae5214edae",
   "metadata": {},
   "outputs": [
    {
     "name": "stdout",
     "output_type": "stream",
     "text": [
      "+---------+-----+\n",
      "|   review|title|\n",
      "+---------+-----+\n",
      "|Beautiful| null|\n",
      "+---------+-----+\n",
      "\n"
     ]
    }
   ],
   "source": [
    "query = \"\"\"\n",
    "SELECT review, title\n",
    "FROM films\n",
    "RIGHT JOIN film_reviews using (film_id)\n",
    "WHERE title IS NULL;\n",
    "\"\"\"\n",
    "show_query(query)"
   ]
  },
  {
   "cell_type": "markdown",
   "id": "f8a5b2bc-c391-410f-8acd-27d61191ff98",
   "metadata": {},
   "source": [
    "## Transforming a RIGHT JOIN into a LEFT JOIN"
   ]
  },
  {
   "cell_type": "code",
   "execution_count": 26,
   "id": "823ec12d-1ee0-4b98-8c60-cd418045e03f",
   "metadata": {},
   "outputs": [
    {
     "name": "stdout",
     "output_type": "stream",
     "text": [
      "+---------+--------+\n",
      "|   review|   title|\n",
      "+---------+--------+\n",
      "|Excellent|   Joker|\n",
      "|  Awesome|   Joker|\n",
      "|     Cool|Avengers|\n",
      "|Beautiful|    null|\n",
      "+---------+--------+\n",
      "\n"
     ]
    }
   ],
   "source": [
    "query =  \"\"\"\n",
    "            SELECT review, title\n",
    "            FROM film_reviews\n",
    "            LEFT JOIN films USING (film_id);\n",
    "\"\"\"\n",
    "show_query(query)"
   ]
  },
  {
   "cell_type": "markdown",
   "id": "ff1c3f02-ab3f-474c-991d-ccaddab8cc9e",
   "metadata": {},
   "source": [
    "# SELF JOIN"
   ]
  },
  {
   "cell_type": "markdown",
   "id": "97d27e89-4f0d-4a12-918f-67ee39e66a18",
   "metadata": {},
   "source": [
    "### Example"
   ]
  },
  {
   "cell_type": "markdown",
   "id": "52723718-2113-4cb4-adbd-b79c3a7e2a68",
   "metadata": {},
   "source": [
    "<center><img width=750 src=\"https://www.postgresqltutorial.com/wp-content/uploads/2018/03/PostgreSQL-Self-Join-Reporting-Structure.png\"/></center>"
   ]
  },
  {
   "cell_type": "markdown",
   "id": "5518fb3a-258f-490e-b4c0-200e4841003f",
   "metadata": {},
   "source": [
    "### Building the example"
   ]
  },
  {
   "cell_type": "code",
   "execution_count": 27,
   "id": "0841d9a1-c188-40a3-9f92-13eb39c67366",
   "metadata": {},
   "outputs": [],
   "source": [
    "company_schema = StructType([ \\\n",
    "    StructField(\"employee_id\",IntegerType(),True),\n",
    "    StructField(\"first_name\",StringType(),True),\n",
    "    StructField(\"last_name\",StringType(),True),\n",
    "    StructField(\"manager_id\",IntegerType(),True),\n",
    "  ])\n",
    "employees = [(1, 'Windy', 'Hays', None),\n",
    "             (2, 'Ava', 'Christensen', 1),\n",
    "             (3, 'Hassan', 'Conner', 1),\n",
    "             (4, 'Anna', 'Reeves', 2),\n",
    "             (5, 'Sau', 'Norman', 2),\n",
    "             (6, 'Kelsie', 'Hays', 3),\n",
    "             (7, 'Tory', 'Goff', 3),\n",
    "             (8, 'Salley', 'Lester', 3)]\n",
    "\n",
    "rdd = spark.sparkContext.parallelize(employees)\n",
    "spark.createDataFrame(rdd, schema = company_schema).createOrReplaceTempView('employee')"
   ]
  },
  {
   "cell_type": "markdown",
   "id": "d6312a00-5ac9-4510-a93d-dd5964ae16aa",
   "metadata": {},
   "source": [
    "### query example"
   ]
  },
  {
   "cell_type": "code",
   "execution_count": 28,
   "id": "d0a0bb31-8a25-4474-a54b-28086d538959",
   "metadata": {},
   "outputs": [],
   "source": [
    "query = \"\"\"\n",
    "SELECT\n",
    "    e.first_name || ' ' || e.last_name employee,\n",
    "    m .first_name || ' ' || m.last_name manager\n",
    "FROM\n",
    "    employee AS e\n",
    "INNER JOIN employee AS m ON m.employee_id = e.manager_id\n",
    "ORDER BY manager;\n",
    "\"\"\""
   ]
  },
  {
   "cell_type": "code",
   "execution_count": 29,
   "id": "f6b8ea1a-0fa7-4c0f-9be8-cb13337279c3",
   "metadata": {},
   "outputs": [
    {
     "name": "stdout",
     "output_type": "stream",
     "text": [
      "+---------------+---------------+\n",
      "|       employee|        manager|\n",
      "+---------------+---------------+\n",
      "|    Anna Reeves|Ava Christensen|\n",
      "|     Sau Norman|Ava Christensen|\n",
      "|    Kelsie Hays|  Hassan Conner|\n",
      "|      Tory Goff|  Hassan Conner|\n",
      "|  Salley Lester|  Hassan Conner|\n",
      "|Ava Christensen|     Windy Hays|\n",
      "|  Hassan Conner|     Windy Hays|\n",
      "+---------------+---------------+\n",
      "\n"
     ]
    }
   ],
   "source": [
    "show_query(query)"
   ]
  },
  {
   "cell_type": "markdown",
   "id": "27404cd2-7d5f-49ac-9915-8549019dd75b",
   "metadata": {},
   "source": [
    "### Showing who's the boss"
   ]
  },
  {
   "cell_type": "code",
   "execution_count": 30,
   "id": "5299dfd7-af5a-49d3-9aaf-8d20dd8ead83",
   "metadata": {},
   "outputs": [],
   "source": [
    "query = \"\"\"\n",
    "SELECT\n",
    "    e.first_name || ' ' || e.last_name employee,\n",
    "    m .first_name || ' ' || m .last_name manager\n",
    "FROM\n",
    "    employee e\n",
    "LEFT JOIN employee m ON m .employee_id = e.manager_id\n",
    "ORDER BY manager;\n",
    "\"\"\""
   ]
  },
  {
   "cell_type": "code",
   "execution_count": 31,
   "id": "dcb83012-0e33-4ec2-8352-7d6a40929b43",
   "metadata": {},
   "outputs": [
    {
     "name": "stdout",
     "output_type": "stream",
     "text": [
      "+---------------+---------------+\n",
      "|       employee|        manager|\n",
      "+---------------+---------------+\n",
      "|     Windy Hays|           null|\n",
      "|    Anna Reeves|Ava Christensen|\n",
      "|     Sau Norman|Ava Christensen|\n",
      "|    Kelsie Hays|  Hassan Conner|\n",
      "|      Tory Goff|  Hassan Conner|\n",
      "|  Salley Lester|  Hassan Conner|\n",
      "|Ava Christensen|     Windy Hays|\n",
      "|  Hassan Conner|     Windy Hays|\n",
      "+---------------+---------------+\n",
      "\n"
     ]
    }
   ],
   "source": [
    "show_query(query)"
   ]
  },
  {
   "cell_type": "markdown",
   "id": "9163fc5d-d8a7-4b63-8e6a-7d05c0e2064a",
   "metadata": {},
   "source": [
    "### Showing films with the same length"
   ]
  },
  {
   "cell_type": "code",
   "execution_count": 32,
   "id": "02d3dab0-043a-4d4f-b0b6-a6a0f29e4470",
   "metadata": {},
   "outputs": [],
   "source": [
    "query = \"\"\"SELECT\n",
    "    f1.title,\n",
    "    f2.title,\n",
    "    f1.length\n",
    "FROM\n",
    "    film f1\n",
    "INNER JOIN film f2 \n",
    "    ON f1.film_id <> f2.film_id AND \n",
    "       f1.length = f2.length;\"\"\""
   ]
  },
  {
   "cell_type": "code",
   "execution_count": 33,
   "id": "46fb9071-dd14-41a4-8a20-a0143abc6234",
   "metadata": {},
   "outputs": [
    {
     "name": "stdout",
     "output_type": "stream",
     "text": [
      "+--------------------+--------------------+------+\n",
      "|               title|               title|length|\n",
      "+--------------------+--------------------+------+\n",
      "|    Army Flintstones|    Telegraph Voyage|   148|\n",
      "|    Army Flintstones|        Outlaw Hanky|   148|\n",
      "|    Army Flintstones|Flintstones Happi...|   148|\n",
      "|    Army Flintstones|Fireball Philadel...|   148|\n",
      "|    Army Flintstones|      Easy Gladiator|   148|\n",
      "|    Army Flintstones|     Blanket Beverly|   148|\n",
      "|     Blanket Beverly|    Telegraph Voyage|   148|\n",
      "|     Blanket Beverly|        Outlaw Hanky|   148|\n",
      "|     Blanket Beverly|Flintstones Happi...|   148|\n",
      "|     Blanket Beverly|Fireball Philadel...|   148|\n",
      "|     Blanket Beverly|      Easy Gladiator|   148|\n",
      "|     Blanket Beverly|    Army Flintstones|   148|\n",
      "|      Easy Gladiator|    Telegraph Voyage|   148|\n",
      "|      Easy Gladiator|        Outlaw Hanky|   148|\n",
      "|      Easy Gladiator|Flintstones Happi...|   148|\n",
      "|      Easy Gladiator|Fireball Philadel...|   148|\n",
      "|      Easy Gladiator|     Blanket Beverly|   148|\n",
      "|      Easy Gladiator|    Army Flintstones|   148|\n",
      "|Fireball Philadel...|    Telegraph Voyage|   148|\n",
      "|Fireball Philadel...|        Outlaw Hanky|   148|\n",
      "+--------------------+--------------------+------+\n",
      "only showing top 20 rows\n",
      "\n"
     ]
    }
   ],
   "source": [
    "show_query(query)"
   ]
  },
  {
   "cell_type": "markdown",
   "id": "0913f3ab-649b-4a56-992c-2945850b1835",
   "metadata": {},
   "source": [
    "# FULL OUTER JOIN"
   ]
  },
  {
   "cell_type": "code",
   "execution_count": 34,
   "id": "b0d11d9e-cb8c-4b50-a60f-20a6562a0961",
   "metadata": {},
   "outputs": [],
   "source": [
    "departments_schema = StructType([ \\\n",
    "    StructField(\"department_id\",IntegerType(),True),\n",
    "    StructField(\"department_name\",StringType(),True)])\n",
    "employee_schema = StructType([ \\\n",
    "    StructField(\"employee_id\",IntegerType(),True),\n",
    "    StructField(\"employee_name\",StringType(),True),\n",
    "    StructField(\"department_id\",IntegerType(),True)])"
   ]
  },
  {
   "cell_type": "code",
   "execution_count": 35,
   "id": "f7edbc69-7760-49b9-a150-f5c1413e1e28",
   "metadata": {},
   "outputs": [],
   "source": [
    "departments = [(1, 'Sales'),\n",
    "               (2, 'Marketing'),\n",
    "               (3, 'HR'),\n",
    "               (4, 'IT'),\n",
    "               (5,'Production')]\n",
    "\n",
    "rdd = spark.sparkContext.parallelize(departments)\n",
    "spark.createDataFrame(rdd, schema = departments_schema).createOrReplaceTempView('departments')"
   ]
  },
  {
   "cell_type": "code",
   "execution_count": 36,
   "id": "4092e6ce-005b-4d6a-b12a-0a4e2cd86523",
   "metadata": {},
   "outputs": [],
   "source": [
    "employees = [(1,'Bette Nicholson', 1),\n",
    "        \t (2,'Christian Gable', 1),\n",
    "        \t (3,'Joe Swank', 2),\n",
    "        \t (4,'Fred Costner', 3),\n",
    "        \t (5,'Sandra Kilmer', 4),\n",
    "        \t (6,'Julia Mcqueen', None)]\n",
    "rdd = spark.sparkContext.parallelize(employees)\n",
    "spark.createDataFrame(rdd, schema = employee_schema).createOrReplaceTempView('employees')"
   ]
  },
  {
   "cell_type": "code",
   "execution_count": 37,
   "id": "ed32c72d-0b4d-47b0-b2ee-83e4e9f13619",
   "metadata": {},
   "outputs": [
    {
     "name": "stdout",
     "output_type": "stream",
     "text": [
      "+-------------+---------------+\n",
      "|department_id|department_name|\n",
      "+-------------+---------------+\n",
      "|            1|          Sales|\n",
      "|            2|      Marketing|\n",
      "|            3|             HR|\n",
      "|            4|             IT|\n",
      "|            5|     Production|\n",
      "+-------------+---------------+\n",
      "\n"
     ]
    }
   ],
   "source": [
    "show_query('SELECT * FROM departments')"
   ]
  },
  {
   "cell_type": "code",
   "execution_count": 38,
   "id": "ea0c9448-406e-4594-9da4-deaf61edd1d9",
   "metadata": {},
   "outputs": [
    {
     "name": "stdout",
     "output_type": "stream",
     "text": [
      "+-----------+---------------+-------------+\n",
      "|employee_id|  employee_name|department_id|\n",
      "+-----------+---------------+-------------+\n",
      "|          1|Bette Nicholson|            1|\n",
      "|          2|Christian Gable|            1|\n",
      "|          3|      Joe Swank|            2|\n",
      "|          4|   Fred Costner|            3|\n",
      "|          5|  Sandra Kilmer|            4|\n",
      "|          6|  Julia Mcqueen|         null|\n",
      "+-----------+---------------+-------------+\n",
      "\n"
     ]
    }
   ],
   "source": [
    "show_query('SELECT * FROM employees')"
   ]
  },
  {
   "cell_type": "markdown",
   "id": "34f30c11-c4a7-44db-bee3-0ed692b8e73d",
   "metadata": {},
   "source": [
    "### Checking the company structure"
   ]
  },
  {
   "cell_type": "code",
   "execution_count": 39,
   "id": "55bda9a0-67af-4fe3-be98-56de6d0552fa",
   "metadata": {},
   "outputs": [],
   "source": [
    "query = \"\"\"SELECT\n",
    "\temployee_name,\n",
    "\tdepartment_name\n",
    "FROM\n",
    "\temployees AS e\n",
    "FULL OUTER JOIN departments AS d \n",
    "        ON d.department_id = e.department_id;\n",
    "\"\"\""
   ]
  },
  {
   "cell_type": "code",
   "execution_count": 40,
   "id": "0994386d-7aae-4be4-9a16-e20a20525e52",
   "metadata": {},
   "outputs": [
    {
     "name": "stdout",
     "output_type": "stream",
     "text": [
      "+---------------+---------------+\n",
      "|  employee_name|department_name|\n",
      "+---------------+---------------+\n",
      "|  Julia Mcqueen|           null|\n",
      "|Christian Gable|          Sales|\n",
      "|Bette Nicholson|          Sales|\n",
      "|      Joe Swank|      Marketing|\n",
      "|   Fred Costner|             HR|\n",
      "|  Sandra Kilmer|             IT|\n",
      "|           null|     Production|\n",
      "+---------------+---------------+\n",
      "\n"
     ]
    }
   ],
   "source": [
    "show_query(query)"
   ]
  },
  {
   "cell_type": "markdown",
   "id": "40dc4eb1-6aff-486f-9c98-c13f1446381b",
   "metadata": {},
   "source": [
    "### Checking department without employees"
   ]
  },
  {
   "cell_type": "code",
   "execution_count": 47,
   "id": "6063703b-2709-4fec-bd8a-c57087f47e78",
   "metadata": {},
   "outputs": [],
   "source": [
    "query = \"\"\"SELECT\n",
    "\temployee_name,\n",
    "\tdepartment_name\n",
    "FROM\n",
    "\temployees AS e\n",
    "FULL OUTER JOIN departments AS d \n",
    "        ON d.department_id = e.department_id\n",
    "WHERE employee_name IS NULL\n",
    "\"\"\""
   ]
  },
  {
   "cell_type": "code",
   "execution_count": 48,
   "id": "a67bc99b-d7ab-4826-b11f-67191f48299d",
   "metadata": {},
   "outputs": [
    {
     "name": "stdout",
     "output_type": "stream",
     "text": [
      "+-------------+---------------+\n",
      "|employee_name|department_name|\n",
      "+-------------+---------------+\n",
      "|         null|     Production|\n",
      "+-------------+---------------+\n",
      "\n"
     ]
    }
   ],
   "source": [
    "show_query(query)"
   ]
  },
  {
   "cell_type": "markdown",
   "id": "07727fbe-59cc-4f5c-abcf-b3da4b7a84e2",
   "metadata": {},
   "source": [
    "### Checking employees without department"
   ]
  },
  {
   "cell_type": "code",
   "execution_count": 49,
   "id": "7856d4f6-e7ad-46af-a095-44b56f859d9d",
   "metadata": {},
   "outputs": [],
   "source": [
    "query = \"\"\"SELECT\n",
    "\temployee_name,\n",
    "\tdepartment_name\n",
    "FROM\n",
    "\temployees AS e\n",
    "FULL OUTER JOIN departments AS d \n",
    "        ON d.department_id = e.department_id\n",
    "WHERE department_name IS NULL\n",
    "\"\"\""
   ]
  },
  {
   "cell_type": "code",
   "execution_count": 50,
   "id": "09f300a4-a764-4a56-8e91-c7c28eb0c0c3",
   "metadata": {},
   "outputs": [
    {
     "name": "stdout",
     "output_type": "stream",
     "text": [
      "+-------------+---------------+\n",
      "|employee_name|department_name|\n",
      "+-------------+---------------+\n",
      "|Julia Mcqueen|           null|\n",
      "+-------------+---------------+\n",
      "\n"
     ]
    }
   ],
   "source": [
    "show_query(query)"
   ]
  },
  {
   "cell_type": "markdown",
   "id": "3fad93c9-790f-4302-87ce-9c9f2aef7f0c",
   "metadata": {},
   "source": [
    "# CROSS JOIN"
   ]
  },
  {
   "cell_type": "markdown",
   "id": "954e7f0b-8f61-4e1c-99bb-b765aa563a4e",
   "metadata": {},
   "source": [
    "### How many relationships between employees it can have? Show the combinations in a table"
   ]
  },
  {
   "cell_type": "code",
   "execution_count": 98,
   "id": "b7380cf6-8741-4bd3-9255-84c0e6c17eb9",
   "metadata": {},
   "outputs": [],
   "source": [
    "query = \"\"\"SELECT SUM(1) AS total\n",
    "FROM\n",
    "\temployees AS e1\n",
    "CROSS JOIN employees AS e2\n",
    "WHERE e1.employee_name <> e2.employee_name\n",
    "\"\"\""
   ]
  },
  {
   "cell_type": "code",
   "execution_count": 99,
   "id": "c515280d-a120-4de7-85a2-e88387632c38",
   "metadata": {},
   "outputs": [
    {
     "name": "stderr",
     "output_type": "stream",
     "text": [
      "[Stage 165:====================================================>(255 + 1) / 256]\r"
     ]
    },
    {
     "name": "stdout",
     "output_type": "stream",
     "text": [
      "+-----+\n",
      "|total|\n",
      "+-----+\n",
      "|   30|\n",
      "+-----+\n",
      "\n"
     ]
    },
    {
     "name": "stderr",
     "output_type": "stream",
     "text": [
      "                                                                                \r"
     ]
    }
   ],
   "source": [
    "show_query(query)"
   ]
  },
  {
   "cell_type": "code",
   "execution_count": 94,
   "id": "48fdb0a0-1e2c-4401-9a54-a42de951ae34",
   "metadata": {},
   "outputs": [],
   "source": [
    "query = \"\"\"SELECT e1.employee_name AS employee_A,e2.employee_name AS employee_B\n",
    "FROM\n",
    "\temployees AS e1\n",
    "CROSS JOIN employees AS e2\n",
    "WHERE e1.employee_name <> e2.employee_name\n",
    "\"\"\""
   ]
  },
  {
   "cell_type": "code",
   "execution_count": 95,
   "id": "919e5f19-5f75-4256-826f-d3b27f06bfc7",
   "metadata": {},
   "outputs": [
    {
     "name": "stderr",
     "output_type": "stream",
     "text": [
      "[Stage 159:===========================================>         (95 + 16) / 116]\r"
     ]
    },
    {
     "name": "stdout",
     "output_type": "stream",
     "text": [
      "+---------------+---------------+\n",
      "|     employee_A|     employee_B|\n",
      "+---------------+---------------+\n",
      "|Bette Nicholson|Christian Gable|\n",
      "|Bette Nicholson|      Joe Swank|\n",
      "|Bette Nicholson|   Fred Costner|\n",
      "|Bette Nicholson|  Sandra Kilmer|\n",
      "|Bette Nicholson|  Julia Mcqueen|\n",
      "|Christian Gable|Bette Nicholson|\n",
      "|Christian Gable|      Joe Swank|\n",
      "|Christian Gable|   Fred Costner|\n",
      "|Christian Gable|  Sandra Kilmer|\n",
      "|Christian Gable|  Julia Mcqueen|\n",
      "|      Joe Swank|Bette Nicholson|\n",
      "|      Joe Swank|Christian Gable|\n",
      "|      Joe Swank|   Fred Costner|\n",
      "|      Joe Swank|  Sandra Kilmer|\n",
      "|      Joe Swank|  Julia Mcqueen|\n",
      "|   Fred Costner|Bette Nicholson|\n",
      "|   Fred Costner|Christian Gable|\n",
      "|   Fred Costner|      Joe Swank|\n",
      "|   Fred Costner|  Sandra Kilmer|\n",
      "|   Fred Costner|  Julia Mcqueen|\n",
      "+---------------+---------------+\n",
      "only showing top 20 rows\n",
      "\n"
     ]
    },
    {
     "name": "stderr",
     "output_type": "stream",
     "text": [
      "                                                                                \r"
     ]
    }
   ],
   "source": [
    "show_query(query)"
   ]
  },
  {
   "cell_type": "markdown",
   "id": "41b6d91d-072f-4df5-9c6d-a7666a02e665",
   "metadata": {},
   "source": [
    "### How many interactions between department it can have? Show a table with all combinations"
   ]
  },
  {
   "cell_type": "code",
   "execution_count": 100,
   "id": "6a285eac-1460-41d1-bd6c-14aac6007a16",
   "metadata": {},
   "outputs": [],
   "source": [
    "query = \"\"\"SELECT SUM(1)\n",
    "FROM\n",
    "\tdepartments AS d1\n",
    "CROSS JOIN departments AS d2 \n",
    "WHERE d1.department_name <> d2.department_name\n",
    "\"\"\""
   ]
  },
  {
   "cell_type": "code",
   "execution_count": 101,
   "id": "72a0ce7f-5805-456b-bdd6-3d036e65cfa9",
   "metadata": {},
   "outputs": [
    {
     "name": "stderr",
     "output_type": "stream",
     "text": [
      "[Stage 168:=================================================>  (246 + 10) / 256]\r"
     ]
    },
    {
     "name": "stdout",
     "output_type": "stream",
     "text": [
      "+------+\n",
      "|sum(1)|\n",
      "+------+\n",
      "|    20|\n",
      "+------+\n",
      "\n"
     ]
    },
    {
     "name": "stderr",
     "output_type": "stream",
     "text": [
      "                                                                                \r"
     ]
    }
   ],
   "source": [
    "show_query(query)"
   ]
  },
  {
   "cell_type": "code",
   "execution_count": 96,
   "id": "dc866bd5-dbb9-490a-ae95-f5288fdb62cb",
   "metadata": {},
   "outputs": [],
   "source": [
    "query = \"\"\"SELECT d1.department_name,d2.department_name\n",
    "FROM\n",
    "\tdepartments AS d1\n",
    "CROSS JOIN departments AS d2 \n",
    "WHERE d1.department_name <> d2.department_name\n",
    "\"\"\""
   ]
  },
  {
   "cell_type": "code",
   "execution_count": 97,
   "id": "d9064eb4-9fc9-401e-9872-b56fd541541e",
   "metadata": {},
   "outputs": [
    {
     "name": "stderr",
     "output_type": "stream",
     "text": [
      "[Stage 164:=============================================>      (114 + 16) / 131]\r"
     ]
    },
    {
     "name": "stdout",
     "output_type": "stream",
     "text": [
      "+---------------+---------------+\n",
      "|department_name|department_name|\n",
      "+---------------+---------------+\n",
      "|          Sales|      Marketing|\n",
      "|          Sales|             HR|\n",
      "|          Sales|             IT|\n",
      "|          Sales|     Production|\n",
      "|      Marketing|          Sales|\n",
      "|      Marketing|             HR|\n",
      "|      Marketing|             IT|\n",
      "|      Marketing|     Production|\n",
      "|             HR|          Sales|\n",
      "|             HR|      Marketing|\n",
      "|             HR|             IT|\n",
      "|             HR|     Production|\n",
      "|             IT|          Sales|\n",
      "|             IT|      Marketing|\n",
      "|             IT|             HR|\n",
      "|             IT|     Production|\n",
      "|     Production|          Sales|\n",
      "|     Production|      Marketing|\n",
      "|     Production|             HR|\n",
      "|     Production|             IT|\n",
      "+---------------+---------------+\n",
      "\n"
     ]
    },
    {
     "name": "stderr",
     "output_type": "stream",
     "text": [
      "                                                                                \r"
     ]
    }
   ],
   "source": [
    "show_query(query)"
   ]
  },
  {
   "cell_type": "markdown",
   "id": "4c37dbcd-6f34-4891-a603-d51c69860ca4",
   "metadata": {},
   "source": [
    "## Natural Join"
   ]
  },
  {
   "cell_type": "code",
   "execution_count": 122,
   "id": "90534863-9591-4e1b-bd3e-87089a089799",
   "metadata": {},
   "outputs": [],
   "source": [
    "band_schema1 = StructType([ \\\n",
    "    StructField(\"role\",StringType(),True),\n",
    "    StructField(\"name_rhcp\",StringType(),True)])\n",
    "band_schema2 = StructType([ \\\n",
    "    StructField(\"role\",StringType(),True),\n",
    "    StructField(\"name_muse\",StringType(),True)])"
   ]
  },
  {
   "cell_type": "code",
   "execution_count": 126,
   "id": "200351a5-35f1-4ccb-8fab-2e089301d25e",
   "metadata": {},
   "outputs": [],
   "source": [
    "band_A = [('vocal', 'Anthony Kiedis'),\n",
    "               ('guitar', 'John Frusciante'),\n",
    "               ('bass', 'Flea'),\n",
    "               ('drums', 'Chad Smith')]\n",
    "band_B = [('vocal', 'Matt Bellamy'),\n",
    "               ('guitar', 'Matt Bellamy'),\n",
    "               ('bass', 'Chris Wolstenholme'),\n",
    "               ('drums', 'Dominic Howard')]\n",
    "rdd = spark.sparkContext.parallelize(band_A)\n",
    "spark.createDataFrame(rdd, schema = band_schema1).createOrReplaceTempView('band1')\n",
    "rdd = spark.sparkContext.parallelize(band_B)\n",
    "spark.createDataFrame(rdd, schema = band_schema2).createOrReplaceTempView('band2')"
   ]
  },
  {
   "cell_type": "code",
   "execution_count": 127,
   "id": "fa830b9c-9a18-4e41-a8be-f98bbb3667a8",
   "metadata": {},
   "outputs": [],
   "source": [
    "query = \"\"\"SELECT * \n",
    "FROM band2\n",
    "NATURAL JOIN band1\"\"\""
   ]
  },
  {
   "cell_type": "code",
   "execution_count": 128,
   "id": "b1d08721-8a1d-424d-9605-967eb43c4f0d",
   "metadata": {},
   "outputs": [
    {
     "name": "stdout",
     "output_type": "stream",
     "text": [
      "+------+------------------+---------------+\n",
      "|  role|         name_muse|      name_rhcp|\n",
      "+------+------------------+---------------+\n",
      "|  bass|Chris Wolstenholme|           Flea|\n",
      "| drums|    Dominic Howard|     Chad Smith|\n",
      "|guitar|      Matt Bellamy|John Frusciante|\n",
      "| vocal|      Matt Bellamy| Anthony Kiedis|\n",
      "+------+------------------+---------------+\n",
      "\n"
     ]
    }
   ],
   "source": [
    "show_query(query)"
   ]
  },
  {
   "cell_type": "markdown",
   "id": "4536c831-d804-4f41-b066-e75440c24198",
   "metadata": {},
   "source": [
    "# Exercise: redo all the above with Pyspark API"
   ]
  }
 ],
 "metadata": {
  "kernelspec": {
   "display_name": "Python 3 (ipykernel)",
   "language": "python",
   "name": "python3"
  },
  "language_info": {
   "codemirror_mode": {
    "name": "ipython",
    "version": 3
   },
   "file_extension": ".py",
   "mimetype": "text/x-python",
   "name": "python",
   "nbconvert_exporter": "python",
   "pygments_lexer": "ipython3",
   "version": "3.11.6"
  }
 },
 "nbformat": 4,
 "nbformat_minor": 5
}
