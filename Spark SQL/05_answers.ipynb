{
 "cells": [
  {
   "cell_type": "code",
   "execution_count": 1,
   "id": "bda4acc3-d0b2-46a4-be0c-613953e5c914",
   "metadata": {},
   "outputs": [
    {
     "name": "stderr",
     "output_type": "stream",
     "text": [
      "23/10/29 18:03:17 WARN Utils: Your hostname, luan-Dell-G15-5520 resolves to a loopback address: 127.0.1.1; using 192.168.1.12 instead (on interface wlp0s20f3)\n",
      "23/10/29 18:03:17 WARN Utils: Set SPARK_LOCAL_IP if you need to bind to another address\n",
      "23/10/29 18:03:17 WARN NativeCodeLoader: Unable to load native-hadoop library for your platform... using builtin-java classes where applicable\n",
      "Setting default log level to \"WARN\".\n",
      "To adjust logging level use sc.setLogLevel(newLevel). For SparkR, use setLogLevel(newLevel).\n",
      "23/10/29 18:03:18 WARN Utils: Service 'SparkUI' could not bind on port 4040. Attempting port 4041.\n",
      "23/10/29 18:03:18 WARN Utils: Service 'SparkUI' could not bind on port 4041. Attempting port 4042.\n",
      "23/10/29 18:03:18 WARN Utils: Service 'SparkUI' could not bind on port 4042. Attempting port 4043.\n"
     ]
    },
    {
     "name": "stdout",
     "output_type": "stream",
     "text": [
      "SparkSession available as \"spark\"\n"
     ]
    }
   ],
   "source": [
    "from db_tools.setup import setup\n",
    "from pyspark.sql.types import StructType,StructField, StringType, IntegerType\n",
    "spark = setup()"
   ]
  },
  {
   "cell_type": "markdown",
   "id": "578d47ed-02c7-4d27-a4cf-9b0b23307932",
   "metadata": {},
   "source": [
    "# Mock data"
   ]
  },
  {
   "cell_type": "code",
   "execution_count": 2,
   "id": "aa46ec71-d2b6-4563-85db-790269f41ac2",
   "metadata": {},
   "outputs": [],
   "source": [
    "film_schema = StructType([ \\\n",
    "    StructField(\"title\",StringType(),True), \\\n",
    "    StructField(\"release_year\",IntegerType(),True)\n",
    "  ])\n",
    "films = [ ('An American Pickle',2020),\n",
    "          ('The Godfather',1972),\n",
    "          ('Greyhound',2020)]\n",
    "columns = ['title','release_year']\n",
    "rdd = spark.sparkContext.parallelize(films)\n",
    "df_top_films =  spark.createDataFrame(rdd, schema = film_schema)"
   ]
  },
  {
   "cell_type": "code",
   "execution_count": 3,
   "id": "5d5d2af5-ef8d-4964-b3f3-53639c042c14",
   "metadata": {},
   "outputs": [],
   "source": [
    "film_schema = StructType([ \\\n",
    "    StructField(\"title\",StringType(),True), \\\n",
    "    StructField(\"release_year\",IntegerType(),True)\n",
    "  ])\n",
    "films = [ ('The Shawshank Redemption',1994),\n",
    "          ('The Godfather',1972),\n",
    "          ('12 Angry Men',1957)]\n",
    "columns = ['title','release_year']\n",
    "rdd = spark.sparkContext.parallelize(films)\n",
    "df_most_popular = spark.createDataFrame(rdd, schema = film_schema)"
   ]
  },
  {
   "cell_type": "markdown",
   "id": "e48ff58a-4bc5-4e62-8b6f-67de15f32e77",
   "metadata": {},
   "source": [
    "# UNION"
   ]
  },
  {
   "cell_type": "markdown",
   "id": "768a834d-0a90-4358-aa6d-b9e3c845c226",
   "metadata": {},
   "source": [
    "## It needs a distinct clause after union: https://spark.apache.org/docs/3.1.3/api/python/reference/api/pyspark.sql.DataFrame.union.html"
   ]
  },
  {
   "cell_type": "code",
   "execution_count": 6,
   "id": "cc216ede-c686-4391-8457-15f50b7c74e1",
   "metadata": {},
   "outputs": [
    {
     "name": "stderr",
     "output_type": "stream",
     "text": [
      "[Stage 9:=====================================================>   (30 + 2) / 32]\r"
     ]
    },
    {
     "name": "stdout",
     "output_type": "stream",
     "text": [
      "+--------------------+------------+\n",
      "|               title|release_year|\n",
      "+--------------------+------------+\n",
      "|  An American Pickle|        2020|\n",
      "|       The Godfather|        1972|\n",
      "|           Greyhound|        2020|\n",
      "|The Shawshank Red...|        1994|\n",
      "|        12 Angry Men|        1957|\n",
      "+--------------------+------------+\n",
      "\n"
     ]
    },
    {
     "name": "stderr",
     "output_type": "stream",
     "text": [
      "                                                                                \r"
     ]
    }
   ],
   "source": [
    "df_top_films.union(df_most_popular).distinct().show()"
   ]
  },
  {
   "cell_type": "markdown",
   "id": "73db01dd-e5b1-4845-8bc3-69a379e04c19",
   "metadata": {},
   "source": [
    "# UNION ALL"
   ]
  },
  {
   "cell_type": "markdown",
   "id": "a4e89e4e-8e9c-4d25-bb2d-3b5084a4c3a9",
   "metadata": {},
   "source": [
    "## has exactly the same funcionality as UNION in spark sql: https://spark.apache.org/docs/3.1.3/api/python/reference/api/pyspark.sql.DataFrame.union.html"
   ]
  },
  {
   "cell_type": "code",
   "execution_count": 5,
   "id": "12a2ad5d-a05d-488a-ad20-4fcbf64d49c5",
   "metadata": {},
   "outputs": [
    {
     "name": "stdout",
     "output_type": "stream",
     "text": [
      "+--------------------+------------+\n",
      "|               title|release_year|\n",
      "+--------------------+------------+\n",
      "|  An American Pickle|        2020|\n",
      "|       The Godfather|        1972|\n",
      "|           Greyhound|        2020|\n",
      "|The Shawshank Red...|        1994|\n",
      "|       The Godfather|        1972|\n",
      "|        12 Angry Men|        1957|\n",
      "+--------------------+------------+\n",
      "\n"
     ]
    }
   ],
   "source": [
    "df_top_films.unionAll(df_most_popular).show()"
   ]
  },
  {
   "cell_type": "markdown",
   "id": "768a2ba9-f74c-468a-9209-11667cd29d60",
   "metadata": {},
   "source": [
    "# INTERSECT"
   ]
  },
  {
   "cell_type": "code",
   "execution_count": 9,
   "id": "22752484-5f8a-4207-be2b-986b9a5f8061",
   "metadata": {},
   "outputs": [
    {
     "name": "stdout",
     "output_type": "stream",
     "text": [
      "+-------------+------------+\n",
      "|        title|release_year|\n",
      "+-------------+------------+\n",
      "|The Godfather|        1972|\n",
      "+-------------+------------+\n",
      "\n"
     ]
    }
   ],
   "source": [
    "df_top_films.intersect(df_most_popular).show()"
   ]
  },
  {
   "cell_type": "markdown",
   "id": "acc2db90-822b-4718-9285-851948518a01",
   "metadata": {},
   "source": [
    "# EXCEPT"
   ]
  },
  {
   "cell_type": "code",
   "execution_count": 13,
   "id": "09c912b4-1d6b-4469-bb6d-ac8e8e953065",
   "metadata": {},
   "outputs": [
    {
     "name": "stdout",
     "output_type": "stream",
     "text": [
      "+------------------+------------+\n",
      "|             title|release_year|\n",
      "+------------------+------------+\n",
      "|An American Pickle|        2020|\n",
      "|         Greyhound|        2020|\n",
      "+------------------+------------+\n",
      "\n"
     ]
    },
    {
     "name": "stderr",
     "output_type": "stream",
     "text": [
      "                                                                                \r"
     ]
    }
   ],
   "source": [
    "df_top_films.exceptAll(df_most_popular).show()"
   ]
  },
  {
   "cell_type": "code",
   "execution_count": 14,
   "id": "aed04d74-fbc1-4c72-bc15-2f95cc6be934",
   "metadata": {},
   "outputs": [
    {
     "name": "stdout",
     "output_type": "stream",
     "text": [
      "+--------------------+------------+\n",
      "|               title|release_year|\n",
      "+--------------------+------------+\n",
      "|The Shawshank Red...|        1994|\n",
      "|        12 Angry Men|        1957|\n",
      "+--------------------+------------+\n",
      "\n"
     ]
    },
    {
     "name": "stderr",
     "output_type": "stream",
     "text": [
      "                                                                                \r"
     ]
    }
   ],
   "source": [
    "df_most_popular.exceptAll(df_top_films).show()"
   ]
  },
  {
   "cell_type": "code",
   "execution_count": null,
   "id": "7a663545-c872-40cb-8c94-970a6b6d0753",
   "metadata": {},
   "outputs": [],
   "source": []
  }
 ],
 "metadata": {
  "kernelspec": {
   "display_name": "Python 3 (ipykernel)",
   "language": "python",
   "name": "python3"
  },
  "language_info": {
   "codemirror_mode": {
    "name": "ipython",
    "version": 3
   },
   "file_extension": ".py",
   "mimetype": "text/x-python",
   "name": "python",
   "nbconvert_exporter": "python",
   "pygments_lexer": "ipython3",
   "version": "3.11.6"
  }
 },
 "nbformat": 4,
 "nbformat_minor": 5
}
