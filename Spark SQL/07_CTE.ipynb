{
 "cells": [
  {
   "cell_type": "code",
   "execution_count": 1,
   "id": "62441a5e-c75d-4ae2-83cf-50119081a39b",
   "metadata": {},
   "outputs": [],
   "source": [
    "from db_tools.setup import setup\n",
    "from pyspark.sql.types import StructType,StructField, StringType, IntegerType"
   ]
  },
  {
   "cell_type": "code",
   "execution_count": 2,
   "id": "4085aa49-49ef-4adb-9cb8-335c09492e16",
   "metadata": {},
   "outputs": [
    {
     "name": "stderr",
     "output_type": "stream",
     "text": [
      "23/10/28 19:50:53 WARN Utils: Your hostname, luan-Dell-G15-5520 resolves to a loopback address: 127.0.1.1; using 192.168.1.12 instead (on interface wlp0s20f3)\n",
      "23/10/28 19:50:53 WARN Utils: Set SPARK_LOCAL_IP if you need to bind to another address\n",
      "23/10/28 19:50:53 WARN NativeCodeLoader: Unable to load native-hadoop library for your platform... using builtin-java classes where applicable\n",
      "Setting default log level to \"WARN\".\n",
      "To adjust logging level use sc.setLogLevel(newLevel). For SparkR, use setLogLevel(newLevel).\n",
      "23/10/28 19:50:54 WARN Utils: Service 'SparkUI' could not bind on port 4040. Attempting port 4041.\n"
     ]
    },
    {
     "name": "stdout",
     "output_type": "stream",
     "text": [
      "SparkSession available as \"spark\"\n"
     ]
    }
   ],
   "source": [
    "spark = setup()"
   ]
  },
  {
   "cell_type": "code",
   "execution_count": 3,
   "id": "188c399a-ebef-4092-900d-4f8abec58441",
   "metadata": {},
   "outputs": [],
   "source": [
    "def show_query(query,SparkSession = spark,n = 20):\n",
    "    return SparkSession.sql(query).show()"
   ]
  },
  {
   "cell_type": "markdown",
   "id": "71428826-58cb-44f0-85bc-ee6116ab238e",
   "metadata": {},
   "source": [
    "# CTE Examples"
   ]
  },
  {
   "cell_type": "markdown",
   "id": "be02acb1-9a4a-4ab1-b3eb-7d5812361c25",
   "metadata": {},
   "source": [
    "## Classic example"
   ]
  },
  {
   "cell_type": "code",
   "execution_count": 7,
   "id": "8f6bdc9a-43ec-43c9-aa01-e7410cea7ba4",
   "metadata": {},
   "outputs": [
    {
     "name": "stdout",
     "output_type": "stream",
     "text": [
      "+-------+--------------------+------+\n",
      "|film_id|               title|length|\n",
      "+-------+--------------------+------+\n",
      "|      4|    Affair Prejudice|  Long|\n",
      "|      5|         African Egg|  Long|\n",
      "|      6|        Agent Truman|  Long|\n",
      "|      9|       Alabama Devil|  Long|\n",
      "|     11|     Alamo Videotape|  Long|\n",
      "|     12|      Alaska Phantom|  Long|\n",
      "|     13|         Ali Forever|  Long|\n",
      "|     14|      Alice Fantasia|  Long|\n",
      "|     16|     Alley Evolution|  Long|\n",
      "|     19|        Amadeus Holy|  Long|\n",
      "|     21|     American Circus|  Long|\n",
      "|     23|Anaconda Confessions|  Long|\n",
      "|     24|    Analyze Hoosiers|  Long|\n",
      "|     27|     Anonymous Human|  Long|\n",
      "|     28|         Anthem Luke|  Long|\n",
      "|     29|  Antitrust Tomatoes|  Long|\n",
      "|     31|       Apache Divine|  Long|\n",
      "|     32|Apocalypse Flamingos|  Long|\n",
      "|     33|         Apollo Teen|  Long|\n",
      "|     35|Arachnophobia Rol...|  Long|\n",
      "+-------+--------------------+------+\n",
      "only showing top 20 rows\n",
      "\n"
     ]
    }
   ],
   "source": [
    "query = \"\"\"\n",
    "WITH cte_film AS (\n",
    "    SELECT \n",
    "        film_id, \n",
    "        title,\n",
    "        (CASE \n",
    "            WHEN length < 30 THEN 'Short'\n",
    "            WHEN length < 90 THEN 'Medium'\n",
    "            ELSE 'Long'\n",
    "        END) length    \n",
    "    FROM\n",
    "        film\n",
    ")\n",
    "SELECT\n",
    "    film_id,\n",
    "    title,\n",
    "    length\n",
    "FROM \n",
    "    cte_film\n",
    "WHERE\n",
    "    length = 'Long'\n",
    "ORDER BY \n",
    "    title; \n",
    "\"\"\"\n",
    "show_query(query)"
   ]
  },
  {
   "cell_type": "markdown",
   "id": "c2e77371-1676-4443-863d-ede909aee4b9",
   "metadata": {},
   "source": [
    "## CTE and JOIN"
   ]
  },
  {
   "cell_type": "code",
   "execution_count": 8,
   "id": "a4900ffa-4b26-4675-bca9-e857bd116ac8",
   "metadata": {},
   "outputs": [
    {
     "name": "stdout",
     "output_type": "stream",
     "text": [
      "+--------+----------+---------+------------+\n",
      "|staff_id|first_name|last_name|rental_count|\n",
      "+--------+----------+---------+------------+\n",
      "|       1|      Mike|  Hillyer|        8040|\n",
      "|       2|       Jon| Stephens|        8004|\n",
      "+--------+----------+---------+------------+\n",
      "\n"
     ]
    }
   ],
   "source": [
    "query = \"\"\"\n",
    "WITH cte_rental AS (\n",
    "    SELECT staff_id,\n",
    "        COUNT(rental_id) rental_count\n",
    "    FROM   rental\n",
    "    GROUP  BY staff_id\n",
    ")\n",
    "SELECT s.staff_id,\n",
    "    first_name,\n",
    "    last_name,\n",
    "    rental_count\n",
    "FROM staff s\n",
    "    INNER JOIN cte_rental USING (staff_id); \n",
    "\"\"\"\n",
    "show_query(query)"
   ]
  },
  {
   "cell_type": "markdown",
   "id": "13c92c73-4050-4065-b5c7-7357ed976a97",
   "metadata": {},
   "source": [
    "## CTE and windowing"
   ]
  },
  {
   "cell_type": "code",
   "execution_count": 9,
   "id": "b5a50e85-014b-4458-b36a-7bb097cf0d29",
   "metadata": {},
   "outputs": [
    {
     "name": "stdout",
     "output_type": "stream",
     "text": [
      "+-------+------------------+------+------+-----------+\n",
      "|film_id|             title|rating|length|length_rank|\n",
      "+-------+------------------+------+------+-----------+\n",
      "|    182|    Control Anthem|     G|   185|          1|\n",
      "|    212|    Darn Forrester|     G|   185|          1|\n",
      "|    609|     Muscle Bright|     G|   185|          1|\n",
      "|    198|  Crystal Breaking| NC-17|   184|          1|\n",
      "|    499|    King Evolution| NC-17|   184|          1|\n",
      "|    820|    Sons Interview| NC-17|   184|          1|\n",
      "|    821|    Sorority Queen| NC-17|   184|          1|\n",
      "|    991|      Worst Banger|    PG|   185|          1|\n",
      "|    141|     Chicago North| PG-13|   185|          1|\n",
      "|    349|       Gangs Pride| PG-13|   185|          1|\n",
      "|    690|      Pond Seattle| PG-13|   185|          1|\n",
      "|    426|         Home Pity|     R|   185|          1|\n",
      "|    817|Soldiers Evolution|     R|   185|          1|\n",
      "|    872| Sweet Brotherhood|     R|   185|          1|\n",
      "+-------+------------------+------+------+-----------+\n",
      "\n"
     ]
    }
   ],
   "source": [
    "query = \"\"\"\n",
    "WITH cte_film AS  (\n",
    "    SELECT film_id,\n",
    "        title,\n",
    "        rating,\n",
    "        length,\n",
    "        RANK() OVER (\n",
    "            PARTITION BY rating\n",
    "            ORDER BY length DESC) \n",
    "        length_rank\n",
    "    FROM \n",
    "        film\n",
    ")\n",
    "SELECT *\n",
    "FROM cte_film\n",
    "WHERE length_rank = 1;\n",
    "\"\"\"\n",
    "show_query(query)"
   ]
  },
  {
   "cell_type": "code",
   "execution_count": null,
   "id": "477d163c-c148-4bd9-929c-d16fe92ccd5e",
   "metadata": {},
   "outputs": [],
   "source": []
  }
 ],
 "metadata": {
  "kernelspec": {
   "display_name": "Python 3 (ipykernel)",
   "language": "python",
   "name": "python3"
  },
  "language_info": {
   "codemirror_mode": {
    "name": "ipython",
    "version": 3
   },
   "file_extension": ".py",
   "mimetype": "text/x-python",
   "name": "python",
   "nbconvert_exporter": "python",
   "pygments_lexer": "ipython3",
   "version": "3.11.6"
  }
 },
 "nbformat": 4,
 "nbformat_minor": 5
}
