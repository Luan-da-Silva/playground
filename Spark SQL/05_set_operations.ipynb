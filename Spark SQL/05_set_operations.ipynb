{
 "cells": [
  {
   "cell_type": "markdown",
   "id": "2f6952c2-d0e4-4d6d-9d60-e131e482e7b9",
   "metadata": {},
   "source": [
    "# Connecting to the database"
   ]
  },
  {
   "cell_type": "code",
   "execution_count": 6,
   "id": "78d11f52-24c7-404d-a19e-b5d3eeb0bdd8",
   "metadata": {},
   "outputs": [],
   "source": [
    "from db_tools.setup import setup\n",
    "from pyspark.sql.types import StructType,StructField, StringType, IntegerType"
   ]
  },
  {
   "cell_type": "markdown",
   "id": "1ed32a83-8144-43ed-980e-17bd49c940e9",
   "metadata": {},
   "source": [
    "# Getitng a SparkSession"
   ]
  },
  {
   "cell_type": "code",
   "execution_count": 2,
   "id": "7e2835f6-ca2b-4429-8d7c-09542b9f66c5",
   "metadata": {},
   "outputs": [
    {
     "name": "stderr",
     "output_type": "stream",
     "text": [
      "23/10/26 23:29:11 WARN Utils: Your hostname, luan-Dell-G15-5520 resolves to a loopback address: 127.0.1.1; using 192.168.1.12 instead (on interface wlp0s20f3)\n",
      "23/10/26 23:29:11 WARN Utils: Set SPARK_LOCAL_IP if you need to bind to another address\n",
      "23/10/26 23:29:11 WARN NativeCodeLoader: Unable to load native-hadoop library for your platform... using builtin-java classes where applicable\n",
      "Setting default log level to \"WARN\".\n",
      "To adjust logging level use sc.setLogLevel(newLevel). For SparkR, use setLogLevel(newLevel).\n"
     ]
    },
    {
     "name": "stdout",
     "output_type": "stream",
     "text": [
      "SparkSession available as \"spark\"\n"
     ]
    }
   ],
   "source": [
    "spark = setup()"
   ]
  },
  {
   "cell_type": "code",
   "execution_count": 3,
   "id": "f765dfbf-a1e5-4732-b8f9-3737d5df1e66",
   "metadata": {},
   "outputs": [],
   "source": [
    "def show_query(query,SparkSession = spark,n = 20):\n",
    "    return SparkSession.sql(query).show()"
   ]
  },
  {
   "cell_type": "markdown",
   "id": "190e164e-6ef2-41c3-842d-66f9cf430cde",
   "metadata": {},
   "source": [
    "# Set operations in SQL"
   ]
  },
  {
   "cell_type": "markdown",
   "id": "9c777f4b-92f3-413f-974f-8868960e0bb4",
   "metadata": {},
   "source": [
    "<center><img width=750 src=\"https://n7b3p4s2.stackpathcdn.com/article/the-complete-reference-set-operations-in-ms-sql-union-all-intersect-excep/Images/e6.png\"/></center>"
   ]
  },
  {
   "cell_type": "code",
   "execution_count": 13,
   "id": "117ce00a-fc09-47c8-9209-e63b15556c92",
   "metadata": {},
   "outputs": [],
   "source": [
    "film_schema = StructType([ \\\n",
    "    StructField(\"title\",StringType(),True), \\\n",
    "    StructField(\"release_year\",IntegerType(),True)\n",
    "  ])\n",
    "films = [ ('An American Pickle',2020),\n",
    "          ('The Godfather',1972),\n",
    "          ('Greyhound',2020)]\n",
    "columns = ['title','release_year']\n",
    "rdd = spark.sparkContext.parallelize(films)\n",
    "spark.createDataFrame(rdd, schema = film_schema).createOrReplaceTempView('top_rated_films')"
   ]
  },
  {
   "cell_type": "code",
   "execution_count": 14,
   "id": "0cc5fe6c-dabf-4a3e-b101-02fb5451a980",
   "metadata": {},
   "outputs": [],
   "source": [
    "film_schema = StructType([ \\\n",
    "    StructField(\"title\",StringType(),True), \\\n",
    "    StructField(\"release_year\",IntegerType(),True)\n",
    "  ])\n",
    "films = [ ('The Shawshank Redemption',1994),\n",
    "          ('The Godfather',1972),\n",
    "          ('12 Angry Men',1957)]\n",
    "columns = ['title','release_year']\n",
    "rdd = spark.sparkContext.parallelize(films)\n",
    "spark.createDataFrame(rdd, schema = film_schema).createOrReplaceTempView('most_popular_films')"
   ]
  },
  {
   "cell_type": "markdown",
   "id": "de17e798-85fc-4a04-a977-5ff0f1cd531d",
   "metadata": {},
   "source": [
    "# UNION: drop duplicates"
   ]
  },
  {
   "cell_type": "code",
   "execution_count": 15,
   "id": "ac74e6b7-4e79-43b3-bbaa-4c4bac67ff2b",
   "metadata": {},
   "outputs": [
    {
     "name": "stdout",
     "output_type": "stream",
     "text": [
      "+--------------------+------------+\n",
      "|               title|release_year|\n",
      "+--------------------+------------+\n",
      "|  An American Pickle|        2020|\n",
      "|       The Godfather|        1972|\n",
      "|           Greyhound|        2020|\n",
      "|The Shawshank Red...|        1994|\n",
      "|        12 Angry Men|        1957|\n",
      "+--------------------+------------+\n",
      "\n"
     ]
    },
    {
     "name": "stderr",
     "output_type": "stream",
     "text": [
      "                                                                                \r"
     ]
    }
   ],
   "source": [
    "query = \"\"\"\n",
    "SELECT * FROM top_rated_films\n",
    "UNION\n",
    "SELECT * FROM most_popular_films\n",
    "\"\"\"\n",
    "show_query(query)"
   ]
  },
  {
   "cell_type": "markdown",
   "id": "015d74cf-bef3-49b9-9a3f-542edae78d0e",
   "metadata": {},
   "source": [
    "# UNION ALL: does NOT drop duplicates"
   ]
  },
  {
   "cell_type": "code",
   "execution_count": 19,
   "id": "9ca3f988-8dfe-4b44-9a68-e14d83ca0635",
   "metadata": {},
   "outputs": [
    {
     "name": "stdout",
     "output_type": "stream",
     "text": [
      "+--------------------+------------+---------+\n",
      "|               title|release_year|frequency|\n",
      "+--------------------+------------+---------+\n",
      "|       The Godfather|        1972|        2|\n",
      "|  An American Pickle|        2020|        1|\n",
      "|           Greyhound|        2020|        1|\n",
      "|The Shawshank Red...|        1994|        1|\n",
      "|        12 Angry Men|        1957|        1|\n",
      "+--------------------+------------+---------+\n",
      "\n"
     ]
    }
   ],
   "source": [
    "query = \"\"\" SELECT title,release_year,COUNT(title) AS frequency\n",
    "FROM(\n",
    "SELECT * FROM top_rated_films\n",
    "UNION ALL\n",
    "SELECT * FROM most_popular_films)\n",
    "GROUP BY title,release_year\n",
    "ORDER BY frequency DESC\n",
    "\"\"\"\n",
    "show_query(query)"
   ]
  },
  {
   "cell_type": "markdown",
   "id": "4d461d17-74f3-435c-bd45-16b1bf5773af",
   "metadata": {},
   "source": [
    "# INTERSECT"
   ]
  },
  {
   "cell_type": "code",
   "execution_count": 22,
   "id": "2db7a820-870c-4aaa-bc4c-55467e17ac19",
   "metadata": {},
   "outputs": [
    {
     "name": "stdout",
     "output_type": "stream",
     "text": [
      "+-------------+------------+\n",
      "|        title|release_year|\n",
      "+-------------+------------+\n",
      "|The Godfather|        1972|\n",
      "+-------------+------------+\n",
      "\n"
     ]
    }
   ],
   "source": [
    "query = \"\"\" \n",
    "SELECT * FROM top_rated_films\n",
    "INTERSECT\n",
    "SELECT * FROM most_popular_films\n",
    "\"\"\"\n",
    "show_query(query)"
   ]
  },
  {
   "cell_type": "markdown",
   "id": "8e3a0c64-458e-4d5e-ac0b-5746af7c00e6",
   "metadata": {},
   "source": [
    "# EXCEPT"
   ]
  },
  {
   "cell_type": "code",
   "execution_count": 23,
   "id": "17d4a031-e981-4174-84da-662548439c01",
   "metadata": {},
   "outputs": [
    {
     "name": "stdout",
     "output_type": "stream",
     "text": [
      "+------------------+------------+\n",
      "|             title|release_year|\n",
      "+------------------+------------+\n",
      "|         Greyhound|        2020|\n",
      "|An American Pickle|        2020|\n",
      "+------------------+------------+\n",
      "\n"
     ]
    }
   ],
   "source": [
    "query = \"\"\" \n",
    "SELECT * FROM top_rated_films\n",
    "EXCEPT\n",
    "SELECT * FROM most_popular_films\n",
    "\"\"\"\n",
    "show_query(query)"
   ]
  },
  {
   "cell_type": "code",
   "execution_count": 24,
   "id": "0268b9d8-4e34-46e6-bebf-cf2423b61051",
   "metadata": {},
   "outputs": [
    {
     "name": "stdout",
     "output_type": "stream",
     "text": [
      "+--------------------+------------+\n",
      "|               title|release_year|\n",
      "+--------------------+------------+\n",
      "|The Shawshank Red...|        1994|\n",
      "|        12 Angry Men|        1957|\n",
      "+--------------------+------------+\n",
      "\n"
     ]
    },
    {
     "name": "stderr",
     "output_type": "stream",
     "text": [
      "                                                                                \r"
     ]
    }
   ],
   "source": [
    "query = \"\"\" \n",
    "SELECT * FROM most_popular_films\n",
    "EXCEPT\n",
    "SELECT * FROM top_rated_films\n",
    "\"\"\"\n",
    "show_query(query)"
   ]
  }
 ],
 "metadata": {
  "kernelspec": {
   "display_name": "Python 3 (ipykernel)",
   "language": "python",
   "name": "python3"
  },
  "language_info": {
   "codemirror_mode": {
    "name": "ipython",
    "version": 3
   },
   "file_extension": ".py",
   "mimetype": "text/x-python",
   "name": "python",
   "nbconvert_exporter": "python",
   "pygments_lexer": "ipython3",
   "version": "3.11.6"
  }
 },
 "nbformat": 4,
 "nbformat_minor": 5
}
