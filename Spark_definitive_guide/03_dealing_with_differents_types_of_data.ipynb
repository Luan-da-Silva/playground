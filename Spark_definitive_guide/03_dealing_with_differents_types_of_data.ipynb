{
 "cells": [
  {
   "cell_type": "code",
   "execution_count": 1,
   "id": "ec68f13d-d4bc-446c-ae0f-2141892d60e3",
   "metadata": {},
   "outputs": [],
   "source": [
    "from pyspark.sql import SparkSession\n",
    "import pyspark.sql.functions as F\n",
    "from pyspark.sql.types import StructField, StructType, StringType, LongType, DoubleType, FloatType"
   ]
  },
  {
   "cell_type": "markdown",
   "id": "ab094e2f-3563-456b-86c3-6c36b1596eb9",
   "metadata": {},
   "source": [
    "# Creating a SparkSession"
   ]
  },
  {
   "cell_type": "code",
   "execution_count": 2,
   "id": "3627f6d7-099b-447c-ab19-b27afeeced12",
   "metadata": {},
   "outputs": [
    {
     "name": "stderr",
     "output_type": "stream",
     "text": [
      "23/11/26 19:22:00 WARN Utils: Your hostname, luan-Dell-G15-5520 resolves to a loopback address: 127.0.1.1; using 192.168.1.12 instead (on interface wlp0s20f3)\n",
      "23/11/26 19:22:00 WARN Utils: Set SPARK_LOCAL_IP if you need to bind to another address\n",
      "Setting default log level to \"WARN\".\n",
      "To adjust logging level use sc.setLogLevel(newLevel). For SparkR, use setLogLevel(newLevel).\n",
      "23/11/26 19:22:00 WARN NativeCodeLoader: Unable to load native-hadoop library for your platform... using builtin-java classes where applicable\n"
     ]
    }
   ],
   "source": [
    "spark = SparkSession.builder \\\n",
    "    .appName(\"basic_app\") \\\n",
    "    .getOrCreate()"
   ]
  },
  {
   "cell_type": "markdown",
   "id": "307f41d0-e1c4-4d9c-af0a-2a56121d6f8e",
   "metadata": {},
   "source": [
    "# Loading Data"
   ]
  },
  {
   "cell_type": "code",
   "execution_count": 3,
   "id": "a7226480-8aaa-4235-b651-ff367e116be9",
   "metadata": {},
   "outputs": [
    {
     "name": "stdout",
     "output_type": "stream",
     "text": [
      "root\n",
      " |-- InvoiceNo: string (nullable = true)\n",
      " |-- StockCode: string (nullable = true)\n",
      " |-- Description: string (nullable = true)\n",
      " |-- Quantity: integer (nullable = true)\n",
      " |-- InvoiceDate: timestamp (nullable = true)\n",
      " |-- UnitPrice: double (nullable = true)\n",
      " |-- CustomerID: double (nullable = true)\n",
      " |-- Country: string (nullable = true)\n",
      "\n"
     ]
    }
   ],
   "source": [
    "df = spark.read.format(\"csv\")\\\n",
    ".option(\"header\", \"true\")\\\n",
    ".option(\"inferSchema\", \"true\")\\\n",
    ".load(\"../../../spark_data_examples/retail-data/by-day/2010-12-01.csv\")\n",
    "df.printSchema()\n",
    "df.createOrReplaceTempView(\"dfTable\")"
   ]
  },
  {
   "cell_type": "markdown",
   "id": "8f185dc4-d597-4a5e-985e-c44bdcfc2d5d",
   "metadata": {},
   "source": [
    "# Checking data head"
   ]
  },
  {
   "cell_type": "markdown",
   "id": "26d464b7-ea2e-4fe4-bcdb-e2a97a2ea1b5",
   "metadata": {},
   "source": [
    "## F.lit: converts a type in another language to its corresponding Spark representation"
   ]
  },
  {
   "cell_type": "code",
   "execution_count": 4,
   "id": "896557a5-b3dc-4396-81c1-1497a8671dee",
   "metadata": {},
   "outputs": [
    {
     "name": "stdout",
     "output_type": "stream",
     "text": [
      "+---------+---------+--------------------+--------+-------------------+---------+----------+--------------+\n",
      "|InvoiceNo|StockCode|         Description|Quantity|        InvoiceDate|UnitPrice|CustomerID|       Country|\n",
      "+---------+---------+--------------------+--------+-------------------+---------+----------+--------------+\n",
      "|   536365|   85123A|WHITE HANGING HEA...|       6|2010-12-01 08:26:00|     2.55|   17850.0|United Kingdom|\n",
      "|   536365|    71053| WHITE METAL LANTERN|       6|2010-12-01 08:26:00|     3.39|   17850.0|United Kingdom|\n",
      "|   536365|   84406B|CREAM CUPID HEART...|       8|2010-12-01 08:26:00|     2.75|   17850.0|United Kingdom|\n",
      "+---------+---------+--------------------+--------+-------------------+---------+----------+--------------+\n",
      "only showing top 3 rows\n",
      "\n"
     ]
    }
   ],
   "source": [
    "df.show(3)"
   ]
  },
  {
   "cell_type": "markdown",
   "id": "12059d4e-cc3b-472c-bd20-2e981f5eeb68",
   "metadata": {},
   "source": [
    "# Converting to Spark Types"
   ]
  },
  {
   "cell_type": "code",
   "execution_count": 5,
   "id": "a14fce43-08c3-440d-b80a-4520b1387cb3",
   "metadata": {},
   "outputs": [
    {
     "name": "stdout",
     "output_type": "stream",
     "text": [
      "+---+----+---+\n",
      "|  5|five|5.0|\n",
      "+---+----+---+\n",
      "|  5|five|5.0|\n",
      "|  5|five|5.0|\n",
      "|  5|five|5.0|\n",
      "+---+----+---+\n",
      "only showing top 3 rows\n",
      "\n"
     ]
    }
   ],
   "source": [
    "df.select(F.lit(5), F.lit(\"five\"), F.lit(5.0)).show(3)"
   ]
  },
  {
   "cell_type": "code",
   "execution_count": 6,
   "id": "bc31096b-a485-462d-a3ca-0daf7fe0d6bf",
   "metadata": {},
   "outputs": [
    {
     "name": "stdout",
     "output_type": "stream",
     "text": [
      "+---+----+---+\n",
      "|  5|five|5.0|\n",
      "+---+----+---+\n",
      "|  5|five|5.0|\n",
      "+---+----+---+\n",
      "\n"
     ]
    }
   ],
   "source": [
    "spark.sql(\"\"\"SELECT 5, \"five\", 5.0\"\"\").show()"
   ]
  },
  {
   "cell_type": "markdown",
   "id": "79492c1c-adfb-4661-afc7-9275f268617e",
   "metadata": {},
   "source": [
    "# Working with Booleans"
   ]
  },
  {
   "cell_type": "markdown",
   "id": "103de379-c718-4346-8fc9-31cfe23ba11a",
   "metadata": {},
   "source": [
    "## Example 1"
   ]
  },
  {
   "cell_type": "code",
   "execution_count": 7,
   "id": "60a65a46-f201-44b7-ab93-90ff7fe59782",
   "metadata": {},
   "outputs": [
    {
     "name": "stdout",
     "output_type": "stream",
     "text": [
      "+---------+-----------------------------------+\n",
      "|InvoiceNo|Description                        |\n",
      "+---------+-----------------------------------+\n",
      "|536365   |WHITE HANGING HEART T-LIGHT HOLDER |\n",
      "|536365   |WHITE METAL LANTERN                |\n",
      "|536365   |CREAM CUPID HEARTS COAT HANGER     |\n",
      "|536365   |KNITTED UNION FLAG HOT WATER BOTTLE|\n",
      "|536365   |RED WOOLLY HOTTIE WHITE HEART.     |\n",
      "+---------+-----------------------------------+\n",
      "only showing top 5 rows\n",
      "\n"
     ]
    }
   ],
   "source": [
    "# verbose\n",
    "df.where(F.col(\"InvoiceNo\") == 536365)\\\n",
    ".select(\"InvoiceNo\", \"Description\")\\\n",
    ".show(5,False)"
   ]
  },
  {
   "cell_type": "code",
   "execution_count": 8,
   "id": "e9757dcf-70b0-48d7-8754-72cddd9309ed",
   "metadata": {},
   "outputs": [
    {
     "name": "stdout",
     "output_type": "stream",
     "text": [
      "+---------+-----------------------------------+\n",
      "|InvoiceNo|Description                        |\n",
      "+---------+-----------------------------------+\n",
      "|536365   |WHITE HANGING HEART T-LIGHT HOLDER |\n",
      "|536365   |WHITE METAL LANTERN                |\n",
      "|536365   |CREAM CUPID HEARTS COAT HANGER     |\n",
      "|536365   |KNITTED UNION FLAG HOT WATER BOTTLE|\n",
      "|536365   |RED WOOLLY HOTTIE WHITE HEART.     |\n",
      "+---------+-----------------------------------+\n",
      "only showing top 5 rows\n",
      "\n"
     ]
    }
   ],
   "source": [
    "# Cleaner execution\n",
    "spark.sql(\"SELECT InvoiceNo, Description FROM dfTable WHERE InvoiceNo == 536365\").show(5,False)"
   ]
  },
  {
   "cell_type": "code",
   "execution_count": 9,
   "id": "840a8bd1-4da3-4379-ac70-82fab56b8a56",
   "metadata": {},
   "outputs": [
    {
     "name": "stdout",
     "output_type": "stream",
     "text": [
      "+---------+-----------------------------------+\n",
      "|InvoiceNo|Description                        |\n",
      "+---------+-----------------------------------+\n",
      "|536365   |WHITE HANGING HEART T-LIGHT HOLDER |\n",
      "|536365   |WHITE METAL LANTERN                |\n",
      "|536365   |CREAM CUPID HEARTS COAT HANGER     |\n",
      "|536365   |KNITTED UNION FLAG HOT WATER BOTTLE|\n",
      "|536365   |RED WOOLLY HOTTIE WHITE HEART.     |\n",
      "+---------+-----------------------------------+\n",
      "only showing top 5 rows\n",
      "\n"
     ]
    }
   ],
   "source": [
    "# Other alternatives\n",
    "df[['InvoiceNo','Description']].where(\"InvoiceNo = 536365\")\\\n",
    ".show(5, False)"
   ]
  },
  {
   "cell_type": "markdown",
   "id": "d62a957d-9c70-46c1-bda5-36ecf6ce96b3",
   "metadata": {},
   "source": [
    "## Example 2"
   ]
  },
  {
   "cell_type": "code",
   "execution_count": 10,
   "id": "142a196e-be1c-42a2-9140-2cca0e998bf1",
   "metadata": {},
   "outputs": [
    {
     "name": "stdout",
     "output_type": "stream",
     "text": [
      "+---------+---------+--------------+--------+-------------------+---------+----------+--------------+\n",
      "|InvoiceNo|StockCode|   Description|Quantity|        InvoiceDate|UnitPrice|CustomerID|       Country|\n",
      "+---------+---------+--------------+--------+-------------------+---------+----------+--------------+\n",
      "|   536544|      DOT|DOTCOM POSTAGE|       1|2010-12-01 14:32:00|   569.77|      null|United Kingdom|\n",
      "|   536592|      DOT|DOTCOM POSTAGE|       1|2010-12-01 17:06:00|   607.49|      null|United Kingdom|\n",
      "+---------+---------+--------------+--------+-------------------+---------+----------+--------------+\n",
      "\n"
     ]
    }
   ],
   "source": [
    "priceFilter = F.col(\"UnitPrice\") > 600\n",
    "descripFilter = F.instr(df.Description, \"POSTAGE\") >= 1\n",
    "df.where(df.StockCode.isin(\"DOT\")).where(priceFilter | descripFilter).show()"
   ]
  },
  {
   "cell_type": "code",
   "execution_count": 11,
   "id": "819d7566-deb5-47bd-a734-f1d88762f4ed",
   "metadata": {},
   "outputs": [
    {
     "name": "stdout",
     "output_type": "stream",
     "text": [
      "+---------+---------+--------------+--------+-------------------+---------+----------+--------------+\n",
      "|InvoiceNo|StockCode|   Description|Quantity|        InvoiceDate|UnitPrice|CustomerID|       Country|\n",
      "+---------+---------+--------------+--------+-------------------+---------+----------+--------------+\n",
      "|   536544|      DOT|DOTCOM POSTAGE|       1|2010-12-01 14:32:00|   569.77|      null|United Kingdom|\n",
      "|   536592|      DOT|DOTCOM POSTAGE|       1|2010-12-01 17:06:00|   607.49|      null|United Kingdom|\n",
      "+---------+---------+--------------+--------+-------------------+---------+----------+--------------+\n",
      "\n"
     ]
    }
   ],
   "source": [
    "# Doing the same query with pure sql\n",
    "spark.sql(\"\"\"SELECT * FROM dfTable WHERE (Description LIKE \"%POSTAGE%\") AND (StockCode LIKE \"%DOT%\")\"\"\").show()"
   ]
  },
  {
   "cell_type": "code",
   "execution_count": 12,
   "id": "6a870455-f7bc-4a98-bee3-4077ea823e73",
   "metadata": {},
   "outputs": [
    {
     "name": "stdout",
     "output_type": "stream",
     "text": [
      "+---------+---------+--------------+--------+-------------------+---------+----------+--------------+\n",
      "|InvoiceNo|StockCode|   Description|Quantity|        InvoiceDate|UnitPrice|CustomerID|       Country|\n",
      "+---------+---------+--------------+--------+-------------------+---------+----------+--------------+\n",
      "|   536544|      DOT|DOTCOM POSTAGE|       1|2010-12-01 14:32:00|   569.77|      null|United Kingdom|\n",
      "|   536592|      DOT|DOTCOM POSTAGE|       1|2010-12-01 17:06:00|   607.49|      null|United Kingdom|\n",
      "+---------+---------+--------------+--------+-------------------+---------+----------+--------------+\n",
      "\n"
     ]
    }
   ],
   "source": [
    "# Calling spark functions inside the query\n",
    "spark.sql(\"\"\"SELECT * FROM dfTable WHERE StockCode in (\"DOT\") AND(UnitPrice > 600 OR\n",
    "instr(Description, \"POSTAGE\") >= 1)\"\"\").show()"
   ]
  },
  {
   "cell_type": "markdown",
   "id": "6a06602e-6b18-4de9-888c-ffb5e5fde68a",
   "metadata": {},
   "source": [
    "## Example 3"
   ]
  },
  {
   "cell_type": "code",
   "execution_count": 13,
   "id": "304436ab-492a-4e04-b10f-a8d341694094",
   "metadata": {},
   "outputs": [
    {
     "name": "stdout",
     "output_type": "stream",
     "text": [
      "+---------+-----------+\n",
      "|unitPrice|isExpensive|\n",
      "+---------+-----------+\n",
      "|   569.77|       true|\n",
      "|   607.49|       true|\n",
      "+---------+-----------+\n",
      "\n"
     ]
    }
   ],
   "source": [
    "# Using pure spark\n",
    "DOTCodeFilter = F.col(\"StockCode\") == \"DOT\"\n",
    "priceFilter = F.col(\"UnitPrice\") > 600\n",
    "descripFilter = F.instr(F.col(\"Description\"), \"POSTAGE\") >= 1\n",
    "df.withColumn(\"isExpensive\", DOTCodeFilter & (priceFilter | descripFilter))\\\n",
    ".where(\"isExpensive\")\\\n",
    ".select(\"unitPrice\", \"isExpensive\").show(5)"
   ]
  },
  {
   "cell_type": "code",
   "execution_count": 14,
   "id": "1d953e3e-1044-453f-b9af-bd0836180c9b",
   "metadata": {},
   "outputs": [
    {
     "name": "stdout",
     "output_type": "stream",
     "text": [
      "+---------+-----------+\n",
      "|UnitPrice|isExpensive|\n",
      "+---------+-----------+\n",
      "|   569.77|       true|\n",
      "|   607.49|       true|\n",
      "+---------+-----------+\n",
      "\n"
     ]
    }
   ],
   "source": [
    "spark.sql(\"\"\"SELECT UnitPrice, (StockCode = 'DOT' AND\n",
    "(UnitPrice > 600 OR instr(Description, \"POSTAGE\") >= 1)) as isExpensive\n",
    "FROM dfTable\n",
    "WHERE (StockCode = 'DOT' AND\n",
    "(UnitPrice > 600 OR instr(Description, \"POSTAGE\") >= 1))\"\"\").show()"
   ]
  },
  {
   "cell_type": "code",
   "execution_count": 15,
   "id": "46ee26ed-808f-4b9a-9185-a07215eaaa0a",
   "metadata": {},
   "outputs": [
    {
     "name": "stdout",
     "output_type": "stream",
     "text": [
      "+---------+-----------+\n",
      "|UnitPrice|isExpensive|\n",
      "+---------+-----------+\n",
      "|   569.77|       true|\n",
      "|   607.49|       true|\n",
      "+---------+-----------+\n",
      "\n"
     ]
    }
   ],
   "source": [
    "spark.sql(\"\"\"SELECT UnitPrice, (StockCode = 'DOT' AND\n",
    "(UnitPrice > 600 OR Description LIKE \"%POSTAGE\")) as isExpensive\n",
    "FROM dfTable\n",
    "WHERE (StockCode = 'DOT' AND\n",
    "(UnitPrice > 600 OR Description LIKE \"%POSTAGE\"))\"\"\").show()"
   ]
  },
  {
   "cell_type": "markdown",
   "id": "11791128-5fe2-4dab-b98d-34bd442429f1",
   "metadata": {},
   "source": [
    "## Example 4"
   ]
  },
  {
   "cell_type": "code",
   "execution_count": 16,
   "id": "90cf6a03-34d7-4322-ad5d-955664ed977e",
   "metadata": {},
   "outputs": [
    {
     "name": "stdout",
     "output_type": "stream",
     "text": [
      "+--------------+---------+\n",
      "|   Description|UnitPrice|\n",
      "+--------------+---------+\n",
      "|DOTCOM POSTAGE|   569.77|\n",
      "|DOTCOM POSTAGE|   607.49|\n",
      "+--------------+---------+\n",
      "\n"
     ]
    }
   ],
   "source": [
    "df.withColumn(\"isExpensive\", F.expr(\"NOT UnitPrice <= 250\"))\\\n",
    ".where(\"isExpensive\")\\\n",
    ".select(\"Description\", \"UnitPrice\").show(5)"
   ]
  },
  {
   "cell_type": "markdown",
   "id": "0346f1fe-993e-4778-bdf2-7cf7900ff90d",
   "metadata": {},
   "source": [
    "## Note"
   ]
  },
  {
   "cell_type": "markdown",
   "id": "6ad965ca-257a-4115-ba98-e0a81e580e78",
   "metadata": {},
   "source": [
    "One “gotcha” that can come up is if you’re working with null data\n",
    "when creating Boolean expressions. If there is a null in your data,\n",
    "you’ll need to treat things a bit differently. Here’s how you can\n",
    "ensure that you perform a null-safe equivalence test:\n",
    "`df.where(col(\"Description\").eqNullSafe(\"hello\")).show()`\n"
   ]
  },
  {
   "cell_type": "markdown",
   "id": "ad6b1993-d1bb-4c08-8f80-34b5e862682b",
   "metadata": {},
   "source": [
    "# Working with numbers"
   ]
  },
  {
   "cell_type": "markdown",
   "id": "527fdbb3-4864-40f6-8639-5a70b2f406b6",
   "metadata": {},
   "source": [
    "## Basic mathematical operations"
   ]
  },
  {
   "cell_type": "code",
   "execution_count": 17,
   "id": "61f9f3a0-2968-43d8-8c31-261d7d73dcbe",
   "metadata": {},
   "outputs": [
    {
     "name": "stdout",
     "output_type": "stream",
     "text": [
      "+----------+------------------+\n",
      "|CustomerId|      realQuantity|\n",
      "+----------+------------------+\n",
      "|   17850.0|239.08999999999997|\n",
      "|   17850.0|          418.7156|\n",
      "+----------+------------------+\n",
      "only showing top 2 rows\n",
      "\n"
     ]
    }
   ],
   "source": [
    "fabricatedQuantity = F.pow(F.col(\"Quantity\") * F.col(\"UnitPrice\"), 2) + 5\n",
    "df.select(F.expr(\"CustomerId\"), fabricatedQuantity.alias(\"realQuantity\")).show(2)"
   ]
  },
  {
   "cell_type": "code",
   "execution_count": 18,
   "id": "d7eff304-409c-449c-9841-2a6024d90ca6",
   "metadata": {},
   "outputs": [
    {
     "name": "stdout",
     "output_type": "stream",
     "text": [
      "+----------+------------------+\n",
      "|customerId|      realQuantity|\n",
      "+----------+------------------+\n",
      "|   17850.0|239.08999999999997|\n",
      "|   17850.0|          418.7156|\n",
      "+----------+------------------+\n",
      "only showing top 2 rows\n",
      "\n"
     ]
    }
   ],
   "source": [
    "spark.sql(\"\"\"SELECT customerId, (POWER((Quantity * UnitPrice), 2.0) + 5) as realQuantity\n",
    "FROM dfTable\"\"\").show(2)"
   ]
  },
  {
   "cell_type": "markdown",
   "id": "6bf1c9b3-866b-4fb2-9379-dc7f3da86440",
   "metadata": {},
   "source": [
    "## Rounding"
   ]
  },
  {
   "cell_type": "code",
   "execution_count": 19,
   "id": "34917c9d-f9e8-4d4b-b807-b79135bb5f3f",
   "metadata": {},
   "outputs": [
    {
     "name": "stdout",
     "output_type": "stream",
     "text": [
      "+-------------+--------------+\n",
      "|round(2.5, 0)|bround(2.5, 0)|\n",
      "+-------------+--------------+\n",
      "|          3.0|           2.0|\n",
      "|          3.0|           2.0|\n",
      "+-------------+--------------+\n",
      "only showing top 2 rows\n",
      "\n"
     ]
    }
   ],
   "source": [
    "df.select(F.round(F.lit(\"2.5\")), F.bround(F.lit(\"2.5\"))).show(2)"
   ]
  },
  {
   "cell_type": "code",
   "execution_count": 20,
   "id": "94508d3d-46e2-457e-a406-8a1c049a0a80",
   "metadata": {},
   "outputs": [
    {
     "name": "stdout",
     "output_type": "stream",
     "text": [
      "+-------------+--------------+\n",
      "|round(2.5, 0)|bround(2.5, 0)|\n",
      "+-------------+--------------+\n",
      "|            3|             2|\n",
      "+-------------+--------------+\n",
      "\n"
     ]
    }
   ],
   "source": [
    "spark.sql(\"\"\"SELECT round(2.5), bround(2.5)\"\"\").show()"
   ]
  },
  {
   "cell_type": "markdown",
   "id": "92cfd467-dedf-4dca-aaec-0c8ee1db295c",
   "metadata": {},
   "source": [
    "## Creating ids"
   ]
  },
  {
   "cell_type": "code",
   "execution_count": 21,
   "id": "8a99071e-4ed5-4aec-bb69-71d400421be2",
   "metadata": {},
   "outputs": [
    {
     "name": "stdout",
     "output_type": "stream",
     "text": [
      "+-----------------------------+\n",
      "|monotonically_increasing_id()|\n",
      "+-----------------------------+\n",
      "|                            0|\n",
      "|                            1|\n",
      "+-----------------------------+\n",
      "only showing top 2 rows\n",
      "\n"
     ]
    }
   ],
   "source": [
    "df.select(F.monotonically_increasing_id()).show(2)"
   ]
  },
  {
   "cell_type": "markdown",
   "id": "0cbcefc5-702d-4490-b756-e71f00b4cf3f",
   "metadata": {},
   "source": [
    "## Correlation and [Statistics](https://spark.apache.org/docs/latest/api/python/reference/pyspark.sql/api/pyspark.sql.DataFrameStatFunctions.html)"
   ]
  },
  {
   "cell_type": "code",
   "execution_count": 22,
   "id": "1a000f92-8e44-45f7-9e53-500a0eae7caa",
   "metadata": {},
   "outputs": [
    {
     "name": "stdout",
     "output_type": "stream",
     "text": [
      "+-------------------------+\n",
      "|corr(Quantity, UnitPrice)|\n",
      "+-------------------------+\n",
      "|     -0.04112314436835551|\n",
      "+-------------------------+\n",
      "\n"
     ]
    }
   ],
   "source": [
    "df.stat.corr(\"Quantity\", \"UnitPrice\")\n",
    "df.select(F.corr(\"Quantity\", \"UnitPrice\")).show()"
   ]
  },
  {
   "cell_type": "code",
   "execution_count": 23,
   "id": "c4c9981b-1d2a-4949-898f-33bef307e180",
   "metadata": {},
   "outputs": [
    {
     "name": "stdout",
     "output_type": "stream",
     "text": [
      "+-------------------------+\n",
      "|corr(Quantity, UnitPrice)|\n",
      "+-------------------------+\n",
      "|     -0.04112314436835551|\n",
      "+-------------------------+\n",
      "\n"
     ]
    }
   ],
   "source": [
    "spark.sql(\"SELECT corr(Quantity, UnitPrice) FROM dfTable\").show()"
   ]
  },
  {
   "cell_type": "markdown",
   "id": "75433070-b819-4ffe-8e3a-1c04a11a42d2",
   "metadata": {},
   "source": [
    "## Getting description statistics"
   ]
  },
  {
   "cell_type": "code",
   "execution_count": 24,
   "id": "c2b42736-24b8-47ab-a6be-debf9910dcbb",
   "metadata": {},
   "outputs": [
    {
     "name": "stderr",
     "output_type": "stream",
     "text": [
      "23/11/26 19:22:11 WARN package: Truncated the string representation of a plan since it was too large. This behavior can be adjusted by setting 'spark.sql.debug.maxToStringFields'.\n"
     ]
    },
    {
     "name": "stdout",
     "output_type": "stream",
     "text": [
      "+-------+-----------------+------------------+--------------------+------------------+------------------+------------------+--------------+\n",
      "|summary|        InvoiceNo|         StockCode|         Description|          Quantity|         UnitPrice|        CustomerID|       Country|\n",
      "+-------+-----------------+------------------+--------------------+------------------+------------------+------------------+--------------+\n",
      "|  count|             3108|              3108|                3098|              3108|              3108|              1968|          3108|\n",
      "|   mean| 536516.684944841|27834.304044117645|                null| 8.627413127413128| 4.151946589446603|15661.388719512195|          null|\n",
      "| stddev|72.89447869788873|17407.897548583845|                null|26.371821677029203|15.638659854603892|1854.4496996893627|          null|\n",
      "|    min|           536365|             10002| 4 PURPLE FLOCK D...|               -24|               0.0|           12431.0|     Australia|\n",
      "|    max|          C536548|              POST|ZINC WILLIE WINKI...|               600|            607.49|           18229.0|United Kingdom|\n",
      "+-------+-----------------+------------------+--------------------+------------------+------------------+------------------+--------------+\n",
      "\n"
     ]
    }
   ],
   "source": [
    "df.describe().show()"
   ]
  },
  {
   "cell_type": "markdown",
   "id": "04860bd4-f975-474a-8129-196ab3a02477",
   "metadata": {},
   "source": [
    "## Quantiles"
   ]
  },
  {
   "cell_type": "code",
   "execution_count": 25,
   "id": "522e16b3-786c-47c5-9ae6-620818128a5d",
   "metadata": {},
   "outputs": [
    {
     "data": {
      "text/plain": [
       "[1.65, 2.51, 4.21]"
      ]
     },
     "execution_count": 25,
     "metadata": {},
     "output_type": "execute_result"
    }
   ],
   "source": [
    "colName = \"UnitPrice\"\n",
    "quantileProbs = [0.25,0.5,0.75]\n",
    "relError = 0.05\n",
    "df.stat.approxQuantile(colName, quantileProbs, relError) # 2.51"
   ]
  },
  {
   "cell_type": "markdown",
   "id": "cfff31b6-17fe-4363-9948-09940a8ed5cc",
   "metadata": {},
   "source": [
    "## Crosstab"
   ]
  },
  {
   "cell_type": "code",
   "execution_count": 26,
   "id": "660cbe67-5c85-4479-b80b-14802da9bf96",
   "metadata": {},
   "outputs": [
    {
     "data": {
      "text/html": [
       "<div>\n",
       "<style scoped>\n",
       "    .dataframe tbody tr th:only-of-type {\n",
       "        vertical-align: middle;\n",
       "    }\n",
       "\n",
       "    .dataframe tbody tr th {\n",
       "        vertical-align: top;\n",
       "    }\n",
       "\n",
       "    .dataframe thead th {\n",
       "        text-align: right;\n",
       "    }\n",
       "</style>\n",
       "<table border=\"1\" class=\"dataframe\">\n",
       "  <thead>\n",
       "    <tr style=\"text-align: right;\">\n",
       "      <th></th>\n",
       "      <th>StockCode_Quantity</th>\n",
       "      <th>-1</th>\n",
       "      <th>-10</th>\n",
       "      <th>-12</th>\n",
       "      <th>-2</th>\n",
       "      <th>-24</th>\n",
       "      <th>-3</th>\n",
       "      <th>-4</th>\n",
       "      <th>-5</th>\n",
       "      <th>-6</th>\n",
       "      <th>...</th>\n",
       "      <th>60</th>\n",
       "      <th>600</th>\n",
       "      <th>64</th>\n",
       "      <th>7</th>\n",
       "      <th>70</th>\n",
       "      <th>72</th>\n",
       "      <th>8</th>\n",
       "      <th>80</th>\n",
       "      <th>9</th>\n",
       "      <th>96</th>\n",
       "    </tr>\n",
       "  </thead>\n",
       "  <tbody>\n",
       "    <tr>\n",
       "      <th>0</th>\n",
       "      <td>21259</td>\n",
       "      <td>0</td>\n",
       "      <td>0</td>\n",
       "      <td>0</td>\n",
       "      <td>0</td>\n",
       "      <td>0</td>\n",
       "      <td>0</td>\n",
       "      <td>0</td>\n",
       "      <td>0</td>\n",
       "      <td>0</td>\n",
       "      <td>...</td>\n",
       "      <td>0</td>\n",
       "      <td>0</td>\n",
       "      <td>0</td>\n",
       "      <td>0</td>\n",
       "      <td>0</td>\n",
       "      <td>0</td>\n",
       "      <td>0</td>\n",
       "      <td>0</td>\n",
       "      <td>0</td>\n",
       "      <td>0</td>\n",
       "    </tr>\n",
       "    <tr>\n",
       "      <th>1</th>\n",
       "      <td>21894</td>\n",
       "      <td>0</td>\n",
       "      <td>0</td>\n",
       "      <td>0</td>\n",
       "      <td>0</td>\n",
       "      <td>0</td>\n",
       "      <td>0</td>\n",
       "      <td>0</td>\n",
       "      <td>0</td>\n",
       "      <td>0</td>\n",
       "      <td>...</td>\n",
       "      <td>0</td>\n",
       "      <td>0</td>\n",
       "      <td>0</td>\n",
       "      <td>0</td>\n",
       "      <td>0</td>\n",
       "      <td>0</td>\n",
       "      <td>0</td>\n",
       "      <td>0</td>\n",
       "      <td>0</td>\n",
       "      <td>0</td>\n",
       "    </tr>\n",
       "    <tr>\n",
       "      <th>2</th>\n",
       "      <td>21452</td>\n",
       "      <td>0</td>\n",
       "      <td>0</td>\n",
       "      <td>0</td>\n",
       "      <td>0</td>\n",
       "      <td>0</td>\n",
       "      <td>0</td>\n",
       "      <td>0</td>\n",
       "      <td>0</td>\n",
       "      <td>0</td>\n",
       "      <td>...</td>\n",
       "      <td>0</td>\n",
       "      <td>0</td>\n",
       "      <td>0</td>\n",
       "      <td>0</td>\n",
       "      <td>0</td>\n",
       "      <td>0</td>\n",
       "      <td>0</td>\n",
       "      <td>0</td>\n",
       "      <td>0</td>\n",
       "      <td>0</td>\n",
       "    </tr>\n",
       "    <tr>\n",
       "      <th>3</th>\n",
       "      <td>22728</td>\n",
       "      <td>0</td>\n",
       "      <td>0</td>\n",
       "      <td>0</td>\n",
       "      <td>0</td>\n",
       "      <td>0</td>\n",
       "      <td>0</td>\n",
       "      <td>0</td>\n",
       "      <td>0</td>\n",
       "      <td>0</td>\n",
       "      <td>...</td>\n",
       "      <td>0</td>\n",
       "      <td>0</td>\n",
       "      <td>0</td>\n",
       "      <td>0</td>\n",
       "      <td>0</td>\n",
       "      <td>0</td>\n",
       "      <td>1</td>\n",
       "      <td>0</td>\n",
       "      <td>0</td>\n",
       "      <td>0</td>\n",
       "    </tr>\n",
       "    <tr>\n",
       "      <th>4</th>\n",
       "      <td>21889</td>\n",
       "      <td>0</td>\n",
       "      <td>0</td>\n",
       "      <td>0</td>\n",
       "      <td>0</td>\n",
       "      <td>0</td>\n",
       "      <td>0</td>\n",
       "      <td>0</td>\n",
       "      <td>0</td>\n",
       "      <td>0</td>\n",
       "      <td>...</td>\n",
       "      <td>0</td>\n",
       "      <td>0</td>\n",
       "      <td>0</td>\n",
       "      <td>0</td>\n",
       "      <td>0</td>\n",
       "      <td>0</td>\n",
       "      <td>0</td>\n",
       "      <td>0</td>\n",
       "      <td>0</td>\n",
       "      <td>0</td>\n",
       "    </tr>\n",
       "    <tr>\n",
       "      <th>...</th>\n",
       "      <td>...</td>\n",
       "      <td>...</td>\n",
       "      <td>...</td>\n",
       "      <td>...</td>\n",
       "      <td>...</td>\n",
       "      <td>...</td>\n",
       "      <td>...</td>\n",
       "      <td>...</td>\n",
       "      <td>...</td>\n",
       "      <td>...</td>\n",
       "      <td>...</td>\n",
       "      <td>...</td>\n",
       "      <td>...</td>\n",
       "      <td>...</td>\n",
       "      <td>...</td>\n",
       "      <td>...</td>\n",
       "      <td>...</td>\n",
       "      <td>...</td>\n",
       "      <td>...</td>\n",
       "      <td>...</td>\n",
       "      <td>...</td>\n",
       "    </tr>\n",
       "    <tr>\n",
       "      <th>1346</th>\n",
       "      <td>22492</td>\n",
       "      <td>0</td>\n",
       "      <td>0</td>\n",
       "      <td>0</td>\n",
       "      <td>0</td>\n",
       "      <td>0</td>\n",
       "      <td>0</td>\n",
       "      <td>0</td>\n",
       "      <td>0</td>\n",
       "      <td>0</td>\n",
       "      <td>...</td>\n",
       "      <td>0</td>\n",
       "      <td>0</td>\n",
       "      <td>0</td>\n",
       "      <td>0</td>\n",
       "      <td>0</td>\n",
       "      <td>0</td>\n",
       "      <td>0</td>\n",
       "      <td>0</td>\n",
       "      <td>0</td>\n",
       "      <td>0</td>\n",
       "    </tr>\n",
       "    <tr>\n",
       "      <th>1347</th>\n",
       "      <td>17164B</td>\n",
       "      <td>0</td>\n",
       "      <td>0</td>\n",
       "      <td>0</td>\n",
       "      <td>0</td>\n",
       "      <td>0</td>\n",
       "      <td>0</td>\n",
       "      <td>0</td>\n",
       "      <td>0</td>\n",
       "      <td>0</td>\n",
       "      <td>...</td>\n",
       "      <td>0</td>\n",
       "      <td>0</td>\n",
       "      <td>0</td>\n",
       "      <td>0</td>\n",
       "      <td>0</td>\n",
       "      <td>0</td>\n",
       "      <td>0</td>\n",
       "      <td>0</td>\n",
       "      <td>0</td>\n",
       "      <td>0</td>\n",
       "    </tr>\n",
       "    <tr>\n",
       "      <th>1348</th>\n",
       "      <td>20774</td>\n",
       "      <td>0</td>\n",
       "      <td>0</td>\n",
       "      <td>0</td>\n",
       "      <td>0</td>\n",
       "      <td>0</td>\n",
       "      <td>0</td>\n",
       "      <td>0</td>\n",
       "      <td>0</td>\n",
       "      <td>0</td>\n",
       "      <td>...</td>\n",
       "      <td>0</td>\n",
       "      <td>0</td>\n",
       "      <td>0</td>\n",
       "      <td>0</td>\n",
       "      <td>0</td>\n",
       "      <td>0</td>\n",
       "      <td>0</td>\n",
       "      <td>0</td>\n",
       "      <td>0</td>\n",
       "      <td>0</td>\n",
       "    </tr>\n",
       "    <tr>\n",
       "      <th>1349</th>\n",
       "      <td>85226A</td>\n",
       "      <td>0</td>\n",
       "      <td>0</td>\n",
       "      <td>0</td>\n",
       "      <td>0</td>\n",
       "      <td>0</td>\n",
       "      <td>0</td>\n",
       "      <td>0</td>\n",
       "      <td>0</td>\n",
       "      <td>0</td>\n",
       "      <td>...</td>\n",
       "      <td>0</td>\n",
       "      <td>0</td>\n",
       "      <td>0</td>\n",
       "      <td>0</td>\n",
       "      <td>0</td>\n",
       "      <td>0</td>\n",
       "      <td>0</td>\n",
       "      <td>0</td>\n",
       "      <td>0</td>\n",
       "      <td>0</td>\n",
       "    </tr>\n",
       "    <tr>\n",
       "      <th>1350</th>\n",
       "      <td>84906</td>\n",
       "      <td>0</td>\n",
       "      <td>0</td>\n",
       "      <td>0</td>\n",
       "      <td>0</td>\n",
       "      <td>0</td>\n",
       "      <td>0</td>\n",
       "      <td>0</td>\n",
       "      <td>0</td>\n",
       "      <td>0</td>\n",
       "      <td>...</td>\n",
       "      <td>0</td>\n",
       "      <td>0</td>\n",
       "      <td>0</td>\n",
       "      <td>0</td>\n",
       "      <td>0</td>\n",
       "      <td>0</td>\n",
       "      <td>0</td>\n",
       "      <td>0</td>\n",
       "      <td>0</td>\n",
       "      <td>0</td>\n",
       "    </tr>\n",
       "  </tbody>\n",
       "</table>\n",
       "<p>1351 rows × 67 columns</p>\n",
       "</div>"
      ],
      "text/plain": [
       "     StockCode_Quantity  -1  -10  -12  -2  -24  -3  -4  -5  -6  ...  60  600  \\\n",
       "0                 21259   0    0    0   0    0   0   0   0   0  ...   0    0   \n",
       "1                 21894   0    0    0   0    0   0   0   0   0  ...   0    0   \n",
       "2                 21452   0    0    0   0    0   0   0   0   0  ...   0    0   \n",
       "3                 22728   0    0    0   0    0   0   0   0   0  ...   0    0   \n",
       "4                 21889   0    0    0   0    0   0   0   0   0  ...   0    0   \n",
       "...                 ...  ..  ...  ...  ..  ...  ..  ..  ..  ..  ...  ..  ...   \n",
       "1346              22492   0    0    0   0    0   0   0   0   0  ...   0    0   \n",
       "1347             17164B   0    0    0   0    0   0   0   0   0  ...   0    0   \n",
       "1348              20774   0    0    0   0    0   0   0   0   0  ...   0    0   \n",
       "1349             85226A   0    0    0   0    0   0   0   0   0  ...   0    0   \n",
       "1350              84906   0    0    0   0    0   0   0   0   0  ...   0    0   \n",
       "\n",
       "      64  7  70  72  8  80  9  96  \n",
       "0      0  0   0   0  0   0  0   0  \n",
       "1      0  0   0   0  0   0  0   0  \n",
       "2      0  0   0   0  0   0  0   0  \n",
       "3      0  0   0   0  1   0  0   0  \n",
       "4      0  0   0   0  0   0  0   0  \n",
       "...   .. ..  ..  .. ..  .. ..  ..  \n",
       "1346   0  0   0   0  0   0  0   0  \n",
       "1347   0  0   0   0  0   0  0   0  \n",
       "1348   0  0   0   0  0   0  0   0  \n",
       "1349   0  0   0   0  0   0  0   0  \n",
       "1350   0  0   0   0  0   0  0   0  \n",
       "\n",
       "[1351 rows x 67 columns]"
      ]
     },
     "execution_count": 26,
     "metadata": {},
     "output_type": "execute_result"
    }
   ],
   "source": [
    "df.stat.crosstab(\"StockCode\", \"Quantity\").toPandas()"
   ]
  },
  {
   "cell_type": "markdown",
   "id": "23c68520-2038-4b49-a5de-58bac9562b28",
   "metadata": {},
   "source": [
    "## Frequent Items"
   ]
  },
  {
   "cell_type": "code",
   "execution_count": 27,
   "id": "bfcc8291-7346-4430-a2ed-7ea1b5ea9377",
   "metadata": {},
   "outputs": [
    {
     "name": "stdout",
     "output_type": "stream",
     "text": [
      "+--------------------+--------------------+\n",
      "| StockCode_freqItems|  Quantity_freqItems|\n",
      "+--------------------+--------------------+\n",
      "|[22086, 21705, 72...|[200, 128, 23, 50...|\n",
      "+--------------------+--------------------+\n",
      "\n"
     ]
    }
   ],
   "source": [
    "df.stat.freqItems([\"StockCode\", \"Quantity\"]).show()"
   ]
  },
  {
   "cell_type": "markdown",
   "id": "10053905-714c-47fc-81d8-69b100cec4e1",
   "metadata": {},
   "source": [
    "## Frequent items + descriptive statistics"
   ]
  },
  {
   "cell_type": "code",
   "execution_count": 28,
   "id": "9a596085-3f97-4fa3-a0e5-7f7fb1356f4e",
   "metadata": {},
   "outputs": [],
   "source": [
    "df_desc = df.describe()\n",
    "df_freq = df.stat.freqItems(df_desc.columns[1:])\n",
    "new_cols = [col.split('_')[0] for col in df_freq.columns]\n",
    "df_freq = df_freq.toDF(*new_cols)\n",
    "df_freq = df_freq.withColumn(\"summary\",F.lit(\"most_frequent\"))\n",
    "df_freq = df_freq.select([\"summary\"]+new_cols)\n",
    "for col in df_freq.columns:\n",
    "    df_freq = df_freq.withColumn(col,F.col(col).cast(StringType()))\n",
    "df_desc = df_desc.union(df_freq)"
   ]
  },
  {
   "cell_type": "code",
   "execution_count": 29,
   "id": "fad23ea4-bae4-4de4-8c12-2eda158b5d42",
   "metadata": {},
   "outputs": [
    {
     "data": {
      "text/html": [
       "<div>\n",
       "<style scoped>\n",
       "    .dataframe tbody tr th:only-of-type {\n",
       "        vertical-align: middle;\n",
       "    }\n",
       "\n",
       "    .dataframe tbody tr th {\n",
       "        vertical-align: top;\n",
       "    }\n",
       "\n",
       "    .dataframe thead th {\n",
       "        text-align: right;\n",
       "    }\n",
       "</style>\n",
       "<table border=\"1\" class=\"dataframe\">\n",
       "  <thead>\n",
       "    <tr style=\"text-align: right;\">\n",
       "      <th></th>\n",
       "      <th>summary</th>\n",
       "      <th>InvoiceNo</th>\n",
       "      <th>StockCode</th>\n",
       "      <th>Description</th>\n",
       "      <th>Quantity</th>\n",
       "      <th>UnitPrice</th>\n",
       "      <th>CustomerID</th>\n",
       "      <th>Country</th>\n",
       "    </tr>\n",
       "  </thead>\n",
       "  <tbody>\n",
       "    <tr>\n",
       "      <th>0</th>\n",
       "      <td>count</td>\n",
       "      <td>3108</td>\n",
       "      <td>3108</td>\n",
       "      <td>3098</td>\n",
       "      <td>3108</td>\n",
       "      <td>3108</td>\n",
       "      <td>1968</td>\n",
       "      <td>3108</td>\n",
       "    </tr>\n",
       "    <tr>\n",
       "      <th>1</th>\n",
       "      <td>mean</td>\n",
       "      <td>536516.684944841</td>\n",
       "      <td>27834.304044117645</td>\n",
       "      <td>None</td>\n",
       "      <td>8.627413127413128</td>\n",
       "      <td>4.151946589446603</td>\n",
       "      <td>15661.388719512195</td>\n",
       "      <td>None</td>\n",
       "    </tr>\n",
       "    <tr>\n",
       "      <th>2</th>\n",
       "      <td>stddev</td>\n",
       "      <td>72.89447869788873</td>\n",
       "      <td>17407.897548583845</td>\n",
       "      <td>None</td>\n",
       "      <td>26.371821677029203</td>\n",
       "      <td>15.638659854603892</td>\n",
       "      <td>1854.4496996893627</td>\n",
       "      <td>None</td>\n",
       "    </tr>\n",
       "    <tr>\n",
       "      <th>3</th>\n",
       "      <td>min</td>\n",
       "      <td>536365</td>\n",
       "      <td>10002</td>\n",
       "      <td>4 PURPLE FLOCK DINNER CANDLES</td>\n",
       "      <td>-24</td>\n",
       "      <td>0.0</td>\n",
       "      <td>12431.0</td>\n",
       "      <td>Australia</td>\n",
       "    </tr>\n",
       "    <tr>\n",
       "      <th>4</th>\n",
       "      <td>max</td>\n",
       "      <td>C536548</td>\n",
       "      <td>POST</td>\n",
       "      <td>ZINC WILLIE WINKIE  CANDLE STICK</td>\n",
       "      <td>600</td>\n",
       "      <td>607.49</td>\n",
       "      <td>18229.0</td>\n",
       "      <td>United Kingdom</td>\n",
       "    </tr>\n",
       "    <tr>\n",
       "      <th>5</th>\n",
       "      <td>most_frequent</td>\n",
       "      <td>[536385, 536544, 536551, 536596, 536437, 53657...</td>\n",
       "      <td>[22086, 21705, 72803A, 84970L, 84926A, 90181B,...</td>\n",
       "      <td>[BLUE PAISLEY POCKET BOOK, NOEL WOODEN BLOCK L...</td>\n",
       "      <td>[200, 128, 23, 50, 32, 600, 17, 8, -1, 80, -10...</td>\n",
       "      <td>[1.95, 14.95, 0.43, 0.19, 9.34, 8.5, 3.35, 2.1...</td>\n",
       "      <td>[12662.0, 12868.0, 15165.0, 14142.0, 16098.0, ...</td>\n",
       "      <td>[United Kingdom, Netherlands, Germany, Norway,...</td>\n",
       "    </tr>\n",
       "  </tbody>\n",
       "</table>\n",
       "</div>"
      ],
      "text/plain": [
       "         summary                                          InvoiceNo  \\\n",
       "0          count                                               3108   \n",
       "1           mean                                   536516.684944841   \n",
       "2         stddev                                  72.89447869788873   \n",
       "3            min                                             536365   \n",
       "4            max                                            C536548   \n",
       "5  most_frequent  [536385, 536544, 536551, 536596, 536437, 53657...   \n",
       "\n",
       "                                           StockCode  \\\n",
       "0                                               3108   \n",
       "1                                 27834.304044117645   \n",
       "2                                 17407.897548583845   \n",
       "3                                              10002   \n",
       "4                                               POST   \n",
       "5  [22086, 21705, 72803A, 84970L, 84926A, 90181B,...   \n",
       "\n",
       "                                         Description  \\\n",
       "0                                               3098   \n",
       "1                                               None   \n",
       "2                                               None   \n",
       "3                      4 PURPLE FLOCK DINNER CANDLES   \n",
       "4                   ZINC WILLIE WINKIE  CANDLE STICK   \n",
       "5  [BLUE PAISLEY POCKET BOOK, NOEL WOODEN BLOCK L...   \n",
       "\n",
       "                                            Quantity  \\\n",
       "0                                               3108   \n",
       "1                                  8.627413127413128   \n",
       "2                                 26.371821677029203   \n",
       "3                                                -24   \n",
       "4                                                600   \n",
       "5  [200, 128, 23, 50, 32, 600, 17, 8, -1, 80, -10...   \n",
       "\n",
       "                                           UnitPrice  \\\n",
       "0                                               3108   \n",
       "1                                  4.151946589446603   \n",
       "2                                 15.638659854603892   \n",
       "3                                                0.0   \n",
       "4                                             607.49   \n",
       "5  [1.95, 14.95, 0.43, 0.19, 9.34, 8.5, 3.35, 2.1...   \n",
       "\n",
       "                                          CustomerID  \\\n",
       "0                                               1968   \n",
       "1                                 15661.388719512195   \n",
       "2                                 1854.4496996893627   \n",
       "3                                            12431.0   \n",
       "4                                            18229.0   \n",
       "5  [12662.0, 12868.0, 15165.0, 14142.0, 16098.0, ...   \n",
       "\n",
       "                                             Country  \n",
       "0                                               3108  \n",
       "1                                               None  \n",
       "2                                               None  \n",
       "3                                          Australia  \n",
       "4                                     United Kingdom  \n",
       "5  [United Kingdom, Netherlands, Germany, Norway,...  "
      ]
     },
     "execution_count": 29,
     "metadata": {},
     "output_type": "execute_result"
    }
   ],
   "source": [
    "df_desc.toPandas()"
   ]
  },
  {
   "cell_type": "markdown",
   "id": "54b38db8-0897-49be-a157-c29512c415d8",
   "metadata": {},
   "source": [
    "# Working with strings"
   ]
  },
  {
   "cell_type": "markdown",
   "id": "d85458de-d93f-4608-ab88-44efe28b6a56",
   "metadata": {},
   "source": [
    "## initcap"
   ]
  },
  {
   "cell_type": "code",
   "execution_count": 30,
   "id": "eb4c61b5-7dc9-4683-ae82-41d9ba331dac",
   "metadata": {},
   "outputs": [
    {
     "name": "stdout",
     "output_type": "stream",
     "text": [
      "+--------------------+--------------------+\n",
      "|              before|               after|\n",
      "+--------------------+--------------------+\n",
      "|WHITE HANGING HEA...|White Hanging Hea...|\n",
      "| WHITE METAL LANTERN| White Metal Lantern|\n",
      "|CREAM CUPID HEART...|Cream Cupid Heart...|\n",
      "|KNITTED UNION FLA...|Knitted Union Fla...|\n",
      "|RED WOOLLY HOTTIE...|Red Woolly Hottie...|\n",
      "+--------------------+--------------------+\n",
      "only showing top 5 rows\n",
      "\n"
     ]
    }
   ],
   "source": [
    "df.select(F.col(\"Description\").alias('before'),F.initcap(F.col(\"Description\")).alias('after')).show(5)"
   ]
  },
  {
   "cell_type": "code",
   "execution_count": 31,
   "id": "ce82fd26-6604-44f9-a1b0-24dbfd3a6591",
   "metadata": {},
   "outputs": [
    {
     "name": "stdout",
     "output_type": "stream",
     "text": [
      "+--------------------+--------------------+\n",
      "|              before|               after|\n",
      "+--------------------+--------------------+\n",
      "|WHITE HANGING HEA...|White Hanging Hea...|\n",
      "| WHITE METAL LANTERN| White Metal Lantern|\n",
      "|CREAM CUPID HEART...|Cream Cupid Heart...|\n",
      "|KNITTED UNION FLA...|Knitted Union Fla...|\n",
      "|RED WOOLLY HOTTIE...|Red Woolly Hottie...|\n",
      "+--------------------+--------------------+\n",
      "only showing top 5 rows\n",
      "\n"
     ]
    }
   ],
   "source": [
    "spark.sql(\"SELECT Description AS before, initcap(Description) AS after FROM dfTable\").show(5)"
   ]
  },
  {
   "cell_type": "markdown",
   "id": "acf0e08a-05f7-40a9-9d10-8ae6cb5abc62",
   "metadata": {},
   "source": [
    "## lower and upper"
   ]
  },
  {
   "cell_type": "code",
   "execution_count": 32,
   "id": "4f4201cc-4545-41b8-a1da-b8ea38d7c216",
   "metadata": {},
   "outputs": [
    {
     "name": "stdout",
     "output_type": "stream",
     "text": [
      "+--------------------+--------------------+-------------------------+\n",
      "|         Description|  lower(Description)|upper(lower(Description))|\n",
      "+--------------------+--------------------+-------------------------+\n",
      "|WHITE HANGING HEA...|white hanging hea...|     WHITE HANGING HEA...|\n",
      "| WHITE METAL LANTERN| white metal lantern|      WHITE METAL LANTERN|\n",
      "+--------------------+--------------------+-------------------------+\n",
      "only showing top 2 rows\n",
      "\n"
     ]
    }
   ],
   "source": [
    "df.select(F.col(\"Description\"),\n",
    "F.lower(F.col(\"Description\")),\n",
    "F.upper(F.lower(F.col(\"Description\")))).show(2)"
   ]
  },
  {
   "cell_type": "code",
   "execution_count": 33,
   "id": "496082de-2e03-4121-a060-d10e423ea2f4",
   "metadata": {},
   "outputs": [
    {
     "name": "stdout",
     "output_type": "stream",
     "text": [
      "+--------------------+--------------------+-------------------------+\n",
      "|         Description|  lower(Description)|upper(lower(Description))|\n",
      "+--------------------+--------------------+-------------------------+\n",
      "|WHITE HANGING HEA...|white hanging hea...|     WHITE HANGING HEA...|\n",
      "| WHITE METAL LANTERN| white metal lantern|      WHITE METAL LANTERN|\n",
      "+--------------------+--------------------+-------------------------+\n",
      "only showing top 2 rows\n",
      "\n"
     ]
    }
   ],
   "source": [
    "spark.sql(\"SELECT Description, lower(Description), Upper(lower(Description)) FROM dfTable\").show(2)"
   ]
  },
  {
   "cell_type": "markdown",
   "id": "39cbec39-db6e-4c88-869f-79bff76bad00",
   "metadata": {},
   "source": [
    "## lpad , ltrim , rpad, rtrim , trim"
   ]
  },
  {
   "cell_type": "code",
   "execution_count": 34,
   "id": "d8fafd51-e48e-4ac1-932b-71024ee2a0ba",
   "metadata": {},
   "outputs": [
    {
     "name": "stdout",
     "output_type": "stream",
     "text": [
      "+---------+---------+-----+---+----------+\n",
      "|    ltrim|    rtrim| trim| lp|        rp|\n",
      "+---------+---------+-----+---+----------+\n",
      "|HELLO    |    HELLO|HELLO| HE|HELLO     |\n",
      "|HELLO    |    HELLO|HELLO| HE|HELLO     |\n",
      "+---------+---------+-----+---+----------+\n",
      "only showing top 2 rows\n",
      "\n"
     ]
    }
   ],
   "source": [
    "df.select(\n",
    "F.ltrim(F.lit(\"    HELLO    \")).alias(\"ltrim\"),\n",
    "F.rtrim(F.lit(\"    HELLO    \")).alias(\"rtrim\"),\n",
    "F.trim(F.lit(\"HELLO\")).alias(\"trim\"),\n",
    "F.lpad(F.lit(\"HELLO\"), 2, \" \").alias(\"lp\"),\n",
    "F.rpad(F.lit(\"HELLO\"), 10, \" \").alias(\"rp\")).show(2)"
   ]
  },
  {
   "cell_type": "code",
   "execution_count": 35,
   "id": "836ffdd4-f403-455a-9dc2-3bcad07d5548",
   "metadata": {},
   "outputs": [
    {
     "name": "stdout",
     "output_type": "stream",
     "text": [
      "+--------------------+--------------------+-----------+-----------------+------------------+\n",
      "|ltrim(    HELLO    )|rtrim(    HELLO    )|trim(HELLO)|lpad(HELLO, 2,  )|rpad(HELLO, 10,  )|\n",
      "+--------------------+--------------------+-----------+-----------------+------------------+\n",
      "|           HELLO    |               HELLO|      HELLO|               HE|        HELLO     |\n",
      "|           HELLO    |               HELLO|      HELLO|               HE|        HELLO     |\n",
      "+--------------------+--------------------+-----------+-----------------+------------------+\n",
      "only showing top 2 rows\n",
      "\n"
     ]
    }
   ],
   "source": [
    "spark.sql(\"\"\"SELECT ltrim('    HELLO    '),\n",
    "                    rtrim('    HELLO    '),\n",
    "                    trim('HELLO'),\n",
    "                    lpad('HELLO', 2, ' '),\n",
    "                    rpad('HELLO', 10, ' ')\n",
    "                    FROM dfTable\"\"\").show(2)"
   ]
  },
  {
   "cell_type": "markdown",
   "id": "eb273a1c-74a1-417a-97b8-d831c23b3f7a",
   "metadata": {},
   "source": [
    "## Regex: regexp_replace"
   ]
  },
  {
   "cell_type": "code",
   "execution_count": 36,
   "id": "fb5321b3-9cca-4c0c-bb95-43e0aff1fd4a",
   "metadata": {},
   "outputs": [
    {
     "name": "stdout",
     "output_type": "stream",
     "text": [
      "+--------------------+--------------------+\n",
      "|         color_clean|         Description|\n",
      "+--------------------+--------------------+\n",
      "|COLOR HANGING HEA...|WHITE HANGING HEA...|\n",
      "| COLOR METAL LANTERN| WHITE METAL LANTERN|\n",
      "+--------------------+--------------------+\n",
      "only showing top 2 rows\n",
      "\n"
     ]
    }
   ],
   "source": [
    "regex_string = \"BLACK|WHITE|RED|GREEN|BLUE\"\n",
    "df.select(\n",
    "F.regexp_replace(F.col(\"Description\"), regex_string, \"COLOR\").alias(\"color_clean\"),\n",
    "F.col(\"Description\")).show(2)"
   ]
  },
  {
   "cell_type": "code",
   "execution_count": 37,
   "id": "9affadfe-8eb5-417c-bba1-07512496e0f7",
   "metadata": {},
   "outputs": [
    {
     "name": "stdout",
     "output_type": "stream",
     "text": [
      "+--------------------+--------------------+\n",
      "|         color_clean|         Description|\n",
      "+--------------------+--------------------+\n",
      "|COLOR HANGING HEA...|WHITE HANGING HEA...|\n",
      "| COLOR METAL LANTERN| WHITE METAL LANTERN|\n",
      "+--------------------+--------------------+\n",
      "only showing top 2 rows\n",
      "\n"
     ]
    }
   ],
   "source": [
    "spark.sql(\"\"\"SELECT\n",
    "                regexp_replace(Description, 'BLACK|WHITE|RED|GREEN|BLUE', 'COLOR') as\n",
    "                color_clean, Description\n",
    "            FROM dfTable\"\"\").show(2)"
   ]
  },
  {
   "cell_type": "markdown",
   "id": "38ee099c-b47a-442d-9758-fe4003e6a703",
   "metadata": {},
   "source": [
    "## Translating"
   ]
  },
  {
   "cell_type": "code",
   "execution_count": 38,
   "id": "85af5d5e-b366-4bd9-9426-c4e38c62bff0",
   "metadata": {},
   "outputs": [
    {
     "name": "stdout",
     "output_type": "stream",
     "text": [
      "+----------------------------------+--------------------+\n",
      "|translate(Description, LEET, 1337)|         Description|\n",
      "+----------------------------------+--------------------+\n",
      "|              WHI73 HANGING H3A...|WHITE HANGING HEA...|\n",
      "|               WHI73 M37A1 1AN73RN| WHITE METAL LANTERN|\n",
      "+----------------------------------+--------------------+\n",
      "only showing top 2 rows\n",
      "\n"
     ]
    }
   ],
   "source": [
    "df.select(F.translate(F.col(\"Description\"), \"LEET\", \"1337\"),F.col(\"Description\"))\\\n",
    ".show(2)"
   ]
  },
  {
   "cell_type": "code",
   "execution_count": 39,
   "id": "06711f85-aa75-40e6-bd7b-f03e546812fa",
   "metadata": {},
   "outputs": [
    {
     "name": "stdout",
     "output_type": "stream",
     "text": [
      "+----------------------------------+--------------------+\n",
      "|translate(Description, LEET, 1337)|         Description|\n",
      "+----------------------------------+--------------------+\n",
      "|              WHI73 HANGING H3A...|WHITE HANGING HEA...|\n",
      "|               WHI73 M37A1 1AN73RN| WHITE METAL LANTERN|\n",
      "+----------------------------------+--------------------+\n",
      "only showing top 2 rows\n",
      "\n"
     ]
    }
   ],
   "source": [
    "spark.sql(\"SELECT translate(Description, 'LEET', '1337'), Description FROM dfTable\").show(2)"
   ]
  },
  {
   "cell_type": "markdown",
   "id": "0cd880b1-b4a2-41f6-9654-b4dfeba89be4",
   "metadata": {},
   "source": [
    "## More regex: regexp_extract"
   ]
  },
  {
   "cell_type": "code",
   "execution_count": 40,
   "id": "71adc6d4-3898-4808-b114-ada9cdee8355",
   "metadata": {},
   "outputs": [
    {
     "name": "stdout",
     "output_type": "stream",
     "text": [
      "+-----------+--------------------+\n",
      "|color_clean|         Description|\n",
      "+-----------+--------------------+\n",
      "|      WHITE|WHITE HANGING HEA...|\n",
      "|      WHITE| WHITE METAL LANTERN|\n",
      "+-----------+--------------------+\n",
      "only showing top 2 rows\n",
      "\n"
     ]
    }
   ],
   "source": [
    "extract_str = \"(BLACK|WHITE|RED|GREEN|BLUE)\"\n",
    "df.select(\n",
    "F.regexp_extract(F.col(\"Description\"), extract_str, 1).alias(\"color_clean\"),\n",
    "F.col(\"Description\")).show(2)"
   ]
  },
  {
   "cell_type": "code",
   "execution_count": 41,
   "id": "6750c020-eaa6-42e3-aa46-2f5fed1e5f56",
   "metadata": {},
   "outputs": [
    {
     "name": "stdout",
     "output_type": "stream",
     "text": [
      "+-----------+--------------------+\n",
      "|color_clean|         Description|\n",
      "+-----------+--------------------+\n",
      "|      WHITE|WHITE HANGING HEA...|\n",
      "|      WHITE| WHITE METAL LANTERN|\n",
      "+-----------+--------------------+\n",
      "only showing top 2 rows\n",
      "\n"
     ]
    }
   ],
   "source": [
    "spark.sql(\"\"\"SELECT regexp_extract(Description,'(BLACK|WHITE|RED|GREEN|BLUE)',1) AS color_clean,\n",
    "                    Description\n",
    "             FROM dfTable\"\"\").show(2)"
   ]
  },
  {
   "cell_type": "markdown",
   "id": "3e878f17-cd75-4203-ac10-3ca4e96b31fc",
   "metadata": {},
   "source": [
    "## instr"
   ]
  },
  {
   "cell_type": "code",
   "execution_count": 42,
   "id": "dfbea41a-5a23-4392-9635-58da6e38d74c",
   "metadata": {},
   "outputs": [
    {
     "name": "stdout",
     "output_type": "stream",
     "text": [
      "+----------------------------------+\n",
      "|Description                       |\n",
      "+----------------------------------+\n",
      "|WHITE HANGING HEART T-LIGHT HOLDER|\n",
      "|WHITE METAL LANTERN               |\n",
      "|RED WOOLLY HOTTIE WHITE HEART.    |\n",
      "+----------------------------------+\n",
      "only showing top 3 rows\n",
      "\n"
     ]
    }
   ],
   "source": [
    "containsBlack = F.instr(F.col(\"Description\"), \"BLACK\") >= 1\n",
    "containsWhite = F.instr(F.col(\"Description\"), \"WHITE\") >= 1\n",
    "df.withColumn(\"hasSimpleColor\", containsBlack | containsWhite)\\\n",
    ".where(\"hasSimpleColor\")\\\n",
    ".select(\"Description\").show(3, False)"
   ]
  },
  {
   "cell_type": "code",
   "execution_count": 43,
   "id": "8000dc3a-e369-4f23-9f05-ac3dbcfe6175",
   "metadata": {},
   "outputs": [
    {
     "name": "stdout",
     "output_type": "stream",
     "text": [
      "+----------------------------------+\n",
      "|Description                       |\n",
      "+----------------------------------+\n",
      "|WHITE HANGING HEART T-LIGHT HOLDER|\n",
      "|WHITE METAL LANTERN               |\n",
      "|RED WOOLLY HOTTIE WHITE HEART.    |\n",
      "+----------------------------------+\n",
      "only showing top 3 rows\n",
      "\n"
     ]
    }
   ],
   "source": [
    "spark.sql(\"\"\"SELECT Description FROM dfTable\n",
    "WHERE instr(Description, 'BLACK') >= 1 OR instr(Description, 'WHITE') >= 1\"\"\").show(3,False)"
   ]
  },
  {
   "cell_type": "markdown",
   "id": "ac62394e-68b9-4c64-ad81-30d530e10bc6",
   "metadata": {},
   "source": [
    "## Other example"
   ]
  },
  {
   "cell_type": "code",
   "execution_count": 44,
   "id": "72735eb3-45cc-4858-a001-653947744c88",
   "metadata": {},
   "outputs": [],
   "source": [
    "simpleColors = [\"black\", \"white\", \"red\", \"green\", \"blue\"]\n",
    "def color_locator(column, color_string):\n",
    "    return F.locate(color_string.upper(), column)\\\n",
    ".cast(\"boolean\")\\\n",
    ".alias(\"is_\" + color_string)\n",
    "selectedColumns = [color_locator(df.Description, c) for c in simpleColors]\n",
    "selectedColumns.append(F.expr(\"*\"))"
   ]
  },
  {
   "cell_type": "code",
   "execution_count": 45,
   "id": "c3fd8f12-cba7-4128-a386-690e105963c7",
   "metadata": {},
   "outputs": [
    {
     "name": "stdout",
     "output_type": "stream",
     "text": [
      "+----------------------------------+\n",
      "|Description                       |\n",
      "+----------------------------------+\n",
      "|WHITE HANGING HEART T-LIGHT HOLDER|\n",
      "|WHITE METAL LANTERN               |\n",
      "|RED WOOLLY HOTTIE WHITE HEART.    |\n",
      "+----------------------------------+\n",
      "only showing top 3 rows\n",
      "\n"
     ]
    }
   ],
   "source": [
    "df.select(*selectedColumns).where(F.expr(\"is_white OR is_red\"))\\\n",
    ".select(\"Description\").show(3, False)"
   ]
  },
  {
   "cell_type": "markdown",
   "id": "c067b26d-a6ff-4f3c-a214-9e3a37bc7b24",
   "metadata": {},
   "source": [
    "# Working with Dates and Timestamps"
   ]
  },
  {
   "cell_type": "markdown",
   "id": "ad79635d-b2fc-4ee9-a879-1c9de9ba9f4f",
   "metadata": {},
   "source": [
    "## Creating a Date DataFrame"
   ]
  },
  {
   "cell_type": "code",
   "execution_count": 46,
   "id": "5cf9bd89-4184-4d86-811c-ff0cb2e09788",
   "metadata": {},
   "outputs": [],
   "source": [
    "dateDF = spark.range(1)\\\n",
    ".withColumn(\"today\", F.current_date())\\\n",
    ".withColumn(\"now\", F.current_timestamp())"
   ]
  },
  {
   "cell_type": "code",
   "execution_count": 47,
   "id": "b7374317-6e4c-4869-b1a1-d0b547f4b19a",
   "metadata": {},
   "outputs": [
    {
     "name": "stdout",
     "output_type": "stream",
     "text": [
      "+---+----------+--------------------+\n",
      "| id|     today|                 now|\n",
      "+---+----------+--------------------+\n",
      "|  0|2023-11-26|2023-11-26 19:22:...|\n",
      "+---+----------+--------------------+\n",
      "\n"
     ]
    }
   ],
   "source": [
    "dateDF.show()"
   ]
  },
  {
   "cell_type": "code",
   "execution_count": 48,
   "id": "21aeb008-8557-4e2a-9177-cf15f93f9d80",
   "metadata": {},
   "outputs": [
    {
     "name": "stdout",
     "output_type": "stream",
     "text": [
      "root\n",
      " |-- id: long (nullable = false)\n",
      " |-- today: date (nullable = false)\n",
      " |-- now: timestamp (nullable = false)\n",
      "\n"
     ]
    }
   ],
   "source": [
    "dateDF.createOrReplaceTempView(\"dateTable\")\n",
    "dateDF.printSchema()"
   ]
  },
  {
   "cell_type": "markdown",
   "id": "a9c9d2e1-bd8c-4f3a-aeb4-aee037ba46c8",
   "metadata": {},
   "source": [
    "## Operations with dates - date_add and date_sub"
   ]
  },
  {
   "cell_type": "code",
   "execution_count": 49,
   "id": "5330584f-383e-46a3-b6b4-ef355439b7ce",
   "metadata": {},
   "outputs": [
    {
     "name": "stdout",
     "output_type": "stream",
     "text": [
      "+------------------+------------------+\n",
      "|date_sub(today, 5)|date_add(today, 5)|\n",
      "+------------------+------------------+\n",
      "|        2023-11-21|        2023-12-01|\n",
      "+------------------+------------------+\n",
      "\n"
     ]
    }
   ],
   "source": [
    "dateDF.select(F.date_sub(F.col(\"today\"), 5), F.date_add(F.col(\"today\"), 5)).show(1)"
   ]
  },
  {
   "cell_type": "markdown",
   "id": "105295e0-b931-4147-8778-2f6e60a74c7b",
   "metadata": {},
   "source": [
    "## Difference between dates"
   ]
  },
  {
   "cell_type": "code",
   "execution_count": 50,
   "id": "3722093a-23ea-4cdd-bb57-433e29d87df9",
   "metadata": {},
   "outputs": [
    {
     "name": "stdout",
     "output_type": "stream",
     "text": [
      "+-------------------------+\n",
      "|datediff(week_ago, today)|\n",
      "+-------------------------+\n",
      "|                       -7|\n",
      "+-------------------------+\n",
      "\n"
     ]
    }
   ],
   "source": [
    "dateDF.withColumn(\"week_ago\", F.date_sub(F.col(\"today\"), 7))\\\n",
    ".select(F.datediff(F.col(\"week_ago\"), F.col(\"today\"))).show(1)"
   ]
  },
  {
   "cell_type": "code",
   "execution_count": 51,
   "id": "8f2e1258-1861-40cf-ad82-eff724f23c43",
   "metadata": {},
   "outputs": [
    {
     "name": "stdout",
     "output_type": "stream",
     "text": [
      "+--------------------------------+\n",
      "|months_between(end, start, true)|\n",
      "+--------------------------------+\n",
      "|                     16.67741935|\n",
      "+--------------------------------+\n",
      "\n"
     ]
    }
   ],
   "source": [
    "dateDF.select(\n",
    "F.to_date(F.lit(\"2016-01-01\")).alias(\"start\"),\n",
    "F.to_date(F.lit(\"2017-05-22\")).alias(\"end\"))\\\n",
    ".select(F.months_between(F.col(\"end\"), F.col(\"start\"))).show(1)"
   ]
  },
  {
   "cell_type": "markdown",
   "id": "5f3d2326-ee12-4e8e-b70f-ed441c4017aa",
   "metadata": {},
   "source": [
    "## Converting string to date"
   ]
  },
  {
   "cell_type": "code",
   "execution_count": 52,
   "id": "962d15b3-7bd1-4e91-ac16-2a019378e60f",
   "metadata": {},
   "outputs": [
    {
     "name": "stdout",
     "output_type": "stream",
     "text": [
      "+-------------+\n",
      "|to_date(date)|\n",
      "+-------------+\n",
      "|   2017-01-01|\n",
      "+-------------+\n",
      "\n"
     ]
    }
   ],
   "source": [
    "spark.range(1).withColumn(\"date\", F.lit(\"2017-01-01\"))\\\n",
    ".select(F.to_date(F.col(\"date\"))).show(1)"
   ]
  },
  {
   "cell_type": "markdown",
   "id": "caa09052-970d-4cfd-95be-86938c9eb982",
   "metadata": {},
   "source": [
    "## For parsing problems, spark returns null"
   ]
  },
  {
   "cell_type": "code",
   "execution_count": 53,
   "id": "df690f88-b7e6-47e9-9a71-d96c8626cd37",
   "metadata": {},
   "outputs": [
    {
     "name": "stdout",
     "output_type": "stream",
     "text": [
      "+----------+----------+\n",
      "|wrong_date|right_date|\n",
      "+----------+----------+\n",
      "|      null|2017-12-11|\n",
      "+----------+----------+\n",
      "\n"
     ]
    }
   ],
   "source": [
    "dateDF.select(F.to_date(F.lit(\"2016-20-12\")).alias('wrong_date'),F.to_date(F.lit(\"2017-12-11\")).alias('right_date')).show(1)"
   ]
  },
  {
   "cell_type": "markdown",
   "id": "ff1066b5-1653-4025-afcc-62aa28db4cdb",
   "metadata": {},
   "source": [
    "## Fixing silent dates problems with to_date"
   ]
  },
  {
   "cell_type": "code",
   "execution_count": 54,
   "id": "571bcf02-77cd-468d-a2bb-289051ddd1f4",
   "metadata": {},
   "outputs": [],
   "source": [
    "# coercing a dateFormat\n",
    "dateFormat = \"yyyy-dd-MM\"\n",
    "cleanDateDF = spark.range(1).select(\n",
    "F.to_date(F.lit(\"2017-12-11\"), dateFormat).alias(\"date\"),\n",
    "F.to_date(F.lit(\"2017-20-12\"), dateFormat).alias(\"date2\"))\n",
    "cleanDateDF.createOrReplaceTempView(\"dateTable2\")"
   ]
  },
  {
   "cell_type": "code",
   "execution_count": 55,
   "id": "a20f967b-90fb-4a29-a082-ad1a4d56a681",
   "metadata": {},
   "outputs": [
    {
     "name": "stdout",
     "output_type": "stream",
     "text": [
      "+----------+----------+------------+\n",
      "|right_date|wrong_date|coerced_date|\n",
      "+----------+----------+------------+\n",
      "|2017-11-12|2017-12-20|  2017-11-12|\n",
      "+----------+----------+------------+\n",
      "\n"
     ]
    }
   ],
   "source": [
    "spark.sql(\"\"\"SELECT to_date(date, 'yyyy-dd-MM') AS right_date, to_date(date2, 'yyyy-dd-MM') AS wrong_date, to_date(date) AS coerced_date\n",
    "FROM dateTable2\"\"\").show()"
   ]
  },
  {
   "cell_type": "markdown",
   "id": "2c164b22-5730-4b4e-8441-27e47409719c",
   "metadata": {},
   "source": [
    "## to_timestamp"
   ]
  },
  {
   "cell_type": "code",
   "execution_count": 56,
   "id": "a96563f8-1beb-40c6-ac0c-647e59896a54",
   "metadata": {},
   "outputs": [
    {
     "name": "stdout",
     "output_type": "stream",
     "text": [
      "+-------------------+\n",
      "|     coerced_format|\n",
      "+-------------------+\n",
      "|2017-11-12 00:00:00|\n",
      "+-------------------+\n",
      "\n"
     ]
    }
   ],
   "source": [
    "cleanDateDF.select(F.to_timestamp(F.col(\"date\"), dateFormat).alias('coerced_format')).show()"
   ]
  },
  {
   "cell_type": "code",
   "execution_count": 57,
   "id": "2b662d66-90d7-4f38-86d6-b473df88a9b1",
   "metadata": {},
   "outputs": [
    {
     "name": "stdout",
     "output_type": "stream",
     "text": [
      "+-------------------+-------------------+\n",
      "|    right_timestamp|  coerced_timestamp|\n",
      "+-------------------+-------------------+\n",
      "|2017-11-12 00:00:00|2017-12-20 00:00:00|\n",
      "+-------------------+-------------------+\n",
      "\n"
     ]
    }
   ],
   "source": [
    "spark.sql(\"\"\"SELECT to_timestamp(date, 'yyyy-dd-MM') AS right_timestamp, to_timestamp(date2, 'yyyy-dd-MM') AS coerced_timestamp\n",
    "FROM dateTable2\"\"\").show()"
   ]
  },
  {
   "cell_type": "markdown",
   "id": "7fb14fed-8ad1-4cee-8743-b42a7e3b5919",
   "metadata": {},
   "source": [
    "## Alternative in SQL"
   ]
  },
  {
   "cell_type": "code",
   "execution_count": 58,
   "id": "5f06e324-24e6-469c-ac65-e0a4fb749023",
   "metadata": {},
   "outputs": [
    {
     "name": "stdout",
     "output_type": "stream",
     "text": [
      "+-------------------+\n",
      "|        sql_casting|\n",
      "+-------------------+\n",
      "|2017-01-01 00:00:00|\n",
      "+-------------------+\n",
      "\n"
     ]
    }
   ],
   "source": [
    "spark.sql(\"\"\"SELECT cast(to_date(\"2017-01-01\", \"yyyy-dd-MM\") as timestamp) AS sql_casting\"\"\").show()"
   ]
  },
  {
   "cell_type": "markdown",
   "id": "352a2077-68c2-4cb9-95a5-da7e4976b408",
   "metadata": {},
   "source": [
    "## Dates comparison"
   ]
  },
  {
   "cell_type": "code",
   "execution_count": 59,
   "id": "ee92bb92-23e3-44e2-b732-902c9955d937",
   "metadata": {},
   "outputs": [
    {
     "name": "stdout",
     "output_type": "stream",
     "text": [
      "+----------+----------+\n",
      "|      date|     date2|\n",
      "+----------+----------+\n",
      "|2017-11-12|2017-12-20|\n",
      "+----------+----------+\n",
      "\n"
     ]
    }
   ],
   "source": [
    "cleanDateDF.filter(F.col(\"date2\") > F.lit(\"2017-12-12\")).show()"
   ]
  },
  {
   "cell_type": "code",
   "execution_count": 60,
   "id": "d6723c82-dafa-4898-9614-0393a359be9b",
   "metadata": {},
   "outputs": [
    {
     "name": "stdout",
     "output_type": "stream",
     "text": [
      "+----------+----------+\n",
      "|      date|     date2|\n",
      "+----------+----------+\n",
      "|2017-11-12|2017-12-20|\n",
      "+----------+----------+\n",
      "\n"
     ]
    }
   ],
   "source": [
    "spark.sql(\"\"\"SELECT * \n",
    "FROM dateTable2 WHERE date2>date\"\"\").show()"
   ]
  },
  {
   "cell_type": "code",
   "execution_count": 61,
   "id": "68bb9024-a50b-4407-b842-a081c7720a9f",
   "metadata": {},
   "outputs": [
    {
     "name": "stdout",
     "output_type": "stream",
     "text": [
      "+----+-----+\n",
      "|date|date2|\n",
      "+----+-----+\n",
      "+----+-----+\n",
      "\n"
     ]
    }
   ],
   "source": [
    "cleanDateDF.filter(F.col(\"date2\") > \"'2017-12-12'\").show()"
   ]
  },
  {
   "cell_type": "markdown",
   "id": "f490c964-bf33-4a7c-a5db-f8ce8d092451",
   "metadata": {},
   "source": [
    "Warning: implicit type casting is an easy way to shoot yourself in the foot,\n",
    "especially when dealing with null values or dates in different time‐\n",
    "zones or formats. We recommend that you parse them explicitly\n",
    "instead of relying on implicit conversions."
   ]
  },
  {
   "cell_type": "markdown",
   "id": "3a7ca108-3e9e-4c85-a041-e180adc19050",
   "metadata": {},
   "source": [
    "## Working with nulls in data"
   ]
  },
  {
   "cell_type": "markdown",
   "id": "85bc1280-f30e-4017-9636-c3abc6b86447",
   "metadata": {},
   "source": [
    "## Coalesce"
   ]
  },
  {
   "cell_type": "markdown",
   "id": "acf4862a-8014-4fb4-8a03-ba88ebc9342d",
   "metadata": {},
   "source": [
    "### Basic coalesce example"
   ]
  },
  {
   "cell_type": "code",
   "execution_count": 62,
   "id": "865df0a6-b815-4dde-88af-96366405ad8d",
   "metadata": {},
   "outputs": [
    {
     "name": "stderr",
     "output_type": "stream",
     "text": [
      "                                                                                \r"
     ]
    },
    {
     "name": "stdout",
     "output_type": "stream",
     "text": [
      "+----+----+----+\n",
      "|   a|   b|   c|\n",
      "+----+----+----+\n",
      "|null|null|null|\n",
      "|   1|null|   2|\n",
      "|null|   2|null|\n",
      "|null|null|   3|\n",
      "+----+----+----+\n",
      "\n"
     ]
    }
   ],
   "source": [
    "cDf = spark.createDataFrame([(None, None,None), (1, None,2), (None, 2,None),(None, None,3)], (\"a\", \"b\",\"c\"))\n",
    "cDf.show()"
   ]
  },
  {
   "cell_type": "code",
   "execution_count": 63,
   "id": "446dd3b1-4f70-4c13-8430-cd63b5d330dd",
   "metadata": {},
   "outputs": [
    {
     "name": "stdout",
     "output_type": "stream",
     "text": [
      "+-----------------+\n",
      "|coalesce(a, b, c)|\n",
      "+-----------------+\n",
      "|             null|\n",
      "|                1|\n",
      "|                2|\n",
      "|                3|\n",
      "+-----------------+\n",
      "\n"
     ]
    }
   ],
   "source": [
    "cDf.select(F.coalesce(cDf[\"a\"], cDf[\"b\"],cDf[\"c\"])).show()"
   ]
  },
  {
   "cell_type": "markdown",
   "id": "eccc5cc0-279c-4182-ac6e-19bb3493f03f",
   "metadata": {},
   "source": [
    "### Coalesce working like a fillna"
   ]
  },
  {
   "cell_type": "code",
   "execution_count": 64,
   "id": "c6e7dccb-bd3d-40b4-a1d8-59cd86134155",
   "metadata": {},
   "outputs": [],
   "source": [
    "def fillna(cDf,fill_dict):\n",
    "    return cDf.select(*[F.coalesce(cDf[col], F.lit(fill_dict.get(col))) for col in cDf.columns])"
   ]
  },
  {
   "cell_type": "code",
   "execution_count": 65,
   "id": "e0649843-d61d-4fab-8fa3-b2a321a71abe",
   "metadata": {},
   "outputs": [
    {
     "name": "stdout",
     "output_type": "stream",
     "text": [
      "+---------------+---------------+---------------+\n",
      "|coalesce(a, 20)|coalesce(b, 30)|coalesce(c, 40)|\n",
      "+---------------+---------------+---------------+\n",
      "|             20|             30|             40|\n",
      "|              1|             30|              2|\n",
      "|             20|              2|             40|\n",
      "|             20|             30|              3|\n",
      "+---------------+---------------+---------------+\n",
      "\n"
     ]
    }
   ],
   "source": [
    "fillna(cDf,{'a':20,'b':30,'c':40}).show()"
   ]
  },
  {
   "cell_type": "markdown",
   "id": "740db571-6f85-478e-a76b-a70898fa409e",
   "metadata": {},
   "source": [
    "# A database example"
   ]
  },
  {
   "cell_type": "code",
   "execution_count": 66,
   "id": "c44c5188-05e6-4248-855e-4efaee61071b",
   "metadata": {},
   "outputs": [
    {
     "name": "stdout",
     "output_type": "stream",
     "text": [
      "+---------------------------------+\n",
      "|coalesce(Description, CustomerId)|\n",
      "+---------------------------------+\n",
      "|             WHITE HANGING HEA...|\n",
      "|              WHITE METAL LANTERN|\n",
      "|             CREAM CUPID HEART...|\n",
      "|             KNITTED UNION FLA...|\n",
      "|             RED WOOLLY HOTTIE...|\n",
      "|             SET 7 BABUSHKA NE...|\n",
      "|             GLASS STAR FROSTE...|\n",
      "|             HAND WARMER UNION...|\n",
      "|             HAND WARMER RED P...|\n",
      "|             ASSORTED COLOUR B...|\n",
      "|             POPPY'S PLAYHOUSE...|\n",
      "|             POPPY'S PLAYHOUSE...|\n",
      "|             FELTCRAFT PRINCES...|\n",
      "|             IVORY KNITTED MUG...|\n",
      "|             BOX OF 6 ASSORTED...|\n",
      "|             BOX OF VINTAGE JI...|\n",
      "|             BOX OF VINTAGE AL...|\n",
      "|             HOME BUILDING BLO...|\n",
      "|             LOVE BUILDING BLO...|\n",
      "|             RECIPE BOX WITH M...|\n",
      "+---------------------------------+\n",
      "only showing top 20 rows\n",
      "\n"
     ]
    }
   ],
   "source": [
    "# Since there is no null value in Description column, the result is exactly this\n",
    "df.select(F.coalesce(F.col(\"Description\"), F.col(\"CustomerId\"))).show()"
   ]
  },
  {
   "cell_type": "markdown",
   "id": "f325e32a-8a02-4a77-917c-ab95062bb2a2",
   "metadata": {},
   "source": [
    "### ifnull, nullIf"
   ]
  },
  {
   "cell_type": "code",
   "execution_count": 67,
   "id": "c2672c2a-454a-4155-a3ea-4791da8fd483",
   "metadata": {},
   "outputs": [
    {
     "name": "stdout",
     "output_type": "stream",
     "text": [
      "+--------------+--------------+\n",
      "|ifnull_example|nullif_example|\n",
      "+--------------+--------------+\n",
      "|  return_value|          null|\n",
      "+--------------+--------------+\n",
      "\n"
     ]
    }
   ],
   "source": [
    "spark.sql(\"\"\"\n",
    "SELECT\n",
    "ifnull(null, 'return_value') AS ifnull_example,\n",
    "nullif('value', 'value') AS nullif_example\n",
    "FROM dfTable LIMIT 1\n",
    "\"\"\").show()"
   ]
  },
  {
   "cell_type": "markdown",
   "id": "00c533cb-17ef-4d9e-9a7e-44dc9aa8845e",
   "metadata": {},
   "source": [
    "### nvl, and nvl2"
   ]
  },
  {
   "cell_type": "code",
   "execution_count": 68,
   "id": "80e87ebe-9245-4005-8995-fa2d03d2282e",
   "metadata": {},
   "outputs": [
    {
     "name": "stdout",
     "output_type": "stream",
     "text": [
      "+------------+------------+\n",
      "| nvl_example|nvl2_example|\n",
      "+------------+------------+\n",
      "|return_value|return_value|\n",
      "+------------+------------+\n",
      "\n"
     ]
    }
   ],
   "source": [
    "spark.sql(\"\"\"\n",
    "SELECT\n",
    "nvl(null, 'return_value') AS nvl_example,\n",
    "nvl2('not_null', 'return_value', \"else_value\") AS nvl2_example\n",
    "FROM dfTable LIMIT 1\n",
    "\"\"\").show()"
   ]
  },
  {
   "cell_type": "markdown",
   "id": "68500b20-4ba8-40b3-98ab-224aa152a307",
   "metadata": {},
   "source": [
    "# drop "
   ]
  },
  {
   "cell_type": "markdown",
   "id": "3a10a617-05ea-4363-9e1f-ec7635b4f4ed",
   "metadata": {},
   "source": [
    "## basic example"
   ]
  },
  {
   "cell_type": "code",
   "execution_count": 69,
   "id": "3d725d68-0043-412a-bbfa-5d767370c94c",
   "metadata": {},
   "outputs": [
    {
     "name": "stdout",
     "output_type": "stream",
     "text": [
      "+----+----+\n",
      "|   a|   b|\n",
      "+----+----+\n",
      "|null|null|\n",
      "|null|   1|\n",
      "|null|   2|\n",
      "|   1|   2|\n",
      "+----+----+\n",
      "\n"
     ]
    }
   ],
   "source": [
    "df_ex = spark.createDataFrame([(None,None), (None, 1),(None,2),(1,2)], (\"a\", \"b\"))\n",
    "df_ex.show()"
   ]
  },
  {
   "cell_type": "markdown",
   "id": "119f3907-17ef-45c7-beaf-c2c922915007",
   "metadata": {},
   "source": [
    "## SQL example"
   ]
  },
  {
   "cell_type": "code",
   "execution_count": 70,
   "id": "b86d2b58-38eb-4b3a-aa9a-ea874279b7f6",
   "metadata": {},
   "outputs": [],
   "source": [
    "df_ex.createOrReplaceTempView(\"example\")"
   ]
  },
  {
   "cell_type": "code",
   "execution_count": 71,
   "id": "4b43d96d-03dd-4f78-a93b-181935a30ae1",
   "metadata": {},
   "outputs": [
    {
     "name": "stdout",
     "output_type": "stream",
     "text": [
      "+---+---+\n",
      "|  a|  b|\n",
      "+---+---+\n",
      "|  1|  2|\n",
      "+---+---+\n",
      "\n"
     ]
    }
   ],
   "source": [
    "# works as na.drop(\"any\")\n",
    "spark.sql(\"SELECT * FROM example WHERE a IS NOT NULL\").show()"
   ]
  },
  {
   "cell_type": "code",
   "execution_count": 72,
   "id": "5bcb6ec7-28ac-45e8-a869-dd4bb18b458d",
   "metadata": {},
   "outputs": [
    {
     "name": "stdout",
     "output_type": "stream",
     "text": [
      "+----+---+\n",
      "|   a|  b|\n",
      "+----+---+\n",
      "|null|  1|\n",
      "|null|  2|\n",
      "|   1|  2|\n",
      "+----+---+\n",
      "\n"
     ]
    }
   ],
   "source": [
    "# works as na.drop(\"all\")\n",
    "spark.sql(\"SELECT * FROM example WHERE (a IS NOT NULL) OR (b IS NOT NULL)\").show()"
   ]
  },
  {
   "cell_type": "code",
   "execution_count": 73,
   "id": "b4c8a8c8-d308-4a52-881e-60241c1780bc",
   "metadata": {},
   "outputs": [
    {
     "name": "stdout",
     "output_type": "stream",
     "text": [
      "+---+---+\n",
      "|  a|  b|\n",
      "+---+---+\n",
      "|  1|  2|\n",
      "+---+---+\n",
      "\n"
     ]
    }
   ],
   "source": [
    "df_ex.na.drop().show()"
   ]
  },
  {
   "cell_type": "markdown",
   "id": "08919113-fc05-4251-bee9-af5623d76025",
   "metadata": {},
   "source": [
    "## drop all x any"
   ]
  },
  {
   "cell_type": "code",
   "execution_count": 74,
   "id": "48efbedd-6023-4f7f-b17f-e38fb4070139",
   "metadata": {},
   "outputs": [
    {
     "name": "stdout",
     "output_type": "stream",
     "text": [
      "+----+---+\n",
      "|   a|  b|\n",
      "+----+---+\n",
      "|null|  1|\n",
      "|null|  2|\n",
      "|   1|  2|\n",
      "+----+---+\n",
      "\n"
     ]
    }
   ],
   "source": [
    "df_ex.na.drop(\"all\").show()"
   ]
  },
  {
   "cell_type": "code",
   "execution_count": 75,
   "id": "70d374f0-8759-421a-8ba4-d910d459f22d",
   "metadata": {},
   "outputs": [
    {
     "name": "stdout",
     "output_type": "stream",
     "text": [
      "+---+---+\n",
      "|  a|  b|\n",
      "+---+---+\n",
      "|  1|  2|\n",
      "+---+---+\n",
      "\n"
     ]
    }
   ],
   "source": [
    "df_ex.na.drop(\"any\").show()"
   ]
  },
  {
   "cell_type": "markdown",
   "id": "4dd7b9a0-bd59-4804-9439-d7e7aebff8dc",
   "metadata": {},
   "source": [
    "# fill"
   ]
  },
  {
   "cell_type": "markdown",
   "id": "d6581314-ead7-4e18-a9ea-f662c130210f",
   "metadata": {},
   "source": [
    "## before"
   ]
  },
  {
   "cell_type": "code",
   "execution_count": 76,
   "id": "eb68f470-ca11-475d-b896-5898a907dfe0",
   "metadata": {},
   "outputs": [
    {
     "name": "stdout",
     "output_type": "stream",
     "text": [
      "+----+----+\n",
      "|   a|   b|\n",
      "+----+----+\n",
      "|null|null|\n",
      "|null|   1|\n",
      "|null|   2|\n",
      "|   1|   2|\n",
      "+----+----+\n",
      "\n"
     ]
    }
   ],
   "source": [
    "df_ex.show()"
   ]
  },
  {
   "cell_type": "markdown",
   "id": "c0b9c629-e87e-4945-b76c-55c9cbc868ad",
   "metadata": {},
   "source": [
    "## after"
   ]
  },
  {
   "cell_type": "code",
   "execution_count": 77,
   "id": "bf2ef19b-6cd4-4463-b094-a266fddd4992",
   "metadata": {},
   "outputs": [
    {
     "name": "stdout",
     "output_type": "stream",
     "text": [
      "+---+---+\n",
      "|  a|  b|\n",
      "+---+---+\n",
      "|  0|  0|\n",
      "|  0|  1|\n",
      "|  0|  2|\n",
      "|  1|  2|\n",
      "+---+---+\n",
      "\n"
     ]
    }
   ],
   "source": [
    "df_ex.na.fill(0).show()"
   ]
  },
  {
   "cell_type": "markdown",
   "id": "9fe2225f-b259-41d0-8d34-5ccf4341831b",
   "metadata": {},
   "source": [
    "## filling subset"
   ]
  },
  {
   "cell_type": "code",
   "execution_count": 78,
   "id": "016dcf61-9d78-41fb-8ebc-6cc3f4316d3c",
   "metadata": {},
   "outputs": [
    {
     "name": "stdout",
     "output_type": "stream",
     "text": [
      "+----+----+----+\n",
      "|   a|   b|   c|\n",
      "+----+----+----+\n",
      "|null|   1|null|\n",
      "|   1|null|null|\n",
      "|   0|null|   1|\n",
      "|   1|   2|   3|\n",
      "+----+----+----+\n",
      "\n"
     ]
    }
   ],
   "source": [
    "df_ex = spark.createDataFrame([(None,1,None), (1, None,None),(0,None,1),(1,2,3)], (\"a\", \"b\",\"c\"))\n",
    "df_ex.show()"
   ]
  },
  {
   "cell_type": "code",
   "execution_count": 79,
   "id": "32242749-aafc-4006-ad25-adde19dcde56",
   "metadata": {},
   "outputs": [
    {
     "name": "stdout",
     "output_type": "stream",
     "text": [
      "+---+---+----+\n",
      "|  a|  b|   c|\n",
      "+---+---+----+\n",
      "|  0|  1|null|\n",
      "|  1|  0|null|\n",
      "|  0|  0|   1|\n",
      "|  1|  2|   3|\n",
      "+---+---+----+\n",
      "\n"
     ]
    }
   ],
   "source": [
    "df_ex.na.fill(0, subset=[\"a\",\"b\"]).show()"
   ]
  },
  {
   "cell_type": "markdown",
   "id": "3da962d4-2960-44b3-96e7-85631a4ad6aa",
   "metadata": {},
   "source": [
    "# replace"
   ]
  },
  {
   "cell_type": "code",
   "execution_count": 80,
   "id": "8a73c06e-04cb-4990-8212-c5c57acf423f",
   "metadata": {},
   "outputs": [
    {
     "name": "stdout",
     "output_type": "stream",
     "text": [
      "+----+----+----+\n",
      "|   a|   b|   c|\n",
      "+----+----+----+\n",
      "|null|   1|null|\n",
      "| 100|null|null|\n",
      "|   0|null| 100|\n",
      "| 100|   2|   3|\n",
      "+----+----+----+\n",
      "\n"
     ]
    }
   ],
   "source": [
    "df_ex.na.replace(to_replace = 1, value=100, subset=[\"a\",\"c\"]).show()"
   ]
  },
  {
   "cell_type": "markdown",
   "id": "45afa9c2-693e-4877-98ed-c59e55fc78e5",
   "metadata": {},
   "source": [
    "# Working with complex types"
   ]
  },
  {
   "cell_type": "code",
   "execution_count": 81,
   "id": "42549011-62e2-4fed-92b8-26120047c94a",
   "metadata": {},
   "outputs": [
    {
     "name": "stdout",
     "output_type": "stream",
     "text": [
      "+--------------------+---------+---------+--------------------+--------+-------------------+---------+----------+--------------+\n",
      "|             complex|InvoiceNo|StockCode|         Description|Quantity|        InvoiceDate|UnitPrice|CustomerID|       Country|\n",
      "+--------------------+---------+---------+--------------------+--------+-------------------+---------+----------+--------------+\n",
      "|{WHITE HANGING HE...|   536365|   85123A|WHITE HANGING HEA...|       6|2010-12-01 08:26:00|     2.55|   17850.0|United Kingdom|\n",
      "|{WHITE METAL LANT...|   536365|    71053| WHITE METAL LANTERN|       6|2010-12-01 08:26:00|     3.39|   17850.0|United Kingdom|\n",
      "|{CREAM CUPID HEAR...|   536365|   84406B|CREAM CUPID HEART...|       8|2010-12-01 08:26:00|     2.75|   17850.0|United Kingdom|\n",
      "|{KNITTED UNION FL...|   536365|   84029G|KNITTED UNION FLA...|       6|2010-12-01 08:26:00|     3.39|   17850.0|United Kingdom|\n",
      "|{RED WOOLLY HOTTI...|   536365|   84029E|RED WOOLLY HOTTIE...|       6|2010-12-01 08:26:00|     3.39|   17850.0|United Kingdom|\n",
      "|{SET 7 BABUSHKA N...|   536365|    22752|SET 7 BABUSHKA NE...|       2|2010-12-01 08:26:00|     7.65|   17850.0|United Kingdom|\n",
      "|{GLASS STAR FROST...|   536365|    21730|GLASS STAR FROSTE...|       6|2010-12-01 08:26:00|     4.25|   17850.0|United Kingdom|\n",
      "|{HAND WARMER UNIO...|   536366|    22633|HAND WARMER UNION...|       6|2010-12-01 08:28:00|     1.85|   17850.0|United Kingdom|\n",
      "|{HAND WARMER RED ...|   536366|    22632|HAND WARMER RED P...|       6|2010-12-01 08:28:00|     1.85|   17850.0|United Kingdom|\n",
      "|{ASSORTED COLOUR ...|   536367|    84879|ASSORTED COLOUR B...|      32|2010-12-01 08:34:00|     1.69|   13047.0|United Kingdom|\n",
      "|{POPPY'S PLAYHOUS...|   536367|    22745|POPPY'S PLAYHOUSE...|       6|2010-12-01 08:34:00|      2.1|   13047.0|United Kingdom|\n",
      "|{POPPY'S PLAYHOUS...|   536367|    22748|POPPY'S PLAYHOUSE...|       6|2010-12-01 08:34:00|      2.1|   13047.0|United Kingdom|\n",
      "|{FELTCRAFT PRINCE...|   536367|    22749|FELTCRAFT PRINCES...|       8|2010-12-01 08:34:00|     3.75|   13047.0|United Kingdom|\n",
      "|{IVORY KNITTED MU...|   536367|    22310|IVORY KNITTED MUG...|       6|2010-12-01 08:34:00|     1.65|   13047.0|United Kingdom|\n",
      "|{BOX OF 6 ASSORTE...|   536367|    84969|BOX OF 6 ASSORTED...|       6|2010-12-01 08:34:00|     4.25|   13047.0|United Kingdom|\n",
      "|{BOX OF VINTAGE J...|   536367|    22623|BOX OF VINTAGE JI...|       3|2010-12-01 08:34:00|     4.95|   13047.0|United Kingdom|\n",
      "|{BOX OF VINTAGE A...|   536367|    22622|BOX OF VINTAGE AL...|       2|2010-12-01 08:34:00|     9.95|   13047.0|United Kingdom|\n",
      "|{HOME BUILDING BL...|   536367|    21754|HOME BUILDING BLO...|       3|2010-12-01 08:34:00|     5.95|   13047.0|United Kingdom|\n",
      "|{LOVE BUILDING BL...|   536367|    21755|LOVE BUILDING BLO...|       3|2010-12-01 08:34:00|     5.95|   13047.0|United Kingdom|\n",
      "|{RECIPE BOX WITH ...|   536367|    21777|RECIPE BOX WITH M...|       4|2010-12-01 08:34:00|     7.95|   13047.0|United Kingdom|\n",
      "+--------------------+---------+---------+--------------------+--------+-------------------+---------+----------+--------------+\n",
      "only showing top 20 rows\n",
      "\n"
     ]
    }
   ],
   "source": [
    "df.selectExpr(\"(Description, InvoiceNo) as complex\", \"*\").show()"
   ]
  },
  {
   "cell_type": "code",
   "execution_count": 82,
   "id": "7a5c4da2-d66e-4ee5-ad35-adfb16cb7338",
   "metadata": {},
   "outputs": [
    {
     "name": "stdout",
     "output_type": "stream",
     "text": [
      "+--------------------+---------+---------+--------------------+--------+-------------------+---------+----------+--------------+\n",
      "|             complex|InvoiceNo|StockCode|         Description|Quantity|        InvoiceDate|UnitPrice|CustomerID|       Country|\n",
      "+--------------------+---------+---------+--------------------+--------+-------------------+---------+----------+--------------+\n",
      "|{WHITE HANGING HE...|   536365|   85123A|WHITE HANGING HEA...|       6|2010-12-01 08:26:00|     2.55|   17850.0|United Kingdom|\n",
      "|{WHITE METAL LANT...|   536365|    71053| WHITE METAL LANTERN|       6|2010-12-01 08:26:00|     3.39|   17850.0|United Kingdom|\n",
      "|{CREAM CUPID HEAR...|   536365|   84406B|CREAM CUPID HEART...|       8|2010-12-01 08:26:00|     2.75|   17850.0|United Kingdom|\n",
      "|{KNITTED UNION FL...|   536365|   84029G|KNITTED UNION FLA...|       6|2010-12-01 08:26:00|     3.39|   17850.0|United Kingdom|\n",
      "|{RED WOOLLY HOTTI...|   536365|   84029E|RED WOOLLY HOTTIE...|       6|2010-12-01 08:26:00|     3.39|   17850.0|United Kingdom|\n",
      "|{SET 7 BABUSHKA N...|   536365|    22752|SET 7 BABUSHKA NE...|       2|2010-12-01 08:26:00|     7.65|   17850.0|United Kingdom|\n",
      "|{GLASS STAR FROST...|   536365|    21730|GLASS STAR FROSTE...|       6|2010-12-01 08:26:00|     4.25|   17850.0|United Kingdom|\n",
      "|{HAND WARMER UNIO...|   536366|    22633|HAND WARMER UNION...|       6|2010-12-01 08:28:00|     1.85|   17850.0|United Kingdom|\n",
      "|{HAND WARMER RED ...|   536366|    22632|HAND WARMER RED P...|       6|2010-12-01 08:28:00|     1.85|   17850.0|United Kingdom|\n",
      "|{ASSORTED COLOUR ...|   536367|    84879|ASSORTED COLOUR B...|      32|2010-12-01 08:34:00|     1.69|   13047.0|United Kingdom|\n",
      "|{POPPY'S PLAYHOUS...|   536367|    22745|POPPY'S PLAYHOUSE...|       6|2010-12-01 08:34:00|      2.1|   13047.0|United Kingdom|\n",
      "|{POPPY'S PLAYHOUS...|   536367|    22748|POPPY'S PLAYHOUSE...|       6|2010-12-01 08:34:00|      2.1|   13047.0|United Kingdom|\n",
      "|{FELTCRAFT PRINCE...|   536367|    22749|FELTCRAFT PRINCES...|       8|2010-12-01 08:34:00|     3.75|   13047.0|United Kingdom|\n",
      "|{IVORY KNITTED MU...|   536367|    22310|IVORY KNITTED MUG...|       6|2010-12-01 08:34:00|     1.65|   13047.0|United Kingdom|\n",
      "|{BOX OF 6 ASSORTE...|   536367|    84969|BOX OF 6 ASSORTED...|       6|2010-12-01 08:34:00|     4.25|   13047.0|United Kingdom|\n",
      "|{BOX OF VINTAGE J...|   536367|    22623|BOX OF VINTAGE JI...|       3|2010-12-01 08:34:00|     4.95|   13047.0|United Kingdom|\n",
      "|{BOX OF VINTAGE A...|   536367|    22622|BOX OF VINTAGE AL...|       2|2010-12-01 08:34:00|     9.95|   13047.0|United Kingdom|\n",
      "|{HOME BUILDING BL...|   536367|    21754|HOME BUILDING BLO...|       3|2010-12-01 08:34:00|     5.95|   13047.0|United Kingdom|\n",
      "|{LOVE BUILDING BL...|   536367|    21755|LOVE BUILDING BLO...|       3|2010-12-01 08:34:00|     5.95|   13047.0|United Kingdom|\n",
      "|{RECIPE BOX WITH ...|   536367|    21777|RECIPE BOX WITH M...|       4|2010-12-01 08:34:00|     7.95|   13047.0|United Kingdom|\n",
      "+--------------------+---------+---------+--------------------+--------+-------------------+---------+----------+--------------+\n",
      "only showing top 20 rows\n",
      "\n"
     ]
    }
   ],
   "source": [
    "spark.sql(\"SELECT (Description, InvoiceNo) as complex,*  FROM dfTable\").show()"
   ]
  },
  {
   "cell_type": "code",
   "execution_count": 83,
   "id": "1e91713e-7944-41ca-b710-912d70e13d49",
   "metadata": {},
   "outputs": [],
   "source": [
    "complexDF = df.select(F.struct(\"Description\", \"InvoiceNo\").alias(\"complex\"))\n",
    "complexDF.createOrReplaceTempView(\"complexDF\")"
   ]
  },
  {
   "cell_type": "markdown",
   "id": "e289b289-6c85-4073-a2bd-7258bb5dedd4",
   "metadata": {},
   "source": [
    "## Structs"
   ]
  },
  {
   "cell_type": "code",
   "execution_count": 84,
   "id": "807542c2-2ca0-401d-b6e3-16c12db1aff8",
   "metadata": {},
   "outputs": [],
   "source": [
    "complexDF = df.select(F.struct(\"Description\", \"InvoiceNo\").alias(\"complex\"))"
   ]
  },
  {
   "cell_type": "code",
   "execution_count": 85,
   "id": "9c1249dd-1cb1-4422-8947-f3a2aa8bf23b",
   "metadata": {},
   "outputs": [],
   "source": [
    "complexDF.createOrReplaceTempView(\"complexDF\")"
   ]
  },
  {
   "cell_type": "code",
   "execution_count": 86,
   "id": "8c00b125-8417-450b-a3e4-0c694edbd150",
   "metadata": {},
   "outputs": [
    {
     "name": "stdout",
     "output_type": "stream",
     "text": [
      "+--------------------+\n",
      "|         Description|\n",
      "+--------------------+\n",
      "|WHITE HANGING HEA...|\n",
      "| WHITE METAL LANTERN|\n",
      "+--------------------+\n",
      "only showing top 2 rows\n",
      "\n"
     ]
    }
   ],
   "source": [
    "complexDF.select(\"complex.Description\").show(2)"
   ]
  },
  {
   "cell_type": "code",
   "execution_count": 87,
   "id": "912f6067-30d2-4a1f-9971-22cb087021c0",
   "metadata": {},
   "outputs": [
    {
     "name": "stdout",
     "output_type": "stream",
     "text": [
      "+---------+\n",
      "|InvoiceNo|\n",
      "+---------+\n",
      "|   536365|\n",
      "|   536365|\n",
      "+---------+\n",
      "only showing top 2 rows\n",
      "\n"
     ]
    }
   ],
   "source": [
    "complexDF.select(\"complex.InvoiceNo\").show(2)"
   ]
  },
  {
   "cell_type": "markdown",
   "id": "9e95eeae-fec0-44b4-8f6a-1fce72ea6860",
   "metadata": {},
   "source": [
    "## Using pyspark api"
   ]
  },
  {
   "cell_type": "code",
   "execution_count": 88,
   "id": "798660e4-536b-4225-94df-697501709fee",
   "metadata": {},
   "outputs": [
    {
     "name": "stdout",
     "output_type": "stream",
     "text": [
      "+--------------------+\n",
      "| complex.Description|\n",
      "+--------------------+\n",
      "|WHITE HANGING HEA...|\n",
      "| WHITE METAL LANTERN|\n",
      "+--------------------+\n",
      "only showing top 2 rows\n",
      "\n"
     ]
    }
   ],
   "source": [
    "complexDF.select(\"complex.Description\")\n",
    "complexDF.select(F.col(\"complex\").getField(\"Description\")).show(2)"
   ]
  },
  {
   "cell_type": "markdown",
   "id": "35e44698-37a7-4e1f-be8e-63db65336835",
   "metadata": {},
   "source": [
    "## Selecting all fields of a complex type"
   ]
  },
  {
   "cell_type": "code",
   "execution_count": 89,
   "id": "ff2cd176-5d0f-4909-82f2-2b8c23188b80",
   "metadata": {},
   "outputs": [
    {
     "name": "stdout",
     "output_type": "stream",
     "text": [
      "+--------------------+---------+\n",
      "|         Description|InvoiceNo|\n",
      "+--------------------+---------+\n",
      "|WHITE HANGING HEA...|   536365|\n",
      "| WHITE METAL LANTERN|   536365|\n",
      "+--------------------+---------+\n",
      "only showing top 2 rows\n",
      "\n"
     ]
    }
   ],
   "source": [
    "complexDF.select(\"complex.*\").show(2)"
   ]
  },
  {
   "cell_type": "code",
   "execution_count": 90,
   "id": "3a25fad3-6a91-4ab6-90c6-b4efb8512041",
   "metadata": {},
   "outputs": [
    {
     "name": "stdout",
     "output_type": "stream",
     "text": [
      "+--------------------+---------+\n",
      "|         Description|InvoiceNo|\n",
      "+--------------------+---------+\n",
      "|WHITE HANGING HEA...|   536365|\n",
      "| WHITE METAL LANTERN|   536365|\n",
      "+--------------------+---------+\n",
      "only showing top 2 rows\n",
      "\n"
     ]
    }
   ],
   "source": [
    "spark.sql(\"SELECT complex.* FROM complexDF\").show(2)"
   ]
  },
  {
   "cell_type": "code",
   "execution_count": 91,
   "id": "99bc3bad-98e0-4e7a-9972-deb340efd892",
   "metadata": {},
   "outputs": [
    {
     "name": "stdout",
     "output_type": "stream",
     "text": [
      "+--------------------+---------+\n",
      "|         Description|InvoiceNo|\n",
      "+--------------------+---------+\n",
      "|WHITE HANGING HEA...|   536365|\n",
      "| WHITE METAL LANTERN|   536365|\n",
      "+--------------------+---------+\n",
      "only showing top 2 rows\n",
      "\n"
     ]
    }
   ],
   "source": [
    "complexDF.select(\"complex.*\").show(2)"
   ]
  },
  {
   "cell_type": "markdown",
   "id": "e6ea86a0-2e4f-467b-8ba0-3017f1cafbee",
   "metadata": {},
   "source": [
    "# Arrays"
   ]
  },
  {
   "cell_type": "markdown",
   "id": "9c433fea-1dc6-4fe4-b10e-7b0f040dc906",
   "metadata": {},
   "source": [
    "## split"
   ]
  },
  {
   "cell_type": "code",
   "execution_count": 92,
   "id": "0bb98bf2-548d-4804-ba99-284e96f8eeee",
   "metadata": {},
   "outputs": [
    {
     "name": "stdout",
     "output_type": "stream",
     "text": [
      "+-------------------------+\n",
      "|split(Description,  , -1)|\n",
      "+-------------------------+\n",
      "|     [WHITE, HANGING, ...|\n",
      "|     [WHITE, METAL, LA...|\n",
      "+-------------------------+\n",
      "only showing top 2 rows\n",
      "\n"
     ]
    }
   ],
   "source": [
    "df.select(F.split(F.col(\"Description\"), \" \")).show(2)"
   ]
  },
  {
   "cell_type": "code",
   "execution_count": 93,
   "id": "5a47cef4-532b-489d-8f99-210b3903cf4c",
   "metadata": {},
   "outputs": [
    {
     "name": "stdout",
     "output_type": "stream",
     "text": [
      "+-------------------------+\n",
      "|split(Description,  , -1)|\n",
      "+-------------------------+\n",
      "|     [WHITE, HANGING, ...|\n",
      "|     [WHITE, METAL, LA...|\n",
      "+-------------------------+\n",
      "only showing top 2 rows\n",
      "\n"
     ]
    }
   ],
   "source": [
    "spark.sql(\"SELECT split(Description, ' ') FROM dfTable\").show(2)"
   ]
  },
  {
   "cell_type": "markdown",
   "id": "0f86b018-dcbd-443b-a55c-c975cc1dcde2",
   "metadata": {},
   "source": [
    "## Acessing indexes"
   ]
  },
  {
   "cell_type": "code",
   "execution_count": 94,
   "id": "0a576628-f2b5-444e-96ce-f92efa9c0eff",
   "metadata": {},
   "outputs": [
    {
     "name": "stdout",
     "output_type": "stream",
     "text": [
      "+------------+\n",
      "|array_col[0]|\n",
      "+------------+\n",
      "|       WHITE|\n",
      "|       WHITE|\n",
      "+------------+\n",
      "only showing top 2 rows\n",
      "\n"
     ]
    }
   ],
   "source": [
    "df.select(F.split(F.col(\"Description\"), \" \").alias(\"array_col\"))\\\n",
    ".selectExpr(\"array_col[0]\").show(2)"
   ]
  },
  {
   "cell_type": "code",
   "execution_count": 95,
   "id": "0124fed0-4498-4a62-a200-8b84ab57c1c3",
   "metadata": {},
   "outputs": [
    {
     "name": "stdout",
     "output_type": "stream",
     "text": [
      "+------------+\n",
      "|array_col[0]|\n",
      "+------------+\n",
      "|       WHITE|\n",
      "|       WHITE|\n",
      "+------------+\n",
      "only showing top 2 rows\n",
      "\n"
     ]
    }
   ],
   "source": [
    "spark.sql(\"SELECT split(Description, ' ')[0] AS `array_col[0]` FROM dfTable\").show(2)"
   ]
  },
  {
   "cell_type": "markdown",
   "id": "db46cdda-e891-4549-8886-e7111440844d",
   "metadata": {},
   "source": [
    "## Array length - size function"
   ]
  },
  {
   "cell_type": "code",
   "execution_count": 96,
   "id": "1ea05099-441e-4c07-a61f-734e0d02d8f1",
   "metadata": {},
   "outputs": [
    {
     "name": "stdout",
     "output_type": "stream",
     "text": [
      "+-------------------------------+\n",
      "|size(split(Description,  , -1))|\n",
      "+-------------------------------+\n",
      "|                              5|\n",
      "|                              3|\n",
      "+-------------------------------+\n",
      "only showing top 2 rows\n",
      "\n"
     ]
    }
   ],
   "source": [
    "df.select(F.size(F.split(F.col(\"Description\"), \" \"))).show(2)"
   ]
  },
  {
   "cell_type": "code",
   "execution_count": 97,
   "id": "7493652b-b32a-4523-a5f4-87149102dd29",
   "metadata": {},
   "outputs": [
    {
     "name": "stdout",
     "output_type": "stream",
     "text": [
      "+-------------------------------+\n",
      "|size(split(Description,  , -1))|\n",
      "+-------------------------------+\n",
      "|                              5|\n",
      "|                              3|\n",
      "+-------------------------------+\n",
      "only showing top 2 rows\n",
      "\n"
     ]
    }
   ],
   "source": [
    "spark.sql(\"\"\"SELECT size(split(Description, \" \")) FROM dfTable\"\"\").show(2)"
   ]
  },
  {
   "cell_type": "markdown",
   "id": "7d0c9ebb-bc83-4959-b6e6-2f6cd9134d90",
   "metadata": {},
   "source": [
    "## array_contains"
   ]
  },
  {
   "cell_type": "code",
   "execution_count": 98,
   "id": "79074e82-5ef4-41f6-bfd1-bbf5068839ae",
   "metadata": {},
   "outputs": [
    {
     "name": "stdout",
     "output_type": "stream",
     "text": [
      "+------------------------------------------------+\n",
      "|array_contains(split(Description,  , -1), WHITE)|\n",
      "+------------------------------------------------+\n",
      "|                                            true|\n",
      "|                                            true|\n",
      "+------------------------------------------------+\n",
      "only showing top 2 rows\n",
      "\n"
     ]
    }
   ],
   "source": [
    "df.select(F.array_contains(F.split(F.col(\"Description\"), \" \"), \"WHITE\")).show(2)"
   ]
  },
  {
   "cell_type": "code",
   "execution_count": 99,
   "id": "999c74ca-71ef-4bd2-9317-e246a5b74fa9",
   "metadata": {},
   "outputs": [
    {
     "name": "stdout",
     "output_type": "stream",
     "text": [
      "+------------------------------------------------+\n",
      "|array_contains(split(Description,  , -1), WHITE)|\n",
      "+------------------------------------------------+\n",
      "|                                            true|\n",
      "|                                            true|\n",
      "+------------------------------------------------+\n",
      "only showing top 2 rows\n",
      "\n"
     ]
    }
   ],
   "source": [
    "spark.sql(\"SELECT array_contains(split(Description, ' '), 'WHITE') FROM dfTable\").show(2)"
   ]
  },
  {
   "cell_type": "code",
   "execution_count": 100,
   "id": "98a6b737-6d4b-4f72-a493-1bea1ae5d83e",
   "metadata": {},
   "outputs": [
    {
     "name": "stdout",
     "output_type": "stream",
     "text": [
      "+--------------------+\n",
      "|         Description|\n",
      "+--------------------+\n",
      "|CHICK GREY HOT WA...|\n",
      "|CHICK GREY HOT WA...|\n",
      "+--------------------+\n",
      "only showing top 2 rows\n",
      "\n"
     ]
    }
   ],
   "source": [
    "spark.sql(\"SELECT Description FROM dfTable WHERE array_contains(split(Description, ' '), 'GREY')\").show(2)"
   ]
  },
  {
   "cell_type": "markdown",
   "id": "a45a4de6-1aca-4be1-8511-6ada687fe446",
   "metadata": {},
   "source": [
    "## explode"
   ]
  },
  {
   "cell_type": "code",
   "execution_count": 101,
   "id": "0870fba2-b89c-4392-85fd-eaad6f68775d",
   "metadata": {},
   "outputs": [
    {
     "name": "stdout",
     "output_type": "stream",
     "text": [
      "+--------------------+---------+--------+\n",
      "|         Description|InvoiceNo|exploded|\n",
      "+--------------------+---------+--------+\n",
      "|WHITE HANGING HEA...|   536365|   WHITE|\n",
      "|WHITE HANGING HEA...|   536365| HANGING|\n",
      "+--------------------+---------+--------+\n",
      "only showing top 2 rows\n",
      "\n"
     ]
    }
   ],
   "source": [
    "df.withColumn(\"splitted\", F.split(F.col(\"Description\"), \" \"))\\\n",
    ".withColumn(\"exploded\", F.explode(F.col(\"splitted\")))\\\n",
    ".select(\"Description\", \"InvoiceNo\", \"exploded\").show(2)"
   ]
  },
  {
   "cell_type": "code",
   "execution_count": 102,
   "id": "d5e2042c-6afc-4075-945a-0a3f68a051ee",
   "metadata": {},
   "outputs": [
    {
     "name": "stdout",
     "output_type": "stream",
     "text": [
      "+--------------------+---------+--------+\n",
      "|         Description|InvoiceNo|exploded|\n",
      "+--------------------+---------+--------+\n",
      "|WHITE HANGING HEA...|   536365|   WHITE|\n",
      "|WHITE HANGING HEA...|   536365| HANGING|\n",
      "+--------------------+---------+--------+\n",
      "only showing top 2 rows\n",
      "\n"
     ]
    }
   ],
   "source": [
    "spark.sql(\"\"\"SELECT Description, InvoiceNo, exploded\n",
    "FROM (SELECT *, split(Description, \" \") as splitted FROM dfTable)\n",
    "LATERAL VIEW explode(splitted) as exploded\"\"\").show(2)"
   ]
  },
  {
   "cell_type": "markdown",
   "id": "9f0209af-9be7-4b27-b81e-80f886660471",
   "metadata": {},
   "source": [
    "# Maps"
   ]
  },
  {
   "cell_type": "code",
   "execution_count": 103,
   "id": "437fac06-4103-4977-be85-d1b0366d3d37",
   "metadata": {},
   "outputs": [
    {
     "name": "stdout",
     "output_type": "stream",
     "text": [
      "+--------------------+\n",
      "|         complex_map|\n",
      "+--------------------+\n",
      "|{WHITE HANGING HE...|\n",
      "|{WHITE METAL LANT...|\n",
      "+--------------------+\n",
      "only showing top 2 rows\n",
      "\n"
     ]
    }
   ],
   "source": [
    "df.select(F.create_map(F.col(\"Description\"), F.col(\"InvoiceNo\")).alias(\"complex_map\"))\\\n",
    ".show(2)"
   ]
  },
  {
   "cell_type": "code",
   "execution_count": 104,
   "id": "58230c6b-883a-4878-9f8f-08deb750e1e5",
   "metadata": {},
   "outputs": [
    {
     "name": "stdout",
     "output_type": "stream",
     "text": [
      "+--------------------+\n",
      "|         complex_map|\n",
      "+--------------------+\n",
      "|{WHITE HANGING HE...|\n",
      "|{WHITE METAL LANT...|\n",
      "+--------------------+\n",
      "only showing top 2 rows\n",
      "\n"
     ]
    }
   ],
   "source": [
    "spark.sql(\"\"\"SELECT map(Description, InvoiceNo) as complex_map FROM dfTable\n",
    "WHERE Description IS NOT NULL\"\"\").show(2)"
   ]
  },
  {
   "cell_type": "code",
   "execution_count": 105,
   "id": "288dc23d-04dd-495d-a4bd-c8504cefcedb",
   "metadata": {},
   "outputs": [
    {
     "name": "stdout",
     "output_type": "stream",
     "text": [
      "+--------------------------------+\n",
      "|complex_map[WHITE METAL LANTERN]|\n",
      "+--------------------------------+\n",
      "|                            null|\n",
      "|                          536365|\n",
      "+--------------------------------+\n",
      "only showing top 2 rows\n",
      "\n"
     ]
    }
   ],
   "source": [
    "df.select(F.create_map(F.col(\"Description\"), F.col(\"InvoiceNo\")).alias(\"complex_map\"))\\\n",
    ".selectExpr(\"complex_map['WHITE METAL LANTERN']\").show(2)"
   ]
  },
  {
   "cell_type": "markdown",
   "id": "f1ade5dc-1b04-467e-8b00-5c1502d38617",
   "metadata": {},
   "source": [
    "## Exploding maps"
   ]
  },
  {
   "cell_type": "code",
   "execution_count": 106,
   "id": "9d5b1445-59f6-4b0f-a46c-14bcc7ebe3f7",
   "metadata": {},
   "outputs": [
    {
     "name": "stdout",
     "output_type": "stream",
     "text": [
      "+--------------------+------+\n",
      "|                 key| value|\n",
      "+--------------------+------+\n",
      "|WHITE HANGING HEA...|536365|\n",
      "| WHITE METAL LANTERN|536365|\n",
      "+--------------------+------+\n",
      "only showing top 2 rows\n",
      "\n"
     ]
    }
   ],
   "source": [
    "df.select(F.create_map(F.col(\"Description\"), F.col(\"InvoiceNo\")).alias(\"complex_map\"))\\\n",
    ".selectExpr(\"explode(complex_map)\").show(2)"
   ]
  },
  {
   "cell_type": "markdown",
   "id": "7d5450ee-a3ac-4437-98c8-58b31c06a563",
   "metadata": {},
   "source": [
    "# Working with JSON"
   ]
  },
  {
   "cell_type": "markdown",
   "id": "50b3a0f9-84ed-479a-9b45-dcfd154f540d",
   "metadata": {},
   "source": [
    "## A basic example"
   ]
  },
  {
   "cell_type": "code",
   "execution_count": 107,
   "id": "d80508c4-7155-4b0b-8e2a-9a6a08642c99",
   "metadata": {},
   "outputs": [],
   "source": [
    "jsonDF = spark.range(1).selectExpr(\"\"\"\n",
    "'{\"myJSONKey\" : {\"myJSONValue\" : [1, 2, 3]}}' as jsonString\"\"\")"
   ]
  },
  {
   "cell_type": "code",
   "execution_count": 108,
   "id": "d3e56b77-9abb-45e0-a3f4-db1d99c22546",
   "metadata": {},
   "outputs": [
    {
     "name": "stdout",
     "output_type": "stream",
     "text": [
      "+---------------+--------------------+\n",
      "|get_json_object|          json_tuple|\n",
      "+---------------+--------------------+\n",
      "|              2|{\"myJSONValue\":[1...|\n",
      "+---------------+--------------------+\n",
      "\n"
     ]
    }
   ],
   "source": [
    "jsonDF.select(F.get_json_object(F.col(\"jsonString\"),\"$.myJSONKey.myJSONValue[1]\").alias('get_json_object')\n",
    "              ,F.json_tuple(F.col(\"jsonString\"), \"myJSONKey\").alias('json_tuple')).show()"
   ]
  },
  {
   "cell_type": "markdown",
   "id": "2aef70de-23c6-4c46-b845-c74ddcdaed5e",
   "metadata": {},
   "source": [
    "## SQL alternative 1"
   ]
  },
  {
   "cell_type": "code",
   "execution_count": 109,
   "id": "13909d53-d0ec-4f8b-b118-11b5063b21ba",
   "metadata": {},
   "outputs": [
    {
     "name": "stdout",
     "output_type": "stream",
     "text": [
      "+---------------+--------------------+\n",
      "|get_json_object|          json_tuple|\n",
      "+---------------+--------------------+\n",
      "|              2|{\"myJSONValue\":[1...|\n",
      "+---------------+--------------------+\n",
      "\n"
     ]
    }
   ],
   "source": [
    "jsonDF.selectExpr(\n",
    "                    \"get_json_object(jsonString, '$.myJSONKey.myJSONValue[1]') as `get_json_object`\",\n",
    "                    \"json_tuple(jsonString,'myJSONKey') AS json_tuple\").show(2)"
   ]
  },
  {
   "cell_type": "markdown",
   "id": "92b67816-8f96-407c-8540-90a8dc2f4e1a",
   "metadata": {},
   "source": [
    "## SQL alternative 2"
   ]
  },
  {
   "cell_type": "code",
   "execution_count": 110,
   "id": "c4979e3a-1cb8-4c71-a894-5826b24e5b8b",
   "metadata": {},
   "outputs": [
    {
     "name": "stdout",
     "output_type": "stream",
     "text": [
      "+---------------+--------------------+\n",
      "|get_json_object|          json_tuple|\n",
      "+---------------+--------------------+\n",
      "|              2|{\"myJSONValue\":[1...|\n",
      "+---------------+--------------------+\n",
      "\n"
     ]
    }
   ],
   "source": [
    "jsonDF.createOrReplaceTempView(\"jsonDF\")\n",
    "spark.sql(\"\"\"SELECT get_json_object(jsonString, '$.myJSONKey.myJSONValue[1]') as `get_json_object`,\n",
    "             json_tuple(jsonString,'myJSONKey') AS json_tuple FROM jsonDF\"\"\").show()"
   ]
  },
  {
   "cell_type": "markdown",
   "id": "2ce1a466-2032-4a02-b30b-4ca61b91fc1c",
   "metadata": {},
   "source": [
    "## Converting a struct into a JSON"
   ]
  },
  {
   "cell_type": "markdown",
   "id": "235e3e61-0c60-4b61-82f6-4ce867f41da4",
   "metadata": {},
   "source": [
    "### Defining struct implicitly"
   ]
  },
  {
   "cell_type": "code",
   "execution_count": 111,
   "id": "054c1c93-740c-4a28-b299-1632a53b48ae",
   "metadata": {},
   "outputs": [
    {
     "name": "stdout",
     "output_type": "stream",
     "text": [
      "+--------------------+\n",
      "|   to_json(myStruct)|\n",
      "+--------------------+\n",
      "|{\"InvoiceNo\":\"536...|\n",
      "|{\"InvoiceNo\":\"536...|\n",
      "+--------------------+\n",
      "only showing top 2 rows\n",
      "\n"
     ]
    }
   ],
   "source": [
    "df.selectExpr(\"(InvoiceNo, Description) as myStruct\")\\\n",
    ".select(F.to_json(F.col(\"myStruct\"))).show(2)"
   ]
  },
  {
   "cell_type": "markdown",
   "id": "b1a10b5a-d8eb-4cdf-8c74-2d52b8030573",
   "metadata": {},
   "source": [
    "### Defining struct explicitly"
   ]
  },
  {
   "cell_type": "code",
   "execution_count": 112,
   "id": "cbc91182-927d-4fd3-8fa4-f5799f3cb468",
   "metadata": {},
   "outputs": [
    {
     "name": "stdout",
     "output_type": "stream",
     "text": [
      "+--------------------+\n",
      "|   to_json(myStruct)|\n",
      "+--------------------+\n",
      "|{\"InvoiceNo\":\"536...|\n",
      "|{\"InvoiceNo\":\"536...|\n",
      "+--------------------+\n",
      "only showing top 2 rows\n",
      "\n"
     ]
    }
   ],
   "source": [
    "df.select(F.struct(\"InvoiceNo\", \"Description\").alias(\"myStruct\")).select(F.to_json(F.col(\"myStruct\"))).show(2)"
   ]
  },
  {
   "cell_type": "markdown",
   "id": "9279eec2-f233-47a4-8e9f-21c66d4407d9",
   "metadata": {},
   "source": [
    "### In SQL"
   ]
  },
  {
   "cell_type": "code",
   "execution_count": 113,
   "id": "85a34123-eff0-498b-9301-56f8691ba72d",
   "metadata": {},
   "outputs": [
    {
     "name": "stdout",
     "output_type": "stream",
     "text": [
      "+--------------------+\n",
      "|   to_json(myStruct)|\n",
      "+--------------------+\n",
      "|{\"InvoiceNo\":\"536...|\n",
      "|{\"InvoiceNo\":\"536...|\n",
      "+--------------------+\n",
      "only showing top 2 rows\n",
      "\n"
     ]
    }
   ],
   "source": [
    "# As a subquery\n",
    "spark.sql(\"\"\"SELECT to_json (myStruct) FROM (SELECT struct(InvoiceNo,Description) AS myStruct FROM dfTable) \"\"\").show(2)"
   ]
  },
  {
   "cell_type": "markdown",
   "id": "78252351-75a2-4218-8feb-2c6db22fcc7c",
   "metadata": {},
   "source": [
    "# from_json"
   ]
  },
  {
   "cell_type": "code",
   "execution_count": 114,
   "id": "5e157780-3bc0-43b3-a681-36223e26f1cc",
   "metadata": {},
   "outputs": [],
   "source": [
    "parseSchema = StructType((\n",
    "StructField(\"InvoiceNo\",StringType(),True),\n",
    "StructField(\"Description\",StringType(),True)))"
   ]
  },
  {
   "cell_type": "code",
   "execution_count": 115,
   "id": "3ed8d477-2dc1-4d1f-b652-e1368fba6b12",
   "metadata": {},
   "outputs": [
    {
     "name": "stdout",
     "output_type": "stream",
     "text": [
      "+--------------------+--------------------+\n",
      "|  from_json(newJSON)|             newJSON|\n",
      "+--------------------+--------------------+\n",
      "|{536365, WHITE HA...|{\"InvoiceNo\":\"536...|\n",
      "|{536365, WHITE ME...|{\"InvoiceNo\":\"536...|\n",
      "+--------------------+--------------------+\n",
      "only showing top 2 rows\n",
      "\n"
     ]
    }
   ],
   "source": [
    "df.selectExpr(\"(InvoiceNo, Description) as myStruct\")\\\n",
    ".select(F.to_json(F.col(\"myStruct\")).alias(\"newJSON\"))\\\n",
    ".select(F.from_json(F.col(\"newJSON\"), parseSchema), F.col(\"newJSON\")).show(2)"
   ]
  },
  {
   "cell_type": "markdown",
   "id": "52c7be0d-89e1-4d7c-ac42-3cdbf6472d10",
   "metadata": {},
   "source": [
    "# User Defined Functions (UDFs)"
   ]
  },
  {
   "cell_type": "markdown",
   "id": "a834eafa-3dda-4eda-9097-25d01908e781",
   "metadata": {},
   "source": [
    "## Defining a mock function"
   ]
  },
  {
   "cell_type": "code",
   "execution_count": 116,
   "id": "67afabd8-46d9-43ee-abe0-a513fe45e07f",
   "metadata": {},
   "outputs": [],
   "source": [
    "def power3(double_value):\n",
    "    return double_value ** 3"
   ]
  },
  {
   "cell_type": "code",
   "execution_count": 117,
   "id": "ba8d46bd-dab4-417f-a59a-cf4776510826",
   "metadata": {},
   "outputs": [
    {
     "data": {
      "text/plain": [
       "8.0"
      ]
     },
     "execution_count": 117,
     "metadata": {},
     "output_type": "execute_result"
    }
   ],
   "source": [
    "power3(2.0)"
   ]
  },
  {
   "cell_type": "code",
   "execution_count": 118,
   "id": "cdf5ac19-9208-4a52-85c9-d0ee5bfdf116",
   "metadata": {},
   "outputs": [],
   "source": [
    "udfExampleDF = spark.range(5).toDF(\"num\")"
   ]
  },
  {
   "cell_type": "markdown",
   "id": "e106af97-bf4d-4155-ba28-563966c16075",
   "metadata": {},
   "source": [
    "## Registring the function"
   ]
  },
  {
   "cell_type": "code",
   "execution_count": 119,
   "id": "b943f655-97dc-4897-a7e6-5a63055146a9",
   "metadata": {},
   "outputs": [],
   "source": [
    "power3udf = F.udf(power3)"
   ]
  },
  {
   "cell_type": "code",
   "execution_count": 120,
   "id": "b79dc57e-6eda-48e7-8ffe-101a83dfad3f",
   "metadata": {},
   "outputs": [
    {
     "name": "stderr",
     "output_type": "stream",
     "text": [
      "                                                                                \r"
     ]
    },
    {
     "name": "stdout",
     "output_type": "stream",
     "text": [
      "+-----------+\n",
      "|power3(num)|\n",
      "+-----------+\n",
      "|          0|\n",
      "|          1|\n",
      "+-----------+\n",
      "only showing top 2 rows\n",
      "\n"
     ]
    }
   ],
   "source": [
    "udfExampleDF.select(power3udf(F.col(\"num\"))).show(2)"
   ]
  },
  {
   "cell_type": "markdown",
   "id": "d30a089d-8054-45cb-b61f-c942e59841ad",
   "metadata": {},
   "source": [
    "## In SQL"
   ]
  },
  {
   "cell_type": "code",
   "execution_count": 121,
   "id": "f681b75f-9603-4510-af50-a9043ca7474d",
   "metadata": {},
   "outputs": [],
   "source": [
    "udfExampleDF.createOrReplaceTempView('udfExampleDF')"
   ]
  },
  {
   "cell_type": "code",
   "execution_count": 122,
   "id": "e0d1d236-18ab-4ea6-ac5c-3ac8b63f3d52",
   "metadata": {},
   "outputs": [
    {
     "data": {
      "text/plain": [
       "<function __main__.power3(double_value)>"
      ]
     },
     "execution_count": 122,
     "metadata": {},
     "output_type": "execute_result"
    }
   ],
   "source": [
    "spark.udf.register(\"power3udf\", power3udf)"
   ]
  },
  {
   "cell_type": "code",
   "execution_count": 123,
   "id": "9753388c-f2fd-4b19-b8fb-7792e8668059",
   "metadata": {},
   "outputs": [
    {
     "data": {
      "text/plain": [
       "<function __main__.<lambda>(x)>"
      ]
     },
     "execution_count": 123,
     "metadata": {},
     "output_type": "execute_result"
    }
   ],
   "source": [
    "# you had better to write the functions in Scala/Java\n",
    "spark.udf.register(\"lambda_power3udf\", lambda x: x**3)"
   ]
  },
  {
   "cell_type": "code",
   "execution_count": 124,
   "id": "24fa09f0-cd2c-4a5a-a057-0317670f53e2",
   "metadata": {},
   "outputs": [
    {
     "name": "stdout",
     "output_type": "stream",
     "text": [
      "+--------------+\n",
      "|power3udf(num)|\n",
      "+--------------+\n",
      "|             0|\n",
      "|             1|\n",
      "|             8|\n",
      "|            27|\n",
      "|            64|\n",
      "+--------------+\n",
      "\n"
     ]
    }
   ],
   "source": [
    "spark.sql(\"SELECT power3udf(num) FROM udfExampleDF\").show()"
   ]
  },
  {
   "cell_type": "code",
   "execution_count": 125,
   "id": "8754ad0d-e589-4ee0-bfcb-9eb7367de11e",
   "metadata": {},
   "outputs": [
    {
     "name": "stdout",
     "output_type": "stream",
     "text": [
      "+---------------------+\n",
      "|lambda_power3udf(num)|\n",
      "+---------------------+\n",
      "|                    0|\n",
      "|                    1|\n",
      "|                    8|\n",
      "|                   27|\n",
      "|                   64|\n",
      "+---------------------+\n",
      "\n"
     ]
    }
   ],
   "source": [
    "spark.sql(\"SELECT lambda_power3udf(num) FROM udfExampleDF\").show()"
   ]
  },
  {
   "cell_type": "markdown",
   "id": "c1ebd267-9e8b-4a5c-b608-881194c0c96c",
   "metadata": {},
   "source": [
    "## Registring the function with a prescribed output"
   ]
  },
  {
   "cell_type": "code",
   "execution_count": 126,
   "id": "b166e6d3-a6cc-4e5d-8946-e4d6c2098c07",
   "metadata": {},
   "outputs": [
    {
     "data": {
      "text/plain": [
       "<function __main__.power3(double_value)>"
      ]
     },
     "execution_count": 126,
     "metadata": {},
     "output_type": "execute_result"
    }
   ],
   "source": [
    "spark.udf.register(\"power3py\", power3,LongType())"
   ]
  },
  {
   "cell_type": "code",
   "execution_count": 127,
   "id": "b8591024-e9d9-4754-87e3-a019faf8bad3",
   "metadata": {},
   "outputs": [
    {
     "name": "stdout",
     "output_type": "stream",
     "text": [
      "+-------------+\n",
      "|power3py(num)|\n",
      "+-------------+\n",
      "|            0|\n",
      "|            1|\n",
      "|            8|\n",
      "|           27|\n",
      "|           64|\n",
      "+-------------+\n",
      "\n"
     ]
    }
   ],
   "source": [
    "spark.sql(\"SELECT power3py(num) FROM udfExampleDF\").show()"
   ]
  },
  {
   "cell_type": "markdown",
   "id": "89234fae-097c-477c-b643-1858ea4bddb8",
   "metadata": {},
   "source": [
    "# Creating UDF via Hive"
   ]
  },
  {
   "cell_type": "code",
   "execution_count": 128,
   "id": "2ad82124-f5d7-4bbf-877d-8391ca77d7a0",
   "metadata": {},
   "outputs": [
    {
     "name": "stderr",
     "output_type": "stream",
     "text": [
      "23/11/26 19:22:32 WARN SparkSession: Using an existing Spark session; only runtime SQL configurations will take effect.\n"
     ]
    }
   ],
   "source": [
    "spark = SparkSession.builder \\\n",
    "    .appName(\"basic_app\") \\\n",
    "    .enableHiveSupport()\\\n",
    "    .getOrCreate()"
   ]
  },
  {
   "cell_type": "markdown",
   "id": "3073b28d-f9b3-4964-9377-ea5e0a0c0309",
   "metadata": {},
   "source": [
    "## Saving a function for further use (needs to be written in Scala or Java)"
   ]
  },
  {
   "cell_type": "code",
   "execution_count": null,
   "id": "df5abe56-df38-418f-88ff-bbdaa240bda3",
   "metadata": {},
   "outputs": [],
   "source": [
    "spark.sql(\"CREATE TEMPORARY FUNCTION myFunc AS 'com.organization.hive.udf.FunctionName'\")"
   ]
  },
  {
   "cell_type": "code",
   "execution_count": null,
   "id": "19040056-96a1-4c39-8979-15630292e617",
   "metadata": {},
   "outputs": [],
   "source": []
  }
 ],
 "metadata": {
  "kernelspec": {
   "display_name": "Python 3 (ipykernel)",
   "language": "python",
   "name": "python3"
  },
  "language_info": {
   "codemirror_mode": {
    "name": "ipython",
    "version": 3
   },
   "file_extension": ".py",
   "mimetype": "text/x-python",
   "name": "python",
   "nbconvert_exporter": "python",
   "pygments_lexer": "ipython3",
   "version": "3.11.6"
  }
 },
 "nbformat": 4,
 "nbformat_minor": 5
}
