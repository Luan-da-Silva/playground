{
 "cells": [
  {
   "cell_type": "code",
   "execution_count": 1,
   "id": "c19fae6c-ddde-4d98-af2e-4407bf5aa5d0",
   "metadata": {},
   "outputs": [],
   "source": [
    "from pyspark.sql import SparkSession\n",
    "import pyspark.sql.functions as F\n",
    "from pyspark.sql.types import StructField, StructType, StringType, LongType\n",
    "from pyspark.sql import Row"
   ]
  },
  {
   "cell_type": "markdown",
   "id": "dadc8211-ee45-4290-aaae-b4f477054103",
   "metadata": {},
   "source": [
    "# Pyspark Types: [link](https://spark.apache.org/docs/latest/sql-ref-datatypes.html)"
   ]
  },
  {
   "cell_type": "markdown",
   "id": "d5f58b08-85d3-46f5-8184-7de186bdb36b",
   "metadata": {},
   "source": [
    "# Importing Data"
   ]
  },
  {
   "cell_type": "code",
   "execution_count": 2,
   "id": "b4933c50-ecd2-4e7a-858c-d16fab995512",
   "metadata": {},
   "outputs": [
    {
     "name": "stderr",
     "output_type": "stream",
     "text": [
      "23/11/16 17:18:18 WARN Utils: Your hostname, luan-Dell-G15-5520 resolves to a loopback address: 127.0.1.1; using 192.168.1.12 instead (on interface wlp0s20f3)\n",
      "23/11/16 17:18:18 WARN Utils: Set SPARK_LOCAL_IP if you need to bind to another address\n",
      "Setting default log level to \"WARN\".\n",
      "To adjust logging level use sc.setLogLevel(newLevel). For SparkR, use setLogLevel(newLevel).\n",
      "23/11/16 17:18:19 WARN NativeCodeLoader: Unable to load native-hadoop library for your platform... using builtin-java classes where applicable\n"
     ]
    }
   ],
   "source": [
    "spark = SparkSession.builder \\\n",
    "    .appName(\"basic_app\") \\\n",
    "    .getOrCreate()"
   ]
  },
  {
   "cell_type": "code",
   "execution_count": 3,
   "id": "bfb14edc-c44d-4c6e-b49b-d2c7f7db7e6b",
   "metadata": {},
   "outputs": [],
   "source": [
    "df = spark.read.format(\"json\").load(\"../../../spark_data_examples/flight-data/json/2015-summary.json\")"
   ]
  },
  {
   "cell_type": "markdown",
   "id": "227cfe11-19cf-4a09-92b1-098936a4dd3c",
   "metadata": {},
   "source": [
    "# Checking column types"
   ]
  },
  {
   "cell_type": "code",
   "execution_count": 4,
   "id": "9cf73cc9-bacc-4881-a3e0-9ba87f415b02",
   "metadata": {},
   "outputs": [
    {
     "name": "stdout",
     "output_type": "stream",
     "text": [
      "root\n",
      " |-- DEST_COUNTRY_NAME: string (nullable = true)\n",
      " |-- ORIGIN_COUNTRY_NAME: string (nullable = true)\n",
      " |-- count: long (nullable = true)\n",
      "\n"
     ]
    }
   ],
   "source": [
    "df.printSchema()"
   ]
  },
  {
   "cell_type": "markdown",
   "id": "d1761564-c19d-477e-ab76-0689f23a703e",
   "metadata": {},
   "source": [
    "# Getting the schema"
   ]
  },
  {
   "cell_type": "code",
   "execution_count": 5,
   "id": "a725eb45-5d5a-437f-b8b8-835d41de8e37",
   "metadata": {},
   "outputs": [
    {
     "data": {
      "text/plain": [
       "StructType([StructField('DEST_COUNTRY_NAME', StringType(), True), StructField('ORIGIN_COUNTRY_NAME', StringType(), True), StructField('count', LongType(), True)])"
      ]
     },
     "execution_count": 5,
     "metadata": {},
     "output_type": "execute_result"
    }
   ],
   "source": [
    "df.schema"
   ]
  },
  {
   "cell_type": "markdown",
   "id": "c434a0ed-20c7-43aa-a5bf-b1bd47cdcfd1",
   "metadata": {},
   "source": [
    "# Setting a custom schema to the data"
   ]
  },
  {
   "cell_type": "code",
   "execution_count": 6,
   "id": "133bb5bb-ef40-492f-9a42-6b2224888bc1",
   "metadata": {},
   "outputs": [],
   "source": [
    "myManualSchema = StructType([\n",
    "StructField(\"DEST_COUNTRY_NAME\", StringType(), True),\n",
    "StructField(\"ORIGIN_COUNTRY_NAME\", StringType(), True),\n",
    "StructField(\"count\", LongType(), False, metadata={\"hello\":\"world\"})\n",
    "])\n",
    "df = spark.read.format(\"json\").schema(myManualSchema)\\\n",
    ".load(\"../../../spark_data_examples/flight-data/json/2015-summary.json\")"
   ]
  },
  {
   "cell_type": "markdown",
   "id": "dd4338e6-720c-459c-b7d0-277cc592a837",
   "metadata": {},
   "source": [
    "# Columns and expressions"
   ]
  },
  {
   "cell_type": "markdown",
   "id": "6801ed6b-13dc-4d3a-a650-6c9b79501630",
   "metadata": {},
   "source": [
    "## The column"
   ]
  },
  {
   "cell_type": "code",
   "execution_count": 7,
   "id": "112da79d-9109-49f7-ac06-885576ceedab",
   "metadata": {},
   "outputs": [
    {
     "data": {
      "text/plain": [
       "Column<'my_col'>"
      ]
     },
     "execution_count": 7,
     "metadata": {},
     "output_type": "execute_result"
    }
   ],
   "source": [
    "F.col('my_col')"
   ]
  },
  {
   "cell_type": "code",
   "execution_count": 8,
   "id": "d8914bb1-065b-4f1c-be71-5a7fe9d21efc",
   "metadata": {},
   "outputs": [
    {
     "data": {
      "text/plain": [
       "Column<'my_col'>"
      ]
     },
     "execution_count": 8,
     "metadata": {},
     "output_type": "execute_result"
    }
   ],
   "source": [
    "F.column('my_col')"
   ]
  },
  {
   "cell_type": "markdown",
   "id": "379745a6-9475-4abb-878a-f932951151b3",
   "metadata": {},
   "source": [
    "### Referencing to DataFrame columns"
   ]
  },
  {
   "cell_type": "code",
   "execution_count": 9,
   "id": "79a791a8-8558-4467-9cb1-1590f1e1d052",
   "metadata": {},
   "outputs": [
    {
     "data": {
      "text/plain": [
       "Column<'count'>"
      ]
     },
     "execution_count": 9,
     "metadata": {},
     "output_type": "execute_result"
    }
   ],
   "source": [
    "df['count']"
   ]
  },
  {
   "cell_type": "markdown",
   "id": "c4d9d9e0-2b9d-4034-90ab-b4ad481a077f",
   "metadata": {},
   "source": [
    "## Columns as Expressions"
   ]
  },
  {
   "cell_type": "markdown",
   "id": "25c5adf0-52eb-49f0-bb18-25f65ccd85ac",
   "metadata": {},
   "source": [
    "### Using pyspark col function"
   ]
  },
  {
   "cell_type": "code",
   "execution_count": 10,
   "id": "ddc0a210-99cc-4593-a28b-33066e88c5bc",
   "metadata": {},
   "outputs": [
    {
     "data": {
      "text/plain": [
       "Column<'((((someCol + 5) * 200) - 6) < otherCol)'>"
      ]
     },
     "execution_count": 10,
     "metadata": {},
     "output_type": "execute_result"
    }
   ],
   "source": [
    "(((F.col(\"someCol\") + 5) * 200) - 6) < F.col(\"otherCol\")"
   ]
  },
  {
   "cell_type": "markdown",
   "id": "96717213-71eb-43ab-bc10-2337665223ae",
   "metadata": {},
   "source": [
    "### Using F.expr"
   ]
  },
  {
   "cell_type": "code",
   "execution_count": 11,
   "id": "6033e254-e5c1-4e47-8d9a-e728f986c7e7",
   "metadata": {},
   "outputs": [
    {
     "data": {
      "text/plain": [
       "Column<'((((someCol + 5) * 200) - 6) < otherCol)'>"
      ]
     },
     "execution_count": 11,
     "metadata": {},
     "output_type": "execute_result"
    }
   ],
   "source": [
    "F.expr(\"(((someCol + 5) * 200) - 6) < otherCol\")"
   ]
  },
  {
   "cell_type": "markdown",
   "id": "50bb03cd-3f35-4aae-9658-bdec61b193ae",
   "metadata": {},
   "source": [
    "# Creating rows"
   ]
  },
  {
   "cell_type": "code",
   "execution_count": 12,
   "id": "c7ff3b4c-9b8d-4eab-b930-b6a4e1eaf8c0",
   "metadata": {},
   "outputs": [],
   "source": [
    "myRow = Row(\"Hello\", None, 1, False)"
   ]
  },
  {
   "cell_type": "markdown",
   "id": "ac06078a-bca4-4dfe-9a9f-7ba16965498f",
   "metadata": {},
   "source": [
    "### indexing"
   ]
  },
  {
   "cell_type": "code",
   "execution_count": 13,
   "id": "67ec9369-9476-428f-98c5-86860b1d585d",
   "metadata": {},
   "outputs": [
    {
     "data": {
      "text/plain": [
       "('Hello', None, 1, False)"
      ]
     },
     "execution_count": 13,
     "metadata": {},
     "output_type": "execute_result"
    }
   ],
   "source": [
    "myRow[0],myRow[1],myRow[2], myRow[3]"
   ]
  },
  {
   "cell_type": "markdown",
   "id": "d4c662bd-9753-4f2c-86de-5f9a7d96ff33",
   "metadata": {},
   "source": [
    "### Row is iterable"
   ]
  },
  {
   "cell_type": "code",
   "execution_count": 14,
   "id": "c03a82e2-6ff3-4ead-b656-21bd16ffae5d",
   "metadata": {},
   "outputs": [
    {
     "name": "stdout",
     "output_type": "stream",
     "text": [
      "Hello\n",
      "None\n",
      "1\n",
      "False\n"
     ]
    }
   ],
   "source": [
    "for item in myRow:\n",
    "    print(item)"
   ]
  },
  {
   "cell_type": "markdown",
   "id": "f84a740b-0cd2-41db-878f-5e27cb22805f",
   "metadata": {},
   "source": [
    "## Dataframe Transformations"
   ]
  },
  {
   "cell_type": "markdown",
   "id": "0e9194df-1326-42b4-9e5b-21830a8b0268",
   "metadata": {},
   "source": [
    "<li>We can add rows or columns.</li>\n",
    "<li>We can remove rows or columns.</li>\n",
    "<li>We can transform a row into a column (or vice versa).</li>\n",
    "<li>We can change the order of rows based on the values in columns.</li>"
   ]
  },
  {
   "cell_type": "markdown",
   "id": "65436d18-ab19-49c2-9abe-6b09360cc223",
   "metadata": {},
   "source": [
    "# Creating DataFrames"
   ]
  },
  {
   "cell_type": "markdown",
   "id": "ce44d337-39d4-42fa-a0c5-f614b3741743",
   "metadata": {},
   "source": [
    "## By loading a file"
   ]
  },
  {
   "cell_type": "code",
   "execution_count": 15,
   "id": "8cc59a3f-780d-435c-b477-ab0e752cb053",
   "metadata": {},
   "outputs": [],
   "source": [
    "df = spark.read.format(\"json\").schema(myManualSchema)\\\n",
    ".load(\"../../../spark_data_examples/flight-data/json/2015-summary.json\")\n",
    "# Saving as a SQL file:\n",
    "df.createOrReplaceTempView(\"dfTable\")"
   ]
  },
  {
   "cell_type": "markdown",
   "id": "c54461d7-06b7-4b57-b47d-190efe7d858b",
   "metadata": {},
   "source": [
    "## By using createDataFrame "
   ]
  },
  {
   "cell_type": "markdown",
   "id": "2997aeb2-1fba-42ae-8e7d-5e54396a4633",
   "metadata": {},
   "source": [
    "## Building the schema: [StructType](https://spark.apache.org/docs/3.1.1/api/python/reference/api/pyspark.sql.types.StructField.html) + [StructField](https://spark.apache.org/docs/3.1.3/api/python/reference/api/pyspark.sql.types.StructType.html)"
   ]
  },
  {
   "cell_type": "code",
   "execution_count": 16,
   "id": "be7580df-f5e3-4984-92bc-de2068be2a27",
   "metadata": {},
   "outputs": [],
   "source": [
    "myManualSchema = StructType([\n",
    "StructField(\"some\", StringType(), True),\n",
    "StructField(\"col\", StringType(), True),\n",
    "StructField(\"names\", LongType(), False)\n",
    "])"
   ]
  },
  {
   "cell_type": "code",
   "execution_count": 17,
   "id": "ada23ce0-21da-4fcc-b8b0-2262c938973c",
   "metadata": {},
   "outputs": [
    {
     "name": "stdout",
     "output_type": "stream",
     "text": [
      "+-----+----+-----+\n",
      "| some| col|names|\n",
      "+-----+----+-----+\n",
      "|Hello|null|    1|\n",
      "+-----+----+-----+\n",
      "\n"
     ]
    }
   ],
   "source": [
    "myRow = Row(\"Hello\", None, 1)\n",
    "myDf = spark.createDataFrame([myRow], myManualSchema)\n",
    "myDf.show()"
   ]
  },
  {
   "cell_type": "markdown",
   "id": "ae50b459-99c6-4087-b3c9-5ada0a579ff3",
   "metadata": {},
   "source": [
    "# select and selectExpr"
   ]
  },
  {
   "cell_type": "code",
   "execution_count": 18,
   "id": "50f8152d-d179-49dc-b84b-c8f7d992a5c6",
   "metadata": {},
   "outputs": [
    {
     "name": "stdout",
     "output_type": "stream",
     "text": [
      "+-----------------+\n",
      "|DEST_COUNTRY_NAME|\n",
      "+-----------------+\n",
      "|    United States|\n",
      "|    United States|\n",
      "+-----------------+\n",
      "only showing top 2 rows\n",
      "\n"
     ]
    }
   ],
   "source": [
    "df.select(\"DEST_COUNTRY_NAME\").show(2)"
   ]
  },
  {
   "cell_type": "markdown",
   "id": "a8b75ef0-e08b-46ce-a5d1-4ff2f8ad5770",
   "metadata": {},
   "source": [
    "## Selecting the same thing using different flavors"
   ]
  },
  {
   "cell_type": "code",
   "execution_count": 19,
   "id": "2428f0f8-3d64-44c3-adfc-b0861dea270a",
   "metadata": {},
   "outputs": [
    {
     "name": "stdout",
     "output_type": "stream",
     "text": [
      "+-------------+-------------+-------------+\n",
      "|   using_expr|    using_col| using_column|\n",
      "+-------------+-------------+-------------+\n",
      "|United States|United States|United States|\n",
      "|United States|United States|United States|\n",
      "+-------------+-------------+-------------+\n",
      "only showing top 2 rows\n",
      "\n"
     ]
    }
   ],
   "source": [
    "df.select(*[\n",
    "    F.expr(\"DEST_COUNTRY_NAME\").alias('using_expr'),\n",
    "    F.col(\"DEST_COUNTRY_NAME\").alias('using_col'),\n",
    "    F.column(\"DEST_COUNTRY_NAME\").alias('using_column')\n",
    "    ]).show(2)"
   ]
  },
  {
   "cell_type": "markdown",
   "id": "c95fbd4b-8722-4604-b206-2f62e951628a",
   "metadata": {},
   "source": [
    "## Other flavors"
   ]
  },
  {
   "cell_type": "code",
   "execution_count": 20,
   "id": "97307102-9bb2-4505-b298-584f5eccb3bb",
   "metadata": {
    "scrolled": true
   },
   "outputs": [
    {
     "name": "stdout",
     "output_type": "stream",
     "text": [
      "+-------------+\n",
      "|  destination|\n",
      "+-------------+\n",
      "|United States|\n",
      "|United States|\n",
      "+-------------+\n",
      "only showing top 2 rows\n",
      "\n"
     ]
    }
   ],
   "source": [
    "df.select(F.expr(\"DEST_COUNTRY_NAME AS destination\")).show(2)"
   ]
  },
  {
   "cell_type": "code",
   "execution_count": 21,
   "id": "083dc514-ce89-4518-9a44-dbd5c55ebd40",
   "metadata": {},
   "outputs": [
    {
     "name": "stdout",
     "output_type": "stream",
     "text": [
      "+-----------------+\n",
      "|DEST_COUNTRY_NAME|\n",
      "+-----------------+\n",
      "|    United States|\n",
      "|    United States|\n",
      "+-----------------+\n",
      "only showing top 2 rows\n",
      "\n"
     ]
    }
   ],
   "source": [
    "df.select(F.expr(\"DEST_COUNTRY_NAME as destination\").alias(\"DEST_COUNTRY_NAME\"))\\\n",
    ".show(2)"
   ]
  },
  {
   "cell_type": "markdown",
   "id": "34247c2f-d5ad-4f64-87b7-6fcbfee6ca9c",
   "metadata": {},
   "source": [
    "## Creating new columns with selectExpr"
   ]
  },
  {
   "cell_type": "code",
   "execution_count": 22,
   "id": "00da0cfa-073d-4293-9549-4ba1b6466440",
   "metadata": {},
   "outputs": [
    {
     "name": "stdout",
     "output_type": "stream",
     "text": [
      "+-----------------+-------------------+-----+-------------+\n",
      "|DEST_COUNTRY_NAME|ORIGIN_COUNTRY_NAME|count|withinCountry|\n",
      "+-----------------+-------------------+-----+-------------+\n",
      "|    United States|            Romania|   15|        false|\n",
      "|    United States|            Croatia|    1|        false|\n",
      "+-----------------+-------------------+-----+-------------+\n",
      "only showing top 2 rows\n",
      "\n"
     ]
    }
   ],
   "source": [
    "df.selectExpr(\n",
    "\"*\", # all original columns\n",
    "\"(DEST_COUNTRY_NAME = ORIGIN_COUNTRY_NAME) as withinCountry\")\\\n",
    ".show(2)"
   ]
  },
  {
   "cell_type": "markdown",
   "id": "b6035499-0498-4816-83cc-bf2e177eddbb",
   "metadata": {},
   "source": [
    "## Using selectExpr to get aggregates"
   ]
  },
  {
   "cell_type": "code",
   "execution_count": 23,
   "id": "78fa80ba-4ee0-494c-899a-50381090d099",
   "metadata": {},
   "outputs": [
    {
     "name": "stdout",
     "output_type": "stream",
     "text": [
      "+-----------+---------------------------------+\n",
      "| avg(count)|count(DISTINCT DEST_COUNTRY_NAME)|\n",
      "+-----------+---------------------------------+\n",
      "|1770.765625|                              132|\n",
      "+-----------+---------------------------------+\n",
      "\n"
     ]
    }
   ],
   "source": [
    "df.selectExpr(\"avg(count)\", \"count(distinct(DEST_COUNTRY_NAME))\").show(2)"
   ]
  },
  {
   "cell_type": "markdown",
   "id": "1b516abd-bfb3-4f00-a2f3-33f091d30923",
   "metadata": {},
   "source": [
    "## SQL Fashion"
   ]
  },
  {
   "cell_type": "code",
   "execution_count": 24,
   "id": "0b20fcb5-e6f7-4bbd-af9a-f329b88870f4",
   "metadata": {},
   "outputs": [
    {
     "name": "stdout",
     "output_type": "stream",
     "text": [
      "+-----------+---------------------------------+\n",
      "| avg(count)|count(DISTINCT DEST_COUNTRY_NAME)|\n",
      "+-----------+---------------------------------+\n",
      "|1770.765625|                              132|\n",
      "+-----------+---------------------------------+\n",
      "\n"
     ]
    }
   ],
   "source": [
    "spark.sql(\"SELECT avg(count), count(distinct(DEST_COUNTRY_NAME)) FROM dfTable LIMIT 2\").show()"
   ]
  },
  {
   "cell_type": "markdown",
   "id": "1290bf9b-85dd-4fdc-82ee-f1415b39b00c",
   "metadata": {},
   "source": [
    "# Literals"
   ]
  },
  {
   "cell_type": "code",
   "execution_count": 25,
   "id": "d1e69b48-653e-41ec-ad48-9ec91593bcb2",
   "metadata": {},
   "outputs": [
    {
     "name": "stdout",
     "output_type": "stream",
     "text": [
      "+-----------------+-------------------+-----+---+\n",
      "|DEST_COUNTRY_NAME|ORIGIN_COUNTRY_NAME|count|One|\n",
      "+-----------------+-------------------+-----+---+\n",
      "|    United States|            Romania|   15|  1|\n",
      "|    United States|            Croatia|    1|  1|\n",
      "+-----------------+-------------------+-----+---+\n",
      "only showing top 2 rows\n",
      "\n"
     ]
    }
   ],
   "source": [
    "df.select(F.expr(\"*\"), F.lit(1).alias(\"One\")).show(2)"
   ]
  },
  {
   "cell_type": "markdown",
   "id": "a573d159-99e4-4f06-86de-f70dee1770bb",
   "metadata": {},
   "source": [
    "# Adding a new column"
   ]
  },
  {
   "cell_type": "code",
   "execution_count": 26,
   "id": "2f9fa5ae-b578-481c-8490-8447da68e6a0",
   "metadata": {},
   "outputs": [
    {
     "name": "stdout",
     "output_type": "stream",
     "text": [
      "+-----------------+-------------------+-----+---------+\n",
      "|DEST_COUNTRY_NAME|ORIGIN_COUNTRY_NAME|count|numberOne|\n",
      "+-----------------+-------------------+-----+---------+\n",
      "|    United States|            Romania|   15|        1|\n",
      "|    United States|            Croatia|    1|        1|\n",
      "+-----------------+-------------------+-----+---------+\n",
      "only showing top 2 rows\n",
      "\n"
     ]
    }
   ],
   "source": [
    "df.withColumn(\"numberOne\", F.lit(1)).show(2)"
   ]
  },
  {
   "cell_type": "code",
   "execution_count": 27,
   "id": "7dd90fc7-db7e-4778-9e72-e93fef407e36",
   "metadata": {},
   "outputs": [
    {
     "name": "stdout",
     "output_type": "stream",
     "text": [
      "+-----------------+-------------------+-----+-------------+\n",
      "|DEST_COUNTRY_NAME|ORIGIN_COUNTRY_NAME|count|withinCountry|\n",
      "+-----------------+-------------------+-----+-------------+\n",
      "|    United States|            Romania|   15|        false|\n",
      "|    United States|            Croatia|    1|        false|\n",
      "+-----------------+-------------------+-----+-------------+\n",
      "only showing top 2 rows\n",
      "\n"
     ]
    }
   ],
   "source": [
    "df.withColumn(\"withinCountry\", F.expr(\"ORIGIN_COUNTRY_NAME == DEST_COUNTRY_NAME\"))\\\n",
    ".show(2)"
   ]
  },
  {
   "cell_type": "markdown",
   "id": "7c34af93-48fe-4263-bb3f-49dd7397df9d",
   "metadata": {},
   "source": [
    "# Renaming columns"
   ]
  },
  {
   "cell_type": "code",
   "execution_count": 28,
   "id": "a0a0bbff-cbc4-4ebc-bcc1-754ad8d6cd4b",
   "metadata": {},
   "outputs": [
    {
     "data": {
      "text/plain": [
       "['dest', 'ORIGIN_COUNTRY_NAME', 'count']"
      ]
     },
     "execution_count": 28,
     "metadata": {},
     "output_type": "execute_result"
    }
   ],
   "source": [
    "df.withColumnRenamed(\"DEST_COUNTRY_NAME\", \"dest\").columns"
   ]
  },
  {
   "cell_type": "markdown",
   "id": "6e2fbfc4-ed6f-49fe-84da-8418923e4a85",
   "metadata": {},
   "source": [
    "# Reserved Characters and Keywords"
   ]
  },
  {
   "cell_type": "markdown",
   "id": "ed9c50cc-a17c-4593-9db9-39ceb4faa359",
   "metadata": {},
   "source": [
    "## Dealing with anti-pattern names"
   ]
  },
  {
   "cell_type": "code",
   "execution_count": 29,
   "id": "48f4ba7b-1e97-4d2e-9b99-e6962306a7ab",
   "metadata": {},
   "outputs": [],
   "source": [
    "dfWithLongColName = df.withColumn(\n",
    "\"This Long Column-Name\",\n",
    "F.expr(\"ORIGIN_COUNTRY_NAME\"))"
   ]
  },
  {
   "cell_type": "code",
   "execution_count": 30,
   "id": "65226692-ebe7-4771-ab72-0dca09b2189f",
   "metadata": {},
   "outputs": [
    {
     "name": "stdout",
     "output_type": "stream",
     "text": [
      "+---------------------+-------+\n",
      "|This Long Column-Name|new col|\n",
      "+---------------------+-------+\n",
      "|              Romania|Romania|\n",
      "|              Croatia|Croatia|\n",
      "+---------------------+-------+\n",
      "only showing top 2 rows\n",
      "\n"
     ]
    }
   ],
   "source": [
    "dfWithLongColName.selectExpr(\n",
    "\"`This Long Column-Name`\",\n",
    "\"`This Long Column-Name` as `new col`\")\\\n",
    ".show(2)"
   ]
  },
  {
   "cell_type": "code",
   "execution_count": 31,
   "id": "d94d4b1e-8c95-48e1-b3f1-b9648425d167",
   "metadata": {},
   "outputs": [],
   "source": [
    "dfWithLongColName.createOrReplaceTempView(\"dfTableLong\")"
   ]
  },
  {
   "cell_type": "code",
   "execution_count": 32,
   "id": "b6addba2-08a3-472a-859d-b3e231a8088e",
   "metadata": {},
   "outputs": [
    {
     "name": "stdout",
     "output_type": "stream",
     "text": [
      "+---------------------+-------+\n",
      "|This Long Column-Name|new col|\n",
      "+---------------------+-------+\n",
      "|              Romania|Romania|\n",
      "|              Croatia|Croatia|\n",
      "+---------------------+-------+\n",
      "\n"
     ]
    }
   ],
   "source": [
    "spark.sql(\"SELECT `This Long Column-Name`, `This Long Column-Name` as `new col`FROM dfTableLong LIMIT 2\").show()"
   ]
  },
  {
   "cell_type": "markdown",
   "id": "8f59139b-548b-4960-9724-2db5a4f3426d",
   "metadata": {},
   "source": [
    "# Calling the problematic column "
   ]
  },
  {
   "cell_type": "code",
   "execution_count": 33,
   "id": "690728ed-0629-4a42-8c2d-fd1469190b12",
   "metadata": {},
   "outputs": [
    {
     "data": {
      "text/plain": [
       "['This Long Column-Name']"
      ]
     },
     "execution_count": 33,
     "metadata": {},
     "output_type": "execute_result"
    }
   ],
   "source": [
    "dfWithLongColName.select(F.expr(\"`This Long Column-Name`\")).columns"
   ]
  },
  {
   "cell_type": "markdown",
   "id": "116ff677-445e-4d45-a3d7-8af933d8d944",
   "metadata": {},
   "source": [
    "# Enforcing case sensitivity"
   ]
  },
  {
   "cell_type": "code",
   "execution_count": 35,
   "id": "f3b70be6-1810-46ea-9f44-816fb56e7cc7",
   "metadata": {},
   "outputs": [
    {
     "data": {
      "text/plain": [
       "DataFrame[key: string, value: string]"
      ]
     },
     "execution_count": 35,
     "metadata": {},
     "output_type": "execute_result"
    }
   ],
   "source": [
    "spark.sql('SET spark.sql.caseSensitive=true')"
   ]
  },
  {
   "cell_type": "markdown",
   "id": "acfcf3c4-bda0-405f-8c6a-a934d1233347",
   "metadata": {},
   "source": [
    "## Checking it out"
   ]
  },
  {
   "cell_type": "code",
   "execution_count": 36,
   "id": "674c88d0-893e-4371-84b7-c804d595458c",
   "metadata": {},
   "outputs": [
    {
     "ename": "AnalysisException",
     "evalue": "[UNRESOLVED_COLUMN.WITH_SUGGESTION] A column or function parameter with name `this long column-name` cannot be resolved. Did you mean one of the following? [`This Long Column-Name`, `count`, `DEST_COUNTRY_NAME`, `ORIGIN_COUNTRY_NAME`].; line 1 pos 0;\n'Project ['this long column-name]\n+- Project [DEST_COUNTRY_NAME#20, ORIGIN_COUNTRY_NAME#21, count#22L, ORIGIN_COUNTRY_NAME#21 AS This Long Column-Name#274]\n   +- Relation [DEST_COUNTRY_NAME#20,ORIGIN_COUNTRY_NAME#21,count#22L] json\n",
     "output_type": "error",
     "traceback": [
      "\u001b[0;31m---------------------------------------------------------------------------\u001b[0m",
      "\u001b[0;31mAnalysisException\u001b[0m                         Traceback (most recent call last)",
      "Cell \u001b[0;32mIn[36], line 1\u001b[0m\n\u001b[0;32m----> 1\u001b[0m \u001b[43mdfWithLongColName\u001b[49m\u001b[38;5;241;43m.\u001b[39;49m\u001b[43mselect\u001b[49m\u001b[43m(\u001b[49m\u001b[43mF\u001b[49m\u001b[38;5;241;43m.\u001b[39;49m\u001b[43mexpr\u001b[49m\u001b[43m(\u001b[49m\u001b[38;5;124;43m\"\u001b[39;49m\u001b[38;5;124;43m`this long column-name`\u001b[39;49m\u001b[38;5;124;43m\"\u001b[39;49m\u001b[43m)\u001b[49m\u001b[43m)\u001b[49m\u001b[38;5;241m.\u001b[39mcolumns\n",
      "File \u001b[0;32m/usr/local/spark/python/pyspark/sql/dataframe.py:3036\u001b[0m, in \u001b[0;36mDataFrame.select\u001b[0;34m(self, *cols)\u001b[0m\n\u001b[1;32m   2991\u001b[0m \u001b[38;5;28;01mdef\u001b[39;00m \u001b[38;5;21mselect\u001b[39m(\u001b[38;5;28mself\u001b[39m, \u001b[38;5;241m*\u001b[39mcols: \u001b[38;5;124m\"\u001b[39m\u001b[38;5;124mColumnOrName\u001b[39m\u001b[38;5;124m\"\u001b[39m) \u001b[38;5;241m-\u001b[39m\u001b[38;5;241m>\u001b[39m \u001b[38;5;124m\"\u001b[39m\u001b[38;5;124mDataFrame\u001b[39m\u001b[38;5;124m\"\u001b[39m:  \u001b[38;5;66;03m# type: ignore[misc]\u001b[39;00m\n\u001b[1;32m   2992\u001b[0m \u001b[38;5;250m    \u001b[39m\u001b[38;5;124;03m\"\"\"Projects a set of expressions and returns a new :class:`DataFrame`.\u001b[39;00m\n\u001b[1;32m   2993\u001b[0m \n\u001b[1;32m   2994\u001b[0m \u001b[38;5;124;03m    .. versionadded:: 1.3.0\u001b[39;00m\n\u001b[0;32m   (...)\u001b[0m\n\u001b[1;32m   3034\u001b[0m \u001b[38;5;124;03m    +-----+---+\u001b[39;00m\n\u001b[1;32m   3035\u001b[0m \u001b[38;5;124;03m    \"\"\"\u001b[39;00m\n\u001b[0;32m-> 3036\u001b[0m     jdf \u001b[38;5;241m=\u001b[39m \u001b[38;5;28;43mself\u001b[39;49m\u001b[38;5;241;43m.\u001b[39;49m\u001b[43m_jdf\u001b[49m\u001b[38;5;241;43m.\u001b[39;49m\u001b[43mselect\u001b[49m\u001b[43m(\u001b[49m\u001b[38;5;28;43mself\u001b[39;49m\u001b[38;5;241;43m.\u001b[39;49m\u001b[43m_jcols\u001b[49m\u001b[43m(\u001b[49m\u001b[38;5;241;43m*\u001b[39;49m\u001b[43mcols\u001b[49m\u001b[43m)\u001b[49m\u001b[43m)\u001b[49m\n\u001b[1;32m   3037\u001b[0m     \u001b[38;5;28;01mreturn\u001b[39;00m DataFrame(jdf, \u001b[38;5;28mself\u001b[39m\u001b[38;5;241m.\u001b[39msparkSession)\n",
      "File \u001b[0;32m/usr/local/spark/python/lib/py4j-0.10.9.7-src.zip/py4j/java_gateway.py:1322\u001b[0m, in \u001b[0;36mJavaMember.__call__\u001b[0;34m(self, *args)\u001b[0m\n\u001b[1;32m   1316\u001b[0m command \u001b[38;5;241m=\u001b[39m proto\u001b[38;5;241m.\u001b[39mCALL_COMMAND_NAME \u001b[38;5;241m+\u001b[39m\\\n\u001b[1;32m   1317\u001b[0m     \u001b[38;5;28mself\u001b[39m\u001b[38;5;241m.\u001b[39mcommand_header \u001b[38;5;241m+\u001b[39m\\\n\u001b[1;32m   1318\u001b[0m     args_command \u001b[38;5;241m+\u001b[39m\\\n\u001b[1;32m   1319\u001b[0m     proto\u001b[38;5;241m.\u001b[39mEND_COMMAND_PART\n\u001b[1;32m   1321\u001b[0m answer \u001b[38;5;241m=\u001b[39m \u001b[38;5;28mself\u001b[39m\u001b[38;5;241m.\u001b[39mgateway_client\u001b[38;5;241m.\u001b[39msend_command(command)\n\u001b[0;32m-> 1322\u001b[0m return_value \u001b[38;5;241m=\u001b[39m \u001b[43mget_return_value\u001b[49m\u001b[43m(\u001b[49m\n\u001b[1;32m   1323\u001b[0m \u001b[43m    \u001b[49m\u001b[43manswer\u001b[49m\u001b[43m,\u001b[49m\u001b[43m \u001b[49m\u001b[38;5;28;43mself\u001b[39;49m\u001b[38;5;241;43m.\u001b[39;49m\u001b[43mgateway_client\u001b[49m\u001b[43m,\u001b[49m\u001b[43m \u001b[49m\u001b[38;5;28;43mself\u001b[39;49m\u001b[38;5;241;43m.\u001b[39;49m\u001b[43mtarget_id\u001b[49m\u001b[43m,\u001b[49m\u001b[43m \u001b[49m\u001b[38;5;28;43mself\u001b[39;49m\u001b[38;5;241;43m.\u001b[39;49m\u001b[43mname\u001b[49m\u001b[43m)\u001b[49m\n\u001b[1;32m   1325\u001b[0m \u001b[38;5;28;01mfor\u001b[39;00m temp_arg \u001b[38;5;129;01min\u001b[39;00m temp_args:\n\u001b[1;32m   1326\u001b[0m     \u001b[38;5;28;01mif\u001b[39;00m \u001b[38;5;28mhasattr\u001b[39m(temp_arg, \u001b[38;5;124m\"\u001b[39m\u001b[38;5;124m_detach\u001b[39m\u001b[38;5;124m\"\u001b[39m):\n",
      "File \u001b[0;32m/usr/local/spark/python/pyspark/errors/exceptions/captured.py:175\u001b[0m, in \u001b[0;36mcapture_sql_exception.<locals>.deco\u001b[0;34m(*a, **kw)\u001b[0m\n\u001b[1;32m    171\u001b[0m converted \u001b[38;5;241m=\u001b[39m convert_exception(e\u001b[38;5;241m.\u001b[39mjava_exception)\n\u001b[1;32m    172\u001b[0m \u001b[38;5;28;01mif\u001b[39;00m \u001b[38;5;129;01mnot\u001b[39;00m \u001b[38;5;28misinstance\u001b[39m(converted, UnknownException):\n\u001b[1;32m    173\u001b[0m     \u001b[38;5;66;03m# Hide where the exception came from that shows a non-Pythonic\u001b[39;00m\n\u001b[1;32m    174\u001b[0m     \u001b[38;5;66;03m# JVM exception message.\u001b[39;00m\n\u001b[0;32m--> 175\u001b[0m     \u001b[38;5;28;01mraise\u001b[39;00m converted \u001b[38;5;28;01mfrom\u001b[39;00m \u001b[38;5;28;01mNone\u001b[39;00m\n\u001b[1;32m    176\u001b[0m \u001b[38;5;28;01melse\u001b[39;00m:\n\u001b[1;32m    177\u001b[0m     \u001b[38;5;28;01mraise\u001b[39;00m\n",
      "\u001b[0;31mAnalysisException\u001b[0m: [UNRESOLVED_COLUMN.WITH_SUGGESTION] A column or function parameter with name `this long column-name` cannot be resolved. Did you mean one of the following? [`This Long Column-Name`, `count`, `DEST_COUNTRY_NAME`, `ORIGIN_COUNTRY_NAME`].; line 1 pos 0;\n'Project ['this long column-name]\n+- Project [DEST_COUNTRY_NAME#20, ORIGIN_COUNTRY_NAME#21, count#22L, ORIGIN_COUNTRY_NAME#21 AS This Long Column-Name#274]\n   +- Relation [DEST_COUNTRY_NAME#20,ORIGIN_COUNTRY_NAME#21,count#22L] json\n"
     ]
    }
   ],
   "source": [
    "dfWithLongColName.select(F.expr(\"`this long column-name`\")).columns"
   ]
  },
  {
   "cell_type": "markdown",
   "id": "acc6bfa8-cfaa-4c06-8c81-fe6aaf48b712",
   "metadata": {},
   "source": [
    "## Testing again"
   ]
  },
  {
   "cell_type": "code",
   "execution_count": 37,
   "id": "ed31eb60-9b5c-497a-b751-555f4a040edd",
   "metadata": {},
   "outputs": [
    {
     "data": {
      "text/plain": [
       "['This Long Column-Name']"
      ]
     },
     "execution_count": 37,
     "metadata": {},
     "output_type": "execute_result"
    }
   ],
   "source": [
    "dfWithLongColName.select(F.expr(\"`This Long Column-Name`\")).columns"
   ]
  },
  {
   "cell_type": "markdown",
   "id": "7294aff8-16e3-4834-91f5-0c473d843239",
   "metadata": {},
   "source": [
    "## Turning it off"
   ]
  },
  {
   "cell_type": "code",
   "execution_count": 38,
   "id": "924b0d42-31c4-4f8e-a9d9-ed3a198fe520",
   "metadata": {},
   "outputs": [
    {
     "data": {
      "text/plain": [
       "DataFrame[key: string, value: string]"
      ]
     },
     "execution_count": 38,
     "metadata": {},
     "output_type": "execute_result"
    }
   ],
   "source": [
    "spark.sql('SET spark.sql.caseSensitive=false')"
   ]
  },
  {
   "cell_type": "markdown",
   "id": "0c274c41-495d-4256-8311-63638f4964d8",
   "metadata": {},
   "source": [
    "## Testing if the error repeats"
   ]
  },
  {
   "cell_type": "code",
   "execution_count": 39,
   "id": "9dbaf5f1-c1af-4c4f-836b-cad9c6f52309",
   "metadata": {},
   "outputs": [
    {
     "data": {
      "text/plain": [
       "['this long column-name']"
      ]
     },
     "execution_count": 39,
     "metadata": {},
     "output_type": "execute_result"
    }
   ],
   "source": [
    "dfWithLongColName.select(F.expr(\"`this long column-name`\")).columns"
   ]
  },
  {
   "cell_type": "code",
   "execution_count": 40,
   "id": "7614d8a9-b7c6-4cb1-a40e-55ed95d5978a",
   "metadata": {},
   "outputs": [
    {
     "data": {
      "text/plain": [
       "['DEST_COUNTRY_NAME', 'ORIGIN_COUNTRY_NAME', 'count', 'This Long Column-Name']"
      ]
     },
     "execution_count": 40,
     "metadata": {},
     "output_type": "execute_result"
    }
   ],
   "source": [
    "dfWithLongColName.columns"
   ]
  },
  {
   "cell_type": "markdown",
   "id": "ad45f376-f4e3-4715-a1c5-b5cf21396fa4",
   "metadata": {},
   "source": [
    "# Removing columns"
   ]
  },
  {
   "cell_type": "code",
   "execution_count": 41,
   "id": "46326f76-3a74-41c2-839d-a701d3c8152b",
   "metadata": {},
   "outputs": [
    {
     "data": {
      "text/plain": [
       "DataFrame[count: bigint, This Long Column-Name: string]"
      ]
     },
     "execution_count": 41,
     "metadata": {},
     "output_type": "execute_result"
    }
   ],
   "source": [
    "dfWithLongColName.drop(\"ORIGIN_COUNTRY_NAME\", \"DEST_COUNTRY_NAME\")"
   ]
  },
  {
   "cell_type": "markdown",
   "id": "2a405493-569d-4f94-86d3-9c658ba2b86a",
   "metadata": {},
   "source": [
    "# Casting types"
   ]
  },
  {
   "cell_type": "code",
   "execution_count": 42,
   "id": "01c37769-6654-43f2-ad3a-66a326063063",
   "metadata": {},
   "outputs": [
    {
     "data": {
      "text/plain": [
       "DataFrame[DEST_COUNTRY_NAME: string, ORIGIN_COUNTRY_NAME: string, count: bigint, count2: bigint]"
      ]
     },
     "execution_count": 42,
     "metadata": {},
     "output_type": "execute_result"
    }
   ],
   "source": [
    "df.withColumn(\"count2\", F.col(\"count\").cast(\"long\"))"
   ]
  },
  {
   "cell_type": "code",
   "execution_count": 43,
   "id": "175cbbd4-a07c-4640-869c-4c7fd81078bb",
   "metadata": {},
   "outputs": [
    {
     "data": {
      "text/plain": [
       "DataFrame[DEST_COUNTRY_NAME: string, ORIGIN_COUNTRY_NAME: string, count: bigint, count2: bigint]"
      ]
     },
     "execution_count": 43,
     "metadata": {},
     "output_type": "execute_result"
    }
   ],
   "source": [
    "spark.sql(\"SELECT *, cast(count as long) AS count2 FROM dfTable\")"
   ]
  },
  {
   "cell_type": "markdown",
   "id": "9aecb90b-82da-4091-93d7-3068e5702794",
   "metadata": {},
   "source": [
    "# Filtering Rows"
   ]
  },
  {
   "cell_type": "code",
   "execution_count": 44,
   "id": "09bc5858-10af-456f-ad6d-634732a46ded",
   "metadata": {},
   "outputs": [
    {
     "name": "stdout",
     "output_type": "stream",
     "text": [
      "+-----------------+-------------------+-----+\n",
      "|DEST_COUNTRY_NAME|ORIGIN_COUNTRY_NAME|count|\n",
      "+-----------------+-------------------+-----+\n",
      "|    United States|            Croatia|    1|\n",
      "|    United States|          Singapore|    1|\n",
      "+-----------------+-------------------+-----+\n",
      "only showing top 2 rows\n",
      "\n"
     ]
    }
   ],
   "source": [
    "df.filter(F.col(\"count\") < 2).show(2)"
   ]
  },
  {
   "cell_type": "markdown",
   "id": "640a9926-06ee-4b6e-89fd-660340d45189",
   "metadata": {},
   "source": [
    "## Where is an alias for filter"
   ]
  },
  {
   "cell_type": "code",
   "execution_count": 45,
   "id": "356588ad-07da-4711-b115-c7b57d9ec0b8",
   "metadata": {},
   "outputs": [
    {
     "name": "stdout",
     "output_type": "stream",
     "text": [
      "+-----------------+-------------------+-----+\n",
      "|DEST_COUNTRY_NAME|ORIGIN_COUNTRY_NAME|count|\n",
      "+-----------------+-------------------+-----+\n",
      "|    United States|            Croatia|    1|\n",
      "|    United States|          Singapore|    1|\n",
      "+-----------------+-------------------+-----+\n",
      "only showing top 2 rows\n",
      "\n"
     ]
    }
   ],
   "source": [
    "df.where(\"count < 2\").show(2)"
   ]
  },
  {
   "cell_type": "code",
   "execution_count": 47,
   "id": "1650945e-b267-4271-b5a5-50840b06951b",
   "metadata": {},
   "outputs": [
    {
     "name": "stdout",
     "output_type": "stream",
     "text": [
      "+-----------------+-------------------+-----+\n",
      "|DEST_COUNTRY_NAME|ORIGIN_COUNTRY_NAME|count|\n",
      "+-----------------+-------------------+-----+\n",
      "|    United States|            Croatia|    1|\n",
      "|    United States|          Singapore|    1|\n",
      "+-----------------+-------------------+-----+\n",
      "\n"
     ]
    }
   ],
   "source": [
    "spark.sql('SELECT * FROM dfTable WHERE count < 2 LIMIT 2').show()"
   ]
  },
  {
   "cell_type": "markdown",
   "id": "0af3a4ef-a621-45a6-be9f-b1a078c7972d",
   "metadata": {},
   "source": [
    "## Getting Unique Rows"
   ]
  },
  {
   "cell_type": "code",
   "execution_count": 48,
   "id": "bae547d4-81aa-4ee4-b8f9-9a0b5ef32ded",
   "metadata": {},
   "outputs": [
    {
     "data": {
      "text/plain": [
       "256"
      ]
     },
     "execution_count": 48,
     "metadata": {},
     "output_type": "execute_result"
    }
   ],
   "source": [
    "df.select(\"ORIGIN_COUNTRY_NAME\", \"DEST_COUNTRY_NAME\").distinct().count()"
   ]
  },
  {
   "cell_type": "code",
   "execution_count": 50,
   "id": "168d098f-bbc7-4feb-acf7-15f4056f6e15",
   "metadata": {},
   "outputs": [
    {
     "name": "stdout",
     "output_type": "stream",
     "text": [
      "+------------------------------------------------------------------------------------------------------------+\n",
      "|count(DISTINCT named_struct(ORIGIN_COUNTRY_NAME, ORIGIN_COUNTRY_NAME, DEST_COUNTRY_NAME, DEST_COUNTRY_NAME))|\n",
      "+------------------------------------------------------------------------------------------------------------+\n",
      "|                                                                                                         256|\n",
      "+------------------------------------------------------------------------------------------------------------+\n",
      "\n"
     ]
    }
   ],
   "source": [
    "spark.sql('SELECT COUNT(DISTINCT(ORIGIN_COUNTRY_NAME, DEST_COUNTRY_NAME)) FROM dfTable').show()"
   ]
  },
  {
   "cell_type": "code",
   "execution_count": 51,
   "id": "fdd2c027-4eb4-4188-8d63-fcb7b2f152a5",
   "metadata": {},
   "outputs": [
    {
     "data": {
      "text/plain": [
       "125"
      ]
     },
     "execution_count": 51,
     "metadata": {},
     "output_type": "execute_result"
    }
   ],
   "source": [
    "df.select(\"ORIGIN_COUNTRY_NAME\").distinct().count()"
   ]
  },
  {
   "cell_type": "code",
   "execution_count": 52,
   "id": "312043e2-b379-405e-b593-ba5734441bc8",
   "metadata": {},
   "outputs": [
    {
     "data": {
      "text/plain": [
       "DataFrame[count(DISTINCT ORIGIN_COUNTRY_NAME): bigint]"
      ]
     },
     "execution_count": 52,
     "metadata": {},
     "output_type": "execute_result"
    }
   ],
   "source": [
    "spark.sql('SELECT COUNT(DISTINCT ORIGIN_COUNTRY_NAME) FROM dfTable')"
   ]
  },
  {
   "cell_type": "markdown",
   "id": "5d994aba-b78a-4945-bbd6-305ca0a7c9ca",
   "metadata": {},
   "source": [
    "# Random Samples"
   ]
  },
  {
   "cell_type": "code",
   "execution_count": 63,
   "id": "9ec3ca84-3f78-474e-9b8e-b6ed46d118cc",
   "metadata": {},
   "outputs": [
    {
     "data": {
      "text/plain": [
       "138"
      ]
     },
     "execution_count": 63,
     "metadata": {},
     "output_type": "execute_result"
    }
   ],
   "source": [
    "sampling_dict = {'seed': 5,\n",
    "                 'withReplacement': False,\n",
    "                 'fraction': 0.5}\n",
    "df.sample(**sampling_dict).count()"
   ]
  },
  {
   "cell_type": "markdown",
   "id": "8eec0119-030b-4332-a5be-95a53746d1f3",
   "metadata": {},
   "source": [
    "# Random Splits"
   ]
  },
  {
   "cell_type": "code",
   "execution_count": 65,
   "id": "697946f3-403c-427b-b237-654519cf4fa1",
   "metadata": {},
   "outputs": [],
   "source": [
    "dataFrames = df.randomSplit([0.25, 0.75], seed=5)"
   ]
  },
  {
   "cell_type": "code",
   "execution_count": 69,
   "id": "44e00c69-8207-4945-a00f-08b3e8dfbb31",
   "metadata": {},
   "outputs": [
    {
     "data": {
      "text/plain": [
       "False"
      ]
     },
     "execution_count": 69,
     "metadata": {},
     "output_type": "execute_result"
    }
   ],
   "source": [
    "dataFrames[0].count() > dataFrames[1].count()"
   ]
  },
  {
   "cell_type": "markdown",
   "id": "a91c18f6-0ec7-4beb-80e9-ac97e45389ff",
   "metadata": {},
   "source": [
    "# Concatenating and Appending Rows (Union)"
   ]
  },
  {
   "cell_type": "markdown",
   "id": "10afbed5-2674-46f4-bf1a-c6cd0f7b2d85",
   "metadata": {},
   "source": [
    "## Creating mock data"
   ]
  },
  {
   "cell_type": "code",
   "execution_count": 71,
   "id": "fb9bbcc4-e93e-428e-a64a-6ed4491c189f",
   "metadata": {},
   "outputs": [],
   "source": [
    "schema = df.schema\n",
    "newRows = [\n",
    "Row(\"New Country\", \"Other Country\", 5),\n",
    "Row(\"New Country 2\", \"Other Country 3\", 1)\n",
    "]"
   ]
  },
  {
   "cell_type": "code",
   "execution_count": 72,
   "id": "15379f47-3a1e-46a9-9814-77ebb7ffcb67",
   "metadata": {},
   "outputs": [],
   "source": [
    "parallelizedRows = spark.sparkContext.parallelize(newRows)\n",
    "newDF = spark.createDataFrame(parallelizedRows, schema)"
   ]
  },
  {
   "cell_type": "code",
   "execution_count": 74,
   "id": "3ff8d1a8-29a3-40a8-a4bb-43cf440d70ee",
   "metadata": {},
   "outputs": [
    {
     "name": "stdout",
     "output_type": "stream",
     "text": [
      "+-----------------+-------------------+-----+\n",
      "|DEST_COUNTRY_NAME|ORIGIN_COUNTRY_NAME|count|\n",
      "+-----------------+-------------------+-----+\n",
      "|    United States|            Croatia|    1|\n",
      "|    United States|          Singapore|    1|\n",
      "|    United States|          Gibraltar|    1|\n",
      "|    United States|             Cyprus|    1|\n",
      "|    United States|            Estonia|    1|\n",
      "|    United States|          Lithuania|    1|\n",
      "|    United States|           Bulgaria|    1|\n",
      "|    United States|            Georgia|    1|\n",
      "|    United States|            Bahrain|    1|\n",
      "|    United States|   Papua New Guinea|    1|\n",
      "|    United States|         Montenegro|    1|\n",
      "|    United States|            Namibia|    1|\n",
      "|    New Country 2|    Other Country 3|    1|\n",
      "+-----------------+-------------------+-----+\n",
      "\n"
     ]
    }
   ],
   "source": [
    "df.union(newDF)\\\n",
    ".where(\"count = 1\")\\\n",
    ".where(F.col(\"ORIGIN_COUNTRY_NAME\") != \"United States\")\\\n",
    ".show()"
   ]
  },
  {
   "cell_type": "markdown",
   "id": "f447905c-3b79-486c-a643-e6b0930de0cd",
   "metadata": {},
   "source": [
    "# Sorting Rows"
   ]
  },
  {
   "cell_type": "code",
   "execution_count": 75,
   "id": "aabd58fb-3a22-425f-b11c-cc8a1897d627",
   "metadata": {},
   "outputs": [
    {
     "name": "stdout",
     "output_type": "stream",
     "text": [
      "+--------------------+-------------------+-----+\n",
      "|   DEST_COUNTRY_NAME|ORIGIN_COUNTRY_NAME|count|\n",
      "+--------------------+-------------------+-----+\n",
      "|               Malta|      United States|    1|\n",
      "|Saint Vincent and...|      United States|    1|\n",
      "|       United States|            Croatia|    1|\n",
      "|       United States|          Gibraltar|    1|\n",
      "|       United States|          Singapore|    1|\n",
      "+--------------------+-------------------+-----+\n",
      "only showing top 5 rows\n",
      "\n"
     ]
    }
   ],
   "source": [
    "df.sort(\"count\").show(5)"
   ]
  },
  {
   "cell_type": "code",
   "execution_count": 76,
   "id": "00c0f146-fb57-480d-8e9e-d093f95dd128",
   "metadata": {},
   "outputs": [
    {
     "name": "stdout",
     "output_type": "stream",
     "text": [
      "+-----------------+-------------------+-----+\n",
      "|DEST_COUNTRY_NAME|ORIGIN_COUNTRY_NAME|count|\n",
      "+-----------------+-------------------+-----+\n",
      "|     Burkina Faso|      United States|    1|\n",
      "|    Cote d'Ivoire|      United States|    1|\n",
      "|           Cyprus|      United States|    1|\n",
      "|         Djibouti|      United States|    1|\n",
      "|        Indonesia|      United States|    1|\n",
      "+-----------------+-------------------+-----+\n",
      "only showing top 5 rows\n",
      "\n"
     ]
    }
   ],
   "source": [
    "df.orderBy(\"count\", \"DEST_COUNTRY_NAME\").show(5)"
   ]
  },
  {
   "cell_type": "code",
   "execution_count": 77,
   "id": "0eae763c-8b1f-4ff2-b3d9-908470635abc",
   "metadata": {},
   "outputs": [
    {
     "name": "stdout",
     "output_type": "stream",
     "text": [
      "+-----------------+-------------------+-----+\n",
      "|DEST_COUNTRY_NAME|ORIGIN_COUNTRY_NAME|count|\n",
      "+-----------------+-------------------+-----+\n",
      "|     Burkina Faso|      United States|    1|\n",
      "|    Cote d'Ivoire|      United States|    1|\n",
      "|           Cyprus|      United States|    1|\n",
      "|         Djibouti|      United States|    1|\n",
      "|        Indonesia|      United States|    1|\n",
      "+-----------------+-------------------+-----+\n",
      "only showing top 5 rows\n",
      "\n"
     ]
    }
   ],
   "source": [
    "df.orderBy(F.col(\"count\"), F.col(\"DEST_COUNTRY_NAME\")).show(5)"
   ]
  },
  {
   "cell_type": "code",
   "execution_count": 78,
   "id": "22376c25-9945-47b4-b26a-2924d5695dac",
   "metadata": {},
   "outputs": [
    {
     "name": "stdout",
     "output_type": "stream",
     "text": [
      "+-----------------+-------------------+-----+\n",
      "|DEST_COUNTRY_NAME|ORIGIN_COUNTRY_NAME|count|\n",
      "+-----------------+-------------------+-----+\n",
      "|          Moldova|      United States|    1|\n",
      "|    United States|            Croatia|    1|\n",
      "+-----------------+-------------------+-----+\n",
      "only showing top 2 rows\n",
      "\n"
     ]
    }
   ],
   "source": [
    "df.orderBy(F.expr(\"count desc\")).show(2)"
   ]
  },
  {
   "cell_type": "code",
   "execution_count": 79,
   "id": "ff7e4b74-c1a5-4e36-b9e7-55053ad1eac2",
   "metadata": {},
   "outputs": [
    {
     "name": "stdout",
     "output_type": "stream",
     "text": [
      "+-----------------+-------------------+------+\n",
      "|DEST_COUNTRY_NAME|ORIGIN_COUNTRY_NAME| count|\n",
      "+-----------------+-------------------+------+\n",
      "|    United States|      United States|370002|\n",
      "|    United States|             Canada|  8483|\n",
      "+-----------------+-------------------+------+\n",
      "only showing top 2 rows\n",
      "\n"
     ]
    }
   ],
   "source": [
    "df.orderBy(F.col(\"count\").desc(), F.col(\"DEST_COUNTRY_NAME\").asc()).show(2)"
   ]
  },
  {
   "cell_type": "code",
   "execution_count": 81,
   "id": "9d219a37-8d61-4c98-8499-c9e8d616d3f6",
   "metadata": {},
   "outputs": [
    {
     "name": "stdout",
     "output_type": "stream",
     "text": [
      "+-----------------+-------------------+------+\n",
      "|DEST_COUNTRY_NAME|ORIGIN_COUNTRY_NAME| count|\n",
      "+-----------------+-------------------+------+\n",
      "|    United States|      United States|370002|\n",
      "|    United States|             Canada|  8483|\n",
      "+-----------------+-------------------+------+\n",
      "only showing top 2 rows\n",
      "\n"
     ]
    }
   ],
   "source": [
    "df.orderBy('count','DEST_COUNTRY_NAME',ascending = [False,True]).show(2)"
   ]
  },
  {
   "cell_type": "code",
   "execution_count": 82,
   "id": "ddd883fb-3ee9-4f64-9cab-95ead2471c8f",
   "metadata": {},
   "outputs": [
    {
     "name": "stdout",
     "output_type": "stream",
     "text": [
      "+-----------------+-------------------+------+\n",
      "|DEST_COUNTRY_NAME|ORIGIN_COUNTRY_NAME| count|\n",
      "+-----------------+-------------------+------+\n",
      "|    United States|      United States|370002|\n",
      "|    United States|             Canada|  8483|\n",
      "+-----------------+-------------------+------+\n",
      "\n"
     ]
    }
   ],
   "source": [
    "spark.sql(\"SELECT * FROM dfTable ORDER BY count DESC, DEST_COUNTRY_NAME ASC LIMIT 2\").show(2)"
   ]
  },
  {
   "cell_type": "markdown",
   "id": "7ae46a5d-f40f-44ab-9378-2df40df33299",
   "metadata": {},
   "source": [
    "## Optimization tips"
   ]
  },
  {
   "cell_type": "code",
   "execution_count": 84,
   "id": "8f3fccb1-e557-4fe3-8c0a-139f05b11b0b",
   "metadata": {},
   "outputs": [
    {
     "data": {
      "text/plain": [
       "DataFrame[DEST_COUNTRY_NAME: string, ORIGIN_COUNTRY_NAME: string, count: bigint]"
      ]
     },
     "execution_count": 84,
     "metadata": {},
     "output_type": "execute_result"
    }
   ],
   "source": [
    "spark.read.format(\"json\").load(\"../../../spark_data_examples/flight-data/json/*-summary.json\")\\\n",
    ".sortWithinPartitions(\"count\")"
   ]
  },
  {
   "cell_type": "markdown",
   "id": "b59597a8-524f-4fd5-a6f6-0e6496e42c59",
   "metadata": {},
   "source": [
    "# Limit"
   ]
  },
  {
   "cell_type": "code",
   "execution_count": 87,
   "id": "b73e760b-d3ec-4b20-858a-8f0f0b9cb20d",
   "metadata": {},
   "outputs": [
    {
     "name": "stdout",
     "output_type": "stream",
     "text": [
      "+-----------------+-------------------+-----+\n",
      "|DEST_COUNTRY_NAME|ORIGIN_COUNTRY_NAME|count|\n",
      "+-----------------+-------------------+-----+\n",
      "|    United States|            Romania|   15|\n",
      "|    United States|            Croatia|    1|\n",
      "|    United States|            Ireland|  344|\n",
      "|            Egypt|      United States|   15|\n",
      "|    United States|              India|   62|\n",
      "|    United States|          Singapore|    1|\n",
      "+-----------------+-------------------+-----+\n",
      "\n"
     ]
    }
   ],
   "source": [
    "spark.sql(\"SELECT * FROM dfTable LIMIT 6\").show()"
   ]
  },
  {
   "cell_type": "code",
   "execution_count": 85,
   "id": "b89bb0d4-d88c-42a9-9812-bdc0fe582ce7",
   "metadata": {},
   "outputs": [
    {
     "name": "stdout",
     "output_type": "stream",
     "text": [
      "+-----------------+-------------------+-----+\n",
      "|DEST_COUNTRY_NAME|ORIGIN_COUNTRY_NAME|count|\n",
      "+-----------------+-------------------+-----+\n",
      "|    United States|            Romania|   15|\n",
      "|    United States|            Croatia|    1|\n",
      "|    United States|            Ireland|  344|\n",
      "|            Egypt|      United States|   15|\n",
      "|    United States|              India|   62|\n",
      "+-----------------+-------------------+-----+\n",
      "\n"
     ]
    }
   ],
   "source": [
    "df.limit(5).show()"
   ]
  },
  {
   "cell_type": "code",
   "execution_count": 98,
   "id": "c932c06f-f05c-4d07-ba82-a94bab780efc",
   "metadata": {},
   "outputs": [
    {
     "name": "stdout",
     "output_type": "stream",
     "text": [
      "+--------------------+-------------------+-----+\n",
      "|   DEST_COUNTRY_NAME|ORIGIN_COUNTRY_NAME|count|\n",
      "+--------------------+-------------------+-----+\n",
      "|               Malta|      United States|    1|\n",
      "|Saint Vincent and...|      United States|    1|\n",
      "|       United States|            Croatia|    1|\n",
      "|       United States|          Gibraltar|    1|\n",
      "|       United States|          Singapore|    1|\n",
      "|             Moldova|      United States|    1|\n",
      "+--------------------+-------------------+-----+\n",
      "\n"
     ]
    }
   ],
   "source": [
    "# Bad code. By default ascending is True, cancelling the DESC\n",
    "df.orderBy(F.expr(\"count DESC\")).limit(6).show()"
   ]
  },
  {
   "cell_type": "code",
   "execution_count": 99,
   "id": "6c326de5-0dce-49c5-ba91-6a0481a67e91",
   "metadata": {},
   "outputs": [
    {
     "name": "stdout",
     "output_type": "stream",
     "text": [
      "+-----------------+-------------------+------+\n",
      "|DEST_COUNTRY_NAME|ORIGIN_COUNTRY_NAME| count|\n",
      "+-----------------+-------------------+------+\n",
      "|    United States|      United States|370002|\n",
      "|    United States|             Canada|  8483|\n",
      "|           Canada|      United States|  8399|\n",
      "|    United States|             Mexico|  7187|\n",
      "|           Mexico|      United States|  7140|\n",
      "|   United Kingdom|      United States|  2025|\n",
      "+-----------------+-------------------+------+\n",
      "\n"
     ]
    }
   ],
   "source": [
    "# Look how bad is this code. It's redundant!\n",
    "df.orderBy(F.expr(\"count DESC\"),ascending = False).limit(6).show()"
   ]
  },
  {
   "cell_type": "code",
   "execution_count": 94,
   "id": "8ab99e9e-6939-406d-b4d9-efac40354c0a",
   "metadata": {},
   "outputs": [
    {
     "name": "stdout",
     "output_type": "stream",
     "text": [
      "+-----------------+-------------------+------+\n",
      "|DEST_COUNTRY_NAME|ORIGIN_COUNTRY_NAME| count|\n",
      "+-----------------+-------------------+------+\n",
      "|    United States|      United States|370002|\n",
      "|    United States|             Canada|  8483|\n",
      "|           Canada|      United States|  8399|\n",
      "|    United States|             Mexico|  7187|\n",
      "|           Mexico|      United States|  7140|\n",
      "|   United Kingdom|      United States|  2025|\n",
      "+-----------------+-------------------+------+\n",
      "\n"
     ]
    }
   ],
   "source": [
    "spark.sql(\"SELECT * FROM dfTable ORDER BY count DESC LIMIT 6\").show()"
   ]
  },
  {
   "cell_type": "markdown",
   "id": "1a155e2c-3605-4a4d-8a95-1799c71799d7",
   "metadata": {},
   "source": [
    "# Repartition and Coalesce"
   ]
  },
  {
   "cell_type": "code",
   "execution_count": 100,
   "id": "fb418add-6dd6-455e-bac4-8deb7cf9a40f",
   "metadata": {},
   "outputs": [
    {
     "data": {
      "text/plain": [
       "1"
      ]
     },
     "execution_count": 100,
     "metadata": {},
     "output_type": "execute_result"
    }
   ],
   "source": [
    "df.rdd.getNumPartitions()"
   ]
  },
  {
   "cell_type": "code",
   "execution_count": 101,
   "id": "a160cd8f-d3fd-46f2-9aba-e8c1e2a0b8b0",
   "metadata": {},
   "outputs": [
    {
     "data": {
      "text/plain": [
       "DataFrame[DEST_COUNTRY_NAME: string, ORIGIN_COUNTRY_NAME: string, count: bigint]"
      ]
     },
     "execution_count": 101,
     "metadata": {},
     "output_type": "execute_result"
    }
   ],
   "source": [
    "df.repartition(5)"
   ]
  },
  {
   "cell_type": "markdown",
   "id": "30407a19-cdec-4ceb-b57c-e14f065106a4",
   "metadata": {},
   "source": [
    "## Repartition specific columns"
   ]
  },
  {
   "cell_type": "code",
   "execution_count": 103,
   "id": "d463085e-2e0e-49e6-8eee-aa89ec3f867a",
   "metadata": {},
   "outputs": [
    {
     "data": {
      "text/plain": [
       "DataFrame[DEST_COUNTRY_NAME: string, ORIGIN_COUNTRY_NAME: string, count: bigint]"
      ]
     },
     "execution_count": 103,
     "metadata": {},
     "output_type": "execute_result"
    }
   ],
   "source": [
    "df.repartition(F.col(\"DEST_COUNTRY_NAME\"))"
   ]
  },
  {
   "cell_type": "code",
   "execution_count": 105,
   "id": "d0e36593-1692-418b-98dc-661f460664eb",
   "metadata": {},
   "outputs": [
    {
     "data": {
      "text/plain": [
       "DataFrame[DEST_COUNTRY_NAME: string, ORIGIN_COUNTRY_NAME: string, count: bigint]"
      ]
     },
     "execution_count": 105,
     "metadata": {},
     "output_type": "execute_result"
    }
   ],
   "source": [
    "df.repartition(5, F.col(\"DEST_COUNTRY_NAME\"))"
   ]
  },
  {
   "cell_type": "markdown",
   "id": "3d749a60-2654-488b-8ce4-75669ec37f6e",
   "metadata": {},
   "source": [
    "## Coalesce"
   ]
  },
  {
   "cell_type": "code",
   "execution_count": 109,
   "id": "a4e1819f-1058-4790-81d5-246b6b7a9e59",
   "metadata": {},
   "outputs": [
    {
     "data": {
      "text/plain": [
       "2"
      ]
     },
     "execution_count": 109,
     "metadata": {},
     "output_type": "execute_result"
    }
   ],
   "source": [
    "# merging 5 partitions into 2\n",
    "df.repartition(5, F.col(\"DEST_COUNTRY_NAME\"))\\\n",
    "  .coalesce(2)\\\n",
    "  .rdd\\\n",
    "  .getNumPartitions()"
   ]
  },
  {
   "cell_type": "markdown",
   "id": "93dca5b3-6a1c-4347-8a9e-eb799d388660",
   "metadata": {},
   "source": [
    "# Collecting Rows to the Driver"
   ]
  },
  {
   "cell_type": "code",
   "execution_count": 111,
   "id": "d3e8590f-0f3d-4fd5-8104-96433a41c7e9",
   "metadata": {},
   "outputs": [
    {
     "name": "stdout",
     "output_type": "stream",
     "text": [
      "+-----------------+-------------------+-----+\n",
      "|DEST_COUNTRY_NAME|ORIGIN_COUNTRY_NAME|count|\n",
      "+-----------------+-------------------+-----+\n",
      "|    United States|            Romania|   15|\n",
      "|    United States|            Croatia|    1|\n",
      "|    United States|            Ireland|  344|\n",
      "|            Egypt|      United States|   15|\n",
      "|    United States|              India|   62|\n",
      "|    United States|          Singapore|    1|\n",
      "|    United States|            Grenada|   62|\n",
      "|       Costa Rica|      United States|  588|\n",
      "|          Senegal|      United States|   40|\n",
      "|          Moldova|      United States|    1|\n",
      "+-----------------+-------------------+-----+\n",
      "\n"
     ]
    }
   ],
   "source": [
    "collectDF = df.limit(10)\n",
    "collectDF.take(5) # take works with an Integer count\n",
    "collectDF.show() # this prints it out nicely"
   ]
  },
  {
   "cell_type": "code",
   "execution_count": 112,
   "id": "cc303e3a-bc79-4026-b911-60c0c1024b9b",
   "metadata": {},
   "outputs": [
    {
     "name": "stdout",
     "output_type": "stream",
     "text": [
      "+-----------------+-------------------+-----+\n",
      "|DEST_COUNTRY_NAME|ORIGIN_COUNTRY_NAME|count|\n",
      "+-----------------+-------------------+-----+\n",
      "|United States    |Romania            |15   |\n",
      "|United States    |Croatia            |1    |\n",
      "|United States    |Ireland            |344  |\n",
      "|Egypt            |United States      |15   |\n",
      "|United States    |India              |62   |\n",
      "+-----------------+-------------------+-----+\n",
      "only showing top 5 rows\n",
      "\n"
     ]
    },
    {
     "data": {
      "text/plain": [
       "[Row(DEST_COUNTRY_NAME='United States', ORIGIN_COUNTRY_NAME='Romania', count=15),\n",
       " Row(DEST_COUNTRY_NAME='United States', ORIGIN_COUNTRY_NAME='Croatia', count=1),\n",
       " Row(DEST_COUNTRY_NAME='United States', ORIGIN_COUNTRY_NAME='Ireland', count=344),\n",
       " Row(DEST_COUNTRY_NAME='Egypt', ORIGIN_COUNTRY_NAME='United States', count=15),\n",
       " Row(DEST_COUNTRY_NAME='United States', ORIGIN_COUNTRY_NAME='India', count=62),\n",
       " Row(DEST_COUNTRY_NAME='United States', ORIGIN_COUNTRY_NAME='Singapore', count=1),\n",
       " Row(DEST_COUNTRY_NAME='United States', ORIGIN_COUNTRY_NAME='Grenada', count=62),\n",
       " Row(DEST_COUNTRY_NAME='Costa Rica', ORIGIN_COUNTRY_NAME='United States', count=588),\n",
       " Row(DEST_COUNTRY_NAME='Senegal', ORIGIN_COUNTRY_NAME='United States', count=40),\n",
       " Row(DEST_COUNTRY_NAME='Moldova', ORIGIN_COUNTRY_NAME='United States', count=1)]"
      ]
     },
     "execution_count": 112,
     "metadata": {},
     "output_type": "execute_result"
    }
   ],
   "source": [
    "collectDF.show(5, False)\n",
    "collectDF.collect()"
   ]
  },
  {
   "cell_type": "markdown",
   "id": "358ac3a6-dded-46b9-a3ce-06c201812031",
   "metadata": {},
   "source": [
    "## Don't use collect in production. Just for small datasets"
   ]
  }
 ],
 "metadata": {
  "kernelspec": {
   "display_name": "Python 3 (ipykernel)",
   "language": "python",
   "name": "python3"
  },
  "language_info": {
   "codemirror_mode": {
    "name": "ipython",
    "version": 3
   },
   "file_extension": ".py",
   "mimetype": "text/x-python",
   "name": "python",
   "nbconvert_exporter": "python",
   "pygments_lexer": "ipython3",
   "version": "3.11.6"
  }
 },
 "nbformat": 4,
 "nbformat_minor": 5
}
