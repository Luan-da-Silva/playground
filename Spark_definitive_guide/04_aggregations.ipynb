{
 "cells": [
  {
   "cell_type": "code",
   "execution_count": 34,
   "id": "ab15f692-28d1-4c4f-b327-ca48f923a5e7",
   "metadata": {},
   "outputs": [],
   "source": [
    "from pyspark.sql import SparkSession\n",
    "import pyspark.sql.functions as F\n",
    "from itertools import product\n",
    "from pyspark.sql.window import Window"
   ]
  },
  {
   "cell_type": "code",
   "execution_count": 35,
   "id": "aa6dd2e1-6bc9-412d-8db0-fc5e03f8f4de",
   "metadata": {},
   "outputs": [],
   "source": [
    "spark = SparkSession.builder \\\n",
    "    .appName(\"basic_app\") \\\n",
    "    .getOrCreate()"
   ]
  },
  {
   "cell_type": "markdown",
   "id": "4710ed79-f9a3-4f91-9f60-7df88eaabbcf",
   "metadata": {},
   "source": [
    "# Loading the Data"
   ]
  },
  {
   "cell_type": "code",
   "execution_count": 36,
   "id": "91b5bb38-bd17-4864-81b6-6a14bf4644f6",
   "metadata": {},
   "outputs": [
    {
     "name": "stderr",
     "output_type": "stream",
     "text": [
      "24/01/01 14:17:25 WARN CacheManager: Asked to cache already cached data.\n"
     ]
    }
   ],
   "source": [
    "df = spark.read.format(\"csv\")\\\n",
    ".option(\"header\", \"true\")\\\n",
    ".option(\"inferSchema\", \"true\")\\\n",
    ".load(\"../../../spark_data_examples/retail-data/all/*.csv\")\\\n",
    ".coalesce(5)\n",
    "df.cache()\n",
    "df.createOrReplaceTempView(\"dfTable\")"
   ]
  },
  {
   "cell_type": "markdown",
   "id": "9e358176-7122-407d-b1e8-f66d7e5bb14c",
   "metadata": {},
   "source": [
    "# Checking the Fields"
   ]
  },
  {
   "cell_type": "code",
   "execution_count": 37,
   "id": "db28bbb6-2b6a-4aa1-a341-f3fdc9abc0fe",
   "metadata": {},
   "outputs": [
    {
     "name": "stdout",
     "output_type": "stream",
     "text": [
      "+---------+---------+--------------------+--------+--------------+---------+----------+--------------+\n",
      "|InvoiceNo|StockCode|         Description|Quantity|   InvoiceDate|UnitPrice|CustomerID|       Country|\n",
      "+---------+---------+--------------------+--------+--------------+---------+----------+--------------+\n",
      "|   536365|   85123A|WHITE HANGING HEA...|       6|12/1/2010 8:26|     2.55|     17850|United Kingdom|\n",
      "|   536365|    71053| WHITE METAL LANTERN|       6|12/1/2010 8:26|     3.39|     17850|United Kingdom|\n",
      "|   536365|   84406B|CREAM CUPID HEART...|       8|12/1/2010 8:26|     2.75|     17850|United Kingdom|\n",
      "|   536365|   84029G|KNITTED UNION FLA...|       6|12/1/2010 8:26|     3.39|     17850|United Kingdom|\n",
      "|   536365|   84029E|RED WOOLLY HOTTIE...|       6|12/1/2010 8:26|     3.39|     17850|United Kingdom|\n",
      "+---------+---------+--------------------+--------+--------------+---------+----------+--------------+\n",
      "only showing top 5 rows\n",
      "\n"
     ]
    }
   ],
   "source": [
    "df.show(5)"
   ]
  },
  {
   "cell_type": "markdown",
   "id": "c8c6cf2d-b5ca-4906-976e-aa7343a92c40",
   "metadata": {},
   "source": [
    "# Your first aggregation: counting"
   ]
  },
  {
   "cell_type": "code",
   "execution_count": 38,
   "id": "d6115e5b-fead-4040-8c82-49077e7bbddb",
   "metadata": {},
   "outputs": [
    {
     "data": {
      "text/plain": [
       "541909"
      ]
     },
     "execution_count": 38,
     "metadata": {},
     "output_type": "execute_result"
    }
   ],
   "source": [
    "df.count()"
   ]
  },
  {
   "cell_type": "markdown",
   "id": "3d2da930-d21f-4f0f-bf0b-b34a5534707c",
   "metadata": {},
   "source": [
    "# Aggregation Functions"
   ]
  },
  {
   "cell_type": "markdown",
   "id": "78dfe0c6-8e95-48b6-80eb-b92624964b3f",
   "metadata": {},
   "source": [
    "## count"
   ]
  },
  {
   "cell_type": "code",
   "execution_count": 39,
   "id": "71f99e59-3447-41ce-8da3-b0c6e1fc0bda",
   "metadata": {},
   "outputs": [
    {
     "name": "stdout",
     "output_type": "stream",
     "text": [
      "+-------+\n",
      "|counter|\n",
      "+-------+\n",
      "| 541909|\n",
      "+-------+\n",
      "\n"
     ]
    }
   ],
   "source": [
    "df.select(F.count(\"StockCode\").alias('counter')).show()"
   ]
  },
  {
   "cell_type": "code",
   "execution_count": 40,
   "id": "a44b89bf-5f4b-4061-a588-b42d918abbb3",
   "metadata": {},
   "outputs": [
    {
     "name": "stdout",
     "output_type": "stream",
     "text": [
      "+-------+\n",
      "|counter|\n",
      "+-------+\n",
      "| 541909|\n",
      "+-------+\n",
      "\n"
     ]
    }
   ],
   "source": [
    "spark.sql(\"SELECT COUNT(*) AS counter FROM dfTable\").show()"
   ]
  },
  {
   "cell_type": "markdown",
   "id": "69fecded-053c-4551-a2f0-9c05a987e3a6",
   "metadata": {},
   "source": [
    "## Warning"
   ]
  },
  {
   "cell_type": "markdown",
   "id": "2139f111-3f2e-4329-a560-ba6e81750b90",
   "metadata": {},
   "source": [
    "There are a number of gotchas when it comes to null values and\n",
    "counting. For instance, when performing a count(*) , Spark will\n",
    "count null values (including rows containing all nulls). However,\n",
    "when counting an individual column, Spark will not count the null\n",
    "values."
   ]
  },
  {
   "cell_type": "markdown",
   "id": "9c1786cf-b1d7-4493-9129-ae8e4a935c58",
   "metadata": {},
   "source": [
    "## countDistinct"
   ]
  },
  {
   "cell_type": "code",
   "execution_count": 41,
   "id": "d6844c2f-3c16-4f07-b3b3-e2faf5dde4b7",
   "metadata": {},
   "outputs": [
    {
     "name": "stdout",
     "output_type": "stream",
     "text": [
      "+-------------------------+\n",
      "|count(DISTINCT StockCode)|\n",
      "+-------------------------+\n",
      "|                     4070|\n",
      "+-------------------------+\n",
      "\n"
     ]
    }
   ],
   "source": [
    "df.select(F.countDistinct(\"StockCode\")).show()"
   ]
  },
  {
   "cell_type": "code",
   "execution_count": 42,
   "id": "a07490d8-6e90-4789-a13c-2300420885aa",
   "metadata": {},
   "outputs": [
    {
     "name": "stdout",
     "output_type": "stream",
     "text": [
      "+-------------------------+\n",
      "|count(DISTINCT StockCode)|\n",
      "+-------------------------+\n",
      "|                     4070|\n",
      "+-------------------------+\n",
      "\n"
     ]
    }
   ],
   "source": [
    "spark.sql(\"SELECT COUNT(DISTINCT StockCode) FROM dfTable\").show()"
   ]
  },
  {
   "cell_type": "markdown",
   "id": "d7101f86-bfd4-4696-a1d2-d214be88f02e",
   "metadata": {},
   "source": [
    "## approx_count_distinct"
   ]
  },
  {
   "cell_type": "code",
   "execution_count": 43,
   "id": "58f5d871-2b8f-4e51-933d-7886e9685f5b",
   "metadata": {},
   "outputs": [
    {
     "name": "stdout",
     "output_type": "stream",
     "text": [
      "+--------------------------------+\n",
      "|approx_count_distinct(StockCode)|\n",
      "+--------------------------------+\n",
      "|                            3364|\n",
      "+--------------------------------+\n",
      "\n"
     ]
    }
   ],
   "source": [
    "df.select(F.approx_count_distinct(\"StockCode\", 0.1)).show()"
   ]
  },
  {
   "cell_type": "code",
   "execution_count": 44,
   "id": "929c7836-e837-417e-b879-7e23b070352d",
   "metadata": {},
   "outputs": [
    {
     "name": "stdout",
     "output_type": "stream",
     "text": [
      "+--------------------------------+\n",
      "|approx_count_distinct(StockCode)|\n",
      "+--------------------------------+\n",
      "|                            3364|\n",
      "+--------------------------------+\n",
      "\n"
     ]
    }
   ],
   "source": [
    "spark.sql(\"SELECT approx_count_distinct(StockCode,0.1) FROM dfTable\").show()"
   ]
  },
  {
   "cell_type": "markdown",
   "id": "e021dd54-47eb-410a-9a46-6ed54aa32360",
   "metadata": {},
   "source": [
    "## First and last"
   ]
  },
  {
   "cell_type": "code",
   "execution_count": 45,
   "id": "5f265a28-4e49-4a7d-a24c-9181c5171d02",
   "metadata": {},
   "outputs": [
    {
     "name": "stdout",
     "output_type": "stream",
     "text": [
      "+----------------+---------------+\n",
      "|first(StockCode)|last(StockCode)|\n",
      "+----------------+---------------+\n",
      "|          85123A|          22138|\n",
      "+----------------+---------------+\n",
      "\n"
     ]
    }
   ],
   "source": [
    "df.select(F.first(\"StockCode\"), F.last(\"StockCode\")).show()"
   ]
  },
  {
   "cell_type": "code",
   "execution_count": 46,
   "id": "3758cde5-fb8c-4c30-b15c-23d7b10de170",
   "metadata": {},
   "outputs": [
    {
     "name": "stdout",
     "output_type": "stream",
     "text": [
      "+----------------+---------------+\n",
      "|first(StockCode)|last(StockCode)|\n",
      "+----------------+---------------+\n",
      "|          85123A|          22138|\n",
      "+----------------+---------------+\n",
      "\n"
     ]
    }
   ],
   "source": [
    "spark.sql(\"SELECT first(StockCode), last(StockCode) FROM dfTable\").show()"
   ]
  },
  {
   "cell_type": "markdown",
   "id": "56806edb-88b5-4eb9-99c2-ba24b53d65a1",
   "metadata": {},
   "source": [
    "## min and max"
   ]
  },
  {
   "cell_type": "code",
   "execution_count": 47,
   "id": "8c9d9206-c367-473b-873e-b53305d36994",
   "metadata": {},
   "outputs": [
    {
     "name": "stdout",
     "output_type": "stream",
     "text": [
      "+-------------+-------------+\n",
      "|min(Quantity)|max(Quantity)|\n",
      "+-------------+-------------+\n",
      "|       -80995|        80995|\n",
      "+-------------+-------------+\n",
      "\n"
     ]
    }
   ],
   "source": [
    "df.select(F.min(\"Quantity\"), F.max(\"Quantity\")).show()"
   ]
  },
  {
   "cell_type": "code",
   "execution_count": 48,
   "id": "788af529-4f2c-4c55-9265-57358a3499e9",
   "metadata": {},
   "outputs": [
    {
     "name": "stdout",
     "output_type": "stream",
     "text": [
      "+-------------+-------------+\n",
      "|min(Quantity)|max(Quantity)|\n",
      "+-------------+-------------+\n",
      "|       -80995|        80995|\n",
      "+-------------+-------------+\n",
      "\n"
     ]
    }
   ],
   "source": [
    "spark.sql(\"SELECT min(Quantity), max(Quantity) FROM dfTable\").show()"
   ]
  },
  {
   "cell_type": "markdown",
   "id": "0e3426b6-0454-4f86-98b3-ce1fa3ba24b3",
   "metadata": {},
   "source": [
    "## sum"
   ]
  },
  {
   "cell_type": "code",
   "execution_count": 49,
   "id": "36e81439-4d68-4d08-a6b5-b6156bbbaf02",
   "metadata": {},
   "outputs": [
    {
     "name": "stdout",
     "output_type": "stream",
     "text": [
      "+-------------+\n",
      "|sum(Quantity)|\n",
      "+-------------+\n",
      "|      5176450|\n",
      "+-------------+\n",
      "\n"
     ]
    }
   ],
   "source": [
    "df.select(F.sum(\"Quantity\")).show()"
   ]
  },
  {
   "cell_type": "code",
   "execution_count": 50,
   "id": "1c19073b-2a51-4b04-a743-e4c0ada5f947",
   "metadata": {},
   "outputs": [
    {
     "name": "stdout",
     "output_type": "stream",
     "text": [
      "+-------------+\n",
      "|sum(Quantity)|\n",
      "+-------------+\n",
      "|      5176450|\n",
      "+-------------+\n",
      "\n"
     ]
    }
   ],
   "source": [
    "spark.sql(\"SELECT sum(Quantity) FROM dfTable\").show()"
   ]
  },
  {
   "cell_type": "markdown",
   "id": "c52fbb33-4a69-40d0-84ac-d3e12310d57b",
   "metadata": {},
   "source": [
    "### sumDistinct"
   ]
  },
  {
   "cell_type": "code",
   "execution_count": 51,
   "id": "cee2fda7-2f98-45f4-938f-86de94806e01",
   "metadata": {},
   "outputs": [
    {
     "name": "stdout",
     "output_type": "stream",
     "text": [
      "+----------------------+\n",
      "|sum(DISTINCT Quantity)|\n",
      "+----------------------+\n",
      "|                 29310|\n",
      "+----------------------+\n",
      "\n"
     ]
    }
   ],
   "source": [
    "df.select(F.sumDistinct(\"Quantity\")).show()"
   ]
  },
  {
   "cell_type": "code",
   "execution_count": 52,
   "id": "41a00fbf-93ef-44c2-aa5a-675385f866df",
   "metadata": {},
   "outputs": [
    {
     "name": "stdout",
     "output_type": "stream",
     "text": [
      "+----------------------+\n",
      "|sum(DISTINCT Quantity)|\n",
      "+----------------------+\n",
      "|                 29310|\n",
      "+----------------------+\n",
      "\n"
     ]
    }
   ],
   "source": [
    "spark.sql(\"SELECT SUM(DISTINCT Quantity) FROM dfTable\").show()"
   ]
  },
  {
   "cell_type": "markdown",
   "id": "7ecb0723-de57-498d-b347-1905e83c6b47",
   "metadata": {},
   "source": [
    "## avg"
   ]
  },
  {
   "cell_type": "code",
   "execution_count": 53,
   "id": "94adf81a-65ea-4406-8dc9-423e2906536b",
   "metadata": {},
   "outputs": [
    {
     "name": "stdout",
     "output_type": "stream",
     "text": [
      "+--------------------------------------+----------------+----------------+\n",
      "|(total_purchases / total_transactions)|   avg_purchases|  mean_purchases|\n",
      "+--------------------------------------+----------------+----------------+\n",
      "|                      9.55224954743324|9.55224954743324|9.55224954743324|\n",
      "+--------------------------------------+----------------+----------------+\n",
      "\n"
     ]
    }
   ],
   "source": [
    "df.select(\n",
    "F.count(\"Quantity\").alias(\"total_transactions\"),\n",
    "F.sum(\"Quantity\").alias(\"total_purchases\"),\n",
    "F.avg(\"Quantity\").alias(\"avg_purchases\"),\n",
    "F.expr(\"mean(Quantity)\").alias(\"mean_purchases\"))\\\n",
    ".selectExpr(\n",
    "\"total_purchases/total_transactions\",\n",
    "    \"avg_purchases\",\n",
    "\"mean_purchases\").show()"
   ]
  },
  {
   "cell_type": "code",
   "execution_count": 54,
   "id": "b5917483-673d-468c-b4a1-777b3c40ee37",
   "metadata": {},
   "outputs": [
    {
     "name": "stdout",
     "output_type": "stream",
     "text": [
      "+--------------------------------------+----------------+----------------+\n",
      "|(total_purchases / total_transactions)|   avg_purchases|  mean_purchases|\n",
      "+--------------------------------------+----------------+----------------+\n",
      "|                      9.55224954743324|9.55224954743324|9.55224954743324|\n",
      "+--------------------------------------+----------------+----------------+\n",
      "\n"
     ]
    }
   ],
   "source": [
    "spark.sql(\"\"\"SELECT total_purchases/total_transactions,\n",
    "                    avg_purchases,\n",
    "                    mean_purchases \n",
    "             FROM (\n",
    "                    SELECT count(Quantity) AS total_transactions,\n",
    "                    SUM(Quantity) AS total_purchases,\n",
    "                    AVG(Quantity) AS avg_purchases,\n",
    "                    mean(Quantity) AS mean_purchases \n",
    "                    FROM dfTable\n",
    "                  )\"\"\").show()"
   ]
  },
  {
   "cell_type": "markdown",
   "id": "b854bacd-a913-42bb-bd1d-019d8723af27",
   "metadata": {},
   "source": [
    "## Variance and Standard Deviation"
   ]
  },
  {
   "cell_type": "code",
   "execution_count": 55,
   "id": "670532da-76e8-46a3-9682-8f7bc4510692",
   "metadata": {},
   "outputs": [
    {
     "name": "stdout",
     "output_type": "stream",
     "text": [
      "+---------------------+----------------+-------------------+------------------+\n",
      "|populational_variance| sample_variance|populational_stddev|     sample_stddev|\n",
      "+---------------------+----------------+-------------------+------------------+\n",
      "|     47559.3036466091|47559.3914092988| 218.08095663447807|218.08115785023426|\n",
      "+---------------------+----------------+-------------------+------------------+\n",
      "\n"
     ]
    }
   ],
   "source": [
    "df.select(F.var_pop(\"Quantity\").alias('populational_variance'), F.var_samp(\"Quantity\").alias('sample_variance'),\n",
    "F.stddev_pop(\"Quantity\").alias('populational_stddev'), F.stddev_samp(\"Quantity\").alias('sample_stddev')).show()"
   ]
  },
  {
   "cell_type": "code",
   "execution_count": 56,
   "id": "89271b43-5225-4c95-b1b3-121b229b55ad",
   "metadata": {},
   "outputs": [
    {
     "name": "stdout",
     "output_type": "stream",
     "text": [
      "+---------------------+----------------+-------------------+------------------+\n",
      "|populational_variance| sample_variance|populational_stddev|     sample_stddev|\n",
      "+---------------------+----------------+-------------------+------------------+\n",
      "|     47559.3036466091|47559.3914092988| 218.08095663447807|218.08115785023426|\n",
      "+---------------------+----------------+-------------------+------------------+\n",
      "\n"
     ]
    }
   ],
   "source": [
    "spark.sql(\"\"\"SELECT var_pop(Quantity) AS populational_variance, \n",
    "             var_samp(Quantity) AS sample_variance,\n",
    "             stddev_pop(Quantity) AS populational_stddev,\n",
    "             stddev_samp(Quantity) AS sample_stddev\n",
    "             FROM dfTable\n",
    "\"\"\").show()"
   ]
  },
  {
   "cell_type": "markdown",
   "id": "ea999d70-9813-4ff9-bbb0-e80d69558ec7",
   "metadata": {},
   "source": [
    "## skewness and kurtosis"
   ]
  },
  {
   "cell_type": "code",
   "execution_count": 57,
   "id": "bdfcea81-379d-4d41-809b-11e6ab6db7ff",
   "metadata": {},
   "outputs": [
    {
     "name": "stdout",
     "output_type": "stream",
     "text": [
      "+--------------------+------------------+\n",
      "|  skewness(Quantity)|kurtosis(Quantity)|\n",
      "+--------------------+------------------+\n",
      "|-0.26407557610529564|119768.05495534712|\n",
      "+--------------------+------------------+\n",
      "\n"
     ]
    }
   ],
   "source": [
    "df.select(F.skewness(\"Quantity\"), F.kurtosis(\"Quantity\")).show()"
   ]
  },
  {
   "cell_type": "code",
   "execution_count": 58,
   "id": "364f94e9-f4c2-4f53-9bf4-6ed90184531a",
   "metadata": {},
   "outputs": [
    {
     "name": "stdout",
     "output_type": "stream",
     "text": [
      "+--------------------+------------------+\n",
      "|  skewness(Quantity)|kurtosis(Quantity)|\n",
      "+--------------------+------------------+\n",
      "|-0.26407557610529564|119768.05495534712|\n",
      "+--------------------+------------------+\n",
      "\n"
     ]
    }
   ],
   "source": [
    "spark.sql(\"\"\"SELECT skewness(Quantity),\n",
    "                    kurtosis(Quantity) \n",
    "            FROM dfTable\"\"\").show()"
   ]
  },
  {
   "cell_type": "markdown",
   "id": "55457665-91f4-41dc-82bd-ad5c532cd022",
   "metadata": {},
   "source": [
    "## Covariance and correlation"
   ]
  },
  {
   "cell_type": "code",
   "execution_count": 59,
   "id": "6ceec4b2-4d8b-4808-ba44-b7fb291d6374",
   "metadata": {},
   "outputs": [
    {
     "name": "stdout",
     "output_type": "stream",
     "text": [
      "+-------------------------+-------------------------------+------------------------------+\n",
      "|corr(InvoiceNo, Quantity)|covar_samp(InvoiceNo, Quantity)|covar_pop(InvoiceNo, Quantity)|\n",
      "+-------------------------+-------------------------------+------------------------------+\n",
      "|     4.912186085642775E-4|             1052.7280543915654|            1052.7260778754612|\n",
      "+-------------------------+-------------------------------+------------------------------+\n",
      "\n"
     ]
    }
   ],
   "source": [
    "df.select(F.corr(\"InvoiceNo\", \"Quantity\"), F.covar_samp(\"InvoiceNo\", \"Quantity\"),\n",
    "F.covar_pop(\"InvoiceNo\", \"Quantity\")).show()"
   ]
  },
  {
   "cell_type": "markdown",
   "id": "8c5c4052-738b-42ab-858f-c810c4a81bc8",
   "metadata": {},
   "source": [
    "### Covariance matrix"
   ]
  },
  {
   "cell_type": "code",
   "execution_count": 60,
   "id": "366e18eb-d0bd-409a-8aa6-c01090353d77",
   "metadata": {},
   "outputs": [
    {
     "name": "stderr",
     "output_type": "stream",
     "text": [
      "[Stage 171:=============================================>           (4 + 1) / 5]\r"
     ]
    },
    {
     "name": "stdout",
     "output_type": "stream",
     "text": [
      "+--------------------------------+--------------------------------+----------------------------------+-------------------------------+----------------------------------+--------------------------------+---------------------------------+------------------------------+--------------------------------+--------------------------------+----------------------------------+-------------------------------+----------------------------------+--------------------------------+---------------------------------+------------------------------+----------------------------------+----------------------------------+------------------------------------+---------------------------------+------------------------------------+----------------------------------+-----------------------------------+--------------------------------+-------------------------------+-------------------------------+---------------------------------+------------------------------+---------------------------------+-------------------------------+--------------------------------+-----------------------------+----------------------------------+----------------------------------+------------------------------------+---------------------------------+------------------------------------+----------------------------------+-----------------------------------+--------------------------------+--------------------------------+--------------------------------+----------------------------------+-------------------------------+----------------------------------+--------------------------------+---------------------------------+------------------------------+---------------------------------+---------------------------------+-----------------------------------+--------------------------------+-----------------------------------+---------------------------------+----------------------------------+-------------------------------+------------------------------+------------------------------+--------------------------------+-----------------------------+--------------------------------+------------------------------+-------------------------------+----------------------------+\n",
      "|covar_samp(InvoiceNo, InvoiceNo)|covar_samp(InvoiceNo, StockCode)|covar_samp(InvoiceNo, Description)|covar_samp(InvoiceNo, Quantity)|covar_samp(InvoiceNo, InvoiceDate)|covar_samp(InvoiceNo, UnitPrice)|covar_samp(InvoiceNo, CustomerID)|covar_samp(InvoiceNo, Country)|covar_samp(StockCode, InvoiceNo)|covar_samp(StockCode, StockCode)|covar_samp(StockCode, Description)|covar_samp(StockCode, Quantity)|covar_samp(StockCode, InvoiceDate)|covar_samp(StockCode, UnitPrice)|covar_samp(StockCode, CustomerID)|covar_samp(StockCode, Country)|covar_samp(Description, InvoiceNo)|covar_samp(Description, StockCode)|covar_samp(Description, Description)|covar_samp(Description, Quantity)|covar_samp(Description, InvoiceDate)|covar_samp(Description, UnitPrice)|covar_samp(Description, CustomerID)|covar_samp(Description, Country)|covar_samp(Quantity, InvoiceNo)|covar_samp(Quantity, StockCode)|covar_samp(Quantity, Description)|covar_samp(Quantity, Quantity)|covar_samp(Quantity, InvoiceDate)|covar_samp(Quantity, UnitPrice)|covar_samp(Quantity, CustomerID)|covar_samp(Quantity, Country)|covar_samp(InvoiceDate, InvoiceNo)|covar_samp(InvoiceDate, StockCode)|covar_samp(InvoiceDate, Description)|covar_samp(InvoiceDate, Quantity)|covar_samp(InvoiceDate, InvoiceDate)|covar_samp(InvoiceDate, UnitPrice)|covar_samp(InvoiceDate, CustomerID)|covar_samp(InvoiceDate, Country)|covar_samp(UnitPrice, InvoiceNo)|covar_samp(UnitPrice, StockCode)|covar_samp(UnitPrice, Description)|covar_samp(UnitPrice, Quantity)|covar_samp(UnitPrice, InvoiceDate)|covar_samp(UnitPrice, UnitPrice)|covar_samp(UnitPrice, CustomerID)|covar_samp(UnitPrice, Country)|covar_samp(CustomerID, InvoiceNo)|covar_samp(CustomerID, StockCode)|covar_samp(CustomerID, Description)|covar_samp(CustomerID, Quantity)|covar_samp(CustomerID, InvoiceDate)|covar_samp(CustomerID, UnitPrice)|covar_samp(CustomerID, CustomerID)|covar_samp(CustomerID, Country)|covar_samp(Country, InvoiceNo)|covar_samp(Country, StockCode)|covar_samp(Country, Description)|covar_samp(Country, Quantity)|covar_samp(Country, InvoiceDate)|covar_samp(Country, UnitPrice)|covar_samp(Country, CustomerID)|covar_samp(Country, Country)|\n",
      "+--------------------------------+--------------------------------+----------------------------------+-------------------------------+----------------------------------+--------------------------------+---------------------------------+------------------------------+--------------------------------+--------------------------------+----------------------------------+-------------------------------+----------------------------------+--------------------------------+---------------------------------+------------------------------+----------------------------------+----------------------------------+------------------------------------+---------------------------------+------------------------------------+----------------------------------+-----------------------------------+--------------------------------+-------------------------------+-------------------------------+---------------------------------+------------------------------+---------------------------------+-------------------------------+--------------------------------+-----------------------------+----------------------------------+----------------------------------+------------------------------------+---------------------------------+------------------------------------+----------------------------------+-----------------------------------+--------------------------------+--------------------------------+--------------------------------+----------------------------------+-------------------------------+----------------------------------+--------------------------------+---------------------------------+------------------------------+---------------------------------+---------------------------------+-----------------------------------+--------------------------------+-----------------------------------+---------------------------------+----------------------------------+-------------------------------+------------------------------+------------------------------+--------------------------------+-----------------------------+--------------------------------+------------------------------+-------------------------------+----------------------------+\n",
      "|             1.803223906670907E8|            -1.373081901556989E7|                              null|             1052.7280543915654|                              null|             -2727.1629025209672|               22262.577101382136|                          null|            -1.37308190155698...|             2.822311843840115E8|                              null|              12062.87616620443|                              null|              -598.4946507549694|                422535.4570042865|                          null|                              null|                              null|                                null|                             null|                                null|                              null|                               null|                            null|             1052.7280543915685|             12062.876166204433|                             null|            47559.391409298805|                             null|            -26.058761257936524|             -1534.0501755576088|                         null|                              null|                              null|                                null|                             null|                                null|                              null|                               null|                            null|              -2727.162902520968|              -598.4946507549688|                              null|            -26.058761257936524|                              null|               9362.469164421043|               -541.5792760204075|                          null|                22262.57710138233|               422535.45700428647|                               null|              -1534.050175557609|                               null|               -541.5792760204075|                 2936425.999543861|                           null|                          null|                          null|                            null|                         null|                            null|                          null|                           null|                        null|\n",
      "+--------------------------------+--------------------------------+----------------------------------+-------------------------------+----------------------------------+--------------------------------+---------------------------------+------------------------------+--------------------------------+--------------------------------+----------------------------------+-------------------------------+----------------------------------+--------------------------------+---------------------------------+------------------------------+----------------------------------+----------------------------------+------------------------------------+---------------------------------+------------------------------------+----------------------------------+-----------------------------------+--------------------------------+-------------------------------+-------------------------------+---------------------------------+------------------------------+---------------------------------+-------------------------------+--------------------------------+-----------------------------+----------------------------------+----------------------------------+------------------------------------+---------------------------------+------------------------------------+----------------------------------+-----------------------------------+--------------------------------+--------------------------------+--------------------------------+----------------------------------+-------------------------------+----------------------------------+--------------------------------+---------------------------------+------------------------------+---------------------------------+---------------------------------+-----------------------------------+--------------------------------+-----------------------------------+---------------------------------+----------------------------------+-------------------------------+------------------------------+------------------------------+--------------------------------+-----------------------------+--------------------------------+------------------------------+-------------------------------+----------------------------+\n",
      "\n"
     ]
    },
    {
     "name": "stderr",
     "output_type": "stream",
     "text": [
      "                                                                                \r"
     ]
    }
   ],
   "source": [
    "cols = df.columns\n",
    "df.select(*[F.covar_samp(col1,col2) for col1,col2 in product(cols,cols)]).show()"
   ]
  },
  {
   "cell_type": "markdown",
   "id": "376f61b5-0e7a-4014-94a6-85c82a5f9a95",
   "metadata": {},
   "source": [
    "# Aggregating Complex Types"
   ]
  },
  {
   "cell_type": "code",
   "execution_count": 61,
   "id": "0724859c-0429-4416-b58b-7819039a3367",
   "metadata": {},
   "outputs": [
    {
     "name": "stdout",
     "output_type": "stream",
     "text": [
      "+--------------------+---------------------+\n",
      "|collect_set(Country)|collect_list(Country)|\n",
      "+--------------------+---------------------+\n",
      "|[Portugal, Italy,...| [United Kingdom, ...|\n",
      "+--------------------+---------------------+\n",
      "\n"
     ]
    }
   ],
   "source": [
    "df.agg(F.collect_set(\"Country\"), F.collect_list(\"Country\")).show()"
   ]
  },
  {
   "cell_type": "code",
   "execution_count": 62,
   "id": "d8af4d0e-5794-471e-85a5-9b576c7868e3",
   "metadata": {},
   "outputs": [
    {
     "name": "stdout",
     "output_type": "stream",
     "text": [
      "+--------------------+--------------------+\n",
      "|collect_set(Country)|collect_set(Country)|\n",
      "+--------------------+--------------------+\n",
      "|[Portugal, Italy,...|[Portugal, Italy,...|\n",
      "+--------------------+--------------------+\n",
      "\n"
     ]
    }
   ],
   "source": [
    "spark.sql('SELECT collect_set(Country), collect_set(Country) FROM dfTable').show()"
   ]
  },
  {
   "cell_type": "markdown",
   "id": "6973e6f1-0e1f-489d-ab75-aef10e2b5811",
   "metadata": {},
   "source": [
    "# Grouping"
   ]
  },
  {
   "cell_type": "code",
   "execution_count": 63,
   "id": "c1c44eda-f7c3-4ce6-9f5f-6c1ddfa48917",
   "metadata": {},
   "outputs": [
    {
     "name": "stdout",
     "output_type": "stream",
     "text": [
      "+---------+----------+-----+\n",
      "|InvoiceNo|CustomerId|count|\n",
      "+---------+----------+-----+\n",
      "|   536846|     14573|   76|\n",
      "|   537026|     12395|   12|\n",
      "|   537883|     14437|    5|\n",
      "|   538068|     17978|   12|\n",
      "|   538279|     14952|    7|\n",
      "+---------+----------+-----+\n",
      "only showing top 5 rows\n",
      "\n"
     ]
    }
   ],
   "source": [
    "df.groupBy(\"InvoiceNo\", \"CustomerId\").count().show(5)"
   ]
  },
  {
   "cell_type": "code",
   "execution_count": 64,
   "id": "94912899-836b-436d-923f-eb44cdc76b96",
   "metadata": {},
   "outputs": [
    {
     "name": "stdout",
     "output_type": "stream",
     "text": [
      "+---------+----------+-----+\n",
      "|InvoiceNo|CustomerId|count|\n",
      "+---------+----------+-----+\n",
      "|   536846|     14573|   76|\n",
      "|   537026|     12395|   12|\n",
      "|   537883|     14437|    5|\n",
      "|   538068|     17978|   12|\n",
      "|   538279|     14952|    7|\n",
      "+---------+----------+-----+\n",
      "only showing top 5 rows\n",
      "\n"
     ]
    }
   ],
   "source": [
    "spark.sql('SELECT InvoiceNo,CustomerId,count(*) AS count FROM dfTable GROUP BY InvoiceNo, CustomerId').show(5)"
   ]
  },
  {
   "cell_type": "markdown",
   "id": "80dcd1fe-d8b4-4987-b0a4-fcf1c1620207",
   "metadata": {},
   "source": [
    "## Grouping with Expressions"
   ]
  },
  {
   "cell_type": "code",
   "execution_count": 65,
   "id": "477d8d93-2b16-44bf-80a8-d3f2cf062dd0",
   "metadata": {},
   "outputs": [
    {
     "name": "stdout",
     "output_type": "stream",
     "text": [
      "+---------+----+---------------+\n",
      "|InvoiceNo|quan|count(Quantity)|\n",
      "+---------+----+---------------+\n",
      "|   536596|   6|              6|\n",
      "|   536938|  14|             14|\n",
      "|   537252|   1|              1|\n",
      "|   537691|  20|             20|\n",
      "|   538041|   1|              1|\n",
      "+---------+----+---------------+\n",
      "only showing top 5 rows\n",
      "\n"
     ]
    }
   ],
   "source": [
    "df.groupBy(\"InvoiceNo\").agg(\n",
    "F.count(\"Quantity\").alias(\"quan\"),\n",
    "F.expr(\"count(Quantity)\")).show(5)"
   ]
  },
  {
   "cell_type": "markdown",
   "id": "35c48b01-16df-41bf-a199-99fe25596ba1",
   "metadata": {},
   "source": [
    "## Grouping with Maps"
   ]
  },
  {
   "cell_type": "code",
   "execution_count": 66,
   "id": "43b4b219-afe3-478b-ba29-74975fbd1a6e",
   "metadata": {},
   "outputs": [
    {
     "name": "stdout",
     "output_type": "stream",
     "text": [
      "+---------+------------------+--------------------+\n",
      "|InvoiceNo|     avg(Quantity)|stddev_pop(Quantity)|\n",
      "+---------+------------------+--------------------+\n",
      "|   536596|               1.5|  1.1180339887498947|\n",
      "|   536938|33.142857142857146|  20.698023172885524|\n",
      "|   537252|              31.0|                 0.0|\n",
      "|   537691|              8.15|   5.597097462078001|\n",
      "|   538041|              30.0|                 0.0|\n",
      "+---------+------------------+--------------------+\n",
      "only showing top 5 rows\n",
      "\n"
     ]
    }
   ],
   "source": [
    "df.groupBy(\"InvoiceNo\").agg(F.expr(\"avg(Quantity)\"),F.expr(\"stddev_pop(Quantity)\"))\\\n",
    ".show(5)"
   ]
  },
  {
   "cell_type": "code",
   "execution_count": 67,
   "id": "ef227d31-e683-49c7-b633-e929b7b970aa",
   "metadata": {},
   "outputs": [
    {
     "name": "stdout",
     "output_type": "stream",
     "text": [
      "+------------------+--------------------+---------+\n",
      "|     avg(Quantity)|stddev_pop(Quantity)|InvoiceNo|\n",
      "+------------------+--------------------+---------+\n",
      "|               1.5|  1.1180339887498947|   536596|\n",
      "|33.142857142857146|  20.698023172885524|   536938|\n",
      "|              31.0|                 0.0|   537252|\n",
      "|              8.15|   5.597097462078001|   537691|\n",
      "|              30.0|                 0.0|   538041|\n",
      "+------------------+--------------------+---------+\n",
      "only showing top 5 rows\n",
      "\n"
     ]
    }
   ],
   "source": [
    "spark.sql(\"SELECT avg(Quantity), stddev_pop(Quantity), InvoiceNo FROM dfTable GROUP BY InvoiceNo\").show(5)"
   ]
  },
  {
   "cell_type": "markdown",
   "id": "316372d4-2f60-42c8-908b-306b6ea0013c",
   "metadata": {},
   "source": [
    "# Window Functions"
   ]
  },
  {
   "cell_type": "code",
   "execution_count": 68,
   "id": "b67fbc7e-790d-4c39-aadc-ee9eefb89e47",
   "metadata": {},
   "outputs": [],
   "source": [
    "dfWithDate = df.withColumn(\"date\", F.to_date(F.col(\"InvoiceDate\"), \"MM/d/yyyy H:mm\"))\n",
    "dfWithDate.createOrReplaceTempView(\"dfWithDate\")"
   ]
  },
  {
   "cell_type": "code",
   "execution_count": 69,
   "id": "d7f18302-ad91-4629-b812-19764ee1678c",
   "metadata": {},
   "outputs": [],
   "source": [
    "windowSpec = Window\\\n",
    ".partitionBy(\"CustomerId\", \"date\")\\\n",
    ".orderBy(F.desc(\"Quantity\"))\\\n",
    ".rowsBetween(Window.unboundedPreceding, Window.currentRow)"
   ]
  },
  {
   "cell_type": "code",
   "execution_count": 70,
   "id": "20b2af4a-e8e7-40ac-9a31-299dab85d501",
   "metadata": {},
   "outputs": [],
   "source": [
    "maxPurchaseQuantity = F.max(F.col(\"Quantity\")).over(windowSpec)"
   ]
  },
  {
   "cell_type": "code",
   "execution_count": 71,
   "id": "b12532b6-2a33-44ba-bc45-2c4c8ab51a7a",
   "metadata": {},
   "outputs": [
    {
     "data": {
      "text/plain": [
       "pyspark.sql.column.Column"
      ]
     },
     "execution_count": 71,
     "metadata": {},
     "output_type": "execute_result"
    }
   ],
   "source": [
    "type(maxPurchaseQuantity)"
   ]
  },
  {
   "cell_type": "code",
   "execution_count": 72,
   "id": "e7689e3d-5ff5-4cca-ab7d-f0ac3cd66570",
   "metadata": {},
   "outputs": [],
   "source": [
    "purchaseDenseRank = F.dense_rank().over(windowSpec)\n",
    "purchaseRank = F.rank().over(windowSpec)"
   ]
  },
  {
   "cell_type": "code",
   "execution_count": 73,
   "id": "f6a5afb1-8822-4325-9e08-17b329a85de5",
   "metadata": {},
   "outputs": [
    {
     "data": {
      "text/plain": [
       "DataFrame[key: string, value: string]"
      ]
     },
     "execution_count": 73,
     "metadata": {},
     "output_type": "execute_result"
    }
   ],
   "source": [
    "spark.sql(\"set spark.sql.legacy.timeParserPolicy=LEGACY\")\n",
    "#spark.sql(\"set spark.sql.legacy.timeParserPolicy=CORRECTED\")"
   ]
  },
  {
   "cell_type": "code",
   "execution_count": 74,
   "id": "0c35e85b-de57-4947-bffc-84f78120473c",
   "metadata": {},
   "outputs": [
    {
     "name": "stderr",
     "output_type": "stream",
     "text": [
      "                                                                                \r"
     ]
    },
    {
     "name": "stdout",
     "output_type": "stream",
     "text": [
      "+----------+----------+--------+------------+-----------------+-------------------+\n",
      "|CustomerId|      date|Quantity|quantityRank|quantityDenseRank|maxPurchaseQuantity|\n",
      "+----------+----------+--------+------------+-----------------+-------------------+\n",
      "|     12346|2011-01-18|   74215|           1|                1|              74215|\n",
      "|     12346|2011-01-18|  -74215|           2|                2|              74215|\n",
      "|     12347|2010-12-07|      36|           1|                1|                 36|\n",
      "|     12347|2010-12-07|      30|           2|                2|                 36|\n",
      "|     12347|2010-12-07|      24|           3|                3|                 36|\n",
      "|     12347|2010-12-07|      12|           4|                4|                 36|\n",
      "|     12347|2010-12-07|      12|           4|                4|                 36|\n",
      "|     12347|2010-12-07|      12|           4|                4|                 36|\n",
      "|     12347|2010-12-07|      12|           4|                4|                 36|\n",
      "|     12347|2010-12-07|      12|           4|                4|                 36|\n",
      "|     12347|2010-12-07|      12|           4|                4|                 36|\n",
      "|     12347|2010-12-07|      12|           4|                4|                 36|\n",
      "|     12347|2010-12-07|      12|           4|                4|                 36|\n",
      "|     12347|2010-12-07|      12|           4|                4|                 36|\n",
      "|     12347|2010-12-07|      12|           4|                4|                 36|\n",
      "|     12347|2010-12-07|      12|           4|                4|                 36|\n",
      "|     12347|2010-12-07|      12|           4|                4|                 36|\n",
      "|     12347|2010-12-07|      12|           4|                4|                 36|\n",
      "|     12347|2010-12-07|       6|          17|                5|                 36|\n",
      "|     12347|2010-12-07|       6|          17|                5|                 36|\n",
      "+----------+----------+--------+------------+-----------------+-------------------+\n",
      "only showing top 20 rows\n",
      "\n"
     ]
    }
   ],
   "source": [
    "dfWithDate.where(\"CustomerId IS NOT NULL\").orderBy(\"CustomerId\")\\\n",
    ".select(\n",
    "F.col(\"CustomerId\"),\n",
    "F.col(\"date\"),\n",
    "F.col(\"Quantity\"),\n",
    "purchaseRank.alias(\"quantityRank\"),\n",
    "purchaseDenseRank.alias(\"quantityDenseRank\"),\n",
    "maxPurchaseQuantity.alias(\"maxPurchaseQuantity\")).show()"
   ]
  },
  {
   "cell_type": "code",
   "execution_count": 75,
   "id": "ddb1cf31-3763-40c7-8eed-6cd76c400e41",
   "metadata": {},
   "outputs": [
    {
     "name": "stdout",
     "output_type": "stream",
     "text": [
      "+----------+----------+--------+----+-----+-----------+\n",
      "|CustomerId|      date|Quantity|rank|dRank|maxPurchase|\n",
      "+----------+----------+--------+----+-----+-----------+\n",
      "|     12346|2011-01-18|   74215|   1|    1|      74215|\n",
      "|     12346|2011-01-18|  -74215|   2|    2|      74215|\n",
      "|     12347|2010-12-07|      36|   1|    1|         36|\n",
      "|     12347|2010-12-07|      30|   2|    2|         36|\n",
      "|     12347|2010-12-07|      24|   3|    3|         36|\n",
      "|     12347|2010-12-07|      12|   4|    4|         36|\n",
      "|     12347|2010-12-07|      12|   4|    4|         36|\n",
      "|     12347|2010-12-07|      12|   4|    4|         36|\n",
      "|     12347|2010-12-07|      12|   4|    4|         36|\n",
      "|     12347|2010-12-07|      12|   4|    4|         36|\n",
      "|     12347|2010-12-07|      12|   4|    4|         36|\n",
      "|     12347|2010-12-07|      12|   4|    4|         36|\n",
      "|     12347|2010-12-07|      12|   4|    4|         36|\n",
      "|     12347|2010-12-07|      12|   4|    4|         36|\n",
      "|     12347|2010-12-07|      12|   4|    4|         36|\n",
      "|     12347|2010-12-07|      12|   4|    4|         36|\n",
      "|     12347|2010-12-07|      12|   4|    4|         36|\n",
      "|     12347|2010-12-07|      12|   4|    4|         36|\n",
      "|     12347|2010-12-07|       6|  17|    5|         36|\n",
      "|     12347|2010-12-07|       6|  17|    5|         36|\n",
      "+----------+----------+--------+----+-----+-----------+\n",
      "only showing top 20 rows\n",
      "\n"
     ]
    }
   ],
   "source": [
    "spark.sql(\"\"\"\n",
    "                SELECT CustomerId, date, Quantity,\n",
    "                rank(Quantity) OVER (PARTITION BY CustomerId, date\n",
    "                ORDER BY Quantity DESC NULLS LAST\n",
    "                ROWS BETWEEN\n",
    "                UNBOUNDED PRECEDING AND\n",
    "                CURRENT ROW) as rank,\n",
    "                dense_rank(Quantity) OVER (PARTITION BY CustomerId, date\n",
    "                ORDER BY Quantity DESC NULLS LAST\n",
    "                ROWS BETWEEN\n",
    "                UNBOUNDED PRECEDING AND\n",
    "                CURRENT ROW) as dRank,\n",
    "                max(Quantity) OVER (PARTITION BY CustomerId, date\n",
    "                ORDER BY Quantity DESC NULLS LAST\n",
    "                ROWS BETWEEN\n",
    "                UNBOUNDED PRECEDING AND\n",
    "                CURRENT ROW) as maxPurchase\n",
    "                FROM dfWithDate WHERE CustomerId IS NOT NULL ORDER BY CustomerId\n",
    "\"\"\").show()"
   ]
  },
  {
   "cell_type": "markdown",
   "id": "d6f6fdcc-cdd5-47c9-9a65-22d9763c1616",
   "metadata": {},
   "source": [
    "# Grouping Sets"
   ]
  },
  {
   "cell_type": "code",
   "execution_count": 76,
   "id": "3b2eaad6-e74e-4d1b-b31d-56cd2cd138e1",
   "metadata": {},
   "outputs": [],
   "source": [
    "dfNoNull = dfWithDate.drop()\n",
    "dfNoNull.createOrReplaceTempView(\"dfNoNull\")"
   ]
  },
  {
   "cell_type": "code",
   "execution_count": 77,
   "id": "cf5888e7-a924-44a8-b9e0-9361b79b943c",
   "metadata": {},
   "outputs": [
    {
     "name": "stderr",
     "output_type": "stream",
     "text": [
      "[Stage 202:===========>                                             (1 + 4) / 5]\r"
     ]
    },
    {
     "name": "stdout",
     "output_type": "stream",
     "text": [
      "+----------+---------+-------------+\n",
      "|CustomerId|stockCode|sum(Quantity)|\n",
      "+----------+---------+-------------+\n",
      "|     18287|    85173|           48|\n",
      "|     18287|   85040A|           48|\n",
      "|     18287|   85039B|          120|\n",
      "|     18287|   85039A|           96|\n",
      "|     18287|    84920|            4|\n",
      "+----------+---------+-------------+\n",
      "only showing top 5 rows\n",
      "\n"
     ]
    },
    {
     "name": "stderr",
     "output_type": "stream",
     "text": [
      "                                                                                \r"
     ]
    }
   ],
   "source": [
    "spark.sql(\"\"\"\n",
    "    SELECT CustomerId, stockCode, sum(Quantity) FROM dfNoNull\n",
    "    GROUP BY customerId, stockCode\n",
    "    ORDER BY CustomerId DESC, stockCode DESC\n",
    "\"\"\").show(5)"
   ]
  },
  {
   "cell_type": "code",
   "execution_count": 88,
   "id": "ce285243-6266-4251-bfcb-fbc5a4345660",
   "metadata": {},
   "outputs": [
    {
     "name": "stdout",
     "output_type": "stream",
     "text": [
      "+----------+---------+-------------+\n",
      "|customerId|stockCode|sum(Quantity)|\n",
      "+----------+---------+-------------+\n",
      "|     18287|    85173|           48|\n",
      "|     18287|   85040A|           48|\n",
      "|     18287|   85039B|          120|\n",
      "|     18287|   85039A|           96|\n",
      "|     18287|    84920|            4|\n",
      "+----------+---------+-------------+\n",
      "only showing top 5 rows\n",
      "\n"
     ]
    }
   ],
   "source": [
    "spark.sql(\"\"\"\n",
    "    SELECT CustomerId, stockCode, sum(Quantity) FROM dfNoNull\n",
    "    GROUP BY customerId, stockCode GROUPING SETS((customerId, stockCode))\n",
    "    ORDER BY CustomerId DESC, stockCode DESC\n",
    "\"\"\").show(5)"
   ]
  },
  {
   "cell_type": "markdown",
   "id": "89a1a62a-bbed-46d7-87a0-d9e131e9783b",
   "metadata": {},
   "source": [
    "## There is no need to decalre customerId and stockCode outside the grouping sets, lets look why"
   ]
  },
  {
   "cell_type": "code",
   "execution_count": 96,
   "id": "3c369136-1201-467f-bee2-033c63d39a79",
   "metadata": {},
   "outputs": [],
   "source": [
    "df1 = spark.sql(\"\"\"\n",
    "    SELECT CustomerId, stockCode, sum(Quantity) FROM dfNoNull\n",
    "    GROUP BY GROUPING SETS((customerId, stockCode))\n",
    "    ORDER BY CustomerId DESC, stockCode DESC\n",
    "\"\"\")\n",
    "df2 = spark.sql(\"\"\"\n",
    "    SELECT CustomerId, stockCode, sum(Quantity) FROM dfNoNull\n",
    "    GROUP BY customerId, stockCode\n",
    "    ORDER BY CustomerId DESC, stockCode DESC\n",
    "\"\"\")\n",
    "assert df1.subtract(df2).count() == df2.subtract(df1).count(), 'Different queries'"
   ]
  },
  {
   "cell_type": "markdown",
   "id": "d15a00d6-42f9-46eb-b171-b898819ba68f",
   "metadata": {},
   "source": [
    "Note that both queries have produced the same results. This happens because the grouping set is exactly equal to\n",
    "the columns declared outside it"
   ]
  },
  {
   "cell_type": "markdown",
   "id": "2837f5ac-4a65-4588-a660-64294e007b48",
   "metadata": {},
   "source": [
    "Obs: Grouping sets depend on null values for aggregation levels. If you\n",
    "do not filter-out null values, you will get incorrect results. This\n",
    "applies to cubes, rollups, and grouping sets."
   ]
  },
  {
   "cell_type": "code",
   "execution_count": 47,
   "id": "50e5fd18-a418-4e0e-96dc-113957b5ecef",
   "metadata": {},
   "outputs": [
    {
     "name": "stdout",
     "output_type": "stream",
     "text": [
      "+----------+---------+-------------+\n",
      "|customerId|stockCode|sum(Quantity)|\n",
      "+----------+---------+-------------+\n",
      "|     18287|    85173|           48|\n",
      "|     18287|   85040A|           48|\n",
      "|     18287|   85039B|          120|\n",
      "|     18287|   85039A|           96|\n",
      "|     18287|    84920|            4|\n",
      "+----------+---------+-------------+\n",
      "only showing top 5 rows\n",
      "\n"
     ]
    }
   ],
   "source": [
    "spark.sql(\"\"\"\n",
    "SELECT CustomerId, stockCode, sum(Quantity) FROM dfNoNull\n",
    "GROUP BY customerId, stockCode GROUPING SETS((customerId, stockCode),())\n",
    "ORDER BY CustomerId DESC, stockCode DESC\n",
    "\"\"\").show(5)"
   ]
  },
  {
   "cell_type": "markdown",
   "id": "e9fe6747-f505-4675-b04a-08cf12aedd4f",
   "metadata": {},
   "source": [
    "## Checking the difference again"
   ]
  },
  {
   "cell_type": "code",
   "execution_count": 97,
   "id": "8c166481-3ad6-4954-a090-0d3f72d1d7f1",
   "metadata": {},
   "outputs": [],
   "source": [
    "df1 = spark.sql(\"\"\"\n",
    "SELECT CustomerId, stockCode, sum(Quantity) FROM dfNoNull\n",
    "GROUP BY customerId, stockCode GROUPING SETS((customerId, stockCode),())\n",
    "ORDER BY CustomerId DESC, stockCode DESC\n",
    "\"\"\")\n",
    "\n",
    "df2 = spark.sql(\"\"\"\n",
    "SELECT CustomerId, stockCode, sum(Quantity) FROM dfNoNull\n",
    "GROUP BY GROUPING SETS((customerId, stockCode),())\n",
    "ORDER BY CustomerId DESC, stockCode DESC\n",
    "\"\"\")\n",
    "assert df1.subtract(df2).count() == df2.subtract(df1).count()"
   ]
  },
  {
   "cell_type": "markdown",
   "id": "232e6982-577f-487c-8d05-f5c82a8422f1",
   "metadata": {},
   "source": [
    "Tip: whenever possible, always choose the less verbose query"
   ]
  },
  {
   "cell_type": "markdown",
   "id": "2f1323ff-9b19-4ed0-af96-cef3e1c2ef04",
   "metadata": {},
   "source": [
    "# Rollup"
   ]
  },
  {
   "cell_type": "code",
   "execution_count": 49,
   "id": "3d883205-7c49-4e12-9114-964cd22642fd",
   "metadata": {},
   "outputs": [
    {
     "name": "stdout",
     "output_type": "stream",
     "text": [
      "+----------+--------------+--------------+\n",
      "|      Date|       Country|total_quantity|\n",
      "+----------+--------------+--------------+\n",
      "|      null|          null|       5176450|\n",
      "|2010-12-01|United Kingdom|         23949|\n",
      "|2010-12-01|        France|           449|\n",
      "|2010-12-01|     Australia|           107|\n",
      "|2010-12-01|          null|         26814|\n",
      "|2010-12-01|        Norway|          1852|\n",
      "|2010-12-01|       Germany|           117|\n",
      "|2010-12-01|          EIRE|           243|\n",
      "|2010-12-01|   Netherlands|            97|\n",
      "|2010-12-02|          EIRE|             4|\n",
      "|2010-12-02|          null|         21023|\n",
      "|2010-12-02|United Kingdom|         20873|\n",
      "|2010-12-02|       Germany|           146|\n",
      "|2010-12-03|      Portugal|            65|\n",
      "|2010-12-03|        Poland|           140|\n",
      "|2010-12-03|       Belgium|           528|\n",
      "|2010-12-03|United Kingdom|         10439|\n",
      "|2010-12-03|        France|           239|\n",
      "|2010-12-03|         Italy|           164|\n",
      "|2010-12-03|          null|         14830|\n",
      "+----------+--------------+--------------+\n",
      "only showing top 20 rows\n",
      "\n"
     ]
    }
   ],
   "source": [
    "rolledUpDF = dfNoNull.rollup(\"Date\", \"Country\").agg(F.sum(\"Quantity\"))\\\n",
    ".selectExpr(\"Date\", \"Country\", \"`sum(Quantity)` as total_quantity\")\\\n",
    ".orderBy(\"Date\")\n",
    "rolledUpDF.show()"
   ]
  },
  {
   "cell_type": "code",
   "execution_count": 53,
   "id": "ae791c3c-a28c-45e1-bee8-9c58b3a6a59d",
   "metadata": {},
   "outputs": [
    {
     "name": "stdout",
     "output_type": "stream",
     "text": [
      "+----------+--------------+--------------+\n",
      "|      Date|       Country|total_quantity|\n",
      "+----------+--------------+--------------+\n",
      "|      null|          null|       5176450|\n",
      "|2010-12-01|United Kingdom|         23949|\n",
      "|2010-12-01|        France|           449|\n",
      "|2010-12-01|     Australia|           107|\n",
      "|2010-12-01|          null|         26814|\n",
      "|2010-12-01|        Norway|          1852|\n",
      "|2010-12-01|       Germany|           117|\n",
      "|2010-12-01|          EIRE|           243|\n",
      "|2010-12-01|   Netherlands|            97|\n",
      "|2010-12-02|          EIRE|             4|\n",
      "|2010-12-02|          null|         21023|\n",
      "|2010-12-02|United Kingdom|         20873|\n",
      "|2010-12-02|       Germany|           146|\n",
      "|2010-12-03|      Portugal|            65|\n",
      "|2010-12-03|        Poland|           140|\n",
      "|2010-12-03|       Belgium|           528|\n",
      "|2010-12-03|United Kingdom|         10439|\n",
      "|2010-12-03|        France|           239|\n",
      "|2010-12-03|         Italy|           164|\n",
      "|2010-12-03|          null|         14830|\n",
      "+----------+--------------+--------------+\n",
      "only showing top 20 rows\n",
      "\n"
     ]
    }
   ],
   "source": [
    "spark.sql(\"\"\" SELECT\n",
    "    Date,\n",
    "    Country,\n",
    "    SUM(Quantity) AS total_quantity\n",
    "FROM\n",
    "    dfNoNull\n",
    "GROUP BY\n",
    "    ROLLUP (Date, Country)\n",
    "ORDER BY\n",
    "    Date;\n",
    "\"\"\").show()"
   ]
  },
  {
   "cell_type": "markdown",
   "id": "09359978-5911-4c97-8a2e-759a834d7014",
   "metadata": {},
   "source": [
    "## Getting the grand total"
   ]
  },
  {
   "cell_type": "code",
   "execution_count": 51,
   "id": "dd9a29d8-0e5f-4be8-bb05-bc5fb711d43d",
   "metadata": {},
   "outputs": [
    {
     "name": "stdout",
     "output_type": "stream",
     "text": [
      "+----+-------+--------------+\n",
      "|Date|Country|total_quantity|\n",
      "+----+-------+--------------+\n",
      "|null|   null|       5176450|\n",
      "+----+-------+--------------+\n",
      "\n"
     ]
    }
   ],
   "source": [
    "rolledUpDF.where(\"Date IS NULL\").show()"
   ]
  },
  {
   "cell_type": "markdown",
   "id": "b60a15b7-f6a9-4d2b-94ae-54dbac2fe7a4",
   "metadata": {},
   "source": [
    "# Cube"
   ]
  },
  {
   "cell_type": "code",
   "execution_count": 55,
   "id": "a523b163-3ebe-4899-94e0-fc7bfef26592",
   "metadata": {},
   "outputs": [
    {
     "name": "stderr",
     "output_type": "stream",
     "text": [
      "[Stage 133:=============================================>           (4 + 1) / 5]\r"
     ]
    },
    {
     "name": "stdout",
     "output_type": "stream",
     "text": [
      "+----+--------------------+-------------+\n",
      "|Date|             Country|sum(Quantity)|\n",
      "+----+--------------------+-------------+\n",
      "|null|               Italy|         7999|\n",
      "|null|               Spain|        26824|\n",
      "|null|      United Kingdom|      4263829|\n",
      "|null|              Sweden|        35637|\n",
      "|null|                EIRE|       142637|\n",
      "|null|             Lebanon|          386|\n",
      "|null|             Iceland|         2458|\n",
      "|null|             Denmark|         8188|\n",
      "|null|           Singapore|         5234|\n",
      "|null|                null|      5176450|\n",
      "|null|             Germany|       117448|\n",
      "|null|              Cyprus|         6317|\n",
      "|null|              France|       110480|\n",
      "|null|             Austria|         4827|\n",
      "|null|             Finland|        10666|\n",
      "|null|        Saudi Arabia|           75|\n",
      "|null|              Poland|         3653|\n",
      "|null|           Australia|        83653|\n",
      "|null|United Arab Emirates|          982|\n",
      "|null|              Norway|        19247|\n",
      "+----+--------------------+-------------+\n",
      "only showing top 20 rows\n",
      "\n"
     ]
    },
    {
     "name": "stderr",
     "output_type": "stream",
     "text": [
      "                                                                                \r"
     ]
    }
   ],
   "source": [
    "dfNoNull.cube(\"Date\", \"Country\").agg(F.sum(F.col(\"Quantity\")))\\\n",
    ".select(\"Date\", \"Country\", \"sum(Quantity)\").orderBy(\"Date\").show()"
   ]
  },
  {
   "cell_type": "code",
   "execution_count": 56,
   "id": "8cd45e5e-6564-449c-90a5-ae8d1b590048",
   "metadata": {},
   "outputs": [
    {
     "name": "stdout",
     "output_type": "stream",
     "text": [
      "+----+--------------------+--------------+\n",
      "|Date|             Country|total_quantity|\n",
      "+----+--------------------+--------------+\n",
      "|null|               Italy|          7999|\n",
      "|null|               Spain|         26824|\n",
      "|null|      United Kingdom|       4263829|\n",
      "|null|              Sweden|         35637|\n",
      "|null|                EIRE|        142637|\n",
      "|null|             Lebanon|           386|\n",
      "|null|             Iceland|          2458|\n",
      "|null|             Denmark|          8188|\n",
      "|null|           Singapore|          5234|\n",
      "|null|                null|       5176450|\n",
      "|null|             Germany|        117448|\n",
      "|null|              Cyprus|          6317|\n",
      "|null|              France|        110480|\n",
      "|null|             Austria|          4827|\n",
      "|null|             Finland|         10666|\n",
      "|null|        Saudi Arabia|            75|\n",
      "|null|              Poland|          3653|\n",
      "|null|           Australia|         83653|\n",
      "|null|United Arab Emirates|           982|\n",
      "|null|              Norway|         19247|\n",
      "+----+--------------------+--------------+\n",
      "only showing top 20 rows\n",
      "\n"
     ]
    }
   ],
   "source": [
    "spark.sql(\"\"\"\n",
    "SELECT\n",
    "    Date,\n",
    "    Country,\n",
    "    SUM(Quantity) AS total_quantity\n",
    "FROM\n",
    "    dfNoNull\n",
    "GROUP BY\n",
    "    CUBE (Date, Country)\n",
    "ORDER BY\n",
    "    Date;\n",
    "\"\"\").show()"
   ]
  },
  {
   "cell_type": "markdown",
   "id": "f4648f7d-0265-408f-aaa5-a48a4ce2017c",
   "metadata": {},
   "source": [
    "# Grouping Metadata"
   ]
  },
  {
   "cell_type": "code",
   "execution_count": 111,
   "id": "81b8bd50-fbb6-4e39-af0c-1263fdb1d4bf",
   "metadata": {},
   "outputs": [],
   "source": [
    "df_grouped = dfNoNull.cube(\"customerId\", \"stockCode\").agg(F.grouping_id().alias('grouping_id'), F.sum(\"Quantity\"))\\\n",
    ".orderBy(F.col(\"grouping_id\").desc())"
   ]
  },
  {
   "cell_type": "markdown",
   "id": "a69c70d2-61cd-4dcb-bc03-2badc71013a2",
   "metadata": {},
   "source": [
    "## Getting the grand total by its grouping_id"
   ]
  },
  {
   "cell_type": "code",
   "execution_count": 113,
   "id": "50e97ebb-b163-4983-9c80-04fd27dad308",
   "metadata": {},
   "outputs": [
    {
     "name": "stdout",
     "output_type": "stream",
     "text": [
      "+----------+---------+-----------+-------------+\n",
      "|customerId|stockCode|grouping_id|sum(Quantity)|\n",
      "+----------+---------+-----------+-------------+\n",
      "|      null|     null|          3|      5176450|\n",
      "+----------+---------+-----------+-------------+\n",
      "\n"
     ]
    }
   ],
   "source": [
    "df_grouped.filter('grouping_id = 3').show()"
   ]
  },
  {
   "cell_type": "markdown",
   "id": "ec70c4e7-db31-43eb-9070-e14f545401d8",
   "metadata": {},
   "source": [
    "## Checking the other grouping_id"
   ]
  },
  {
   "cell_type": "code",
   "execution_count": 114,
   "id": "d7b9385f-1065-47f4-aa34-f950095add77",
   "metadata": {},
   "outputs": [
    {
     "name": "stdout",
     "output_type": "stream",
     "text": [
      "+----------+---------+-----------+-------------+\n",
      "|customerId|stockCode|grouping_id|sum(Quantity)|\n",
      "+----------+---------+-----------+-------------+\n",
      "|      null|    21756|          2|          821|\n",
      "+----------+---------+-----------+-------------+\n",
      "only showing top 1 row\n",
      "\n"
     ]
    }
   ],
   "source": [
    "df_grouped.filter('grouping_id = 2').show(1)"
   ]
  },
  {
   "cell_type": "code",
   "execution_count": 115,
   "id": "bcb3971e-d2f5-43b2-a42f-e63deff7c129",
   "metadata": {},
   "outputs": [
    {
     "name": "stdout",
     "output_type": "stream",
     "text": [
      "+----------+---------+-----------+-------------+\n",
      "|customerId|stockCode|grouping_id|sum(Quantity)|\n",
      "+----------+---------+-----------+-------------+\n",
      "|     15574|     null|          1|          349|\n",
      "+----------+---------+-----------+-------------+\n",
      "only showing top 1 row\n",
      "\n"
     ]
    }
   ],
   "source": [
    "df_grouped.filter('grouping_id = 1').show(1)"
   ]
  },
  {
   "cell_type": "code",
   "execution_count": 116,
   "id": "851dac0a-f5e7-4daf-9998-7ce7fac25610",
   "metadata": {},
   "outputs": [
    {
     "name": "stderr",
     "output_type": "stream",
     "text": [
      "[Stage 395:>                                                        (0 + 5) / 5]\r"
     ]
    },
    {
     "name": "stdout",
     "output_type": "stream",
     "text": [
      "+----------+---------+-----------+-------------+\n",
      "|customerId|stockCode|grouping_id|sum(Quantity)|\n",
      "+----------+---------+-----------+-------------+\n",
      "|     12431|   35004C|          0|            6|\n",
      "+----------+---------+-----------+-------------+\n",
      "only showing top 1 row\n",
      "\n"
     ]
    },
    {
     "name": "stderr",
     "output_type": "stream",
     "text": [
      "                                                                                \r"
     ]
    }
   ],
   "source": [
    "df_grouped.filter('grouping_id = 0').show(1)"
   ]
  },
  {
   "cell_type": "markdown",
   "id": "fd5a1876-bf5c-4800-a056-2fda1187a29a",
   "metadata": {},
   "source": [
    "The grouping id logic is as it follows: \n",
    "| grouping_id | customerId | stockCode |\n",
    "| --- | --- | --- |\n",
    "| 3| 0 | 0 |\n",
    "| 2| 0 | 1 |\n",
    "| 1| 1 | 0 |\n",
    "| 0| 1 | 1 |"
   ]
  },
  {
   "cell_type": "markdown",
   "id": "a6fb882a-7273-470f-8e48-57895b997c83",
   "metadata": {},
   "source": [
    "# Pivot"
   ]
  },
  {
   "cell_type": "code",
   "execution_count": 123,
   "id": "e7678cfa-aedf-46a1-ba5e-9d01b8ce2eec",
   "metadata": {},
   "outputs": [],
   "source": [
    "pivoted = dfWithDate.groupBy(\"date\").pivot(\"Country\").sum().fillna(0)"
   ]
  },
  {
   "cell_type": "code",
   "execution_count": 124,
   "id": "b7abe481-0274-4f96-9425-0ab24d0393a2",
   "metadata": {},
   "outputs": [
    {
     "data": {
      "text/html": [
       "<div>\n",
       "<style scoped>\n",
       "    .dataframe tbody tr th:only-of-type {\n",
       "        vertical-align: middle;\n",
       "    }\n",
       "\n",
       "    .dataframe tbody tr th {\n",
       "        vertical-align: top;\n",
       "    }\n",
       "\n",
       "    .dataframe thead th {\n",
       "        text-align: right;\n",
       "    }\n",
       "</style>\n",
       "<table border=\"1\" class=\"dataframe\">\n",
       "  <thead>\n",
       "    <tr style=\"text-align: right;\">\n",
       "      <th></th>\n",
       "      <th>date</th>\n",
       "      <th>Australia_sum(Quantity)</th>\n",
       "      <th>Australia_sum(UnitPrice)</th>\n",
       "      <th>Australia_sum(CustomerID)</th>\n",
       "      <th>Austria_sum(Quantity)</th>\n",
       "      <th>Austria_sum(UnitPrice)</th>\n",
       "      <th>Austria_sum(CustomerID)</th>\n",
       "      <th>Bahrain_sum(Quantity)</th>\n",
       "      <th>Bahrain_sum(UnitPrice)</th>\n",
       "      <th>Bahrain_sum(CustomerID)</th>\n",
       "      <th>...</th>\n",
       "      <th>USA_sum(CustomerID)</th>\n",
       "      <th>United Arab Emirates_sum(Quantity)</th>\n",
       "      <th>United Arab Emirates_sum(UnitPrice)</th>\n",
       "      <th>United Arab Emirates_sum(CustomerID)</th>\n",
       "      <th>United Kingdom_sum(Quantity)</th>\n",
       "      <th>United Kingdom_sum(UnitPrice)</th>\n",
       "      <th>United Kingdom_sum(CustomerID)</th>\n",
       "      <th>Unspecified_sum(Quantity)</th>\n",
       "      <th>Unspecified_sum(UnitPrice)</th>\n",
       "      <th>Unspecified_sum(CustomerID)</th>\n",
       "    </tr>\n",
       "  </thead>\n",
       "  <tbody>\n",
       "    <tr>\n",
       "      <th>0</th>\n",
       "      <td>2011-01-30</td>\n",
       "      <td>0</td>\n",
       "      <td>0.00</td>\n",
       "      <td>0</td>\n",
       "      <td>0</td>\n",
       "      <td>0.00</td>\n",
       "      <td>0</td>\n",
       "      <td>0</td>\n",
       "      <td>0.0</td>\n",
       "      <td>0</td>\n",
       "      <td>...</td>\n",
       "      <td>0</td>\n",
       "      <td>0</td>\n",
       "      <td>0.0</td>\n",
       "      <td>0</td>\n",
       "      <td>3367</td>\n",
       "      <td>2321.72</td>\n",
       "      <td>11334037</td>\n",
       "      <td>0</td>\n",
       "      <td>0.0</td>\n",
       "      <td>0</td>\n",
       "    </tr>\n",
       "    <tr>\n",
       "      <th>1</th>\n",
       "      <td>2011-05-06</td>\n",
       "      <td>0</td>\n",
       "      <td>0.00</td>\n",
       "      <td>0</td>\n",
       "      <td>42</td>\n",
       "      <td>58.95</td>\n",
       "      <td>74484</td>\n",
       "      <td>0</td>\n",
       "      <td>0.0</td>\n",
       "      <td>0</td>\n",
       "      <td>...</td>\n",
       "      <td>0</td>\n",
       "      <td>0</td>\n",
       "      <td>0.0</td>\n",
       "      <td>0</td>\n",
       "      <td>17404</td>\n",
       "      <td>6952.63</td>\n",
       "      <td>18722445</td>\n",
       "      <td>0</td>\n",
       "      <td>0.0</td>\n",
       "      <td>0</td>\n",
       "    </tr>\n",
       "    <tr>\n",
       "      <th>2</th>\n",
       "      <td>2011-10-07</td>\n",
       "      <td>0</td>\n",
       "      <td>0.00</td>\n",
       "      <td>0</td>\n",
       "      <td>0</td>\n",
       "      <td>0.00</td>\n",
       "      <td>0</td>\n",
       "      <td>0</td>\n",
       "      <td>0.0</td>\n",
       "      <td>0</td>\n",
       "      <td>...</td>\n",
       "      <td>0</td>\n",
       "      <td>0</td>\n",
       "      <td>0.0</td>\n",
       "      <td>0</td>\n",
       "      <td>25657</td>\n",
       "      <td>12425.41</td>\n",
       "      <td>27566889</td>\n",
       "      <td>0</td>\n",
       "      <td>0.0</td>\n",
       "      <td>0</td>\n",
       "    </tr>\n",
       "    <tr>\n",
       "      <th>3</th>\n",
       "      <td>2011-01-23</td>\n",
       "      <td>0</td>\n",
       "      <td>0.00</td>\n",
       "      <td>0</td>\n",
       "      <td>0</td>\n",
       "      <td>0.00</td>\n",
       "      <td>0</td>\n",
       "      <td>0</td>\n",
       "      <td>0.0</td>\n",
       "      <td>0</td>\n",
       "      <td>...</td>\n",
       "      <td>0</td>\n",
       "      <td>0</td>\n",
       "      <td>0.0</td>\n",
       "      <td>0</td>\n",
       "      <td>5068</td>\n",
       "      <td>2551.56</td>\n",
       "      <td>13409810</td>\n",
       "      <td>0</td>\n",
       "      <td>0.0</td>\n",
       "      <td>0</td>\n",
       "    </tr>\n",
       "    <tr>\n",
       "      <th>4</th>\n",
       "      <td>2011-07-18</td>\n",
       "      <td>0</td>\n",
       "      <td>0.00</td>\n",
       "      <td>0</td>\n",
       "      <td>0</td>\n",
       "      <td>0.00</td>\n",
       "      <td>0</td>\n",
       "      <td>0</td>\n",
       "      <td>0.0</td>\n",
       "      <td>0</td>\n",
       "      <td>...</td>\n",
       "      <td>0</td>\n",
       "      <td>0</td>\n",
       "      <td>0.0</td>\n",
       "      <td>0</td>\n",
       "      <td>9908</td>\n",
       "      <td>26946.80</td>\n",
       "      <td>16266983</td>\n",
       "      <td>0</td>\n",
       "      <td>0.0</td>\n",
       "      <td>0</td>\n",
       "    </tr>\n",
       "    <tr>\n",
       "      <th>...</th>\n",
       "      <td>...</td>\n",
       "      <td>...</td>\n",
       "      <td>...</td>\n",
       "      <td>...</td>\n",
       "      <td>...</td>\n",
       "      <td>...</td>\n",
       "      <td>...</td>\n",
       "      <td>...</td>\n",
       "      <td>...</td>\n",
       "      <td>...</td>\n",
       "      <td>...</td>\n",
       "      <td>...</td>\n",
       "      <td>...</td>\n",
       "      <td>...</td>\n",
       "      <td>...</td>\n",
       "      <td>...</td>\n",
       "      <td>...</td>\n",
       "      <td>...</td>\n",
       "      <td>...</td>\n",
       "      <td>...</td>\n",
       "      <td>...</td>\n",
       "    </tr>\n",
       "    <tr>\n",
       "      <th>300</th>\n",
       "      <td>2011-04-05</td>\n",
       "      <td>0</td>\n",
       "      <td>0.00</td>\n",
       "      <td>0</td>\n",
       "      <td>0</td>\n",
       "      <td>0.00</td>\n",
       "      <td>0</td>\n",
       "      <td>0</td>\n",
       "      <td>0.0</td>\n",
       "      <td>0</td>\n",
       "      <td>...</td>\n",
       "      <td>0</td>\n",
       "      <td>0</td>\n",
       "      <td>0.0</td>\n",
       "      <td>0</td>\n",
       "      <td>9747</td>\n",
       "      <td>3566.91</td>\n",
       "      <td>13171907</td>\n",
       "      <td>0</td>\n",
       "      <td>0.0</td>\n",
       "      <td>0</td>\n",
       "    </tr>\n",
       "    <tr>\n",
       "      <th>301</th>\n",
       "      <td>2011-01-10</td>\n",
       "      <td>96</td>\n",
       "      <td>0.85</td>\n",
       "      <td>12415</td>\n",
       "      <td>0</td>\n",
       "      <td>0.00</td>\n",
       "      <td>0</td>\n",
       "      <td>0</td>\n",
       "      <td>0.0</td>\n",
       "      <td>0</td>\n",
       "      <td>...</td>\n",
       "      <td>0</td>\n",
       "      <td>0</td>\n",
       "      <td>0.0</td>\n",
       "      <td>0</td>\n",
       "      <td>6911</td>\n",
       "      <td>7129.17</td>\n",
       "      <td>9992267</td>\n",
       "      <td>0</td>\n",
       "      <td>0.0</td>\n",
       "      <td>0</td>\n",
       "    </tr>\n",
       "    <tr>\n",
       "      <th>302</th>\n",
       "      <td>2011-01-19</td>\n",
       "      <td>113</td>\n",
       "      <td>36.60</td>\n",
       "      <td>161486</td>\n",
       "      <td>0</td>\n",
       "      <td>0.00</td>\n",
       "      <td>0</td>\n",
       "      <td>0</td>\n",
       "      <td>0.0</td>\n",
       "      <td>0</td>\n",
       "      <td>...</td>\n",
       "      <td>0</td>\n",
       "      <td>0</td>\n",
       "      <td>0.0</td>\n",
       "      <td>0</td>\n",
       "      <td>7802</td>\n",
       "      <td>4142.04</td>\n",
       "      <td>11588370</td>\n",
       "      <td>0</td>\n",
       "      <td>0.0</td>\n",
       "      <td>0</td>\n",
       "    </tr>\n",
       "    <tr>\n",
       "      <th>303</th>\n",
       "      <td>2011-09-27</td>\n",
       "      <td>0</td>\n",
       "      <td>0.00</td>\n",
       "      <td>0</td>\n",
       "      <td>0</td>\n",
       "      <td>0.00</td>\n",
       "      <td>0</td>\n",
       "      <td>0</td>\n",
       "      <td>0.0</td>\n",
       "      <td>0</td>\n",
       "      <td>...</td>\n",
       "      <td>0</td>\n",
       "      <td>0</td>\n",
       "      <td>0.0</td>\n",
       "      <td>0</td>\n",
       "      <td>20279</td>\n",
       "      <td>6573.45</td>\n",
       "      <td>20291612</td>\n",
       "      <td>0</td>\n",
       "      <td>0.0</td>\n",
       "      <td>0</td>\n",
       "    </tr>\n",
       "    <tr>\n",
       "      <th>304</th>\n",
       "      <td>2011-10-27</td>\n",
       "      <td>0</td>\n",
       "      <td>0.00</td>\n",
       "      <td>0</td>\n",
       "      <td>0</td>\n",
       "      <td>0.00</td>\n",
       "      <td>0</td>\n",
       "      <td>0</td>\n",
       "      <td>0.0</td>\n",
       "      <td>0</td>\n",
       "      <td>...</td>\n",
       "      <td>0</td>\n",
       "      <td>0</td>\n",
       "      <td>0.0</td>\n",
       "      <td>0</td>\n",
       "      <td>24255</td>\n",
       "      <td>7378.97</td>\n",
       "      <td>32466633</td>\n",
       "      <td>0</td>\n",
       "      <td>0.0</td>\n",
       "      <td>0</td>\n",
       "    </tr>\n",
       "  </tbody>\n",
       "</table>\n",
       "<p>305 rows × 115 columns</p>\n",
       "</div>"
      ],
      "text/plain": [
       "           date  Australia_sum(Quantity)  Australia_sum(UnitPrice)  \\\n",
       "0    2011-01-30                        0                      0.00   \n",
       "1    2011-05-06                        0                      0.00   \n",
       "2    2011-10-07                        0                      0.00   \n",
       "3    2011-01-23                        0                      0.00   \n",
       "4    2011-07-18                        0                      0.00   \n",
       "..          ...                      ...                       ...   \n",
       "300  2011-04-05                        0                      0.00   \n",
       "301  2011-01-10                       96                      0.85   \n",
       "302  2011-01-19                      113                     36.60   \n",
       "303  2011-09-27                        0                      0.00   \n",
       "304  2011-10-27                        0                      0.00   \n",
       "\n",
       "     Australia_sum(CustomerID)  Austria_sum(Quantity)  Austria_sum(UnitPrice)  \\\n",
       "0                            0                      0                    0.00   \n",
       "1                            0                     42                   58.95   \n",
       "2                            0                      0                    0.00   \n",
       "3                            0                      0                    0.00   \n",
       "4                            0                      0                    0.00   \n",
       "..                         ...                    ...                     ...   \n",
       "300                          0                      0                    0.00   \n",
       "301                      12415                      0                    0.00   \n",
       "302                     161486                      0                    0.00   \n",
       "303                          0                      0                    0.00   \n",
       "304                          0                      0                    0.00   \n",
       "\n",
       "     Austria_sum(CustomerID)  Bahrain_sum(Quantity)  Bahrain_sum(UnitPrice)  \\\n",
       "0                          0                      0                     0.0   \n",
       "1                      74484                      0                     0.0   \n",
       "2                          0                      0                     0.0   \n",
       "3                          0                      0                     0.0   \n",
       "4                          0                      0                     0.0   \n",
       "..                       ...                    ...                     ...   \n",
       "300                        0                      0                     0.0   \n",
       "301                        0                      0                     0.0   \n",
       "302                        0                      0                     0.0   \n",
       "303                        0                      0                     0.0   \n",
       "304                        0                      0                     0.0   \n",
       "\n",
       "     Bahrain_sum(CustomerID)  ...  USA_sum(CustomerID)  \\\n",
       "0                          0  ...                    0   \n",
       "1                          0  ...                    0   \n",
       "2                          0  ...                    0   \n",
       "3                          0  ...                    0   \n",
       "4                          0  ...                    0   \n",
       "..                       ...  ...                  ...   \n",
       "300                        0  ...                    0   \n",
       "301                        0  ...                    0   \n",
       "302                        0  ...                    0   \n",
       "303                        0  ...                    0   \n",
       "304                        0  ...                    0   \n",
       "\n",
       "     United Arab Emirates_sum(Quantity)  United Arab Emirates_sum(UnitPrice)  \\\n",
       "0                                     0                                  0.0   \n",
       "1                                     0                                  0.0   \n",
       "2                                     0                                  0.0   \n",
       "3                                     0                                  0.0   \n",
       "4                                     0                                  0.0   \n",
       "..                                  ...                                  ...   \n",
       "300                                   0                                  0.0   \n",
       "301                                   0                                  0.0   \n",
       "302                                   0                                  0.0   \n",
       "303                                   0                                  0.0   \n",
       "304                                   0                                  0.0   \n",
       "\n",
       "     United Arab Emirates_sum(CustomerID)  United Kingdom_sum(Quantity)  \\\n",
       "0                                       0                          3367   \n",
       "1                                       0                         17404   \n",
       "2                                       0                         25657   \n",
       "3                                       0                          5068   \n",
       "4                                       0                          9908   \n",
       "..                                    ...                           ...   \n",
       "300                                     0                          9747   \n",
       "301                                     0                          6911   \n",
       "302                                     0                          7802   \n",
       "303                                     0                         20279   \n",
       "304                                     0                         24255   \n",
       "\n",
       "     United Kingdom_sum(UnitPrice)  United Kingdom_sum(CustomerID)  \\\n",
       "0                          2321.72                        11334037   \n",
       "1                          6952.63                        18722445   \n",
       "2                         12425.41                        27566889   \n",
       "3                          2551.56                        13409810   \n",
       "4                         26946.80                        16266983   \n",
       "..                             ...                             ...   \n",
       "300                        3566.91                        13171907   \n",
       "301                        7129.17                         9992267   \n",
       "302                        4142.04                        11588370   \n",
       "303                        6573.45                        20291612   \n",
       "304                        7378.97                        32466633   \n",
       "\n",
       "     Unspecified_sum(Quantity)  Unspecified_sum(UnitPrice)  \\\n",
       "0                            0                         0.0   \n",
       "1                            0                         0.0   \n",
       "2                            0                         0.0   \n",
       "3                            0                         0.0   \n",
       "4                            0                         0.0   \n",
       "..                         ...                         ...   \n",
       "300                          0                         0.0   \n",
       "301                          0                         0.0   \n",
       "302                          0                         0.0   \n",
       "303                          0                         0.0   \n",
       "304                          0                         0.0   \n",
       "\n",
       "     Unspecified_sum(CustomerID)  \n",
       "0                              0  \n",
       "1                              0  \n",
       "2                              0  \n",
       "3                              0  \n",
       "4                              0  \n",
       "..                           ...  \n",
       "300                            0  \n",
       "301                            0  \n",
       "302                            0  \n",
       "303                            0  \n",
       "304                            0  \n",
       "\n",
       "[305 rows x 115 columns]"
      ]
     },
     "execution_count": 124,
     "metadata": {},
     "output_type": "execute_result"
    }
   ],
   "source": [
    "pivoted.toPandas()"
   ]
  }
 ],
 "metadata": {
  "kernelspec": {
   "display_name": "Python 3 (ipykernel)",
   "language": "python",
   "name": "python3"
  },
  "language_info": {
   "codemirror_mode": {
    "name": "ipython",
    "version": 3
   },
   "file_extension": ".py",
   "mimetype": "text/x-python",
   "name": "python",
   "nbconvert_exporter": "python",
   "pygments_lexer": "ipython3",
   "version": "3.11.6"
  }
 },
 "nbformat": 4,
 "nbformat_minor": 5
}
