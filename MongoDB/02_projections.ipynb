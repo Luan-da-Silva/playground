{
 "cells": [
  {
   "cell_type": "code",
   "execution_count": 20,
   "id": "a44cc52d-a1ff-4959-a074-688f93fc5193",
   "metadata": {},
   "outputs": [],
   "source": [
    "from pymongo import MongoClient\n",
    "from operator import itemgetter"
   ]
  },
  {
   "cell_type": "code",
   "execution_count": 19,
   "id": "6fd3f53b-ccdd-4046-975c-bfa34fa9028e",
   "metadata": {},
   "outputs": [],
   "source": [
    "client = MongoClient(\"mongodb://localhost:27017\")\n",
    "db = client.db_test"
   ]
  },
  {
   "cell_type": "markdown",
   "id": "80294b8d-fa49-4fc2-bfff-24644b7b4c69",
   "metadata": {},
   "source": [
    "# Projection in MongoDB"
   ]
  },
  {
   "cell_type": "markdown",
   "id": "1a8b88d1-3db4-4f3a-8799-3fa0b074be7e",
   "metadata": {},
   "source": [
    "## Find returns a cursor (iterator)"
   ]
  },
  {
   "cell_type": "code",
   "execution_count": 7,
   "id": "4ca343c3-8385-48ad-ad6e-e972f052713e",
   "metadata": {},
   "outputs": [],
   "source": [
    "# In projections, 1 represent True and 0 False\n",
    "docs = db.laureates.find(filter = {},projection={\"prizes.affiliations\": 1,\n",
    "\"_id\": 0})"
   ]
  },
  {
   "cell_type": "code",
   "execution_count": 4,
   "id": "af9f3ab5-85c7-4cb0-b0fe-2dabb89d8080",
   "metadata": {},
   "outputs": [
    {
     "name": "stdout",
     "output_type": "stream",
     "text": [
      "{'prizes': [{'affiliations': [{'name': 'University of Pennsylvania', 'city': 'Philadelphia, PA', 'country': 'USA'}]}]}\n"
     ]
    }
   ],
   "source": [
    "print(next(docs))"
   ]
  },
  {
   "cell_type": "markdown",
   "id": "e71af8e7-a563-4aca-9e8b-e14a0a11d5ca",
   "metadata": {},
   "source": [
    "# Missing fields"
   ]
  },
  {
   "cell_type": "code",
   "execution_count": 13,
   "id": "0afd27fb-c4c2-4c9b-8a23-db9112b2f92f",
   "metadata": {},
   "outputs": [
    {
     "data": {
      "text/plain": [
       "[{'_id': ObjectId('65550468d1fc86246b056ee7'),\n",
       "  'firstname': 'Comité international de la Croix Rouge (International Committee of the Red Cross)'},\n",
       " {'_id': ObjectId('65550468d1fc86246b056f39'),\n",
       "  'firstname': 'Friends Service Council (The Quakers)'}]"
      ]
     },
     "execution_count": 13,
     "metadata": {},
     "output_type": "execute_result"
    }
   ],
   "source": [
    "# Remember,only projected fields that exist are returned\n",
    "docs = db.laureates.find(filter = {'gender':'org'},\n",
    "                         projection = [\"bornCountry\",\n",
    "                                       \"firstname\"])\n",
    "list(docs)[:2]"
   ]
  },
  {
   "cell_type": "markdown",
   "id": "54447b38-5ad5-4a8e-b37b-4f284e41758e",
   "metadata": {},
   "source": [
    "# Simple aggregation with pure python"
   ]
  },
  {
   "cell_type": "code",
   "execution_count": 16,
   "id": "45a38293-87c2-4de1-8ec2-b0792387d049",
   "metadata": {},
   "outputs": [
    {
     "data": {
      "text/plain": [
       "941"
      ]
     },
     "execution_count": 16,
     "metadata": {},
     "output_type": "execute_result"
    }
   ],
   "source": [
    "docs = db.laureates.find({}, [\"prizes\"])\n",
    "# using comprehension\n",
    "sum([len(doc[\"prizes\"]) for doc in docs])"
   ]
  },
  {
   "cell_type": "code",
   "execution_count": 17,
   "id": "54f15f87-a417-441d-81f9-7a87ab919f16",
   "metadata": {},
   "outputs": [
    {
     "name": "stdout",
     "output_type": "stream",
     "text": [
      "['2018', '2012', '2011', '2014', '2015']\n"
     ]
    }
   ],
   "source": [
    "docs = list(db.prizes.find({\"category\": \"physics\"}, [\"year\"]))\n",
    "print([doc[\"year\"] for doc in docs][:5])"
   ]
  },
  {
   "cell_type": "markdown",
   "id": "aed20e59-d69a-4113-a9fd-505c617aeeb5",
   "metadata": {},
   "source": [
    "## sorting a list with dictionaries"
   ]
  },
  {
   "cell_type": "code",
   "execution_count": 23,
   "id": "127e3e06-78a2-4347-807b-64ff8ad07e05",
   "metadata": {},
   "outputs": [],
   "source": [
    "sorted_docs = sorted(docs, key=itemgetter(\"year\"), reverse = True)"
   ]
  },
  {
   "cell_type": "code",
   "execution_count": 24,
   "id": "3bad145f-9990-4b97-90d8-d2e9458c30a9",
   "metadata": {},
   "outputs": [
    {
     "name": "stdout",
     "output_type": "stream",
     "text": [
      "['2018', '2017', '2016', '2015', '2014']\n"
     ]
    }
   ],
   "source": [
    "print([doc[\"year\"] for doc in sorted_docs][:5])"
   ]
  },
  {
   "cell_type": "markdown",
   "id": "6a6b677b-ff6b-466c-86b8-5cf0f4e967a1",
   "metadata": {},
   "source": [
    "## itemgetter in detail"
   ]
  },
  {
   "cell_type": "code",
   "execution_count": 26,
   "id": "436e87c0-53e7-43ae-8594-01415ed924a8",
   "metadata": {},
   "outputs": [
    {
     "data": {
      "text/plain": [
       "20"
      ]
     },
     "execution_count": 26,
     "metadata": {},
     "output_type": "execute_result"
    }
   ],
   "source": [
    "dic = {'value':20}\n",
    "func = itemgetter('value')\n",
    "func(dic)"
   ]
  },
  {
   "cell_type": "markdown",
   "id": "7e796fdb-e08b-4105-b77b-6e7eaa833541",
   "metadata": {},
   "source": [
    "## sorting a list with dictionaries - controlled example"
   ]
  },
  {
   "cell_type": "code",
   "execution_count": 31,
   "id": "decdd9ae-e19f-4be0-8c63-977dfb6b555f",
   "metadata": {},
   "outputs": [
    {
     "data": {
      "text/plain": [
       "[{'item': 'Nike Air Force 1', 'value': 799.99},\n",
       " {'item': 'Nike Revolution 6 Next Nature', 'value': 249.99}]"
      ]
     },
     "execution_count": 31,
     "metadata": {},
     "output_type": "execute_result"
    }
   ],
   "source": [
    "store = [\n",
    "            {'item':'Nike Revolution 6 Next Nature','value':249.99},\n",
    "            {'item':'Nike Air Force 1','value':799.99}\n",
    "]\n",
    "key = itemgetter('value')\n",
    "sorted_store = sorted(store, key=key, reverse = True)\n",
    "sorted_store"
   ]
  },
  {
   "cell_type": "markdown",
   "id": "de53e48d-23f0-4f88-8d16-7f398077cd6e",
   "metadata": {},
   "source": [
    "# Primary and secondary sorting"
   ]
  },
  {
   "cell_type": "code",
   "execution_count": 32,
   "id": "c3f93621-2344-4d75-b2b7-92394fd7bcfa",
   "metadata": {},
   "outputs": [
    {
     "name": "stdout",
     "output_type": "stream",
     "text": [
      "1967 physics\n",
      "1967 medicine\n",
      "1967 literature\n",
      "1967 chemistry\n",
      "1968 physics\n",
      "1968 peace\n",
      "1968 medicine\n",
      "1968 literature\n",
      "1968 chemistry\n",
      "1969 physics\n",
      "1969 peace\n",
      "1969 medicine\n",
      "1969 literature\n",
      "1969 economics\n",
      "1969 chemistry\n"
     ]
    }
   ],
   "source": [
    "# 1 means ascending and -1 descending\n",
    "for doc in db.prizes.find(\n",
    "    {\"year\": {\"$gt\": \"1966\", \"$lt\": \"1970\"}},\n",
    "    [\"category\", \"year\"],\n",
    "    sort=[(\"year\", 1), (\"category\", -1)]):\n",
    "    print(\"{year} {category}\".format(**doc))"
   ]
  },
  {
   "cell_type": "markdown",
   "id": "d2e41a3c-83c0-4e53-81e0-246b77b39692",
   "metadata": {},
   "source": [
    "## Obs: JavaScript objects retain key order as entered. If this behavior is desired, use [OrderedDict](https://docs.python.org/3/library/collections.html#collections.OrderedDict)"
   ]
  },
  {
   "cell_type": "markdown",
   "id": "9384f739-8568-4539-8f20-12163a3e7868",
   "metadata": {},
   "source": [
    "# MongoDB indexation"
   ]
  },
  {
   "cell_type": "markdown",
   "id": "128c2e11-f519-4bcb-b19d-6f28fe853732",
   "metadata": {},
   "source": [
    "## Before indexation"
   ]
  },
  {
   "cell_type": "code",
   "execution_count": 34,
   "id": "812584e9-7e9a-433e-b11d-bf5f06d915ae",
   "metadata": {},
   "outputs": [
    {
     "name": "stdout",
     "output_type": "stream",
     "text": [
      "1.13 ms ± 144 µs per loop (mean ± std. dev. of 7 runs, 1,000 loops each)\n"
     ]
    }
   ],
   "source": [
    "%%timeit\n",
    "docs = list(db.prizes.find({\"year\": \"1901\"}))"
   ]
  },
  {
   "cell_type": "markdown",
   "id": "b147d463-986f-406d-b24c-3770b130d4cf",
   "metadata": {},
   "source": [
    "## After indexation"
   ]
  },
  {
   "cell_type": "code",
   "execution_count": 35,
   "id": "fc4fbce8-c77b-4971-8a1a-cbf64ecb4c5c",
   "metadata": {},
   "outputs": [
    {
     "data": {
      "text/plain": [
       "'year_1'"
      ]
     },
     "execution_count": 35,
     "metadata": {},
     "output_type": "execute_result"
    }
   ],
   "source": [
    "db.prizes.create_index([(\"year\", 1)])"
   ]
  },
  {
   "cell_type": "code",
   "execution_count": 37,
   "id": "5a60a23c-aeaa-4c5d-8df0-c3245063b058",
   "metadata": {},
   "outputs": [
    {
     "name": "stdout",
     "output_type": "stream",
     "text": [
      "The slowest run took 4.36 times longer than the fastest. This could mean that an intermediate result is being cached.\n",
      "398 µs ± 198 µs per loop (mean ± std. dev. of 7 runs, 1,000 loops each)\n"
     ]
    }
   ],
   "source": [
    "%%timeit\n",
    "docs = list(db.prizes.find({\"year\": \"1901\"}))"
   ]
  },
  {
   "cell_type": "markdown",
   "id": "12a15ea3-a87c-4c22-a916-9ae88d0f7c3c",
   "metadata": {},
   "source": [
    "## Adding multiple indexation"
   ]
  },
  {
   "cell_type": "code",
   "execution_count": 38,
   "id": "1ff8ae30-c010-464a-889a-ec5f0166330a",
   "metadata": {},
   "outputs": [
    {
     "data": {
      "text/plain": [
       "'category_1_year_1'"
      ]
     },
     "execution_count": 38,
     "metadata": {},
     "output_type": "execute_result"
    }
   ],
   "source": [
    "db.prizes.create_index([(\"category\", 1), (\"year\", 1)])"
   ]
  },
  {
   "cell_type": "code",
   "execution_count": 44,
   "id": "3c181eff-f5c8-4dc6-bf9a-22f93453bd9b",
   "metadata": {},
   "outputs": [
    {
     "data": {
      "text/plain": [
       "{'_id': ObjectId('6555048619e46de1de2d02f8'),\n",
       " 'year': '1969',\n",
       " 'category': 'economics',\n",
       " 'laureates': [{'id': '677',\n",
       "   'firstname': 'Ragnar',\n",
       "   'surname': 'Frisch',\n",
       "   'motivation': '\"for having developed and applied dynamic models for the analysis of economic processes\"',\n",
       "   'share': '2'},\n",
       "  {'id': '678',\n",
       "   'firstname': 'Jan',\n",
       "   'surname': 'Tinbergen',\n",
       "   'motivation': '\"for having developed and applied dynamic models for the analysis of economic processes\"',\n",
       "   'share': '2'}]}"
      ]
     },
     "execution_count": 44,
     "metadata": {},
     "output_type": "execute_result"
    }
   ],
   "source": [
    "list(db.prizes.find({\"category\": \"economics\"},sort=[(\"year\", 1)]))[0]\n"
   ]
  },
  {
   "cell_type": "markdown",
   "id": "52882081-7926-47e6-a467-6fc93910647b",
   "metadata": {},
   "source": [
    "## Getting available indexes"
   ]
  },
  {
   "cell_type": "code",
   "execution_count": 45,
   "id": "087c9f97-3920-46b2-b053-56c8a6b39e16",
   "metadata": {},
   "outputs": [
    {
     "data": {
      "text/plain": [
       "{'_id_': {'v': 2, 'key': [('_id', 1)]}}"
      ]
     },
     "execution_count": 45,
     "metadata": {},
     "output_type": "execute_result"
    }
   ],
   "source": [
    "db.laureates.index_information()"
   ]
  },
  {
   "cell_type": "markdown",
   "id": "ee435eeb-0254-4dfa-80d4-4873df3a2ae2",
   "metadata": {},
   "source": [
    "# Understanding the queries"
   ]
  },
  {
   "cell_type": "code",
   "execution_count": 46,
   "id": "eb7aa682-1257-4372-a5c2-573a5c41b7a4",
   "metadata": {},
   "outputs": [
    {
     "data": {
      "text/plain": [
       "{'explainVersion': '2',\n",
       " 'queryPlanner': {'namespace': 'db_test.laureates',\n",
       "  'indexFilterSet': False,\n",
       "  'parsedQuery': {'firstname': {'$eq': 'Marie'}},\n",
       "  'queryHash': 'D45B05FF',\n",
       "  'planCacheKey': '966CA941',\n",
       "  'maxIndexedOrSolutionsReached': False,\n",
       "  'maxIndexedAndSolutionsReached': False,\n",
       "  'maxScansToExplodeReached': False,\n",
       "  'winningPlan': {'queryPlan': {'stage': 'PROJECTION_SIMPLE',\n",
       "    'planNodeId': 2,\n",
       "    'transformBy': {'bornCountry': True, '_id': False},\n",
       "    'inputStage': {'stage': 'COLLSCAN',\n",
       "     'planNodeId': 1,\n",
       "     'filter': {'firstname': {'$eq': 'Marie'}},\n",
       "     'direction': 'forward'}},\n",
       "   'slotBasedPlan': {'slots': '$$RESULT=s8 env: { s3 = 1700420515627 (NOW), s2 = Nothing (SEARCH_META), s7 = \"Marie\", s1 = TimeZoneDatabase(Europe/Berlin...America/Porto_Acre) (timeZoneDB) }',\n",
       "    'stages': '[2] mkbson s8 s5 [bornCountry] keep [] true false \\n[1] filter {traverseF(s4, lambda(l1.0) { ((l1.0 == s7) ?: false) }, false)} \\n[1] scan s5 s6 none none none none lowPriority [s4 = firstname] @\"551c8fbd-6f06-44f1-8f33-44a4d4f4d0c4\" true false '}},\n",
       "  'rejectedPlans': []},\n",
       " 'executionStats': {'executionSuccess': True,\n",
       "  'nReturned': 1,\n",
       "  'executionTimeMillis': 0,\n",
       "  'totalKeysExamined': 0,\n",
       "  'totalDocsExamined': 934,\n",
       "  'executionStages': {'stage': 'mkbson',\n",
       "   'planNodeId': 2,\n",
       "   'nReturned': 1,\n",
       "   'executionTimeMillisEstimate': 0,\n",
       "   'opens': 1,\n",
       "   'closes': 1,\n",
       "   'saveState': 0,\n",
       "   'restoreState': 0,\n",
       "   'isEOF': 1,\n",
       "   'objSlot': 8,\n",
       "   'rootSlot': 5,\n",
       "   'fieldBehavior': 'keep',\n",
       "   'fields': ['bornCountry'],\n",
       "   'projectFields': [],\n",
       "   'projectSlots': [],\n",
       "   'forceNewObject': True,\n",
       "   'returnOldObject': False,\n",
       "   'inputStage': {'stage': 'filter',\n",
       "    'planNodeId': 1,\n",
       "    'nReturned': 1,\n",
       "    'executionTimeMillisEstimate': 0,\n",
       "    'opens': 1,\n",
       "    'closes': 1,\n",
       "    'saveState': 0,\n",
       "    'restoreState': 0,\n",
       "    'isEOF': 1,\n",
       "    'numTested': 934,\n",
       "    'filter': 'traverseF(s4, lambda(l1.0) { ((l1.0 == s7) ?: false) }, false) ',\n",
       "    'inputStage': {'stage': 'scan',\n",
       "     'planNodeId': 1,\n",
       "     'nReturned': 934,\n",
       "     'executionTimeMillisEstimate': 0,\n",
       "     'opens': 1,\n",
       "     'closes': 1,\n",
       "     'saveState': 0,\n",
       "     'restoreState': 0,\n",
       "     'isEOF': 1,\n",
       "     'numReads': 934,\n",
       "     'recordSlot': 5,\n",
       "     'recordIdSlot': 6,\n",
       "     'fields': ['firstname'],\n",
       "     'outputSlots': [4]}}},\n",
       "  'allPlansExecution': []},\n",
       " 'command': {'find': 'laureates',\n",
       "  'filter': {'firstname': 'Marie'},\n",
       "  'projection': {'bornCountry': 1, '_id': 0},\n",
       "  '$db': 'db_test'},\n",
       " 'serverInfo': {'host': '0e1327f89cb7',\n",
       "  'port': 27017,\n",
       "  'version': '7.0.3',\n",
       "  'gitVersion': 'b96efb7e0cf6134d5938de8a94c37cec3f22cff4'},\n",
       " 'serverParameters': {'internalQueryFacetBufferSizeBytes': 104857600,\n",
       "  'internalQueryFacetMaxOutputDocSizeBytes': 104857600,\n",
       "  'internalLookupStageIntermediateDocumentMaxSizeBytes': 104857600,\n",
       "  'internalDocumentSourceGroupMaxMemoryBytes': 104857600,\n",
       "  'internalQueryMaxBlockingSortMemoryUsageBytes': 104857600,\n",
       "  'internalQueryProhibitBlockingMergeOnMongoS': 0,\n",
       "  'internalQueryMaxAddToSetBytes': 104857600,\n",
       "  'internalDocumentSourceSetWindowFieldsMaxMemoryBytes': 104857600,\n",
       "  'internalQueryFrameworkControl': 'trySbeEngine'},\n",
       " 'ok': 1.0}"
      ]
     },
     "execution_count": 46,
     "metadata": {},
     "output_type": "execute_result"
    }
   ],
   "source": [
    "db.laureates.find(\n",
    "{\"firstname\": \"Marie\"}, {\"bornCountry\": 1, \"_id\": 0}).explain()"
   ]
  },
  {
   "cell_type": "markdown",
   "id": "00fa46c1-bf87-485a-ac61-bd27f89c5d0f",
   "metadata": {},
   "source": [
    "# Adding limits"
   ]
  },
  {
   "cell_type": "code",
   "execution_count": 47,
   "id": "d55ad027-53be-4ae5-9e4a-ffebaddfc08b",
   "metadata": {},
   "outputs": [
    {
     "name": "stdout",
     "output_type": "stream",
     "text": [
      "2013 chemistry\n",
      "2013 medicine\n",
      "2013 economics\n"
     ]
    }
   ],
   "source": [
    "for doc in db.prizes.find({\"laureates.share\": \"3\"}, limit=3):\n",
    "    print(\"{year} {category}\".format(**doc))"
   ]
  },
  {
   "cell_type": "markdown",
   "id": "284b638b-d0e4-4d41-a3b2-4775b60cfb02",
   "metadata": {},
   "source": [
    "# Skipping and paging through the results"
   ]
  },
  {
   "cell_type": "code",
   "execution_count": 49,
   "id": "aca83b31-c6c0-4fa8-ab0b-6f3fc85781bf",
   "metadata": {},
   "outputs": [
    {
     "name": "stdout",
     "output_type": "stream",
     "text": [
      "2013 chemistry\n",
      "2013 medicine\n",
      "2013 economics\n"
     ]
    }
   ],
   "source": [
    "for doc in db.prizes.find({\"laureates.share\": \"3\"}, limit=3):\n",
    "    print(\"{year} {category}\".format(**doc))"
   ]
  },
  {
   "cell_type": "code",
   "execution_count": 51,
   "id": "08a78fb3-a94f-4b72-b2d8-ee2458114126",
   "metadata": {},
   "outputs": [
    {
     "name": "stdout",
     "output_type": "stream",
     "text": [
      "2014 physics\n",
      "2016 chemistry\n",
      "2015 chemistry\n"
     ]
    }
   ],
   "source": [
    "for doc in db.prizes.find({\"laureates.share\": \"3\"}, skip=6, limit=3):\n",
    "    print(\"{year} {category}\".format(**doc))"
   ]
  },
  {
   "cell_type": "code",
   "execution_count": 52,
   "id": "939f6bee-a051-4c81-8814-c15ffa7bf700",
   "metadata": {},
   "outputs": [
    {
     "name": "stdout",
     "output_type": "stream",
     "text": [
      "2011 peace\n",
      "2010 chemistry\n",
      "2008 chemistry\n"
     ]
    }
   ],
   "source": [
    "for doc in db.prizes.find({\"laureates.share\": \"3\"}, skip=3, limit=3):\n",
    "    print(\"{year} {category}\".format(**doc))"
   ]
  },
  {
   "cell_type": "markdown",
   "id": "e93c6709-59a5-498d-a94e-f0ed768ccefd",
   "metadata": {},
   "source": [
    "# Using cursor methods for {sort, skip, limit}"
   ]
  },
  {
   "cell_type": "code",
   "execution_count": 54,
   "id": "5e305ae4-0b1b-49a9-be96-a78fdbc7571b",
   "metadata": {},
   "outputs": [
    {
     "name": "stdout",
     "output_type": "stream",
     "text": [
      "2013 chemistry\n",
      "2013 medicine\n",
      "2013 economics\n"
     ]
    }
   ],
   "source": [
    "for doc in db.prizes.find({\"laureates.share\": \"3\"}).limit(3):\n",
    "    print(\"{year} {category}\".format(**doc))"
   ]
  },
  {
   "cell_type": "code",
   "execution_count": 55,
   "id": "7f6721a9-bbda-4b5a-b0af-81eec0d6e350",
   "metadata": {},
   "outputs": [
    {
     "name": "stdout",
     "output_type": "stream",
     "text": [
      "2011 peace\n",
      "2010 chemistry\n",
      "2008 chemistry\n"
     ]
    }
   ],
   "source": [
    "for doc in (db.prizes.find({\"laureates.share\": \"3\"}).skip(3).limit(3)):\n",
    "    print(\"{year} {category}\".format(**doc))"
   ]
  },
  {
   "cell_type": "code",
   "execution_count": 58,
   "id": "60a2bd80-0879-4fa0-9e8b-c03394368209",
   "metadata": {},
   "outputs": [
    {
     "name": "stdout",
     "output_type": "stream",
     "text": [
      "1954 medicine\n",
      "1956 physics\n",
      "1956 medicine\n"
     ]
    }
   ],
   "source": [
    "for doc in (db.prizes.find({\"laureates.share\": \"3\"})\\\n",
    ".sort([(\"year\", 1)])\\\n",
    ".skip(3)\\\n",
    ".limit(3)):\n",
    "    print(\"{year} {category}\".format(**doc))"
   ]
  },
  {
   "cell_type": "markdown",
   "id": "85b1ecc9-7a0b-48e1-97fa-3e1deea28638",
   "metadata": {},
   "source": [
    "# More examples"
   ]
  },
  {
   "cell_type": "code",
   "execution_count": 60,
   "id": "e00919ac-86d1-4605-ab63-5f3303aeebbd",
   "metadata": {},
   "outputs": [],
   "source": [
    "cursor1 = (db.prizes.find({\"laureates.share\": \"3\"}).skip(3).limit(3)\n",
    ".sort([(\"year\", 1)]))\n",
    "cursor2 = (db.prizes.find({\"laureates.share\": \"3\"}).skip(3).limit(3)\n",
    ".sort(\"year\", 1))\n",
    "cursor3 = (db.prizes.find({\"laureates.share\": \"3\"}).skip(3).limit(3)\n",
    ".sort(\"year\"))"
   ]
  },
  {
   "cell_type": "code",
   "execution_count": 61,
   "id": "19507f44-990b-446d-ad8a-cd73a5b772ea",
   "metadata": {},
   "outputs": [
    {
     "name": "stdout",
     "output_type": "stream",
     "text": [
      "1954 medicine\n",
      "1956 physics\n",
      "1956 medicine\n"
     ]
    }
   ],
   "source": [
    "docs = list(cursor1)\n",
    "assert docs == list(cursor2) == list(cursor3)\n",
    "for doc in docs:\n",
    "    print(\"{year} {category}\".format(**doc))"
   ]
  },
  {
   "cell_type": "code",
   "execution_count": 62,
   "id": "56e72d3a-8deb-43d0-ab14-ac9f5dcd2eb6",
   "metadata": {},
   "outputs": [
    {
     "name": "stdout",
     "output_type": "stream",
     "text": [
      "1954 medicine\n"
     ]
    }
   ],
   "source": [
    "doc = db.prizes.find_one({\"laureates.share\": \"3\"},\n",
    "skip=3, sort=[(\"year\", 1)])\n",
    "print(\"{year} {category}\".format(**doc))"
   ]
  },
  {
   "cell_type": "markdown",
   "id": "c9ae51c6-0253-47dc-959e-a8cd4285537c",
   "metadata": {},
   "source": [
    "# Exercises"
   ]
  },
  {
   "cell_type": "markdown",
   "id": "83c8ecad-a062-4a49-acd5-607b464141bb",
   "metadata": {},
   "source": [
    "1) Given the query:\n",
    "`db.laureates.find_one({\"prizes\": {\"$elemMatch\": {\"category\": \"physics\", \"year\": \"1903\"}}})\n",
    "`, build a projection that will fetch ONLY the laureates' full names and prize share info? I encourage you to experiment with the console and re-familiarize yourself with the structure of laureate collection documents."
   ]
  },
  {
   "cell_type": "markdown",
   "id": "bce21ffa-9b2c-4890-9c88-5f878825867f",
   "metadata": {},
   "source": [
    "2) Collect the full names of laureates whose initials are \"G.S.\""
   ]
  },
  {
   "cell_type": "markdown",
   "id": "302d93b7-ea66-4a27-be64-a7cacb95c098",
   "metadata": {},
   "source": [
    "3) Check if the sum of the shares sum up to 100%"
   ]
  },
  {
   "cell_type": "markdown",
   "id": "2a984eeb-c9a3-44ea-a2d7-a946a86b13db",
   "metadata": {},
   "source": [
    "4) For each document, return the fields in the following order year: surname1, surname2,... and surnamen"
   ]
  },
  {
   "cell_type": "markdown",
   "id": "2fa395dc-38f4-481d-9251-4ebd08f46b7c",
   "metadata": {},
   "source": [
    "5) Find the first five prizes with one or more laureates sharing 1/4 of the prize. Project our prize category, year, and laureates' motivations."
   ]
  },
  {
   "cell_type": "markdown",
   "id": "22189db0-d833-45cc-9874-438cee455cc8",
   "metadata": {},
   "source": [
    "6) You and a friend want to set up a website that gives information on Nobel laureates with awards relating to particle phenomena. You want to present these laureates one page at a time, with three laureates per page. You decide to order the laureates chronologically by award year. When there is a \"tie\" in ordering (i.e. two laureates were awarded prizes in the same year), you want to order them alphabetically by surname."
   ]
  },
  {
   "cell_type": "code",
   "execution_count": null,
   "id": "818ffc15-edb1-4609-b9a4-002a7f0b8293",
   "metadata": {},
   "outputs": [],
   "source": []
  }
 ],
 "metadata": {
  "kernelspec": {
   "display_name": "Python 3 (ipykernel)",
   "language": "python",
   "name": "python3"
  },
  "language_info": {
   "codemirror_mode": {
    "name": "ipython",
    "version": 3
   },
   "file_extension": ".py",
   "mimetype": "text/x-python",
   "name": "python",
   "nbconvert_exporter": "python",
   "pygments_lexer": "ipython3",
   "version": "3.11.6"
  }
 },
 "nbformat": 4,
 "nbformat_minor": 5
}
