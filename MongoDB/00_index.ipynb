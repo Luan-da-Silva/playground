{
 "cells": [
  {
   "cell_type": "markdown",
   "metadata": {},
   "source": [
    "## Notebooks\n",
    "1. [Getting started](01_00_getting_started.ipynb)\n",
    "2. [Getting started - answers](01_01_answers.ipynb)\n",
    "3. [Distinct, Find and more](02_00_distinct_find_and_more.ipynb)\n",
    "4. [Distinct, Find and more - answers](02_01_answers_data.ipynb)\n",
    "5. [Projections](03_00_projections.ipynb)\n",
    "6. [Projections - answers](03_01_answers.ipynb)\n",
    "7. [Aggregations and Pipelines](04_00_aggregation_and_pipelines.ipynb)"
   ]
  },
  {
   "cell_type": "markdown",
   "metadata": {},
   "source": []
  }
 ],
 "metadata": {
  "language_info": {
   "name": "python"
  }
 },
 "nbformat": 4,
 "nbformat_minor": 2
}
