{
 "cells": [
  {
   "cell_type": "code",
   "execution_count": 11,
   "id": "f4703a04-3a5c-4864-a85e-6ac5dd9f7b44",
   "metadata": {},
   "outputs": [],
   "source": [
    "from operator import itemgetter"
   ]
  },
  {
   "cell_type": "code",
   "execution_count": 1,
   "id": "83afc268-cdad-48c0-8a6f-a72db3cacb5c",
   "metadata": {},
   "outputs": [],
   "source": [
    "from pymongo import MongoClient"
   ]
  },
  {
   "cell_type": "code",
   "execution_count": 14,
   "id": "1fd3492c-2425-4035-9f4a-b71576f8d001",
   "metadata": {},
   "outputs": [],
   "source": [
    "from pprint import pprint"
   ]
  },
  {
   "cell_type": "code",
   "execution_count": 3,
   "id": "b25dc1f6-1193-40f2-83e5-9e554c9f4945",
   "metadata": {},
   "outputs": [
    {
     "data": {
      "text/plain": [
       "MongoClient(host=['localhost:27017'], document_class=dict, tz_aware=False, connect=True)"
      ]
     },
     "execution_count": 3,
     "metadata": {},
     "output_type": "execute_result"
    }
   ],
   "source": [
    "client = MongoClient(\"mongodb://localhost:27017\")\n",
    "client"
   ]
  },
  {
   "cell_type": "code",
   "execution_count": 4,
   "id": "76f90ca3-df49-4476-8087-d2fe2e7ea2a1",
   "metadata": {},
   "outputs": [],
   "source": [
    "db = client.db_test"
   ]
  },
  {
   "cell_type": "markdown",
   "id": "24d13947-f4d5-4096-95ac-b524213d9230",
   "metadata": {},
   "source": [
    "# Question 1"
   ]
  },
  {
   "cell_type": "code",
   "execution_count": 8,
   "id": "8ea9801d-049f-4805-ada7-2eb278bf47c8",
   "metadata": {},
   "outputs": [
    {
     "data": {
      "text/plain": [
       "{'firstname': 'Antoine Henri',\n",
       " 'surname': 'Becquerel',\n",
       " 'prizes': [{'share': '2'}]}"
      ]
     },
     "execution_count": 8,
     "metadata": {},
     "output_type": "execute_result"
    }
   ],
   "source": [
    "db.laureates.find_one({\"prizes\": {\"$elemMatch\": {\"category\": \"physics\", \"year\": \"1903\"}}},\n",
    "                      {\"firstname\":1,\"surname\":1,\"prizes.share\":1,\"_id\":0})"
   ]
  },
  {
   "cell_type": "markdown",
   "id": "d618c074-0f0e-4267-9ab7-6bc434c39bfb",
   "metadata": {},
   "source": [
    "# Question2"
   ]
  },
  {
   "cell_type": "code",
   "execution_count": 9,
   "id": "3174a16a-692c-4ba6-b2d7-3b989b89b73e",
   "metadata": {},
   "outputs": [
    {
     "name": "stdout",
     "output_type": "stream",
     "text": [
      "['George D. Snell', 'Gustav Stresemann', 'Glenn Theodore Seaborg', 'George J. Stigler', 'George E. Smith', 'George F. Smoot', 'George P. Smith', 'George Bernard Shaw', 'Giorgos Seferis']\n"
     ]
    }
   ],
   "source": [
    "# Use projection to select only firstname and surname\n",
    "docs = db.laureates.find(\n",
    "       filter= {\"firstname\" : {\"$regex\" : \"^G\"},\n",
    "                \"surname\" : {\"$regex\" : \"^S\"}  },\n",
    "   projection= [\"firstname\", \"surname\"]  )\n",
    "\n",
    "# Iterate over docs and concatenate first name and surname\n",
    "full_names = [doc[\"firstname\"] + \" \" + doc[\"surname\"]   for doc in docs]\n",
    "\n",
    "# Print the full names\n",
    "print(full_names)"
   ]
  },
  {
   "cell_type": "markdown",
   "id": "eed52e0c-64de-454a-9e6e-4146dfa8d17d",
   "metadata": {},
   "source": [
    "# Question 3"
   ]
  },
  {
   "cell_type": "code",
   "execution_count": 10,
   "id": "1159fd3a-6342-4493-83a2-cd43a1eb4c58",
   "metadata": {},
   "outputs": [],
   "source": [
    "# Save documents, projecting out laureates share\n",
    "prizes = db.prizes.find({}, ['laureates.share'])\n",
    "\n",
    "# Iterate over prizes\n",
    "for prize in prizes:\n",
    "    # Initialize total share\n",
    "    total_share = 0\n",
    "    \n",
    "    # Iterate over laureates for the prize\n",
    "    for laureate in prize[\"laureates\"]:\n",
    "        # add the share of the laureate to total_share\n",
    "        total_share += 1 / float(laureate['share'])\n",
    "        \n",
    "    # Print the total share    \n",
    "    assert total_share == 1.0    "
   ]
  },
  {
   "cell_type": "markdown",
   "id": "56ed24d9-8c4f-4d1a-a4eb-bb0dbe8f50f1",
   "metadata": {},
   "source": [
    "# Question 4"
   ]
  },
  {
   "cell_type": "code",
   "execution_count": 12,
   "id": "092c48e7-6e7d-471f-a9f0-a93ec4fa1ec1",
   "metadata": {},
   "outputs": [
    {
     "name": "stdout",
     "output_type": "stream",
     "text": [
      "1901: Röntgen\n",
      "1902: Lorentz and Zeeman\n",
      "1903: Becquerel and Curie and Curie, née Sklodowska\n",
      "1904: (John William Strutt)\n",
      "1905: von Lenard\n",
      "1906: Thomson\n",
      "1907: Michelson\n",
      "1908: Lippmann\n",
      "1909: Braun and Marconi\n",
      "1910: van der Waals\n",
      "1911: Wien\n",
      "1912: Dalén\n",
      "1913: Kamerlingh Onnes\n",
      "1914: von Laue\n",
      "1915: Bragg and Bragg\n",
      "1917: Barkla\n",
      "1918: Planck\n",
      "1919: Stark\n",
      "1920: Guillaume\n",
      "1921: Einstein\n",
      "1922: Bohr\n",
      "1923: Millikan\n",
      "1924: Siegbahn\n",
      "1925: Franck and Hertz\n",
      "1926: Perrin\n",
      "1927: Compton and Wilson\n",
      "1928: Richardson\n",
      "1929: de Broglie\n",
      "1930: Raman\n",
      "1932: Heisenberg\n",
      "1933: Dirac and Schrödinger\n",
      "1935: Chadwick\n",
      "1936: Anderson and Hess\n",
      "1937: Davisson and Thomson\n",
      "1938: Fermi\n",
      "1939: Lawrence\n",
      "1943: Stern\n",
      "1944: Rabi\n",
      "1945: Pauli\n",
      "1946: Bridgman\n",
      "1947: Appleton\n",
      "1948: Blackett\n",
      "1949: Yukawa\n",
      "1950: Powell\n",
      "1951: Cockcroft and Walton\n",
      "1952: Bloch and Purcell\n",
      "1953: Zernike\n",
      "1954: Born and Bothe\n",
      "1955: Kusch and Lamb\n",
      "1956: Bardeen and Brattain and Shockley\n",
      "1957: Lee and Yang\n",
      "1958: Cherenkov and Frank and Tamm\n",
      "1959: Chamberlain and Segrè\n",
      "1960: Glaser\n",
      "1961: Hofstadter and Mössbauer\n",
      "1962: Landau\n",
      "1963: Goeppert Mayer and Jensen and Wigner\n",
      "1964: Basov and Prokhorov and Townes\n",
      "1965: Feynman and Schwinger and Tomonaga\n",
      "1966: Kastler\n",
      "1967: Bethe\n",
      "1968: Alvarez\n",
      "1969: Gell-Mann\n",
      "1970: Alfvén and Néel\n",
      "1971: Gabor\n",
      "1972: Bardeen and Cooper and Schrieffer\n",
      "1973: Esaki and Giaever and Josephson\n",
      "1974: Hewish and Ryle\n",
      "1975: Bohr and Mottelson and Rainwater\n",
      "1976: Richter and Ting\n",
      "1977: Anderson and Mott and van Vleck\n",
      "1978: Kapitsa and Penzias and Wilson\n",
      "1979: Glashow and Salam and Weinberg\n",
      "1980: Cronin and Fitch\n",
      "1981: Bloembergen and Schawlow and Siegbahn\n",
      "1982: Wilson\n",
      "1983: Chandrasekhar and Fowler\n",
      "1984: Rubbia and van der Meer\n",
      "1985: von Klitzing\n",
      "1986: Binnig and Rohrer and Ruska\n",
      "1987: Bednorz and Müller\n",
      "1988: Lederman and Schwartz and Steinberger\n",
      "1989: Dehmelt and Paul and Ramsey\n",
      "1990: Friedman and Kendall and Taylor\n",
      "1991: de Gennes\n",
      "1992: Charpak\n",
      "1993: Hulse and Taylor Jr.\n",
      "1994: Brockhouse and Shull\n",
      "1995: Perl and Reines\n",
      "1996: Lee and Osheroff and Richardson\n",
      "1997: Chu and Cohen-Tannoudji and Phillips\n",
      "1998: Laughlin and Störmer and Tsui\n",
      "1999: 't Hooft and Veltman\n",
      "2000: Alferov and Kilby and Kroemer\n",
      "2001: Cornell and Ketterle and Wieman\n",
      "2002: Davis Jr. and Giacconi and Koshiba\n",
      "2003: Abrikosov and Ginzburg and Leggett\n",
      "2004: Gross and Politzer and Wilczek\n",
      "2005: Glauber and Hall and Hänsch\n",
      "2006: Mather and Smoot\n",
      "2007: Fert and Grünberg\n",
      "2008: Kobayashi and Maskawa and Nambu\n",
      "2009: Boyle and Kao and Smith\n",
      "2010: Geim and Novoselov\n",
      "2011: Perlmutter and Riess and Schmidt\n",
      "2012: Haroche and Wineland\n",
      "2013: Englert and Higgs\n",
      "2014: Akasaki and Amano and Nakamura\n",
      "2015: Kajita and McDonald\n",
      "2016: Haldane and Kosterlitz and Thouless\n",
      "2017: Barish and Thorne and Weiss\n",
      "2018: Ashkin and Mourou and Strickland\n"
     ]
    }
   ],
   "source": [
    "def all_laureates(prize):  \n",
    "  # sort the laureates by surname\n",
    "  sorted_laureates = sorted(prize[\"laureates\"], key=itemgetter(\"surname\"))\n",
    "  \n",
    "  # extract surnames\n",
    "  surnames = [laureate[\"surname\"] for laureate in sorted_laureates]\n",
    "  \n",
    "  # concatenate surnames separated with \" and \" \n",
    "  all_names = \" and \".join(surnames)\n",
    "  \n",
    "  return all_names\n",
    "\n",
    "# find physics prizes, project year and name, and sort by year\n",
    "docs = db.prizes.find(\n",
    "           filter= {\"category\": \"physics\"}, \n",
    "           projection= [\"year\", \"laureates.firstname\", \"laureates.surname\"], \n",
    "           sort= [(\"year\", 1)])\n",
    "\n",
    "# print the year and laureate names (from all_laureates)\n",
    "for doc in docs:\n",
    "  print(\"{year}: {names}\".format(year=doc['year'], names=all_laureates(doc)))"
   ]
  },
  {
   "cell_type": "markdown",
   "id": "8e744488-2da1-4b4c-86a6-013df580d417",
   "metadata": {},
   "source": [
    "# Question 5"
   ]
  },
  {
   "cell_type": "code",
   "execution_count": 15,
   "id": "02a1a5d9-479a-450f-8bde-2efb116a356e",
   "metadata": {},
   "outputs": [
    {
     "name": "stdout",
     "output_type": "stream",
     "text": [
      "[{'_id': ObjectId('6555048619e46de1de2d03ca'),\n",
      "  'category': 'physics',\n",
      "  'laureates': [{'motivation': '\"in recognition of the extraordinary services '\n",
      "                               'he has rendered by his discovery of '\n",
      "                               'spontaneous radioactivity\"'},\n",
      "                {'motivation': '\"in recognition of the extraordinary services '\n",
      "                               'they have rendered by their joint researches '\n",
      "                               'on the radiation phenomena discovered by '\n",
      "                               'Professor Henri Becquerel\"'},\n",
      "                {'motivation': '\"in recognition of the extraordinary services '\n",
      "                               'they have rendered by their joint researches '\n",
      "                               'on the radiation phenomena discovered by '\n",
      "                               'Professor Henri Becquerel\"'}],\n",
      "  'year': '1903'},\n",
      " {'_id': ObjectId('6555048619e46de1de2d0374'),\n",
      "  'category': 'chemistry',\n",
      "  'laureates': [{'motivation': '\"for his discovery that enzymes can be '\n",
      "                               'crystallized\"'},\n",
      "                {'motivation': '\"for their preparation of enzymes and virus '\n",
      "                               'proteins in a pure form\"'},\n",
      "                {'motivation': '\"for their preparation of enzymes and virus '\n",
      "                               'proteins in a pure form\"'}],\n",
      "  'year': '1946'},\n",
      " {'_id': ObjectId('6555048619e46de1de2d0349'),\n",
      "  'category': 'medicine',\n",
      "  'laureates': [{'motivation': '\"for their discovery of the course of the '\n",
      "                               'catalytic conversion of glycogen\"'},\n",
      "                {'motivation': '\"for their discovery of the course of the '\n",
      "                               'catalytic conversion of glycogen\"'},\n",
      "                {'motivation': '\"for his discovery of the part played by the '\n",
      "                               'hormone of the anterior pituitary lobe in the '\n",
      "                               'metabolism of sugar\"'}],\n",
      "  'year': '1947'},\n",
      " {'_id': ObjectId('6555048619e46de1de2d0337'),\n",
      "  'category': 'medicine',\n",
      "  'laureates': [{'motivation': '\"for their discovery that genes act by '\n",
      "                               'regulating definite chemical events\"'},\n",
      "                {'motivation': '\"for their discovery that genes act by '\n",
      "                               'regulating definite chemical events\"'},\n",
      "                {'motivation': '\"for his discoveries concerning genetic '\n",
      "                               'recombination and the organization of the '\n",
      "                               'genetic material of bacteria\"'}],\n",
      "  'year': '1958'},\n",
      " {'_id': ObjectId('6555048619e46de1de2d030a'),\n",
      "  'category': 'physics',\n",
      "  'laureates': [{'motivation': '\"for his contributions to the theory of the '\n",
      "                               'atomic nucleus and the elementary particles, '\n",
      "                               'particularly through the discovery and '\n",
      "                               'application of fundamental symmetry '\n",
      "                               'principles\"'},\n",
      "                {'motivation': '\"for their discoveries concerning nuclear '\n",
      "                               'shell structure\"'},\n",
      "                {'motivation': '\"for their discoveries concerning nuclear '\n",
      "                               'shell structure\"'}],\n",
      "  'year': '1963'}]\n"
     ]
    }
   ],
   "source": [
    "# Fetch prizes with quarter-share laureate(s)\n",
    "filter_ = {'laureates.share': '4'}\n",
    "\n",
    "# Save the list of field names\n",
    "projection = ['category', 'year', 'laureates.motivation']\n",
    "\n",
    "# Save a cursor to yield the first five prizes\n",
    "cursor = db.prizes.find(filter_, projection).sort('year').limit(5)\n",
    "pprint(list(cursor))"
   ]
  },
  {
   "cell_type": "markdown",
   "id": "85c13a51-043e-437c-9384-b5dffa305e8b",
   "metadata": {},
   "source": [
    "# Question 6"
   ]
  },
  {
   "cell_type": "code",
   "execution_count": 16,
   "id": "1939071d-b1b6-4685-a35d-712beb637ce5",
   "metadata": {},
   "outputs": [
    {
     "name": "stdout",
     "output_type": "stream",
     "text": [
      "[{'_id': ObjectId('65550468d1fc86246b056e08'),\n",
      "  'firstname': 'Charles Thomson Rees',\n",
      "  'prizes': [{'affiliations': [{'city': 'Cambridge',\n",
      "                                'country': 'United Kingdom',\n",
      "                                'name': 'University of Cambridge'}],\n",
      "              'category': 'physics',\n",
      "              'motivation': '\"for his method of making the paths of '\n",
      "                            'electrically charged particles visible by '\n",
      "                            'condensation of vapour\"',\n",
      "              'share': '2',\n",
      "              'year': '1927'}],\n",
      "  'surname': 'Wilson'},\n",
      " {'_id': ObjectId('65550468d1fc86246b056e22'),\n",
      "  'firstname': 'Sir John Douglas',\n",
      "  'prizes': [{'affiliations': [{'city': 'Harwell, Berkshire',\n",
      "                                'country': 'United Kingdom',\n",
      "                                'name': 'Atomic Energy Research '\n",
      "                                        'Establishment'}],\n",
      "              'category': 'physics',\n",
      "              'motivation': '\"for their pioneer work on the transmutation of '\n",
      "                            'atomic nuclei by artificially accelerated atomic '\n",
      "                            'particles\"',\n",
      "              'share': '2',\n",
      "              'year': '1951'}],\n",
      "  'surname': 'Cockcroft'},\n",
      " {'_id': ObjectId('65550468d1fc86246b056e23'),\n",
      "  'firstname': 'Ernest Thomas Sinton',\n",
      "  'prizes': [{'affiliations': [{'city': 'Dublin',\n",
      "                                'country': 'Ireland',\n",
      "                                'name': 'Trinity College'}],\n",
      "              'category': 'physics',\n",
      "              'motivation': '\"for their pioneer work on the transmutation of '\n",
      "                            'atomic nuclei by artificially accelerated atomic '\n",
      "                            'particles\"',\n",
      "              'share': '2',\n",
      "              'year': '1951'}],\n",
      "  'surname': 'Walton'}]\n"
     ]
    }
   ],
   "source": [
    "def get_particle_laureates(page_number=1, page_size=3):\n",
    "    if page_number < 1 or not isinstance(page_number, int):\n",
    "        raise ValueError(\"Pages are natural numbers (starting from 1).\")\n",
    "    particle_laureates = list(\n",
    "        db.laureates.find(\n",
    "            {'prizes.motivation': {'$regex': \"particle\"}},\n",
    "            [\"firstname\", \"surname\", \"prizes\"])\n",
    "        .sort([('prizes.year', 1), ('surname', 1)])\n",
    "        .skip(page_size * (page_number - 1))\n",
    "        .limit(page_size))\n",
    "    return particle_laureates\n",
    "\n",
    "# Collect and save the first nine pages\n",
    "pages = [get_particle_laureates(page_number=page) for page in range(1,9)]\n",
    "pprint(pages[0])"
   ]
  },
  {
   "cell_type": "code",
   "execution_count": null,
   "id": "271cf6b8-4bf1-4849-bf98-f6bb7b93a0ae",
   "metadata": {},
   "outputs": [],
   "source": []
  }
 ],
 "metadata": {
  "kernelspec": {
   "display_name": "Python 3 (ipykernel)",
   "language": "python",
   "name": "python3"
  },
  "language_info": {
   "codemirror_mode": {
    "name": "ipython",
    "version": 3
   },
   "file_extension": ".py",
   "mimetype": "text/x-python",
   "name": "python",
   "nbconvert_exporter": "python",
   "pygments_lexer": "ipython3",
   "version": "3.11.6"
  }
 },
 "nbformat": 4,
 "nbformat_minor": 5
}
