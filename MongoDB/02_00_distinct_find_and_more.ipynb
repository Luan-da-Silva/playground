{
 "cells": [
  {
   "cell_type": "code",
   "execution_count": 1,
   "id": "221a0dd0-19cc-4af2-80fa-5def0865afb0",
   "metadata": {},
   "outputs": [],
   "source": [
    "from pymongo import MongoClient"
   ]
  },
  {
   "cell_type": "code",
   "execution_count": 2,
   "id": "df46a7ae-51b1-4936-90ca-7bd051be07b7",
   "metadata": {},
   "outputs": [
    {
     "data": {
      "text/plain": [
       "MongoClient(host=['localhost:27017'], document_class=dict, tz_aware=False, connect=True)"
      ]
     },
     "execution_count": 2,
     "metadata": {},
     "output_type": "execute_result"
    }
   ],
   "source": [
    "client = MongoClient(\"mongodb://localhost:27017\")\n",
    "client"
   ]
  },
  {
   "cell_type": "code",
   "execution_count": 3,
   "id": "d16789b3-c2fa-4296-8e42-acd606823517",
   "metadata": {},
   "outputs": [],
   "source": [
    "assert 'db_test' in client.list_database_names()"
   ]
  },
  {
   "cell_type": "markdown",
   "id": "bacc59e5-5183-41f2-a2b8-5ab4945c3a4f",
   "metadata": {},
   "source": [
    "# Getting the database"
   ]
  },
  {
   "cell_type": "code",
   "execution_count": 4,
   "id": "5ba65301-0296-45d8-a865-a277f0523f4b",
   "metadata": {},
   "outputs": [],
   "source": [
    "db = client.db_test"
   ]
  },
  {
   "cell_type": "markdown",
   "id": "fb5a04f4-3848-4a2a-80a1-a1fe2dd7ca5f",
   "metadata": {},
   "source": [
    "# Remembering the fields of laureates"
   ]
  },
  {
   "cell_type": "code",
   "execution_count": 5,
   "id": "63277a3a-2108-49e2-bb7f-6f1aa2a1d082",
   "metadata": {},
   "outputs": [
    {
     "data": {
      "text/plain": [
       "{'_id': ObjectId('65550468d1fc86246b056dae'),\n",
       " 'id': '96',\n",
       " 'firstname': 'John Robert',\n",
       " 'surname': 'Schrieffer',\n",
       " 'born': '1931-05-31',\n",
       " 'died': '0000-00-00',\n",
       " 'bornCountry': 'USA',\n",
       " 'bornCountryCode': 'US',\n",
       " 'bornCity': 'Oak Park, IL',\n",
       " 'gender': 'male',\n",
       " 'prizes': [{'year': '1972',\n",
       "   'category': 'physics',\n",
       "   'share': '3',\n",
       "   'motivation': '\"for their jointly developed theory of superconductivity, usually called the BCS-theory\"',\n",
       "   'affiliations': [{'name': 'University of Pennsylvania',\n",
       "     'city': 'Philadelphia, PA',\n",
       "     'country': 'USA'}]}]}"
      ]
     },
     "execution_count": 5,
     "metadata": {},
     "output_type": "execute_result"
    }
   ],
   "source": [
    "db.laureates.find_one()"
   ]
  },
  {
   "cell_type": "markdown",
   "id": "e45c0e5b-23e6-4fd7-90eb-d270b6c1d45e",
   "metadata": {},
   "source": [
    "# Distinct use cases"
   ]
  },
  {
   "cell_type": "markdown",
   "id": "e5f4888c-4a52-4c63-9006-ebb54649d88b",
   "metadata": {},
   "source": [
    "## A simple case"
   ]
  },
  {
   "cell_type": "code",
   "execution_count": 6,
   "id": "a44bd82f-8557-48c4-b05d-06cc836fd9a7",
   "metadata": {},
   "outputs": [
    {
     "data": {
      "text/plain": [
       "['female', 'male', 'org']"
      ]
     },
     "execution_count": 6,
     "metadata": {},
     "output_type": "execute_result"
    }
   ],
   "source": [
    "db.laureates.distinct(\"gender\")"
   ]
  },
  {
   "cell_type": "markdown",
   "id": "de0266c4-c499-4371-ac07-7a84753bc82e",
   "metadata": {},
   "source": [
    "## Distinct with dot notation"
   ]
  },
  {
   "cell_type": "code",
   "execution_count": 7,
   "id": "8df29afa-a04b-4d63-9534-7007c1a3eb09",
   "metadata": {},
   "outputs": [
    {
     "data": {
      "text/plain": [
       "['chemistry', 'economics', 'literature', 'medicine', 'peace', 'physics']"
      ]
     },
     "execution_count": 7,
     "metadata": {},
     "output_type": "execute_result"
    }
   ],
   "source": [
    "db.laureates.distinct(\"prizes.category\")"
   ]
  },
  {
   "cell_type": "markdown",
   "id": "ebb523a5-5ddc-4981-98e1-8ca9ac28475d",
   "metadata": {},
   "source": [
    "# Distinct with filters"
   ]
  },
  {
   "cell_type": "markdown",
   "id": "ab03af33-9c5c-482a-ac8f-e60cf61103c7",
   "metadata": {},
   "source": [
    "## Find which cateogories have prize share in laureates collection"
   ]
  },
  {
   "cell_type": "code",
   "execution_count": 8,
   "id": "09ab9098-7a89-43e8-924b-13d895f4f681",
   "metadata": {},
   "outputs": [
    {
     "data": {
      "text/plain": [
       "['chemistry', 'economics', 'literature', 'medicine', 'peace', 'physics']"
      ]
     },
     "execution_count": 8,
     "metadata": {},
     "output_type": "execute_result"
    }
   ],
   "source": [
    "db.laureates.distinct(\"prizes.category\")"
   ]
  },
  {
   "cell_type": "markdown",
   "id": "5cf60c41-6d49-4a50-94e9-1c60f98c244c",
   "metadata": {},
   "source": [
    "## Find the shares in the prizes collection"
   ]
  },
  {
   "cell_type": "code",
   "execution_count": 9,
   "id": "5a659873-6892-4450-9636-e3a06b6dede1",
   "metadata": {},
   "outputs": [
    {
     "data": {
      "text/plain": [
       "['chemistry', 'medicine', 'physics']"
      ]
     },
     "execution_count": 9,
     "metadata": {},
     "output_type": "execute_result"
    }
   ],
   "source": [
    "db.prizes.distinct(\"category\", {\"laureates.share\": \"4\"})"
   ]
  },
  {
   "cell_type": "markdown",
   "id": "ddf18ef5-0375-4256-9c5b-18de17b2c7b3",
   "metadata": {},
   "source": [
    "# Find prize categories with multi-winners"
   ]
  },
  {
   "cell_type": "markdown",
   "id": "d552a0de-30eb-40e2-be79-a7fd057d5333",
   "metadata": {},
   "source": [
    "## Checking if there is multi-winners"
   ]
  },
  {
   "cell_type": "code",
   "execution_count": 10,
   "id": "3730d574-6c0c-471a-ab5a-91988bd1a92f",
   "metadata": {},
   "outputs": [
    {
     "data": {
      "text/plain": [
       "6"
      ]
     },
     "execution_count": 10,
     "metadata": {},
     "output_type": "execute_result"
    }
   ],
   "source": [
    "# prizes.1 is the second position of the prize array\n",
    "db.laureates.count_documents({\"prizes.1\": {\"$exists\": True}})"
   ]
  },
  {
   "cell_type": "markdown",
   "id": "cad2aef0-770b-4e62-9169-a37ddcb94efe",
   "metadata": {},
   "source": [
    "## Finding the fields"
   ]
  },
  {
   "cell_type": "code",
   "execution_count": 11,
   "id": "ee4468f4-0bc9-4556-9991-dd41713f61a8",
   "metadata": {},
   "outputs": [
    {
     "data": {
      "text/plain": [
       "['chemistry', 'peace', 'physics']"
      ]
     },
     "execution_count": 11,
     "metadata": {},
     "output_type": "execute_result"
    }
   ],
   "source": [
    "db.laureates.distinct(\n",
    "\"prizes.category\", {\"prizes.1\": {\"$exists\": True}})"
   ]
  },
  {
   "cell_type": "markdown",
   "id": "fdf8f779-a246-484a-bc30-801d1a7ad4b3",
   "metadata": {},
   "source": [
    "# Array fields and operators"
   ]
  },
  {
   "cell_type": "markdown",
   "id": "08ee2c2b-853c-4c2b-b683-bbe78b7f8c23",
   "metadata": {},
   "source": [
    "## Finding how many laureates have in physics, chemistry and medicine"
   ]
  },
  {
   "cell_type": "code",
   "execution_count": 12,
   "id": "49589e6b-e3dd-49db-9896-d6bf0ade43a2",
   "metadata": {},
   "outputs": [
    {
     "data": {
      "text/plain": [
       "604"
      ]
     },
     "execution_count": 12,
     "metadata": {},
     "output_type": "execute_result"
    }
   ],
   "source": [
    "db.laureates.count_documents({\n",
    "    'prizes.category': {\n",
    "    '$in': ['physics','chemistry','medicine']\n",
    "}\n",
    "})"
   ]
  },
  {
   "cell_type": "markdown",
   "id": "3fd31044-01e1-4963-a43f-50d9797ecd47",
   "metadata": {},
   "source": [
    "## Finding the complement"
   ]
  },
  {
   "cell_type": "code",
   "execution_count": 13,
   "id": "a0d15dac-0060-41e8-a260-ebc3b22885de",
   "metadata": {},
   "outputs": [
    {
     "data": {
      "text/plain": [
       "330"
      ]
     },
     "execution_count": 13,
     "metadata": {},
     "output_type": "execute_result"
    }
   ],
   "source": [
    "db.laureates.count_documents({\n",
    "    'prizes.category': {\n",
    "    '$nin': ['physics','chemistry','medicine']\n",
    "}\n",
    "})"
   ]
  },
  {
   "cell_type": "markdown",
   "id": "6b767a3e-d097-4943-99e0-f287f4df178b",
   "metadata": {},
   "source": [
    "# More complex queries with $elemMatch"
   ]
  },
  {
   "cell_type": "code",
   "execution_count": 14,
   "id": "616b24a7-cdf4-449f-a16f-c482809c910a",
   "metadata": {},
   "outputs": [
    {
     "data": {
      "text/plain": [
       "47"
      ]
     },
     "execution_count": 14,
     "metadata": {},
     "output_type": "execute_result"
    }
   ],
   "source": [
    "# Finding single winners in physics\n",
    "filter_dict = {\"prizes\": \n",
    "               {\"$elemMatch\":\n",
    "                    {\"category\": \"physics\",\n",
    "                     \"share\": \"1\"}\n",
    "               }\n",
    "              }\n",
    "db.laureates.count_documents(filter_dict)"
   ]
  },
  {
   "cell_type": "code",
   "execution_count": 15,
   "id": "c589fc52-3c12-47bf-851c-d716714d9af4",
   "metadata": {},
   "outputs": [
    {
     "data": {
      "text/plain": [
       "162"
      ]
     },
     "execution_count": 15,
     "metadata": {},
     "output_type": "execute_result"
    }
   ],
   "source": [
    "# finding multi-winners in physics\n",
    "filter_dict = {\"prizes\": \n",
    "               {\"$elemMatch\":\n",
    "                    {\"category\": \"physics\",\n",
    "                     \"share\": {\"$gt\":\"1\"}}\n",
    "               }\n",
    "              }\n",
    "db.laureates.count_documents(filter_dict)"
   ]
  },
  {
   "cell_type": "code",
   "execution_count": 16,
   "id": "30db4772-55e9-49cc-a0e1-293fa8d894ca",
   "metadata": {},
   "outputs": [
    {
     "data": {
      "text/plain": [
       "29"
      ]
     },
     "execution_count": 16,
     "metadata": {},
     "output_type": "execute_result"
    }
   ],
   "source": [
    "# Finding single winners before 1945\n",
    "filter_dict = {\"prizes\": \n",
    "               {\"$elemMatch\":\n",
    "                    {\"category\": \"physics\",\n",
    "                     \"share\": \"1\",\n",
    "                     \"year\": {\"$lt\":\"1945\"}}\n",
    "               }\n",
    "              }\n",
    "db.laureates.count_documents(filter_dict)"
   ]
  },
  {
   "cell_type": "markdown",
   "id": "cb3ecb27-4dad-4597-866f-61e441fc9b8c",
   "metadata": {},
   "source": [
    "# Even more complex filters with regex"
   ]
  },
  {
   "cell_type": "markdown",
   "id": "ddb5ab66-57c7-479f-b809-40ce1066b661",
   "metadata": {},
   "source": [
    "## Finding how many Curie has in the laureates collection"
   ]
  },
  {
   "cell_type": "code",
   "execution_count": 17,
   "id": "38c9dcbe-9954-493e-b9e8-7342e43935a3",
   "metadata": {},
   "outputs": [
    {
     "data": {
      "text/plain": [
       "3"
      ]
     },
     "execution_count": 17,
     "metadata": {},
     "output_type": "execute_result"
    }
   ],
   "source": [
    "db.laureates.count_documents({\"surname\": {'$regex': 'Curie'}})"
   ]
  },
  {
   "cell_type": "markdown",
   "id": "610d61f1-7b0a-496e-a4e4-93ea60f4dcf4",
   "metadata": {},
   "source": [
    "# Finding the names"
   ]
  },
  {
   "cell_type": "code",
   "execution_count": 18,
   "id": "8abb2e31-82df-4d62-b224-d64f8524114c",
   "metadata": {},
   "outputs": [
    {
     "data": {
      "text/plain": [
       "['Irène', 'Pierre', 'Marie']"
      ]
     },
     "execution_count": 18,
     "metadata": {},
     "output_type": "execute_result"
    }
   ],
   "source": [
    "[doc['firstname'] for doc in db.laureates.find({\"surname\": {'$regex': 'Curie'}})]"
   ]
  },
  {
   "cell_type": "markdown",
   "id": "c945754d-60e9-497e-9525-e319a38f649a",
   "metadata": {},
   "source": [
    "# Finding bornCountry subleties in Poland"
   ]
  },
  {
   "cell_type": "code",
   "execution_count": 19,
   "id": "ec75c152-4e50-4d83-8920-54f34aac0ebf",
   "metadata": {},
   "outputs": [
    {
     "data": {
      "text/plain": [
       "['Austria-Hungary (now Poland)',\n",
       " 'Free City of Danzig (now Poland)',\n",
       " 'German-occupied Poland (now Poland)',\n",
       " 'Germany (now Poland)',\n",
       " 'Poland',\n",
       " 'Poland (now Belarus)',\n",
       " 'Poland (now Lithuania)',\n",
       " 'Poland (now Ukraine)',\n",
       " 'Prussia (now Poland)',\n",
       " 'Russian Empire (now Poland)']"
      ]
     },
     "execution_count": 19,
     "metadata": {},
     "output_type": "execute_result"
    }
   ],
   "source": [
    "case_sensitive = db.laureates.distinct(\"bornCountry\",{\"bornCountry\": {\"$regex\": \"Poland\"}})\n",
    "case_sensitive"
   ]
  },
  {
   "cell_type": "markdown",
   "id": "7c6a1e56-96ae-4548-8a42-868936f7ca55",
   "metadata": {},
   "source": [
    "## Using case insensitive regex"
   ]
  },
  {
   "cell_type": "code",
   "execution_count": 20,
   "id": "5318ede3-252d-4d57-80a6-7d7d66a682af",
   "metadata": {},
   "outputs": [],
   "source": [
    "case_insensitive = db.laureates.distinct(\n",
    "\"bornCountry\",\n",
    "{\"bornCountry\": {\"$regex\": \"poland\", \"$options\": \"i\"}})\n",
    "assert set(case_sensitive) == set(case_insensitive)"
   ]
  },
  {
   "cell_type": "markdown",
   "id": "12f78e47-7f2c-465e-8706-8a64a3378ecb",
   "metadata": {},
   "source": [
    "## Regex alternatives with BSON and re"
   ]
  },
  {
   "cell_type": "code",
   "execution_count": 21,
   "id": "a42abc19-1ebf-46c7-81a5-7071f05e519d",
   "metadata": {},
   "outputs": [
    {
     "data": {
      "text/plain": [
       "['Austria-Hungary (now Poland)',\n",
       " 'Free City of Danzig (now Poland)',\n",
       " 'German-occupied Poland (now Poland)',\n",
       " 'Germany (now Poland)',\n",
       " 'Poland',\n",
       " 'Poland (now Belarus)',\n",
       " 'Poland (now Lithuania)',\n",
       " 'Poland (now Ukraine)',\n",
       " 'Prussia (now Poland)',\n",
       " 'Russian Empire (now Poland)']"
      ]
     },
     "execution_count": 21,
     "metadata": {},
     "output_type": "execute_result"
    }
   ],
   "source": [
    "from bson.regex import Regex\n",
    "db.laureates.distinct(\"bornCountry\",\n",
    "{\"bornCountry\": Regex(\"poland\", \"i\")})"
   ]
  },
  {
   "cell_type": "code",
   "execution_count": 22,
   "id": "bc33ffdb-66a6-41c5-affb-b7a013c035d9",
   "metadata": {},
   "outputs": [
    {
     "data": {
      "text/plain": [
       "['Austria-Hungary (now Poland)',\n",
       " 'Free City of Danzig (now Poland)',\n",
       " 'German-occupied Poland (now Poland)',\n",
       " 'Germany (now Poland)',\n",
       " 'Poland',\n",
       " 'Poland (now Belarus)',\n",
       " 'Poland (now Lithuania)',\n",
       " 'Poland (now Ukraine)',\n",
       " 'Prussia (now Poland)',\n",
       " 'Russian Empire (now Poland)']"
      ]
     },
     "execution_count": 22,
     "metadata": {},
     "output_type": "execute_result"
    }
   ],
   "source": [
    "import re\n",
    "db.laureates.distinct(\"bornCountry\",\n",
    "{\"bornCountry\": re.compile(\"poland\", re.I)})"
   ]
  },
  {
   "cell_type": "markdown",
   "id": "026ff511-d5b8-4bae-8db3-978ae0967217",
   "metadata": {},
   "source": [
    "# Basic regex"
   ]
  },
  {
   "cell_type": "markdown",
   "id": "42149f76-8f2e-4df8-b4a0-1d82f93346bf",
   "metadata": {},
   "source": [
    "## Beginning (^)"
   ]
  },
  {
   "cell_type": "code",
   "execution_count": 23,
   "id": "a2e3e053-118d-4869-91b8-ecae37593814",
   "metadata": {},
   "outputs": [
    {
     "data": {
      "text/plain": [
       "['Poland',\n",
       " 'Poland (now Belarus)',\n",
       " 'Poland (now Lithuania)',\n",
       " 'Poland (now Ukraine)']"
      ]
     },
     "execution_count": 23,
     "metadata": {},
     "output_type": "execute_result"
    }
   ],
   "source": [
    "db.laureates.distinct(\"bornCountry\",{\"bornCountry\": {\"$regex\": \"^Poland\"}})"
   ]
  },
  {
   "cell_type": "markdown",
   "id": "c779a4e1-879d-4bb0-b854-6dcef7266c4a",
   "metadata": {},
   "source": [
    "## Escaped characters: enter \" \\ \""
   ]
  },
  {
   "cell_type": "code",
   "execution_count": 25,
   "id": "675f6a49-85e3-4ee6-974b-5777c31a757f",
   "metadata": {},
   "outputs": [
    {
     "data": {
      "text/plain": [
       "['Poland (now Belarus)', 'Poland (now Lithuania)', 'Poland (now Ukraine)']"
      ]
     },
     "execution_count": 25,
     "metadata": {},
     "output_type": "execute_result"
    }
   ],
   "source": [
    "db.laureates.distinct(\"bornCountry\",\n",
    "                      {'bornCountry': \n",
    "                       {'$regex': \n",
    "                        '^Poland \\(now'\n",
    "                       }\n",
    "                      })\n"
   ]
  },
  {
   "cell_type": "markdown",
   "id": "544fd23c-40f8-4b14-a14f-34466eaa7eea",
   "metadata": {},
   "source": [
    "## Matching the end of the string with $"
   ]
  },
  {
   "cell_type": "code",
   "execution_count": 27,
   "id": "b13f63ef-cdd6-4195-ac02-11a83f255f98",
   "metadata": {},
   "outputs": [
    {
     "data": {
      "text/plain": [
       "['Austria-Hungary (now Poland)',\n",
       " 'Free City of Danzig (now Poland)',\n",
       " 'German-occupied Poland (now Poland)',\n",
       " 'Germany (now Poland)',\n",
       " 'Prussia (now Poland)',\n",
       " 'Russian Empire (now Poland)']"
      ]
     },
     "execution_count": 27,
     "metadata": {},
     "output_type": "execute_result"
    }
   ],
   "source": [
    "db.laureates.distinct(\"bornCountry\", {'bornCountry': {'$regex': \"now Poland\\)$\"}})"
   ]
  },
  {
   "cell_type": "markdown",
   "id": "735733d2-7b47-4574-bc9c-9e182bbf46dd",
   "metadata": {},
   "source": [
    "# Exercises"
   ]
  },
  {
   "cell_type": "markdown",
   "id": "5cc9b122-9029-48cf-8553-e457ec5da686",
   "metadata": {},
   "source": [
    "1) What expression asserts that the distinct Nobel Prize categories cataloged by the \"prizes\" collection are the same as those cataloged by the \"laureates\"? "
   ]
  },
  {
   "cell_type": "markdown",
   "id": "4cc3adbf-4f82-4dfe-96cf-4dd58fa2b78f",
   "metadata": {},
   "source": [
    "2) There are some recorded countries of death (\"diedCountry\") that do not appear as a country of birth (\"bornCountry\") for laureates. One such country is \"East Germany\".Return a set of all such countries as countries."
   ]
  },
  {
   "cell_type": "markdown",
   "id": "26f7fac7-db32-4f09-9a62-0bdd13413cf2",
   "metadata": {},
   "source": [
    "3) Determine the number of distinct countries recorded as part of an affiliation for laureates' prizes. Save this as count."
   ]
  },
  {
   "cell_type": "markdown",
   "id": "e6072128-4b5a-46ce-aaf7-2700fee6114f",
   "metadata": {},
   "source": [
    "4) In which countries have USA-born laureates had affiliations for their prizes?"
   ]
  },
  {
   "cell_type": "markdown",
   "id": "236643ac-8813-43ee-b7a0-47d1ba921736",
   "metadata": {},
   "source": [
    "5)\n",
    "- Save a filter document criteria that, when passed to db.prizes.distinct, returns all prize categories shared by three or more laureates. That is, \"laureates.2\" must exist for such documents.\n",
    "- Save these prize categories as a Python set called triple_play_categories.\n",
    "Confirm via an assertion that \"literature\" is the only prize category with no prizes shared by three or more laureates."
   ]
  },
  {
   "cell_type": "markdown",
   "id": "690b2704-dcbe-42e1-9e05-3a55c618924e",
   "metadata": {},
   "source": [
    "6) What is the approximate ratio of the number of laureates who won an unshared ({\"share\": \"1\"}) prize in physics after World War II ({\"year\": {\"$gte\": \"1945\"}}) to the number of laureates who won a shared prize in physics after World War II?"
   ]
  },
  {
   "cell_type": "markdown",
   "id": "b55cf00f-e004-4c08-ba00-0d9cb2642a05",
   "metadata": {},
   "source": [
    "7) What is this ratio for prize categories other than physics, chemistry, and medicine?"
   ]
  },
  {
   "cell_type": "markdown",
   "id": "f965c479-0211-4bb1-8510-33617258be83",
   "metadata": {},
   "source": [
    "8) What is this ratio for prize categories other than physics, chemistry, and medicine?"
   ]
  },
  {
   "cell_type": "markdown",
   "id": "c06d21a7-019d-4e5a-bbc9-3f810a52d913",
   "metadata": {},
   "source": [
    "9) There are two laureates with Berkeley, California as a prize affiliation city that have the initials G.S. - Glenn Seaborg and George Smoot. How many laureates in total have a first name beginning with \"G\" and a surname beginning with \"S\"?"
   ]
  },
  {
   "cell_type": "markdown",
   "id": "d4c92788-f3fe-4139-9f24-f283d68bd7cb",
   "metadata": {},
   "source": [
    "10) Just as we saw with Poland, there are laureates who were born somewhere that was in Germany at the time but is now not, and others born somewhere that was not in Germany at the time but now is. Find them all"
   ]
  },
  {
   "cell_type": "markdown",
   "id": "0c225c23-47c0-4582-9e78-024bd3d6e8c1",
   "metadata": {},
   "source": [
    "11) Three people shared a Nobel prize \"for their researches on semiconductors and their discovery of the transistor effect\". We can filter on \"transistor\" as a substring of a laureate's \"prizes.motivation\" field value to find these laureates."
   ]
  },
  {
   "cell_type": "code",
   "execution_count": null,
   "id": "7a540aba-5830-43b0-ae14-469a9ece44c2",
   "metadata": {},
   "outputs": [],
   "source": []
  }
 ],
 "metadata": {
  "kernelspec": {
   "display_name": "Python 3 (ipykernel)",
   "language": "python",
   "name": "python3"
  },
  "language_info": {
   "codemirror_mode": {
    "name": "ipython",
    "version": 3
   },
   "file_extension": ".py",
   "mimetype": "text/x-python",
   "name": "python",
   "nbconvert_exporter": "python",
   "pygments_lexer": "ipython3",
   "version": "3.11.6"
  }
 },
 "nbformat": 4,
 "nbformat_minor": 5
}
