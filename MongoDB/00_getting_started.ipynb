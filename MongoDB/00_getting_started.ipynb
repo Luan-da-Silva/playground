{
 "cells": [
  {
   "cell_type": "code",
   "execution_count": 1,
   "id": "0f249859-20b1-4370-80c5-fabf354ca6a1",
   "metadata": {},
   "outputs": [],
   "source": [
    "#!pip install pymongo"
   ]
  },
  {
   "cell_type": "code",
   "execution_count": 2,
   "id": "de7585c6-99f3-4ca8-8cb3-b02e02494c0b",
   "metadata": {},
   "outputs": [],
   "source": [
    "from pymongo import MongoClient"
   ]
  },
  {
   "cell_type": "code",
   "execution_count": 3,
   "id": "fb901205-f5cf-4c6f-88dc-d72e04638ae8",
   "metadata": {},
   "outputs": [
    {
     "data": {
      "text/plain": [
       "MongoClient(host=['localhost:27017'], document_class=dict, tz_aware=False, connect=True)"
      ]
     },
     "execution_count": 3,
     "metadata": {},
     "output_type": "execute_result"
    }
   ],
   "source": [
    "client = MongoClient(\"mongodb://localhost:27017\")\n",
    "client"
   ]
  },
  {
   "cell_type": "markdown",
   "id": "da9fed65-64f7-403d-9d30-b6adb77579ca",
   "metadata": {},
   "source": [
    "# Listing Database names"
   ]
  },
  {
   "cell_type": "code",
   "execution_count": 4,
   "id": "fd3dd72b-6b0c-4eeb-b3b5-2a88ba9e7077",
   "metadata": {},
   "outputs": [
    {
     "name": "stdout",
     "output_type": "stream",
     "text": [
      "['admin', 'config', 'db_test', 'local']\n"
     ]
    }
   ],
   "source": [
    "print(client.list_database_names())"
   ]
  },
  {
   "cell_type": "markdown",
   "id": "81d9c9db-1bd3-47cb-ae46-e1f586c65451",
   "metadata": {},
   "source": [
    "# Using as a method"
   ]
  },
  {
   "cell_type": "code",
   "execution_count": 5,
   "id": "d5fb20b1-828e-4628-af02-26e8998afb01",
   "metadata": {},
   "outputs": [
    {
     "data": {
      "text/plain": [
       "Database(MongoClient(host=['localhost:27017'], document_class=dict, tz_aware=False, connect=True), 'db_test')"
      ]
     },
     "execution_count": 5,
     "metadata": {},
     "output_type": "execute_result"
    }
   ],
   "source": [
    "db = client.db_test\n",
    "db"
   ]
  },
  {
   "cell_type": "markdown",
   "id": "0b50345f-548d-46ac-93e1-dd14934c54fb",
   "metadata": {},
   "source": [
    "# Using the \"dictionary\" mode"
   ]
  },
  {
   "cell_type": "code",
   "execution_count": 6,
   "id": "f729ff71-31bf-4db9-9683-07efd0fcf01f",
   "metadata": {},
   "outputs": [
    {
     "data": {
      "text/plain": [
       "Database(MongoClient(host=['localhost:27017'], document_class=dict, tz_aware=False, connect=True), 'db_test')"
      ]
     },
     "execution_count": 6,
     "metadata": {},
     "output_type": "execute_result"
    }
   ],
   "source": [
    "client['db_test']"
   ]
  },
  {
   "cell_type": "markdown",
   "id": "7fbc0b5c-bed5-4f83-ac1d-285b84bd8dc6",
   "metadata": {},
   "source": [
    "# Listing the collections"
   ]
  },
  {
   "cell_type": "code",
   "execution_count": 7,
   "id": "6e91df17-b449-43eb-ab9b-2fee36ccd2fa",
   "metadata": {},
   "outputs": [
    {
     "data": {
      "text/plain": [
       "['laureates', 'prizes']"
      ]
     },
     "execution_count": 7,
     "metadata": {},
     "output_type": "execute_result"
    }
   ],
   "source": [
    "client.db_test.list_collection_names()"
   ]
  },
  {
   "cell_type": "markdown",
   "id": "4327b8bf-7056-4a36-9b2d-bd0ed1277c44",
   "metadata": {},
   "source": [
    "# Getting the collections"
   ]
  },
  {
   "cell_type": "code",
   "execution_count": 8,
   "id": "712f588a-acf4-4852-87a0-abe046c6f7ed",
   "metadata": {},
   "outputs": [],
   "source": [
    "laureates_collection = db[\"laureates\"]\n",
    "prize_collection = db['prizes']"
   ]
  },
  {
   "cell_type": "markdown",
   "id": "f72eb851-90ab-4fc8-a0e7-cf31895e12c3",
   "metadata": {},
   "source": [
    "# Counting the number of registers"
   ]
  },
  {
   "cell_type": "code",
   "execution_count": 9,
   "id": "2b996c53-04b5-466f-9a60-5fe4b1533b74",
   "metadata": {},
   "outputs": [],
   "source": [
    "filter_dict = {}"
   ]
  },
  {
   "cell_type": "code",
   "execution_count": 10,
   "id": "546d0021-0df1-4126-8c2d-195a0997c859",
   "metadata": {},
   "outputs": [
    {
     "data": {
      "text/plain": [
       "934"
      ]
     },
     "execution_count": 10,
     "metadata": {},
     "output_type": "execute_result"
    }
   ],
   "source": [
    "laureates_collection.count_documents(filter_dict)"
   ]
  },
  {
   "cell_type": "code",
   "execution_count": 11,
   "id": "b1e69272-8cb4-46bc-ae7e-0b27fae58ead",
   "metadata": {},
   "outputs": [
    {
     "data": {
      "text/plain": [
       "590"
      ]
     },
     "execution_count": 11,
     "metadata": {},
     "output_type": "execute_result"
    }
   ],
   "source": [
    "prize_collection.count_documents(filter_dict)"
   ]
  },
  {
   "cell_type": "markdown",
   "id": "1c36476e-b8c7-4ff1-9d95-99cb260330b5",
   "metadata": {},
   "source": [
    "# Getting just one document"
   ]
  },
  {
   "cell_type": "code",
   "execution_count": 12,
   "id": "c043f1e4-d542-474c-a028-e7b80da7f86d",
   "metadata": {},
   "outputs": [
    {
     "data": {
      "text/plain": [
       "{'_id': ObjectId('65550468d1fc86246b056dae'),\n",
       " 'id': '96',\n",
       " 'firstname': 'John Robert',\n",
       " 'surname': 'Schrieffer',\n",
       " 'born': '1931-05-31',\n",
       " 'died': '0000-00-00',\n",
       " 'bornCountry': 'USA',\n",
       " 'bornCountryCode': 'US',\n",
       " 'bornCity': 'Oak Park, IL',\n",
       " 'gender': 'male',\n",
       " 'prizes': [{'year': '1972',\n",
       "   'category': 'physics',\n",
       "   'share': '3',\n",
       "   'motivation': '\"for their jointly developed theory of superconductivity, usually called the BCS-theory\"',\n",
       "   'affiliations': [{'name': 'University of Pennsylvania',\n",
       "     'city': 'Philadelphia, PA',\n",
       "     'country': 'USA'}]}]}"
      ]
     },
     "execution_count": 12,
     "metadata": {},
     "output_type": "execute_result"
    }
   ],
   "source": [
    "laureates_collection.find_one(filter_dict)"
   ]
  },
  {
   "cell_type": "code",
   "execution_count": 13,
   "id": "5ea11e8e-cd8f-45da-a389-51431b94f19b",
   "metadata": {},
   "outputs": [
    {
     "data": {
      "text/plain": [
       "{'_id': ObjectId('6555048619e46de1de2d01d3'),\n",
       " 'year': '2018',\n",
       " 'category': 'medicine',\n",
       " 'laureates': [{'id': '958',\n",
       "   'firstname': 'James P.',\n",
       "   'surname': 'Allison',\n",
       "   'motivation': '\"for their discovery of cancer therapy by inhibition of negative immune regulation\"',\n",
       "   'share': '2'},\n",
       "  {'id': '959',\n",
       "   'firstname': 'Tasuku',\n",
       "   'surname': 'Honjo',\n",
       "   'motivation': '\"for their discovery of cancer therapy by inhibition of negative immune regulation\"',\n",
       "   'share': '2'}]}"
      ]
     },
     "execution_count": 13,
     "metadata": {},
     "output_type": "execute_result"
    }
   ],
   "source": [
    "prize_collection.find_one(filter_dict)"
   ]
  },
  {
   "cell_type": "markdown",
   "id": "e07cc962-6061-451c-ad41-91bb313e0047",
   "metadata": {},
   "source": [
    "# Getting the documents fields"
   ]
  },
  {
   "cell_type": "code",
   "execution_count": 14,
   "id": "ae8addc9-7b6f-4320-aa8d-9dfb42f46cc7",
   "metadata": {},
   "outputs": [
    {
     "name": "stdout",
     "output_type": "stream",
     "text": [
      "['_id', 'id', 'firstname', 'surname', 'born', 'died', 'bornCountry', 'bornCountryCode', 'bornCity', 'gender', 'prizes']\n"
     ]
    }
   ],
   "source": [
    "laureates_sample = laureates_collection.find_one(filter_dict)\n",
    "print(list(laureates_sample.keys()))"
   ]
  },
  {
   "cell_type": "code",
   "execution_count": 15,
   "id": "533adb4f-5756-4fb4-9500-68885ebe9a6f",
   "metadata": {},
   "outputs": [
    {
     "name": "stdout",
     "output_type": "stream",
     "text": [
      "['_id', 'year', 'category', 'laureates']\n"
     ]
    }
   ],
   "source": [
    "prize_sample = prize_collection.find_one(filter_dict)\n",
    "print(list(prize_sample.keys()))"
   ]
  },
  {
   "cell_type": "markdown",
   "id": "5ebe7c46-866f-4c27-a235-3bd9b2b63c73",
   "metadata": {},
   "source": [
    "# Exploring the filter_dicts"
   ]
  },
  {
   "cell_type": "code",
   "execution_count": 16,
   "id": "1aca18f5-e1cb-4de2-891b-53455c9e96da",
   "metadata": {},
   "outputs": [
    {
     "data": {
      "text/plain": [
       "{'_id': ObjectId('65550468d1fc86246b056e88'),\n",
       " 'id': '97',\n",
       " 'firstname': 'Leo',\n",
       " 'surname': 'Esaki',\n",
       " 'born': '1925-03-12',\n",
       " 'died': '0000-00-00',\n",
       " 'bornCountry': 'Japan',\n",
       " 'bornCountryCode': 'JP',\n",
       " 'bornCity': 'Osaka',\n",
       " 'gender': 'male',\n",
       " 'prizes': [{'year': '1973',\n",
       "   'category': 'physics',\n",
       "   'share': '4',\n",
       "   'motivation': '\"for their experimental discoveries regarding tunneling phenomena in semiconductors and superconductors, respectively\"',\n",
       "   'affiliations': [{'name': 'IBM Thomas J. Watson Research Center',\n",
       "     'city': 'Yorktown Heights, NY',\n",
       "     'country': 'USA'}]}]}"
      ]
     },
     "execution_count": 16,
     "metadata": {},
     "output_type": "execute_result"
    }
   ],
   "source": [
    "filter_dict = {'bornCountry':'Japan',\n",
    "               'bornCity':'Osaka'}\n",
    "laureates_collection.find_one(filter_dict)"
   ]
  },
  {
   "cell_type": "markdown",
   "id": "2beb4f43-6656-4738-8a30-afc20aeda479",
   "metadata": {},
   "source": [
    "## Composite filters"
   ]
  },
  {
   "cell_type": "code",
   "execution_count": 17,
   "id": "18c3e7f0-c43d-4821-88fb-51b1805ee388",
   "metadata": {},
   "outputs": [
    {
     "data": {
      "text/plain": [
       "{'_id': ObjectId('65550468d1fc86246b056e88'),\n",
       " 'id': '97',\n",
       " 'firstname': 'Leo',\n",
       " 'surname': 'Esaki',\n",
       " 'born': '1925-03-12',\n",
       " 'died': '0000-00-00',\n",
       " 'bornCountry': 'Japan',\n",
       " 'bornCountryCode': 'JP',\n",
       " 'bornCity': 'Osaka',\n",
       " 'gender': 'male',\n",
       " 'prizes': [{'year': '1973',\n",
       "   'category': 'physics',\n",
       "   'share': '4',\n",
       "   'motivation': '\"for their experimental discoveries regarding tunneling phenomena in semiconductors and superconductors, respectively\"',\n",
       "   'affiliations': [{'name': 'IBM Thomas J. Watson Research Center',\n",
       "     'city': 'Yorktown Heights, NY',\n",
       "     'country': 'USA'}]}]}"
      ]
     },
     "execution_count": 17,
     "metadata": {},
     "output_type": "execute_result"
    }
   ],
   "source": [
    "filter_dict = {'prizes': [{'year': '1973',\n",
    "   'category': 'physics',\n",
    "   'share': '4',\n",
    "   'motivation': '\"for their experimental discoveries regarding tunneling phenomena in semiconductors and superconductors, respectively\"',\n",
    "   'affiliations': [{'name': 'IBM Thomas J. Watson Research Center',\n",
    "     'city': 'Yorktown Heights, NY',\n",
    "     'country': 'USA'}]}]}\n",
    "laureates_collection.find_one(filter_dict)"
   ]
  },
  {
   "cell_type": "markdown",
   "id": "cc6b7b17-1825-4a89-b679-64acbc5b57c6",
   "metadata": {},
   "source": [
    "# Couting with filters"
   ]
  },
  {
   "cell_type": "code",
   "execution_count": 18,
   "id": "cdabf64b-0de4-4f8d-9d26-02a1a7ae14a5",
   "metadata": {},
   "outputs": [
    {
     "data": {
      "text/plain": [
       "1"
      ]
     },
     "execution_count": 18,
     "metadata": {},
     "output_type": "execute_result"
    }
   ],
   "source": [
    "filter_dict = {'year': '2018','category':'physics'}\n",
    "prize_collection.count_documents(filter_dict)"
   ]
  },
  {
   "cell_type": "markdown",
   "id": "b16cc527-2864-45da-b131-dddd5627d8eb",
   "metadata": {},
   "source": [
    "# Query operators"
   ]
  },
  {
   "cell_type": "markdown",
   "id": "08779f08-4fb1-4462-b0d7-ad440653dd1a",
   "metadata": {},
   "source": [
    "## in"
   ]
  },
  {
   "cell_type": "code",
   "execution_count": 19,
   "id": "bdfc6a11-1845-4c47-aec6-dd9f4aa74560",
   "metadata": {},
   "outputs": [
    {
     "data": {
      "text/plain": [
       "259"
      ]
     },
     "execution_count": 19,
     "metadata": {},
     "output_type": "execute_result"
    }
   ],
   "source": [
    "filter_dict = {'diedCountry': {'$in':['France','USA']}}\n",
    "laureates_collection.count_documents(filter_dict)"
   ]
  },
  {
   "cell_type": "markdown",
   "id": "397fc007-cc63-43a0-8cb3-57a1c9358f0e",
   "metadata": {},
   "source": [
    "## ne"
   ]
  },
  {
   "cell_type": "code",
   "execution_count": 20,
   "id": "409a61a4-51ea-4047-aec6-23d8e9f2c6da",
   "metadata": {},
   "outputs": [
    {
     "data": {
      "text/plain": [
       "934"
      ]
     },
     "execution_count": 20,
     "metadata": {},
     "output_type": "execute_result"
    }
   ],
   "source": [
    "filter_dict = {'diedCountry': {'$ne':['France','USA']}}\n",
    "laureates_collection.count_documents(filter_dict)"
   ]
  },
  {
   "cell_type": "markdown",
   "id": "e7585590-afa0-438f-876c-553881e6c513",
   "metadata": {},
   "source": [
    "## gt (>), gte(>=), lt (<), lte (<=)"
   ]
  },
  {
   "cell_type": "code",
   "execution_count": 21,
   "id": "e9054c7a-bf99-47e5-8686-8f228ed5be76",
   "metadata": {},
   "outputs": [
    {
     "data": {
      "text/plain": [
       "455"
      ]
     },
     "execution_count": 21,
     "metadata": {},
     "output_type": "execute_result"
    }
   ],
   "source": [
    "filter_dict = {\n",
    "'diedCountry': {\n",
    "'$gt': 'Belgium',\n",
    "'$lte': 'USA'}\n",
    "}\n",
    "laureates_collection.count_documents(filter_dict)"
   ]
  },
  {
   "cell_type": "markdown",
   "id": "83d9375a-1592-4912-a90f-acd66b3280a3",
   "metadata": {},
   "source": [
    "# Dot notation"
   ]
  },
  {
   "cell_type": "markdown",
   "id": "54f485b8-5466-4875-9cc8-1152f9c78249",
   "metadata": {},
   "source": [
    "## Checking the structure"
   ]
  },
  {
   "cell_type": "code",
   "execution_count": 26,
   "id": "8d1bec6d-76e6-46cf-be92-88cce84bdc37",
   "metadata": {},
   "outputs": [
    {
     "data": {
      "text/plain": [
       "{'_id': ObjectId('65550468d1fc86246b056f24'),\n",
       " 'id': '290',\n",
       " 'firstname': 'Walter',\n",
       " 'surname': 'Kohn',\n",
       " 'born': '1923-03-09',\n",
       " 'died': '2016-04-19',\n",
       " 'bornCountry': 'Austria',\n",
       " 'bornCountryCode': 'AT',\n",
       " 'bornCity': 'Vienna',\n",
       " 'diedCountry': 'USA',\n",
       " 'diedCountryCode': 'US',\n",
       " 'diedCity': 'Santa Barbara, CA',\n",
       " 'gender': 'male',\n",
       " 'prizes': [{'year': '1998',\n",
       "   'category': 'chemistry',\n",
       "   'share': '2',\n",
       "   'motivation': '\"for his development of the density-functional theory\"',\n",
       "   'affiliations': [{'name': 'University of California',\n",
       "     'city': 'Santa Barbara, CA',\n",
       "     'country': 'USA'}]}]}"
      ]
     },
     "execution_count": 26,
     "metadata": {},
     "output_type": "execute_result"
    }
   ],
   "source": [
    "laureates_collection.find_one({\n",
    "\"firstname\": \"Walter\",\n",
    "\"surname\": \"Kohn\"})"
   ]
  },
  {
   "cell_type": "markdown",
   "id": "ba789ea1-2fd5-47b6-bffe-72199ad07bb4",
   "metadata": {},
   "source": [
    "## Accessing the affiliations name with dot notation"
   ]
  },
  {
   "cell_type": "code",
   "execution_count": 24,
   "id": "f30bbd16-6262-4163-92f6-80c96e623db6",
   "metadata": {},
   "outputs": [
    {
     "data": {
      "text/plain": [
       "34"
      ]
     },
     "execution_count": 24,
     "metadata": {},
     "output_type": "execute_result"
    }
   ],
   "source": [
    "filter_dict = {'prizes.affiliations.name':(\n",
    "\"University of California\")}\n",
    "laureates_collection.count_documents(filter_dict)"
   ]
  },
  {
   "cell_type": "code",
   "execution_count": 25,
   "id": "2d12d2f2-92a7-4d24-a7c8-11d8f0dbd604",
   "metadata": {},
   "outputs": [
    {
     "data": {
      "text/plain": [
       "19"
      ]
     },
     "execution_count": 25,
     "metadata": {},
     "output_type": "execute_result"
    }
   ],
   "source": [
    "filter_dict = {\"prizes.affiliations.city\":('Berkeley, CA')}\n",
    "laureates_collection.count_documents(filter_dict)"
   ]
  },
  {
   "cell_type": "markdown",
   "id": "17718e13-3228-4abe-83b7-aaa257231502",
   "metadata": {},
   "source": [
    "# Using the exists operator"
   ]
  },
  {
   "cell_type": "code",
   "execution_count": 30,
   "id": "a2c93c70-5d94-4666-a1f2-e776087af89f",
   "metadata": {},
   "outputs": [
    {
     "data": {
      "text/plain": [
       "33"
      ]
     },
     "execution_count": 30,
     "metadata": {},
     "output_type": "execute_result"
    }
   ],
   "source": [
    "criteria = {\"bornCountry\": {\"$exists\": False}}\n",
    "laureates_collection.count_documents(criteria)"
   ]
  },
  {
   "cell_type": "markdown",
   "id": "1bb865e8-2635-417f-a866-ca55b50a9b61",
   "metadata": {},
   "source": [
    "## Checking the missing fields: "
   ]
  },
  {
   "cell_type": "code",
   "execution_count": 31,
   "id": "85431fc0-3b40-4595-9fcf-1caf68f7c665",
   "metadata": {},
   "outputs": [
    {
     "data": {
      "text/plain": [
       "{'_id': ObjectId('65550468d1fc86246b056ee7'),\n",
       " 'id': '482',\n",
       " 'firstname': 'Comité international de la Croix Rouge (International Committee of the Red Cross)',\n",
       " 'born': '0000-00-00',\n",
       " 'died': '0000-00-00',\n",
       " 'gender': 'org',\n",
       " 'prizes': [{'year': '1917',\n",
       "   'category': 'peace',\n",
       "   'share': '1',\n",
       "   'affiliations': [[]]},\n",
       "  {'year': '1944', 'category': 'peace', 'share': '1', 'affiliations': [[]]},\n",
       "  {'year': '1963', 'category': 'peace', 'share': '2', 'affiliations': [[]]}]}"
      ]
     },
     "execution_count": 31,
     "metadata": {},
     "output_type": "execute_result"
    }
   ],
   "source": [
    "laureates_collection.find_one(criteria)"
   ]
  },
  {
   "cell_type": "markdown",
   "id": "0eaabf54-b0bb-4907-aa8d-e51a55260e07",
   "metadata": {},
   "source": [
    "# Exploring lists of documents: checking multiple prizes"
   ]
  },
  {
   "cell_type": "markdown",
   "id": "a066b035-2272-45e6-a637-cae8df961db4",
   "metadata": {},
   "source": [
    "## Checking people with at least one prize"
   ]
  },
  {
   "cell_type": "code",
   "execution_count": 33,
   "id": "15854653-a3fa-40f4-88f2-dfad8811e66f",
   "metadata": {},
   "outputs": [
    {
     "data": {
      "text/plain": [
       "934"
      ]
     },
     "execution_count": 33,
     "metadata": {},
     "output_type": "execute_result"
    }
   ],
   "source": [
    "laureates_collection.count_documents({\"prizes.0\": {\"$exists\": True}})"
   ]
  },
  {
   "cell_type": "markdown",
   "id": "ee65a1c9-0cc4-4034-b467-28ec6f36c26e",
   "metadata": {},
   "source": [
    "## Checking people with two or more prizes"
   ]
  },
  {
   "cell_type": "code",
   "execution_count": 34,
   "id": "1237ce9d-bfbe-46d4-9629-d2e8e02b848f",
   "metadata": {},
   "outputs": [
    {
     "data": {
      "text/plain": [
       "6"
      ]
     },
     "execution_count": 34,
     "metadata": {},
     "output_type": "execute_result"
    }
   ],
   "source": [
    "laureates_collection.count_documents({\"prizes.1\": {\"$exists\": True}})"
   ]
  },
  {
   "cell_type": "markdown",
   "id": "4171f45f-bca7-4d7b-97f1-9f51a4813e5b",
   "metadata": {},
   "source": [
    "## Checking how it looks like"
   ]
  },
  {
   "cell_type": "code",
   "execution_count": 40,
   "id": "940fd36a-4ca1-4cc3-8321-201d6c6e1cca",
   "metadata": {},
   "outputs": [
    {
     "data": {
      "text/plain": [
       "{'_id': ObjectId('65550468d1fc86246b056dec'),\n",
       " 'id': '217',\n",
       " 'firstname': 'Linus Carl',\n",
       " 'surname': 'Pauling',\n",
       " 'born': '1901-02-28',\n",
       " 'died': '1994-08-19',\n",
       " 'bornCountry': 'USA',\n",
       " 'bornCountryCode': 'US',\n",
       " 'bornCity': 'Portland, OR',\n",
       " 'diedCountry': 'USA',\n",
       " 'diedCountryCode': 'US',\n",
       " 'diedCity': 'Big Sur, CA',\n",
       " 'gender': 'male',\n",
       " 'prizes': [{'year': '1954',\n",
       "   'category': 'chemistry',\n",
       "   'share': '1',\n",
       "   'motivation': '\"for his research into the nature of the chemical bond and its application to the elucidation of the structure of complex substances\"',\n",
       "   'affiliations': [{'name': 'California Institute of Technology (Caltech)',\n",
       "     'city': 'Pasadena, CA',\n",
       "     'country': 'USA'}]},\n",
       "  {'year': '1962',\n",
       "   'category': 'peace',\n",
       "   'share': '1',\n",
       "   'affiliations': [{'name': 'California Institute of Technology (Caltech)',\n",
       "     'city': 'Pasadena, CA',\n",
       "     'country': 'USA'}]}]}"
      ]
     },
     "execution_count": 40,
     "metadata": {},
     "output_type": "execute_result"
    }
   ],
   "source": [
    "multi_prize = laureates_collection.find_one({\"prizes.1\": {\"$exists\": True}})\n",
    "multi_prize"
   ]
  },
  {
   "cell_type": "markdown",
   "id": "21c6daff-7267-4f3f-9620-b3e40aaecc62",
   "metadata": {},
   "source": [
    "# Exercises"
   ]
  },
  {
   "cell_type": "markdown",
   "id": "1328bf33-0c70-4b0a-817a-309d2056cad2",
   "metadata": {},
   "source": [
    "1) The database has two collections, prizes and laureates. In the prizes collection, every document correspond to a single Nobel prize, and in the laureates collection - to a single Nobel laureate. Which one of the alternatives is correct?\n",
    "- #laureates = #prizes\n",
    "- #laureates>prizes\n",
    "- #prizes>#laureates"
   ]
  },
  {
   "cell_type": "markdown",
   "id": "1eeeb5b8-1157-4a5e-acb0-20c020924f60",
   "metadata": {},
   "source": [
    "2)  Save a list of names of the databases managed by client and a list of names of the collections managed by the \"nobel\" database. Print both results"
   ]
  },
  {
   "cell_type": "markdown",
   "id": "e2399838-29b3-482f-a3e5-055ef8473443",
   "metadata": {},
   "source": [
    "3) List _all_ fields of both collections. If a field has subfields or an array of fields, save a tuple with field and subfield"
   ]
  },
  {
   "cell_type": "markdown",
   "id": "751f584d-70d2-4f5d-b755-8cd90fd3a606",
   "metadata": {},
   "source": [
    "4) What is the number of laureates born prior to 1800? What about prior to 1700?\n",
    "\n"
   ]
  },
  {
   "cell_type": "markdown",
   "id": "3851ac11-0b44-4a3c-be4b-24292b3f183f",
   "metadata": {},
   "source": [
    "5) Create a filter for :\n",
    "- Germany-born laureates\n",
    "- Germany-born laureates who died in the USA \n",
    "- Germany-born laureates who died in the USA and with the first name \"Albert\""
   ]
  },
  {
   "cell_type": "markdown",
   "id": "f4f8ba3c-a560-4227-8d3d-0c80c8685377",
   "metadata": {},
   "source": [
    "6) How many laureates were born in USA, Canada or Mexico? More than that, how many died in the USA but were not born there?"
   ]
  },
  {
   "cell_type": "markdown",
   "id": "8875fb2b-6210-4cff-a85c-f7fb96ad6991",
   "metadata": {},
   "source": [
    "7) If we want to count the number of laureates born in Austria with a prize affiliation country that is not also Austria, what MongoDB concepts/tools should we use?\n",
    "\n"
   ]
  },
  {
   "cell_type": "markdown",
   "id": "5aa2b933-a082-43a4-b81e-016961da6747",
   "metadata": {},
   "source": [
    "8) Count the number of laureates born in Austria with a prize affiliation country that is not also Austria."
   ]
  },
  {
   "cell_type": "markdown",
   "id": "1c52fbab-03c4-469c-a469-338f86f79739",
   "metadata": {},
   "source": [
    "9) Check if there is any winner without a born field. After that use a filter document to find a document with at least three elements in its prizes array"
   ]
  },
  {
   "cell_type": "code",
   "execution_count": null,
   "id": "b73398dc-fe4a-44ba-9a38-bb09c2eedcf7",
   "metadata": {},
   "outputs": [],
   "source": []
  }
 ],
 "metadata": {
  "kernelspec": {
   "display_name": "Python 3 (ipykernel)",
   "language": "python",
   "name": "python3"
  },
  "language_info": {
   "codemirror_mode": {
    "name": "ipython",
    "version": 3
   },
   "file_extension": ".py",
   "mimetype": "text/x-python",
   "name": "python",
   "nbconvert_exporter": "python",
   "pygments_lexer": "ipython3",
   "version": "3.11.6"
  }
 },
 "nbformat": 4,
 "nbformat_minor": 5
}
