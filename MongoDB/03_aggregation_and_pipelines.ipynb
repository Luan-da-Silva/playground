{
 "cells": [
  {
   "cell_type": "code",
   "execution_count": 11,
   "id": "62f818a8-ed37-41ec-a1b7-55bd453936ae",
   "metadata": {},
   "outputs": [],
   "source": [
    "from pymongo import MongoClient\n",
    "from collections import OrderedDict"
   ]
  },
  {
   "cell_type": "code",
   "execution_count": 2,
   "id": "589c73d6-9431-4ca4-9ebb-672746012760",
   "metadata": {},
   "outputs": [
    {
     "data": {
      "text/plain": [
       "MongoClient(host=['localhost:27017'], document_class=dict, tz_aware=False, connect=True)"
      ]
     },
     "execution_count": 2,
     "metadata": {},
     "output_type": "execute_result"
    }
   ],
   "source": [
    "client = MongoClient(\"mongodb://localhost:27017\")\n",
    "client"
   ]
  },
  {
   "cell_type": "code",
   "execution_count": 3,
   "id": "d0541fa3-6a4f-4db6-a3de-b39aec741fa8",
   "metadata": {},
   "outputs": [],
   "source": [
    "db = client.db_test"
   ]
  },
  {
   "cell_type": "markdown",
   "id": "8328edf5-856c-437a-9d32-b1d3dd230981",
   "metadata": {},
   "source": [
    "# Remember: Queries have implicit stages"
   ]
  },
  {
   "cell_type": "code",
   "execution_count": 7,
   "id": "fea06381-abc1-4773-81a9-0a18f2a7d725",
   "metadata": {},
   "outputs": [
    {
     "name": "stdout",
     "output_type": "stream",
     "text": [
      "[{'year': '1972'}]\n",
      "[{'year': '1989'}]\n",
      "[{'year': '1990'}]\n"
     ]
    }
   ],
   "source": [
    "cursor = db.laureates.find(filter = {'bornCountry':'USA'},projection = {'prizes.year':1},limit = 3)\n",
    "for doc in cursor:\n",
    "    print(doc[\"prizes\"])"
   ]
  },
  {
   "cell_type": "markdown",
   "id": "012850b3-e9d2-40fc-a7a4-9b2cee69295d",
   "metadata": {},
   "source": [
    "# Enter the pipeline"
   ]
  },
  {
   "cell_type": "code",
   "execution_count": 9,
   "id": "89418418-f324-43c2-8895-b9351d48fff7",
   "metadata": {},
   "outputs": [
    {
     "name": "stdout",
     "output_type": "stream",
     "text": [
      "[{'year': '1972'}]\n",
      "[{'year': '1989'}]\n",
      "[{'year': '1990'}]\n"
     ]
    }
   ],
   "source": [
    "pipeline = [\n",
    "{'$match': {'bornCountry':\"USA\"}},\n",
    "{'$project': {'prizes.year':1}},\n",
    "{'$limit':3}\n",
    "]\n",
    "cursor = db.laureates.aggregate(pipeline)\n",
    "for doc in cursor:\n",
    "    print(doc[\"prizes\"])"
   ]
  },
  {
   "cell_type": "markdown",
   "id": "4e0c50c3-d023-4d77-bae5-24acb9d2669a",
   "metadata": {},
   "source": [
    "# Adding new states to the pipeline"
   ]
  },
  {
   "cell_type": "code",
   "execution_count": 13,
   "id": "7b08916d-9e7f-486c-83e8-7111839285a4",
   "metadata": {},
   "outputs": [
    {
     "name": "stdout",
     "output_type": "stream",
     "text": [
      "[{'year': '1912'}]\n",
      "[{'year': '1914'}]\n",
      "[{'year': '1919'}]\n"
     ]
    }
   ],
   "source": [
    "pipeline = [\n",
    "{'$match': {'bornCountry':\"USA\"}},\n",
    "{'$project': {'prizes.year':1,'_id':0}},\n",
    "{'$sort':OrderedDict([(\"prizes.year\", 1)])},\n",
    "{'$skip':1},\n",
    "{'$limit':3}\n",
    "]\n",
    "cursor = db.laureates.aggregate(pipeline)\n",
    "for doc in cursor:\n",
    "    print(doc[\"prizes\"])"
   ]
  },
  {
   "cell_type": "markdown",
   "id": "d8489bbe-3862-426c-8b21-6f90382f6ae1",
   "metadata": {},
   "source": [
    "# Counting in a aggregation"
   ]
  },
  {
   "cell_type": "code",
   "execution_count": 16,
   "id": "a9a75ef5-ce8e-4c0d-a3b6-e1778f662022",
   "metadata": {},
   "outputs": [
    {
     "data": {
      "text/plain": [
       "[{'n_USA-born-laureates': 269}]"
      ]
     },
     "execution_count": 16,
     "metadata": {},
     "output_type": "execute_result"
    }
   ],
   "source": [
    "tag_name = \"n_USA-born-laureates\"\n",
    "list(db.laureates.aggregate([\n",
    "{\"$match\": {\"bornCountry\": \"USA\"}},\n",
    "{\"$count\": tag_name}\n",
    "]))"
   ]
  },
  {
   "cell_type": "markdown",
   "id": "185e13b9-78c9-4232-b464-c78f5c4be9fb",
   "metadata": {},
   "source": [
    "# Operation expressions. Please refer to the [link](https://www.mongodb.com/docs/manual/reference/aggregation-quick-reference/#std-label-aggregation-expressions)"
   ]
  },
  {
   "cell_type": "code",
   "execution_count": 17,
   "id": "fe2811dc-9af8-49bc-8043-e26ae579edb0",
   "metadata": {},
   "outputs": [
    {
     "data": {
      "text/plain": [
       "{'_id': ObjectId('65550468d1fc86246b056dae'), 'n_prizes': 1}"
      ]
     },
     "execution_count": 17,
     "metadata": {},
     "output_type": "execute_result"
    }
   ],
   "source": [
    "db.laureates.aggregate([\n",
    "{\"$project\": {\"n_prizes\": {\"$size\": \"$prizes\"}}}\n",
    "]).next()"
   ]
  },
  {
   "cell_type": "code",
   "execution_count": 41,
   "id": "0e0b7088-bafd-48ab-bd4f-f29811b8dfc0",
   "metadata": {},
   "outputs": [
    {
     "data": {
      "text/plain": [
       "{'_id': ObjectId('65550468d1fc86246b056dae'), 'n_prizes': 1}"
      ]
     },
     "execution_count": 41,
     "metadata": {},
     "output_type": "execute_result"
    }
   ],
   "source": [
    "alias = 'n_prizes'\n",
    "db.laureates.aggregate([\n",
    "{\"$project\": {alias: {\"$size\": [\"$prizes\"]}}}\n",
    "]).next()"
   ]
  },
  {
   "cell_type": "code",
   "execution_count": 20,
   "id": "699b2053-459d-4e4d-aae1-6cf2aa2a3c60",
   "metadata": {},
   "outputs": [
    {
     "data": {
      "text/plain": [
       "{'_id': ObjectId('65550468d1fc86246b056dae'), 'solo_winner': False}"
      ]
     },
     "execution_count": 20,
     "metadata": {},
     "output_type": "execute_result"
    }
   ],
   "source": [
    "db.laureates.aggregate([\n",
    "{\"$project\": {\"solo_winner\": {\"$in\": [\"1\", \"$prizes.share\"]}}}\n",
    "]).next()"
   ]
  },
  {
   "cell_type": "markdown",
   "id": "31672432-86e9-4a3d-8933-5f6bbbd93d1f",
   "metadata": {},
   "source": [
    "# Implementing distinct with aggregations"
   ]
  },
  {
   "cell_type": "code",
   "execution_count": 21,
   "id": "088bde21-17ab-4744-afdc-088301fac495",
   "metadata": {},
   "outputs": [
    {
     "data": {
      "text/plain": [
       "True"
      ]
     },
     "execution_count": 21,
     "metadata": {},
     "output_type": "execute_result"
    }
   ],
   "source": [
    "list_1 = db.laureates.distinct(\"bornCountry\")\n",
    "list_2 = [doc[\"_id\"] for doc in db.laureates.aggregate([\n",
    "{\"$group\": {\"_id\": \"$bornCountry\"}}\n",
    "])]\n",
    "set(list_2) - {None} == set(list_1)"
   ]
  },
  {
   "cell_type": "code",
   "execution_count": 22,
   "id": "e8ef588b-94e3-4a41-bc7d-bb5e1be4d3b1",
   "metadata": {},
   "outputs": [
    {
     "data": {
      "text/plain": [
       "[{'_id': None, 'n_prizes_total': 941}]"
      ]
     },
     "execution_count": 22,
     "metadata": {},
     "output_type": "execute_result"
    }
   ],
   "source": [
    "# In general, \"_id\":None refers to a case with global aggregations\n",
    "list(db.laureates.aggregate([\n",
    "{\"$project\": {\"n_prizes\": {\"$size\": \"$prizes\"}}},\n",
    "{\"$group\": {\"_id\": None, \"n_prizes_total\": {\"$sum\": \"$n_prizes\"}}}\n",
    "]))"
   ]
  },
  {
   "cell_type": "markdown",
   "id": "32ba844e-e882-48c4-9d4a-63fca4c495c0",
   "metadata": {},
   "source": [
    "# Desconstructing arrays into more documents with $unwind"
   ]
  },
  {
   "cell_type": "markdown",
   "id": "d56ab514-2f8f-4d21-b5e4-d13be6b76744",
   "metadata": {},
   "source": [
    "## A pipeline without $unwind"
   ]
  },
  {
   "cell_type": "code",
   "execution_count": 23,
   "id": "a23bcd84-cdcb-4f2c-82f2-63bddd7519a4",
   "metadata": {},
   "outputs": [
    {
     "data": {
      "text/plain": [
       "[{'year': '2018',\n",
       "  'category': 'medicine',\n",
       "  'laureates': [{'surname': 'Allison', 'share': '2'},\n",
       "   {'surname': 'Honjo', 'share': '2'}]},\n",
       " {'year': '2014',\n",
       "  'category': 'literature',\n",
       "  'laureates': [{'surname': 'Modiano', 'share': '1'}]},\n",
       " {'year': '2018',\n",
       "  'category': 'physics',\n",
       "  'laureates': [{'surname': 'Ashkin', 'share': '2'},\n",
       "   {'surname': 'Mourou', 'share': '4'},\n",
       "   {'surname': 'Strickland', 'share': '4'}]}]"
      ]
     },
     "execution_count": 23,
     "metadata": {},
     "output_type": "execute_result"
    }
   ],
   "source": [
    "pipeline = [\n",
    "{\"$project\": {\n",
    "\"_id\": 0, \"year\": 1, \"category\": 1,\n",
    "\"laureates.surname\": 1, \"laureates.share\": 1}},\n",
    "{\"$limit\": 3}\n",
    "]\n",
    "list(db.prizes.aggregate(pipeline))"
   ]
  },
  {
   "cell_type": "markdown",
   "id": "d4b3b982-ec06-48dc-869f-be533596e535",
   "metadata": {},
   "source": [
    "## A pipeline with $unwind"
   ]
  },
  {
   "cell_type": "code",
   "execution_count": 24,
   "id": "3a714ccd-3081-4c2d-97f7-f4d5bae9277d",
   "metadata": {},
   "outputs": [
    {
     "data": {
      "text/plain": [
       "[{'year': '2018',\n",
       "  'category': 'medicine',\n",
       "  'laureates': {'surname': 'Allison', 'share': '2'}},\n",
       " {'year': '2018',\n",
       "  'category': 'medicine',\n",
       "  'laureates': {'surname': 'Honjo', 'share': '2'}},\n",
       " {'year': '2014',\n",
       "  'category': 'literature',\n",
       "  'laureates': {'surname': 'Modiano', 'share': '1'}}]"
      ]
     },
     "execution_count": 24,
     "metadata": {},
     "output_type": "execute_result"
    }
   ],
   "source": [
    "pipeline = [\n",
    "{\"$unwind\": \"$laureates\"},\n",
    "{\"$project\": {\n",
    "\"_id\": 0, \"year\": 1, \"category\": 1,\n",
    "\"laureates.surname\": 1, \"laureates.share\": 1}},\n",
    "{\"$limit\": 3}\n",
    "]\n",
    "list(db.prizes.aggregate(pipeline))"
   ]
  },
  {
   "cell_type": "markdown",
   "id": "0e805e66-10af-4429-ab41-86e9fe5eba3a",
   "metadata": {},
   "source": [
    "## Other example"
   ]
  },
  {
   "cell_type": "code",
   "execution_count": 38,
   "id": "c94ddfcd-c35a-4fab-aa71-6e210577ed16",
   "metadata": {},
   "outputs": [],
   "source": [
    "pipeline_without = [\n",
    "{\"$project\": {\"year\": 1, \"category\": 1, \"laureates.id\": 1}},\n",
    "{\"$group\": {\"_id\": {\"$concat\": [\"$category\", \":\", \"$year\"]},\n",
    "\"laureate_ids\": {\"$addToSet\": \"$laureates.id\"}}},\n",
    "{'$sort' : {'_id': -1}},\n",
    "{\"$limit\": 5}\n",
    "]\n",
    "pipeline_with = [\n",
    "{\"$unwind\": \"$laureates\"},\n",
    "{\"$project\": {\"year\": 1, \"category\": 1, \"laureates.id\": 1}},\n",
    "{\"$group\": {\"_id\": {\"$concat\": [\"$category\", \":\", \"$year\"]},\n",
    "\"laureate_ids\": {\"$addToSet\": \"$laureates.id\"}}},\n",
    "{'$sort' : {'_id': -1}},\n",
    "{\"$limit\": 5}\n",
    "]"
   ]
  },
  {
   "cell_type": "code",
   "execution_count": 39,
   "id": "f91c8f1c-ccd1-4226-93cb-35eca750707b",
   "metadata": {},
   "outputs": [
    {
     "data": {
      "text/plain": [
       "[{'_id': 'physics:2018', 'laureate_ids': [['960', '961', '962']]},\n",
       " {'_id': 'physics:2017', 'laureate_ids': [['941', '942', '943']]},\n",
       " {'_id': 'physics:2016', 'laureate_ids': [['928', '929', '930']]},\n",
       " {'_id': 'physics:2015', 'laureate_ids': [['919', '920']]},\n",
       " {'_id': 'physics:2014', 'laureate_ids': [['906', '907', '908']]}]"
      ]
     },
     "execution_count": 39,
     "metadata": {},
     "output_type": "execute_result"
    }
   ],
   "source": [
    "list(db.prizes.aggregate(pipeline_without))"
   ]
  },
  {
   "cell_type": "code",
   "execution_count": 40,
   "id": "f1862444-2d0e-4b45-af31-6aaaa45f935e",
   "metadata": {},
   "outputs": [
    {
     "data": {
      "text/plain": [
       "[{'_id': 'physics:2018', 'laureate_ids': ['962', '960', '961']},\n",
       " {'_id': 'physics:2017', 'laureate_ids': ['941', '942', '943']},\n",
       " {'_id': 'physics:2016', 'laureate_ids': ['928', '929', '930']},\n",
       " {'_id': 'physics:2015', 'laureate_ids': ['920', '919']},\n",
       " {'_id': 'physics:2014', 'laureate_ids': ['906', '907', '908']}]"
      ]
     },
     "execution_count": 40,
     "metadata": {},
     "output_type": "execute_result"
    }
   ],
   "source": [
    "list(db.prizes.aggregate(pipeline_with))"
   ]
  },
  {
   "cell_type": "markdown",
   "id": "da2ff578-04d0-4136-9be3-bbad9035fff8",
   "metadata": {},
   "source": [
    "## Counting with $unwind"
   ]
  },
  {
   "cell_type": "markdown",
   "id": "4b95ad40-f160-42c1-919c-71f2791c1498",
   "metadata": {},
   "source": [
    "### Is possible without unwind"
   ]
  },
  {
   "cell_type": "code",
   "execution_count": 42,
   "id": "a4b477b1-f9f8-45e2-ba24-80d3a1800844",
   "metadata": {},
   "outputs": [
    {
     "data": {
      "text/plain": [
       "[{'_id': 'medicine', 'n_laureates': 216},\n",
       " {'_id': 'physics', 'n_laureates': 210},\n",
       " {'_id': 'chemistry', 'n_laureates': 181},\n",
       " {'_id': 'peace', 'n_laureates': 133},\n",
       " {'_id': 'literature', 'n_laureates': 114},\n",
       " {'_id': 'economics', 'n_laureates': 81}]"
      ]
     },
     "execution_count": 42,
     "metadata": {},
     "output_type": "execute_result"
    }
   ],
   "source": [
    "list(db.prizes.aggregate([\n",
    "{\"$project\": {\"n_laureates\": {\"$size\": \"$laureates\"}, \"category\": 1}},\n",
    "{\"$group\": {\"_id\": \"$category\", \"n_laureates\": {\"$sum\": \"$n_laureates\"}}},\n",
    "{\"$sort\": {\"n_laureates\": -1}},\n",
    "]))"
   ]
  },
  {
   "cell_type": "markdown",
   "id": "e6b48ba0-0999-4b22-8399-d204e63432fb",
   "metadata": {},
   "source": [
    "# ...but it turns out that unwind is a less verbose solution"
   ]
  },
  {
   "cell_type": "code",
   "execution_count": 47,
   "id": "4520b7b1-2c5e-4db4-89e2-76b51b8e603d",
   "metadata": {},
   "outputs": [
    {
     "data": {
      "text/plain": [
       "[{'_id': 'medicine', 'n_laureates': 216},\n",
       " {'_id': 'physics', 'n_laureates': 210},\n",
       " {'_id': 'chemistry', 'n_laureates': 181},\n",
       " {'_id': 'peace', 'n_laureates': 133},\n",
       " {'_id': 'literature', 'n_laureates': 114},\n",
       " {'_id': 'economics', 'n_laureates': 81}]"
      ]
     },
     "execution_count": 47,
     "metadata": {},
     "output_type": "execute_result"
    }
   ],
   "source": [
    "list(db.prizes.aggregate([\n",
    "{\"$unwind\": \"$laureates\"},\n",
    "{\"$group\": {\"_id\": \"$category\", \"n_laureates\": {\"$sum\": 1}}},\n",
    "{\"$sort\": {\"n_laureates\": -1}},\n",
    "]))"
   ]
  },
  {
   "cell_type": "markdown",
   "id": "6a1aa62f-f6b4-4873-b186-58e5bdca41bd",
   "metadata": {},
   "source": [
    "# JOIN in NoSQL with $lookup"
   ]
  },
  {
   "cell_type": "markdown",
   "id": "3ced9add-8d38-4024-bd9b-a4cb2455a68d",
   "metadata": {},
   "source": [
    "## basic example"
   ]
  },
  {
   "cell_type": "code",
   "execution_count": 54,
   "id": "bb2f6af5-28c2-4bb2-8486-deca0aa0a6b0",
   "metadata": {},
   "outputs": [
    {
     "data": {
      "text/plain": [
       "InsertManyResult([1, 2, 3, 4, 5, 6], acknowledged=True)"
      ]
     },
     "execution_count": 54,
     "metadata": {},
     "output_type": "execute_result"
    }
   ],
   "source": [
    "db.orders.insert_many( [\n",
    "   { \"_id\" : 1, \"item\" : \"almonds\", \"price\" : 12, \"quantity\" : 2 },\n",
    "   { \"_id\" : 2, \"item\" : \"pecans\", \"price\" : 20, \"quantity\" : 1 },\n",
    "   { \"_id\" : 3  }\n",
    "] )\n",
    "db.inventory.insert_many( [\n",
    "   { \"_id\" : 1, \"sku\" : \"almonds\", \"description\": \"product 1\", \"instock\" : 120 },\n",
    "   { \"_id\" : 2, \"sku\" : \"bread\", \"description\": \"product 2\", \"instock\" : 80 },\n",
    "   { \"_id\" : 3, \"sku\" : \"cashews\", \"description\": \"product 3\", \"instock\" : 60 },\n",
    "   { \"_id\" : 4, \"sku\" : \"pecans\", \"description\": \"product 4\", \"instock\" : 70 },\n",
    "   { \"_id\" : 5, \"sku\": None, \"description\": \"Incomplete\" },\n",
    "   { \"_id\" : 6 }\n",
    "] )"
   ]
  },
  {
   "cell_type": "code",
   "execution_count": 56,
   "id": "3b0118b0-120a-43bc-a10e-22e75b39cfcf",
   "metadata": {},
   "outputs": [
    {
     "data": {
      "text/plain": [
       "{'_id': 1,\n",
       " 'item': 'almonds',\n",
       " 'price': 12,\n",
       " 'quantity': 2,\n",
       " 'inventory_docs': [{'_id': 1,\n",
       "   'sku': 'almonds',\n",
       "   'description': 'product 1',\n",
       "   'instock': 120}]}"
      ]
     },
     "execution_count": 56,
     "metadata": {},
     "output_type": "execute_result"
    }
   ],
   "source": [
    "cursor = db.orders.aggregate( [\n",
    "   {\n",
    "     \"$lookup\":\n",
    "       {\n",
    "         \"from\": \"inventory\",\n",
    "         \"localField\": \"item\",\n",
    "         \"foreignField\": \"sku\",\n",
    "         \"as\": \"inventory_docs\"\n",
    "       }\n",
    "  }\n",
    "])\n",
    "cursor.next()"
   ]
  },
  {
   "cell_type": "code",
   "execution_count": 57,
   "id": "aa4fcb72-3d24-41f1-a2c4-439b3e64c3e6",
   "metadata": {},
   "outputs": [],
   "source": [
    "db.orders.drop()\n",
    "db.inventory.drop()"
   ]
  },
  {
   "cell_type": "markdown",
   "id": "60716919-60f9-4276-a6c2-f56a0b6fdbe0",
   "metadata": {},
   "source": [
    "## Going back to the aggregates example"
   ]
  },
  {
   "cell_type": "code",
   "execution_count": 59,
   "id": "a1a7f50f-0caf-46ec-9593-a5369ad105a5",
   "metadata": {},
   "outputs": [
    {
     "data": {
      "text/plain": [
       "[{'_id': None,\n",
       "  'bornCountries': ['Hungary',\n",
       "   'British West Indies (now Saint Lucia)',\n",
       "   'Russia',\n",
       "   'Canada',\n",
       "   'Austria',\n",
       "   'Italy',\n",
       "   'Finland',\n",
       "   'British Mandate of Palestine (now Israel)',\n",
       "   'USA',\n",
       "   'Germany (now Poland)',\n",
       "   'Scotland',\n",
       "   'Russian Empire (now Russia)',\n",
       "   'Norway',\n",
       "   'India',\n",
       "   'Russian Empire (now Belarus)',\n",
       "   'the Netherlands',\n",
       "   'Sweden',\n",
       "   'Cyprus',\n",
       "   'Germany',\n",
       "   'France',\n",
       "   'United Kingdom']}]"
      ]
     },
     "execution_count": 59,
     "metadata": {},
     "output_type": "execute_result"
    }
   ],
   "source": [
    "pipeline = [\n",
    "{\"$match\": {\"category\": \"economics\"}},\n",
    "{\"$unwind\": \"$laureates\"},\n",
    "{\"$lookup\": {\"from\": \"laureates\", \"foreignField\": \"id\",\n",
    "\"localField\": \"laureates.id\", \"as\": \"laureate_bios\"}},\n",
    "{\"$unwind\": \"$laureate_bios\"},\n",
    "{\"$group\": {\"_id\": None,\n",
    "\"bornCountries\":\n",
    "{\"$addToSet\": \"$laureate_bios.bornCountry\"}\n",
    "}},\n",
    "]\n",
    "list(db.prizes.aggregate(pipeline))"
   ]
  },
  {
   "cell_type": "markdown",
   "id": "ed70cfef-8242-4676-8297-1f6272816b2c",
   "metadata": {},
   "source": [
    "## Decomposing the pipeline"
   ]
  },
  {
   "cell_type": "markdown",
   "id": "b17bd334-eba4-4e69-9f17-5eeda7a0dc6b",
   "metadata": {},
   "source": [
    "### At first laureates is a document list"
   ]
  },
  {
   "cell_type": "code",
   "execution_count": 64,
   "id": "d930258c-5ba8-427b-92e2-1386121fb309",
   "metadata": {},
   "outputs": [
    {
     "data": {
      "text/plain": [
       "{'_id': ObjectId('6555048619e46de1de2d02f8'),\n",
       " 'year': '1969',\n",
       " 'category': 'economics',\n",
       " 'laureates': [{'id': '677',\n",
       "   'firstname': 'Ragnar',\n",
       "   'surname': 'Frisch',\n",
       "   'motivation': '\"for having developed and applied dynamic models for the analysis of economic processes\"',\n",
       "   'share': '2'},\n",
       "  {'id': '678',\n",
       "   'firstname': 'Jan',\n",
       "   'surname': 'Tinbergen',\n",
       "   'motivation': '\"for having developed and applied dynamic models for the analysis of economic processes\"',\n",
       "   'share': '2'}]}"
      ]
     },
     "execution_count": 64,
     "metadata": {},
     "output_type": "execute_result"
    }
   ],
   "source": [
    "pipeline = [\n",
    "{\"$match\": {\"category\": \"economics\"}},\n",
    "]\n",
    "list(db.prizes.aggregate(pipeline))[0]"
   ]
  },
  {
   "cell_type": "markdown",
   "id": "53868aaa-d5bd-4527-be2a-c66955ae830c",
   "metadata": {},
   "source": [
    "### We use unwind here to split those documents with laureates array into other documents containing the same info above this field and one info per laureate field"
   ]
  },
  {
   "cell_type": "code",
   "execution_count": 65,
   "id": "7e2895ae-151c-46a2-8a23-80a55abe8d6a",
   "metadata": {},
   "outputs": [
    {
     "data": {
      "text/plain": [
       "{'_id': ObjectId('6555048619e46de1de2d02f8'),\n",
       " 'year': '1969',\n",
       " 'category': 'economics',\n",
       " 'laureates': {'id': '677',\n",
       "  'firstname': 'Ragnar',\n",
       "  'surname': 'Frisch',\n",
       "  'motivation': '\"for having developed and applied dynamic models for the analysis of economic processes\"',\n",
       "  'share': '2'}}"
      ]
     },
     "execution_count": 65,
     "metadata": {},
     "output_type": "execute_result"
    }
   ],
   "source": [
    "pipeline = [\n",
    "{\"$match\": {\"category\": \"economics\"}},\n",
    "{\"$unwind\": \"$laureates\"},\n",
    "]\n",
    "list(db.prizes.aggregate(pipeline))[0]"
   ]
  },
  {
   "cell_type": "markdown",
   "id": "23ff542b-d4c8-4f05-875f-7a2c4cecb898",
   "metadata": {},
   "source": [
    "### With laureates field accessible through laureates.id, now is possible to join laureates and prizes collections"
   ]
  },
  {
   "cell_type": "code",
   "execution_count": 66,
   "id": "f1eecd89-85eb-41d6-80d3-6fb0adf6ca9b",
   "metadata": {},
   "outputs": [
    {
     "data": {
      "text/plain": [
       "{'_id': ObjectId('6555048619e46de1de2d02f8'),\n",
       " 'year': '1969',\n",
       " 'category': 'economics',\n",
       " 'laureates': {'id': '677',\n",
       "  'firstname': 'Ragnar',\n",
       "  'surname': 'Frisch',\n",
       "  'motivation': '\"for having developed and applied dynamic models for the analysis of economic processes\"',\n",
       "  'share': '2'},\n",
       " 'laureate_bios': [{'_id': ObjectId('65550468d1fc86246b056f9b'),\n",
       "   'id': '677',\n",
       "   'firstname': 'Ragnar',\n",
       "   'surname': 'Frisch',\n",
       "   'born': '1895-03-03',\n",
       "   'died': '1973-01-31',\n",
       "   'bornCountry': 'Norway',\n",
       "   'bornCountryCode': 'NO',\n",
       "   'bornCity': 'Oslo',\n",
       "   'diedCountry': 'Norway',\n",
       "   'diedCountryCode': 'NO',\n",
       "   'diedCity': 'Oslo',\n",
       "   'gender': 'male',\n",
       "   'prizes': [{'year': '1969',\n",
       "     'category': 'economics',\n",
       "     'share': '2',\n",
       "     'motivation': '\"for having developed and applied dynamic models for the analysis of economic processes\"',\n",
       "     'affiliations': [{'name': 'University of Oslo',\n",
       "       'city': 'Oslo',\n",
       "       'country': 'Norway'}]}]}]}"
      ]
     },
     "execution_count": 66,
     "metadata": {},
     "output_type": "execute_result"
    }
   ],
   "source": [
    "pipeline = [\n",
    "{\"$match\": {\"category\": \"economics\"}},\n",
    "{\"$unwind\": \"$laureates\"},\n",
    "{\"$lookup\": {\"from\": \"laureates\", \"foreignField\": \"id\",\n",
    "\"localField\": \"laureates.id\", \"as\": \"laureate_bios\"}}\n",
    "]\n",
    "list(db.prizes.aggregate(pipeline))[0]"
   ]
  },
  {
   "cell_type": "markdown",
   "id": "a13c6fd8-5c54-410c-bc57-b15e101671f2",
   "metadata": {},
   "source": [
    "### Now, laureate_bios is protected by a list. Let's pass through it using unwind again "
   ]
  },
  {
   "cell_type": "code",
   "execution_count": 67,
   "id": "8811bf67-6905-41c4-b2e7-213c44b2d30d",
   "metadata": {},
   "outputs": [
    {
     "data": {
      "text/plain": [
       "{'_id': ObjectId('6555048619e46de1de2d02f8'),\n",
       " 'year': '1969',\n",
       " 'category': 'economics',\n",
       " 'laureates': {'id': '677',\n",
       "  'firstname': 'Ragnar',\n",
       "  'surname': 'Frisch',\n",
       "  'motivation': '\"for having developed and applied dynamic models for the analysis of economic processes\"',\n",
       "  'share': '2'},\n",
       " 'laureate_bios': {'_id': ObjectId('65550468d1fc86246b056f9b'),\n",
       "  'id': '677',\n",
       "  'firstname': 'Ragnar',\n",
       "  'surname': 'Frisch',\n",
       "  'born': '1895-03-03',\n",
       "  'died': '1973-01-31',\n",
       "  'bornCountry': 'Norway',\n",
       "  'bornCountryCode': 'NO',\n",
       "  'bornCity': 'Oslo',\n",
       "  'diedCountry': 'Norway',\n",
       "  'diedCountryCode': 'NO',\n",
       "  'diedCity': 'Oslo',\n",
       "  'gender': 'male',\n",
       "  'prizes': [{'year': '1969',\n",
       "    'category': 'economics',\n",
       "    'share': '2',\n",
       "    'motivation': '\"for having developed and applied dynamic models for the analysis of economic processes\"',\n",
       "    'affiliations': [{'name': 'University of Oslo',\n",
       "      'city': 'Oslo',\n",
       "      'country': 'Norway'}]}]}}"
      ]
     },
     "execution_count": 67,
     "metadata": {},
     "output_type": "execute_result"
    }
   ],
   "source": [
    "pipeline = [\n",
    "{\"$match\": {\"category\": \"economics\"}},\n",
    "{\"$unwind\": \"$laureates\"},\n",
    "{\"$lookup\": {\"from\": \"laureates\", \"foreignField\": \"id\",\n",
    "\"localField\": \"laureates.id\", \"as\": \"laureate_bios\"}},\n",
    "{\"$unwind\": \"$laureate_bios\"}\n",
    "]\n",
    "list(db.prizes.aggregate(pipeline))[0]"
   ]
  },
  {
   "cell_type": "markdown",
   "id": "e5802649-22e0-4fdd-a643-c209fa604d8a",
   "metadata": {},
   "source": [
    "### Finally, we group the needed information with a final group appending bornCountries with addToSet"
   ]
  },
  {
   "cell_type": "code",
   "execution_count": 68,
   "id": "bcfa3a6a-5cb1-478c-9180-e479e01cd446",
   "metadata": {},
   "outputs": [
    {
     "data": {
      "text/plain": [
       "[{'_id': None,\n",
       "  'bornCountries': ['the Netherlands',\n",
       "   'Russian Empire (now Belarus)',\n",
       "   'British Mandate of Palestine (now Israel)',\n",
       "   'India',\n",
       "   'Norway',\n",
       "   'Russian Empire (now Russia)',\n",
       "   'United Kingdom',\n",
       "   'Hungary',\n",
       "   'France',\n",
       "   'Canada',\n",
       "   'Germany',\n",
       "   'Cyprus',\n",
       "   'Sweden',\n",
       "   'Finland',\n",
       "   'Italy',\n",
       "   'Austria',\n",
       "   'Russia',\n",
       "   'British West Indies (now Saint Lucia)',\n",
       "   'Scotland',\n",
       "   'Germany (now Poland)',\n",
       "   'USA']}]"
      ]
     },
     "execution_count": 68,
     "metadata": {},
     "output_type": "execute_result"
    }
   ],
   "source": [
    "pipeline = [\n",
    "{\"$match\": {\"category\": \"economics\"}},\n",
    "{\"$unwind\": \"$laureates\"},\n",
    "{\"$lookup\": {\"from\": \"laureates\", \"foreignField\": \"id\",\n",
    "\"localField\": \"laureates.id\", \"as\": \"laureate_bios\"}},\n",
    "{\"$unwind\": \"$laureate_bios\"},\n",
    "{\"$group\": {\"_id\": None,\n",
    "\"bornCountries\":\n",
    "{\"$addToSet\": \"$laureate_bios.bornCountry\"}\n",
    "}},\n",
    "]\n",
    "list(db.prizes.aggregate(pipeline))"
   ]
  },
  {
   "cell_type": "markdown",
   "id": "8b362255-cf0a-4e7e-ba5b-502f946418f9",
   "metadata": {},
   "source": [
    "# Adding new fields with $addFields"
   ]
  },
  {
   "cell_type": "markdown",
   "id": "9e9a73a5-f986-4415-ad5f-df63534bf056",
   "metadata": {},
   "source": [
    "### Padronizing years without month and day"
   ]
  },
  {
   "cell_type": "code",
   "execution_count": 71,
   "id": "e544b8be-85b6-4b0d-af17-41691dbb2ea4",
   "metadata": {},
   "outputs": [
    {
     "name": "stdout",
     "output_type": "stream",
     "text": [
      "{'died': datetime.datetime(1984, 10, 14, 0, 0), 'born': datetime.datetime(1918, 9, 27, 0, 0)}\n"
     ]
    }
   ],
   "source": [
    "pipeline = [\n",
    "{\"$match\": {\"died\": {\"$gt\": \"1700\"}, \"born\": {\"$gt\": \"1700\"}}},\n",
    "{\"$addFields\": {\"bornArray\": {\"$split\": [\"$born\", \"-\"]},\n",
    "\"diedArray\": {\"$split\": [\"$died\", \"-\"]}}},\n",
    "{\"$addFields\": {\"born\": {\"$cond\": [\n",
    "{\"$in\": [\"00\", \"$bornArray\"]},\n",
    "{\"$concat\": [{\"$arrayElemAt\": [\"$bornArray\", 0]}, \"-01-01\"]},\n",
    "\"$born\"\n",
    "]}}},\n",
    "{\"$project\": {\"died\": {\"$dateFromString\": {\"dateString\": \"$died\"}},\n",
    "\"born\": {\"$dateFromString\": {\"dateString\": \"$born\"}},\n",
    "\"_id\": 0}}\n",
    "]\n",
    "docs = list(db.laureates.aggregate(pipeline))\n",
    "print(docs[0])"
   ]
  },
  {
   "cell_type": "markdown",
   "id": "f9053524-5c5b-47ef-9c5d-f028e3d2dd7d",
   "metadata": {},
   "source": [
    "## A $bucket list"
   ]
  },
  {
   "cell_type": "code",
   "execution_count": 76,
   "id": "fd4596fc-f644-4264-a6b3-579491a095ce",
   "metadata": {},
   "outputs": [
    {
     "name": "stdout",
     "output_type": "stream",
     "text": [
      "[{'_id': 30, 'count': 1}, {'_id': 40, 'count': 6}, {'_id': 50, 'count': 21}, {'_id': 60, 'count': 87}, {'_id': 70, 'count': 154}, {'_id': 80, 'count': 221}, {'_id': 90, 'count': 115}, {'_id': 100, 'count': 2}]\n"
     ]
    }
   ],
   "source": [
    "pipeline = [{\"$match\": {\"died\": {\"$gt\": \"1700\"}, \"born\": {\"$gt\": \"1700\"}}},\n",
    "{\"$addFields\": {\"bornArray\": {\"$split\": [\"$born\", \"-\"]},\n",
    "\"diedArray\": {\"$split\": [\"$died\", \"-\"]}}},\n",
    "{\"$addFields\": {\"born\": {\"$cond\": [\n",
    "{\"$in\": [\"00\", \"$bornArray\"]},\n",
    "{\"$concat\": [{\"$arrayElemAt\": [\"$bornArray\", 0]}, \"-01-01\"]},\n",
    "\"$born\"\n",
    "]}}},\n",
    "{\"$project\": {\"died\": {\"$dateFromString\": {\"dateString\": \"$died\"}},\n",
    "\"born\": {\"$dateFromString\": {\"dateString\": \"$born\"}}}},\n",
    "{\"$project\": {\"years\": {\"$floor\": {\"$divide\": [\n",
    "{\"$subtract\": [\"$died\", \"$born\"]},\n",
    "31557600000 # 1000 * 60 * 60 * 24 * 365.25\n",
    "]}}}},\n",
    "{\"$bucket\": {\"groupBy\": \"$years\",\n",
    "\"boundaries\": list(range(30, 120, 10))}}\n",
    "]\n",
    "docs = list(db.laureates.aggregate(pipeline))\n",
    "print(docs)"
   ]
  },
  {
   "cell_type": "markdown",
   "id": "e99700e6-88af-4220-aa86-7c80ab170ae2",
   "metadata": {},
   "source": [
    "# Exercise: do as above and decompose all the unexplained pipelines explaining what have just happened and reading the documentation when decomposing the pipeline"
   ]
  }
 ],
 "metadata": {
  "kernelspec": {
   "display_name": "Python 3 (ipykernel)",
   "language": "python",
   "name": "python3"
  },
  "language_info": {
   "codemirror_mode": {
    "name": "ipython",
    "version": 3
   },
   "file_extension": ".py",
   "mimetype": "text/x-python",
   "name": "python",
   "nbconvert_exporter": "python",
   "pygments_lexer": "ipython3",
   "version": "3.11.6"
  }
 },
 "nbformat": 4,
 "nbformat_minor": 5
}
