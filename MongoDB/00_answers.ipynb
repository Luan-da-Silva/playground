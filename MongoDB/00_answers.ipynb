{
 "cells": [
  {
   "cell_type": "code",
   "execution_count": 31,
   "id": "b05e159a-6167-4fc5-b3c3-66997064f6bd",
   "metadata": {},
   "outputs": [],
   "source": [
    "from pymongo import MongoClient\n",
    "from functools import reduce"
   ]
  },
  {
   "cell_type": "code",
   "execution_count": 2,
   "id": "93b062fa-274d-4875-baab-dbe1d0c13958",
   "metadata": {},
   "outputs": [
    {
     "data": {
      "text/plain": [
       "MongoClient(host=['localhost:27017'], document_class=dict, tz_aware=False, connect=True)"
      ]
     },
     "execution_count": 2,
     "metadata": {},
     "output_type": "execute_result"
    }
   ],
   "source": [
    "client = MongoClient(\"mongodb://localhost:27017\")\n",
    "client"
   ]
  },
  {
   "cell_type": "code",
   "execution_count": 4,
   "id": "e96c9dcf-d92e-403a-af72-b270ee86bc9a",
   "metadata": {},
   "outputs": [],
   "source": [
    "db = client.db_test"
   ]
  },
  {
   "cell_type": "markdown",
   "id": "d5868365-1278-43d6-8b69-8ebc1ac9307c",
   "metadata": {},
   "source": [
    "# 1) Laureates outnumber prizes"
   ]
  },
  {
   "cell_type": "code",
   "execution_count": 8,
   "id": "ff7eb7b4-ee41-4f3e-b8a6-9025a4c52009",
   "metadata": {},
   "outputs": [
    {
     "data": {
      "text/plain": [
       "(934, 590)"
      ]
     },
     "execution_count": 8,
     "metadata": {},
     "output_type": "execute_result"
    }
   ],
   "source": [
    "laureates_number = db.laureates.count_documents({})\n",
    "prizes_number = db.prizes.count_documents({})\n",
    "(laureates_number,prizes_number)\n",
    "# laureates>prizes"
   ]
  },
  {
   "cell_type": "markdown",
   "id": "fe59bde7-770f-46f5-8f61-86b2f7742471",
   "metadata": {},
   "source": [
    "# 2)"
   ]
  },
  {
   "cell_type": "code",
   "execution_count": 10,
   "id": "eaba28f9-94e0-48fd-b935-2f78969cb81a",
   "metadata": {},
   "outputs": [
    {
     "name": "stdout",
     "output_type": "stream",
     "text": [
      "['admin', 'config', 'db_test', 'local']\n",
      "['laureates', 'prizes']\n"
     ]
    }
   ],
   "source": [
    "# Save a list of names of the databases managed by client\n",
    "db_names = client.list_database_names()\n",
    "print(db_names)\n",
    "\n",
    "# Save a list of names of the collections managed by the \"nobel\" database\n",
    "nobel_coll_names = client.db_test.list_collection_names()\n",
    "print(nobel_coll_names)"
   ]
  },
  {
   "cell_type": "markdown",
   "id": "ffb3ae00-f9f7-49ac-817c-41261c2880a3",
   "metadata": {},
   "source": [
    "# 3)"
   ]
  },
  {
   "cell_type": "code",
   "execution_count": 44,
   "id": "be293c3f-d359-478e-8553-1ae0cf8eeae7",
   "metadata": {},
   "outputs": [],
   "source": [
    "# Retrieve sample prize and laureate documents\n",
    "prize = db.prizes.find_one()\n",
    "laureate = db.laureates.find_one()"
   ]
  },
  {
   "cell_type": "code",
   "execution_count": 46,
   "id": "6230f2b4-3d2a-471d-9ae3-d3db84183758",
   "metadata": {},
   "outputs": [],
   "source": [
    "# Get all fields present in each type of document\n",
    "\n",
    "def find_fields(doc):\n",
    "    fields = doc.keys()\n",
    "    all_fields = []\n",
    "    for field in fields:\n",
    "        if isinstance(doc.get(field),dict):\n",
    "            all_fields.append((field,doc.get(field)))\n",
    "        if isinstance(doc.get(field),list):\n",
    "            subfields = ([list(f.keys()) for f in doc.get(field)])\n",
    "            subfields = set(reduce(lambda a, b: a+b, subfields))\n",
    "            all_fields.append((field,subfields))\n",
    "        else:\n",
    "            all_fields.append(field)\n",
    "    return all_fields"
   ]
  },
  {
   "cell_type": "code",
   "execution_count": 47,
   "id": "353ed2d6-4588-4c82-92dc-4030deec83f5",
   "metadata": {},
   "outputs": [
    {
     "data": {
      "text/plain": [
       "['_id',\n",
       " 'year',\n",
       " 'category',\n",
       " ('laureates', {'firstname', 'id', 'motivation', 'share', 'surname'})]"
      ]
     },
     "execution_count": 47,
     "metadata": {},
     "output_type": "execute_result"
    }
   ],
   "source": [
    "find_fields(prize)"
   ]
  },
  {
   "cell_type": "code",
   "execution_count": 48,
   "id": "f9b2e253-23aa-469f-8edf-73f549d73f37",
   "metadata": {},
   "outputs": [
    {
     "data": {
      "text/plain": [
       "['_id',\n",
       " 'id',\n",
       " 'firstname',\n",
       " 'surname',\n",
       " 'born',\n",
       " 'died',\n",
       " 'bornCountry',\n",
       " 'bornCountryCode',\n",
       " 'bornCity',\n",
       " 'gender',\n",
       " ('prizes', {'affiliations', 'category', 'motivation', 'share', 'year'})]"
      ]
     },
     "execution_count": 48,
     "metadata": {},
     "output_type": "execute_result"
    }
   ],
   "source": [
    "find_fields(laureate)"
   ]
  },
  {
   "cell_type": "markdown",
   "id": "bef6f941-26a1-4d04-8b80-f39c6e4bb3be",
   "metadata": {},
   "source": [
    "# 4)"
   ]
  },
  {
   "cell_type": "code",
   "execution_count": 52,
   "id": "db16e3e2-1915-45b0-bf92-d8cc3fe0dee1",
   "metadata": {},
   "outputs": [
    {
     "data": {
      "text/plain": [
       "(38, 38)"
      ]
     },
     "execution_count": 52,
     "metadata": {},
     "output_type": "execute_result"
    }
   ],
   "source": [
    "before_1800 = db.laureates.count_documents({\"born\": {\"$lt\": \"1800\"}})\n",
    "before_1700 = db.laureates.count_documents({\"born\": {\"$lt\": \"1700\"}})\n",
    "(before_1800,before_1700)"
   ]
  },
  {
   "cell_type": "markdown",
   "id": "1c0d5721-ac6b-4927-8905-789fbca5d0cb",
   "metadata": {},
   "source": [
    "# 5)"
   ]
  },
  {
   "cell_type": "code",
   "execution_count": 54,
   "id": "4ba505c5-e1f7-4aa9-aabc-c950acac8835",
   "metadata": {},
   "outputs": [],
   "source": [
    "criteria1 = {'bornCountry': 'Germany'}\n",
    "criteria2 = {'bornCountry': 'Germany', \n",
    "            'diedCountry': 'USA'}\n",
    "criteria3 = {'bornCountry': 'Germany', \n",
    "            'diedCountry': 'USA', \n",
    "            'firstname': 'Albert'}\n",
    "criteria_list = [criteria1,criteria2,criteria3]"
   ]
  },
  {
   "cell_type": "code",
   "execution_count": 55,
   "id": "3539dc9c-f1d4-4b1a-82db-fb5455c1722f",
   "metadata": {},
   "outputs": [
    {
     "data": {
      "text/plain": [
       "[63, 5, 1]"
      ]
     },
     "execution_count": 55,
     "metadata": {},
     "output_type": "execute_result"
    }
   ],
   "source": [
    "[db.laureates.count_documents(criteria) for criteria in criteria_list]"
   ]
  },
  {
   "cell_type": "markdown",
   "id": "2d1ae29a-acaa-4a29-b7ae-9729d9ed6fb3",
   "metadata": {},
   "source": [
    "# 6)"
   ]
  },
  {
   "cell_type": "code",
   "execution_count": 56,
   "id": "39f0fcf0-1a4d-428f-a87c-0033b86cd48a",
   "metadata": {},
   "outputs": [
    {
     "name": "stdout",
     "output_type": "stream",
     "text": [
      "291\n"
     ]
    }
   ],
   "source": [
    "# Save a filter for laureates born in the USA, Canada, or Mexico\n",
    "criteria = { 'bornCountry': \n",
    "                { \"$in\": ['USA','Canada','Mexico']}\n",
    "             }\n",
    "\n",
    "# Count them and save the count\n",
    "count = db.laureates.count_documents(criteria)\n",
    "print(count)"
   ]
  },
  {
   "cell_type": "code",
   "execution_count": 57,
   "id": "9a68095c-3d07-4450-af9a-d9b9017726e2",
   "metadata": {},
   "outputs": [
    {
     "name": "stdout",
     "output_type": "stream",
     "text": [
      "69\n"
     ]
    }
   ],
   "source": [
    "# Save a filter for laureates who died in the USA and were not born there\n",
    "criteria = { 'diedCountry': 'USA',\n",
    "               'bornCountry': { \"$ne\": 'USA'}, \n",
    "             }\n",
    "\n",
    "# Count them\n",
    "count = db.laureates.count_documents(criteria)\n",
    "print(count)"
   ]
  },
  {
   "cell_type": "markdown",
   "id": "cf532ab7-cfa3-4ea1-8fe7-1bf179d61710",
   "metadata": {},
   "source": [
    "# 7) dot notation and the $ne operator"
   ]
  },
  {
   "cell_type": "markdown",
   "id": "44b971be-5960-4250-82c0-de2020d07875",
   "metadata": {},
   "source": [
    "# 8) "
   ]
  },
  {
   "cell_type": "code",
   "execution_count": 58,
   "id": "85fd9d24-4477-4a18-afd1-5b72833f06de",
   "metadata": {},
   "outputs": [
    {
     "name": "stdout",
     "output_type": "stream",
     "text": [
      "10\n"
     ]
    }
   ],
   "source": [
    "# Filter for laureates born in Austria with non-Austria prize affiliation\n",
    "criteria = {'bornCountry': 'Austria', \n",
    "              'prizes.affiliations.country': {\"$ne\": 'Austria'}}\n",
    "\n",
    "# Count the number of such laureates\n",
    "count = db.laureates.count_documents(criteria)\n",
    "print(count)"
   ]
  },
  {
   "cell_type": "markdown",
   "id": "f7f35e4a-98a1-41a1-9946-a52c4872bb32",
   "metadata": {},
   "source": [
    "# 9)"
   ]
  },
  {
   "cell_type": "code",
   "execution_count": 61,
   "id": "6e7abbb7-1b6f-494e-8147-a4b2b0180d03",
   "metadata": {},
   "outputs": [
    {
     "data": {
      "text/plain": [
       "0"
      ]
     },
     "execution_count": 61,
     "metadata": {},
     "output_type": "execute_result"
    }
   ],
   "source": [
    "criteria = {'born':{'$exists':False}}\n",
    "db.laureates.count_documents(criteria)"
   ]
  },
  {
   "cell_type": "code",
   "execution_count": 59,
   "id": "5f0fa7ea-5741-458c-82f9-7aace3c95ce2",
   "metadata": {},
   "outputs": [
    {
     "name": "stdout",
     "output_type": "stream",
     "text": [
      "{'_id': ObjectId('65550468d1fc86246b056ee7'), 'id': '482', 'firstname': 'Comité international de la Croix Rouge (International Committee of the Red Cross)', 'born': '0000-00-00', 'died': '0000-00-00', 'gender': 'org', 'prizes': [{'year': '1917', 'category': 'peace', 'share': '1', 'affiliations': [[]]}, {'year': '1944', 'category': 'peace', 'share': '1', 'affiliations': [[]]}, {'year': '1963', 'category': 'peace', 'share': '2', 'affiliations': [[]]}]}\n"
     ]
    }
   ],
   "source": [
    "# Filter for laureates with at least three prizes\n",
    "criteria = {\"prizes.2\": {'$exists': True}}\n",
    "\n",
    "# Find one laureate with at least three prizes\n",
    "doc = db.laureates.find_one(criteria)\n",
    "\n",
    "# Print the document\n",
    "print(doc)"
   ]
  }
 ],
 "metadata": {
  "kernelspec": {
   "display_name": "Python 3 (ipykernel)",
   "language": "python",
   "name": "python3"
  },
  "language_info": {
   "codemirror_mode": {
    "name": "ipython",
    "version": 3
   },
   "file_extension": ".py",
   "mimetype": "text/x-python",
   "name": "python",
   "nbconvert_exporter": "python",
   "pygments_lexer": "ipython3",
   "version": "3.11.6"
  }
 },
 "nbformat": 4,
 "nbformat_minor": 5
}
