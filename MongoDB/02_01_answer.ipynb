{
 "cells": [
  {
   "cell_type": "code",
   "execution_count": 24,
   "id": "40647697-a58f-44b1-a358-5a30c7ed7707",
   "metadata": {},
   "outputs": [],
   "source": [
    "from pymongo import MongoClient\n",
    "from bson.regex import Regex"
   ]
  },
  {
   "cell_type": "code",
   "execution_count": 2,
   "id": "ffdecccf-6e54-47ff-8012-9bd36632855d",
   "metadata": {},
   "outputs": [
    {
     "data": {
      "text/plain": [
       "MongoClient(host=['localhost:27017'], document_class=dict, tz_aware=False, connect=True)"
      ]
     },
     "execution_count": 2,
     "metadata": {},
     "output_type": "execute_result"
    }
   ],
   "source": [
    "client = MongoClient(\"mongodb://localhost:27017\")\n",
    "client"
   ]
  },
  {
   "cell_type": "code",
   "execution_count": 3,
   "id": "a2e6c3ca-26b4-4d75-b775-680a7f552c8f",
   "metadata": {},
   "outputs": [],
   "source": [
    "db = client.db_test"
   ]
  },
  {
   "cell_type": "markdown",
   "id": "b3f3a53c-5c1f-403d-bab1-893d58467274",
   "metadata": {},
   "source": [
    "# Answers"
   ]
  },
  {
   "cell_type": "markdown",
   "id": "32442f8f-4945-419a-a95f-17af4541dcaa",
   "metadata": {},
   "source": [
    "# Question 1"
   ]
  },
  {
   "cell_type": "code",
   "execution_count": 11,
   "id": "05474181-abaf-4260-b9ee-60811747abd3",
   "metadata": {},
   "outputs": [],
   "source": [
    "# Not necessarily the lists will be equally ordered. Then, use sets.\n",
    "assert set(db.prizes.distinct(\"category\")) == set(db.laureates.distinct(\"prizes.category\"))"
   ]
  },
  {
   "cell_type": "markdown",
   "id": "987f0a1f-e24e-4ae9-ada0-cd2acae50a3f",
   "metadata": {},
   "source": [
    "# Question 2"
   ]
  },
  {
   "cell_type": "code",
   "execution_count": 13,
   "id": "72bed3a1-8e01-49c0-8d77-d419786fe673",
   "metadata": {},
   "outputs": [
    {
     "name": "stdout",
     "output_type": "stream",
     "text": [
      "{'Israel', 'Barbados', 'Greece', 'USSR', 'Northern Rhodesia (now Zambia)', 'Philippines', 'Tunisia', 'East Germany', 'Czechoslovakia', 'Gabon', 'Jamaica', 'Puerto Rico', 'Yugoslavia (now Serbia)'}\n"
     ]
    }
   ],
   "source": [
    "countries = set(db.laureates.distinct('diedCountry')) - set(db.laureates.distinct('bornCountry'))\n",
    "print(countries)"
   ]
  },
  {
   "cell_type": "markdown",
   "id": "f2b314f2-0e0c-44e2-8858-d9d7505f91a9",
   "metadata": {},
   "source": [
    "# Question 3"
   ]
  },
  {
   "cell_type": "code",
   "execution_count": 14,
   "id": "f1f357f5-c7e1-4b8b-bed0-3ae991455490",
   "metadata": {},
   "outputs": [
    {
     "name": "stdout",
     "output_type": "stream",
     "text": [
      "29\n"
     ]
    }
   ],
   "source": [
    "# The number of distinct countries of laureate affiliation for prizes\n",
    "count = len(db.laureates.distinct('prizes.affiliations.country'))\n",
    "print(count)"
   ]
  },
  {
   "cell_type": "markdown",
   "id": "36d7c4e0-fcb5-417f-aea6-1deeb0f41f95",
   "metadata": {},
   "source": [
    "# Question 4"
   ]
  },
  {
   "cell_type": "code",
   "execution_count": 17,
   "id": "043d7e96-2748-4d36-8d3a-d90ab3e0cc44",
   "metadata": {},
   "outputs": [
    {
     "data": {
      "text/plain": [
       "['Australia', 'Denmark', 'USA', 'United Kingdom']"
      ]
     },
     "execution_count": 17,
     "metadata": {},
     "output_type": "execute_result"
    }
   ],
   "source": [
    "db.laureates.distinct(\"prizes.affiliations.country\",{'bornCountry':'USA'})"
   ]
  },
  {
   "cell_type": "markdown",
   "id": "a86956fd-bf05-457a-a90f-fe0a3bc35f8d",
   "metadata": {},
   "source": [
    "# Question 5"
   ]
  },
  {
   "cell_type": "code",
   "execution_count": 18,
   "id": "e59f5aba-f7f1-4c95-8ac1-a2aa5bf13ba2",
   "metadata": {},
   "outputs": [],
   "source": [
    "# Save a filter for prize documents with three or more laureates\n",
    "criteria = {'laureates.2': {\"$exists\": True}}\n",
    "\n",
    "# Save the set of distinct prize categories in documents satisfying the criteria\n",
    "triple_play_categories = set(db.prizes.distinct('category', criteria))\n",
    "\n",
    "# Confirm literature as the only category not satisfying the criteria.\n",
    "assert set(db.prizes.distinct('category')) - triple_play_categories == {'literature'}"
   ]
  },
  {
   "cell_type": "markdown",
   "id": "99ab9310-de5e-4de4-b128-8ad8c7ab883e",
   "metadata": {},
   "source": [
    "# Question 6"
   ]
  },
  {
   "cell_type": "code",
   "execution_count": 20,
   "id": "1e82d6e8-8ec5-4d1f-9aec-5c0f20073380",
   "metadata": {},
   "outputs": [
    {
     "name": "stdout",
     "output_type": "stream",
     "text": [
      "0.1258741258741259\n"
     ]
    }
   ],
   "source": [
    "filter1 = {\n",
    "            \"prizes\": {\"$elemMatch\": \n",
    "                          {\"category\": \"physics\",\n",
    "                           \"share\": \"1\",\n",
    "                           \"year\": {\"$gte\": \"1945\"}\n",
    "                          }\n",
    "                      }\n",
    "          }\n",
    "\n",
    "filter2 = {\n",
    "            \"prizes\": {\"$elemMatch\": \n",
    "                          {\"category\": \"physics\",\n",
    "                           \"share\": {\"$ne\":\"1\"},\n",
    "                           \"year\": {\"$gte\": \"1945\"}\n",
    "                          }\n",
    "                      }\n",
    "          }\n",
    "single_prize = db.laureates.count_documents(filter1)\n",
    "multiple_prize = db.laureates.count_documents(filter2)\n",
    "ratio = single_prize/multiple_prize\n",
    "print(ratio)"
   ]
  },
  {
   "cell_type": "markdown",
   "id": "5a1aa870-08fb-4c62-a44d-7dc848bee128",
   "metadata": {},
   "source": [
    "# Question 7"
   ]
  },
  {
   "cell_type": "code",
   "execution_count": 21,
   "id": "41e48bc2-a5eb-4298-b513-76f96680762e",
   "metadata": {},
   "outputs": [
    {
     "name": "stdout",
     "output_type": "stream",
     "text": [
      "1.3653846153846154\n"
     ]
    }
   ],
   "source": [
    "# Save a filter for laureates with unshared prizes\n",
    "unshared = {\n",
    "    \"prizes\": {'$elemMatch': {\n",
    "        'category': {'$nin': [\"physics\", \"chemistry\", \"medicine\"]},\n",
    "        \"share\": \"1\",\n",
    "        \"year\": {'$gte': \"1945\"},\n",
    "    }}}\n",
    "\n",
    "# Save a filter for laureates with shared prizes\n",
    "shared = {\n",
    "    \"prizes\": {'$elemMatch': {\n",
    "        'category': {'$nin': [\"physics\", \"chemistry\", \"medicine\"]},\n",
    "        \"share\": {'$ne': \"1\"},\n",
    "        \"year\": {'$gte': \"1945\"},\n",
    "    }}}\n",
    "\n",
    "ratio = db.laureates.count_documents(unshared) / db.laureates.count_documents(shared)\n",
    "print(ratio)"
   ]
  },
  {
   "cell_type": "markdown",
   "id": "b600a7a4-ee49-4d87-bcf5-3c0b372f6a9f",
   "metadata": {},
   "source": [
    "# Question 8"
   ]
  },
  {
   "cell_type": "code",
   "execution_count": 22,
   "id": "8bb27091-2221-42a5-ab9f-dbb1454de7a0",
   "metadata": {},
   "outputs": [
    {
     "name": "stdout",
     "output_type": "stream",
     "text": [
      "0.84\n"
     ]
    }
   ],
   "source": [
    "# Save a filter for organization laureates with prizes won before 1945\n",
    "before = {\n",
    "    'gender': 'org',\n",
    "    'prizes.year': {'$lt': \"1945\"},\n",
    "    }\n",
    "\n",
    "# Save a filter for organization laureates with prizes won in or after 1945\n",
    "in_or_after = {\n",
    "    'gender': 'org',\n",
    "    'prizes.year': {'$gte': \"1945\"},\n",
    "    }\n",
    "\n",
    "n_before = db.laureates.count_documents(before)\n",
    "n_in_or_after = db.laureates.count_documents(in_or_after)\n",
    "ratio = n_in_or_after / (n_in_or_after + n_before)\n",
    "print(ratio)"
   ]
  },
  {
   "cell_type": "markdown",
   "id": "7ebdae4a-4549-4ec3-9d67-dd720e6e3710",
   "metadata": {},
   "source": [
    "# Question 9"
   ]
  },
  {
   "cell_type": "code",
   "execution_count": 26,
   "id": "9814d291-370e-42fc-a11f-085bc650bbcb",
   "metadata": {},
   "outputs": [
    {
     "data": {
      "text/plain": [
       "9"
      ]
     },
     "execution_count": 26,
     "metadata": {},
     "output_type": "execute_result"
    }
   ],
   "source": [
    "db.laureates.count_documents({\"firstname\": Regex(\"^G\"), \"surname\": Regex(\"^S\")})"
   ]
  },
  {
   "cell_type": "markdown",
   "id": "1ccb8b86-f548-43b1-8592-0bcad005e2eb",
   "metadata": {},
   "source": [
    "# Question 10"
   ]
  },
  {
   "cell_type": "code",
   "execution_count": 27,
   "id": "93387773-702e-4143-9161-de2148a5d21f",
   "metadata": {},
   "outputs": [
    {
     "name": "stdout",
     "output_type": "stream",
     "text": [
      "{'Germany (now Russia)', 'West Germany (now Germany)', 'Germany', 'Prussia (now Germany)', 'Bavaria (now Germany)', 'Schleswig (now Germany)', 'W&uuml;rttemberg (now Germany)', 'Germany (now Poland)', 'Germany (now France)', 'Mecklenburg (now Germany)', 'East Friesland (now Germany)', 'Hesse-Kassel (now Germany)'}\n"
     ]
    }
   ],
   "source": [
    "# Filter for laureates with \"Germany\" in their \"bornCountry\" value\n",
    "criteria = {\"bornCountry\": Regex(\"Germany\")}\n",
    "print(set(db.laureates.distinct(\"bornCountry\", criteria)))"
   ]
  },
  {
   "cell_type": "markdown",
   "id": "ce0b1570-b2f6-4259-ab28-010affd4e6d3",
   "metadata": {},
   "source": [
    "# Question 11"
   ]
  },
  {
   "cell_type": "code",
   "execution_count": 28,
   "id": "a7709c01-2ea8-4216-ab1b-a612a31ff070",
   "metadata": {},
   "outputs": [
    {
     "name": "stdout",
     "output_type": "stream",
     "text": [
      "[('William Bradford', 'Shockley'), ('John', 'Bardeen'), ('Walter Houser', 'Brattain')]\n"
     ]
    }
   ],
   "source": [
    "# Save a filter for laureates with prize motivation values containing \"transistor\" as a substring\n",
    "criteria = {'prizes.motivation': Regex('transistor')}\n",
    "\n",
    "# Save the field names corresponding to a laureate's first name and last name\n",
    "first, last = 'firstname', 'surname'\n",
    "print([(laureate[first], laureate[last]) for laureate in db.laureates.find(criteria)])"
   ]
  }
 ],
 "metadata": {
  "kernelspec": {
   "display_name": "Python 3 (ipykernel)",
   "language": "python",
   "name": "python3"
  },
  "language_info": {
   "codemirror_mode": {
    "name": "ipython",
    "version": 3
   },
   "file_extension": ".py",
   "mimetype": "text/x-python",
   "name": "python",
   "nbconvert_exporter": "python",
   "pygments_lexer": "ipython3",
   "version": "3.11.6"
  }
 },
 "nbformat": 4,
 "nbformat_minor": 5
}
